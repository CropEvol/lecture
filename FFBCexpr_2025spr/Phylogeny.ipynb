{
  "nbformat": 4,
  "nbformat_minor": 0,
  "metadata": {
    "colab": {
      "provenance": []
    },
    "kernelspec": {
      "name": "python3",
      "display_name": "Python 3"
    },
    "language_info": {
      "name": "python"
    }
  },
  "cells": [
    {
      "cell_type": "markdown",
      "source": [
        "## 解析ソフトウェアのインストール"
      ],
      "metadata": {
        "id": "yj4cUeQgCXPd"
      }
    },
    {
      "cell_type": "code",
      "execution_count": null,
      "metadata": {
        "id": "kJEp22nw1cBn"
      },
      "outputs": [],
      "source": [
        "%%bash\n",
        "## アライメントソフトウェア Muscle\n",
        "mkdir -p tools && cd tools\n",
        "wget -O muscle3.8.31_i86linux64.tar.gz https://drive5.com/muscle/downloads3.8.31/muscle3.8.31_i86linux64.tar.gz\n",
        "tar -xzf muscle3.8.31_i86linux64.tar.gz\n",
        "ln -sf /content/tools/muscle3.8.31_i86linux64 /usr/bin/\n",
        "mv /usr/bin/muscle3.8.31_i86linux64 /usr/bin/muscle"
      ]
    },
    {
      "cell_type": "code",
      "source": [
        "%%bash\n",
        "## 配列整形ソフトウェア Gblocks\n",
        "mkdir -p tools && cd tools\n",
        "wget -O Gblocks_Linux64_0.91b.tar.Z https://www.biologiaevolutiva.org/jcastresana/Gblocks/Gblocks_Linux64_0.91b.tar.Z\n",
        "tar -xzf Gblocks_Linux64_0.91b.tar.Z\n",
        "ln -sf /content/tools/Gblocks_0.91b/Gblocks /usr/bin/\n",
        "\n",
        "git clone https://github.com/jvollme/fasta2phylip.git\n",
        "pip install biopython"
      ],
      "metadata": {
        "id": "yt3FQdQh2XS1"
      },
      "execution_count": null,
      "outputs": []
    },
    {
      "cell_type": "code",
      "source": [
        "%%bash\n",
        "## 系統解析ソフトウェア PhyML\n",
        "mkdir -p tools && cd tools\n",
        "FILE_ID=\"1CVAmdbY2U8kmNExFTMe8Eby1fhOuxFqA\";\n",
        "FILE_NAME=\"phyml.tar.gz\"\n",
        "gdown https://drive.google.com/uc?id=$FILE_ID --no-cookies -O $FILE_NAME\n",
        "tar -zxf $FILE_NAME\n",
        "rm -f $FILE_NAME\n",
        "ln -sf /content/tools/phyml/src/phyml /usr/bin/"
      ],
      "metadata": {
        "id": "toVkNUPf3_3O"
      },
      "execution_count": null,
      "outputs": []
    },
    {
      "cell_type": "markdown",
      "source": [
        "## インプットデータ用ファイルの作成"
      ],
      "metadata": {
        "id": "LJk8pcvPVd54"
      }
    },
    {
      "cell_type": "code",
      "source": [
        "!cat /dev/null > dataset.fasta"
      ],
      "metadata": {
        "id": "-YiKMfLzEX7h"
      },
      "execution_count": null,
      "outputs": []
    },
    {
      "cell_type": "markdown",
      "source": [
        "## 系統解析STEP1：アライメント"
      ],
      "metadata": {
        "id": "JoPJyiU0DDxy"
      }
    },
    {
      "cell_type": "markdown",
      "source": [
        "集めた塩基配列をdataset.fastaにコピー＆ペーストして、下記コードを実行してください。"
      ],
      "metadata": {
        "id": "kTI_APskg-uC"
      }
    },
    {
      "cell_type": "code",
      "source": [
        "!muscle -in dataset.fasta > aligned.fasta"
      ],
      "metadata": {
        "id": "gTkN4yQrBvfe"
      },
      "execution_count": null,
      "outputs": []
    },
    {
      "cell_type": "markdown",
      "source": [
        "## 系統解析STEP2：配列の整形"
      ],
      "metadata": {
        "id": "VKiYWs1aFMCY"
      }
    },
    {
      "cell_type": "markdown",
      "source": [
        "STEP1完了後、下記コードを実行してください。"
      ],
      "metadata": {
        "id": "sQd7vnh4hQhg"
      }
    },
    {
      "cell_type": "code",
      "source": [
        "!Gblocks aligned.fasta -t=d -b5=n -e=-gb\n",
        "!python tools/fasta2phylip/fasta2phylip.py -i aligned.fasta-gb"
      ],
      "metadata": {
        "id": "3kCtYRlOEqEc"
      },
      "execution_count": null,
      "outputs": []
    },
    {
      "cell_type": "markdown",
      "source": [
        "## 系統解析STEP3；系統樹の作成"
      ],
      "metadata": {
        "id": "x9GSnwfgPkCE"
      }
    },
    {
      "cell_type": "markdown",
      "source": [
        "STEP2完了後、下記コードを実行してください。\n",
        "「aligned.fasta-gb_phyml_tree.txt」が出力された系統樹ファイルです。"
      ],
      "metadata": {
        "id": "zSJQkQtbhWC2"
      }
    },
    {
      "cell_type": "code",
      "source": [
        "!phyml -i aligned.fasta-gb.phylip"
      ],
      "metadata": {
        "id": "fQ-Y3qCVGkYY"
      },
      "execution_count": null,
      "outputs": []
    },
    {
      "cell_type": "markdown",
      "source": [
        "## 系統樹の描画"
      ],
      "metadata": {
        "id": "fu6oVkAJhiLN"
      }
    },
    {
      "cell_type": "markdown",
      "source": [
        "iTOL（Interactive Tree Of Life）で系統樹を描画できます。\n",
        "\n",
        "iTOLの入力フォーム（ https://itol.embl.de/upload.cgi ）にaligned.fasta-gb_phyml_tree.txtを与えて、アップロードしてください。"
      ],
      "metadata": {
        "id": "WbcLd2kEhlQ4"
      }
    }
  ]
}