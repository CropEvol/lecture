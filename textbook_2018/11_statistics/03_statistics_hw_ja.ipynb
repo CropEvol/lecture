{
 "cells": [
  {
   "cell_type": "raw",
   "metadata": {},
   "source": [
    "学籍番号:\n",
    "氏名:"
   ]
  },
  {
   "cell_type": "markdown",
   "metadata": {},
   "source": [
    "# 統計解析 (3)　課題"
   ]
  },
  {
   "cell_type": "markdown",
   "metadata": {},
   "source": [
    "---\n",
    "## Exercise 1.1\n",
    "__下に示すデータはある野菜100個体の収穫量・20箇所の遺伝子の場所に位置する塩基のデータである。<br>__\n",
    "__このデータを読み込み、遺伝子情報から収穫量を予測するモデル式を作りたい。<br>__\n",
    "\n",
    "__まずは、作ったモデル式が予測に有効かどうか確認出来るように、データをモデルを作る為のTraining Setと予測能力の確認用のTest Setに分けよう。__"
   ]
  },
  {
   "cell_type": "code",
   "execution_count": null,
   "metadata": {},
   "outputs": [],
   "source": [
    "import pandas as pd\n",
    "import matplotlib.pyplot as plt\n",
    "from sklearn.model_selection import train_test_split\n",
    "\n",
    "data = pd.read_csv(\"https://github.com/CropEvol/lecture/blob/master/textbook_2018/11_statistics/data/data.csv?raw=true\", index_col=0)\n",
    "data.head()\n",
    "\n",
    "#--- 以下にプログラムを追記してください ---\n",
    "convert_data = pd.get_dummies(data, drop_first=True)\n",
    "\n",
    "X = convert_data.iloc[:, 1:]\n",
    "Y = convert_data.loc[:, \"CropYield\"]\n",
    "\n",
    "X_train, X_test, y_train, y_test = \n"
   ]
  },
  {
   "cell_type": "markdown",
   "metadata": {},
   "source": [
    "---\n",
    "## Exercise 1.2\n",
    "__次に、sklearnライブラリを用いて、Training Dataから重回帰分析を用いてモデルを作ってみよう。<br>__\n",
    "__また、作ったモデルにおける、Training Dataでの決定係数、Test Dataでの決定係数を求めよう。__"
   ]
  },
  {
   "cell_type": "code",
   "execution_count": null,
   "metadata": {},
   "outputs": [],
   "source": [
    "from sklearn import linear_model\n",
    "\n",
    "# モデル選択\n",
    "clf = \n",
    "\n",
    "# Training Dataから予測モデルを作成\n",
    "clf.fit( , )\n",
    "\n",
    "# 偏回帰係数\n",
    "print(clf.coef_)\n",
    "\n",
    "# Training Dataの決定係数\n",
    "print()\n",
    "\n",
    "# Test Dataでの決定係数\n",
    "print()\n",
    "\n",
    "\n",
    "\n",
    "###### (参考)Test Dataにおける実測値と予測値の比較\n",
    "\n",
    "# predict_value = clf.predict(X_test)\n",
    "\n",
    "# plt.plot(range(len(y_test)), y_test, color=\"b\")\n",
    "# plt.plot(range(len(y_test)), predict_value, color=\"r\")\n",
    "\n",
    "# plt.title(\"Measured value vs Prediction\")\n",
    "# plt.xlabel(\"n\")\n",
    "# plt.ylabel(\"Sepal Width\")\n",
    "# plt.show()"
   ]
  },
  {
   "cell_type": "markdown",
   "metadata": {},
   "source": [
    "---\n",
    "## Exercise 1.3\n",
    "__重回帰分析よりも、より予測精度の優れたモデルを作りたい。<br>__\n",
    "__重回帰分析以外の手法を用いてモデルを作ってみよう。(講義で扱っていない手法でも可)<br>__\n",
    "__その際、Test Dataでの決定係数を大きくすることを目標に。__"
   ]
  },
  {
   "cell_type": "code",
   "execution_count": null,
   "metadata": {
    "collapsed": true
   },
   "outputs": [],
   "source": [
    "from sklearn import linear_model\n",
    "\n",
    "# モデル選択\n",
    "clf = \n",
    "\n",
    "# Training Dataから予測モデルを作成\n",
    "clf.fit( , )\n",
    "\n",
    "# 偏回帰係数\n",
    "print(clf.coef_)\n",
    "\n",
    "# Training Dataの決定係数\n",
    "print()\n",
    "\n",
    "# Test Dataでの決定係数\n",
    "print()\n",
    "\n",
    "\n",
    "\n",
    "# (参考)\n",
    "# Test Dataにおける実測値と予測値の比較\n",
    "# predict_value = clf.predict(X_test)\n",
    "\n",
    "# plt.plot(range(len(y_test)), y_test, color=\"b\")\n",
    "# plt.plot(range(len(y_test)), predict_value, color=\"r\")\n",
    "\n",
    "# plt.title(\"Measured value vs Prediction\")\n",
    "# plt.xlabel(\"n\")\n",
    "# plt.ylabel(\"Sepal Width\")\n",
    "# plt.show()"
   ]
  },
  {
   "cell_type": "markdown",
   "metadata": {},
   "source": [
    "---\n",
    "\n",
    "## 質問・要望\n",
    "質問や要望があれば、メール本文か下のセルに書いてください。"
   ]
  },
  {
   "cell_type": "raw",
   "metadata": {},
   "source": []
  },
  {
   "cell_type": "markdown",
   "metadata": {},
   "source": [
    "\n",
    "## 課題の提出について\n",
    "\n",
    "今回の課題番号：`11`\n",
    "\n",
    "提出方法：\n",
    "1. 課題終了後のノートブックファイルをダウンロードする\n",
    "1. そのファイルをメールに添付して、下記アドレスに送信する  \n",
    "\n",
    "    __＊重要＊　  \n",
    "    メールの件名を `HW[課題番号2桁]+SID[学籍番号(4桁-2桁-４桁)]`（すべて半角英数） にしてください。__  \n",
    "    \n",
    "    例） HW11+SID1234-56-7890\n",
    "    \n",
    "\n",
    "提出先: cropevol@gmail.com\n",
    "\n",
    "提出期限: 2019年1月07日（月） 17:00まで\n",
    "\n"
   ]
  },
  {
   "cell_type": "code",
   "execution_count": null,
   "metadata": {
    "collapsed": true
   },
   "outputs": [],
   "source": []
  }
 ],
 "metadata": {
  "kernelspec": {
   "display_name": "Python 3",
   "language": "python",
   "name": "python3"
  },
  "language_info": {
   "codemirror_mode": {
    "name": "ipython",
    "version": 3
   },
   "file_extension": ".py",
   "mimetype": "text/x-python",
   "name": "python",
   "nbconvert_exporter": "python",
   "pygments_lexer": "ipython3",
   "version": "3.6.5"
  }
 },
 "nbformat": 4,
 "nbformat_minor": 2
}
