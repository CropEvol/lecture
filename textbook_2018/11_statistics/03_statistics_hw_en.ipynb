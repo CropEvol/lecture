{
 "cells": [
  {
   "cell_type": "raw",
   "metadata": {},
   "source": [
    "学籍番号:\n",
    "氏名:"
   ]
  },
  {
   "cell_type": "markdown",
   "metadata": {},
   "source": [
    "# Statistical Analysis (3)　Homework"
   ]
  },
  {
   "cell_type": "markdown",
   "metadata": {},
   "source": [
    "---\n",
    "## Exercise 1.1\n",
    "__Data Set contains CropYield & 20 base information of 100 samples of vegetable.<br>__\n",
    "__Try to load this dataset, and Try to make prediction model that predict crop yield from base information.<br>__\n",
    "\n",
    "__First, to check the prediction accuracy of model, Split Dataset into Training Data & Test Data.<br>__\n",
    "__(Training Data: to make model, Test Data: to check prediction accuracy)__"
   ]
  },
  {
   "cell_type": "code",
   "execution_count": null,
   "metadata": {
    "collapsed": true
   },
   "outputs": [],
   "source": [
    "import pandas as pd\n",
    "import matplotlib.pyplot as plt\n",
    "from sklearn.model_selection import train_test_split\n",
    "\n",
    "data = pd.read_csv(\"https://github.com/CropEvol/lecture/blob/master/textbook_2018/11_statistics/data/data.csv?raw=true\", index_col=0)\n",
    "data.head()\n",
    "\n",
    "#--- write code below ---\n",
    "convert_data = pd.get_dummies(data, drop_first=True)\n",
    "\n",
    "X = convert_data.iloc[:, 1:]\n",
    "Y = convert_data.loc[:, \"CropYield\"]\n",
    "\n",
    "X_train, X_test, y_train, y_test = \n"
   ]
  },
  {
   "cell_type": "markdown",
   "metadata": {},
   "source": [
    "---\n",
    "## Exercise 1.2\n",
    "__Next、using sklearn library, Try to make regression model from Training Data.<br>__\n",
    "__And, try to check Coefficient of determination of Training Data & Test Data.__"
   ]
  },
  {
   "cell_type": "code",
   "execution_count": null,
   "metadata": {
    "collapsed": true
   },
   "outputs": [],
   "source": [
    "from sklearn import linear_model\n",
    "\n",
    "# select model\n",
    "clf = \n",
    "\n",
    "# Prediction\n",
    "clf.fit( , )\n",
    "\n",
    "# display coefficient\n",
    "print(clf.coef_)\n",
    "\n",
    "# display Coefficient of determination of Training Data\n",
    "print()\n",
    "\n",
    "# display Coefficient of determination of Test Data\n",
    "print()\n",
    "\n",
    "\n",
    "\n",
    "###### (c.f.)compare True y value of Test Data and predicted value\n",
    "\n",
    "# predict_value = clf.predict(X_test)\n",
    "\n",
    "# plt.plot(range(len(y_test)), y_test, color=\"b\")\n",
    "# plt.plot(range(len(y_test)), predict_value, color=\"r\")\n",
    "\n",
    "# plt.title(\"Measured value vs Prediction\")\n",
    "# plt.xlabel(\"n\")\n",
    "# plt.ylabel(\"Sepal Width\")\n",
    "# plt.show()"
   ]
  },
  {
   "cell_type": "markdown",
   "metadata": {},
   "source": [
    "---\n",
    "## Exercise 1.3\n",
    "__To make better model than regression model,<br>__\n",
    "__Try to make other model.<br>__\n",
    "__And、Try to make higher Coefficient of determination of Test Data.__"
   ]
  },
  {
   "cell_type": "code",
   "execution_count": null,
   "metadata": {
    "collapsed": true
   },
   "outputs": [],
   "source": [
    "from sklearn import linear_model\n",
    "\n",
    "# select model\n",
    "clf = \n",
    "\n",
    "# Predict\n",
    "clf.fit( , )\n",
    "\n",
    "# display coefficient\n",
    "print(clf.coef_)\n",
    "\n",
    "# display Coefficient of determination of Training Data\n",
    "print()\n",
    "\n",
    "# display Coefficient of determination of Test Data\n",
    "print()\n",
    "\n",
    "\n",
    "\n",
    "###### (c.f.)compare True y value of Test Data and predicted value\n",
    "\n",
    "# predict_value = clf.predict(X_test)\n",
    "\n",
    "# plt.plot(range(len(y_test)), y_test, color=\"b\")\n",
    "# plt.plot(range(len(y_test)), predict_value, color=\"r\")\n",
    "\n",
    "# plt.title(\"Measured value vs Prediction\")\n",
    "# plt.xlabel(\"n\")\n",
    "# plt.ylabel(\"Sepal Width\")\n",
    "# plt.show()"
   ]
  },
  {
   "cell_type": "markdown",
   "metadata": {},
   "source": [
    "---\n",
    "\n",
    "## Question/Request"
   ]
  },
  {
   "cell_type": "raw",
   "metadata": {},
   "source": []
  },
  {
   "cell_type": "markdown",
   "metadata": {},
   "source": [
    "About submitting this homework\n",
    "Homework No.：11\n",
    "\n",
    "How to submit：\n",
    "\n",
    "Download this Jupyter Notebook file after the above three exercises.\n",
    "Attach the file to the mail, and send it to the address below.\n",
    "＊ Attention ＊　\n",
    "Write HW[Homework No. (2 digits)]+SID[Student ID (4 digits -2 digits- 4 digits)] into the subject of your mail.\n",
    "\n",
    "(Example) HW11+SID1234-56-7890\n",
    "\n",
    "E-mail Address: cropevol@gmail.com\n",
    "\n",
    "Deadline: 17:00, Jan 07, 2019"
   ]
  },
  {
   "cell_type": "code",
   "execution_count": null,
   "metadata": {
    "collapsed": true
   },
   "outputs": [],
   "source": []
  }
 ],
 "metadata": {
  "kernelspec": {
   "display_name": "Python 3",
   "language": "python",
   "name": "python3"
  },
  "language_info": {
   "codemirror_mode": {
    "name": "ipython",
    "version": 3
   },
   "file_extension": ".py",
   "mimetype": "text/x-python",
   "name": "python",
   "nbconvert_exporter": "python",
   "pygments_lexer": "ipython3",
   "version": "3.6.5"
  }
 },
 "nbformat": 4,
 "nbformat_minor": 2
}
