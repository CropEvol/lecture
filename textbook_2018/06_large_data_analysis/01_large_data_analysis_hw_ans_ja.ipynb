{
 "cells": [
  {
   "cell_type": "markdown",
   "metadata": {},
   "source": [
    "# 大規模データ解析入門 (1)　課題解答例"
   ]
  },
  {
   "cell_type": "markdown",
   "metadata": {},
   "source": [
    "---\n",
    "## データ\n",
    "\n",
    "### サンプルデータのソース\n",
    "\n",
    "Abe, A., Kosugi, S., Yoshida, K., Natsume, S., Takagi, H., Kanzaki, H., Matsumura, H., Yoshida, K., Mitsuoka, C., Tamiru, M., Innan, H., Cano, L., Kamoun, S., Terauchi, R. (2012). [Genome sequencing reveals agronomically important loci in rice using MutMap.](https://www.nature.com/articles/nbt.2095) _Nature biotechnology_, 30(2), 174."
   ]
  },
  {
   "cell_type": "code",
   "execution_count": null,
   "metadata": {},
   "outputs": [],
   "source": [
    "\"\"\"\n",
    "＊重要＊\n",
    "最初にこのセルを実行してください。\n",
    "この課題で使うサンプルファイルをダウンロードします。\n",
    "\"\"\"\n",
    "!wget https://raw.githubusercontent.com/CropEvol/lecture/master/data/mutmap_for_hw.txt -O mutmap_for_hw.txt"
   ]
  },
  {
   "cell_type": "markdown",
   "metadata": {},
   "source": [
    "---\n",
    "\n",
    "課題用のサンプルファイルは、イネ品種\"Hitomebore\"とその突然変異系統（草丈が短くなる系統）のMutMap解析データです。  \n",
    "突然変異形質を持つF2個体（20個体分）と親系統のDNAを次世代シーケンシングして、その後の解析で得られたデータです。\n",
    "\n",
    "データはテーブル状になっており、各列には次の情報が入っています。\n",
    "- 0列目: 染色体名  \n",
    "- 1列目: 変異が検出された場所（塩基座の場所）\n",
    "- 2列目: \"Hitomebore\"の塩基\n",
    "- 3列目: 突然変異で生じた塩基 \n",
    "- 4列目: 突然変異形質を持つF2個体（20個体分）のシーケンスに含まれる、\"Hitomebore\"と同じ塩基の個数  \n",
    "- 5列目: 突然変異形質を持つF2個体（20個体分）のシーケンスに含まれる、突然変異と同じ塩基の個数  \n",
    "\n",
    "中身はこちらで確認してください。 => [課題用のデータ](mutmap_for_hw.txt)"
   ]
  },
  {
   "cell_type": "markdown",
   "metadata": {},
   "source": [
    "---\n",
    "## Exercise 1. 塩基座数をカウントする\n",
    "\n",
    "ヒント: 行数をカウントする。\n",
    "\n",
    "```python\n",
    "dataset = 'mutmap_for_hw.txt'\n",
    "f_in = open(dataset, 'r')\n",
    "    \n",
    "counter = 0\n",
    "for line in f_in:\n",
    "    ...\n",
    "    ...\n",
    "    ...\n",
    "\n",
    "print(counter)\n",
    "```"
   ]
  },
  {
   "cell_type": "code",
   "execution_count": null,
   "metadata": {},
   "outputs": [],
   "source": [
    "\"\"\"\n",
    "プログラム作成方針\n",
    "1. ファイルを開く（＆閉じる）\n",
    "2. 行数用のカウンターを用意する。カウンターの初期値は0。\n",
    "3. 行数を読み込むたびに、カウンターに1を追加する。\n",
    "4. カウンターの値を出力する。\n",
    "\"\"\"\n",
    "\n",
    "dataset = 'mutmap_for_hw.txt'   # ファイル名\n",
    "f_in = open(dataset, 'r')       # ファイルを開く\n",
    "\n",
    "counter = 0  # カウント用変数\n",
    "\n",
    "for line in f_in:\n",
    "    counter = counter + 1  # counterに1を追加する\n",
    "\n",
    "print(counter)  # カウンタの最終値を表示\n",
    "f_in.close() # ファイルを閉じる"
   ]
  },
  {
   "cell_type": "markdown",
   "metadata": {},
   "source": [
    "---\n",
    "## Exercise 2. 突然変異により塩基が A => G または G => Aに変わった塩基座数をカウントする\n",
    "\n",
    "ヒント: 「2列目がA」かつ「3列目がG」の行を`if文`で抽出する。"
   ]
  },
  {
   "cell_type": "code",
   "execution_count": null,
   "metadata": {},
   "outputs": [],
   "source": [
    "\"\"\"\n",
    "プログラム作成方針\n",
    "1. ファイルを開く（＆閉じる）\n",
    "2. カウンターを用意する。カウンターの初期値は0。\n",
    "3. 行を読み込むたびに、行をタブ文字で分割して、2列目と3列目の値を調べる。\n",
    "4. 「2列目がA」かつ「3列目がG」の時、カウンターに1を追加する。\n",
    "    または、「2列目がG」かつ「3列目がA」の時、カウンタに1を追加する。\n",
    "     それ以外の時は何もしない。\n",
    "     （Pythonでは列番号が0から始まることに注意してください: 0列目,1列目,...）\n",
    "5. それぞれのカウンターの値を出力する。\n",
    "\"\"\"\n",
    "\n",
    "dataset = 'mutmap_for_hw.txt'   # ファイル名\n",
    "f_in = open(dataset, 'r')       # ファイルを開く\n",
    "\n",
    "counter = 0  # カウント用変数\n",
    "\n",
    "# 一行ずつ読み込む\n",
    "for line in f_in:\n",
    "    \n",
    "    line = line.rstrip()  # 改行コードを除去\n",
    "    items = line.split('\\t')  # タブコードで一行を分割する\n",
    "    \n",
    "    # 「2列目がA」かつ「3列目がG」の時、\n",
    "    # A => G用のカウンタに1を追加する\n",
    "    if items[2] == 'A' and items[3] == 'G':\n",
    "        counter = counter + 1\n",
    "    \n",
    "    # 「2列目がG」かつ「3列目がA」の時、\n",
    "    # G => A用のカウンタに1を追加する\n",
    "    elif items[2] == 'G' and items[3] == 'A':\n",
    "        counter = counter + 1\n",
    "\n",
    "\n",
    "print(counter) # カウンタの最終値を表示\n",
    "f_in.close() # ファイルを閉じる"
   ]
  },
  {
   "cell_type": "markdown",
   "metadata": {},
   "source": [
    "---\n",
    "## Exercise 3. 各塩基座のSNP-indexを求める\n",
    "\n",
    "ヒント: SNP-index = 5列目の数値 / (4列目の数値 + 5列目の数値)"
   ]
  },
  {
   "cell_type": "code",
   "execution_count": null,
   "metadata": {},
   "outputs": [],
   "source": [
    "\"\"\"\n",
    "プログラム作成方針\n",
    "1. ファイルを開く（＆閉じる）\n",
    "2. 行を読み込むたびに、行をタブ文字で分割して、2列目と3列目の値を調べる。\n",
    "3. 「4列目」と「5列目」の数字を使って、SNP-indexを計算する。\n",
    "4. 計算したSNP-indexを出力する。\n",
    "\"\"\"\n",
    "\n",
    "dataset = 'mutmap_for_hw.txt'   # ファイル名\n",
    "f_in = open(dataset, 'r')       # ファイルを開く\n",
    "\n",
    "# 一行ずつ読み込む\n",
    "for line in f_in:\n",
    "    \n",
    "    line = line.rstrip()  # 改行コードを除去\n",
    "    items = line.split('\\t')  # タブコードで一行を分割する\n",
    "    \n",
    "    # SNP-indexを計算する\n",
    "    snpindex = int(items[5]) / (int(items[4]) + int(items[5]))\n",
    "    \n",
    "    print(snpindex) # 確認\n",
    "\n",
    "f_in.close() # ファイルを閉じる"
   ]
  },
  {
   "cell_type": "markdown",
   "metadata": {},
   "source": [
    "---\n",
    "## Exercise 4. SNP-index=1.0の行のみをファイルに書き出す\n",
    "\n",
    "ヒント: なし"
   ]
  },
  {
   "cell_type": "code",
   "execution_count": null,
   "metadata": {},
   "outputs": [],
   "source": [
    "\"\"\"\n",
    "プログラム作成方針\n",
    "1. ファイルを開く（＆閉じる）\n",
    "2. 行を読み込むたびに、行をタブ文字で分割して、2列目と3列目の値を調べる。\n",
    "3. 「4列目」と「5列目」の数字を使って、SNP-indexを計算する。\n",
    "4. SNP-indexが1.0のとき、その行をファイルに書き込む。\n",
    "\"\"\"\n",
    "\n",
    "dataset = 'mutmap_for_hw.txt'   # ファイル名\n",
    "f_in = open(dataset, 'r')       # ファイルを開く\n",
    "f_out = open('snpindex.txt', 'w')  #　出力ファイルを開く\n",
    "\n",
    "# 一行ずつ読み込む\n",
    "for line in f_in:\n",
    "    \n",
    "    line = line.rstrip()  # 改行コードを除去\n",
    "    items = line.split('\\t')  # タブコードで一行を分割する\n",
    "    \n",
    "    # SNP-indexを計算する\n",
    "    snpindex = int(items[5]) / (int(items[4]) + int(items[5]))\n",
    "    \n",
    "    # SNP-indexが1.0のとき、f_outに指定したファイルに出力\n",
    "    if snpindex == 1.0:    \n",
    "        #print(snpindex)\n",
    "        print(line)  # 確認用に画面に出力\n",
    "        f_out.write('%s\\n' % (line))   # ファイルに書き込み\n",
    "\n",
    "f_in.close() # ファイルを閉じる\n",
    "f_out.close()"
   ]
  },
  {
   "cell_type": "code",
   "execution_count": null,
   "metadata": {},
   "outputs": [],
   "source": []
  }
 ],
 "metadata": {
  "kernelspec": {
   "display_name": "Python 3",
   "language": "python",
   "name": "python3"
  },
  "language_info": {
   "codemirror_mode": {
    "name": "ipython",
    "version": 3
   },
   "file_extension": ".py",
   "mimetype": "text/x-python",
   "name": "python",
   "nbconvert_exporter": "python",
   "pygments_lexer": "ipython3",
   "version": "3.6.3"
  }
 },
 "nbformat": 4,
 "nbformat_minor": 2
}
