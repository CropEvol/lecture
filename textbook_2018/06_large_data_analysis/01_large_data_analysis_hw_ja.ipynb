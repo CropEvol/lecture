{
 "cells": [
  {
   "cell_type": "raw",
   "metadata": {},
   "source": [
    "学籍番号:\n",
    "氏名:"
   ]
  },
  {
   "cell_type": "markdown",
   "metadata": {},
   "source": [
    "# 大規模データ解析入門 (1)　課題"
   ]
  },
  {
   "cell_type": "markdown",
   "metadata": {},
   "source": [
    "---\n",
    "## データ\n",
    "\n",
    "### サンプルデータのソース\n",
    "\n",
    "Abe, A., Kosugi, S., Yoshida, K., Natsume, S., Takagi, H., Kanzaki, H., Matsumura, H., Yoshida, K., Mitsuoka, C., Tamiru, M., Innan, H., Cano, L., Kamoun, S., Terauchi, R. (2012). [Genome sequencing reveals agronomically important loci in rice using MutMap.](https://www.nature.com/articles/nbt.2095) _Nature biotechnology_, 30(2), 174."
   ]
  },
  {
   "cell_type": "code",
   "execution_count": null,
   "metadata": {},
   "outputs": [],
   "source": [
    "\"\"\"\n",
    "＊重要＊\n",
    "最初にこのセルを実行してください。\n",
    "この課題で使うサンプルファイルをダウンロードします。\n",
    "\"\"\"\n",
    "!wget https://raw.githubusercontent.com/CropEvol/lecture/master/data/mutmap_for_hw.txt -O mutmap_for_hw.txt"
   ]
  },
  {
   "cell_type": "markdown",
   "metadata": {},
   "source": [
    "---\n",
    "\n",
    "課題用のサンプルファイルは、イネ品種\"Hitomebore\"とその突然変異系統（草丈が短くなる系統）のMutMap解析データです。  \n",
    "突然変異形質を持つF2個体（20個体分）と親系統のDNAを次世代シーケンシングして、その後の解析で得られたデータです。\n",
    "\n",
    "データはテーブル状になっており、各列には次の情報が入っています。\n",
    "- 0列目: 染色体名  \n",
    "- 1列目: 変異が検出された場所（塩基座の場所）\n",
    "- 2列目: \"Hitomebore\"の塩基\n",
    "- 3列目: 突然変異で生じた塩基 \n",
    "- 4列目: 突然変異形質を持つF2個体（20個体分）のシーケンスに含まれる、\"Hitomebore\"と同じ塩基の個数  \n",
    "- 5列目: 突然変異形質を持つF2個体（20個体分）のシーケンスに含まれる、突然変異と同じ塩基の個数  \n",
    "\n",
    "中身はこちらで確認してください。 => [課題用のデータ](mutmap_for_hw.txt)"
   ]
  },
  {
   "cell_type": "markdown",
   "metadata": {},
   "source": [
    "---\n",
    "## Exercise 1. 塩基座数をカウントする\n",
    "\n",
    "ヒント: 行数をカウントする。\n",
    "\n",
    "```python\n",
    "dataset = 'mutmap_for_hw.txt'\n",
    "f_in = open(dataset, 'r')\n",
    "    \n",
    "counter = 0\n",
    "for line in f_in:\n",
    "    ...\n",
    "    ...\n",
    "    ...\n",
    "\n",
    "print(counter)\n",
    "```"
   ]
  },
  {
   "cell_type": "code",
   "execution_count": null,
   "metadata": {},
   "outputs": [],
   "source": [
    "dataset = 'mutmap_for_hw.txt'   # ファイル名\n",
    "f_in = open(dataset, 'r')       # ファイルを開く\n",
    "\n",
    "f_in.close() # ファイルを閉じる"
   ]
  },
  {
   "cell_type": "markdown",
   "metadata": {},
   "source": [
    "---\n",
    "## Exercise 2. 突然変異により塩基が A => G または G => Aに変わった塩基座数をカウントする\n",
    "\n",
    "ヒント: 「2列目がA」かつ「3列目がG」の行を`if文`で抽出する。"
   ]
  },
  {
   "cell_type": "code",
   "execution_count": null,
   "metadata": {},
   "outputs": [],
   "source": []
  },
  {
   "cell_type": "markdown",
   "metadata": {},
   "source": [
    "---\n",
    "## Exercise 3. 各塩基座のSNP-indexを求める\n",
    "\n",
    "ヒント: SNP-index = 5列目の数値 / (4列目の数値 + 5列目の数値)"
   ]
  },
  {
   "cell_type": "code",
   "execution_count": null,
   "metadata": {},
   "outputs": [],
   "source": []
  },
  {
   "cell_type": "markdown",
   "metadata": {},
   "source": [
    "---\n",
    "## Exercise 4. SNP-index=1.0の行のみをファイルに書き出す\n",
    "\n",
    "ヒント: なし"
   ]
  },
  {
   "cell_type": "code",
   "execution_count": null,
   "metadata": {},
   "outputs": [],
   "source": []
  },
  {
   "cell_type": "markdown",
   "metadata": {},
   "source": [
    "上のプログラムを実行後、出力されたファイルを確認してみましょう => [ファイル一覧へ](./)"
   ]
  },
  {
   "cell_type": "markdown",
   "metadata": {},
   "source": [
    "---\n",
    "\n",
    "## 質問・要望\n",
    "質問や要望があれば、メール本文か下のセルに書いてください。"
   ]
  },
  {
   "cell_type": "raw",
   "metadata": {},
   "source": []
  },
  {
   "cell_type": "markdown",
   "metadata": {},
   "source": [
    "\n",
    "## 課題の提出について\n",
    "\n",
    "今回の課題番号：`06`\n",
    "\n",
    "提出方法：\n",
    "1. 課題終了後のノートブックファイルをダウンロードする\n",
    "1. そのファイルをメールに添付して、下記アドレスに送信する  \n",
    "\n",
    "    __＊重要＊　  \n",
    "    メールの件名を `HW[課題番号2桁]+SID[学籍番号(4桁-2桁-４桁)]`（すべて半角英数） にしてください。__  \n",
    "    \n",
    "    例） HW06+SID1234-56-7890\n",
    "    \n",
    "\n",
    "提出先: cropevol@gmail.com\n",
    "\n",
    "提出期限: 2018年11月12日（月） 17:00まで\n"
   ]
  },
  {
   "cell_type": "code",
   "execution_count": null,
   "metadata": {},
   "outputs": [],
   "source": []
  }
 ],
 "metadata": {
  "kernelspec": {
   "display_name": "Python 3",
   "language": "python",
   "name": "python3"
  },
  "language_info": {
   "codemirror_mode": {
    "name": "ipython",
    "version": 3
   },
   "file_extension": ".py",
   "mimetype": "text/x-python",
   "name": "python",
   "nbconvert_exporter": "python",
   "pygments_lexer": "ipython3",
   "version": "3.6.3"
  }
 },
 "nbformat": 4,
 "nbformat_minor": 2
}
