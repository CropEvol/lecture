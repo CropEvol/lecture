{
 "cells": [
  {
   "cell_type": "markdown",
   "metadata": {},
   "source": [
    "# Introduction to Large Data Analysis (1) - Exercises - Answers"
   ]
  },
  {
   "cell_type": "markdown",
   "metadata": {},
   "source": [
    "---\n",
    "## Sample data\n",
    "\n",
    "### Source\n",
    "\n",
    "Abe, A., Kosugi, S., Yoshida, K., Natsume, S., Takagi, H., Kanzaki, H., Matsumura, H., Yoshida, K., Mitsuoka, C., Tamiru, M., Innan, H., Cano, L., Kamoun, S., Terauchi, R. (2012). [Genome sequencing reveals agronomically important loci in rice using MutMap.](https://www.nature.com/articles/nbt.2095) _Nature biotechnology_, 30(2), 174."
   ]
  },
  {
   "cell_type": "code",
   "execution_count": null,
   "metadata": {},
   "outputs": [],
   "source": [
    "\"\"\"\n",
    "*** IMPORTANT ***\n",
    "Run this cell before practice below.\n",
    "You can download a sample file for this exercises.\n",
    "\"\"\"\n",
    "!wget https://raw.githubusercontent.com/CropEvol/lecture/master/data/mutmap_for_hw.txt -O mutmap_for_hw.txt"
   ]
  },
  {
   "cell_type": "markdown",
   "metadata": {},
   "source": [
    "---\n",
    "\n",
    "Sample data is the dataset of MutMap for semi-dwarf phenotype of rice.  \n",
    "\n",
    "Rice cultivar \"Hitomebore\" and its mutant line (semi-dwarf line) were crossed.  \n",
    "In its F2 population, DNA of 20 individuals have semi-dwarf phenotype were pooled, and were sequenced by next generation sequencer.  \n",
    "The DNA of parent line \"Hitomebore\" was also sequenced.  \n",
    "These sequences were compared, and some variants were found.\n",
    "\n",
    "Sample data is the table of variants found:\n",
    "- Column 0: Chromosome names  \n",
    "- Column 1: Positions of variant\n",
    "- Column 2: \"Hitomebore\" allele\n",
    "- Column 3: Mutant allele\n",
    "- Column 4: Counts of \"Hitomebore\" allele in the pooled sequences of 20 individuals have mutant phenotype (semi-dwarf).\n",
    "- Column 5: Counts of mutant allele in the pooled sequences of 20 individuals have mutant phenotype (semi-dwarf). \n",
    "\n",
    "Check the sample data => [Link](mutmap_for_hw.txt)"
   ]
  },
  {
   "cell_type": "markdown",
   "metadata": {},
   "source": [
    "---\n",
    "## Exercise 1: Count SNP loci\n",
    "\n",
    "Hint: SNP loci = number of lines in the sample file\n",
    "\n",
    "```python\n",
    "dataset = 'mutmap_for_hw.txt'\n",
    "f_in = open(dataset, 'r')\n",
    "    \n",
    "counter = 0\n",
    "for line in f_in:\n",
    "    ...\n",
    "    ...\n",
    "    ...\n",
    "\n",
    "print(counter)\n",
    "```"
   ]
  },
  {
   "cell_type": "code",
   "execution_count": null,
   "metadata": {},
   "outputs": [],
   "source": [
    "dataset = 'mutmap_for_hw.txt'   # File name\n",
    "f_in = open(dataset, 'r')       # Open file\n",
    "\n",
    "counter = 0  # Counter of line number\n",
    "\n",
    "# Read the file line-by-line\n",
    "for line in f_in:\n",
    "    counter = counter + 1  # add 1 to the counter\n",
    "\n",
    "print(counter)  # show final value of counter\n",
    "\n",
    "f_in.close() # Close the file"
   ]
  },
  {
   "cell_type": "markdown",
   "metadata": {},
   "source": [
    "---\n",
    "## Exercise 2: Count SNP loci that changed nucleotides from \"A to G\" or \"G to A\" by mutagenesis\n",
    "\n",
    "Hint: Extract lines of \"Column 2 is A\" and \"Column 3 is G\" by `if`."
   ]
  },
  {
   "cell_type": "code",
   "execution_count": null,
   "metadata": {},
   "outputs": [],
   "source": [
    "dataset = 'mutmap_for_hw.txt'   # File name\n",
    "f_in = open(dataset, 'r')       # Open file\n",
    "\n",
    "counter = 0  # Counter of line number\n",
    "\n",
    "# Read the file line-by-line\n",
    "for line in f_in:\n",
    "    \n",
    "    line = line.rstrip()      # Remove line feed code\n",
    "    items = line.split('\\t')  # split one line by tab code\n",
    "    \n",
    "    # If the second column is \"A\" and the third column is \"G\",\n",
    "    # add 1 to the counter\n",
    "    if items[2] == 'A' and items[3] == 'G':\n",
    "        counter = counter + 1\n",
    "    \n",
    "    # If the second column is \"G\" and the third column is \"A\",\n",
    "    # add 1 to the counter\n",
    "    elif items[2] == 'G' and items[3] == 'A':\n",
    "        counter = counter + 1\n",
    "\n",
    "\n",
    "print(counter) # show final value of counter\n",
    "f_in.close()   # Close the file"
   ]
  },
  {
   "cell_type": "markdown",
   "metadata": {},
   "source": [
    "---\n",
    "## Exercise 3. Calculate SNP-index in each loci\n",
    "\n",
    "Hint: SNP-index = Value of column 5 / (Value of column 4 + Value of column 5)"
   ]
  },
  {
   "cell_type": "code",
   "execution_count": null,
   "metadata": {},
   "outputs": [],
   "source": [
    "dataset = 'mutmap_for_hw.txt'   # File name\n",
    "f_in = open(dataset, 'r')       # Open file\n",
    "\n",
    "counter = 0  # Counter of line number\n",
    "\n",
    "# Read the file line-by-line\n",
    "for line in f_in:\n",
    "    \n",
    "    line = line.rstrip()      # Remove line feed code\n",
    "    items = line.split('\\t')  # split one line by tab code\n",
    "    \n",
    "    # calculate SNP-index\n",
    "    snpindex = int(items[5]) / (int(items[4]) + int(items[5]))\n",
    "\n",
    "    print(snpindex)   # show the SNP-index\n",
    "\n",
    "f_in.close() # Close the file"
   ]
  },
  {
   "cell_type": "markdown",
   "metadata": {},
   "source": [
    "---\n",
    "## Exercise 4. Write lines of SNP-index=1.0 into a file\n",
    "\n",
    "Hint: None"
   ]
  },
  {
   "cell_type": "code",
   "execution_count": null,
   "metadata": {},
   "outputs": [],
   "source": [
    "dataset = 'mutmap_for_hw.txt'   # File name\n",
    "f_in = open(dataset, 'r')       # Open file with read-only mode\n",
    "f_out = open('snpindex.txt', 'w')  #　Open file with writing mode for output\n",
    "\n",
    "counter = 0  # Counter of line number\n",
    "\n",
    "# Read the file line-by-line\n",
    "for line in f_in:\n",
    "    \n",
    "    line = line.rstrip()      # Remove line feed code\n",
    "    items = line.split('\\t')  # split one line by tab code\n",
    "    \n",
    "    # calculate SNP-index\n",
    "    snpindex = int(items[5]) / (int(items[4]) + int(items[5]))\n",
    "    \n",
    "    # If SNP-index is 1.0, write the line into the output file\n",
    "    if snpindex == 1.0:    \n",
    "        print(line)  # show the line for check\n",
    "        f_out.write('%s\\n' % (line))   # write the line\n",
    "\n",
    "f_in.close() # Close the file\n",
    "f_out.close()"
   ]
  },
  {
   "cell_type": "code",
   "execution_count": null,
   "metadata": {},
   "outputs": [],
   "source": []
  }
 ],
 "metadata": {
  "kernelspec": {
   "display_name": "Python 3",
   "language": "python",
   "name": "python3"
  },
  "language_info": {
   "codemirror_mode": {
    "name": "ipython",
    "version": 3
   },
   "file_extension": ".py",
   "mimetype": "text/x-python",
   "name": "python",
   "nbconvert_exporter": "python",
   "pygments_lexer": "ipython3",
   "version": "3.6.3"
  }
 },
 "nbformat": 4,
 "nbformat_minor": 2
}
