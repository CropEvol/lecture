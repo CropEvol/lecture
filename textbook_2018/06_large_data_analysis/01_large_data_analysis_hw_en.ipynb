{
 "cells": [
  {
   "cell_type": "markdown",
   "metadata": {},
   "source": [
    "# Introduction to Large Data Analysis (1) - Exercises"
   ]
  },
  {
   "cell_type": "markdown",
   "metadata": {},
   "source": [
    "---\n",
    "## Sample data\n",
    "\n",
    "### Source\n",
    "\n",
    "Abe, A., Kosugi, S., Yoshida, K., Natsume, S., Takagi, H., Kanzaki, H., Matsumura, H., Yoshida, K., Mitsuoka, C., Tamiru, M., Innan, H., Cano, L., Kamoun, S., Terauchi, R. (2012). [Genome sequencing reveals agronomically important loci in rice using MutMap.](https://www.nature.com/articles/nbt.2095) _Nature biotechnology_, 30(2), 174."
   ]
  },
  {
   "cell_type": "code",
   "execution_count": 2,
   "metadata": {},
   "outputs": [
    {
     "name": "stdout",
     "output_type": "stream",
     "text": [
      "--2018-11-05 22:43:12--  https://raw.githubusercontent.com/CropEvol/lecture/master/data/mutmap_for_hw.txt\n",
      "Resolving raw.githubusercontent.com... 151.101.88.133\n",
      "Connecting to raw.githubusercontent.com|151.101.88.133|:443... connected.\n",
      "HTTP request sent, awaiting response... 200 OK\n",
      "Length: 10505 (10K) [text/plain]\n",
      "Saving to: ‘mutmap_for_hw.txt’\n",
      "\n",
      "mutmap_for_hw.txt   100%[===================>]  10.26K  --.-KB/s    in 0s      \n",
      "\n",
      "2018-11-05 22:43:13 (34.4 MB/s) - ‘mutmap_for_hw.txt’ saved [10505/10505]\n",
      "\n"
     ]
    }
   ],
   "source": [
    "\"\"\"\n",
    "*** IMPORTANT ***\n",
    "Run this cell before practice below.\n",
    "You can download a sample file for this exercises.\n",
    "\"\"\"\n",
    "!wget https://raw.githubusercontent.com/CropEvol/lecture/master/data/mutmap_for_hw.txt -O mutmap_for_hw.txt"
   ]
  },
  {
   "cell_type": "markdown",
   "metadata": {},
   "source": [
    "---\n",
    "\n",
    "Sample data is the dataset of MutMap for semi-dwarf phenotype of rice.  \n",
    "\n",
    "Rice cultivar \"Hitomebore\" and its mutant line (semi-dwarf line) were crossed.  \n",
    "In its F2 population, DNA of 20 individuals have semi-dwarf phenotype were pooled, and were sequenced by next generation sequencer.  \n",
    "The DNA of parent line \"Hitomebore\" was also sequenced.  \n",
    "These sequences were compared, and some variants were found.\n",
    "\n",
    "Sample data is the table of variants found:\n",
    "- Column 0: Chromosome names  \n",
    "- Column 1: Positions of variant\n",
    "- Column 2: \"Hitomebore\" allele\n",
    "- Column 3: Mutant allele\n",
    "- Column 4: Counts of \"Hitomebore\" allele in the pooled sequences of 20 individuals have mutant phenotype (semi-dwarf).\n",
    "- Column 5: Counts of mutant allele in the pooled sequences of 20 individuals have mutant phenotype (semi-dwarf). \n",
    "\n",
    "Check the sample data => [Link](mutmap_for_hw.txt)"
   ]
  },
  {
   "cell_type": "markdown",
   "metadata": {},
   "source": [
    "---\n",
    "## Exercise 1: Count SNP loci\n",
    "\n",
    "Hint: SNP loci = number of lines in the sample file\n",
    "\n",
    "```python\n",
    "dataset = 'mutmap_for_hw.txt'\n",
    "f_in = open(dataset, 'r')\n",
    "    \n",
    "counter = 0\n",
    "for line in f_in:\n",
    "    ...\n",
    "    ...\n",
    "    ...\n",
    "\n",
    "print(counter)\n",
    "```"
   ]
  },
  {
   "cell_type": "code",
   "execution_count": 1,
   "metadata": {},
   "outputs": [
    {
     "ename": "FileNotFoundError",
     "evalue": "[Errno 2] No such file or directory: 'mutmap_for_hw.txt'",
     "output_type": "error",
     "traceback": [
      "\u001b[0;31m---------------------------------------------------------------------------\u001b[0m",
      "\u001b[0;31mFileNotFoundError\u001b[0m                         Traceback (most recent call last)",
      "\u001b[0;32m<ipython-input-1-f4880e7aef2f>\u001b[0m in \u001b[0;36m<module>\u001b[0;34m()\u001b[0m\n\u001b[1;32m      1\u001b[0m \u001b[0mdataset\u001b[0m \u001b[0;34m=\u001b[0m \u001b[0;34m'mutmap_for_hw.txt'\u001b[0m   \u001b[0;31m# File name\u001b[0m\u001b[0;34m\u001b[0m\u001b[0m\n\u001b[0;32m----> 2\u001b[0;31m \u001b[0mf_in\u001b[0m \u001b[0;34m=\u001b[0m \u001b[0mopen\u001b[0m\u001b[0;34m(\u001b[0m\u001b[0mdataset\u001b[0m\u001b[0;34m,\u001b[0m \u001b[0;34m'r'\u001b[0m\u001b[0;34m)\u001b[0m       \u001b[0;31m# Open file\u001b[0m\u001b[0;34m\u001b[0m\u001b[0m\n\u001b[0m\u001b[1;32m      3\u001b[0m \u001b[0;34m\u001b[0m\u001b[0m\n\u001b[1;32m      4\u001b[0m \u001b[0mf_in\u001b[0m\u001b[0;34m.\u001b[0m\u001b[0mclose\u001b[0m\u001b[0;34m(\u001b[0m\u001b[0;34m)\u001b[0m \u001b[0;31m# Close file\u001b[0m\u001b[0;34m\u001b[0m\u001b[0m\n",
      "\u001b[0;31mFileNotFoundError\u001b[0m: [Errno 2] No such file or directory: 'mutmap_for_hw.txt'"
     ]
    }
   ],
   "source": [
    "dataset = 'mutmap_for_hw.txt'   # File name\n",
    "f_in = open(dataset, 'r')       # Open file\n",
    "\n",
    "f_in.close() # Close file"
   ]
  },
  {
   "cell_type": "markdown",
   "metadata": {},
   "source": [
    "---\n",
    "## Exercise 2: Count SNP loci that changed nucleotides from \"A to G\" or \"G to A\" by mutagenesis\n",
    "\n",
    "Hint: Extract lines of \"Column 2 is A\" and \"Column 3 is G\" by `if`."
   ]
  },
  {
   "cell_type": "code",
   "execution_count": null,
   "metadata": {},
   "outputs": [],
   "source": []
  },
  {
   "cell_type": "markdown",
   "metadata": {},
   "source": [
    "---\n",
    "## Exercise 3. Calculate SNP-index in each loci\n",
    "\n",
    "Hint: SNP-index = Value of column 5 / (Value of column 4 + Value of column 5)"
   ]
  },
  {
   "cell_type": "code",
   "execution_count": null,
   "metadata": {},
   "outputs": [],
   "source": []
  },
  {
   "cell_type": "markdown",
   "metadata": {},
   "source": [
    "---\n",
    "## Exercise 4. Write lines of SNP-index=1.0 into a file\n",
    "\n",
    "Hint: None"
   ]
  },
  {
   "cell_type": "code",
   "execution_count": null,
   "metadata": {},
   "outputs": [],
   "source": []
  },
  {
   "cell_type": "markdown",
   "metadata": {},
   "source": [
    "---\n",
    "\n",
    "## About submitting this homework\n",
    "\n",
    "Homework No.：`06`\n",
    "\n",
    "How to submit：\n",
    "1. Download this Jupyter Notebook file after the above three exercises.\n",
    "1. Attach the file to the mail, and send it to the address below.\n",
    "\n",
    "    __＊ Attention ＊　  \n",
    "    Write `HW[Homework No. (2 digits)]+SID[Student ID (4 digits -2 digits- 4 digits)]` into the subject of your mail.__  \n",
    "    \n",
    "    (Example) HW06+SID1234-56-7890\n",
    "    \n",
    "\n",
    "E-mail Address: cropevol@gmail.com\n",
    "\n",
    "Deadline: 17:00, Nov 12, 2018"
   ]
  },
  {
   "cell_type": "code",
   "execution_count": null,
   "metadata": {},
   "outputs": [],
   "source": []
  }
 ],
 "metadata": {
  "kernelspec": {
   "display_name": "Python 3",
   "language": "python",
   "name": "python3"
  },
  "language_info": {
   "codemirror_mode": {
    "name": "ipython",
    "version": 3
   },
   "file_extension": ".py",
   "mimetype": "text/x-python",
   "name": "python",
   "nbconvert_exporter": "python",
   "pygments_lexer": "ipython3",
   "version": "3.6.3"
  }
 },
 "nbformat": 4,
 "nbformat_minor": 2
}
