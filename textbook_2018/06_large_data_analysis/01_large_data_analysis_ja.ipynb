{
 "cells": [
  {
   "cell_type": "code",
   "execution_count": null,
   "metadata": {},
   "outputs": [],
   "source": [
    "\"\"\"\n",
    "＊重要＊\n",
    "最初にこのセルを実行してください。\n",
    "この実習で使うサンプルファイルをダウンロードします。\n",
    "\"\"\"\n",
    "!wget https://raw.githubusercontent.com/CropEvol/lecture/master/data/mutmap_bulk.txt -O data/mutmap_bulk.txt"
   ]
  },
  {
   "cell_type": "markdown",
   "metadata": {},
   "source": [
    "# 大規模データ解析入門 (1)\n",
    "\n",
    "## Contents\n",
    "\n",
    "### Introduction\n",
    "- [ゲノム解析とテキストデータ](#0.1)\n",
    "- [テキストデータ処理の基本](#0.2)\n",
    "- [今回のサンプルデータ](#0.3)\n",
    "\n",
    "--- \n",
    "\n",
    "### Practice\n",
    "1. [ファイルを開く/閉じる](#1.1)\n",
    "1. [一行ずつ読む](#1.2)\n",
    "1. [改行コードを取り除く](#1.3)\n",
    "1. [一行を分割する](#1.4)\n",
    "1. [SNP-indexを計算する](#1.5)\n",
    "1. [ファイルに書き出す](#1.6)\n"
   ]
  },
  {
   "cell_type": "markdown",
   "metadata": {},
   "source": [
    "---\n",
    "## Introduction\n",
    "\n",
    "### ゲノム解析とテキストデータ<a name=\"0.1\"></a>\n",
    "\n",
    "ゲノム解析を含め、大規模データ（ビッグデータ）の多くはテキストファイルです。  \n",
    "\n",
    "例えば、「ゲノム配列」と言われるものは、DNAのの4つの塩基（アデニン、シトシン、グアニン、チミン）に相当するA、C、G、Tの文字が多量に並んだデータであり、その文字列がファイルに書かれています。  \n",
    "\n",
    "テキストデータ中の多量の文字の中から、生物学的に意味のある箇所（データ）を見つけてくるのが、ゲノム解析といっても過言ではありません。\n",
    "\n",
    "今回は、手元にある大規模データ（テキストファイル）をPythonで扱う方法を学んでいきます。"
   ]
  },
  {
   "cell_type": "markdown",
   "metadata": {},
   "source": [
    "### テキストデータ処理の基本<a name=\"0.2\"></a>\n",
    "\n",
    "テキストデータ処理の基本は__「上の行から一行ずつ順番に処理する」__です。\n",
    "\n",
    "その処理の流れは次の通りです。\n",
    "- ファイルを開く\n",
    "- 一行分のデータを取り出す\n",
    "- 一行を分割する\n",
    "- 一行のデータ処理をおこなう\n",
    "- 次の行に移る\n",
    "- ファイルを閉じる\n"
   ]
  },
  {
   "cell_type": "markdown",
   "metadata": {},
   "source": [
    "### 今回のサンプルデータ=> [リンク](mutmap_bulk.txt)  <a name=\"0.3\"></a>\n",
    "\n",
    "MutMap (Abe et al., 2012)の論文のシーケンスを解析したデータを使います。  \n",
    "MutMapとは、遺伝子マッピング手法の一つです（より詳しく知りたい方は、下記の論文をご覧ください）。  \n",
    "\n",
    "Abe, A., Kosugi, S., Yoshida, K., Natsume, S., Takagi, H., Kanzaki, H., Matsumura, H., Yoshida, K., Mitsuoka, C., Tamiru, M., Innan, H., Cano, L., Kamoun, S., Terauchi, R. (2012). [Genome sequencing reveals agronomically important loci in rice using MutMap.](https://www.nature.com/articles/nbt.2095) _Nature biotechnology_, 30(2), 174.\n",
    "\n",
    "\n",
    "MutMapの概要は次の通りです。\n",
    "1. 突然変異系統とその元となった系統（オリジナル系統）を交配する。\n",
    "1. 交配後第二世代（F2集団）を作成し、突然変異形質を持つ個体のDNAを集める（以下バルクDNA）。\n",
    "1. オリジナル系統のDNAとバルクDNAをシーケンスする。\n",
    "1. 両者のシーケンスを比較すると、突然変異の位置と、オリジナル系統の塩基や突然変異の塩基の種類がわかります。また、それぞれの塩基がいくつあるか（オリジナル系統と同じ塩基の個数と突然変異系統と同じ塩基の個数）といった情報も得られます。\n",
    "1. 突然変異形質を持つF2個体は、ゲノム上に散在する変異のうち、形質に関わる変異を共通で持っているはずです。そのため、形質に関わる変異箇所では、突然変異系統の塩基のみ検出されることが期待されます。\n",
    "1. そこで、変異箇所すべてについて、突然変異塩基の割合（「SNP-index」と呼ばれるもの）を調べます。\n",
    "1. 調べた結果をグラフに描くことで、形質に関わる原因変異を特定または絞り込みができます。\n",
    "\n",
    "<div style=\"margin-bottom: 5px;\"><img src=\"https://github.com/CropEvol/lecture/blob/master/images/06/mutmap01.jpg?raw=true\" alt=\"mutmap\"></div>\n",
    "\n",
    "<div style=\"margin-bottom: 5px;\"><img src=\"https://github.com/CropEvol/lecture/blob/master/images/06/mutmap02.png?raw=true\" alt=\"mutmap\"></div>\n",
    "\n",
    "今回調べる形質は、イネの葉が「淡緑色（pale green）」となる形質です。  \n",
    "\n",
    "<div style=\"margin-bottom: 5px;\"><img src=\"https://github.com/CropEvol/lecture/blob/master/images/06/mutmap04.jpg?raw=true\" alt=\"mutmap\"></div>\n",
    "\n",
    "\n",
    "サンプルデータとして、この形質のMutMap解析のデータを扱います。  \n",
    "データはテキストファイルです（ファイルの中身確認 => [リンク](mutmap_bulk.txt) ）。    \n",
    "次のような情報が並んでいます。  \n",
    "\n",
    "<div style=\"margin-bottom: 5px;\"><img src=\"https://github.com/CropEvol/lecture/blob/master/images/06/mutmap03.jpg?raw=true\" alt=\"mutmap\"></div>\n",
    "\n",
    "それでは、葉を淡緑色にする原因の変異を見つけるために、\n",
    "突然変異塩基の割合（SNP-index）が「1.0」になっているサイトを探しましょう。"
   ]
  },
  {
   "cell_type": "markdown",
   "metadata": {},
   "source": [
    "---\n",
    "## Practice\n",
    "\n",
    "実習では、コードを少しずつ追加して、「SNP-indexを求めて、ファイルに出力するプログラム」を完成させていきます。\n",
    "\n",
    "### 1. ファイルを開く/閉じる<a name=\"1.1\"></a>\n",
    "まず、ファイルを開きます。  \n",
    "ついでに、ファイルを閉じる文も書きましょう。\n",
    "\n",
    "=== 基本構文 ===\n",
    "```python\n",
    "f_in = open('ファイル名', 'r')\n",
    "f_in.close()\n",
    "```\n",
    "\n",
    "=== 説明 ===\n",
    "- `open()`\n",
    "    - 第1引数: 開きたいファイル名\n",
    "    - 第2引数:  \n",
    "        * `'r'` (read-only mode) => 読み込み専用モードでファイルを開く。  \n",
    "        * `'w'` (write mode) => 書き込みモードでファイルを開く。\n",
    "        * `'a'` (append mode) => 追加書き込みモードでファイルを開く。\n",
    "    - ファイル内容は 変数 `f_in` に保存している（変数はなんでも良い）。  \n",
    "        * __ファイルオブジェクト__と呼ばれる状態で `f_in` に入っている\n",
    "- `close()`\n",
    "    - 使い方: ファイルオブジェクト.close()"
   ]
  },
  {
   "cell_type": "code",
   "execution_count": null,
   "metadata": {
    "scrolled": true
   },
   "outputs": [],
   "source": [
    "### 以下にプログラムを追加してください。 ###\n",
    "dataset = 'mutmap_bulk.txt' # 読み込みファイル名\n"
   ]
  },
  {
   "cell_type": "markdown",
   "metadata": {},
   "source": [
    "### 2. 一行ずつ読む<a name=\"1.2\"></a>\n",
    "開いたファイルを一行ずつ読み込み、出力してみましょう。\n",
    "\n",
    "=== 基本構文 ===\n",
    "```python\n",
    "for line in f_in:\n",
    "    print(line)\n",
    "```\n",
    "\n",
    "=== 説明 ===  \n",
    "\n",
    "ファイルオブジェクト（変数 `f_in`）の中には、一行分が文字列がひとつの\"データ\"として入っています。  \n",
    "`f_in` の中身のイメージ => [1行目の文字列, 2行目の文字列, 3行目の文字列, ..., 最終行の文字列]  \n",
    "\n",
    "`for`文を使って、1行ずつ取り出すことができます。"
   ]
  },
  {
   "cell_type": "code",
   "execution_count": null,
   "metadata": {},
   "outputs": [],
   "source": [
    "### 以下にプログラムを追加してください。 ###\n",
    "\n",
    "dataset = 'mutmap_bulk.txt' # 読み込みファイル名\n",
    "f_in = open(dataset, 'r')  # ファイルを開く\n",
    "f_in.close()  # ファイルを閉じる"
   ]
  },
  {
   "cell_type": "markdown",
   "metadata": {},
   "source": [
    "### 3. 改行コードを取り除く<a name=\"1.3\"></a>\n",
    "上のコードでは、各行の間に空白行が含まれてしまっています。  \n",
    "これは、ファイル内の各行の後ろ（行末）に、改行コード（不可視の特殊な文字のひとつ）が含まれているためです。  \n",
    "解析によっては必須の処理ではありません。しかし、テキストファイル処理では、この改行コードを取り除くのが良いでしょう。  \n",
    "（今回は、後のステップで行末にデータを追加するため、改行コードを除去しておく必要があります。）\n",
    "\n",
    "=== 基本構文 ===  \n",
    "```python\n",
    "line = line.rstrip()\n",
    "```\n",
    "\n",
    "=== 説明 ===\n",
    "- `rstrip()`\n",
    "    - 使い方: 文字列オブジェクト.rstrip()\n",
    "    - right-strip: 文字列やリストの一番右（行末）の文字を取り除く\n",
    "    - ここでは`line`の行末の改行コード(`\\n`)を取り除いています。\n",
    "    \n",
    "- `lstrip()`\n",
    "    - 使い方: 文字列オブジェクト.lstrip()\n",
    "    - left-strip: 文字列やリストの一番左（行頭）の文字を取り除く\n",
    "    "
   ]
  },
  {
   "cell_type": "code",
   "execution_count": null,
   "metadata": {},
   "outputs": [],
   "source": [
    "### 以下にプログラムを追加してください。 ###\n",
    "\n",
    "dataset = 'mutmap_bulk.txt' # 読み込みファイル名\n",
    "f_in = open(dataset, 'r')  # ファイルを開く\n",
    "\n",
    "# 1行ずつ処理する\n",
    "for line in f_in:\n",
    "    print(line)\n",
    "    \n",
    "f_in.close()  # ファイルを閉じる"
   ]
  },
  {
   "cell_type": "markdown",
   "metadata": {},
   "source": [
    "### 4. 一行を分割する<a name=\"1.4\"></a>\n",
    "行内の各要素にアクセスするために、一行を分割しましょう。  \n",
    "今回読み込んでいるファイルは「タブ文字」で要素間を区切ったファイル（__タブ区切りファイル__）であるため、`\\t`(タブ文字)を指定して一行を分割します。  \n",
    "\n",
    "=== 基本構文 ===  \n",
    "```python\n",
    "items = line.split('\\t')\n",
    "```\n",
    "\n",
    "=== 説明 ===\n",
    "- `split()`\n",
    "    - 使い方: 文字列オブジェクト.split(区切り文字)\n",
    "    - 区切り文字を指定して、文字列を分割し、リストに変換します。\n",
    "        * 例えば、最初の行を分割すると、 `items`に `['chr10', '51406', 'G', 'A', '6', '3']`が入ります。\n",
    "    - 読み込んだファイルがタブ区切りファイルのため、ここでは区切り文字にタブ文字`\\t`を指定しています。\n",
    "        * 主な区切り文字\n",
    "            - `\\t`: タブ\n",
    "            - `,`: カンマ\n",
    "    \n",
    "   "
   ]
  },
  {
   "cell_type": "code",
   "execution_count": null,
   "metadata": {},
   "outputs": [],
   "source": [
    "### 以下にプログラムを追加してください。 ###\n",
    "\n",
    "dataset = 'mutmap_bulk.txt' # 読み込みファイル名\n",
    "f_in = open(dataset, 'r')  # ファイルを開く\n",
    "\n",
    "# 1行ずつ処理する\n",
    "for line in f_in:\n",
    "    \n",
    "    line = line.rstrip()  # 行末の改行コードを除去する\n",
    "    print(line)\n",
    "    \n",
    "f_in.close()  # ファイルを閉じる"
   ]
  },
  {
   "cell_type": "markdown",
   "metadata": {},
   "source": [
    "### 5. SNP-indexを計算する<a name=\"1.5\"></a>\n",
    "SNP-indexを計算しましょう。以下の式で計算できます。\n",
    "\n",
    "```python\n",
    "SNP-index = ALTアリル数 / (REFアリル数 + ALTアリル数) \n",
    "\n",
    "REFアリル数は4番目要素\n",
    "ALTアリル数は5番目要素\n",
    "（* Pythonでは、0からカウントされることに注意してください。）\n",
    "```"
   ]
  },
  {
   "cell_type": "code",
   "execution_count": null,
   "metadata": {},
   "outputs": [],
   "source": [
    "### 以下にプログラムを追加してください。 ###\n",
    "\n",
    "dataset = 'mutmap_bulk.txt' # 読み込みファイル名\n",
    "\n",
    "f_in   = open(dataset, 'r')  # ファイルを開く\n",
    "\n",
    "# 1行ずつ処理する\n",
    "for line in f_in:\n",
    "    \n",
    "    line = line.rstrip()  # 行末の改行コードを除去する\n",
    "    items = line.split('\\t')  # 行を分割する\n",
    "    \n",
    "    #print(line)\n",
    "    print(items)\n",
    "    \n",
    "f_in.close()  # ファイルを閉じる"
   ]
  },
  {
   "cell_type": "markdown",
   "metadata": {},
   "source": [
    "#### 補足事項: データ型の変換\n",
    "REFアリル数とALTアリル数は文字列として`items`から取り出されます。  \n",
    "数値計算するためには、それらを数値に変換する必要があります。   \n",
    "そこで今回は`int()`を使って文字列を数値に変換しています。\n",
    "\n",
    "=== 基本構文 ===  \n",
    "```python\n",
    "int(文字や小数点ありの数値)\n",
    "```\n",
    "\n",
    "=== 説明 ===\n",
    "- `int()`\n",
    "    - 使い方: int(数字のみの文字列)\n",
    "    - 数字文字列や小数点ありの数値を整数値に変換する \n",
    "- `float()`\n",
    "    -  小数点ありの数値に変換する\n",
    "- `str()`\n",
    "    - 文字列に変換する\n"
   ]
  },
  {
   "cell_type": "markdown",
   "metadata": {},
   "source": [
    "### 6. ファイルに書き出す<a name=\"1.6\"></a>\n",
    "得られたSNP-indexを既存の文字列の行末に追加して、ファイルに書き出しましょう。\n",
    "\n",
    "＊注意＊  \n",
    "- 得られたSNP-indexを文字列として追加するためには、__float型（小数点あり数値）からstr型(文字列)に変換__する必要があります。  \n",
    "- タブ区切りで出力するため、既存の文字列と追加するSNP-indexの間を`\\t`で繋げる必要があります。\n",
    "- 「3. 改行コードを取り除く」で改行コード`\\n`を除去しているので、新たに改行コード`\\n`を追加する必要があります。\n",
    "\n",
    "=== 基本構文 ===\n",
    "```python\n",
    "f_out = open('ファイル名', 'w')\n",
    "f_out.write(文字列)　\n",
    "f_out.close()\n",
    "```\n",
    "=== 説明 ===\n",
    "- write()\n",
    "    - 使い方: 書き出し可能ファイルオブジェクト.write(文字列)\n",
    "    - おもにファイルへの書き出しのために使われます。"
   ]
  },
  {
   "cell_type": "code",
   "execution_count": null,
   "metadata": {},
   "outputs": [],
   "source": [
    "### 以下にプログラムを追加してください。 ###\n",
    "\n",
    "dataset = 'mutmap_bulk.txt' # 読み込みファイル名\n",
    "\n",
    "f_in   = open(dataset, 'r')  # ファイルを開く\n",
    "\n",
    "# 1行ずつ処理する\n",
    "for line in f_in:\n",
    "    \n",
    "    line = line.rstrip()  # 行末の改行コードを除去する\n",
    "    items = line.split('\\t')  # 行を分割する\n",
    "    snpindex = int(items[5]) / (int(items[4]) + int(items[5]))  # SNP-indexを計算する\n",
    "\n",
    "    #print(line)\n",
    "    #print(items)\n",
    "    #print(items[1])\n",
    "    print(snpindex)    \n",
    "    \n",
    "f_in.close()  # ファイルを閉じる"
   ]
  },
  {
   "cell_type": "markdown",
   "metadata": {},
   "source": [
    "出力されたファイルを確認してみましょう => [ファイル一覧へ](./)"
   ]
  },
  {
   "cell_type": "markdown",
   "metadata": {},
   "source": [
    "#### 補足事項: 出力する文字列の中に変数を埋め込む方法\n",
    "出力する文字列の中に変数の値を埋め込みたい場合、次のようなコードを書きます。  \n",
    "\n",
    "```python\n",
    "x = 5.3\n",
    "y = 3.4\n",
    "\n",
    "print('%d + %d = %d' % (x, y, x + y))\n",
    "# 出力結果 => 5 + 3 = 8\n",
    "\n",
    "print('%f + %.3f = %.2f' % (x, y, x + y))\n",
    "# 出力結果 => 5.300000 + 3.400 = 8.70\n",
    "\n",
    "print('%s + %s = %s' % (x, y, x + y))\n",
    "# 出力結果 => 5.3 + 3.4 = 8.7\n",
    "```\n",
    "`print()`内は、`%`を境に2つの部品に分かれます。  \n",
    "例えば、`'%d + %d = %d'`　と `(x, y, x + y)`\n",
    "\n",
    "前半の部品 `'%d + %d = %d'` は出力する文字列骨格です。  \n",
    "文字列骨格の中に`%d`が3つあります。  \n",
    "それぞれの`%d`に後半の部品 `(x, y, x + y)` の値が前から順番に代入されます。  \n",
    "\n",
    "また、`%d`や`%f`、`%s`で代入される値の型も指定できます。\n",
    "- `%d`: 整数値（integer）。小数点がある場合は切り捨てです。\n",
    "- `%f`: 浮動小数点値（float）。さらに小数点の桁数も指定できます(例えば、`%.3f`は小数点第3位まで表示)。\n",
    "- `%s`: 文字列（string）。数値は強制的に文字列として扱われます。"
   ]
  },
  {
   "cell_type": "code",
   "execution_count": null,
   "metadata": {},
   "outputs": [],
   "source": [
    "x = 5.3\n",
    "y = 3.4\n",
    "\n",
    "print('%d + %d = %d' % (x, y, x + y))\n",
    "# 出力結果 => 5 + 3 = 8\n",
    "\n",
    "print('%f + %.3f = %.2f' % (x, y, x + y))\n",
    "# 出力結果 => 5.300000 + 3.400 = 8.70\n",
    "\n",
    "print('%s + %s = %s' % (x, y, x + y))\n",
    "# 出力結果 => 5.3 + 3.4 = 8.7"
   ]
  },
  {
   "cell_type": "markdown",
   "metadata": {},
   "source": [
    "### 完成したプログラム\n"
   ]
  },
  {
   "cell_type": "code",
   "execution_count": null,
   "metadata": {},
   "outputs": [],
   "source": [
    "### 完成形 ###\n",
    "\n",
    "dataset = 'mutmap_bulk.txt' # 読み込みファイル名\n",
    "outdata = 'mutmap_snpindex.txt' # 書き出しファイル名\n",
    "\n",
    "f_in   = open(dataset, 'r')  # ファイルを開く\n",
    "f_out = open(outdata, 'w')  # ファイルを開く\n",
    "\n",
    "# 1行ずつ処理する\n",
    "for line in f_in:\n",
    "    \n",
    "    line = line.rstrip()  # 行末の改行コードを除去する\n",
    "    items = line.split('\\t')  # 行を分割する\n",
    "    snpindex = int(items[5]) / (int(items[4]) + int(items[5]))  # SNP-indexを計算する\n",
    "    out_line = line + '\\t' + str(snpindex)  # 行末（リストの最後）にSNP-indexデータを追加する\n",
    "                                                                    # タブ区切りで出力させるために、既存の文字列とSNP-indexの間をタブ文字で繋げている\n",
    "    #print(line)\n",
    "    #print(items)\n",
    "    #print(items[1])\n",
    "    #print(snpindex)    \n",
    "    print(out_line)\n",
    "    \n",
    "    f_out.write('%s\\n' % out_line)  # ファイルに書き出し（行末に改行コードを追加する）\n",
    "    \n",
    "f_in.close()  # ファイルを閉じる\n",
    "f_out.close()"
   ]
  },
  {
   "cell_type": "markdown",
   "metadata": {},
   "source": [
    "今回実習した方法は、非常に適用範囲の広く、ほとんどのテキストファイル処理に使える方法です。\n",
    "\n",
    "その一方で、次のような短所もあります。\n",
    "- 処理速度が遅い\n",
    "- プログラムが長くなる\n",
    "\n",
    "テーブル状のデータの場合、「Pandas」と呼ばれるライブラリを使うことで、より簡単(?)に扱えるようになります。  \n",
    "次回、同じデータを「Pandas」で処理してみて、その便利さを体験してもらう予定です。"
   ]
  },
  {
   "cell_type": "code",
   "execution_count": null,
   "metadata": {},
   "outputs": [],
   "source": []
  }
 ],
 "metadata": {
  "kernelspec": {
   "display_name": "Python 3",
   "language": "python",
   "name": "python3"
  },
  "language_info": {
   "codemirror_mode": {
    "name": "ipython",
    "version": 3
   },
   "file_extension": ".py",
   "mimetype": "text/x-python",
   "name": "python",
   "nbconvert_exporter": "python",
   "pygments_lexer": "ipython3",
   "version": "3.6.3"
  }
 },
 "nbformat": 4,
 "nbformat_minor": 2
}
