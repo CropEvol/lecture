{
 "cells": [
  {
   "cell_type": "raw",
   "metadata": {},
   "source": [
    "学籍番号:\n",
    "氏名:"
   ]
  },
  {
   "cell_type": "markdown",
   "metadata": {},
   "source": [
    "# Statistical Analysis (2)　Homework\n",
    "\n",
    "### Review last homework+α"
   ]
  },
  {
   "cell_type": "markdown",
   "metadata": {},
   "source": [
    "---\n",
    "## Exercise 1.\n",
    "__Dataset \"hw_gene_data1.csv\" is<br>__\n",
    "__ ・100 samples<br>__\n",
    "__ ・The length of leaves, the information of the 1000 genes.<br>__\n",
    "__Regarding genes, it shows whether Koshihikari genes (0) or Hitomebore genes (1) for each position.<br>__\n",
    "__Load this dataset, and want to detect genes that affect leaf length using t-test.__\n",
    "\n",
    "__First, please check mean values are different or not based on the gene data of \"chr8_pos5748\" is 0 or 1__\n",
    "\n",
    "Hint：lecture 9 homework answer"
   ]
  },
  {
   "cell_type": "code",
   "execution_count": null,
   "metadata": {
    "collapsed": true
   },
   "outputs": [],
   "source": [
    "import numpy as np\n",
    "import pandas as pd\n",
    "import scipy.stats\n",
    "\n",
    "gene_data = pd.read_csv(\"https://github.com/CropEvol/lecture/blob/master/textbook_2018/09_statistics/data/hw_gene_data1.csv?raw=true\", index_col=0)\n",
    "gene_data.head()\n",
    "\n",
    "#--- write code below ---\n",
    "\n"
   ]
  },
  {
   "cell_type": "markdown",
   "metadata": {},
   "source": [
    "---\n",
    "## Exercise 2.\n",
    "__Next, we want to do t-test to all gene positions(=all columns).<br>__\n",
    "__Try to check p-value of t-test for each column.<br>__\n",
    "`gene_data.columns`__: it can get columns name as list.__\n",
    "\n",
    "Hint：lecture 9 homework answer"
   ]
  },
  {
   "cell_type": "code",
   "execution_count": null,
   "metadata": {
    "collapsed": true
   },
   "outputs": [],
   "source": [
    "#--- write code below ---\n",
    "\n"
   ]
  },
  {
   "cell_type": "markdown",
   "metadata": {},
   "source": [
    "---\n",
    "## Exercise 3.\n",
    "__in exercise2, we repeat t-test so many times. But it's not goot method.<br>__\n",
    "__Why repeating test is not good ?__"
   ]
  },
  {
   "cell_type": "code",
   "execution_count": null,
   "metadata": {
    "collapsed": true
   },
   "outputs": [],
   "source": [
    "#--- write answer below ---\n",
    "\n"
   ]
  },
  {
   "cell_type": "markdown",
   "metadata": {},
   "source": [
    "---\n",
    "## Exercise 4.\n",
    "__Repeating t-test is Multiple test, so it's not proper method.<br>__\n",
    "__Then, we want to try calculate multiregression analysis, and try to get effect values of genes.<br>__\n",
    "__y:LeafLength、X:Gene Data, Please try to muti regression analysis.__\n",
    "\n",
    "ヒント：lecture 9 homework answer"
   ]
  },
  {
   "cell_type": "code",
   "execution_count": null,
   "metadata": {
    "collapsed": true
   },
   "outputs": [],
   "source": [
    "from sklearn import linear_model\n",
    "\n",
    "gene_data = pd.read_csv(\"https://github.com/CropEvol/lecture/blob/master/textbook_2018/09_statistics/data/hw_gene_data1.csv?raw=true\", index_col=0)\n",
    "gene_data.head()\n",
    "\n",
    "Y = gene_data.loc[:, \"LeafLength\"]\n",
    "X = gene_data.iloc[:, 1:]\n",
    "\n",
    "#--- write code below ---\n",
    "# --- model selection ~ display coef/score ---"
   ]
  },
  {
   "cell_type": "markdown",
   "metadata": {},
   "source": [
    "---\n",
    "\n",
    "## Question/Request"
   ]
  },
  {
   "cell_type": "raw",
   "metadata": {},
   "source": []
  },
  {
   "cell_type": "markdown",
   "metadata": {},
   "source": [
    "About submitting this homework\n",
    "Homework No.：10\n",
    "\n",
    "How to submit：\n",
    "\n",
    "Download this Jupyter Notebook file after the above three exercises.\n",
    "Attach the file to the mail, and send it to the address below.\n",
    "＊ Attention ＊　\n",
    "Write HW[Homework No. (2 digits)]+SID[Student ID (4 digits -2 digits- 4 digits)] into the subject of your mail.\n",
    "\n",
    "(Example) HW10+SID1234-56-7890\n",
    "\n",
    "E-mail Address: cropevol@gmail.com\n",
    "\n",
    "Deadline: 17:00, Dec 10, 2018"
   ]
  },
  {
   "cell_type": "code",
   "execution_count": null,
   "metadata": {
    "collapsed": true
   },
   "outputs": [],
   "source": []
  }
 ],
 "metadata": {
  "kernelspec": {
   "display_name": "Python 3",
   "language": "python",
   "name": "python3"
  },
  "language_info": {
   "codemirror_mode": {
    "name": "ipython",
    "version": 3
   },
   "file_extension": ".py",
   "mimetype": "text/x-python",
   "name": "python",
   "nbconvert_exporter": "python",
   "pygments_lexer": "ipython3",
   "version": "3.6.5"
  }
 },
 "nbformat": 4,
 "nbformat_minor": 2
}
