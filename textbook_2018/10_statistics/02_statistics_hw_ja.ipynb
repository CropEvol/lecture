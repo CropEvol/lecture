{
 "cells": [
  {
   "cell_type": "raw",
   "metadata": {},
   "source": [
    "学籍番号:\n",
    "氏名:"
   ]
  },
  {
   "cell_type": "markdown",
   "metadata": {},
   "source": [
    "# 統計解析 (2)　課題\n",
    "\n",
    "### 前回課題の復習+αになります。"
   ]
  },
  {
   "cell_type": "markdown",
   "metadata": {},
   "source": [
    "---\n",
    "## Exercise 1.\n",
    "__下に示すデータはイネ100個体の葉の長さ・1000箇所の遺伝子のデータである。<br>__\n",
    "__遺伝子に関しては、位置毎にコシヒカリの遺伝子(0)かヒトメボレの遺伝子(1)かを示している。<br>__\n",
    "__このデータを読み込み、t検定を用いて、葉の長さに影響を与えている可能性が高い遺伝子の位置を求めたい。<br>__\n",
    "\n",
    "__まずは、例として遺伝子の位置\"chr8_pos5748\"が0か1かによって平均値が変わっているのか確認してください。__\n",
    "\n",
    "ヒント：前回課題解答"
   ]
  },
  {
   "cell_type": "code",
   "execution_count": null,
   "metadata": {},
   "outputs": [],
   "source": [
    "import numpy as np\n",
    "import pandas as pd\n",
    "import scipy.stats\n",
    "\n",
    "gene_data = pd.read_csv(\"https://github.com/CropEvol/lecture/blob/master/textbook_2018/09_statistics/data/hw_gene_data1.csv?raw=true\", index_col=0)\n",
    "gene_data.head()\n",
    "\n",
    "#--- 以下にプログラムを追記してください ---\n",
    "\n"
   ]
  },
  {
   "cell_type": "markdown",
   "metadata": {},
   "source": [
    "---\n",
    "## Exercise 2.\n",
    "__次に、\"chr8_pos5748\"に関して確認した様なt検定を全ての遺伝子位置(全ての列名)で行いたい。<br>__\n",
    "__全ての列で同様な検定を行うことで、p値の低い遺伝子名(列名)を取り出してください。<br>__\n",
    "`データ.columns`__によって、列名は取得できるので、for文で列名を1つずつ取りだし、Exercise1の処理を行えばよい。__\n",
    "\n",
    "ヒント：前回課題解答"
   ]
  },
  {
   "cell_type": "code",
   "execution_count": null,
   "metadata": {
    "collapsed": true
   },
   "outputs": [],
   "source": [
    "#--- 以下にプログラムを追記してください ---\n",
    "\n"
   ]
  },
  {
   "cell_type": "markdown",
   "metadata": {},
   "source": [
    "---\n",
    "## Exercise 3.\n",
    "__複数の遺伝子の位置が候補に出てきたが、今回の様に何百回も検定を繰り返す行為は基本的にあまり良い手法とは言えない。<br>__\n",
    "__なぜ、検定をなんども繰り返すことは良いと言えないのであろうか？その理由を調べてみてください。__\n",
    "\n",
    "ヒント：\"多重検定\"で調べてみる。<br>((既に学んだかも知れないですが)生物統計学でも習うと思います。未習・未履修で調べても良く分からなければそれでも大丈夫です。)"
   ]
  },
  {
   "cell_type": "code",
   "execution_count": null,
   "metadata": {
    "collapsed": true
   },
   "outputs": [],
   "source": [
    "#--- 以下に理由を記述してください ---\n",
    "\n"
   ]
  },
  {
   "cell_type": "markdown",
   "metadata": {},
   "source": [
    "---\n",
    "## Exercise 4.\n",
    "__t検定を繰り返す行為は、多重検定と呼ばれ、あまり好ましくない。<br>__\n",
    "__そのため、重回帰式を求めることによって、各位置の遺伝子が0(コシヒカリ)から1(ヒトメボレ)に変化することの効果を１度の分析で求めたい。<br>__\n",
    "__葉の長さをy、遺伝子のデータをXとして扱い、重回帰分析を行ってみてください。__\n",
    "\n",
    "ヒント：前回課題Exercise2の解答"
   ]
  },
  {
   "cell_type": "code",
   "execution_count": null,
   "metadata": {},
   "outputs": [],
   "source": [
    "from sklearn import linear_model\n",
    "\n",
    "gene_data = pd.read_csv(\"https://github.com/CropEvol/lecture/blob/master/textbook_2018/09_statistics/data/hw_gene_data1.csv?raw=true\", index_col=0)\n",
    "gene_data.head()\n",
    "\n",
    "Y = gene_data.loc[:, \"LeafLength\"]\n",
    "X = gene_data.iloc[:, 1:]\n",
    "\n",
    "# --- model選択~回帰係数/決定係数の表示まで、以下にプログラムを追記してください ---"
   ]
  },
  {
   "cell_type": "markdown",
   "metadata": {},
   "source": [
    "---\n",
    "\n",
    "## 質問・要望\n",
    "質問や要望があれば、メール本文か下のセルに書いてください。"
   ]
  },
  {
   "cell_type": "raw",
   "metadata": {},
   "source": []
  },
  {
   "cell_type": "markdown",
   "metadata": {},
   "source": [
    "\n",
    "## 課題の提出について\n",
    "\n",
    "今回の課題番号：`10`\n",
    "\n",
    "提出方法：\n",
    "1. 課題終了後のノートブックファイルをダウンロードする\n",
    "1. そのファイルをメールに添付して、下記アドレスに送信する  \n",
    "\n",
    "    __＊重要＊　  \n",
    "    メールの件名を `HW[課題番号2桁]+SID[学籍番号(4桁-2桁-４桁)]`（すべて半角英数） にしてください。__  \n",
    "    \n",
    "    例） HW10+SID1234-56-7890\n",
    "    \n",
    "\n",
    "提出先: cropevol@gmail.com\n",
    "\n",
    "提出期限: 2018年12月10日（月） 17:00まで\n",
    "\n"
   ]
  },
  {
   "cell_type": "code",
   "execution_count": null,
   "metadata": {
    "collapsed": true
   },
   "outputs": [],
   "source": []
  }
 ],
 "metadata": {
  "kernelspec": {
   "display_name": "Python 3",
   "language": "python",
   "name": "python3"
  },
  "language_info": {
   "codemirror_mode": {
    "name": "ipython",
    "version": 3
   },
   "file_extension": ".py",
   "mimetype": "text/x-python",
   "name": "python",
   "nbconvert_exporter": "python",
   "pygments_lexer": "ipython3",
   "version": "3.6.5"
  }
 },
 "nbformat": 4,
 "nbformat_minor": 2
}
