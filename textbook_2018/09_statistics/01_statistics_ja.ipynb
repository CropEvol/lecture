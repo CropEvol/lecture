{
 "cells": [
  {
   "cell_type": "markdown",
   "metadata": {},
   "source": [
    "# 統計解析\n",
    "Scipyを用いた各種統計検定・推定、Scikit-Learnを用いた機械学習について触れ、ゲノム解析にどの様に活用出来るのかを学ぶ。\n",
    "\n",
    "## Contents\n",
    "\n",
    "### Introduction\n",
    "* [今回からの実習内容](#0.1)\n",
    "\n",
    "### Scipyによる基礎的な統計処理\n",
    "1. [データセットを読み込む](#1.1)\n",
    "1. [基本統計量を算出する](#1.2)\n",
    "1. [基本的な統計検定を行う](#1.3)\n",
    "1. [ゲノムデータにおける検定の利用](#1.4)\n",
    "\n",
    "### Scikit-Learn(sklearn)による回帰分析\n",
    "1. [(重)回帰分析](#1.5)\n",
    "1. [ゲノムデータにおける(重)回帰分析](#1.6)"
   ]
  },
  {
   "cell_type": "markdown",
   "metadata": {},
   "source": [
    "## Introduction\n",
    "\n",
    "これまで、Pythonの基本的な書き方を学び、データをどの様に読み込むのか、<br>\n",
    "どの様にデータを抽出するのかといった、データの基本的な扱い方を学びました。\n",
    "\n",
    "ここからの実習では、実際に扱える様になったデータセットを活用し、簡単な推測や予測を行っていきたいと思います。<br>\n",
    "\n",
    "具体的には、\n",
    "* [Scipy](https://docs.scipy.org/doc/scipy/reference/)ライブラリを利用した、基本的な統計処理、統計的推定  \n",
    "* [Scikit-Learn](https://scikit-learn.org/stable/)ライブラリを利用した、基本的な機械学習手法を用いた予測\n",
    "\n",
    "を行っていきます。"
   ]
  },
  {
   "cell_type": "markdown",
   "metadata": {},
   "source": [
    "### 本日の実習内容<a name=\"0.1\"></a>\n",
    "\n",
    "* [Scipy](https://docs.scipy.org/doc/scipy/reference/)ライブラリを利用し、基本的な統計検定を実装する。\n",
    "* [Scikit-Learn](https://scikit-learn.org/stable/)ライブラリを利用し、(重)回帰分析を行う。\n",
    "* 上記の手法をゲノム解析に応用する。\n",
    "\n",
    "#### 次回以降の実習内容\n",
    "* 統計学と機械学習の違いを学ぶ\n",
    "* 機械学習の基本的な流れを学ぶ\n",
    "* 問題点など\n",
    "* いくつか代表的な機械学習の手法を試す\n",
    "* ディープラーニングなどの紹介"
   ]
  },
  {
   "cell_type": "markdown",
   "metadata": {},
   "source": [
    "## Scipyによる統計処理\n",
    "### サンプルデータ\n",
    "\n",
    "まずは、基本的な統計処理を実装するためのサンプルとして、Irisデータセットを利用します。<br>\n",
    "このデータセットには、“setosa”, “versicolor”, “virginica” という3種類の品種のアヤメのデータが含まれており、<br>\n",
    "がく片(Sepal)、花弁(Petal)の幅および長さを計測したデータが用意されています。<br>\n",
    "\n",
    "データは150件、アヤメの3品種のデータがそれぞれ50件ずつ準備されています。"
   ]
  },
  {
   "cell_type": "markdown",
   "metadata": {},
   "source": [
    "### 1. Irisデータセットを読み込む<a name=\"1.1\"></a>"
   ]
  },
  {
   "cell_type": "code",
   "execution_count": null,
   "metadata": {},
   "outputs": [],
   "source": [
    "\"\"\"\n",
    "＊重要＊\n",
    "最初にこのセルを実行してください。\n",
    "サンプルデータをダウンロードします。\n",
    "\"\"\"\n",
    "\n",
    "#--- 必要なライブラリを読み込む  ---\n",
    "import pandas as pd\n",
    "import numpy as np\n",
    "import math\n",
    "import scipy.stats\n",
    "import matplotlib.pyplot as plt\n",
    "\n",
    "#--- irisデータセットを読み込む ---\n",
    "#--- header=Noneにより列名なし、names=[...]によって列名を指定する。\n",
    "iris = pd.read_csv('https://archive.ics.uci.edu/ml/machine-learning-databases/iris/iris.data', \n",
    "                 header=None, names=['sepal_length', 'sepal_width', 'petal_length', 'petal_width', 'class'])\n",
    "#--- データを表示\n",
    "iris"
   ]
  },
  {
   "cell_type": "code",
   "execution_count": null,
   "metadata": {},
   "outputs": [],
   "source": [
    "# 種毎のsepal_widthのデータを取得\n",
    "setosa = iris[iris['class'] == 'Iris-setosa'].sepal_width         # Iris setosa(ヒオウギアヤメ)\n",
    "virginica = iris[iris['class'] == 'Iris-virginica'].sepal_width   # Iris virginica\n",
    "versicolor = iris[iris['class'] == 'Iris-versicolor'].sepal_width # Iris versicolor\n",
    "setosa\n",
    "\n",
    "# グラフでsetosaを表示\n",
    "# plt.hist(setosa)\n",
    "# plt.show()"
   ]
  },
  {
   "cell_type": "markdown",
   "metadata": {},
   "source": [
    "### 2. 基本統計量を算出する<a name=\"1.2\"></a>"
   ]
  },
  {
   "cell_type": "code",
   "execution_count": null,
   "metadata": {},
   "outputs": [],
   "source": [
    "# 平均や分散など、基本的な統計量を算出\n",
    "\n",
    "##### setosaのsepal_width一覧 #####\n",
    "setosa\n",
    "\n",
    "##### setosaのsepal_widthの最大値 #####\n",
    "# max_value = setosa.max()\n",
    "# print(\"sepal_width_max:\", max_value)\n",
    "\n",
    "##### setosaのsepal_widthの最小値 #####\n",
    "# min_value = setosa.min()\n",
    "# print(\"sepal_width_min:\", min_value)\n",
    "\n",
    "##### setosaのsepal_widthの平均値 #####\n",
    "# mean_value = setosa.mean()\n",
    "# print(\"sepal_width_mean:\", mean_value)\n",
    "\n",
    "##### setosaのsepal_widthの不偏分散 #####\n",
    "# var_value = setosa.var()\n",
    "# print(\"sepal_width_var:\", var_value)\n",
    "\n",
    "##### setosaのsepal_widthの標本分散 #####\n",
    "# sample_var = setosa.var(ddof=False)\n",
    "# print(\"sepal_width_sample_var:\", sample_var)\n",
    "\n",
    "##### setosaのsepal_widthの不偏標準偏差 #####\n",
    "# std_value = setosa.std()\n",
    "# print(\"sepal_width_std:\", std_value)\n",
    "\n",
    "##### setosaのsepal_widthの標本標準偏差 #####\n",
    "# sample_std = setosa.std(ddof=False)\n",
    "# print(\"sepal_width_sample_std:\", sample_std)"
   ]
  },
  {
   "cell_type": "markdown",
   "metadata": {},
   "source": [
    "#### (参考)平均値の信頼区間を求める\n",
    "\\begin{align}\n",
    "\\bar{X}-t_{\\frac{a}{2}(n-1)}\\sqrt{\\frac{s^2}{n}} < \\mu < \\bar{X}+t_{\\frac{a}{2}(n-1)}\\sqrt{\\frac{s^2}{n}}\n",
    "\\end{align}"
   ]
  },
  {
   "cell_type": "code",
   "execution_count": null,
   "metadata": {},
   "outputs": [],
   "source": [
    "##### (参考)平均値の信頼区間を求める(t分布)\n",
    "n = len(setosa) #個体数                                    \n",
    "interval = scipy.stats.t.interval(alpha=0.95,                        # 有意水準\n",
    "                                  df=n-1,                            # 自由度 \n",
    "                                  loc=setosa.mean(),                 # 平均\n",
    "                                  scale=math.sqrt(setosa.var() / n)) # 標準偏差\n",
    "print(\"平均値の信頼区間(95%):\", interval)\n",
    "\n",
    "##### (参考)平均値±範囲で表したい場合、ppfは％点関数(t分布表の値を取得する関数)。\n",
    "# mean_value = setosa.mean()\n",
    "# under = scipy.stats.t.ppf(0.025, df=n-1) * math.sqrt(setosa.var() / n)\n",
    "# upper = scipy.stats.t.ppf(0.975, df=n-1) * math.sqrt(setosa.var() / n)\n",
    "# print(\"平均値の信頼区間(95%):\", mean_value, \"±\", upper)\n",
    "\n",
    "##### (参考)平均値の信頼区間を求める(正規分布)\n",
    "##### ※nが大きくなるほど、t分布は正規分布に近付く\n",
    "# interval = scipy.stats.norm.interval(alpha=0.95,                        # 有意水準\n",
    "#                                      loc=setosa.mean(),                 # 平均\n",
    "#                                      scale=math.sqrt(setosa.var() / n)) # 標準偏差\n",
    "# print(\"平均値の信頼区間(95%, nが大きい時):\", interval)"
   ]
  },
  {
   "cell_type": "code",
   "execution_count": null,
   "metadata": {},
   "outputs": [],
   "source": [
    "##### 各iris種のsepal_widthに関する統計量をまとめる\n",
    "data = {\n",
    "        \"species\":[\"setosa\", \"virginica\", \"versicolor\"],\n",
    "        \"max\": [setosa.max(), virginica.max(), versicolor.max()],\n",
    "        \"min\": [setosa.min(), virginica.min(), versicolor.min()],\n",
    "        \"mean\": [setosa.mean(), virginica.mean(), versicolor.mean()],\n",
    "        \"unbiased variance\":[setosa.var(), virginica.var(), versicolor.var()],\n",
    "        \"standard deviation\":[setosa.std(), virginica.std(), versicolor.std()],\n",
    "       }\n",
    "pd.DataFrame(data)"
   ]
  },
  {
   "cell_type": "markdown",
   "metadata": {},
   "source": [
    "### 3. 基本的な統計検定を行う<a name=\"1.3\"></a>"
   ]
  },
  {
   "cell_type": "markdown",
   "metadata": {},
   "source": [
    "* setosaの母平均は3.5と仮定できるか？ → 母平均の仮説検定\n",
    "\n",
    "\\begin{align}\n",
    "H_0:\\mu_0 = 3.5 \\quad H_1:\\mu_0 \\neq 3.5 \\quad t_0 = \\frac{\\bar{X}-\\mu_0}{\\sqrt{\\frac{s^2}{n}}} \\quad t_0 > t(df, α=0.05)で棄却\n",
    "\\end{align}\n",
    "\n",
    "* versicolorとvirginicaの平均値には差があると言って良いのか？ → 母平均の差の仮説検定　　(※等分散でない場合自由度$df=\\upsilon$を用いる)\n",
    "\n",
    "\\begin{align}\n",
    "H_0:\\mu_X - \\mu_Y = 0 \\quad H_1:\\mu_X - \\mu_Y \\neq 0\n",
    "\\end{align}\n",
    "\n",
    "\\begin{align}\n",
    "s^2 = \\frac{(n_X - 1)s^2_X+(n_Y - 1)s^2_Y}{n_X+n_Y-2} \\quad t_0 = \\frac{\\bar{X}-\\bar{Y}}{s\\sqrt{\\frac{1}{n_X} + \\frac{1}{n_Y}}} \\quad \\upsilon=\\frac{(\\frac{s_1^2}{n_1}+\\frac{s_2^2}{n_2})^2}{\\frac{(\\frac{s_1^2}{n_1})^2}{n_1-1}+\\frac{(\\frac{s_2^2}{n_2})^2}{n_2-1}} \\quad t_0 > t(df, α=0.05)で棄却\n",
    "\\end{align}"
   ]
  },
  {
   "cell_type": "code",
   "execution_count": null,
   "metadata": {},
   "outputs": [],
   "source": [
    "##### 母平均の仮説検定 #####\n",
    "mu_0 = 3.5\n",
    "scipy.stats.ttest_1samp(setosa, popmean=mu_0) \n",
    "\n",
    "### t統計量、p値の順で表示される。\n",
    "### p値が0.05以上なので、有意水準のもとでμ=3.5は棄却されない。\n",
    "\n",
    "\n",
    "##### 母平均の差の仮説検定 ~等分散を仮定した場合~ #####\n",
    "# scipy.stats.ttest_ind(versicolor, virginica)\n",
    "\n",
    "### t統計量、p値の順で表示される。\n",
    "### p値が0.05以下なのでμ_X - μ_Y = 0は有意水準0.05のもとで棄却される。\n",
    "\n",
    "\n",
    "##### 分散比のF検定 #####\n",
    "# f = versicolor.var() / virginica.var() \n",
    "# dfx = 50 - 1\n",
    "# dfy = 50 - 1\n",
    "# scipy.stats.f.cdf(f, dfx, dfy)\n",
    "\n",
    "### p値が0.05以上なので、有意水準のもとで分散が等しいという帰無仮説は棄却されない\n",
    "\n",
    "\n",
    "##### (参考) 母平均の差の仮説検定 ~分散が異なると仮定した場合~ #####\n",
    "# scipy.stats.ttest_ind(versicolor, virginica, equal_var=False)\n",
    "\n",
    "### t統計量、p値の順で表示される。\n",
    "### p値が0.05以下なのでμ_X - μ_Y = 0は有意水準0.05のもとで棄却される。"
   ]
  },
  {
   "cell_type": "markdown",
   "metadata": {
    "collapsed": true
   },
   "source": [
    "#### (参考)他にも、対応のあるt検定や適合度の検定、独立性の検定など様々な統計検定の関数が用意されている。\n",
    "\n",
    "* 適合度の検定の例\n",
    "\n",
    "サイコロの各目の出る確率は1/6という仮説に従っているか？→適合度のカイ二乗検定\n",
    "\n",
    "|サイコロの目|1|2|3|4|5|6|計|\n",
    "|--------|---|-|-|-|-|-|-|\n",
    "|観測度数f |10|7|8|11|6|8|50|\n",
    "|期待度数 |50/6|50/6|50/6|50/6|50/6|50/6|50|\n",
    "\n",
    "\\begin{align}\n",
    "H_0: p_i=1/6 \\quad(i=1...6) \\quad H_1:p_i \\neq 1/6 \\quad \\chi^2 = \\sum_{i} \\frac{(f_i - np_i)^2}{np_i} \\quad \\chi^2 > \\chi^2(df, α=0.05)で棄却\n",
    "\\end{align}"
   ]
  },
  {
   "cell_type": "code",
   "execution_count": null,
   "metadata": {},
   "outputs": [],
   "source": [
    "scipy.stats.chisquare([10, 7, 8, 11, 6, 8], f_exp=[50/6, 50/6, 50/6, 50/6, 50/6, 50/6])\n",
    "### カイ二乗値とp値の順で表示される\n",
    "### p値が0.05以上なので、有意水準のもとでp=1/6は棄却されない。"
   ]
  },
  {
   "cell_type": "markdown",
   "metadata": {},
   "source": [
    "* 独立性の検定の例\n",
    "\n",
    "喫煙とある病気の発症には関係があるのか？→独立性のカイ二乗検定\n",
    "\n",
    "||非喫煙者(non-smoker)|喫煙者(smoker)|計|\n",
    "|--------|---|-|-|\n",
    "|患者(bad)|117|54|171|\n",
    "|健康者(good)|954|148|1102|\n",
    "|計|1071|202|1273|\n",
    "\n",
    "\\begin{align}\n",
    "\\chi^2=\\sum_i \\sum_j \\frac{(nf_{ij}-f_{i \\cdot}f_{\\cdot j})^2}{nf_{i \\cdot}f_{\\cdot j}} \\quad \\chi^2 > \\chi^2(df, α=0.05)で棄却\n",
    "\\end{align}"
   ]
  },
  {
   "cell_type": "code",
   "execution_count": null,
   "metadata": {},
   "outputs": [],
   "source": [
    "# 検定したいデータセットの作成\n",
    "smoking_df = pd.DataFrame({\n",
    "    'non-smoker': [117, 954],\n",
    "    'smoker': [54, 148]\n",
    "}, index=['bad', 'good'])\n",
    "\n",
    "print(smoking_df)\n",
    "\n",
    "scipy.stats.chi2_contingency(smoking_df)\n",
    "### カイ二乗値、P値、自由度、期待度数の順で表示される。\n",
    "### p値が0.05以下なので、有意水準のもとで2つの属性が独立しているという仮定が棄却される。"
   ]
  },
  {
   "cell_type": "markdown",
   "metadata": {},
   "source": [
    "### 4. ゲノム解析で用いると<a name=\"1.4\"></a>"
   ]
  },
  {
   "cell_type": "markdown",
   "metadata": {},
   "source": [
    "#### 4_1 データセット\n",
    "\n",
    "サンプルデータとして、200個体分の葉の幅、葉の長さ、病気の有無、及び10番染色体上に存在する10個の塩基の情報を利用する。"
   ]
  },
  {
   "cell_type": "code",
   "execution_count": null,
   "metadata": {},
   "outputs": [],
   "source": [
    "###### 塩基配列と形質値・病気抵抗性\n",
    "gene_data = pd.read_csv(\"data/gene_data.csv\", index_col=0)\n",
    "gene_data"
   ]
  },
  {
   "cell_type": "markdown",
   "metadata": {},
   "source": [
    "#### 4_2 塩基が変化することによる量的形質への影響\n",
    "\n",
    "ある塩基を持つか持たないかにより、形質値に変化があるのかをt検定してみる<br>\n",
    "chr10_1の塩基がGからAに変化することで、葉の長さに影響はあるか？\n",
    "<img src=\"data/compare.png\" alt=\"compare\" width=\"50%\" height=\"50%\">"
   ]
  },
  {
   "cell_type": "code",
   "execution_count": null,
   "metadata": {},
   "outputs": [],
   "source": [
    "###### chr10_1がGの個体の葉の長さ、Aの個体の葉の長さをそれぞれ取得 #####\n",
    "G_data = gene_data[gene_data[\"chr10_1\"] == \"G\"].LeafLength\n",
    "A_data = gene_data[gene_data[\"chr10_1\"] == \"A\"].LeafLength\n",
    "gene_data[gene_data[\"chr10_1\"] == \"G\"]\n",
    "\n",
    "###### 箱ひげ図で表示してみる ######\n",
    "# plt.title(\"Leaf Length\")\n",
    "# plt.boxplot((G_data, A_data))\n",
    "# plt.xticks([1, 2], [\"G\", \"A\"])\n",
    "# plt.xlabel(\"chr10_1\")\n",
    "# plt.show()\n",
    "\n",
    "###### 平均値の差をt検定 ######\n",
    "# scipy.stats.ttest_ind(G_data, A_data, equal_var=False)\n",
    "\n",
    "### chr10_1の位置の遺伝子に、葉の長さを調整する機能があるのかもしれない。"
   ]
  },
  {
   "cell_type": "markdown",
   "metadata": {},
   "source": [
    "#### 4_3 塩基が変化することによる質的形質への影響\n",
    "\n",
    "ある塩基を持つか持たないかにより、病気の抵抗性に変化があるのかを独立性の検定をする。<br>\n",
    "chr10_2の塩基がGからAに変化することで、病気の抵抗性に影響はあるか？\n",
    "<img src=\"data/compare2.png\" alt=\"compare2\" width=\"50%\" height=\"50%\">"
   ]
  },
  {
   "cell_type": "code",
   "execution_count": null,
   "metadata": {},
   "outputs": [],
   "source": [
    "###### chr10_2と病気の各条件の個体数を取得\n",
    "G_True = gene_data[(gene_data[\"chr10_2\"] == \"G\") & (gene_data[\"disease\"] == True)].shape[0]\n",
    "G_False = gene_data[(gene_data[\"chr10_2\"] == \"G\") & (gene_data[\"disease\"] == False)].shape[0]\n",
    "A_True = gene_data[(gene_data[\"chr10_2\"] == \"A\") & (gene_data[\"disease\"] == True)].shape[0]\n",
    "A_False = gene_data[(gene_data[\"chr10_2\"] == \"A\") & (gene_data[\"disease\"] == False)].shape[0]\n",
    "\n",
    "disease_df = pd.DataFrame({\n",
    "    'G': [G_True, G_False],\n",
    "    'A': [A_True, A_False]\n",
    "}, index=['True', 'False'])\n",
    "\n",
    "print(disease_df)\n",
    "\n",
    "scipy.stats.chi2_contingency(disease_df)\n",
    "\n",
    "### chr10_2の位置の遺伝子に、病気抵抗性に関連する機能があるのかもしれない。"
   ]
  },
  {
   "cell_type": "markdown",
   "metadata": {},
   "source": [
    "### 検定による手法の限界・問題点\n",
    "\n",
    "* 実際には遺伝子は更に沢山あり((ex)イネの場合約30,000遺伝子)、たった1つの遺伝子(座)が影響を及ぼしているとは思えない。\n",
    "\n",
    "　→　複数の遺伝子の影響を考慮する必要がある。<br>\n",
    "　→　t検定や独立性の検定では前提条件・多重検定等の問題をクリアできない\n",
    "\n",
    "* 形質に影響を及ぼしているのは、遺伝子だけではなく、環境や生育条件など、他にも様々な要因が影響している。\n",
    "\n",
    "　→　遺伝子以外の他要因を考慮できる分析モデルが必要。"
   ]
  },
  {
   "cell_type": "markdown",
   "metadata": {},
   "source": [
    "## Scikit-Learn(sklearn)による回帰分析\n",
    "### 1. (重)回帰分析<a name=\"1.5\"></a>\n",
    "\n",
    "複数の要因を考慮可能な手法として、最も簡易な線形回帰がまず挙げられる。<br>\n",
    "これは、説明変数の値から目的変数の値を予測するモデルである。<br>\n",
    "<img src=\"data/regression_base.png\" alt=\"reg_base\" width=\"50%\" height=\"50%\">\n",
    "まず１要因のみを考慮する単回帰分析を説明したのち、複数の要因を考慮に入れた重回帰分析を説明する。<br>\n",
    "\n",
    "#### 単回帰分析\n",
    "例としてirisデータセットのsepal_lengthをsepal_widthデータでどれだけ説明できるか、回帰分析を行う。<br>\n",
    "\n",
    "$ Y(sepal\\_length) = \\beta * X(sepal\\_width) + e \\quad →\\beta$と$e$を求める。"
   ]
  },
  {
   "cell_type": "code",
   "execution_count": null,
   "metadata": {},
   "outputs": [],
   "source": [
    "import pandas as pd\n",
    "import matplotlib.pyplot as plt\n",
    "##### irisデータセットを読み込む ######\n",
    "iris = pd.read_csv('https://archive.ics.uci.edu/ml/machine-learning-databases/iris/iris.data', \n",
    "                 header=None, names=['sepal_length', 'sepal_width', 'petal_length', 'petal_width', 'class'])\n",
    "setosa = iris[iris['class'] == 'Iris-setosa']\n",
    "setosa.head()"
   ]
  },
  {
   "cell_type": "markdown",
   "metadata": {},
   "source": [
    "$ Y(sepal\\_length) = \\beta * X(sepal\\_width) + e$"
   ]
  },
  {
   "cell_type": "code",
   "execution_count": null,
   "metadata": {},
   "outputs": [],
   "source": [
    "# sklearnライブラリを読み込む\n",
    "from sklearn import linear_model\n",
    "\n",
    "# まずはモデルを選択\n",
    "clf = linear_model.LinearRegression()\n",
    "\n",
    "# 説明変数に \"sepal_width\" を利用\n",
    "X = setosa[[\"sepal_width\"]]\n",
    "\n",
    "# 目的変数に \"sepal_length\" を利用\n",
    "Y = setosa[[\"sepal_length\"]]\n",
    "\n",
    "# 予測モデルを作成\n",
    "clf.fit(X, Y)\n",
    " \n",
    "# 回帰係数\n",
    "print(clf.coef_)\n",
    " \n",
    "# 切片 (誤差)\n",
    "print(clf.intercept_)\n",
    " \n",
    "# 決定係数\n",
    "print(clf.score(X, Y))"
   ]
  },
  {
   "cell_type": "markdown",
   "metadata": {},
   "source": [
    "つまり、回帰式は以下の様に表される。<br>\n",
    "$ Y(sepal\\_length) = 0.6908544 × X(sepal\\_width) + 2.64465968$\n",
    "\n",
    "また、決定係数は以下の式で計算され、目的変数の予測値が、実際の目的変数の値とどのくらい一致しているかを表している指標です。<br>\n",
    "\\begin{align}\n",
    "R^{2}= 1-{\\sum _{i}(y_{i}-f_{i})^{2} \\over \\sum _{i}(y_{i}-{\\bar {y}})^{2}} \\quad 0 \\leqq R^2 \\leqq 1\n",
    "\\end{align}"
   ]
  },
  {
   "cell_type": "code",
   "execution_count": null,
   "metadata": {},
   "outputs": [],
   "source": [
    "# 可視化\n",
    "plt.scatter(X, Y, color=\"black\")\n",
    " \n",
    "# Xの最小値から最大値まで0.1刻み、モデルに合わせてYの値を出力\n",
    "# [:,np.newaxis]で2次元データに変換する\n",
    "px = np.arange(X.min(), X.max(), 0.1)[:,np.newaxis]\n",
    "# 学習したモデルでpyを出力\n",
    "py = clf.predict(px)\n",
    " \n",
    "# 回帰直線\n",
    "plt.plot(px, py, color=\"b\")\n",
    " \n",
    "plt.title(\"Relationship Width & Length\")\n",
    "plt.xlabel(\"Sepal Width\")\n",
    "plt.ylabel(\"Sepal Length\")\n",
    "plt.show()\n",
    "\n",
    "# 実測値と予測値の比較\n",
    "# predict_value = clf.predict(X)\n",
    "# plt.plot(range(len(Y)), Y, color=\"b\")\n",
    "# plt.plot(range(len(Y)), predict_value, color=\"r\")\n",
    " \n",
    "# plt.title(\"Measured value vs Prediction\")\n",
    "# plt.xlabel(\"n\")\n",
    "# plt.ylabel(\"Sepal Length\")\n",
    "# plt.show()"
   ]
  },
  {
   "cell_type": "markdown",
   "metadata": {},
   "source": [
    "続いて、重回帰分析を行う。<br>\n",
    "\n",
    "今度は全種のsepal_lengthをsepal_width, petal_length, petal_widthによって説明する回帰分析を行う。<br>"
   ]
  },
  {
   "cell_type": "markdown",
   "metadata": {},
   "source": [
    "$Y(sepal\\_length) = \\beta_1*X_1(sepal\\_width) + \\beta_2*X_2(petal\\_length) + \\beta_3*X_3(petal\\_width) + e$"
   ]
  },
  {
   "cell_type": "code",
   "execution_count": null,
   "metadata": {},
   "outputs": [],
   "source": [
    "# モデルを選択\n",
    "clf = linear_model.LinearRegression()\n",
    "\n",
    "# 説明変数に \"sepal_width\" を利用\n",
    "X = iris[[\"sepal_width\", \"petal_length\", \"petal_width\"]]\n",
    "\n",
    "# 目的変数に \"sepal_length\" を利用\n",
    "Y = iris[[\"sepal_length\"]]\n",
    "\n",
    "# 予測モデルを作成\n",
    "clf.fit(X, Y)\n",
    " \n",
    "# 回帰係数\n",
    "print(clf.coef_)\n",
    " \n",
    "# 切片 (誤差)\n",
    "print(clf.intercept_)\n",
    " \n",
    "# 決定係数\n",
    "print(clf.score(X, Y))"
   ]
  },
  {
   "cell_type": "markdown",
   "metadata": {},
   "source": [
    "つまり、回帰式は以下の様に表される。<br>\n",
    "$ Y(sepal\\_length) = 0.65486424 × X(sepal\\_width) + 0.71106291 × X(petal\\_length) + -0.56256786 × X(petal\\_width) + 1.8450608$"
   ]
  },
  {
   "cell_type": "code",
   "execution_count": null,
   "metadata": {},
   "outputs": [],
   "source": [
    "# 実測値と予測値の比較\n",
    "predict_value = clf.predict(X)\n",
    "plt.figure(figsize=(15, 8), dpi=50)\n",
    "\n",
    "plt.plot(range(len(Y)), Y, color=\"b\")\n",
    "plt.plot(range(len(Y)), predict_value, color=\"r\")\n",
    "\n",
    "plt.title(\"Measured value vs Prediction\")\n",
    "plt.xlabel(\"n\")\n",
    "plt.ylabel(\"Sepal Length\")\n",
    "plt.show()"
   ]
  },
  {
   "cell_type": "markdown",
   "metadata": {},
   "source": [
    "##### <参考>  (重)回帰分析の最小二乗法の解法について\n",
    "\n",
    "\\begin{align}\n",
    "y = \\beta_1x_1 + \\beta_2x_2 + \\beta_2x_2 + \\beta_3x_3... + \\beta_kx_k + e \\\\\n",
    "\\end{align}<br>\n",
    "\n",
    "と回帰式を表すとき、全個体のデータは以下の様に表せる。\n",
    "\n",
    "\\begin{align}\n",
    "\\boldsymbol{y} = \\boldsymbol{X} \\boldsymbol{\\beta} + \\boldsymbol{e}\n",
    "\\end{align}\n",
    "\n",
    "\\begin{align}\n",
    "\\boldsymbol{y} = \\left[\\begin{array}{c}\n",
    "            y_1 \\\\\n",
    "            y_2 \\\\\n",
    "            ... \\\\\n",
    "            y_n \\\\\n",
    "        \\end{array}\\right] \\quad\n",
    "\\boldsymbol{X} = \\left[\\begin{array}{c}\n",
    "            x_{11} & x_{21} & x_{31} & ... & x_{k1} \\\\\n",
    "            x_{12} & x_{22} & x_{32} & ... & x_{k2} \\\\\n",
    "            ... & ... & ... & ... & ...\\\\\n",
    "            x_{1n} & x_{2n} & x_{3n} & ... & x_{kn} \\\\\n",
    "        \\end{array}\\right] \\quad\n",
    "\\boldsymbol{\\beta} = \\left[\\begin{array}{c}\n",
    "            \\beta_1 \\\\\n",
    "            \\beta_2 \\\\\n",
    "            ... \\\\\n",
    "            \\beta_k \\\\\n",
    "        \\end{array}\\right] \\quad\n",
    "\\boldsymbol{e} = \\left[\\begin{array}{c}\n",
    "            e_1 \\\\\n",
    "            e_2 \\\\\n",
    "            ... \\\\\n",
    "            e_n \\\\\n",
    "        \\end{array}\\right]\n",
    "\\end{align}\n",
    "\n",
    "この時、$\\boldsymbol{y} - \\boldsymbol{X} \\boldsymbol{\\beta} = \\boldsymbol{e}$となり、この$\\boldsymbol{e}(e_1,e_2...e_n)$の二乗和$\\sum{e_i^2}$が最小となる様な$\\boldsymbol{\\beta}$の値を求めることになる。<br><br>\n",
    "各個体の$y_i$の推定値$\\hat{y_i} = \\boldsymbol{X_i} \\boldsymbol{\\beta}$とすると、$E = \\sum{e_i^2} = \\sum{(\\hat{y_i} - y_i)^2}$より$\\boldsymbol{e}$の二乗和を求め、各$\\beta$に関して偏微分を行うと、<br><br>\n",
    "$E$を最小とする$\\boldsymbol{\\beta}$は$\\boldsymbol{X'}\\boldsymbol{X}\\boldsymbol{\\beta} = \\boldsymbol{X'}\\boldsymbol{y}$を計算することによって得られることがわかる。"
   ]
  },
  {
   "cell_type": "markdown",
   "metadata": {},
   "source": [
    "### 2. ゲノムデータにおける(重)回帰分析<a name=\"1.6\"></a>\n",
    "ゲノムデータを用いて重回帰分析を行う場合、気をつける点がある。\n",
    "\n",
    "\\begin{align}\n",
    "y = \\beta_1x_1 + \\beta_2x_2 + \\beta_2x_2 + \\beta_3x_3... + \\beta_kx_k + e \n",
    "\\end{align}\n",
    "\n",
    "\\begin{align}\n",
    "y(形質値) = gene_1の効果 * x_1 + gene_2の効果 * x_2 + gene_3の効果 * x_3 + ...\n",
    "\\end{align}\n",
    "\n",
    "といった形で表したい訳だが、ゲノムデータは基本的に量的ではなく質的であるという点に気をつける。<br>\n",
    "これはカテゴリカルデータとも呼ばれ、回帰分析に用いるにはデータを少し変換する必要がある。\n",
    "<img src=\"data/categorical.png\" alt=\"categorical\" width=\"30%\" height=\"30%\">"
   ]
  },
  {
   "cell_type": "markdown",
   "metadata": {},
   "source": [
    "##### カテゴリカルデータの扱い方の一例\n",
    "\n",
    "ある一塩基の効果を回帰式によって調べたい場合\n",
    "<img src=\"data/categorical2.png\" alt=\"categorical2\" width=\"75%\" height=\"75%\">\n",
    "\n",
    "このような変換は、pandasの`get_dummies()`という関数で行える。<br>"
   ]
  },
  {
   "cell_type": "code",
   "execution_count": null,
   "metadata": {},
   "outputs": [],
   "source": [
    "###### 塩基配列と形質値\n",
    "gene_data = pd.read_csv(\"data/gene_data.csv\", index_col=0)\n",
    "gene_data.head()"
   ]
  },
  {
   "cell_type": "code",
   "execution_count": null,
   "metadata": {},
   "outputs": [],
   "source": [
    "convert_gene_data = pd.get_dummies(gene_data, drop_first=True)\n",
    "convert_gene_data.head()"
   ]
  },
  {
   "cell_type": "code",
   "execution_count": null,
   "metadata": {},
   "outputs": [],
   "source": [
    "# モデル選択\n",
    "clf = linear_model.LinearRegression()\n",
    "\n",
    "# 説明変数にchr10の塩基データ(４列目以降)を利用\n",
    "X = convert_gene_data.iloc[:, 3:]\n",
    "\n",
    "# 目的変数に \"LeafWidth\" を利用\n",
    "Y = convert_gene_data.loc[:, \"LeafWidth\"]\n",
    "\n",
    "# 予測モデルを作成\n",
    "clf.fit(X, Y)\n",
    "\n",
    "# 回帰係数\n",
    "print(clf.coef_)\n",
    " \n",
    "# 切片 (誤差)\n",
    "print(clf.intercept_)\n",
    " \n",
    "# 決定係数\n",
    "print(clf.score(X, Y))"
   ]
  },
  {
   "cell_type": "code",
   "execution_count": null,
   "metadata": {},
   "outputs": [],
   "source": [
    "# 実測値と予測値の比較\n",
    "predict_value = clf.predict(X)\n",
    "plt.figure(figsize=(15, 8), dpi=50)\n",
    "\n",
    "plt.plot(range(len(Y)), Y, color=\"b\")\n",
    "plt.plot(range(len(Y)), predict_value, color=\"r\")\n",
    "\n",
    "plt.title(\"Measured value vs Prediction\")\n",
    "plt.xlabel(\"n\")\n",
    "plt.ylabel(\"Sepal Width\")\n",
    "plt.show()"
   ]
  },
  {
   "cell_type": "markdown",
   "metadata": {},
   "source": [
    "##### 重回帰分析の結果…\n",
    "\n",
    "回帰式は<br>\n",
    "\n",
    "$y = 0.016 * x_1 + 0.002 * x_2 + -0.493 * x_3 + ... + 2.96$\n",
    "\n",
    "となる。決定係数は0.978...と非常に高くLeafWidthをかなりうまく説明していることになる。<br>\n",
    "\n",
    "決定係数の非常に高い回帰式は、ゲノムデータの様な変数の数が非常に大きな(超高次元データ)において線形回帰するとよく見られる。<br>\n",
    "\n",
    "それでは果たしてこのような回帰式は現実に即した結果と言えるものだろうか？<br>\n",
    "\n",
    "実際には大きな問題を含んでいる。次回はこの点から。"
   ]
  },
  {
   "cell_type": "code",
   "execution_count": null,
   "metadata": {
    "collapsed": true
   },
   "outputs": [],
   "source": []
  }
 ],
 "metadata": {
  "kernelspec": {
   "display_name": "Python 3",
   "language": "python",
   "name": "python3"
  },
  "language_info": {
   "codemirror_mode": {
    "name": "ipython",
    "version": 3
   },
   "file_extension": ".py",
   "mimetype": "text/x-python",
   "name": "python",
   "nbconvert_exporter": "python",
   "pygments_lexer": "ipython3",
   "version": "3.6.5"
  }
 },
 "nbformat": 4,
 "nbformat_minor": 2
}
