{
 "cells": [
  {
   "cell_type": "markdown",
   "metadata": {},
   "source": [
    "## 統計解析 (1)　課題-解答例"
   ]
  },
  {
   "cell_type": "markdown",
   "metadata": {},
   "source": [
    "### t検定の確認"
   ]
  },
  {
   "cell_type": "code",
   "execution_count": null,
   "metadata": {
    "collapsed": true
   },
   "outputs": [],
   "source": [
    "Tokyo = [180, 185, 180, 184, 176, 175, 188, 172, 180, 80]\n",
    "Osaka = [243, 171, 172, 172, 174, 175, 168, 169, 170, 176]"
   ]
  },
  {
   "cell_type": "code",
   "execution_count": null,
   "metadata": {
    "collapsed": true
   },
   "outputs": [],
   "source": [
    "import scipy.stats\n",
    "\n",
    "scipy.stats.ttest_ind(Tokyo, Osaka)"
   ]
  },
  {
   "cell_type": "markdown",
   "metadata": {},
   "source": [
    "### Exercise.1\n",
    "\n",
    "下に示すデータはイネ100個体の葉の長さ・1000箇所の遺伝子のデータである。<br>\n",
    "遺伝子に関しては、位置毎にコシヒカリの遺伝子(0)かヒトメボレの遺伝子(1)かを示している。<br>\n",
    "このデータを読み込み、t検定を用いて、葉の長さに影響を与えている可能性が高い遺伝子の位置を求めよ。"
   ]
  },
  {
   "cell_type": "code",
   "execution_count": null,
   "metadata": {
    "collapsed": true
   },
   "outputs": [],
   "source": [
    "import numpy as np\n",
    "import pandas as pd\n",
    "import scipy.stats\n",
    "\n",
    "# データの確認\n",
    "gene_data = pd.read_csv(\"https://github.com/CropEvol/lecture/blob/master/textbook_2018/09_statistics/data/hw_gene_data1.csv?raw=true\", index_col=0)\n",
    "# 5行目まで表示\n",
    "gene_data.head()"
   ]
  },
  {
   "cell_type": "code",
   "execution_count": null,
   "metadata": {
    "collapsed": true
   },
   "outputs": [],
   "source": [
    "# chr2_pos7237の遺伝子が0のものを取り出す\n",
    "gene_0 = gene_data[gene_data[\"chr2_pos7237\"] == 0]\n",
    "gene_0\n",
    "\n",
    "# chr2_pos7237の遺伝子が1のものを取り出す\n",
    "# gene_1 = "
   ]
  },
  {
   "cell_type": "code",
   "execution_count": null,
   "metadata": {
    "collapsed": true
   },
   "outputs": [],
   "source": [
    "# t検定をする\n",
    "scipy.stats.ttest_ind(, )"
   ]
  },
  {
   "cell_type": "code",
   "execution_count": null,
   "metadata": {
    "collapsed": true
   },
   "outputs": [],
   "source": [
    "# p値が0.05より小さい場合、平均値に差がある → 遺伝子が変わることで葉の長さが変化する\n",
    "if p < 0.05:\n",
    "    print(\"chr2_pos7237では遺伝子0か1かで平均値に差がある\")\n",
    "else:\n",
    "    print(\"chr2_pos7237では遺伝子0か1かで平均値に差があるとは言えない\")"
   ]
  },
  {
   "cell_type": "markdown",
   "metadata": {},
   "source": [
    "一連の流れ：ある遺伝子が0か1かでデータ分け → t検定 → p値を比較<br>\n",
    "を全ての遺伝子の位置(全ての列)で行い、p値の低い列名を取り出したい。"
   ]
  },
  {
   "cell_type": "code",
   "execution_count": null,
   "metadata": {
    "collapsed": true
   },
   "outputs": [],
   "source": [
    "# このような検定を全遺伝子で行う\n",
    "gene_0 = gene_data[gene_data[\"chr2_pos7237\"] == 0]\n",
    "gene_0_y = gene_0[\"LeafLength\"]\n",
    "gene_1 = gene_data[gene_data[\"chr2_pos7237\"] == 1]\n",
    "gene_1_y = gene_1[\"LeafLength\"]\n",
    "t, p = scipy.stats.ttest_ind(gene_0_y, gene_1_y)\n",
    "if p < 0.05:\n",
    "    print(\"chr2_pos7273\")\n",
    "else:\n",
    "    print(\"平均値は同じ\")"
   ]
  },
  {
   "cell_type": "code",
   "execution_count": null,
   "metadata": {
    "collapsed": true
   },
   "outputs": [],
   "source": [
    "# 列名を取り出す\n",
    "col_names = gene_data.columns\n",
    "col_names"
   ]
  },
  {
   "cell_type": "code",
   "execution_count": null,
   "metadata": {
    "collapsed": true
   },
   "outputs": [],
   "source": [
    "# for文の確認\n",
    "import time\n",
    "\n",
    "# range(5) = [0, 1, 2, 3, 4]\n",
    "for i in range(5):\n",
    "    print(i)\n",
    "    time.sleep(1)\n",
    "    print(\"ここまで繰り返す！\")\n",
    "print(\"end\")\n",
    "\n",
    "# for moji in [\"a\", \"b\", \"c\", \"d\", \"e\"]:\n",
    "#     print(moji)\n",
    "#     time.sleep(1)\n",
    "\n",
    "# for col in col_names:\n",
    "#     print(col)\n",
    "#     time.sleep(1)"
   ]
  },
  {
   "cell_type": "code",
   "execution_count": null,
   "metadata": {
    "collapsed": true
   },
   "outputs": [],
   "source": [
    "for col in col_names:\n",
    "    ### t検定 ###\n",
    "    \n",
    "    ### t検定 ###"
   ]
  },
  {
   "cell_type": "code",
   "execution_count": null,
   "metadata": {
    "collapsed": true
   },
   "outputs": [],
   "source": [
    "import numpy as np\n",
    "import pandas as pd\n",
    "import scipy.stats\n",
    "\n",
    "gene_data = pd.read_csv(\"data/hw_gene_data1.csv\", index_col=0)\n",
    "\n",
    "#--- 以下にプログラムを追記してください ---\n",
    "\n",
    "# 列名を取り出す\n",
    "col_names = gene_data.columns.values[1:]\n",
    "# 各列ごとにt検定を行う。\n",
    "for col in col_names:\n",
    "    gene_0 = gene_data[gene_data[col] == 0].LeafLength\n",
    "    gene_1 = gene_data[gene_data[col] == 1].LeafLength\n",
    "    t, p = scipy.stats.ttest_ind(gene_0, gene_1)\n",
    "    # p値が0.05以下の列のみ列名を表示\n",
    "    if p < 0.05:\n",
    "        print(col)"
   ]
  },
  {
   "cell_type": "markdown",
   "metadata": {},
   "source": [
    "### Exercise.2\n",
    "下に示すデータはある畜産動物の枝肉重量と6つの遺伝子の場所にある塩基の情報である。<br>\n",
    "枝肉重量を目的変数とした重回帰分析を行い、結果が何を意味するか回答せよ。<br>\n",
    "説明変数は自由に指定して良い。(全て使っても良いし、一部を用いても良い)"
   ]
  },
  {
   "cell_type": "code",
   "execution_count": null,
   "metadata": {
    "collapsed": true
   },
   "outputs": [],
   "source": [
    "import numpy as np\n",
    "import pandas as pd\n",
    "from sklearn import linear_model\n",
    "\n",
    "gene_data = pd.read_csv(\"https://github.com/CropEvol/lecture/blob/master/textbook_2018/09_statistics/data/hw_gene_data2.csv?raw=true\", index_col=0)\n",
    "gene_data.head()"
   ]
  },
  {
   "cell_type": "markdown",
   "metadata": {},
   "source": [
    "カテゴリカルデータの変換 `pd.get_dummies(データ, drop_first=True)`で変換"
   ]
  },
  {
   "cell_type": "code",
   "execution_count": null,
   "metadata": {
    "collapsed": true
   },
   "outputs": [],
   "source": [
    "convert_gene_data = pd.get_dummies(gene_data, drop_first=True)\n",
    "convert_gene_data.head()"
   ]
  },
  {
   "cell_type": "code",
   "execution_count": null,
   "metadata": {
    "collapsed": true
   },
   "outputs": [],
   "source": [
    "# model選択(どの手法を使うか指定する)\n",
    "# 今回は重回帰分析(線形回帰)を行うので、LinearRegression()モデルを利用する。\n",
    "clf = linear_model.LinearRegression()"
   ]
  },
  {
   "cell_type": "markdown",
   "metadata": {},
   "source": [
    "pandasでは`データ.loc[:, 列名]`で欲しい列のデータを取得できる"
   ]
  },
  {
   "cell_type": "code",
   "execution_count": null,
   "metadata": {
    "collapsed": true
   },
   "outputs": [],
   "source": [
    "# 目的変数yの設定\n",
    "Y = \n",
    "Y.head()"
   ]
  },
  {
   "cell_type": "markdown",
   "metadata": {},
   "source": [
    "pandasでは`データ.iloc[:, 列番号:列番号]`で欲しい列の範囲のデータを取得できる"
   ]
  },
  {
   "cell_type": "code",
   "execution_count": null,
   "metadata": {
    "collapsed": true
   },
   "outputs": [],
   "source": [
    "# 説明変数Xの設定\n",
    "X = \n",
    "X.head()"
   ]
  },
  {
   "cell_type": "code",
   "execution_count": null,
   "metadata": {
    "collapsed": true
   },
   "outputs": [],
   "source": [
    "# データをモデルに入れる\n",
    "clf.fit(X, Y)\n",
    "\n",
    "# このfit関数を動かした後、偏回帰係数coef_やeの値であるintercept_などを求めることができる様になっている。"
   ]
  },
  {
   "cell_type": "markdown",
   "metadata": {},
   "source": [
    "<img src=\"https://github.com/CropEvol/lecture/blob/master/textbook_2018/09_statistics/data/regression_base_en.png?raw=true\" alt=\"reg_base\" width=\"50%\" height=\"50%\">"
   ]
  },
  {
   "cell_type": "code",
   "execution_count": null,
   "metadata": {
    "collapsed": true
   },
   "outputs": [],
   "source": [
    "# 偏回帰係数:βの値\n",
    "clf.coef_"
   ]
  },
  {
   "cell_type": "code",
   "execution_count": null,
   "metadata": {
    "collapsed": true
   },
   "outputs": [],
   "source": [
    "# 定数項:eの値\n",
    "clf.intercept_"
   ]
  },
  {
   "cell_type": "markdown",
   "metadata": {},
   "source": [
    "$y=gene_{1C}*9.6846+gene_{1G}*-22.2562+gene_{1T}*-12.0509+gene_{2C}*8.5455+...+gene_{6T}*-0.3228+59.68858$"
   ]
  },
  {
   "cell_type": "code",
   "execution_count": null,
   "metadata": {
    "collapsed": true
   },
   "outputs": [],
   "source": [
    "# predict : 予測値、つまり求められた回帰式に各Xを当てはめた結果を返してくれる\n",
    "clf.predict(X)"
   ]
  },
  {
   "cell_type": "code",
   "execution_count": null,
   "metadata": {
    "collapsed": true
   },
   "outputs": [],
   "source": [
    "# valuesをつけると、pandasの形式から通常のlist形式になる\n",
    "print(Y.values)"
   ]
  },
  {
   "cell_type": "code",
   "execution_count": null,
   "metadata": {
    "collapsed": true
   },
   "outputs": [],
   "source": [
    "import matplotlib.pyplot as plt\n",
    "# 予測した値ともともとの真の値を比較\n",
    "plt.plot(Y.values)\n",
    "plt.plot(clf.predict(X))\n",
    "plt.show()"
   ]
  },
  {
   "cell_type": "code",
   "execution_count": null,
   "metadata": {
    "collapsed": true
   },
   "outputs": [],
   "source": [
    "# Xを元にpredictした値と、もともと真の値であるYの値がどれだけ近いかの指標\n",
    "clf.score(X, Y)"
   ]
  },
  {
   "cell_type": "code",
   "execution_count": null,
   "metadata": {
    "collapsed": true
   },
   "outputs": [],
   "source": [
    "# 解答例\n",
    "\n",
    "import numpy as np\n",
    "import pandas as pd\n",
    "from sklearn import linear_model\n",
    "\n",
    "gene_data = pd.read_csv(\"data/hw_gene_data2.csv\", index_col=0)\n",
    "convert_gene_data = pd.get_dummies(gene_data, drop_first=True)\n",
    "\n",
    "# model選択\n",
    "clf = linear_model.LinearRegression()\n",
    "\n",
    "# 説明変数と目的変数の設定\n",
    "Y = convert_gene_data.loc[:, \"Carcass_weight\"]\n",
    "X = convert_gene_data.iloc[:, 1:]\n",
    "\n",
    "# モデル予測\n",
    "clf.fit(X, Y)\n",
    "\n",
    "# 偏回帰係数などを表示\n",
    "print(clf.coef_)\n",
    "print(clf.intercept_)\n",
    "print(clf.score(X, Y))"
   ]
  },
  {
   "cell_type": "code",
   "execution_count": null,
   "metadata": {
    "collapsed": true
   },
   "outputs": [],
   "source": []
  }
 ],
 "metadata": {
  "kernelspec": {
   "display_name": "Python 3",
   "language": "python",
   "name": "python3"
  },
  "language_info": {
   "codemirror_mode": {
    "name": "ipython",
    "version": 3
   },
   "file_extension": ".py",
   "mimetype": "text/x-python",
   "name": "python",
   "nbconvert_exporter": "python",
   "pygments_lexer": "ipython3",
   "version": "3.6.5"
  }
 },
 "nbformat": 4,
 "nbformat_minor": 2
}
