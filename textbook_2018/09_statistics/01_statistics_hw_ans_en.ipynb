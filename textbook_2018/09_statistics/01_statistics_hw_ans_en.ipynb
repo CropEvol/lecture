{
 "cells": [
  {
   "cell_type": "markdown",
   "metadata": {},
   "source": [
    "## Statistical Analysis(1) homework-answer"
   ]
  },
  {
   "cell_type": "markdown",
   "metadata": {},
   "source": [
    "### Check t-test"
   ]
  },
  {
   "cell_type": "code",
   "execution_count": null,
   "metadata": {
    "collapsed": true
   },
   "outputs": [],
   "source": [
    "Tokyo = [180, 185, 180, 184, 176, 175, 188, 172, 180, 80]\n",
    "Osaka = [243, 171, 172, 172, 174, 175, 168, 169, 170, 176]"
   ]
  },
  {
   "cell_type": "code",
   "execution_count": null,
   "metadata": {
    "collapsed": true
   },
   "outputs": [],
   "source": [
    "import scipy.stats\n",
    "\n",
    "scipy.stats.ttest_ind(Tokyo, Osaka)"
   ]
  },
  {
   "cell_type": "markdown",
   "metadata": {},
   "source": [
    "### Exercise.1\n",
    "\n",
    "Dataset \"hw_gene_data1.csv\" is<br>\n",
    "・100 samples<br>\n",
    "・The length of leaves, the information of the 1000 genes.<br>\n",
    "Regarding genes, it shows whether Koshihikari genes (0) or Hitomebore genes (1) for each position.<br>\n",
    "Load this dataset, and detect genes that affect leaf length using t-test."
   ]
  },
  {
   "cell_type": "code",
   "execution_count": null,
   "metadata": {
    "collapsed": true
   },
   "outputs": [],
   "source": [
    "import numpy as np\n",
    "import pandas as pd\n",
    "import scipy.stats\n",
    "\n",
    "# check Data\n",
    "gene_data = pd.read_csv(\"https://github.com/CropEvol/lecture/blob/master/textbook_2018/09_statistics/data/hw_gene_data1.csv?raw=true\", index_col=0)\n",
    "# display 1-5 rows\n",
    "gene_data.head()"
   ]
  },
  {
   "cell_type": "code",
   "execution_count": null,
   "metadata": {
    "collapsed": true
   },
   "outputs": [],
   "source": [
    "# extract data of chr2_pos7237 = 0\n",
    "gene_0 = gene_data[gene_data[\"chr2_pos7237\"] == 0]\n",
    "gene_0\n",
    "\n",
    "# extract data of chr2_pos7237 = 1\n",
    "# gene_1 = "
   ]
  },
  {
   "cell_type": "code",
   "execution_count": null,
   "metadata": {
    "collapsed": true
   },
   "outputs": [],
   "source": [
    "# t-test\n",
    "scipy.stats.ttest_ind(, )"
   ]
  },
  {
   "cell_type": "code",
   "execution_count": null,
   "metadata": {
    "collapsed": true
   },
   "outputs": [],
   "source": [
    "# p < 0.05 = There is a difference in mean value → gene in this position affect leaf length\n",
    "if p < 0.05:\n",
    "    print(\"chr2_pos7237:difference in mean value\")\n",
    "else:\n",
    "    print(\"chr2_pos7237:no difference in mean value\")"
   ]
  },
  {
   "cell_type": "markdown",
   "metadata": {},
   "source": [
    "Flow：data split(gene=0 or 1) → t-test → compare p-value<br>\n",
    "Do this flow to all columns, and extract column name when p-value < 0.05."
   ]
  },
  {
   "cell_type": "code",
   "execution_count": null,
   "metadata": {
    "collapsed": true
   },
   "outputs": [],
   "source": [
    "# flow\n",
    "gene_0 = gene_data[gene_data[\"chr2_pos7237\"] == 0]\n",
    "gene_0_y = gene_0[\"LeafLength\"]\n",
    "gene_1 = gene_data[gene_data[\"chr2_pos7237\"] == 1]\n",
    "gene_1_y = gene_1[\"LeafLength\"]\n",
    "t, p = scipy.stats.ttest_ind(gene_0_y, gene_1_y)\n",
    "if p < 0.05:\n",
    "    print(\"chr2_pos7273\")\n",
    "else:\n",
    "    print(\"no difference in mean value\")"
   ]
  },
  {
   "cell_type": "code",
   "execution_count": null,
   "metadata": {
    "collapsed": true
   },
   "outputs": [],
   "source": [
    "# extract columns name\n",
    "col_names = gene_data.columns\n",
    "col_names"
   ]
  },
  {
   "cell_type": "code",
   "execution_count": null,
   "metadata": {
    "collapsed": true
   },
   "outputs": [],
   "source": [
    "# check for function\n",
    "import time\n",
    "\n",
    "# range(5) = [0, 1, 2, 3, 4]\n",
    "for i in range(5):\n",
    "    print(i)\n",
    "    time.sleep(1)\n",
    "    print(\"loop until this line!\")\n",
    "print(\"end\")\n",
    "\n",
    "# for moji in [\"a\", \"b\", \"c\", \"d\", \"e\"]:\n",
    "#     print(moji)\n",
    "#     time.sleep(1)\n",
    "\n",
    "# for col in col_names:\n",
    "#     print(col)\n",
    "#     time.sleep(1)"
   ]
  },
  {
   "cell_type": "code",
   "execution_count": null,
   "metadata": {
    "collapsed": true
   },
   "outputs": [],
   "source": [
    "for col in col_names:\n",
    "    ### t-test ###\n",
    "    \n",
    "    ### t-test ###"
   ]
  },
  {
   "cell_type": "code",
   "execution_count": null,
   "metadata": {
    "collapsed": true
   },
   "outputs": [],
   "source": [
    "import numpy as np\n",
    "import pandas as pd\n",
    "import scipy.stats\n",
    "\n",
    "gene_data = pd.read_csv(\"data/hw_gene_data1.csv\", index_col=0)\n",
    "\n",
    "# extract columns name\n",
    "col_names = gene_data.columns.values[1:]\n",
    "# t-test by each column \n",
    "for col in col_names:\n",
    "    gene_0 = gene_data[gene_data[col] == 0].LeafLength\n",
    "    gene_1 = gene_data[gene_data[col] == 1].LeafLength\n",
    "    t, p = scipy.stats.ttest_ind(gene_0, gene_1)\n",
    "    # display colmn name when p-value < 0.05\n",
    "    if p < 0.05:\n",
    "        print(col)"
   ]
  },
  {
   "cell_type": "markdown",
   "metadata": {},
   "source": [
    "### Exercise.2\n",
    "Dataset \"hw_gene_data2.csv\" is<br>\n",
    "・100 animal samples<br>\n",
    "・Carcass_weight, the informatin of base in 6 genes<br>\n",
    "Set Carcass_weight to the target variable and implement multiple regression analysis.<br>\n",
    "Then, answer the interpretation of results.<br>"
   ]
  },
  {
   "cell_type": "code",
   "execution_count": null,
   "metadata": {
    "collapsed": true
   },
   "outputs": [],
   "source": [
    "import numpy as np\n",
    "import pandas as pd\n",
    "from sklearn import linear_model\n",
    "\n",
    "gene_data = pd.read_csv(\"https://github.com/CropEvol/lecture/blob/master/textbook_2018/09_statistics/data/hw_gene_data2.csv?raw=true\", index_col=0)\n",
    "gene_data.head()"
   ]
  },
  {
   "cell_type": "markdown",
   "metadata": {},
   "source": [
    "convert categorical data by `pd.get_dummies(データ, drop_first=True)`"
   ]
  },
  {
   "cell_type": "code",
   "execution_count": null,
   "metadata": {
    "collapsed": true
   },
   "outputs": [],
   "source": [
    "convert_gene_data = pd.get_dummies(gene_data, drop_first=True)\n",
    "convert_gene_data.head()"
   ]
  },
  {
   "cell_type": "code",
   "execution_count": null,
   "metadata": {
    "collapsed": true
   },
   "outputs": [],
   "source": [
    "# select model(select method)\n",
    "# To use multi regression analysis → LinearRegression()\n",
    "clf = linear_model.LinearRegression()"
   ]
  },
  {
   "cell_type": "markdown",
   "metadata": {},
   "source": [
    "`データ.loc[:, column name]` : extract column name's column data"
   ]
  },
  {
   "cell_type": "code",
   "execution_count": null,
   "metadata": {
    "collapsed": true
   },
   "outputs": [],
   "source": [
    "# Target variable\n",
    "Y = "
   ]
  },
  {
   "cell_type": "markdown",
   "metadata": {},
   "source": [
    "`データ.iloc[:, column number:column number]` : extract column data from column number to the other number"
   ]
  },
  {
   "cell_type": "code",
   "execution_count": null,
   "metadata": {
    "collapsed": true
   },
   "outputs": [],
   "source": [
    "X = "
   ]
  },
  {
   "cell_type": "code",
   "execution_count": null,
   "metadata": {},
   "outputs": [],
   "source": [
    "# fit data to model\n",
    "clf.fit(X, Y)\n",
    "\n",
    "# after fit(X, Y), you can use .coef_, .intercept_"
   ]
  },
  {
   "cell_type": "markdown",
   "metadata": {},
   "source": [
    "<img src=\"https://github.com/CropEvol/lecture/blob/master/textbook_2018/09_statistics/data/regression_base_en.png?raw=true\" alt=\"reg_base\" width=\"50%\" height=\"50%\">"
   ]
  },
  {
   "cell_type": "code",
   "execution_count": null,
   "metadata": {
    "collapsed": true
   },
   "outputs": [],
   "source": [
    "# coefficient:β value\n",
    "clf.coef_"
   ]
  },
  {
   "cell_type": "code",
   "execution_count": null,
   "metadata": {
    "collapsed": true
   },
   "outputs": [],
   "source": [
    "# intercept:e value\n",
    "clf.intercept_"
   ]
  },
  {
   "cell_type": "markdown",
   "metadata": {},
   "source": [
    "$y=gene_{1C}*9.6846+gene_{1G}*-22.2562+gene_{1T}*-12.0509+gene_{2C}*8.5455+...+gene_{6T}*-0.3228+59.68858$"
   ]
  },
  {
   "cell_type": "code",
   "execution_count": null,
   "metadata": {
    "collapsed": true
   },
   "outputs": [],
   "source": [
    "# predicted value from X\n",
    "clf.predict(X)"
   ]
  },
  {
   "cell_type": "code",
   "execution_count": null,
   "metadata": {
    "collapsed": true
   },
   "outputs": [],
   "source": [
    "# .values → pandas to normal list type\n",
    "print(Y.values)"
   ]
  },
  {
   "cell_type": "code",
   "execution_count": null,
   "metadata": {
    "collapsed": true
   },
   "outputs": [],
   "source": [
    "import matplotlib.pyplot as plt\n",
    "# compare predicted value and true value\n",
    "plt.plot(Y.values)\n",
    "plt.plot(clf.predict(X))\n",
    "plt.show()"
   ]
  },
  {
   "cell_type": "code",
   "execution_count": null,
   "metadata": {
    "collapsed": true
   },
   "outputs": [],
   "source": [
    "# compare predicted value and true value\n",
    "clf.score(X, Y)"
   ]
  },
  {
   "cell_type": "code",
   "execution_count": null,
   "metadata": {
    "collapsed": true
   },
   "outputs": [],
   "source": [
    "# solution example\n",
    "\n",
    "import numpy as np\n",
    "import pandas as pd\n",
    "from sklearn import linear_model\n",
    "\n",
    "gene_data = pd.read_csv(\"data/hw_gene_data2.csv\", index_col=0)\n",
    "convert_gene_data = pd.get_dummies(gene_data, drop_first=True)\n",
    "\n",
    "# select model\n",
    "clf = linear_model.LinearRegression()\n",
    "\n",
    "# data make\n",
    "Y = convert_gene_data.loc[:, \"Carcass_weight\"]\n",
    "X = convert_gene_data.iloc[:, 1:]\n",
    "\n",
    "# predict\n",
    "clf.fit(X, Y)\n",
    "\n",
    "# display result\n",
    "print(clf.coef_)\n",
    "print(clf.intercept_)\n",
    "print(clf.score(X, Y))"
   ]
  },
  {
   "cell_type": "code",
   "execution_count": null,
   "metadata": {
    "collapsed": true
   },
   "outputs": [],
   "source": []
  }
 ],
 "metadata": {
  "kernelspec": {
   "display_name": "Python 3",
   "language": "python",
   "name": "python3"
  },
  "language_info": {
   "codemirror_mode": {
    "name": "ipython",
    "version": 3
   },
   "file_extension": ".py",
   "mimetype": "text/x-python",
   "name": "python",
   "nbconvert_exporter": "python",
   "pygments_lexer": "ipython3",
   "version": "3.6.5"
  }
 },
 "nbformat": 4,
 "nbformat_minor": 2
}
