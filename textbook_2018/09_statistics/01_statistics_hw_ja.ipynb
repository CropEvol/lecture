{
 "cells": [
  {
   "cell_type": "raw",
   "metadata": {},
   "source": [
    "学籍番号:\n",
    "氏名:"
   ]
  },
  {
   "cell_type": "markdown",
   "metadata": {},
   "source": [
    "# 統計解析 (1)　課題"
   ]
  },
  {
   "cell_type": "markdown",
   "metadata": {},
   "source": [
    "---\n",
    "## Exercise 1.\n",
    "__下に示すデータはイネ100個体の葉の長さ・1000箇所の遺伝子のデータである。<br>__\n",
    "__遺伝子に関しては、位置毎にコシヒカリの遺伝子(0)かヒトメボレの遺伝子(1)かを示している。<br>__\n",
    "__このデータを読み込み、t検定を用いて、葉の長さに影響を与えている可能性が高い遺伝子の位置を求めよ。__\n",
    "\n",
    "ヒント : ページ最下部に記述"
   ]
  },
  {
   "cell_type": "code",
   "execution_count": null,
   "metadata": {},
   "outputs": [],
   "source": [
    "import numpy as np\n",
    "import pandas as pd\n",
    "import scipy.stats\n",
    "\n",
    "gene_data = pd.read_csv(\"data/hw_gene_data1.csv\", index_col=0)\n",
    "\n",
    "#--- 以下にプログラムを追記してください ---\n",
    "\n"
   ]
  },
  {
   "cell_type": "markdown",
   "metadata": {},
   "source": [
    "---\n",
    "## Exercise 2. \n",
    "__下に示すデータはある畜産動物の枝肉重量と6つの遺伝子の場所にある塩基の情報である。<br>__\n",
    "__枝肉重量を目的変数とした重回帰分析を行い、結果が何を意味するか回答せよ。<br>__\n",
    "__説明変数は自由に指定して良い。(全て使っても良いし、一部を用いても良い)__\n",
    "\n",
    "ヒント: 実習内容 [ゲノムデータにおける(重)回帰分析](01_statistics_ja.ipynb#1.6)<br>"
   ]
  },
  {
   "cell_type": "code",
   "execution_count": null,
   "metadata": {},
   "outputs": [],
   "source": [
    "import numpy as np\n",
    "import pandas as pd\n",
    "from sklearn import linear_model\n",
    "\n",
    "gene_data = pd.read_csv(\"data/hw_gene_data2.csv\", index_col=0)\n",
    "convert_gene_data = pd.get_dummies(gene_data, drop_first=True)\n",
    "\n",
    "#--- 以下にプログラムを追記してください ---\n",
    "\n"
   ]
  },
  {
   "cell_type": "code",
   "execution_count": null,
   "metadata": {
    "collapsed": true
   },
   "outputs": [],
   "source": [
    "#--- 以下に結果の解釈 ---\n",
    "\n"
   ]
  },
  {
   "cell_type": "markdown",
   "metadata": {},
   "source": [
    "---\n",
    "## Exercise 3.\n",
    "#### (時間のある人は考えてみて下さい。必須ではないです。)\n",
    "__講義資料ページ最後で求める回帰式は決定係数が非常に高く、一見良い回帰式に見えるが問題があると述べた。<br>__\n",
    "__Exercise 2.の結果を踏まえ、どの様な点が問題となるだろうか。__\n",
    "\n",
    "ヒント: なし"
   ]
  },
  {
   "cell_type": "code",
   "execution_count": null,
   "metadata": {
    "collapsed": true
   },
   "outputs": [],
   "source": [
    "#--- 以下に考え・回答を書いてください ---\n"
   ]
  },
  {
   "cell_type": "markdown",
   "metadata": {},
   "source": [
    "---\n",
    "\n",
    "## 質問・要望\n",
    "質問や要望があれば、メール本文か下のセルに書いてください。"
   ]
  },
  {
   "cell_type": "raw",
   "metadata": {},
   "source": []
  },
  {
   "cell_type": "markdown",
   "metadata": {},
   "source": [
    "\n",
    "## 課題の提出について\n",
    "\n",
    "今回の課題番号：`09`\n",
    "\n",
    "提出方法：\n",
    "1. 課題終了後のノートブックファイルをダウンロードする\n",
    "1. そのファイルをメールに添付して、下記アドレスに送信する  \n",
    "\n",
    "    __＊重要＊　  \n",
    "    メールの件名を `HW[課題番号2桁]+SID[学籍番号(4桁-2桁-４桁)]`（すべて半角英数） にしてください。__  \n",
    "    \n",
    "    例） HW09+SID1234-56-7890\n",
    "    \n",
    "\n",
    "提出先: cropevol@gmail.com\n",
    "\n",
    "提出期限: 2018年12月03日（月） 17:00まで\n",
    "\n"
   ]
  },
  {
   "cell_type": "markdown",
   "metadata": {},
   "source": [
    "### Exercise1.のヒント・略解\n",
    "\n",
    "`gene_data.columns.values`で列名をリストの形で取得することができる。<br>\n",
    "(`gene_data.columns.values[1:]`でLeafLengthを除いた列名)<br>\n",
    "\n",
    "あとは\n",
    "```\n",
    "col_names = gene_data.columns.values[1:]\n",
    "for col in col_names:\n",
    "    gene_0 = gene_data[gene_data[col] == 0].LeafLength\n",
    "    ...\n",
    "    ...\n",
    "    t検定を行う処理\n",
    "    if ??? < 0.05:\n",
    "        ...\n",
    "```\n",
    "の様な形でfor文で全ての列においてt検定を行いp値の低い列名を取り出していく。\n",
    "\n",
    "\n",
    "p < 0.05を取り出した場合下記の様な遺伝子位置が出てくるはずです。\n",
    "\n",
    "['chr9_pos2064', 'chr5_pos1434', 'chr5_pos3924', 'chr5_pos3221', 'chr2_pos9979', 'chr2_pos7911', 'chr5_pos1712', 'chr2_pos4987', 'chr3_pos8527', 'chr6_pos497', 'chr8_pos9062', 'chr8_pos3781', 'chr6_pos7605', 'chr2_pos4422', 'chr8_pos9726', 'chr2_pos5595', 'chr8_pos5571', 'chr3_pos7248', 'chr9_pos4010', 'chr2_pos8310', 'chr1_pos7859', 'chr3_pos3580', 'chr9_pos7297', 'chr2_pos4667', 'chr9_pos6392', 'chr2_pos7200', 'chr9_pos4930', 'chr1_pos6641', 'chr5_pos967', 'chr4_pos6076', 'chr9_pos1435', 'chr7_pos3471', 'chr8_pos1647', 'chr1_pos2662', 'chr9_pos8835', 'chr7_pos2008', 'chr6_pos6709', 'chr9_pos3122', 'chr3_pos7605', 'chr8_pos7876', 'chr2_pos8936', 'chr8_pos2801', 'chr2_pos2057', 'chr1_pos9627', 'chr7_pos3144', 'chr9_pos9762', 'chr7_pos9958', 'chr8_pos6653', 'chr2_pos1260', 'chr8_pos2624', 'chr1_pos8714', 'chr6_pos977', 'chr1_pos7531', 'chr7_pos7345', 'chr6_pos6602', 'chr3_pos7319', 'chr5_pos9579']"
   ]
  },
  {
   "cell_type": "code",
   "execution_count": null,
   "metadata": {
    "collapsed": true
   },
   "outputs": [],
   "source": []
  }
 ],
 "metadata": {
  "kernelspec": {
   "display_name": "Python 3",
   "language": "python",
   "name": "python3"
  },
  "language_info": {
   "codemirror_mode": {
    "name": "ipython",
    "version": 3
   },
   "file_extension": ".py",
   "mimetype": "text/x-python",
   "name": "python",
   "nbconvert_exporter": "python",
   "pygments_lexer": "ipython3",
   "version": "3.6.5"
  }
 },
 "nbformat": 4,
 "nbformat_minor": 2
}
