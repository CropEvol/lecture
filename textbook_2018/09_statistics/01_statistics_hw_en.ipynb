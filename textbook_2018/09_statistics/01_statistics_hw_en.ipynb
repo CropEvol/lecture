{
 "cells": [
  {
   "cell_type": "raw",
   "metadata": {},
   "source": [
    "学籍番号:\n",
    "氏名:"
   ]
  },
  {
   "cell_type": "markdown",
   "metadata": {},
   "source": [
    "# Statistical analysis (1)　Home work"
   ]
  },
  {
   "cell_type": "markdown",
   "metadata": {},
   "source": [
    "---\n",
    "## Exercise 1.\n",
    "__Dataset \"hw_gene_data1.csv\" is<br>__\n",
    "__ ・100 samples<br>__\n",
    "__ ・The length of leaves, the information of the 1000 genes.<br>__\n",
    "__Regarding genes, it shows whether Koshihikari genes (0) or Hitomebore genes (1) for each position.<br>__\n",
    "__Load this dataset, and detect genes that affect leaf length using t-test.__\n",
    "\n",
    "Hint : the bottom of the page"
   ]
  },
  {
   "cell_type": "code",
   "execution_count": null,
   "metadata": {},
   "outputs": [],
   "source": [
    "import numpy as np\n",
    "import pandas as pd\n",
    "import scipy.stats\n",
    "\n",
    "gene_data = pd.read_csv(\"data/hw_gene_data1.csv\", index_col=0)\n",
    "\n",
    "#--- write code below ---\n",
    "\n"
   ]
  },
  {
   "cell_type": "markdown",
   "metadata": {},
   "source": [
    "---\n",
    "## Exercise 2. \n",
    "__Dataset \"hw_gene_data2.csv\" is<br>__\n",
    "__・100 animal samples<br>__\n",
    "__・Carcass_weight, the informatin of base in 6 genes<br>__\n",
    "__Set Carcass_weight to the target variable and implement multiple regression analysis.<br>__\n",
    "__Then, answer the interpretation of results.__\n",
    "\n",
    "ヒント: [Multiple regression analysis for genome data.](01_statistics_en.ipynb#1.6)<br>"
   ]
  },
  {
   "cell_type": "code",
   "execution_count": null,
   "metadata": {},
   "outputs": [],
   "source": [
    "import numpy as np\n",
    "import pandas as pd\n",
    "from sklearn import linear_model\n",
    "\n",
    "gene_data = pd.read_csv(\"data/hw_gene_data2.csv\", index_col=0)\n",
    "convert_gene_data = pd.get_dummies(gene_data, drop_first=True)\n",
    "\n",
    "#--- write code below ---\n",
    "\n"
   ]
  },
  {
   "cell_type": "code",
   "execution_count": null,
   "metadata": {
    "collapsed": true
   },
   "outputs": [],
   "source": [
    "#--- write meaning of result below ---\n",
    "\n"
   ]
  },
  {
   "cell_type": "markdown",
   "metadata": {},
   "source": [
    "---\n",
    "\n",
    "## Question/Request"
   ]
  },
  {
   "cell_type": "raw",
   "metadata": {},
   "source": []
  },
  {
   "cell_type": "markdown",
   "metadata": {},
   "source": [
    "\n",
    "About submitting this homework\n",
    "Homework No.：09\n",
    "\n",
    "How to submit：\n",
    "\n",
    "Download this Jupyter Notebook file after the above three exercises.\n",
    "Attach the file to the mail, and send it to the address below.\n",
    "＊ Attention ＊　\n",
    "Write HW[Homework No. (2 digits)]+SID[Student ID (4 digits -2 digits- 4 digits)] into the subject of your mail.\n",
    "\n",
    "(Example) HW09+SID1234-56-7890\n",
    "\n",
    "E-mail Address: cropevol@gmail.com\n",
    "\n",
    "Deadline: 17:00, Dec 3, 2018"
   ]
  },
  {
   "cell_type": "markdown",
   "metadata": {},
   "source": [
    "### Exercise1.のヒント・略解\n",
    "\n",
    "`gene_data.columns.values`  ...Get col names<br>\n",
    "(`gene_data.columns.values[1:]` ... col names without phenotype name)<br>\n",
    "\n",
    "\n",
    "```\n",
    "col_names = gene_data.columns.values[1:]\n",
    "for col in col_names:\n",
    "    gene_0 = gene_data[gene_data[col] == 0].LeafLength\n",
    "    ...\n",
    "    ...\n",
    "    t-test\n",
    "    if ??? < 0.05:\n",
    "        ...\n",
    "```\n",
    "\n",
    "\n",
    "answer(p < 0.05)\n",
    "\n",
    "['chr9_pos2064', 'chr5_pos1434', 'chr5_pos3924', 'chr5_pos3221', 'chr2_pos9979', 'chr2_pos7911', 'chr5_pos1712', 'chr2_pos4987', 'chr3_pos8527', 'chr6_pos497', 'chr8_pos9062', 'chr8_pos3781', 'chr6_pos7605', 'chr2_pos4422', 'chr8_pos9726', 'chr2_pos5595', 'chr8_pos5571', 'chr3_pos7248', 'chr9_pos4010', 'chr2_pos8310', 'chr1_pos7859', 'chr3_pos3580', 'chr9_pos7297', 'chr2_pos4667', 'chr9_pos6392', 'chr2_pos7200', 'chr9_pos4930', 'chr1_pos6641', 'chr5_pos967', 'chr4_pos6076', 'chr9_pos1435', 'chr7_pos3471', 'chr8_pos1647', 'chr1_pos2662', 'chr9_pos8835', 'chr7_pos2008', 'chr6_pos6709', 'chr9_pos3122', 'chr3_pos7605', 'chr8_pos7876', 'chr2_pos8936', 'chr8_pos2801', 'chr2_pos2057', 'chr1_pos9627', 'chr7_pos3144', 'chr9_pos9762', 'chr7_pos9958', 'chr8_pos6653', 'chr2_pos1260', 'chr8_pos2624', 'chr1_pos8714', 'chr6_pos977', 'chr1_pos7531', 'chr7_pos7345', 'chr6_pos6602', 'chr3_pos7319', 'chr5_pos9579']"
   ]
  },
  {
   "cell_type": "code",
   "execution_count": null,
   "metadata": {
    "collapsed": true
   },
   "outputs": [],
   "source": []
  }
 ],
 "metadata": {
  "kernelspec": {
   "display_name": "Python 3",
   "language": "python",
   "name": "python3"
  },
  "language_info": {
   "codemirror_mode": {
    "name": "ipython",
    "version": 3
   },
   "file_extension": ".py",
   "mimetype": "text/x-python",
   "name": "python",
   "nbconvert_exporter": "python",
   "pygments_lexer": "ipython3",
   "version": "3.6.5"
  }
 },
 "nbformat": 4,
 "nbformat_minor": 2
}
