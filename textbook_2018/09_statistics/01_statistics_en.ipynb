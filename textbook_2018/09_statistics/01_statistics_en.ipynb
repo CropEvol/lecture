{
 "cells": [
  {
   "cell_type": "markdown",
   "metadata": {},
   "source": [
    "# Statistical analysis\n",
    "To learn various statistical tests and estimates using Scipy, machine learning using Scikit-Learn, and how to use it for genome analysis.\n",
    "\n",
    "## Contents\n",
    "\n",
    "### Introduction\n",
    "* [Contents of this course](#0.1)\n",
    "\n",
    "### Basic statistical tests & estimates by Scipy\n",
    "1. [Loading Dataset](#1.1)\n",
    "1. [Calculate basic statistic](#1.2)\n",
    "1. [Try basic statistical tests](#1.3)\n",
    "1. [How to use statistical method to genome data](#1.4)\n",
    "\n",
    "### Regression analysis by Scikit-Learn(sklearn)\n",
    "1. [Regression analysis](#1.5)\n",
    "1. [Regression analysis for genome data](#1.6)"
   ]
  },
  {
   "cell_type": "markdown",
   "metadata": {},
   "source": [
    "## Introduction\n",
    "\n",
    "So far, we studied the how to use basic grammer of python, how to load dataset and how to treat dataset by pandas.\n",
    "\n",
    "From here, using these methods, we are going to learn about statistic prediction for genomic data.<br>\n",
    "\n",
    "In particular, we are going to learn about\n",
    "* Basic statistical processing using [Scipy](https://docs.scipy.org/doc/scipy/reference/) library\n",
    "* Basic Machine Learning methods for prediction using [Scikit-Learn](https://scikit-learn.org/stable/) library"
   ]
  },
  {
   "cell_type": "markdown",
   "metadata": {},
   "source": [
    "### Today's Contents<a name=\"0.1\"></a>\n",
    "\n",
    "* Implement basic statistical tests using [Scipy](https://docs.scipy.org/doc/scipy/reference/) library\n",
    "* Implement Regression analysis using [Scikit-Learn](https://scikit-learn.org/stable/) library\n",
    "* Apply the above methods to genome data \n",
    "\n",
    "#### Contents of the next training on and after\n",
    "* What is difference between statistics and machine learning\n",
    "* The basic flow of machine learning\n",
    "* The weak points of these methods\n",
    "* Implement some machine learning methods\n",
    "* The introduction of deep learning...etc"
   ]
  },
  {
   "cell_type": "markdown",
   "metadata": {},
   "source": [
    "## Basic statistical tests & estimates by Scipy\n",
    "### sample data\n",
    "\n",
    "First of all, Iris dataset is used as a sample for implementing basic statistical processing.<br>\n",
    "This dataset contains three types of iris data \"setosa\", \"versicolor\", \"virginica\".<br>\n",
    "The data is composed of the widths and lengths of Sepal and Petal.<br>\n",
    "\n",
    "There are 50 samples of three irises prepared (Total 150 samples)."
   ]
  },
  {
   "cell_type": "markdown",
   "metadata": {},
   "source": [
    "### 1. Load Iris dataset<a name=\"1.1\"></a>"
   ]
  },
  {
   "cell_type": "code",
   "execution_count": null,
   "metadata": {
    "collapsed": true
   },
   "outputs": [],
   "source": [
    "\"\"\"\n",
    "*** IMPORTANT ***\n",
    "Run this cell before this practice.\n",
    "You can download a sample file.\n",
    "\"\"\"\n",
    "\n",
    "#--- import library  ---\n",
    "import pandas as pd\n",
    "import numpy as np\n",
    "import math\n",
    "import scipy.stats\n",
    "import matplotlib.pyplot as plt\n",
    "\n",
    "#--- loading iris dataset ---\n",
    "#--- header=None, names=[...] => assign col names\n",
    "iris = pd.read_csv('https://archive.ics.uci.edu/ml/machine-learning-databases/iris/iris.data', \n",
    "                 header=None, names=['sepal_length', 'sepal_width', 'petal_length', 'petal_width', 'class'])\n",
    "#--- check dataset\n",
    "iris"
   ]
  },
  {
   "cell_type": "code",
   "execution_count": null,
   "metadata": {
    "collapsed": true
   },
   "outputs": [],
   "source": [
    "# Extract sepal_width data of each speices\n",
    "setosa = iris[iris['class'] == 'Iris-setosa'].sepal_width         # Iris setosa\n",
    "virginica = iris[iris['class'] == 'Iris-virginica'].sepal_width   # Iris virginica\n",
    "versicolor = iris[iris['class'] == 'Iris-versicolor'].sepal_width # Iris versicolor\n",
    "setosa\n",
    "\n",
    "# show sepal_width data of setosa using histgram\n",
    "# plt.hist(setosa)\n",
    "# plt.show()"
   ]
  },
  {
   "cell_type": "markdown",
   "metadata": {},
   "source": [
    "### 2. Calculate basic statistic<a name=\"1.2\"></a>"
   ]
  },
  {
   "cell_type": "code",
   "execution_count": null,
   "metadata": {
    "collapsed": true
   },
   "outputs": [],
   "source": [
    "# Calculate basic statistic like mean, variance and standard deviation...\n",
    "\n",
    "##### cehck dataset to use #####\n",
    "setosa\n",
    "\n",
    "##### maximum value of sepal_width of setosa #####\n",
    "# max_value = setosa.max()\n",
    "# print(\"sepal_width_max:\", max_value)\n",
    "\n",
    "##### minimum value of sepal_width of setosa #####\n",
    "# min_value = setosa.min()\n",
    "# print(\"sepal_width_min:\", min_value)\n",
    "\n",
    "##### mean value of sepal_width of setosa #####\n",
    "# mean_value = setosa.mean()\n",
    "# print(\"sepal_width_mean:\", mean_value)\n",
    "\n",
    "##### unbiased variance of sepal_width of setosa #####\n",
    "# var_value = setosa.var()\n",
    "# print(\"sepal_width_var:\", var_value)\n",
    "\n",
    "##### sample variance of sepal_width of setosa #####\n",
    "# sample_var = setosa.var(ddof=False)\n",
    "# print(\"sepal_width_sample_var:\", sample_var)\n",
    "\n",
    "##### unbiased standard deviation of sepal_width of setosa #####\n",
    "# std_value = setosa.std()\n",
    "# print(\"sepal_width_std:\", std_value)\n",
    "\n",
    "##### sample standard deviation of sepal_width of setosa #####\n",
    "# sample_std = setosa.std(ddof=False)\n",
    "# print(\"sepal_width_sample_std:\", sample_std)"
   ]
  },
  {
   "cell_type": "markdown",
   "metadata": {},
   "source": [
    "#### (Note) Confidence interval of average value\n",
    "\\begin{align}\n",
    "\\bar{X}-t_{\\frac{a}{2}(n-1)}\\sqrt{\\frac{s^2}{n}} < \\mu < \\bar{X}+t_{\\frac{a}{2}(n-1)}\\sqrt{\\frac{s^2}{n}}\n",
    "\\end{align}"
   ]
  },
  {
   "cell_type": "code",
   "execution_count": null,
   "metadata": {
    "collapsed": true
   },
   "outputs": [],
   "source": [
    "##### (Note) calculate confidence interval of mean value(t distribution)\n",
    "\n",
    "n = len(setosa) #the number of samples                                \n",
    "interval = scipy.stats.t.interval(alpha=0.95,                        # Significance level\n",
    "                                  df=n-1,                            # Degree of freedom\n",
    "                                  loc=setosa.mean(),                 # mean\n",
    "                                  scale=math.sqrt(setosa.var() / n)) # standard deviation\n",
    "print(\"Confidence interval of mean value(95%):\", interval)\n",
    "\n",
    "##### (Note) mean ± interval, ppf:Percent point function.\n",
    "# mean_value = setosa.mean()\n",
    "# under = scipy.stats.t.ppf(0.025, df=n-1) * math.sqrt(setosa.var() / n)\n",
    "# upper = scipy.stats.t.ppf(0.975, df=n-1) * math.sqrt(setosa.var() / n)\n",
    "# print(\"confidence interval of mean value(95%):\", mean_value, \"±\", upper)\n",
    "\n",
    "##### (Note) calculate confidence interval of mean value(normal distribution)\n",
    "##### (※ As n increases, t distribution approaches the normal distribution)\n",
    "# interval = scipy.stats.norm.interval(alpha=0.95,                        # Significance level\n",
    "#                                      loc=setosa.mean(),                 # mean\n",
    "#                                      scale=math.sqrt(setosa.var() / n)) # standard deviation\n",
    "# print(\"Confidence interval of mean value(95%, when the number of samples is large):\", interval)"
   ]
  },
  {
   "cell_type": "code",
   "execution_count": null,
   "metadata": {
    "collapsed": true
   },
   "outputs": [],
   "source": [
    "##### Summarize statistics on sepal_width of each iris species\n",
    "data = {\n",
    "        \"species\":[\"setosa\", \"virginica\", \"versicolor\"],\n",
    "        \"max\": [setosa.max(), virginica.max(), versicolor.max()],\n",
    "        \"min\": [setosa.min(), virginica.min(), versicolor.min()],\n",
    "        \"mean\": [setosa.mean(), virginica.mean(), versicolor.mean()],\n",
    "        \"unbiased variance\":[setosa.var(), virginica.var(), versicolor.var()],\n",
    "        \"standard deviation\":[setosa.std(), virginica.std(), versicolor.std()],\n",
    "       }\n",
    "pd.DataFrame(data)"
   ]
  },
  {
   "cell_type": "markdown",
   "metadata": {},
   "source": [
    "### 3. Try basic statistical tests<a name=\"1.3\"></a>"
   ]
  },
  {
   "cell_type": "markdown",
   "metadata": {},
   "source": [
    "* Can we assume that the population mean of setosa is 3.5 ? → Hypothesis testing of population mean\n",
    "\n",
    "\\begin{align}\n",
    "H_0:\\mu_0 = 3.5 \\quad H_1:\\mu_0 \\neq 3.5 \\quad t_0 = \\frac{\\bar{X}-\\mu_0}{\\sqrt{\\frac{s^2}{n}}} \\quad t_0 > t(df, \\alpha=0.05):reject H_0\n",
    "\\end{align}\n",
    "\n",
    "* Can we assume that the population mean of versicolor & virginica are different ? → Hypothesis Testing of the Difference Between Two Population Means\n",
    "(※When not equal variance, We use the $df = \\upsilon$)\n",
    "\n",
    "\\begin{align}\n",
    "H_0:\\mu_X - \\mu_Y = 0 \\quad H_1:\\mu_X - \\mu_Y \\neq 0\n",
    "\\end{align}\n",
    "\n",
    "\\begin{align}\n",
    "s^2 = \\frac{(n_X - 1)s^2_X+(n_Y - 1)s^2_Y}{n_X+n_Y-2} \\quad t_0 = \\frac{\\bar{X}-\\bar{Y}}{s\\sqrt{\\frac{1}{n_X} + \\frac{1}{n_Y}}} \\quad \\upsilon=\\frac{(\\frac{s_1^2}{n_1}+\\frac{s_2^2}{n_2})^2}{\\frac{(\\frac{s_1^2}{n_1})^2}{n_1-1}+\\frac{(\\frac{s_2^2}{n_2})^2}{n_2-1}} \\quad t_0 > t(df, \\alpha=0.05):rejectH_0\n",
    "\\end{align}"
   ]
  },
  {
   "cell_type": "code",
   "execution_count": null,
   "metadata": {
    "collapsed": true
   },
   "outputs": [],
   "source": [
    "##### Hypothesis testing of population mean #####\n",
    "mu_0 = 3.5\n",
    "scipy.stats.ttest_1samp(setosa, popmean=mu_0) \n",
    "\n",
    "### display (t statistic、p value)\n",
    "### p > 0.05 -> we can't reject H0\n",
    "\n",
    "\n",
    "##### Hypothesis Testing of the Difference Between Two Population Means  ~if eaqual variance~ #####\n",
    "# scipy.stats.ttest_ind(versicolor, virginica)\n",
    "\n",
    "### display (t statistic、p value)\n",
    "### p < 0.05 -> reject H0 : μ_X - μ_Y = 0\n",
    "\n",
    "\n",
    "##### F-test of equality of variances #####\n",
    "# f = versicolor.var() / virginica.var() \n",
    "# dfx = 50 - 1\n",
    "# dfy = 50 - 1\n",
    "# scipy.stats.f.cdf(f, dfx, dfy)\n",
    "\n",
    "### p > 0.05 -> we can't reject H0 : σ_X = σ_Y\n",
    "\n",
    "\n",
    "##### (Note) Hypothesis Testing of the Difference Between Two Population Means  ~if not eaqual variance~ #####\n",
    "# scipy.stats.ttest_ind(versicolor, virginica, equal_var=False)\n",
    "\n",
    "### display (t statistic、p value)\n",
    "### p < 0.05 -> reject H0 : μ_X - μ_Y = 0"
   ]
  },
  {
   "cell_type": "markdown",
   "metadata": {
    "collapsed": true
   },
   "source": [
    "#### (Note) In addition, various statistical test functions such as t-test with correspondence, goodness of fit test, and Chi-Square Test of Independence are prepared in Scipy.\n",
    "\n",
    "* example of goodness of fit test\n",
    "\n",
    "Is the probability of each number of dice following the hypothesis of 1/6 ? → Chi-Square goodness of fit Test\n",
    "\n",
    "|dice|1|2|3|4|5|6|total|\n",
    "|--------|---|-|-|-|-|-|-|\n",
    "|Observation value:f |10|7|8|11|6|8|50|\n",
    "|Expected value |50/6|50/6|50/6|50/6|50/6|50/6|50|\n",
    "\n",
    "\\begin{align}\n",
    "H_0: p_i=1/6 \\quad(i=1...6) \\quad H_1:p_i \\neq 1/6 \\quad \\chi^2 = \\sum_{i} \\frac{(f_i - np_i)^2}{np_i} \\quad \\chi^2 > \\chi^2(df, \\alpha=0.05):rejectH_0\n",
    "\\end{align}"
   ]
  },
  {
   "cell_type": "code",
   "execution_count": null,
   "metadata": {
    "collapsed": true
   },
   "outputs": [],
   "source": [
    "scipy.stats.chisquare([10, 7, 8, 11, 6, 8], f_exp=[50/6, 50/6, 50/6, 50/6, 50/6, 50/6])\n",
    "### display (chi-square value, p value)\n",
    "### p > 0.05, we can't reject H0"
   ]
  },
  {
   "cell_type": "markdown",
   "metadata": {},
   "source": [
    "* Example of Chi-Square Test of Independence \n",
    "\n",
    "Is there a connection between smoking and the onset of a specific disease? → Chi-Square Test of Independence\n",
    "\n",
    "|&nbsp;|non-smoker|smoker|total|\n",
    "|--------|---|-|-|\n",
    "|disease|117|54|171|\n",
    "|healthy|954|148|1102|\n",
    "|**total**|1071|202|1273|\n",
    "\n",
    "\\begin{align}\n",
    "\\chi^2=\\sum_i \\sum_j \\frac{(nf_{ij}-f_{i \\cdot}f_{\\cdot j})^2}{nf_{i \\cdot}f_{\\cdot j}} \\quad \\chi^2 > \\chi^2(df, \\alpha=0.05):reject H_0\n",
    "\\end{align}"
   ]
  },
  {
   "cell_type": "code",
   "execution_count": null,
   "metadata": {
    "collapsed": true
   },
   "outputs": [],
   "source": [
    "# make dataset for test\n",
    "smoking_df = pd.DataFrame({\n",
    "    'non-smoker': [117, 954],\n",
    "    'smoker': [54, 148]\n",
    "}, index=['disease', 'healthy'])\n",
    "\n",
    "print(smoking_df)\n",
    "\n",
    "# scipy.stats.chi2_contingency(smoking_df)\n",
    "\n",
    "### display(chi-square value、P-value、degree of freedom、(expected value))\n",
    "### p < 0.05 -> reject H0: smoking and disease are independent"
   ]
  },
  {
   "cell_type": "markdown",
   "metadata": {},
   "source": [
    "### 4. How to use statistical method to genome data<a name=\"1.4\"></a>"
   ]
  },
  {
   "cell_type": "markdown",
   "metadata": {},
   "source": [
    "#### 4_1 sample data\n",
    "\n",
    "Sample data:\n",
    "* 200 samples\n",
    "* The width of leaves, the length of leaves, the presence or absence of diseases, and the information on the 10 bases on chromosome 10."
   ]
  },
  {
   "cell_type": "code",
   "execution_count": null,
   "metadata": {
    "collapsed": true
   },
   "outputs": [],
   "source": [
    "###### sequence & phenotype\n",
    "gene_data = pd.read_csv(\"data/gene_data.csv\", index_col=0)\n",
    "gene_data"
   ]
  },
  {
   "cell_type": "markdown",
   "metadata": {},
   "source": [
    "#### 4_2 The effect of base change(G or A) to leaf length\n",
    "\n",
    "To change the base of chr10_1 from G to A affect leaf length?\n",
    "<img src=\"data/compare.png\" alt=\"compare\" width=\"50%\" height=\"50%\">"
   ]
  },
  {
   "cell_type": "code",
   "execution_count": null,
   "metadata": {
    "collapsed": true
   },
   "outputs": [],
   "source": [
    "###### Leaf length data of chr10_1 = G & Leaf length data of chr10_1 = A #####\n",
    "G_data = gene_data[gene_data[\"chr10_1\"] == \"G\"].LeafLength\n",
    "A_data = gene_data[gene_data[\"chr10_1\"] == \"A\"].LeafLength\n",
    "\n",
    "###### display boxplot ######\n",
    "plt.title(\"Leaf Length\")\n",
    "plt.boxplot((G_data, A_data))\n",
    "plt.xticks([1, 2], [\"G\", \"A\"])\n",
    "plt.xlabel(\"chr10_1\")\n",
    "plt.show()\n",
    "\n",
    "###### Hypothesis Testing of the Difference Between Two Population Means ######\n",
    "scipy.stats.ttest_ind(G_data, A_data, equal_var=False)\n",
    "\n",
    "### Gene located in chr10_1 \"may\" affect leaf length."
   ]
  },
  {
   "cell_type": "markdown",
   "metadata": {},
   "source": [
    "#### 4_3 The effect of base change(G or A) to disease resistance\n",
    "\n",
    "To change the base of chr10_2 from G to A affect disease resistance?\n",
    "<img src=\"data/compare2.png\" alt=\"compare2\" width=\"50%\" height=\"50%\">"
   ]
  },
  {
   "cell_type": "code",
   "execution_count": null,
   "metadata": {
    "collapsed": true
   },
   "outputs": [],
   "source": [
    "###### Get the number of samples of each condition of chr10_2 & disease\n",
    "G_True = gene_data[(gene_data[\"chr10_2\"] == \"G\") & (gene_data[\"disease\"] == True)].shape[0]\n",
    "G_False = gene_data[(gene_data[\"chr10_2\"] == \"G\") & (gene_data[\"disease\"] == False)].shape[0]\n",
    "A_True = gene_data[(gene_data[\"chr10_2\"] == \"A\") & (gene_data[\"disease\"] == True)].shape[0]\n",
    "A_False = gene_data[(gene_data[\"chr10_2\"] == \"A\") & (gene_data[\"disease\"] == False)].shape[0]\n",
    "\n",
    "disease_df = pd.DataFrame({\n",
    "    'G': [G_True, G_False],\n",
    "    'A': [A_True, A_False]\n",
    "}, index=['True', 'False'])\n",
    "\n",
    "print(disease_df)\n",
    "\n",
    "scipy.stats.chi2_contingency(disease_df)\n",
    "\n",
    "### Gene located in chr10_2 \"may\" affect disease resistance."
   ]
  },
  {
   "cell_type": "markdown",
   "metadata": {},
   "source": [
    "### The limitation & weakness of statistical tests for genomic data\n",
    "\n",
    "* actually, there so many genes (ex, oryza sativa:30,000~). So, there is only a few possibility that only 1 gene affect phenotype.\n",
    "\n",
    "　→　It is necessary to consider the influence of multiple genes.<br>\n",
    "　→　In the t test and the independence test, it is impossible to solve the prerequisite & multiple test problem...etc\n",
    "\n",
    "* Not only genes but also Environment & other conditions affect phenotype. \n",
    "\n",
    "　→　An analysis model that can consider other factors besides genes is necessary."
   ]
  },
  {
   "cell_type": "markdown",
   "metadata": {},
   "source": [
    "## Regression analysis by Scikit-Learn(sklearn)\n",
    "### 1. Regression analysis<a name=\"1.5\"></a>\n",
    "\n",
    "Linear regression is one of the simplest analysis way to consider multiple factors.<br>\n",
    "This model predict the value of the target variable from the value of the explanatory variable.<br>\n",
    "<img src=\"data/regression_base_en.png\" alt=\"reg_base\" width=\"50%\" height=\"50%\">\n",
    "First, explain a single regression analysis that considers only one factor. Then, explain multiple regression analysis that takes multiple factors into account.<br>\n",
    "\n",
    "#### Single regression analysis\n",
    "As an example, how much sepal_length of iris setosa can be explained with sepal_width of iris setosa.<br>\n",
    "\n",
    "$ Y(sepal\\_length) = \\beta * X(sepal\\_width) + e \\quad : calculate \\beta$ & $e$"
   ]
  },
  {
   "cell_type": "code",
   "execution_count": null,
   "metadata": {
    "collapsed": true
   },
   "outputs": [],
   "source": [
    "import pandas as pd\n",
    "import matplotlib.pyplot as plt\n",
    "##### loading iris data set ######\n",
    "iris = pd.read_csv('https://archive.ics.uci.edu/ml/machine-learning-databases/iris/iris.data', \n",
    "                 header=None, names=['sepal_length', 'sepal_width', 'petal_length', 'petal_width', 'class'])\n",
    "setosa = iris[iris['class'] == 'Iris-setosa']\n",
    "setosa.head()"
   ]
  },
  {
   "cell_type": "markdown",
   "metadata": {},
   "source": [
    "$ Y(sepal\\_length) = \\beta * X(sepal\\_width) + e$"
   ]
  },
  {
   "cell_type": "code",
   "execution_count": null,
   "metadata": {
    "collapsed": true
   },
   "outputs": [],
   "source": [
    "# loading library\n",
    "from sklearn import linear_model\n",
    "\n",
    "# select model\n",
    "clf = linear_model.LinearRegression()\n",
    "\n",
    "# Explanatory variable:\"sepal_width\"\n",
    "X = setosa[[\"sepal_width\"]]\n",
    "\n",
    "# Target Variable:\"sepal_length\"\n",
    "Y = setosa[[\"sepal_length\"]]\n",
    "\n",
    "# Prediction \n",
    "clf.fit(X, Y)\n",
    " \n",
    "# display Coefficient\n",
    "print(clf.coef_)\n",
    " \n",
    "# display intercept (e)\n",
    "print(clf.intercept_)\n",
    " \n",
    "# display coefficient of determination\n",
    "print(clf.score(X, Y))"
   ]
  },
  {
   "cell_type": "markdown",
   "metadata": {},
   "source": [
    "Then, the regression equation is expressed as follows.<br>\n",
    "$ Y(sepal\\_length) = 0.6908544 * X(sepal\\_width) + 2.64465968$\n",
    "\n",
    "And, Coefficient of determination is calculated by the following equation.<br>\n",
    "This is an indicator that shows how much the predicted value matches the actual value of Target Variable.<br>\n",
    "\\begin{align}\n",
    "R^{2}= 1-\\frac{\\sum_i(y_i-f_i)^2}{\\sum_i(y_i-\\bar{y})^2} \\quad 0 \\leqq R^2 \\leqq 1\n",
    "\\end{align}"
   ]
  },
  {
   "cell_type": "code",
   "execution_count": null,
   "metadata": {
    "collapsed": true
   },
   "outputs": [],
   "source": [
    "# display result\n",
    "plt.scatter(X, Y, color=\"black\")\n",
    " \n",
    "# make X(X.min, X.mix+0.1, X.min+0.2 ... X.max())\n",
    "px = np.arange(X.min(), X.max(), 0.1)[:,np.newaxis]\n",
    "# predict values of py (= β*px+e)\n",
    "py = clf.predict(px)\n",
    " \n",
    "# draw regression line\n",
    "plt.plot(px, py, color=\"b\")\n",
    " \n",
    "plt.title(\"Relationship Width & Length\")\n",
    "plt.xlabel(\"Sepal Width\")\n",
    "plt.ylabel(\"Sepal Length\")\n",
    "plt.show()\n",
    "\n",
    "# compare the predicted value & the actual value\n",
    "predict_value = clf.predict(X)\n",
    "plt.plot(range(len(Y)), Y, color=\"b\")\n",
    "plt.plot(range(len(Y)), predict_value, color=\"r\")\n",
    " \n",
    "plt.title(\"Measured value vs Prediction\")\n",
    "plt.xlabel(\"n\")\n",
    "plt.ylabel(\"Sepal Length\")\n",
    "plt.show()"
   ]
  },
  {
   "cell_type": "markdown",
   "metadata": {},
   "source": [
    "Next, Multiple regression analysis.<br>\n",
    "\n",
    "How much sepal_length of all iris can be explained with sepal_width, petal_length and petal_width of all iris."
   ]
  },
  {
   "cell_type": "markdown",
   "metadata": {},
   "source": [
    "$Y(sepal\\_length) = \\beta_1*X_1(sepal\\_width) + \\beta_2*X_2(petal\\_length) + \\beta_3*X_3(petal\\_width) + e$"
   ]
  },
  {
   "cell_type": "code",
   "execution_count": null,
   "metadata": {
    "collapsed": true
   },
   "outputs": [],
   "source": [
    "# select model\n",
    "clf = linear_model.LinearRegression()\n",
    "\n",
    "# Explanatory variable:\"sepal_width\", \"petal_length\", \"petal_width\"\n",
    "X = iris[[\"sepal_width\", \"petal_length\", \"petal_width\"]]\n",
    "\n",
    "# Target variable:\"sepal_length\"\n",
    "Y = iris[[\"sepal_length\"]]\n",
    "\n",
    "# Prediction\n",
    "clf.fit(X, Y)\n",
    " \n",
    "# Display Coefficient\n",
    "print(clf.coef_)\n",
    " \n",
    "# Display Intercept\n",
    "print(clf.intercept_)\n",
    " \n",
    "# Display coefficient of determination\n",
    "print(clf.score(X, Y))"
   ]
  },
  {
   "cell_type": "markdown",
   "metadata": {},
   "source": [
    "Then, the regression equation is expressed as follows.<br>\n",
    "$ Y(sepal\\_length) = 0.65486424 × X(sepal\\_width) + 0.71106291 × X(petal\\_length) + -0.56256786 × X(petal\\_width) + 1.8450608$"
   ]
  },
  {
   "cell_type": "code",
   "execution_count": null,
   "metadata": {
    "collapsed": true
   },
   "outputs": [],
   "source": [
    "# compare the predicted value & the actual value\n",
    "predict_value = clf.predict(X)\n",
    "plt.figure(figsize=(15, 8), dpi=50)\n",
    "\n",
    "plt.plot(range(len(Y)), Y, color=\"b\")\n",
    "plt.plot(range(len(Y)), predict_value, color=\"r\")\n",
    "\n",
    "plt.title(\"Measured value vs Prediction\")\n",
    "plt.xlabel(\"n\")\n",
    "plt.ylabel(\"Sepal Length\")\n",
    "plt.show()"
   ]
  },
  {
   "cell_type": "markdown",
   "metadata": {},
   "source": [
    "##### (Note) the solution of least squares method of regression analysis\n",
    "\n",
    "\\begin{align}\n",
    "y = \\beta_1x_1 + \\beta_2x_2 + \\beta_2x_2 + \\beta_3x_3... + \\beta_kx_k + e \\\\\n",
    "\\end{align}<br>\n",
    "\n",
    "is the regression equation. Then, this equation is\n",
    "\n",
    "\\begin{align}\n",
    "\\boldsymbol{y} = \\boldsymbol{X} \\boldsymbol{\\beta} + \\boldsymbol{e}\n",
    "\\end{align}\n",
    "\n",
    "\\begin{align}\n",
    "\\boldsymbol{y} = \\left[\\begin{array}{c}\n",
    "            y_1 \\\\\n",
    "            y_2 \\\\\n",
    "            ... \\\\\n",
    "            y_n \\\\\n",
    "        \\end{array}\\right] \\quad\n",
    "\\boldsymbol{X} = \\left[\\begin{array}{c}\n",
    "            x_{11} & x_{21} & x_{31} & ... & x_{k1} \\\\\n",
    "            x_{12} & x_{22} & x_{32} & ... & x_{k2} \\\\\n",
    "            ... & ... & ... & ... & ...\\\\\n",
    "            x_{1n} & x_{2n} & x_{3n} & ... & x_{kn} \\\\\n",
    "        \\end{array}\\right] \\quad\n",
    "\\boldsymbol{\\beta} = \\left[\\begin{array}{c}\n",
    "            \\beta_1 \\\\\n",
    "            \\beta_2 \\\\\n",
    "            ... \\\\\n",
    "            \\beta_k \\\\\n",
    "        \\end{array}\\right] \\quad\n",
    "\\boldsymbol{e} = \\left[\\begin{array}{c}\n",
    "            e_1 \\\\\n",
    "            e_2 \\\\\n",
    "            ... \\\\\n",
    "            e_n \\\\\n",
    "        \\end{array}\\right]\n",
    "\\end{align}\n",
    "\n",
    "In this case, $\\boldsymbol{y} - \\boldsymbol{X} \\boldsymbol{\\beta} = \\boldsymbol{e}$. We only have to calculate $\\boldsymbol{\\beta}$ to minimize the sum of squares of $\\boldsymbol{e}(e_1,e_2...e_n)$, $\\sum{e_i^2}$.<br><br>\n",
    "The predicted value of $y_i$ is $\\hat{y_i} = \\boldsymbol{X_i} \\boldsymbol{\\beta}$, then $E = \\sum{e_i^2} = \\sum{(\\hat{y_i} - y_i)^2}$. By calculate the sum of squares of $\\boldsymbol{e}$ and partial derivative with respect to $\\beta$,<br><br>\n",
    "eventually, $\\boldsymbol{\\beta}$ that minimize $E$ is calculated by $\\boldsymbol{X'}\\boldsymbol{X}\\boldsymbol{\\beta} = \\boldsymbol{X'}\\boldsymbol{y}$"
   ]
  },
  {
   "cell_type": "markdown",
   "metadata": {},
   "source": [
    "### 2. Multiple regression analysis for genome data.<a name=\"1.6\"></a>\n",
    "If you use genome data with Multiple regression analysis, you have to be careful\n",
    "\n",
    "\\begin{align}\n",
    "y = \\beta_1x_1 + \\beta_2x_2 + \\beta_2x_2 + \\beta_3x_3... + \\beta_kx_k + e \n",
    "\\end{align}\n",
    "\n",
    "We want to express this equation as follows.\n",
    "\n",
    "\\begin{align}\n",
    "y(phenotype) = gene1\\_effect * x_1 + gene2\\_effect * x_2 + gene3\\_effect * x_3 + ...\n",
    "\\end{align}\n",
    "\n",
    "However, Genome data is not Quantitative, it is Qualitative (like A, T, G, C)<br>\n",
    "This kind of data is called \"Categorical Data\" and it is necessary to convert.\n",
    "<img src=\"data/categorical_en.png\" alt=\"categorical\" width=\"25%\" height=\"25%\">"
   ]
  },
  {
   "cell_type": "markdown",
   "metadata": {},
   "source": [
    "##### Example of converting categorical data\n",
    "\n",
    "for example, try to express effect of one base. \n",
    "<img src=\"data/categorical2_en.png\" alt=\"categorical2\" width=\"75%\" height=\"75%\">\n",
    "\n",
    "Such conversion can be done with pandas `get_dummies()` function."
   ]
  },
  {
   "cell_type": "code",
   "execution_count": null,
   "metadata": {
    "collapsed": true
   },
   "outputs": [],
   "source": [
    "###### sequence and phenotype\n",
    "gene_data = pd.read_csv(\"data/gene_data.csv\", index_col=0)\n",
    "gene_data.head()"
   ]
  },
  {
   "cell_type": "code",
   "execution_count": null,
   "metadata": {
    "collapsed": true
   },
   "outputs": [],
   "source": [
    "# convert categorical data to quantitative data\n",
    "convert_gene_data = pd.get_dummies(gene_data, drop_first=True)\n",
    "convert_gene_data.head()"
   ]
  },
  {
   "cell_type": "code",
   "execution_count": null,
   "metadata": {
    "collapsed": true
   },
   "outputs": [],
   "source": [
    "# select model\n",
    "clf = linear_model.LinearRegression()\n",
    "\n",
    "# Explanatory variable: base data of chr10(after fourth col)\n",
    "X = convert_gene_data.iloc[:, 3:]\n",
    "\n",
    "# Target variable: \"LeafWidth\"\n",
    "Y = convert_gene_data.loc[:, \"LeafWidth\"]\n",
    "\n",
    "# Prediction\n",
    "clf.fit(X, Y)\n",
    " \n",
    "# change display setting(Number of digits)\n",
    "%precision 20\n",
    "\n",
    "# display coefficient\n",
    "print(clf.coef_)\n",
    " \n",
    "# display intercept\n",
    "print(clf.intercept_)\n",
    " \n",
    "# display coefficient of determination\n",
    "print(clf.score(X, Y))"
   ]
  },
  {
   "cell_type": "code",
   "execution_count": null,
   "metadata": {
    "collapsed": true
   },
   "outputs": [],
   "source": [
    "# compare the predicted value & the actual value\n",
    "predict_value = clf.predict(X)\n",
    "plt.figure(figsize=(15, 8), dpi=50)\n",
    "\n",
    "plt.plot(range(len(Y)), Y, color=\"b\")\n",
    "plt.plot(range(len(Y)), predict_value, color=\"r\")\n",
    "\n",
    "plt.title(\"Measured value vs Prediction\")\n",
    "plt.xlabel(\"n\")\n",
    "plt.ylabel(\"Sepal Width\")\n",
    "plt.show()"
   ]
  },
  {
   "cell_type": "markdown",
   "metadata": {},
   "source": [
    "##### The result of Multiple regression analysis...\n",
    "\n",
    "regression equation is<br>\n",
    "\n",
    "$y = 0.016 * x_1 + 0.002 * x_2 + -0.493 * x_3 + ... + 2.96$\n",
    "\n",
    "Coefficient of determination is very high(0.978...) and it looks like that this model can explain LeafWidth.\n",
    "\n",
    "Such a very high coefficient of determination is often seen when we use linear regression with the large number of variables such as genome data( it called high dimentional data).\n",
    "\n",
    "Is this equation reflect on reality? \n",
    "\n",
    "Actually, there is big problem. The next lecture is from this problem."
   ]
  },
  {
   "cell_type": "code",
   "execution_count": null,
   "metadata": {
    "collapsed": true
   },
   "outputs": [],
   "source": []
  }
 ],
 "metadata": {
  "kernelspec": {
   "display_name": "Python 3",
   "language": "python",
   "name": "python3"
  },
  "language_info": {
   "codemirror_mode": {
    "name": "ipython",
    "version": 3
   },
   "file_extension": ".py",
   "mimetype": "text/x-python",
   "name": "python",
   "nbconvert_exporter": "python",
   "pygments_lexer": "ipython3",
   "version": "3.6.5"
  }
 },
 "nbformat": 4,
 "nbformat_minor": 2
}
