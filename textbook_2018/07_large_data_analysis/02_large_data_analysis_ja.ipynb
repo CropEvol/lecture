{
 "cells": [
  {
   "cell_type": "code",
   "execution_count": null,
   "metadata": {},
   "outputs": [],
   "source": [
    "\"\"\"\n",
    "＊重要＊\n",
    "最初にこのセルを実行してください。\n",
    "この実習で使うサンプルファイルをダウンロードします。\n",
    "\"\"\"\n",
    "!wget https://raw.githubusercontent.com/CropEvol/lecture/master/data/mutmap_bulk.txt -O mutmap_bulk.txt"
   ]
  },
  {
   "cell_type": "markdown",
   "metadata": {},
   "source": [
    "# 大規模データ解析入門 (2)\n",
    "pandasを使ったデータ解析とグラフ作成\n",
    "\n",
    "## Contents\n",
    "\n",
    "### Introduction\n",
    "- [前回の復習](#0.1)\n",
    "- [今回のサンプルデータ](#0.2)\n",
    "\n",
    "--- \n",
    "\n",
    "### Practice\n",
    "1. [pandasデータフレームとしてファイルを読み込む](#2.1)\n",
    "1. [任意のデータにアクセスする](#2.2)\n",
    "1. [SNP-indexを計算する](#2.3)\n",
    "1. [条件に合うデータを抽出する](#2.4)\n",
    "1. [ファイルに書き出す](#2.5)\n",
    "1. [SNP-indexのグラフを描く](#2.6)\n",
    "1. [Sliding Window解析](#2.7)"
   ]
  },
  {
   "cell_type": "markdown",
   "metadata": {},
   "source": [
    "## Introduction\n",
    "\n",
    "### 前回の復習と今回の実習<a name=\"0.1\"></a>\n",
    "\n",
    "前回、テキストデータ処理の基本を勉強しました。   \n",
    "=> [前回のページ](../06_large_data_analysis/01_large_data_analysis_ja.ipynb#) \n",
    "\n",
    "`for`文を使い、「上の行から順番に、一行ずつデータを読み込み、行内を分割し、データ処理をおこなう」ことで全データを処理しました。  \n",
    "（さらに、課題では`if`文を使って、任意のデータのみを得る、といったこともおこないました。）  \n",
    "\n",
    "そのような方法は、テキストデータだけに限らず、あらゆるデータに対して適用可能な基本的な処理方法ですが、処理速度が遅い、コードが長くなりがち、といった欠点があります。\n",
    "\n",
    "テーブル状に整ったデータであれば、[pandas](https://pandas.pydata.org/)ライブラリを利用することで、より高速かつ簡単にデータ処理が可能になります。  \n",
    "\n",
    "今回の実習では、\n",
    "1. pandasを使ってデータ処理をしてみましょう。  \n",
    "1. さらに、[Matplotlib](https://matplotlib.org/)ライブラリを利用して、データをグラフにしてみましょう。"
   ]
  },
  {
   "cell_type": "markdown",
   "metadata": {},
   "source": [
    "### 今回のサンプルデータ<a name=\"0.2\"></a>\n",
    "\n",
    "前回と同じく、MutMap (Abe et al. 2012) のデータを使います。  \n",
    "=> [前回のページ / サンプルデータの説明](../06_large_data_analysis/01_large_data_analysis_ja.ipynb#0.3) \n",
    "\n",
    "データは次のようにテーブル状になった「タブ区切りテキストファイル」です。  \n",
    "_列と列の間が、「タブ」と呼ばれる特殊文字（Macの場合 `\\t`; Windowsの場合 `¥t`）で区切られたテキストファイルです。_\n",
    "\n",
    "右の2つの列から「SNP-index」と呼ばれる値を算出することが可能です。\n",
    "\n",
    "<div style=\"margin-bottom: 5px;\"><img src=\"https://github.com/CropEvol/lecture/blob/master/images/07/tab-sep_text_ja.jpg?raw=true\" alt=\"matplotlib_graph\"></div>\n",
    "\n",
    "実際のファイルの中身も確認してください => [mutmap_bulk.txt](mutmap_bulk.txt)"
   ]
  },
  {
   "cell_type": "markdown",
   "metadata": {},
   "source": [
    "---\n",
    "## Practice\n",
    "\n",
    "#### 実習内容\n",
    "1. [pandasデータフレームとしてファイルを読み込む](#2.1)\n",
    "1. [任意のデータにアクセスする](#2.2)\n",
    "1. [SNP-indexを計算する](#2.3)\n",
    "1. [条件に合うデータを抽出する](#2.4)\n",
    "1. [ファイルに書き出す](#2.5)\n",
    "1. [SNP-indexのグラフを描く](#2.6)\n",
    "1. [Sliding Window解析](#2.7)\n",
    "\n",
    "プログラムの大部分はすでに書かれていますが、いくつかコードを書き足す部分があります。  \n",
    "書き足す部分はこのように書かれています。\n",
    "```python\n",
    "# !!! 以下にプログラムを追記する !!!\n",
    "```"
   ]
  },
  {
   "cell_type": "markdown",
   "metadata": {},
   "source": [
    "### 1. Pandasデータフレームとしてファイルを読み込む<a name=\"1.1\"></a>\n",
    "\n",
    "pandasの`read_csv`関数でテーブル状のテキストファイルを読み込みます。\n",
    "\n",
    "=== 基本構文 ===\n",
    "```python\n",
    "import pandas\n",
    "df = pandas.read_csv(\"<ファイル名>\", sep=\"<区切り文字>\", header=<列名の行番号>)\n",
    "```\n",
    "または、\n",
    "```python\n",
    "import pandas as pd\n",
    "df = pd.read_csv(\"<ファイル名>\", sep=\"<区切り文字>\", header=<列名の行番号>)\n",
    "```\n",
    "\n",
    "=== 説明 ===\n",
    "\n",
    "#### `import pandas`について\n",
    "- pandasライブラリをプログラムで使えるように準備しています。\n",
    "- `import pandas`とした場合、以降のプログラムで、pandasが持つ関数を `pandas.関数名`の形で使用できます。\n",
    "- `import pandas as pd`とした場合、以降のプログラムで、pandasが持つ関数を `pd.関数名`の形で使用できます。  \n",
    "  _（pandasは省略名として`pd`がよく使われます。）_\n",
    "        \n",
    "        \n",
    "#### `df = pandas.read_csv(\"<ファイル名>\", sep=\"<区切り文字>\", header=<列名の行番号>)`について\n",
    "\n",
    "- 第一引数にファイル名\n",
    "- `sep=`では、読み込みファイルで使われている区切り文字を指定します。\n",
    "    * カンマ区切り: `,`\n",
    "    * タブ区切り: `\\t`（Mac）、`¥t`（Windows）\n",
    "- `header=`では、テーブルの列名にあたる行番号を指定します。\n",
    "    * 最初の行が列名の場合`0`を指定します。\n",
    "    * 列名の行がない場合`-1`を指定します。\n",
    "- 読み込まれたテーブルは「データフレーム」と呼ばれる形式で`df`に保持されます。（`df`は変数名なので、他の名前でも良い）"
   ]
  },
  {
   "cell_type": "code",
   "execution_count": null,
   "metadata": {},
   "outputs": [],
   "source": [
    "#--- pandasを読み込む  ---\n",
    "import pandas as pd\n",
    "\n",
    "#--- 読み込みファイル名 ---\n",
    "dataset = 'mutmap_bulk.txt'       \n",
    "\n",
    "#--- ファイルを読み込む ---\n",
    "# header=-1（列名行なし）を指定した場合、列名として通し番号が付けられます。\n",
    "# names=[リスト]とすることで、通し番号の代わりに列名を指定することが可能です。\n",
    "df = pd.read_csv(dataset, sep=\"\\t\", header=-1, names=['chr', 'pos', 'ref_nucl', 'alt_nucl', 'ref_N', 'alt_N'])\n",
    "\n",
    "#--- 表示 ---\n",
    "df"
   ]
  },
  {
   "cell_type": "markdown",
   "metadata": {},
   "source": [
    "### 補足説明1\n",
    "#### データフレームの見方\n",
    "- エクセルのような表（テーブル）になっています。\n",
    "- 一番上の行は、各列の名前です。\n",
    "- 一番左の列は、各行の名前（「__インデックス__」という）です。"
   ]
  },
  {
   "cell_type": "markdown",
   "metadata": {},
   "source": [
    "### 補足説明2\n",
    "#### `print()`を使っていないのに、なぜ表示されるのか？\n",
    "Jupyter Notebookの機能です。  \n",
    "Jupyter Notebookでは、セル内のプログラムの最後に変数名のみを書くことで、その変数の中身が確認可能です。  \n",
    "ただし、表示できる変数は最後の一つだけです。  "
   ]
  },
  {
   "cell_type": "code",
   "execution_count": null,
   "metadata": {},
   "outputs": [],
   "source": [
    "a = 1\n",
    "b = 2\n",
    "c = 3\n",
    "\n",
    "a\n",
    "b\n",
    "c"
   ]
  },
  {
   "cell_type": "markdown",
   "metadata": {},
   "source": [
    "### 2. 任意のデータにアクセスする<a name=\"1.2\"></a>\n",
    "データフレームの任意のデータにアクセスしてみます。  \n",
    "\n",
    "適宜、各コードの`#`を外して、実行結果を確認しましょう。\n",
    "\n",
    "\n",
    "__＊注意＊__  \n",
    "Jupyter Notebookでは、上のセルが作成された変数等が下のセルに引き継がれます。  \n",
    "以下のセルのプログラムは、「1. Pandasデータフレームとしてファイルを読み込む」のセルが一度実行されたことを前提に書かれています。  "
   ]
  },
  {
   "cell_type": "code",
   "execution_count": null,
   "metadata": {
    "scrolled": true
   },
   "outputs": [],
   "source": [
    "###### 全て表示（途中のデータは省略されます） ######\n",
    "df\n",
    "\n",
    "###### 1列を抽出 ######\n",
    "#df['ref_nucl']\n",
    "#df.loc[:, 'ref_nucl']\n",
    "#df.iloc[:, 2]\n",
    "\n",
    "\n",
    "###### 複数列を抽出 ######\n",
    "#df.loc[:, ['ref_nucl','alt_nucl']]\n",
    "#df.iloc[:, 2:4]\n",
    "\n",
    "\n",
    "###### 行の抽出 ######\n",
    "#df.loc[10,:]\n",
    "#df.iloc[10,:]\n",
    "\n",
    "\n",
    "###### 複数行を抽出 ######\n",
    "#df.loc[10:15, :]\n",
    "#df.iloc[10:15, :]\n",
    "\n",
    "\n",
    "###### 1セル抽出 ######\n",
    "#df.loc[10, 'ref_nucl']\n",
    "#df.iloc[10, 2]\n",
    "\n",
    "\n",
    "###### 複数列と複数行を抽出 ######\n",
    "#df.loc[10:15, ['ref_nucl', 'alt_nucl']]\n",
    "#df.iloc[10:15, 2:4]\n"
   ]
  },
  {
   "cell_type": "markdown",
   "metadata": {},
   "source": [
    "### 3. SNP-indexを計算する<a name=\"1.3\"></a>\n",
    "\n",
    "前回の実習では、`for`や`split()`を使って、一行ごとに`ref_N`や`alt_N`にあたるデータにアクセスして、SNP-indexを計算しました。  \n",
    "今回は、`for`を使わずに、列同士の計算をおこなってみましょう。  \n",
    "\n",
    "#### 方法  \n",
    "計算に使う列を取り出し、計算式に直接入れる。\n",
    "\n",
    "#### SNP-index計算式\n",
    "SNP-index = alt_N / (ref_N + alt_N)\n"
   ]
  },
  {
   "cell_type": "code",
   "execution_count": null,
   "metadata": {},
   "outputs": [],
   "source": [
    "###### SNP-indexの計算 ######\n",
    "\n",
    "# !!! 以下にプログラムを追記する !!!\n",
    "#df['snp_index'] = \n",
    "\n",
    "#--- 表示 ---\n",
    "df"
   ]
  },
  {
   "cell_type": "markdown",
   "metadata": {},
   "source": [
    "完全版のプログラムは[こちら](./02_large_data_analysis_ja_complete_version.ipynb#1.3)"
   ]
  },
  {
   "cell_type": "markdown",
   "metadata": {},
   "source": [
    "_サンプルデータは行数が少ないために実感しずらいですが、今回の列同士の計算は`for`を使った方法よりも高速に実行されます。  また、コード自体もシンプルで、理解しやすいかと思います。_"
   ]
  },
  {
   "cell_type": "markdown",
   "metadata": {},
   "source": [
    "### 4. 条件に合うデータを抽出する<a name=\"1.4\"></a>\n",
    "\n",
    "=== 基本構文 ===\n",
    "\n",
    "```python\n",
    "df[ (条件式) ]\n",
    "```"
   ]
  },
  {
   "cell_type": "code",
   "execution_count": null,
   "metadata": {},
   "outputs": [],
   "source": [
    "###### 条件を指定して抽出 ######\n",
    "\n",
    "#--- 条件をひとつ指定 ---\n",
    "# df['ref_nucl']=='A'    # これだけでは望んだ結果が得られない\n",
    "\n",
    "# df[ df['ref_nucl']=='A' ] \n",
    "\n",
    "#--- 複数の条件を指定 ---\n",
    "# df[ (df['ref_nucl']=='A' ) & (df['alt_nucl']=='G' ) ]    # AND\n",
    "\n",
    "# df[ (df['ref_nucl']=='A' ) | (df['alt_nucl']=='G' ) ]    # OR\n",
    "\n",
    "\n",
    "#--- SNP-indexが0.9以上のデータを抽出 ---\n",
    "# !!! 以下にプログラムを追記する !!!\n",
    "\n"
   ]
  },
  {
   "cell_type": "markdown",
   "metadata": {},
   "source": [
    "完全版のプログラムは[こちら](./02_large_data_analysis_ja_complete_version.ipynb#1.4)"
   ]
  },
  {
   "cell_type": "markdown",
   "metadata": {},
   "source": [
    "### 補足説明3\n",
    "#### `df['ref_nucl']=='A' `と`df[ df['ref_nucl']=='A' ] `について\n",
    "\n",
    "`df['ref_nucl']=='A' `で、条件に合うデータを`True`、合わないデータを`False`としたリスト状のデータが得られます。\n",
    "\n",
    "さらに、`df[ (True/Falseリスト) ]`の形にすることで、`True`のデータのみを表示させています。\n",
    "\n",
    "<div style=\"margin-bottom: 5px;\"><img src=\"https://github.com/CropEvol/lecture/blob/master/images/07/pandas_filtering_ja.jpg?raw=true\" alt=\"pandas_filtering\"></div>"
   ]
  },
  {
   "cell_type": "markdown",
   "metadata": {},
   "source": [
    "### 5. ファイルに書き出す<a name=\"1.5\"></a>\n",
    "\n",
    "ファイルへの出力には、pandasの`to_csv`関数を利用します。\n",
    "\n",
    "=== 基本構文 ===\n",
    "\n",
    "```python\n",
    "データフレーム.to_csv(\"<ファイル名>\", sep=\"<区切り文字>\", header=<True/False>, index=<True/False>)\n",
    "```\n",
    "\n",
    "=== 説明 ===\n",
    "- 第一引数にファイル名\n",
    "- sep=では、列間の区切り文字を指定します。\n",
    "    * カンマ区切り: `,`\n",
    "    * タブ区切り: `\\t`（Mac）、`¥t`（Windows）\n",
    "- `header=True`にすれば、列名がファイルに書き込まれます。\n",
    "- `index=True`にすれば、行名（インデックス）がファイルに書き込まれます。"
   ]
  },
  {
   "cell_type": "code",
   "execution_count": null,
   "metadata": {},
   "outputs": [],
   "source": [
    "###### ファイルの書き出し ######\n",
    "#outdata = 'mutmap_snpindex_using_pd.txt'        # 書き出しファイル名\n",
    "#df.to_csv(outdata, sep='\\t', header=True, index=False)"
   ]
  },
  {
   "cell_type": "markdown",
   "metadata": {},
   "source": [
    "出力されたファイルを確認してみましょう => [ファイル一覧へ](./)"
   ]
  },
  {
   "cell_type": "markdown",
   "metadata": {},
   "source": [
    "### 6. SNP-indexのグラフを描く<a name=\"1.6\"></a>\n",
    "\n",
    "ここでは、Pythonのグラフ描画で有名なライブラリ [Matplotlib](https://matplotlib.org/) を使ってグラフを描いてみましょう。\n",
    "\n",
    "まず、グラフ描画の基本についてです。\n",
    "\n",
    "matplotlibライブラリのグラフは、「レイヤー」と呼ばれる透明なシートを複数重ねることで、ひとつのグラフが作成されます。  \n",
    "それぞれのレイヤーには、グラフフィールド（下地）、グラフ（例えば折れ線グラフ）、軸ラベル（文字）等が描かれています。\n",
    "\n",
    "<div style=\"margin-bottom: 5px;\"><img src=\"https://github.com/CropEvol/lecture/blob/master/images/07/07_drawing_graph.png?raw=true\" alt=\"matplotlib_graph\"></div>\n",
    "\n",
    "今回は、x軸に染色体上の位置、y軸にSNP-index（「3. SNP-indexを計算する」で求めた）をとったグラフ（散布図）を作成してみましょう。  \n",
    "加えて、「SNP-index >= 0.9」の点を赤で表示させてみましょう。"
   ]
  },
  {
   "cell_type": "code",
   "execution_count": null,
   "metadata": {
    "scrolled": true
   },
   "outputs": [],
   "source": [
    "###### SNP-indexのグラフ作成 ######\n",
    "\"\"\"\n",
    "この1行はmatplotlibを使ったグラフを、Jupyter Notebook上で表示させるために必要です。\n",
    "Pythonプログラムではありません。Jupyter Notebookの「マジックコマンド」と言われるものです。\n",
    "\"\"\"\n",
    "%matplotlib inline\n",
    "\n",
    "\n",
    "\"\"\"\n",
    "ここからPythonプログラム\n",
    "\"\"\"\n",
    "#--- ライブラリを読み込む ---\n",
    "import matplotlib.pyplot as plt\n",
    "\n",
    "#--- x軸データとy軸データ ---\n",
    "df['snp_index'] = df['alt_N'] / (df['ref_N'] + df['alt_N'])\n",
    "x = df['pos']\n",
    "y = df['snp_index']\n",
    "\n",
    "#--- グラフ描画 ---\n",
    "fig = plt.figure(figsize=[16,9])    # グラフフィールドの設定\n",
    "plt.scatter(x, y, color='gray')      # 散布図\n",
    "plt.title('SNP-index on chromosome 10', fontsize=24)  # グラフタイトル\n",
    "plt.xlabel('Position (x 10 Mb)', fontsize=16)  # x軸ラベル\n",
    "plt.ylabel('SNP-index', fontsize=16)           # y軸ラベル\n",
    "\n",
    "\n",
    "#--- グラフにsnp_index>=0.9のデータを重ね描き ---\n",
    "# !!! 以下にプログラムを追記する !!!\n"
   ]
  },
  {
   "cell_type": "markdown",
   "metadata": {},
   "source": [
    "完全版のプログラムは[こちら](./02_large_data_analysis_ja_complete_version.ipynb#1.6)"
   ]
  },
  {
   "cell_type": "markdown",
   "metadata": {},
   "source": [
    "### 7. Sliding Window解析<a name=\"1.7\"></a>\n",
    "MutMap解析では、SNP-indexの区間平均をゲノムに全体にわたって調べる解析（Sliding Window解析）というのをおこない、形質にかかわるゲノム領域を特定します。 \n",
    "\n",
    "_形質にかかわる領域付近では、直接の原因となる塩基座位だけでなく、周囲の塩基座位のSNP-indexも1に近づきます。_\n",
    "\n",
    "\n",
    "<div style=\"margin-bottom: 5px;\"><img src=\"https://github.com/CropEvol/lecture/blob/master/images/07/sliding_window_ja.jpg?raw=true\" alt=\"matplotlib_graph\"></div>\n",
    "\n",
    "\n",
    "ここでは上の図のように、Chromosome 10上のSNP-indexの推移を調べてみましょう。  \n",
    "あらかじめプログラムを書いています。  \n",
    "\n",
    "#### 解析方法\n",
    "SNP-indexのSliding Window解析は次のような手順で解析します。\n",
    "1. 区間サイズとステップサイズを決める。\n",
    "1. 各区間の代表値（ここでは区間の中央値）用のリストと、区間内の平均SNP-index用のリストを用意する。  \n",
    "1. `while`文を使って全ての区間を調べていく。  \n",
    "    1. 区間内に含まれるデータを抽出する。\n",
    "    1. 抽出したデータからSNP-indexの平均値を算出する。\n",
    "    1. 区間の中央値と算出した平均SNP-indexを、それぞれのリストに追加する。\n",
    "    1. ゲノムの全長を全て調べたら`while`から出る\n",
    "1. x軸に中央値、y軸に平均SNP-indexの値をとったグラフ（折れ線グラフなど）を作成する。"
   ]
  },
  {
   "cell_type": "code",
   "execution_count": null,
   "metadata": {
    "scrolled": false
   },
   "outputs": [],
   "source": [
    "###### Sliding Window解析 ######\n",
    "#---  NumPyライブラリの読み込み ---\n",
    "import numpy as np\n",
    "\n",
    "#--- 区間サイズとステップサイズ ---\n",
    "CHROM_SIZE = 23207287       # Chromosome 10　の全長 (bp)\n",
    "WIN_SIZE       = 1 * 1000 * 1000     #  1 Mb = 1000 kb = 1,000,000 bp\n",
    "STEP_SIZE     = 0.2 * 1000* 1000     #  0.2 Mb = 200 kb = 200,000 bp\n",
    "\n",
    "#--- 区間データ用のリストを準備 ---\n",
    "win_position  = []  # 区間中央値用リスト\n",
    "win_snpindex = []  # 平均SNP-index用リスト\n",
    "\n",
    "#--- 全ての区間を調べる ---\n",
    "\"\"\"\n",
    "/// 調べる区間 ///\n",
    "start, end\n",
    "0, 0+1000 (kb)\n",
    "200, 200+1000\n",
    "400, 400+1000\n",
    "  .\n",
    "  .\n",
    "  .\n",
    "\n",
    "/// WIN_SIZEとSTEP_SIZEを使って表現すると... ///\n",
    "繰り返し数:　n = 0, 1, 2, ...\n",
    "\n",
    "start = STEP_SIZE * n  \n",
    "end = start + WIN_SIZE\n",
    "\n",
    "\n",
    "end > CHROM_SIZEになったとき、繰り返しを終える。\n",
    "\n",
    "このように、繰り返し数を指定しない場合は、for文ではなく、while文を使用します。\n",
    "\"\"\"\n",
    "\n",
    "n = 0 # 繰り返し数\n",
    "while True:\n",
    "    \n",
    "    #--- 区間のstartとend position ---\n",
    "    start = STEP_SIZE * n \n",
    "    end   = start + WIN_SIZE\n",
    "    \n",
    "    #--- 区間の中央値をリストに追加する ---\n",
    "    p = (start + end) / 2\n",
    "    win_position.append(p)\n",
    "    \n",
    "    #--- 区間内データを抽出 ---\n",
    "    sub = df[(df['pos'] >= start) & (df['pos'] < end)]\n",
    "    \n",
    "    #--- SNP-indexの平均値を算出 ---\n",
    "    i = sub['snp_index'].mean()\n",
    "    win_snpindex.append(i)\n",
    "        \n",
    "    #--- 繰り返し数を+1 ---\n",
    "    n += 1\n",
    "    \n",
    "    #--- 全ての区間を調べた時、whileから出る ---\n",
    "    if end > CHROM_SIZE:\n",
    "        break\n",
    "\n",
    "#--- グラフ作成  ---\n",
    "fig = plt.figure(figsize=[16,9])\n",
    "plt.scatter(x, y, color='gray')      # 全データ\n",
    "plt.title('SNP-index on chromosome 10', fontsize=24)  # グラフタイトル\n",
    "plt.xlabel('Position (x 10 Mb)', fontsize=16)  # x軸ラベル\n",
    "plt.ylabel('SNP-index', fontsize=16)        # y軸ラベル\n",
    "\n",
    "#--- グラフにsnp_index>=0.9のデータを重ね描き ---\n",
    "df_ext = df[ df['snp_index'] >= 0.9 ]\n",
    "x1 = df_ext['pos']\n",
    "y1 = df_ext['snp_index']\n",
    "plt.scatter(x1, y1, color='red')\n",
    "\n",
    "#--- 平均SNP-indexの折れ線グラフ（重ね描き） ---\n",
    "plt.plot(win_position, win_snpindex, color='blue')      "
   ]
  },
  {
   "cell_type": "markdown",
   "metadata": {},
   "source": [
    "平均SNP-indexが0.9以上の区間を原因遺伝子の候補領域として取り出しましょう。"
   ]
  },
  {
   "cell_type": "code",
   "execution_count": null,
   "metadata": {},
   "outputs": [],
   "source": [
    "### 平均SNP-indexが0.9以上の区間を取り出す ###\n",
    "\n",
    "#--- Sliding windowのデータをpandasデータフレームにする ---\n",
    "sw = pd.DataFrame({ 'pos': win_position, 'snp_index': win_snpindex})\n",
    "\n",
    "#--- 区間のstartとendの位置 ---\n",
    "sw['start'] = sw['pos'] - WIN_SIZE / 2 \n",
    "sw['end'] = sw['pos'] + WIN_SIZE / 2\n",
    "\n",
    "#--- 平均SNP-indexが0.9以上の区間 ---\n",
    "sw[sw['snp_index'] >= 0.9] "
   ]
  },
  {
   "cell_type": "markdown",
   "metadata": {},
   "source": [
    "上の例では、平均SNP-indexの値が0.9以上のデータを取り出しました。  \n",
    "なぜ「0.9」でしょうか？ 「0.8」や「0.89」、「0.91」ではダメなのでしょうか？  \n",
    "この「0.9」は \"なんとなく選んだ\" 数値（閾値）です。つまり、あまり根拠がなく主観的です。  \n",
    "\n",
    "もう少し根拠のある閾値を設定することはできないのでしょうか？  \n",
    "\n",
    "シミュレーションをおこなうことで、ある値のSNP-indexが得られる確率を調べることができます。  \n",
    "シミュレーションにより得られた確率に基づいて閾値を設定することで、より客観的にデータ（得られたSNP-index）を評価することが可能となります。\n",
    "\n",
    "次回、そのシミュレーションをおこなってみましょう。"
   ]
  }
 ],
 "metadata": {
  "kernelspec": {
   "display_name": "Python 3",
   "language": "python",
   "name": "python3"
  },
  "language_info": {
   "codemirror_mode": {
    "name": "ipython",
    "version": 3
   },
   "file_extension": ".py",
   "mimetype": "text/x-python",
   "name": "python",
   "nbconvert_exporter": "python",
   "pygments_lexer": "ipython3",
   "version": "3.6.3"
  }
 },
 "nbformat": 4,
 "nbformat_minor": 2
}
