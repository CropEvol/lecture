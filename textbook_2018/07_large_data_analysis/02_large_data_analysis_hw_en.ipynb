{
 "cells": [
  {
   "cell_type": "markdown",
   "metadata": {},
   "source": [
    "# Introduction to Large Data Analysis (2)　Exercise"
   ]
  },
  {
   "cell_type": "markdown",
   "metadata": {},
   "source": [
    "---\n",
    "## Sample data\n",
    "\n",
    "Sample data is tha data from MutMap analysis (same as that of Practice-07).  \n",
    "=> [Practice-07](02_large_data_analysis_en.ipynb)\n",
    "\n",
    "\n",
    "### Data source\n",
    "\n",
    "Abe, A., Kosugi, S., Yoshida, K., Natsume, S., Takagi, H., Kanzaki, H., Matsumura, H., Yoshida, K., Mitsuoka, C., Tamiru, M., Innan, H., Cano, L., Kamoun, S., Terauchi, R. (2012). [Genome sequencing reveals agronomically important loci in rice using MutMap.](https://www.nature.com/articles/nbt.2095) _Nature biotechnology_, 30(2), 174."
   ]
  },
  {
   "cell_type": "code",
   "execution_count": null,
   "metadata": {},
   "outputs": [],
   "source": [
    "\"\"\"\n",
    "*** IMPORTANT ***\n",
    "Run this cell before doing exercises.\n",
    "You can download a sample file.\n",
    "\"\"\"\n",
    "#--- Downloading sample data  ---\n",
    "!wget -q https://raw.githubusercontent.com/CropEvol/lecture/master/data/mutmap_bulk.txt -O mutmap_bulk.txt\n",
    "\n",
    "#--- Importing library  ---\n",
    "import pandas as pd\n",
    "\n",
    "#--- 読み込みファイル名 ---\n",
    "    \n",
    "\n",
    "#--- Loading data from input file ---\n",
    "dataset = 'mutmap_bulk.txt' # input file\n",
    "\n",
    "df = pd.read_csv(dataset, sep=\"\\t\", header=-1, names=['chr', 'pos', 'ref_nucl', 'alt_nucl', 'ref_N', 'alt_N'])\n",
    "# header=-1: No header line in the file\n",
    "# names=[...]: Specifing the names of each columns\n",
    "\n",
    "#--- Showing the data ---\n",
    "# Jupyter notebook is able to show the data by not using the function print().\n",
    "df"
   ]
  },
  {
   "cell_type": "markdown",
   "metadata": {},
   "source": [
    "---\n",
    "## Exercise 1.\n",
    "__Calculate SNP-index & Add the data as new column to the dataframe \"df\"__\n",
    "\n",
    "Hint1: SNP-index = alt_N / (ref_N + alt_N)\n",
    "\n",
    "Hint2: How to extract data of one column => [2. Accessing to an arbitrary data](02_large_data_analysis_en.ipynb#1.2)\n",
    "\n",
    "Hint3: Special hint => [3. Calculating SNP-index](02_large_data_analysis_en.ipynb#1.3)"
   ]
  },
  {
   "cell_type": "code",
   "execution_count": null,
   "metadata": {},
   "outputs": [],
   "source": []
  },
  {
   "cell_type": "markdown",
   "metadata": {},
   "source": [
    "---\n",
    "## Exercise 2. \n",
    "__Extract the data in 10-15 Mb of chromosome 10 （The unit of `pos` column is \"bp\")。__\n",
    "\n",
    "Hint1: 1Mb = 1000 kb = 1000000 bp \n",
    "\n",
    "Hint2: [4. Selecting data by condition](02_large_data_analysis_en.ipynb#1.4)\n",
    "\n"
   ]
  },
  {
   "cell_type": "code",
   "execution_count": null,
   "metadata": {},
   "outputs": [],
   "source": []
  },
  {
   "cell_type": "markdown",
   "metadata": {},
   "source": [
    "---\n",
    "## Exercise 3. \n",
    "__Draw the scatter plot of all SNP-index: The values of x-axis are positions in chromosome 10 (that is the values of `pos` column). The values of y-axis are SNP-indexes (that is the values calculated in Exercise 1). In this exercise, the SNP-indexes in 10-15 Mb of chromosome 10 are shown as red dots.__\n",
    "\n",
    "Hint: [6. Drawing graph](02_large_data_analysis_en.ipynb#1.6)"
   ]
  },
  {
   "cell_type": "code",
   "execution_count": null,
   "metadata": {},
   "outputs": [],
   "source": []
  },
  {
   "cell_type": "markdown",
   "metadata": {},
   "source": [
    "---\n",
    "\n",
    "## About submitting this homework\n",
    "Homework No.：`07`  \n",
    "\n",
    "How to submit：\n",
    "1. Download this Jupyter Notebook file after the above three exercises.\n",
    "1. Attach the file to the mail, and send it to the address below.\n",
    "\n",
    "__＊ Attention ＊　  \n",
    "Write HW[Homework No. (2 digits)]+SID[Student ID (4 digits -2 digits- 4 digits)] into the subject of your mail.__\n",
    "\n",
    "(Example) HW07+SID1234-56-7890\n",
    "\n",
    "E-mail Address: cropevol@gmail.com  \n",
    "\n",
    "Deadline: 17:00, Nov 19, 2018"
   ]
  },
  {
   "cell_type": "markdown",
   "metadata": {},
   "source": [
    "---\n",
    "\n",
    "## [Challenge] Exercise 4.  <small>Not need to submit</small>\n",
    " \n",
    "__Do sliding window analyisis for the numbers of SNP loci__\n",
    "\n",
    "The numbers of SNP loci are not the average values, but the numbers of counts (that is the numbers of data-lines).\n",
    "\n",
    "Hint: [7. Sliding window analysis](02_large_data_analysis_en.ipynb#1.7)"
   ]
  },
  {
   "cell_type": "code",
   "execution_count": null,
   "metadata": {},
   "outputs": [],
   "source": []
  }
 ],
 "metadata": {
  "kernelspec": {
   "display_name": "Python 3",
   "language": "python",
   "name": "python3"
  },
  "language_info": {
   "codemirror_mode": {
    "name": "ipython",
    "version": 3
   },
   "file_extension": ".py",
   "mimetype": "text/x-python",
   "name": "python",
   "nbconvert_exporter": "python",
   "pygments_lexer": "ipython3",
   "version": "3.6.3"
  }
 },
 "nbformat": 4,
 "nbformat_minor": 2
}
