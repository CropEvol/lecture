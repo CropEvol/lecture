{
 "cells": [
  {
   "cell_type": "markdown",
   "metadata": {},
   "source": [
    "### 1. Pandasデータフレームとしてファイルを読み込む<a name=\"1.1\"></a>"
   ]
  },
  {
   "cell_type": "code",
   "execution_count": null,
   "metadata": {},
   "outputs": [],
   "source": [
    "\"\"\"\n",
    "＊重要＊\n",
    "最初にこのセルを実行してください。\n",
    "サンプルファイルをダウンロードします。\n",
    "\"\"\"\n",
    "!wget -q https://raw.githubusercontent.com/CropEvol/lecture/master/data/mutmap_bulk.txt -O mutmap_bulk.txt\n",
    "    \n",
    "#--- pandasを読み込む  ---\n",
    "import pandas as pd\n",
    "\n",
    "#--- 読み込みファイル名 ---\n",
    "dataset = 'mutmap_bulk.txt'       \n",
    "\n",
    "#--- ファイルを読み込む ---\n",
    "# header=-1（列名行なし）を指定した場合、列名として通し番号が付けられます。\n",
    "# names=[リスト]とすることで、通し番号の代わりに列名を指定することが可能です。\n",
    "df = pd.read_csv(dataset, sep=\"\\t\", header=-1, names=['chr', 'pos', 'ref_nucl', 'alt_nucl', 'ref_N', 'alt_N'])\n",
    "\n",
    "#--- 表示 ---\n",
    "df"
   ]
  },
  {
   "cell_type": "markdown",
   "metadata": {},
   "source": [
    "### 2. 任意のデータにアクセスする<a name=\"1.2\"></a>"
   ]
  },
  {
   "cell_type": "code",
   "execution_count": null,
   "metadata": {},
   "outputs": [],
   "source": [
    "###### 全て表示（途中のデータは省略されます） ######\n",
    "df\n",
    "\n",
    "###### 1列を抽出 ######\n",
    "#df['ref_nucl']\n",
    "#df.loc[:, 'ref_nucl']\n",
    "#df.iloc[:, 2]\n",
    "\n",
    "\n",
    "###### 複数列を抽出 ######\n",
    "#df.loc[:, ['ref_nucl','alt_nucl']]\n",
    "#df.iloc[:, 2:4]\n",
    "\n",
    "\n",
    "###### 行の抽出 ######\n",
    "#df.loc[10,:]\n",
    "#df.iloc[10,:]\n",
    "\n",
    "\n",
    "###### 複数行を抽出 ######\n",
    "#df.loc[10:15, :]\n",
    "#df.iloc[10:15, :]\n",
    "\n",
    "\n",
    "###### 1セル抽出 ######\n",
    "#df.loc[10, 'ref_nucl']\n",
    "#df.iloc[10, 2]\n",
    "\n",
    "\n",
    "###### 複数列と複数行を抽出 ######\n",
    "#df.loc[10:15, ['ref_nucl', 'alt_nucl']]\n",
    "#df.iloc[10:15, 2:4]\n",
    "\n"
   ]
  },
  {
   "cell_type": "markdown",
   "metadata": {},
   "source": [
    "### 3. SNP-indexを計算する<a name=\"1.3\"></a>"
   ]
  },
  {
   "cell_type": "code",
   "execution_count": null,
   "metadata": {},
   "outputs": [],
   "source": [
    "###### SNP-indexの計算 ######\n",
    "\n",
    "# !!! 以下にプログラムを追記する !!!\n",
    "df['snp_index'] = df['alt_N'] / (df['ref_N'] + df['alt_N'])\n",
    "\n",
    "#--- 表示 ---\n",
    "df"
   ]
  },
  {
   "cell_type": "markdown",
   "metadata": {},
   "source": [
    "### 4. 条件に合うデータを抽出する<a name=\"1.4\"></a>"
   ]
  },
  {
   "cell_type": "code",
   "execution_count": null,
   "metadata": {},
   "outputs": [],
   "source": [
    "###### 条件を指定して抽出 ######\n",
    "\n",
    "#--- 条件をひとつ指定 ---\n",
    "# df['ref_nucl']=='A'    # これだけでは望んだ結果が得られない\n",
    "\n",
    "# df[ df['ref_nucl']=='A' ] \n",
    "\n",
    "#--- 複数の条件を指定 ---\n",
    "# df[ (df['ref_nucl']=='A' ) & (df['alt_nucl']=='G' ) ]    # AND\n",
    "\n",
    "# df[ (df['ref_nucl']=='A' ) | (df['alt_nucl']=='G' ) ]    # OR\n",
    "\n",
    "\n",
    "#--- SNP-indexが0.9以上のデータを抽出 ---\n",
    "# !!! 以下にプログラムを追記する !!!\n",
    "df[ df['snp_index'] >= 0.9 ]\n",
    "\n"
   ]
  },
  {
   "cell_type": "markdown",
   "metadata": {},
   "source": [
    "### 5. ファイルに書き出す<a name=\"1.5\"></a>"
   ]
  },
  {
   "cell_type": "code",
   "execution_count": null,
   "metadata": {},
   "outputs": [],
   "source": [
    "###### ファイルの書き出し ######\n",
    "#outdata = 'mutmap_snpindex_using_pd.txt'        # 書き出しファイル名\n",
    "#df.to_csv(outdata, sep='\\t', header=True, index=False)"
   ]
  },
  {
   "cell_type": "markdown",
   "metadata": {},
   "source": [
    "### 6. SNP-indexのグラフを描く<a name=\"1.6\"></a>"
   ]
  },
  {
   "cell_type": "code",
   "execution_count": null,
   "metadata": {},
   "outputs": [],
   "source": [
    "###### SNP-indexのグラフ作成 ######\n",
    "\"\"\"\n",
    "この1行はmatplotlibを使ったグラフを、Jupyter Notebook上で表示させるために必要です。\n",
    "Pythonプログラムではありません。Jupyter Notebookの「マジックコマンド」と言われるものです。\n",
    "\"\"\"\n",
    "%matplotlib inline\n",
    "\n",
    "\n",
    "\"\"\"\n",
    "ここからPythonプログラム\n",
    "\"\"\"\n",
    "#--- ライブラリを読み込む ---\n",
    "import matplotlib.pyplot as plt\n",
    "\n",
    "#--- x軸データとy軸データ ---\n",
    "df['snp_index'] = df['alt_N'] / (df['ref_N'] + df['alt_N'])\n",
    "x = df['pos']\n",
    "y = df['snp_index']\n",
    "\n",
    "#--- グラフ描画 ---\n",
    "fig = plt.figure(figsize=[16,9])    # グラフフィールドの設定\n",
    "plt.scatter(x, y, color='gray')      # 散布図\n",
    "plt.title('SNP-index on chromosome 10', fontsize=24)  # グラフタイトル\n",
    "plt.xlabel('Position (x 10 Mb)', fontsize=16)  # x軸ラベル\n",
    "plt.ylabel('SNP-index', fontsize=16)           # y軸ラベル\n",
    "\n",
    "\n",
    "#--- グラフにsnp_index>=0.9のデータを重ね描き ---\n",
    "# !!! 以下にプログラムを追記する !!!\n",
    "\n",
    "# snp_index>=0.9のデータを抽出して、新しいデータフレームに入れる\n",
    "df_ext = df[ df['snp_index'] >= 0.9 ]\n",
    "\n",
    "x1 = df_ext['pos']       # x軸データ\n",
    "y1 = df_ext['snp_index'] # y軸データ\n",
    "\n",
    "plt.scatter(x1, y1, color='red')      # 散布図"
   ]
  },
  {
   "cell_type": "markdown",
   "metadata": {},
   "source": [
    "### 7. Sliding Window解析<a name=\"1.7\"></a>"
   ]
  },
  {
   "cell_type": "code",
   "execution_count": null,
   "metadata": {},
   "outputs": [],
   "source": [
    "###### Sliding Window解析 ######\n",
    "#---  NumPyライブラリの読み込み ---\n",
    "import numpy as np\n",
    "\n",
    "#--- 区間サイズとステップサイズ ---\n",
    "CHROM_SIZE = 23207287       # Chromosome 10　の全長 (bp)\n",
    "WIN_SIZE       = 1 * 1000 * 1000     #  1 Mb = 1000 kb = 1,000,000 bp\n",
    "STEP_SIZE     = 0.2 * 1000* 1000     #  0.2 Mb = 200 kb = 200,000 bp\n",
    "\n",
    "#--- 区間データ用のリストを準備 ---\n",
    "win_position  = []  # 区間中央値用リスト\n",
    "win_snpindex = []  # 平均SNP-index用リスト\n",
    "\n",
    "#--- 全ての区間を調べる ---\n",
    "\"\"\"\n",
    "/// 調べる区間 ///\n",
    "start, end\n",
    "0, 0+1000 (kb)\n",
    "200, 200+1000\n",
    "400, 400+1000\n",
    "  .\n",
    "  .\n",
    "  .\n",
    "\n",
    "/// WIN_SIZEとSTEP_SIZEを使って表現すると... ///\n",
    "繰り返し数:　n = 0, 1, 2, ...\n",
    "\n",
    "start = STEP_SIZE * n  \n",
    "end = start + WIN_SIZE\n",
    "\n",
    "\n",
    "end > CHROM_SIZEになったとき、繰り返しを終える。\n",
    "\n",
    "このように、繰り返し数を指定しない場合は、for文ではなく、while文を使用します。\n",
    "\"\"\"\n",
    "\n",
    "n = 0 # 繰り返し数\n",
    "while True:\n",
    "    \n",
    "    #--- 区間のstartとend position ---\n",
    "    start = STEP_SIZE * n \n",
    "    end   = start + WIN_SIZE\n",
    "    \n",
    "    #--- 区間の中央値をリストに追加する ---\n",
    "    p = (start + end) / 2\n",
    "    win_position.append(p)\n",
    "    \n",
    "    #--- 区間内データを抽出 ---\n",
    "    sub = df[(df['pos'] >= start) & (df['pos'] < end)]\n",
    "    \n",
    "    #--- SNP-indexの平均値を算出 ---\n",
    "    i = sub['snp_index'].mean()\n",
    "    win_snpindex.append(i)\n",
    "        \n",
    "    #--- 繰り返し数を+1 ---\n",
    "    n += 1\n",
    "    \n",
    "    #--- 全ての区間を調べた時、whileから出る ---\n",
    "    if end > CHROM_SIZE:\n",
    "        break\n",
    "\n",
    "#--- グラフ作成  ---\n",
    "fig = plt.figure(figsize=[16,9])\n",
    "plt.scatter(x, y, color='gray')      # 全データ\n",
    "plt.title('SNP-index on chromosome 10', fontsize=24)  # グラフタイトル\n",
    "plt.xlabel('Position (x 10 Mb)', fontsize=16)  # x軸ラベル\n",
    "plt.ylabel('SNP-index', fontsize=16)        # y軸ラベル\n",
    "\n",
    "#--- グラフにsnp_index>=0.9のデータを重ね描き ---\n",
    "df_ext = df[ df['snp_index'] >= 0.9 ]\n",
    "x1 = df_ext['pos']\n",
    "y1 = df_ext['snp_index']\n",
    "plt.scatter(x1, y1, color='red')\n",
    "\n",
    "#--- 平均SNP-indexの折れ線グラフ（重ね描き） ---\n",
    "plt.plot(win_position, win_snpindex, color='blue')      "
   ]
  },
  {
   "cell_type": "code",
   "execution_count": null,
   "metadata": {},
   "outputs": [],
   "source": [
    "### 平均SNP-indexが0.9以上の区間を取り出す ###\n",
    "\n",
    "#--- Sliding windowのデータをpandasデータフレームにする ---\n",
    "sw = pd.DataFrame({ 'pos': win_position, 'snp_index': win_snpindex})\n",
    "\n",
    "#--- 区間のstartとendの位置 ---\n",
    "sw['start'] = sw['pos'] - WIN_SIZE / 2 \n",
    "sw['end'] = sw['pos'] + WIN_SIZE / 2\n",
    "\n",
    "#--- 平均SNP-indexが0.9以上の区間 ---\n",
    "sw[sw['snp_index'] >= 0.9] "
   ]
  }
 ],
 "metadata": {
  "kernelspec": {
   "display_name": "Python 3",
   "language": "python",
   "name": "python3"
  },
  "language_info": {
   "codemirror_mode": {
    "name": "ipython",
    "version": 3
   },
   "file_extension": ".py",
   "mimetype": "text/x-python",
   "name": "python",
   "nbconvert_exporter": "python",
   "pygments_lexer": "ipython3",
   "version": "3.6.3"
  }
 },
 "nbformat": 4,
 "nbformat_minor": 2
}
