{
 "cells": [
  {
   "cell_type": "markdown",
   "metadata": {},
   "source": [
    "# Introduction to Large Data Analysis (2)\n",
    "Data analysis using pandas & Drawing figures"
   ]
  },
  {
   "cell_type": "markdown",
   "metadata": {},
   "source": [
    "### 1. Loading a data-file as pandas dataframe<a name=\"1.1\"></a>"
   ]
  },
  {
   "cell_type": "code",
   "execution_count": null,
   "metadata": {},
   "outputs": [],
   "source": [
    "\"\"\"\n",
    "＊重要＊\n",
    "Downloading sample data\n",
    "\"\"\"\n",
    "!wget -q https://raw.githubusercontent.com/CropEvol/lecture/master/data/mutmap_bulk.txt -O mutmap_bulk.txt\n",
    "    \n",
    "#--- Import library ---\n",
    "import pandas as pd\n",
    "\n",
    "#--- Loading data from file ---\n",
    "dataset = 'mutmap_bulk.txt'        # input-file name\n",
    "df = pd.read_csv(dataset, sep='\\t', header=-1, names=['chr', 'pos', 'ref_nucl', 'alt_nucl', 'ref_N', 'alt_N']) \n",
    "\n",
    "df  # show"
   ]
  },
  {
   "cell_type": "markdown",
   "metadata": {},
   "source": [
    "### 2. Accessing to an arbitrary data<a name=\"1.2\"></a>"
   ]
  },
  {
   "cell_type": "code",
   "execution_count": null,
   "metadata": {},
   "outputs": [],
   "source": [
    "###### show dataset ######\n",
    "df\n",
    "\n",
    "\n",
    "###### Extract one column  ######\n",
    "#df['ref_nucl']\n",
    "#df.loc[:, 'ref_nucl']\n",
    "#df.iloc[:, 2]\n",
    "\n",
    "\n",
    "###### Extract multi column ######\n",
    "#df.loc[:, ['ref_nucl','alt_nucl']]\n",
    "#df.iloc[:, 2:4]\n",
    "\n",
    "\n",
    "###### Extract one row ######\n",
    "#df.loc[10,:]\n",
    "#df.iloc[10,:]\n",
    "\n",
    "\n",
    "###### Extract multi rows ######\n",
    "#df.loc[10:15, :]\n",
    "#df.iloc[10:15, :]\n",
    "\n",
    "\n",
    "###### Extract one data-cell ######\n",
    "#df.loc[10, 'ref_nucl']\n",
    "#df.iloc[10, 2]\n",
    "\n",
    "\n",
    "###### Extract multi data-cells ######\n",
    "#df.loc[10:15, ['ref_nucl', 'alt_nucl']]\n",
    "#df.iloc[10:15, 2:4]\n"
   ]
  },
  {
   "cell_type": "markdown",
   "metadata": {},
   "source": [
    "### 3. Calculating SNP-index<a name=\"1.3\"></a>"
   ]
  },
  {
   "cell_type": "code",
   "execution_count": null,
   "metadata": {},
   "outputs": [],
   "source": [
    "###### SNP-indexの計算 ######\n",
    "\n",
    "# !!! Add code !!!\n",
    "df['snp_index'] = df['alt_N'] / (df['ref_N'] + df['alt_N'])\n",
    "\n",
    "#--- Show ---\n",
    "df"
   ]
  },
  {
   "cell_type": "markdown",
   "metadata": {},
   "source": [
    "### 4. Selecting data by condition<a name=\"1.4\"></a>"
   ]
  },
  {
   "cell_type": "code",
   "execution_count": null,
   "metadata": {},
   "outputs": [],
   "source": [
    "###### Selecting data by condition ######\n",
    "\n",
    "#--- Single condition ---\n",
    "# df['ref_nucl']=='A'  \n",
    "\n",
    "# df[ df['ref_nucl']=='A' ] \n",
    "\n",
    "#--- Multi conditions ---\n",
    "# df[ (df['ref_nucl']=='A' ) & (df['alt_nucl']=='G' ) ]    # AND\n",
    "\n",
    "# df[ (df['ref_nucl']=='A' ) | (df['alt_nucl']=='G' ) ]    # OR\n",
    "\n",
    "\n",
    "#--- Only data with SNP-index >= 0.9 ---\n",
    "# !!! Add code !!!\n",
    "df[ df['snp_index'] >= 0.9 ]\n"
   ]
  },
  {
   "cell_type": "markdown",
   "metadata": {},
   "source": [
    "### 5. Writing into a file<a name=\"1.5\"></a>"
   ]
  },
  {
   "cell_type": "code",
   "execution_count": null,
   "metadata": {},
   "outputs": [],
   "source": [
    "###### write new table into the output-file ######\n",
    "#outdata = 'mutmap_snpindex.txt'        # output-file name\n",
    "#df.to_csv(outdata, sep='\\t', header=True, index=False)"
   ]
  },
  {
   "cell_type": "markdown",
   "metadata": {},
   "source": [
    "### 6. Drawing graph<a name=\"1.6\"></a>"
   ]
  },
  {
   "cell_type": "code",
   "execution_count": null,
   "metadata": {},
   "outputs": [],
   "source": [
    "\"\"\"\n",
    "The below line is needed to display the graph in Jupyter Notebook.\n",
    "This is not a python program. This is a \"Magic command\" of Jupyter Notebook.\n",
    "\"\"\"\n",
    "%matplotlib inline\n",
    "\n",
    "\n",
    "\"\"\"\n",
    "Python program is from here\n",
    "\"\"\"\n",
    "\n",
    "#--- Import library ---\n",
    "import matplotlib.pyplot as plt\n",
    "\n",
    "#--- x-values, y-values ---\n",
    "df['snp_index'] = df['alt_N'] / (df['ref_N'] + df['alt_N'])\n",
    "x = df['pos']\n",
    "y = df['snp_index']\n",
    "\n",
    "#--- Drawing all data ---\n",
    "fig = plt.figure(figsize=[16,9])    # graph field\n",
    "plt.scatter(x, y, color='gray')      # scatter plot\n",
    "plt.title('SNP-index on chromosome 10', fontsize=24)  # title of this graph\n",
    "plt.xlabel('Position (x 10 Mb)', fontsize=16)  # label of x-axis\n",
    "plt.ylabel('SNP-index', fontsize=16)                # label of y-axis\n",
    "\n",
    "\n",
    "# Drawing the data of \"SNP-index >= 0.9\"\n",
    "df_ext = df[ df['snp_index'] >= 0.9 ]\n",
    "\n",
    "x1 = df_ext['pos']       # x-values\n",
    "y1 = df_ext['snp_index'] # , y-values\n",
    "\n",
    "plt.scatter(x1, y1, color='red')      # Scatter plot"
   ]
  },
  {
   "cell_type": "markdown",
   "metadata": {},
   "source": [
    "### 7. Sliding window analysis<a name=\"1.7\"></a>"
   ]
  },
  {
   "cell_type": "code",
   "execution_count": null,
   "metadata": {},
   "outputs": [],
   "source": [
    "###### Sliding Window解析 ######\n",
    "#---  Import library ---\n",
    "import numpy as np\n",
    "\n",
    "#--- Chromosome size, Window size, step size ---\n",
    "CHROM_SIZE = 23207287       # Length of Chromosome 10　 (bp)\n",
    "WIN_SIZE       = 1 * 1000 * 1000     #  Window size: 1 Mb = 1000 kb = 1,000,000 bp\n",
    "STEP_SIZE     = 0.2 * 1000* 1000     #  Step size: 0.2 Mb = 200 kb = 200,000 bp\n",
    "\n",
    "#--- Prepare lists for the positions and averages of SNP-index in each region ---\n",
    "win_position  = []  # list for positions\n",
    "win_snpindex = []  # list for averages of SNP-index\n",
    "\n",
    "#--- Search all regions---\n",
    "\"\"\"\n",
    "/// start and end position of each regions ///\n",
    "start, end\n",
    "0, 0+1000 (kb)\n",
    "200, 200+1000\n",
    "400, 400+1000\n",
    "  .\n",
    "  .\n",
    "  .\n",
    "\n",
    "/// express by using  WIN_SIZE and STEP_SIZE///\n",
    "Repeats:　n = 0, 1, 2, ...\n",
    "\n",
    "start = STEP_SIZE * n  \n",
    "end = start + WIN_SIZE\n",
    "\n",
    "\n",
    "If \"end > CHROM_SIZE\", stop and get out looping.\n",
    "\"\"\"\n",
    "\n",
    "n = 0 # Repeats\n",
    "while True:\n",
    "    \n",
    "    #--- Start & end position ---\n",
    "    start = STEP_SIZE * n \n",
    "    end   = start + WIN_SIZE\n",
    "    \n",
    "    #--- Median of window ---\n",
    "    p = (start + end) / 2\n",
    "    win_position.append(p)\n",
    "    \n",
    "    #--- Extract data in region ---\n",
    "    sub = df[(df['pos'] >= start) & (df['pos'] < end)]\n",
    "    \n",
    "    #--- Average of SNP-indexes ---\n",
    "    i = sub['snp_index'].mean()\n",
    "    win_snpindex.append(i)\n",
    "        \n",
    "    #--- Repeats Num +1 ---\n",
    "    n += 1\n",
    "    \n",
    "    #--- stop and get out this looping---\n",
    "    if end > CHROM_SIZE:\n",
    "        break\n",
    "\n",
    "#--- Scatter plot of all data  ---\n",
    "fig = plt.figure(figsize=[16,9])\n",
    "plt.scatter(x, y, color='gray')      # all data\n",
    "plt.title('SNP-index on chromosome 10', fontsize=24)  # title\n",
    "plt.xlabel('Position (x 10 Mb)', fontsize=16)  # label of x-axis\n",
    "plt.ylabel('SNP-index', fontsize=16)                # label of y-axis\n",
    "\n",
    "#--- Scatter plot of SNP-index>=0.9 ---\n",
    "df_ext = df[ df['snp_index'] >= 0.9 ]\n",
    "x1 = df_ext['pos']\n",
    "y1 = df_ext['snp_index']\n",
    "plt.scatter(x1, y1, color='red')\n",
    "\n",
    "#--- Line plot of siding window ---\n",
    "plt.plot(win_position, win_snpindex, color='blue')      "
   ]
  },
  {
   "cell_type": "code",
   "execution_count": null,
   "metadata": {},
   "outputs": [],
   "source": [
    "### Extract the window has the averages of SNP-index is more than 0.9. ###\n",
    "\n",
    "# Dataframe of Sliding window\n",
    "W = pd.DataFrame({ 'pos': win_position, 'snp_index': win_snpindex})\n",
    "\n",
    "# start position  & end position of window\n",
    "W['start'] = W['pos'] - WIN_SIZE / 2 \n",
    "W['end'] = W['pos'] + WIN_SIZE / 2\n",
    "\n",
    "# the window of \"SNP-index >= 0.9\"\n",
    "W[W['snp_index'] >= 0.9]"
   ]
  },
  {
   "cell_type": "code",
   "execution_count": null,
   "metadata": {},
   "outputs": [],
   "source": []
  }
 ],
 "metadata": {
  "kernelspec": {
   "display_name": "Python 3",
   "language": "python",
   "name": "python3"
  },
  "language_info": {
   "codemirror_mode": {
    "name": "ipython",
    "version": 3
   },
   "file_extension": ".py",
   "mimetype": "text/x-python",
   "name": "python",
   "nbconvert_exporter": "python",
   "pygments_lexer": "ipython3",
   "version": "3.6.3"
  }
 },
 "nbformat": 4,
 "nbformat_minor": 2
}
