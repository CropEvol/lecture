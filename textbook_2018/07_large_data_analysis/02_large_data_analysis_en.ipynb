{
 "cells": [
  {
   "cell_type": "code",
   "execution_count": null,
   "metadata": {},
   "outputs": [],
   "source": [
    "\"\"\"\n",
    "*** IMPORTANT ***\n",
    "Run this cell before this practice.\n",
    "You can download a sample file.\n",
    "\"\"\"\n",
    "!wget https://raw.githubusercontent.com/CropEvol/lecture/master/data/mutmap_bulk.txt -O mutmap_bulk.txt"
   ]
  },
  {
   "cell_type": "markdown",
   "metadata": {},
   "source": [
    "# Introduction to Large Data Analysis (2)\n",
    "Data analysis using pandas & Drawing figures\n",
    "\n",
    "## Contents\n",
    "\n",
    "### Introduction\n",
    "- [About previous and this practice](#0.1)\n",
    "- [About Sample data](#0.2)\n",
    "\n",
    "### Practice\n",
    "1. [Loading a data-file as pandas dataframe](#1.1)\n",
    "1. [Accessing to an arbitrary data](#1.2)\n",
    "1. [Calculating SNP-index](#1.3)\n",
    "1. [Selecting data by condition](#1.4)\n",
    "1. [Writing into a file](#1.5)\n",
    "1. [Drawing graph](#1.6)\n",
    "1. [Sliding window analysis](#1.7)"
   ]
  },
  {
   "cell_type": "markdown",
   "metadata": {},
   "source": [
    "## Introduction\n",
    "\n",
    "### About previous and this practice<a name=\"0.1\"></a>\n",
    "\n",
    "In the previous practice, we learn the basis of text-data analysis.  \n",
    "=> [the previous page](../06_large_data_analysis/01_large_data_analysis_en.ipynb) \n",
    "\n",
    "Using `for` context and reading one line, spliting the line, we process all data in text.   \n",
    "The process is an applicable not only to text data but to all kinds of data. But it has disadvantages: lower processing speed and longer code.\n",
    "\n",
    "If the data is writen table form, we can use [pandas](https://pandas.pydata.org/) library. It becomes faster and easier data-processing.\n",
    "\n",
    "In this practice,\n",
    "1. we process the text-data by using pandas library.\n",
    "1. we draw the graph by using [Matplotlib](https://matplotlib.org/) library."
   ]
  },
  {
   "cell_type": "markdown",
   "metadata": {},
   "source": [
    "### About sample data<a name=\"0.2\"></a>\n",
    "\n",
    "We use the data file of MutMap (Abe et al., 2012), same to the previous one.  \n",
    "=> [the previous page / About sample data](../06_large_data_analysis/01_large_data_analysis_ja.ipynb#0.3)\n",
    "\n",
    "The file is a table-form text file with separeted by tab code `\\t`.\n",
    "\n",
    "<div style=\"margin-bottom: 5px;\"><img src=\"https://github.com/CropEvol/lecture/blob/master/images/07/tab-sep_text_en.jpg?raw=true\" alt=\"matplotlib_graph\"></div>\n",
    "\n",
    "Check the file => [mutmap_bulk.txt](mutmap_bulk.txt)"
   ]
  },
  {
   "cell_type": "markdown",
   "metadata": {},
   "source": [
    "## Practice\n",
    "\n",
    "#### Contents of this practice\n",
    "1. [Loading a data-file as pandas dataframe](#1.1)\n",
    "1. [Accessing to an arbitrary data](#1.2)\n",
    "1. [Calculating SNP-index](#1.3)\n",
    "1. [Selecting data by condition](#1.4)\n",
    "1. [Writing into a file](#1.5)\n",
    "1. [Drawing graph](#1.6)\n",
    "1. [Sliding window analysis](#1.7)\n",
    "\n",
    "\n",
    "Most of the programs have already been written, but those are not completely.  \n",
    "We have to add some code lines.  \n",
    "\n",
    "The position adding code is written like the below.\n",
    "\n",
    "```python\n",
    "# !!! Add code !!!\n",
    "```"
   ]
  },
  {
   "cell_type": "markdown",
   "metadata": {},
   "source": [
    "### 1. Loading a data-file as pandas dataframe<a name=\"1.1\"></a>\n",
    "\n",
    "To load the data from a file, we use the function `read_csv` of pandas library.\n",
    "\n",
    "=== Basic syntax ===\n",
    "```python\n",
    "import pandas\n",
    "df = pandas.read_csv(\"<File name>\", sep=\"<Separater>\", header=<Row No.>)\n",
    "```\n",
    "OR\n",
    "```python\n",
    "import pandas as pd\n",
    "df = pd.read_csv(\"<File name>\", sep=\"<Separater>\", header=<Row No.>)\n",
    "```\n",
    "\n",
    "=== Descriptions ===\n",
    "\n",
    "#### About `import pandas`\n",
    "- Loading pandas to use in the program\n",
    "- If written `import pandas`,  we can use the pandas function as follows： `pandas.FUNCTION()`.\n",
    "- If written `import pandas as pd`,  we can use the pandas function as follows： `pd.FUNCTION()`. （often use `pd` as abbreviation)\n",
    "\n",
    "\n",
    "#### About `df = pandas.read_csv(\"<File name>\", sep=\"<Separater>\", header=<Row No.>)`\n",
    "\n",
    "- First arguments => File name\n",
    "- `sep=`: Specify the separater (delimiter) used in the input file. \n",
    "    * Comma-separated: `,`\n",
    "    * Tab-separated: `\\t` (backslash + t)\n",
    "- `header=`: Specify the header (row of column names) of the input file. \n",
    "    * If specified `0`, header is first row.\n",
    "    * If specified `-1`, header is none.\n",
    "- The loaded data-table is called \"Data frame\"."
   ]
  },
  {
   "cell_type": "code",
   "execution_count": null,
   "metadata": {},
   "outputs": [],
   "source": [
    "#--- Import library ---\n",
    "import pandas as pd\n",
    "\n",
    "#--- Loading data from file ---\n",
    "dataset = 'mutmap_bulk.txt'        # input-file name\n",
    "df = pd.read_csv(dataset, sep='\\t', header=-1, names=['chr', 'pos', 'ref_nucl', 'alt_nucl', 'ref_N', 'alt_N']) \n",
    "\n",
    "df  # show"
   ]
  },
  {
   "cell_type": "markdown",
   "metadata": {},
   "source": [
    "### Supplementary explanation 1\n",
    "#### About Data frame\n",
    "- Data frame is a table like as Excel. There are same formated data in one column.\n",
    "- First row is a line of column-names.\n",
    "- First column is a column of indexes (names of each rows)."
   ]
  },
  {
   "cell_type": "markdown",
   "metadata": {},
   "source": [
    "### Supplementary explanation 2\n",
    "#### Why is the results displayed without using `print()`\n",
    "It is due to the function of Jupyter Notebook.\n",
    "\n",
    "Jupyter Notebook can show the value of last written variable without using `print()`."
   ]
  },
  {
   "cell_type": "code",
   "execution_count": null,
   "metadata": {},
   "outputs": [],
   "source": [
    "a = 1\n",
    "b = 2\n",
    "c = 3\n",
    "\n",
    "a  # Not Displayed\n",
    "b  # Not Displayed\n",
    "c  # Displayed"
   ]
  },
  {
   "cell_type": "markdown",
   "metadata": {},
   "source": [
    "### 2. Accessing to an arbitrary data<a name=\"1.2\"></a>\n",
    "\n",
    "The codes have already written in the following cell (commented out).\n",
    "\n",
    "Remove each `#`(hash), and comfirm the results. "
   ]
  },
  {
   "cell_type": "code",
   "execution_count": null,
   "metadata": {},
   "outputs": [],
   "source": [
    "###### show dataset ######\n",
    "df\n",
    "\n",
    "\n",
    "###### Extract one column  ######\n",
    "#df['ref_nucl']\n",
    "#df.loc[:, 'ref_nucl']\n",
    "#df.iloc[:, 2]\n",
    "\n",
    "\n",
    "###### Extract multi column ######\n",
    "#df.loc[:, ['ref_nucl','alt_nucl']]\n",
    "#df.iloc[:, 2:4]\n",
    "\n",
    "\n",
    "###### Extract one row ######\n",
    "#df.loc[10,:]\n",
    "#df.iloc[10,:]\n",
    "\n",
    "\n",
    "###### Extract multi rows ######\n",
    "#df.loc[10:15, :]\n",
    "#df.iloc[10:15, :]\n",
    "\n",
    "\n",
    "###### Extract one data-cell ######\n",
    "#df.loc[10, 'ref_nucl']\n",
    "#df.iloc[10, 2]\n",
    "\n",
    "\n",
    "###### Extract multi data-cells ######\n",
    "#df.loc[10:15, ['ref_nucl', 'alt_nucl']]\n",
    "#df.iloc[10:15, 2:4]\n"
   ]
  },
  {
   "cell_type": "markdown",
   "metadata": {},
   "source": [
    "### 3. Calculating SNP-index<a name=\"1.3\"></a>\n",
    "\n",
    "In the previous practice, we used `for` and `split()` to calculate SNP-indexes.  \n",
    "In this practice, we will calculate SNP-indexes without using `for` and `split()`.\n",
    "\n",
    "#### The formula of SNP-index\n",
    "SNP-index = alt_N / (ref_N + alt_N)"
   ]
  },
  {
   "cell_type": "code",
   "execution_count": null,
   "metadata": {},
   "outputs": [],
   "source": [
    "###### SNP-indexの計算 ######\n",
    "\n",
    "# !!! Add code !!!\n",
    "#df['snp_index'] = \n",
    "\n",
    "#--- Show ---\n",
    "df"
   ]
  },
  {
   "cell_type": "markdown",
   "metadata": {},
   "source": [
    "the completed program is [here](./02_large_data_analysis_en_complete_version.ipynb#1.3)"
   ]
  },
  {
   "cell_type": "markdown",
   "metadata": {},
   "source": [
    "### 4. Selecting data by condition<a name=\"1.4\"></a>\n",
    "\n",
    "=== Basic syntax ===\n",
    "\n",
    "```python\n",
    "df[ (Condition) ]\n",
    "```"
   ]
  },
  {
   "cell_type": "code",
   "execution_count": null,
   "metadata": {},
   "outputs": [],
   "source": [
    "###### Selecting data by condition ######\n",
    "\n",
    "#--- Single condition ---\n",
    "# df['ref_nucl']=='A'  \n",
    "\n",
    "# df[ df['ref_nucl']=='A' ] \n",
    "\n",
    "#--- Multi conditions ---\n",
    "# df[ (df['ref_nucl']=='A' ) & (df['alt_nucl']=='G' ) ]    # AND\n",
    "\n",
    "# df[ (df['ref_nucl']=='A' ) | (df['alt_nucl']=='G' ) ]    # OR\n",
    "\n",
    "\n",
    "#--- Only data with SNP-index >= 0.9 ---\n",
    "# !!! Add code !!!\n",
    "\n"
   ]
  },
  {
   "cell_type": "markdown",
   "metadata": {},
   "source": [
    "the completed program is [here](./02_large_data_analysis_en_complete_version.ipynb#1.4)"
   ]
  },
  {
   "cell_type": "markdown",
   "metadata": {},
   "source": [
    "### Supplementary explanation 3\n",
    "#### Diffirence between  `df['ref_nucl']=='A' ` and `df[ df['ref_nucl']=='A' ] `\n",
    "\n",
    "`df['ref_nucl']=='A' `: The return is the list of `True`/`False` (`True` indicates match. `False` indicates unmatch)\n",
    "\n",
    "`df[ (True/False list) ]`: The return is the data frame remained only data matched the condition (only `True` data).\n",
    "\n",
    "<div style=\"margin-bottom: 5px;\"><img src=\"https://github.com/CropEvol/lecture/blob/master/images/07/pandas_filtering_en.jpg?raw=true\" alt=\"pandas_filtering\"></div>"
   ]
  },
  {
   "cell_type": "markdown",
   "metadata": {},
   "source": [
    "### 5. Writing into a file<a name=\"1.5\"></a>\n",
    "\n",
    "To write the data frame into a file, we use the `to_csv` function in pandas library.\n",
    "\n",
    "=== Basic syntax ===\n",
    "\n",
    "```python\n",
    "df.to_csv(\"<File name>\", sep=\"<Separater>\", header=<True/False>, index=<True/False>)\n",
    "```\n",
    "\n",
    "=== Descriptions ===\n",
    "- First arguments => File name\n",
    "- `sep=`: Specify the separater (delimiter) used in the input file. \n",
    "    * Comma-separated: `,`\n",
    "    * Tab-separated: `\\t` (backslash + t)\n",
    "- Specified `header=True`, header line (names of each columns) is written into the output file.\n",
    "- Specified `index=True`, Indexes (names of each rows) is written into the output file."
   ]
  },
  {
   "cell_type": "code",
   "execution_count": null,
   "metadata": {},
   "outputs": [],
   "source": [
    "###### write new table into the output-file ######\n",
    "#outdata = 'mutmap_snpindex.txt'        # output-file name\n",
    "#df.to_csv(outdata, sep='\\t', header=True, index=False)"
   ]
  },
  {
   "cell_type": "markdown",
   "metadata": {},
   "source": [
    "Check the output file => [File list](./)"
   ]
  },
  {
   "cell_type": "markdown",
   "metadata": {},
   "source": [
    "### 6. Drawing graph<a name=\"1.6\"></a>\n",
    "\n",
    "In this, we use [Matplotlib](https://matplotlib.org/) library. The library often used to draw graph.\n",
    "\n",
    "Graph of matplotlib library is composed some layers.  \n",
    "For example, layer for graph field, layer for a line plot, and layer for labels.\n",
    "\n",
    "<div style=\"margin-bottom: 5px;\"><img src=\"https://github.com/CropEvol/lecture/blob/master/images/07/07_drawing_graph.png?raw=true\" alt=\"matplotlib_graph\"></div>\n",
    "\n",
    "In this practice, we will draw the scatter plot: x-axis is chromosome position and y-axis is SNP-index.\n",
    "\n",
    "And, we will show the plot of \"SNP-index >= 0.9\" as red dot."
   ]
  },
  {
   "cell_type": "code",
   "execution_count": null,
   "metadata": {},
   "outputs": [],
   "source": [
    "\"\"\"\n",
    "The below line is needed to display the graph in Jupyter Notebook.\n",
    "This is not a python program. This is a \"Magic command\" of Jupyter Notebook.\n",
    "\"\"\"\n",
    "%matplotlib inline\n",
    "\n",
    "\n",
    "\"\"\"\n",
    "Python program is from here\n",
    "\"\"\"\n",
    "\n",
    "#--- Import library ---\n",
    "import matplotlib.pyplot as plt\n",
    "\n",
    "#--- x-values, y-values ---\n",
    "df['snp_index'] = df['alt_N'] / (df['ref_N'] + df['alt_N'])\n",
    "x = df['pos']\n",
    "y = df['snp_index']\n",
    "\n",
    "#--- Drawing all data ---\n",
    "fig = plt.figure(figsize=[16,9])    # graph field\n",
    "plt.scatter(x, y, color='gray')      # scatter plot\n",
    "plt.title('SNP-index on chromosome 10', fontsize=24)  # title of this graph\n",
    "plt.xlabel('Position (x 10 Mb)', fontsize=16)  # label of x-axis\n",
    "plt.ylabel('SNP-index', fontsize=16)                # label of y-axis\n",
    "\n",
    "\n",
    "# Drawing the data of \"SNP-index >= 0.9\"\n",
    "# !!! Add code !!!\n"
   ]
  },
  {
   "cell_type": "markdown",
   "metadata": {},
   "source": [
    "the completed program is [here](./02_large_data_analysis_en_complete_version.ipynb#1.6)"
   ]
  },
  {
   "cell_type": "markdown",
   "metadata": {},
   "source": [
    "### 7. Sliding window analysis<a name=\"1.7\"></a>\n",
    "In MutMap, to detect the genomic region of casual gene for mutant phenotype, the sliding window analysis is done.\n",
    "\n",
    "<div style=\"margin-bottom: 5px;\"><img src=\"https://github.com/CropEvol/lecture/blob/master/images/07/sliding_window_en.jpg?raw=true\" alt=\"matplotlib_graph\"></div>\n",
    "\n",
    "\n",
    "In this practice, we will see the transition of SNP-index accross chromosome 10 in rice.  \n",
    "\n",
    "#### How to make the program for sliding window analysis\n",
    "1. Decide window size and step size\n",
    "1. Prepare two lists for genomic positions (median is used here) and averages of SNP-indexes in each regions.\n",
    "1. Search SNP-index in all regions by using `while`.\n",
    "    1. Extract data in one region.\n",
    "    1. Calculate an average of SNP-indexes and  a median of window in the region.\n",
    "    1. Add these data to lists.\n",
    "    1. If finished to search all regions, get out from `while`.\n",
    "1. Draw the graph: x-axis is genomic position of window and y-axis is the averages of SNP-indexes"
   ]
  },
  {
   "cell_type": "code",
   "execution_count": null,
   "metadata": {},
   "outputs": [],
   "source": [
    "###### Sliding Window解析 ######\n",
    "#---  Import library ---\n",
    "import numpy as np\n",
    "\n",
    "#--- Chromosome size, Window size, step size ---\n",
    "CHROM_SIZE = 23207287       # Length of Chromosome 10　 (bp)\n",
    "WIN_SIZE       = 1 * 1000 * 1000     #  Window size: 1 Mb = 1000 kb = 1,000,000 bp\n",
    "STEP_SIZE     = 0.2 * 1000* 1000     #  Step size: 0.2 Mb = 200 kb = 200,000 bp\n",
    "\n",
    "#--- Prepare lists for the positions and averages of SNP-index in each region ---\n",
    "win_position  = []  # list for positions\n",
    "win_snpindex = []  # list for averages of SNP-index\n",
    "\n",
    "#--- Search all regions---\n",
    "\"\"\"\n",
    "/// start and end position of each regions ///\n",
    "start, end\n",
    "0, 0+1000 (kb)\n",
    "200, 200+1000\n",
    "400, 400+1000\n",
    "  .\n",
    "  .\n",
    "  .\n",
    "\n",
    "/// express by using  WIN_SIZE and STEP_SIZE///\n",
    "Repeats:　n = 0, 1, 2, ...\n",
    "\n",
    "start = STEP_SIZE * n  \n",
    "end = start + WIN_SIZE\n",
    "\n",
    "\n",
    "If \"end > CHROM_SIZE\", stop and get out looping.\n",
    "\"\"\"\n",
    "\n",
    "n = 0 # Repeats\n",
    "while True:\n",
    "    \n",
    "    #--- Start & end position ---\n",
    "    start = STEP_SIZE * n \n",
    "    end   = start + WIN_SIZE\n",
    "    \n",
    "    #--- Median of window ---\n",
    "    p = (start + end) / 2\n",
    "    win_position.append(p)\n",
    "    \n",
    "    #--- Extract data in region ---\n",
    "    sub = df[(df['pos'] >= start) & (df['pos'] < end)]\n",
    "    \n",
    "    #--- Average of SNP-indexes ---\n",
    "    i = sub['snp_index'].mean()\n",
    "    win_snpindex.append(i)\n",
    "        \n",
    "    #--- Repeats Num +1 ---\n",
    "    n += 1\n",
    "    \n",
    "    #--- stop and get out this looping---\n",
    "    if end > CHROM_SIZE:\n",
    "        break\n",
    "\n",
    "#--- Scatter plot of all data  ---\n",
    "fig = plt.figure(figsize=[16,9])\n",
    "plt.scatter(x, y, color='gray')      # all data\n",
    "plt.title('SNP-index on chromosome 10', fontsize=24)  # title\n",
    "plt.xlabel('Position (x 10 Mb)', fontsize=16)  # label of x-axis\n",
    "plt.ylabel('SNP-index', fontsize=16)                # label of y-axis\n",
    "\n",
    "#--- Scatter plot of SNP-index>=0.9 ---\n",
    "df_ext = df[ df['snp_index'] >= 0.9 ]\n",
    "x1 = df_ext['pos']\n",
    "y1 = df_ext['snp_index']\n",
    "plt.scatter(x1, y1, color='red')\n",
    "\n",
    "#--- Line plot of siding window ---\n",
    "plt.plot(win_position, win_snpindex, color='blue')      "
   ]
  },
  {
   "cell_type": "code",
   "execution_count": null,
   "metadata": {},
   "outputs": [],
   "source": [
    "### Extract the window has the averages of SNP-index is more than 0.9. ###\n",
    "\n",
    "# Dataframe of Sliding window\n",
    "W = pd.DataFrame({ 'pos': win_position, 'snp_index': win_snpindex})\n",
    "\n",
    "# start position  & end position of window\n",
    "W['start'] = W['pos'] - WIN_SIZE / 2 \n",
    "W['end'] = W['pos'] + WIN_SIZE / 2\n",
    "\n",
    "# the window of \"SNP-index >= 0.9\"\n",
    "W[W['snp_index'] >= 0.9]"
   ]
  }
 ],
 "metadata": {
  "kernelspec": {
   "display_name": "Python 3",
   "language": "python",
   "name": "python3"
  },
  "language_info": {
   "codemirror_mode": {
    "name": "ipython",
    "version": 3
   },
   "file_extension": ".py",
   "mimetype": "text/x-python",
   "name": "python",
   "nbconvert_exporter": "python",
   "pygments_lexer": "ipython3",
   "version": "3.6.3"
  }
 },
 "nbformat": 4,
 "nbformat_minor": 2
}
