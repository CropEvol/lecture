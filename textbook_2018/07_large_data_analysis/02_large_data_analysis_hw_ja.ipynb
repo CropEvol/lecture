{
 "cells": [
  {
   "cell_type": "raw",
   "metadata": {},
   "source": [
    "学籍番号:\n",
    "氏名:"
   ]
  },
  {
   "cell_type": "markdown",
   "metadata": {},
   "source": [
    "# 大規模データ解析入門 (2)　課題"
   ]
  },
  {
   "cell_type": "markdown",
   "metadata": {},
   "source": [
    "---\n",
    "## データ\n",
    "\n",
    "[第07回の実習](02_large_data_analysis_ja.ipynb)で使ったサンプルデータと同じです。\n",
    "\n",
    "\n",
    "### サンプルデータのソース\n",
    "\n",
    "Abe, A., Kosugi, S., Yoshida, K., Natsume, S., Takagi, H., Kanzaki, H., Matsumura, H., Yoshida, K., Mitsuoka, C., Tamiru, M., Innan, H., Cano, L., Kamoun, S., Terauchi, R. (2012). [Genome sequencing reveals agronomically important loci in rice using MutMap.](https://www.nature.com/articles/nbt.2095) _Nature biotechnology_, 30(2), 174."
   ]
  },
  {
   "cell_type": "code",
   "execution_count": null,
   "metadata": {},
   "outputs": [],
   "source": [
    "\"\"\"\n",
    "＊重要＊\n",
    "最初にこのセルを実行してください。\n",
    "この課題で使うサンプルファイルをダウンロードして、pandasデータフレームを作成します。\n",
    "\"\"\"\n",
    "#--- データのダウンロード  ---\n",
    "!wget -q https://raw.githubusercontent.com/CropEvol/lecture/master/data/mutmap_bulk.txt -O mutmap_bulk.txt\n",
    "\n",
    "#--- pandasを読み込む  ---\n",
    "import pandas as pd\n",
    "\n",
    "#--- 読み込みファイル名 ---\n",
    "dataset = 'mutmap_bulk.txt'       \n",
    "\n",
    "#--- ファイルを読み込む ---\n",
    "# header=-1（列名行なし）を指定した場合、列名として通し番号が付けられます。\n",
    "# names=[リスト]とすることで、通し番号の代わりに列名を指定することが可能です。\n",
    "df = pd.read_csv(dataset, sep=\"\\t\", header=-1, names=['chr', 'pos', 'ref_nucl', 'alt_nucl', 'ref_N', 'alt_N'])\n",
    "\n",
    "#--- 表示 ---\n",
    "df"
   ]
  },
  {
   "cell_type": "markdown",
   "metadata": {},
   "source": [
    "---\n",
    "## Exercise 1.\n",
    "__SNP-indexを求めて、新たな列として追加する。__\n",
    "\n",
    "ヒント1: SNP-index = alt_N / (ref_N + alt_N)\n",
    "\n",
    "ヒント2: 列データの取り出し方 => 実習内容 [2. 任意のデータにアクセスする](02_large_data_analysis_ja.ipynb#1.2)\n",
    "\n",
    "ヒント3: 実習内容 [3. SNP-indexを計算する](02_large_data_analysis_ja.ipynb#1.3)"
   ]
  },
  {
   "cell_type": "code",
   "execution_count": null,
   "metadata": {},
   "outputs": [],
   "source": []
  },
  {
   "cell_type": "markdown",
   "metadata": {},
   "source": [
    "---\n",
    "## Exercise 2. \n",
    "__`pos`列 が 10~15 Mbのデータのみを抽出する（`pos`列の単位は bp）。__\n",
    "\n",
    "ヒント1: 1Mb = 1000 kb = 1000000 bp \n",
    "\n",
    "ヒント2: 実習内容 [4. 条件に合うデータを抽出する](02_large_data_analysis_ja.ipynb#1.4)\n",
    "\n"
   ]
  },
  {
   "cell_type": "code",
   "execution_count": null,
   "metadata": {},
   "outputs": [],
   "source": []
  },
  {
   "cell_type": "markdown",
   "metadata": {},
   "source": [
    "---\n",
    "## Exercise 3. \n",
    "__SNP-index全データの散布図を描き（灰色の点で表示）し、さらに、`pos`列 が 10~15 Mbのデータのみを赤色で表示する。__\n",
    "\n",
    "ヒント1: 実習内容 [6. SNP-indexのグラフを描く](02_large_data_analysis_ja.ipynb#1.6)"
   ]
  },
  {
   "cell_type": "code",
   "execution_count": null,
   "metadata": {},
   "outputs": [],
   "source": []
  },
  {
   "cell_type": "markdown",
   "metadata": {},
   "source": [
    "---\n",
    "\n",
    "## 質問・要望\n",
    "質問や要望があれば、メール本文か下のセルに書いてください。"
   ]
  },
  {
   "cell_type": "raw",
   "metadata": {},
   "source": []
  },
  {
   "cell_type": "markdown",
   "metadata": {},
   "source": [
    "\n",
    "## 課題の提出について\n",
    "\n",
    "今回の課題番号：`07`\n",
    "\n",
    "提出方法：\n",
    "1. 課題終了後のノートブックファイルをダウンロードする\n",
    "1. そのファイルをメールに添付して、下記アドレスに送信する  \n",
    "\n",
    "    __＊重要＊　  \n",
    "    メールの件名を `HW[課題番号2桁]+SID[学籍番号(4桁-2桁-４桁)]`（すべて半角英数） にしてください。__  \n",
    "    \n",
    "    例） HW07+SID1234-56-7890\n",
    "    \n",
    "\n",
    "提出先: cropevol@gmail.com\n",
    "\n",
    "提出期限: 2018年11月19日（月） 17:00まで\n",
    "\n"
   ]
  },
  {
   "cell_type": "markdown",
   "metadata": {},
   "source": [
    "---\n",
    "\n",
    "## [Challenge] Exercise 4.  <small>提出不要課題</small>\n",
    " \n",
    "__塩基座位数についてのSliding Window解析のプログラムを作る。__\n",
    "\n",
    "実習内容を参考に、ぜひ自分でプログラムを書いてみてください。  \n",
    "プログラミングの練習になると思います。  \n",
    "\n",
    "ヒント1: 塩基座位数は「平均値」ではなく「個数（データ数、行数）」です。\n",
    "\n",
    "ヒント2: 実習内容 [7. Sliding Window解析](02_large_data_analysis_ja.ipynb#1.7)"
   ]
  },
  {
   "cell_type": "code",
   "execution_count": null,
   "metadata": {},
   "outputs": [],
   "source": []
  }
 ],
 "metadata": {
  "kernelspec": {
   "display_name": "Python 3",
   "language": "python",
   "name": "python3"
  },
  "language_info": {
   "codemirror_mode": {
    "name": "ipython",
    "version": 3
   },
   "file_extension": ".py",
   "mimetype": "text/x-python",
   "name": "python",
   "nbconvert_exporter": "python",
   "pygments_lexer": "ipython3",
   "version": "3.6.3"
  }
 },
 "nbformat": 4,
 "nbformat_minor": 2
}
