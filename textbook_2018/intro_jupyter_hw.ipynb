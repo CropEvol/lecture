{
 "cells": [
  {
   "cell_type": "markdown",
   "metadata": {},
   "source": [
    "# Jupyter Notebook 入門 [課題]\n",
    "\n",
    "講義テキストは[こちら](intro_jupyter.ipynb)（クリックすると、新しいタブが開きます）"
   ]
  },
  {
   "cell_type": "raw",
   "metadata": {},
   "source": [
    "氏名: \n",
    "学籍番号: "
   ]
  },
  {
   "cell_type": "markdown",
   "metadata": {},
   "source": [
    "## 問題1\n",
    "下のセルに `7の32乗` の計算結果を出力するプログラムを書いて、実行してください。\n",
    "\n",
    "ヒント: Googleなどで次のキーワード `python べき乗` を調べる。"
   ]
  },
  {
   "cell_type": "code",
   "execution_count": null,
   "metadata": {},
   "outputs": [],
   "source": []
  },
  {
   "cell_type": "markdown",
   "metadata": {},
   "source": [
    "## 問題2\n",
    "下のセルに  <img src=\"https://latex.codecogs.com/gif.latex?\\frac{8\\times(13 - 11)}{9 + 7}-5\" /> の計算結果を出力するプログラムを書いて、実行してください。"
   ]
  },
  {
   "cell_type": "code",
   "execution_count": null,
   "metadata": {},
   "outputs": [],
   "source": []
  },
  {
   "cell_type": "markdown",
   "metadata": {},
   "source": [
    "## 問題3\n",
    "すぐ下に新しいセルを作成し、そこに`I am a programmer` を出力するプログラムを書いて、実行してください。\n",
    "\n",
    "ヒント: [テキスト](intro_jupyter.ipynb)参照"
   ]
  },
  {
   "cell_type": "markdown",
   "metadata": {},
   "source": [
    "## 問題4\n",
    "このノートブックファイルをダウンロードしてください。\n",
    "\n",
    "ヒント: [テキスト](intro_jupyter.ipynb)参照"
   ]
  },
  {
   "cell_type": "markdown",
   "metadata": {},
   "source": [
    "## 質問・要望\n",
    "質問や要望があれば、メール本文か下のセルに書いてください。"
   ]
  },
  {
   "cell_type": "raw",
   "metadata": {},
   "source": []
  },
  {
   "cell_type": "markdown",
   "metadata": {},
   "source": [
    "## 課題の提出について\n",
    "\n",
    "今回の課題番号：`02`\n",
    "\n",
    "提出方法：\n",
    "1. 課題終了後のノートブックファイルをダウンロードする\n",
    "1. そのファイルをメールに添付して、下記アドレスに送信する  \n",
    "\n",
    "    __＊重要＊　  \n",
    "    メールの件名を `HW[課題番号2桁]+SID[学籍番号(4桁-2桁-４桁)]`（すべて半角英数） にしてください。__  \n",
    "    \n",
    "    例） HW02+SID1234-56-7890\n",
    "    \n",
    "\n",
    "提出先: cropevol@gmail.com\n",
    "\n",
    "提出期限: 2018年10月15日（月） 17:00まで"
   ]
  }
 ],
 "metadata": {
  "kernelspec": {
   "display_name": "Python 3",
   "language": "python",
   "name": "python3"
  },
  "language_info": {
   "codemirror_mode": {
    "name": "ipython",
    "version": 3
   },
   "file_extension": ".py",
   "mimetype": "text/x-python",
   "name": "python",
   "nbconvert_exporter": "python",
   "pygments_lexer": "ipython3",
   "version": "3.6.3"
  }
 },
 "nbformat": 4,
 "nbformat_minor": 1
}
