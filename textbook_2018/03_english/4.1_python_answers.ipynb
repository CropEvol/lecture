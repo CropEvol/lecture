{
 "cells": [
  {
   "cell_type": "markdown",
   "metadata": {},
   "source": [
    "- - - - - - - - - - - - -\n",
    "# <div style=\"text-align: center;\"> Python exercise </div>"
   ]
  },
  {
   "cell_type": "markdown",
   "metadata": {},
   "source": [
    "---\n",
    "\n",
    "## Exercise 1: Calculate Watterson's <span style=\"font-style:italic;\">θ</span>\n",
    "Do you know Watterson's <span style=\"font-style:italic;\">θ</span>? This shows the expected nucleotide diversity with the number of segregating sites.  Watterson's <span style=\"font-style:italic;\">θ</span> is calculated like below:\n",
    "\n",
    "$$ \\theta_{W} = \\frac{S}{a} $$\n",
    "\n",
    ", where $a$ is\n",
    "\n",
    "$$ a = \\sum_{i=1}^{n-1}\\frac{1}{i} $$\n",
    "\n",
    "Watterson's <span style=\"font-style:italic;\">θ</span> needs $S$（the nubmer of segregating sites, or the number of mutation sites）and $n$ (the number of sequence, or the nubmer of chromosomes). Note that $W$ is not multiplication but subscript.  \n",
    "\n",
    "**Please make the program to calculate Watterson's <span style=\"font-style:italic;\">θ</span>.**\n",
    "\n",
    "```python\n",
    "# Hints for programming!\n",
    "def watterson_theta(S, n):\n",
    "    a = 0\n",
    "    for i in range(n-1):\n",
    "        a = a + 1/(i+1)\n",
    "        :\n",
    "        :\n",
    "    return theta\n",
    "\n",
    "theta = watterson_theta(4, 5)\n",
    "print(theta) # 1.92\n",
    "```"
   ]
  },
  {
   "cell_type": "code",
   "execution_count": 1,
   "metadata": {},
   "outputs": [
    {
     "name": "stdout",
     "output_type": "stream",
     "text": [
      "1.9200000000000004\n"
     ]
    }
   ],
   "source": [
    "#### Exercise 1\n",
    "\n",
    "def watterson_theta(S, n):\n",
    "    a = 0\n",
    "    for i in range(n-1):\n",
    "        a = a + 1/(i+1)\n",
    "    theta = S/a\n",
    "    return theta\n",
    "\n",
    "theta = watterson_theta(4, 5)\n",
    "print(theta) # 1.92"
   ]
  },
  {
   "cell_type": "markdown",
   "metadata": {},
   "source": [
    "---\n",
    "\n",
    "**What is Watterson's $\\theta$ ?**  \n",
    "\n",
    "Actually, this is not easy (but from the viewpoint of the programming, this is good lesson), so you can skip here.  \n",
    "\n",
    "Watterson's $\\theta$ is the expected nucleotide diversity. Nucleotide diversity ($\\pi$) is estimated from the number of sequences, the variation of alleles and the frequency of alleles. On the other hand, Watterson's $\\theta$ is estimated from the number of sequences and the variation of alleles. So real frequency of alleles is not used in Watterson's $\\theta$. Instead of it,  Watterson's $\\theta$ implicitly use the expected frequency of alleles from the number of sequences and the variation of alleles.   \n",
    "\n",
    "If real diversity is larger than Watterson's $\\theta$ (expected diversity), there are two possibilities. At first, maybe, that locus is affected by a (diversifying or balancing) selection. Secondaly, maybe, your samples include two different population. Then diversity is overestimated than expectation.  \n",
    "\n",
    "On the other hand, if real diversity is smaller than Watterson's $\\theta$ (expected diversity), there are also two possibilities. At first, maybe, that locus is affected by a (negative or positive) directional selection. Secondaly, maybe, your samples rapidly expand into new niche. So they don't accumulate expected amount of mutations (almost like clone). Then diversity is underestimated than expectation."
   ]
  },
  {
   "cell_type": "markdown",
   "metadata": {},
   "source": [
    "---\n",
    "\n",
    "## Exercise 2: Calculate nucleotide diversity\n",
    "Now, do you know how to calculate nucleotide diversity ($\\pi$)?  \n",
    "\n",
    "```Text\n",
    "                           （seq０） A T G C A T G\n",
    "                           （seq１） A T C C A C C\n",
    "                           （seq２） G A G T A T C\n",
    "                           （seq３） G T G C A T C\n",
    "                           （seq４） G T G T A C C\n",
    "\n",
    "Number of sites same to seq０        2 4 4 3 5 3 1\n",
    "Number of sites different from seq０ 3 1 1 2 0 2 4\n",
    "-> multiply upper and bottom-side    6 4 4 6 0 6 4\n",
    "```\n",
    "\n",
    "Please look at above figure. $\\pi$ can be calculated in following process.\n",
    "1. Set reference sequence. Now we set seq0 as reference.\n",
    "2. In each sites, count both the number of sites same to reference (including reference) and the number of sites different from reference.\n",
    "3. In each sites, multiply them (that is, the number of same and difference sites)\n",
    "4. The numerator of $\\pi$ is the sum of these multiplication like below:\n",
    "$$ \\pi=\\frac{6+4+4+6+0+6+4}{n(n-1)/2} $$\n",
    "\n",
    "5. *n*\b is the number of sequences (the nubmer of chromosomes). Now $n$ is 5. So,\n",
    "$$ \\pi=\\frac{6+4+4+6+0+6+4}{5(5-1)/2}=3 $$\n",
    "\n",
    "Now, we know both the number of sites same to reference and the number of sites different from reference, and it is given as the type of list.  \n",
    "\n",
    "**Please make the program to calculate $\\pi$.** Note that this program has two arguments (the type of list) like below. In addition, note that ```(6+4+4+6+0+6+4)/(5*(5-1)/2)``` and ```6+4+4+6+0+6+4/5*(5-1)/2``` show different answers (previous one is correct now).\n",
    "\n",
    "```python\n",
    "# Hints for programming!\n",
    "def diversity(ref, alt):\n",
    "    nume = 0 # numerator\n",
    "    for ref_n, alt_n in zip(ref, alt):\n",
    "        nume = nume + ref_n*alt_n\n",
    "    n = ref[0] + alt[0]\n",
    "        :\n",
    "        :\n",
    "    return pi\n",
    "\n",
    "ref = [2,4,4,3,5,3,1] # the list of numbers same to reference\n",
    "alt = [3,1,1,2,0,2,4] # the list of numbers different from reference\n",
    "\n",
    "pi = diversity(ref, alt)\n",
    "print(pi) # 3.0\n",
    "```"
   ]
  },
  {
   "cell_type": "code",
   "execution_count": 2,
   "metadata": {},
   "outputs": [
    {
     "name": "stdout",
     "output_type": "stream",
     "text": [
      "3.0\n"
     ]
    }
   ],
   "source": [
    "#### Exercise 2\n",
    "\n",
    "def diversity(ref, alt):\n",
    "    nume = 0 # numerator\n",
    "    for ref_n, alt_n in zip(ref, alt):\n",
    "        nume = nume + ref_n*alt_n\n",
    "    n = ref[0] + alt[0]\n",
    "    pi = nume/(n*(n-1)/2)\n",
    "    return pi\n",
    "\n",
    "ref = [2,4,4,3,5,3,1] # list of nucleotide same to reference\n",
    "alt = [3,1,1,2,0,2,4] # list of nucleotide different from reference\n",
    "\n",
    "pi = diversity(ref, alt)\n",
    "print(pi) # 3.0"
   ]
  },
  {
   "cell_type": "code",
   "execution_count": 3,
   "metadata": {},
   "outputs": [
    {
     "name": "stdout",
     "output_type": "stream",
     "text": [
      "3.0\n"
     ]
    }
   ],
   "source": [
    "#### Exercise 2: alternative solution\n",
    "# If you used numpy, its code is like below:\n",
    "\n",
    "import numpy as np\n",
    "\n",
    "def diversity(ref, alt):\n",
    "    np_ref = np.array(ref) # convert to numpy array format\n",
    "    np_alt = np.array(alt)\n",
    "\n",
    "    nume = (np_ref*np_alt).sum() # .sum() -> the tatol amount in array\n",
    "    n  = np_ref[0] + np_alt[0]\n",
    "    pi = nume/(n*(n-1)/2)\n",
    "    return pi\n",
    "\n",
    "ref = [2,4,4,3,5,3,1]\n",
    "alt = [3,1,1,2,0,2,4]\n",
    "\n",
    "pi = diversity(ref, alt)\n",
    "print(pi) # 3.0"
   ]
  },
  {
   "cell_type": "markdown",
   "metadata": {},
   "source": [
    "---\n",
    "\n",
    "## Exercise 3: Calculate $F_{ST}$\n",
    "$F_{ST}$ is the statistics to calculate the distance between two populations. Actually, there so many way to calculate $F_{ST}$. Now we adopt Nei's $F_{ST}$. This is simple, intuitive and less biased estimator for $F_{ST}$. it can be calculated like below:\n",
    "\n",
    "$$ F_{ST} = \\frac{\\pi_{12}-(\\pi_{1}+\\pi_{2})/2}{\\pi_{12}} $$\n",
    "\n",
    "$\\pi$ in above equation is same to $\\pi$ which is calculated in Exercise2. Now, $\\pi_{1}$ is $\\pi$ in population 1, and $\\pi_{2}$ is $\\pi$ in population 2. We will assume that these populations are\n",
    "come from the same (united) population. For example,\n",
    "\n",
    "```python\n",
    "ref1 = [2,4,5] # the number of same sites in population 1\n",
    "alt1 = [3,1,0] # the number of different sites in population 1\n",
    "\n",
    "ref2 = [2,1,0] # the number of same sites in population 2\n",
    "alt2 = [3,4,5] # the number of different sites in population 2\n",
    "```\n",
    "then, united population is like below:\n",
    "```python\n",
    "ref12 = [4,5,5] # sum of ref1 and ref2\n",
    "alt12 = [6,5,5] # sum of alt1 and alt2\n",
    "```\n",
    "That united population is $\\pi_{12}$.  \n",
    "\n",
    "**Please make the program to calculate $F_{ST}$.** Note that it is assumed that the same reference sequence is used in population 1 and population 2.\n",
    "\n",
    "```python\n",
    "# Hints for programming!\n",
    "def diversity(ref, alt):\n",
    "    :\n",
    "    :\n",
    "    return pi\n",
    "\n",
    "def nei_fst(ref1, alt1, ref2, alt2):\n",
    "    ref12 = []\n",
    "    for ref_n1, ref_n2 in zip(ref1, ref2):\n",
    "        ref12.append(ref_n1+ref_n2)\n",
    "        :\n",
    "    pi1 = diversity(ref1, alt1)\n",
    "        :\n",
    "    return fst\n",
    "\n",
    "ref1 = [2,4,4,3,5,3,1] # the number of same sites in population 1\n",
    "alt1 = [3,1,1,2,0,2,4] # the number of different sites in population 1\n",
    "\n",
    "ref2 = [2,1,1,3,0,3,3] # the number of same sites in population 2\n",
    "alt2 = [3,4,4,2,5,2,2] # the number of different sites in population 2\n",
    "\n",
    "fst = nei_fst(ref1, alt1, ref2, alt2)\n",
    "print(fst) # 0.184...\n",
    "```"
   ]
  },
  {
   "cell_type": "code",
   "execution_count": 4,
   "metadata": {},
   "outputs": [
    {
     "name": "stdout",
     "output_type": "stream",
     "text": [
      "0.1842105263157894\n"
     ]
    }
   ],
   "source": [
    "#### Exercise 3\n",
    "\n",
    "def diversity(ref, alt):\n",
    "    nume = 0 # numerator\n",
    "    for ref_n, alt_n in zip(ref, alt):\n",
    "        nume = nume + ref_n*alt_n\n",
    "    n = ref[0] + alt[0]\n",
    "    pi = nume/(n*(n-1)/2)\n",
    "    return pi\n",
    "\n",
    "def nei_fst(ref1, alt1, ref2, alt2):\n",
    "    ref12 = []\n",
    "    for ref_n1, ref_n2 in zip(ref1, ref2):\n",
    "        ref12.append(ref_n1+ref_n2)\n",
    "\n",
    "    alt12 = []\n",
    "    for alt_n1, alt_n2 in zip(alt1, alt2):\n",
    "        alt12.append(alt_n1+alt_n2)\n",
    "\n",
    "    pi1  = diversity(ref1, alt1)\n",
    "    pi2  = diversity(ref2, alt2)\n",
    "    pi12 = diversity(ref12, alt12)\n",
    "\n",
    "    fst = (pi12-(pi1+pi2)/2)/pi12\n",
    "    return fst\n",
    "\n",
    "ref1 = [2,4,4,3,5,3,1] # ref in population 1\n",
    "alt1 = [3,1,1,2,0,2,4] # alt in population 1\n",
    "\n",
    "ref2 = [2,1,1,3,0,3,3] # ref in population 2\n",
    "alt2 = [3,4,4,2,5,2,2] # alt in population 2\n",
    "\n",
    "fst = nei_fst(ref1, alt1, ref2, alt2)\n",
    "print(fst) # 0.184..."
   ]
  },
  {
   "cell_type": "code",
   "execution_count": 5,
   "metadata": {},
   "outputs": [
    {
     "name": "stdout",
     "output_type": "stream",
     "text": [
      "0.1842105263157894\n"
     ]
    }
   ],
   "source": [
    "#### Exercise 3: alternative solution\n",
    "# If you used numpy, its code is like below:\n",
    "\n",
    "import numpy as np\n",
    "\n",
    "def diversity(ref, alt):\n",
    "    nume = (ref*alt).sum() # .sum() -> the tatol amount in\n",
    "    n  = ref[0] + alt[0]\n",
    "    pi = nume/(n*(n-1)/2)\n",
    "    return pi\n",
    "\n",
    "def nei_fst(ref1, alt1, ref2, alt2):\n",
    "    np_ref1  = np.array(ref1) # convert to numpy array format\n",
    "    np_alt1  = np.array(alt1)\n",
    "    np_ref2  = np.array(ref2)\n",
    "    np_alt2  = np.array(alt2)\n",
    "    np_ref12 = np_ref1 + np_ref2\n",
    "    np_alt12 = np_alt1 + np_alt2\n",
    "\n",
    "    pi1  = diversity(np_ref1, np_alt1)\n",
    "    pi2  = diversity(np_ref2, np_alt2)\n",
    "    pi12 = diversity(np_ref12, np_alt12)\n",
    "\n",
    "    fst = (pi12-(pi1+pi2)/2)/pi12\n",
    "    return fst\n",
    "\n",
    "ref1 = [2,4,4,3,5,3,1] # ref in population 1\n",
    "alt1 = [3,1,1,2,0,2,4] # alt in population 1\n",
    "\n",
    "ref2 = [2,1,1,3,0,3,3] # ref in population 2\n",
    "alt2 = [3,4,4,2,5,2,2] # alt in population 2\n",
    "\n",
    "fst = nei_fst(ref1, alt1, ref2, alt2)\n",
    "print(fst) # 0.184..."
   ]
  },
  {
   "cell_type": "code",
   "execution_count": null,
   "metadata": {},
   "outputs": [],
   "source": []
  }
 ],
 "metadata": {
  "kernelspec": {
   "display_name": "Python 3",
   "language": "python",
   "name": "python3"
  },
  "language_info": {
   "codemirror_mode": {
    "name": "ipython",
    "version": 3
   },
   "file_extension": ".py",
   "mimetype": "text/x-python",
   "name": "python",
   "nbconvert_exporter": "python",
   "pygments_lexer": "ipython3",
   "version": "3.6.3"
  }
 },
 "nbformat": 4,
 "nbformat_minor": 2
}
