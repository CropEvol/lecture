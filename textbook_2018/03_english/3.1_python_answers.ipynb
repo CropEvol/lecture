{
 "cells": [
  {
   "cell_type": "markdown",
   "metadata": {},
   "source": [
    "### <div style=\"text-align: center;\"> Python answers </div>"
   ]
  },
  {
   "cell_type": "code",
   "execution_count": 3,
   "metadata": {},
   "outputs": [
    {
     "name": "stdout",
     "output_type": "stream",
     "text": [
      "1.9200000000000004\n"
     ]
    }
   ],
   "source": [
    "#### Exercise 1\n",
    "\n",
    "def watterson_theta(S, n):\n",
    "    a = 0\n",
    "    for i in range(n-1):\n",
    "        a = a + 1/(i+1)\n",
    "    theta = S/a\n",
    "    return theta\n",
    "\n",
    "theta = watterson_theta(4, 5)\n",
    "print(theta) # 1.92"
   ]
  },
  {
   "cell_type": "markdown",
   "metadata": {},
   "source": [
    "---\n",
    "\n",
    "**What is Watterson's $\\theta$ ?**  \n",
    "\n",
    "Actually, this is not easy (but from the viewpoint of the programming, this is good lesson), so you can skip here.  \n",
    "\n",
    "Watterson's $\\theta$ is the expected nucleotide diversity. Nucleotide diversity ($\\pi$) is estimated from the number of sequences, the variation of alleles and the frequency of alleles. On the other hand, Watterson's $\\theta$ is estimated from the number of sequences and the variation of alleles. So real frequency of alleles is not used in Watterson's $\\theta$. Instead of it,  Watterson's $\\theta$ implicitly use the expected frequency of alleles from the number of sequences and the variation of alleles.   \n",
    "\n",
    "If real diversity is larger than Watterson's $\\theta$ (expected diversity), there are two possibilities. At first, maybe, that locus is affected by a (diversifying or balancing) selection. Secondaly, maybe, your samples include two different population. Then diversity is overestimated than expectation.  \n",
    "\n",
    "On the other hand, if real diversity is smaller than Watterson's $\\theta$ (expected diversity), there are also two possibilities. At first, maybe, that locus is affected by a (negative or positive) directional selection. Secondaly, maybe, your samples rapidly expand into new niche. So they don't accumulate expected amount of mutations (almost like clone). Then diversity is underestimated than expectation."
   ]
  },
  {
   "cell_type": "code",
   "execution_count": null,
   "metadata": {},
   "outputs": [],
   "source": []
  }
 ],
 "metadata": {
  "kernelspec": {
   "display_name": "Python 3",
   "language": "python",
   "name": "python3"
  },
  "language_info": {
   "codemirror_mode": {
    "name": "ipython",
    "version": 3
   },
   "file_extension": ".py",
   "mimetype": "text/x-python",
   "name": "python",
   "nbconvert_exporter": "python",
   "pygments_lexer": "ipython3",
   "version": "3.6.3"
  }
 },
 "nbformat": 4,
 "nbformat_minor": 2
}
