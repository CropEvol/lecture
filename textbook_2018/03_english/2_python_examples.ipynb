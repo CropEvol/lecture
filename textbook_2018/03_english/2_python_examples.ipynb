{
 "cells": [
  {
   "cell_type": "markdown",
   "metadata": {},
   "source": [
    "- - - - - - - - - - - - -\n",
    "## <div style=\"text-align: center;\"> Python Programming Examples </div>\n",
    "-------------------------"
   ]
  },
  {
   "cell_type": "markdown",
   "metadata": {},
   "source": [
    "Please type these examples to check how they work."
   ]
  },
  {
   "cell_type": "markdown",
   "metadata": {},
   "source": [
    "## Example 1"
   ]
  },
  {
   "cell_type": "code",
   "execution_count": null,
   "metadata": {},
   "outputs": [],
   "source": [
    "print(\"Hello world!\")"
   ]
  },
  {
   "cell_type": "markdown",
   "metadata": {},
   "source": [
    "+  ```print``` can **show the data on your screen**.\n",
    "+ A data of inside ```()``` is referred to as **argument**."
   ]
  },
  {
   "cell_type": "markdown",
   "metadata": {},
   "source": [
    "## Example 2"
   ]
  },
  {
   "cell_type": "code",
   "execution_count": null,
   "metadata": {},
   "outputs": [],
   "source": [
    "greeting = \"Hello world!\"\n",
    "print(greeting)"
   ]
  },
  {
   "cell_type": "markdown",
   "metadata": {},
   "source": [
    "+ **Variable** is the data which don't have ```\"\"```.\n",
    "+ ```=``` can assign a right-side data to reft-side variable"
   ]
  },
  {
   "cell_type": "markdown",
   "metadata": {},
   "source": [
    "## Example 3"
   ]
  },
  {
   "cell_type": "code",
   "execution_count": null,
   "metadata": {},
   "outputs": [],
   "source": [
    "a = 3+2\n",
    "b = 3-2\n",
    "c = 3*2\n",
    "d = 3/2\n",
    "e = 3%2\n",
    "f = 3**2\n",
    "g = \"3\"+\"2\"\n",
    "\n",
    "print(\"a : \", a)\n",
    "print(\"b : \", b)\n",
    "print(\"c : \", c)\n",
    "print(\"d : \", d)\n",
    "print(\"e : \", e)\n",
    "print(\"f : \", f)\n",
    "print(\"g : \", g)"
   ]
  },
  {
   "cell_type": "markdown",
   "metadata": {},
   "source": [
    "+ ```+``` is **plus**.\n",
    "+ ```-``` is **minus**.\n",
    "+ ```*``` is **times**.\n",
    "+ ```/``` is **division**.\n",
    "+ ```%``` is **remnant**。\n",
    "+ ```**``` is **power**.\n",
    "+ The result of ```a``` is different from that of ```g``` because Python can distinguish numbers from characters with their **data type**. You can check data type by ```print(type(data))```"
   ]
  },
  {
   "cell_type": "markdown",
   "metadata": {},
   "source": [
    "## Example 4"
   ]
  },
  {
   "cell_type": "code",
   "execution_count": null,
   "metadata": {},
   "outputs": [],
   "source": [
    "for n in range(10):\n",
    "    print(\"inside\")\n",
    "print(\"outside\")"
   ]
  },
  {
   "cell_type": "markdown",
   "metadata": {},
   "source": [
    "+ The number of inside ```range()``` shows the number of **iteration (looping)**.\n",
    "+ The left-side of ```print``` is referred to as **indent**. Indent can be inserted by **tab-key**.\n",
    "+ Program outside of paragraph is not worked in iteration."
   ]
  },
  {
   "cell_type": "markdown",
   "metadata": {},
   "source": [
    "## Example 5"
   ]
  },
  {
   "cell_type": "code",
   "execution_count": null,
   "metadata": {},
   "outputs": [],
   "source": [
    "x = 10\n",
    "for n in range(x):\n",
    "    print(n)\n",
    "print(n)"
   ]
  },
  {
   "cell_type": "markdown",
   "metadata": {},
   "source": [
    "+ You have to declare the variable before you use it, but it is ok in this case. ```n``` will change their data with iteration.\n",
    "+ For example, in the case of ```range(10)```, ```n``` starts from 0 and ends at 9 within 10 times."
   ]
  },
  {
   "cell_type": "markdown",
   "metadata": {},
   "source": [
    "## Example 6"
   ]
  },
  {
   "cell_type": "code",
   "execution_count": null,
   "metadata": {},
   "outputs": [],
   "source": [
    "for n in range(10):\n",
    "    if n < 5:\n",
    "        print(n, \"is less than 5\")\n",
    "    elif n == 5:\n",
    "        print(n, \"is equal to 5\")\n",
    "    else:\n",
    "        print(n, \"is more than 5\")"
   ]
  },
  {
   "cell_type": "markdown",
   "metadata": {},
   "source": [
    "+ ```if``` and  ```elif``` show **branching**. If the equation after these words is TRUE, the next paragraph can work.\n",
    "+ If no data satisfy the equation after ```if``` and ```elif```, the paragraph after ```else``` will work.\n",
    "+ ```==``` shows equality instead of ```=``` because ```=``` already shows assignment."
   ]
  },
  {
   "cell_type": "markdown",
   "metadata": {},
   "source": [
    "## Example 7"
   ]
  },
  {
   "cell_type": "code",
   "execution_count": null,
   "metadata": {},
   "outputs": [],
   "source": [
    "numbers = [1,2,3,4,5,6,7,8,9]\n",
    "\n",
    "print(numbers[0])\n",
    "print(numbers[3])\n",
    "print(numbers[3:5])"
   ]
  },
  {
   "cell_type": "markdown",
   "metadata": {},
   "source": [
    "+ Data sandwiched by ```[]``` shows **list**, which can contain data more than one.\n",
    "+ ```numbers[0]``` extracts the first element from list because python counts first position as position **zero**.\n",
    "+ ```numbers[3]``` extracts the forth element from list.\n",
    "+ ```numbers[3:5]``` slices list from forth to fifth element."
   ]
  },
  {
   "cell_type": "markdown",
   "metadata": {},
   "source": [
    "## Example 8"
   ]
  },
  {
   "cell_type": "code",
   "execution_count": null,
   "metadata": {},
   "outputs": [],
   "source": [
    "def add(a, b):\n",
    "    c = a + b\n",
    "    return c\n",
    "\n",
    "x = add(1, 2)\n",
    "y = add(3, 5)\n",
    "\n",
    "print(\"x is\", x)\n",
    "print(\"y is\", y)"
   ]
  },
  {
   "cell_type": "markdown",
   "metadata": {},
   "source": [
    "+ ```def``` defines your own **function** like ```print```; for example ```add```.\n",
    "+ If you want to assign the result from function to variable outside of its function, please use ```return```."
   ]
  },
  {
   "cell_type": "markdown",
   "metadata": {},
   "source": [
    "## Example 9"
   ]
  },
  {
   "cell_type": "code",
   "execution_count": null,
   "metadata": {},
   "outputs": [],
   "source": [
    "def multi_three(numbers):\n",
    "    for n in numbers:\n",
    "        if n%3 == 0: # nを3で割った余りが0ならば\n",
    "            print(n, \"is a multiple of 3.\")\n",
    "\n",
    "multi_three([3,4,5,6])"
   ]
  },
  {
   "cell_type": "markdown",
   "metadata": {},
   "source": [
    "+ **Comments** can be inserted at the right-side of ```#```.\n",
    "+ Not only ```range()``` but also list can be used as itaration. Then, element from first to last is assigned to ```n``` one-by-by."
   ]
  },
  {
   "cell_type": "markdown",
   "metadata": {},
   "source": [
    "## Example 10"
   ]
  },
  {
   "cell_type": "markdown",
   "metadata": {},
   "source": [
    "Now examples are getting practical.\n",
    "For example, you want to count the base \"A\" in a sequence.That script is like below:"
   ]
  },
  {
   "cell_type": "code",
   "execution_count": null,
   "metadata": {},
   "outputs": [],
   "source": [
    "def count_A(seq):\n",
    "    a = 0\n",
    "    for nuc in seq:\n",
    "        if nuc == \"A\": # nucがもしAならば\n",
    "            a = a + 1\n",
    "    print(\"A : \", a)\n",
    "\n",
    "count_A(\"ATGCTATAGCATGTGA\")"
   ]
  },
  {
   "cell_type": "markdown",
   "metadata": {},
   "source": [
    "+ Characters can be used as iteration like list. Then, each element is each character.  \n",
    "+ ```a = a + 1``` plus 1 to ```a``` itself. Then, ```a``` is called **counter**."
   ]
  },
  {
   "cell_type": "markdown",
   "metadata": {},
   "source": [
    "## Example 11"
   ]
  },
  {
   "cell_type": "code",
   "execution_count": null,
   "metadata": {},
   "outputs": [],
   "source": [
    "def compare_seqs(seq1, seq2):\n",
    "    S = 0\n",
    "    for nuc1, nuc2 in zip(seq1, seq2):\n",
    "        if nuc1 != nuc2:\n",
    "            S = S + 1\n",
    "    print(S, \"sites are different.\")\n",
    "\n",
    "seq1 = \"ATGCTATAGCATGTGA\"\n",
    "seq2 = \"ATGCGATAACATGTCA\"\n",
    "compare_seqs(seq1, seq2)"
   ]
  },
  {
   "cell_type": "markdown",
   "metadata": {},
   "source": [
    "+ ```zip```は同じ長さの文字列、またはリストの要素を(　　　　　　　　　　　　)。\n",
    "+ ```!=```は２つデータが(　　　　　　)時に真となる。"
   ]
  },
  {
   "cell_type": "markdown",
   "metadata": {},
   "source": [
    "## Example 12"
   ]
  },
  {
   "cell_type": "code",
   "execution_count": null,
   "metadata": {},
   "outputs": [],
   "source": [
    "def genotype(seq1, seq2):\n",
    "    progeny = [] # 空のリストを作成\n",
    "    for nuc1, nuc2 in zip(seq1, seq2):\n",
    "        gt = nuc1 + nuc2 # genotype (0/0, 0/1, 1/1) -> (0, 1, 2)\n",
    "        progeny.append(gt)\n",
    "    return progeny\n",
    "\n",
    "from_mother = [0,0,0,1,0,1,1,0]\n",
    "from_father = [0,1,0,1,0,0,0,0]\n",
    "\n",
    "progeny = genotype(from_mother, from_father)\n",
    "print(progeny)"
   ]
  },
  {
   "cell_type": "markdown",
   "metadata": {},
   "source": [
    "+ ```append```は```.```の左にある名前のリストへ```()```の中にある要素を\b(　　　　)という機能を持つ。"
   ]
  },
  {
   "cell_type": "markdown",
   "metadata": {},
   "source": [
    "## Example 13 ( ! )"
   ]
  },
  {
   "cell_type": "code",
   "execution_count": null,
   "metadata": {},
   "outputs": [],
   "source": [
    "import numpy as np\n",
    "\n",
    "from_mother = np.array([0,0,0,1,0,1,1,0])\n",
    "from_father = np.array([0,1,0,1,0,0,0,0])\n",
    "\n",
    "progeny = from_mother + from_father\n",
    "print(progeny)"
   ]
  },
  {
   "cell_type": "markdown",
   "metadata": {},
   "source": [
    "+ ```import```することで他人の作った(　　　　　　　　　)を使うことができる。( ! )\n",
    "+ ```as```は、そのモデュールを、それ以降、```np```と略して使うことを指定している。"
   ]
  }
 ],
 "metadata": {
  "kernelspec": {
   "display_name": "Python [default]",
   "language": "python",
   "name": "python3"
  },
  "language_info": {
   "codemirror_mode": {
    "name": "ipython",
    "version": 3
   },
   "file_extension": ".py",
   "mimetype": "text/x-python",
   "name": "python",
   "nbconvert_exporter": "python",
   "pygments_lexer": "ipython3",
   "version": "3.5.6"
  }
 },
 "nbformat": 4,
 "nbformat_minor": 2
}
