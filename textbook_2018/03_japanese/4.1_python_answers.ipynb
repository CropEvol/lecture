{
 "cells": [
  {
   "cell_type": "markdown",
   "metadata": {},
   "source": [
    "### <div style=\"text-align: center;\"> Python 練習問題 解答 </div>"
   ]
  },
  {
   "cell_type": "markdown",
   "metadata": {},
   "source": [
    "---\n",
    "\n",
    "## Exercise 1\n",
    "Wattersonの<span style=\"font-style:italic;\">θ</span>という指標が集団遺伝学には存在します。その式は以下のように計算されます。\n",
    "$$ \\theta_{W} = \\frac{S}{a} $$\n",
    "\n",
    "上記の式における<span style=\"font-style:italic;\">a</span>は以下のように求められます。\n",
    "\n",
    "$$ a = \\sum_{i=1}^{n-1}\\frac{1}{i} $$\n",
    "\n",
    "Wattersonの <span style=\"font-style:italic;\">θ</span> を求める上で必要な情報は$S$（segregating site数）と$n$（染色体の本数、すなわち配列のサンプル数）です。<span style=\"font-style:italic;\">θ</span>の横にある$W$は添字であって、掛け算ではないことに注意しながら、__Wattersonの<span style=\"font-style:italic;\">θ</span>を計算する関数を作成してください。__\n",
    "\n",
    "```python\n",
    "# プログラミングのヒント\n",
    "def watterson_theta(S, n):\n",
    "    a = 0\n",
    "    for i in range(n-1):\n",
    "        a = a + 1/(i+1)\n",
    "        :\n",
    "        :\n",
    "    return theta\n",
    "\n",
    "theta = watterson_theta(4, 5)\n",
    "print(theta) # 1.92\n",
    "```"
   ]
  },
  {
   "cell_type": "code",
   "execution_count": 9,
   "metadata": {},
   "outputs": [
    {
     "name": "stdout",
     "output_type": "stream",
     "text": [
      "1.9200000000000004\n"
     ]
    }
   ],
   "source": [
    "#### Exercise 1\n",
    "\n",
    "def watterson_theta(S, n):\n",
    "    a = 0\n",
    "    for i in range(n-1):\n",
    "        a = a + 1/(i+1)\n",
    "    theta = S/a\n",
    "    return theta\n",
    "\n",
    "theta = watterson_theta(4, 5)\n",
    "print(theta) # 1.92"
   ]
  },
  {
   "cell_type": "markdown",
   "metadata": {},
   "source": [
    "---\n",
    "\n",
    "**Watterson's $\\theta$とは何か？**  \n",
    "\n",
    "実はこれは簡単な話ではありません。しかし、プログラミングの実習としては良いので出題しました。ここでは、Watterson's $\\theta$とは何かについて解説しますが、飛ばしてもらっても構いません。  \n",
    "\n",
    "Watterson's $\\theta$は期待される塩基多様性（$\\pi$）です。塩基多様性（$\\pi$）は配列の本数、突然変異が起こった塩基の種類、それらの塩基の集団内の頻度から推定されます。しかし、Watterson's $\\theta$は配列の本数と突然変異が起こった塩基の種類だけから推定されます。すなわち、頻度が考慮されていません。Watterson's $\\theta$は「この突然変異の個数なら、これくらいの頻度になるだろう」と理論上期待される頻度を用いて塩基多様性を求めます。  \n",
    "\n",
    "では、実際の塩基多様性がWatterson's $\\theta$（期待される塩基多様性）よりも高い場合はどのように解釈したら良いでしょうか？この場合、二つの可能性があります。一つは、そのゲノム領域が多様性を維持すると有利になるような自然選択を受けているという可能性です。二つに、本来は遺伝的な流動のない、物理的もしくは生殖的に隔離された二つの集団を一つにまとめて解析している場合です。  \n",
    "\n",
    "では逆に、実際の塩基多様性がWatterson's $\\theta$（期待される塩基多様性）よりも低い場合はどのように解釈したら良いでしょうか？一つは、その現状のゲノム領域から変わると何か都合の悪いような自然選択が働いているという可能性です。二つは、サンプルした生き物がある地域で急速に拡大した歴史があるという可能性です。すなわち、似たようなコピーの配列が集団内に多いということを表しています。\n"
   ]
  },
  {
   "cell_type": "markdown",
   "metadata": {},
   "source": [
    "---\n",
    "\n",
    "## Exercise 2\n",
    "$\\pi$（塩基多様性）の計算方法について解説します。  \n",
    "\n",
    "```Text\n",
    "            （seq０） A T G C A T G\n",
    "            （seq１） A T C C A C C\n",
    "            （seq２） G A G T A T C\n",
    "            （seq３） G T G C A T C\n",
    "            （seq４） G T G T A C C\n",
    "\n",
    "seq０と同じ塩基数     2 4 4 3 5 3 1\n",
    "seq０と違う塩基数     3 1 1 2 0 2 4\n",
    "→上と下を掛け算する  6 4 4 6 0 6 4\n",
    "```\n",
    "\n",
    "上の図をみてください。\n",
    "1. 今回は一番上のseq0を基準配列とします。\n",
    "2. それぞれの\bサイト（塩基座）について、基準と同じ\b塩基の個数と、\b基準と違う塩基の個数を\b数えます。\n",
    "3. それらを、それぞれのサイトに関して掛け算します。\n",
    "4. 掛け算した\b結果の和が分子になります。\n",
    "$$ \\pi=\\frac{6+4+4+6+0+6+4}{n(n-1)/2} $$\n",
    "\n",
    "5. _n_  にはサンプルの配列数が入ります。今回はサンプルの配列数が５本なので *n = 5* です。よって、\n",
    "$$ \\pi=\\frac{6+4+4+6+0+6+4}{5(5-1)/2}=3 $$\n",
    "\n",
    "今、基準と同じ塩基の数と\b、基準と違う塩基の数がそれぞれわかっていて、リストになっています。__それらの２つのリストを引数にとる関数を作成してください。__なお、例における式は```(6+4+4+6+0+6+4)/(5*(5-1)/2)```と計算され、分子や分母に```()```をしていることに注意してください。\n",
    "\n",
    "```python\n",
    "# プログラミングのヒント\n",
    "def diversity(ref, alt):\n",
    "    nume = 0 # 分子\n",
    "    for ref_n, alt_n in zip(ref, alt):\n",
    "        nume = nume + ref_n*alt_n\n",
    "    n = ref[0] + alt[0]\n",
    "        :\n",
    "        :\n",
    "    return pi\n",
    "\n",
    "ref = [2,4,4,3,5,3,1] # 基準と同じ塩基の数のリスト\n",
    "alt = [3,1,1,2,0,2,4] # 基準と違う塩基の数のリスト\n",
    "\n",
    "pi = diversity(ref, alt)\n",
    "print(pi) # 3.0\n",
    "```"
   ]
  },
  {
   "cell_type": "code",
   "execution_count": 5,
   "metadata": {},
   "outputs": [
    {
     "name": "stdout",
     "output_type": "stream",
     "text": [
      "3.0\n"
     ]
    }
   ],
   "source": [
    "#### Exercise 2\n",
    "\n",
    "def diversity(ref, alt):\n",
    "    nume = 0 # 分子\n",
    "    for ref_n, alt_n in zip(ref, alt):\n",
    "        nume = nume + ref_n*alt_n\n",
    "    n = ref[0] + alt[0]\n",
    "    pi = nume/(n*(n-1)/2)\n",
    "    return pi\n",
    "\n",
    "ref = [2,4,4,3,5,3,1] # 基準と同じ塩基の数のリスト\n",
    "alt = [3,1,1,2,0,2,4] # 基準と違う塩基の数のリスト\n",
    "\n",
    "pi = diversity(ref, alt)\n",
    "print(pi) # 3.0"
   ]
  },
  {
   "cell_type": "code",
   "execution_count": 6,
   "metadata": {},
   "outputs": [
    {
     "name": "stdout",
     "output_type": "stream",
     "text": [
      "3.0\n"
     ]
    }
   ],
   "source": [
    "#### Exercise 2 別解\n",
    "# numpyを使えば、以下のようになります。\n",
    "\n",
    "import numpy as np\n",
    "\n",
    "def diversity(ref, alt):\n",
    "    np_ref = np.array(ref) # numpyのarrayに変換\n",
    "    np_alt = np.array(alt)\n",
    "\n",
    "    nume = (np_ref*np_alt).sum() # .sumはarray内の要素の合計値を計算する\n",
    "    n  = np_ref[0] + np_alt[0]\n",
    "    pi = nume/(n*(n-1)/2)\n",
    "    return pi\n",
    "\n",
    "ref = [2,4,4,3,5,3,1] # 基準と同じ塩基の数のリスト\n",
    "alt = [3,1,1,2,0,2,4] # 基準と違う塩基の数のリスト\n",
    "\n",
    "pi = diversity(ref, alt)\n",
    "print(pi) # 3.0"
   ]
  },
  {
   "cell_type": "markdown",
   "metadata": {},
   "source": [
    "---\n",
    "\n",
    "## Exercise 3\n",
    "２つの集団間の遺伝的距離を表す方法として$F_{ST}$という指標があります。$F_{ST}$の計算方法は沢山ありますが、ここではNeiの$F_{ST}$を使って計算しましょう。式は以下のようになります。\n",
    "\n",
    "$$ F_{ST} = \\frac{\\pi_{12}-(\\pi_{1}+\\pi_{2})/2}{\\pi_{12}} $$\n",
    "\n",
    "上の式でいうところの$\\pi$はExercise2で作ったプログラムで計算できる$\\pi$のことです。今、２つの集団をそれぞれ集団１と集団２とします。$\\pi_{1}$は集団１に関して計算した$\\pi$です。同様に、$\\pi_{2}$は集団２に関して計算した$\\pi$です。ここで、集団１と集団２が同じ１つの合わさった集団であると仮定します。すなわち、\n",
    "\n",
    "```python\n",
    "ref1 = [2,4,5] # 集団１で基準と同じ塩基の数のリスト\n",
    "alt1 = [3,1,0] # 集団１で基準と違う塩基の数のリスト\n",
    "\n",
    "ref2 = [2,1,0] # 集団２で基準と同じ塩基の数のリスト\n",
    "alt2 = [3,4,5] # 集団２で基準と違う塩基の数のリスト\n",
    "```\n",
    "という２つの集団が存在した場合、合わさった集団は以下のようになります。\n",
    "```python\n",
    "ref12 = [4,5,5] # 全集団で基準と同じ塩基の数のリスト\n",
    "alt12 = [6,5,5] # 全集団で基準と違う塩基の数のリスト\n",
    "```\n",
    "その\b\b集団で計算した$\\pi$が$\\pi_{12}$です。以上をもとに、__$F_{ST}$を計算するプログラムを作成してください。__なお、集団１も集団２も基準配列は同じ配列を使っているとします。\n",
    "\n",
    "```python\n",
    "# プログラミングのヒント\n",
    "def diversity(ref, alt):\n",
    "    :\n",
    "    :\n",
    "    return pi\n",
    "\n",
    "def nei_fst(ref1, alt1, ref2, alt2):\n",
    "    ref12 = []\n",
    "    for ref_n1, ref_n2 in zip(ref1, ref2):\n",
    "        ref12.append(ref_n1+ref_n2)\n",
    "        :\n",
    "    pi1 = diversity(ref1, alt1)\n",
    "        :\n",
    "    return fst\n",
    "\n",
    "ref1 = [2,4,4,3,5,3,1] # 集団１で基準と同じ塩基の数のリスト\n",
    "alt1 = [3,1,1,2,0,2,4] # 集団１で基準と違う塩基の数のリスト\n",
    "\n",
    "ref2 = [2,1,1,3,0,3,3] # 集団２で基準と同じ塩基の数のリスト\n",
    "alt2 = [3,4,4,2,5,2,2] # 集団２で基準と違う塩基の数のリスト\n",
    "\n",
    "fst = nei_fst(ref1, alt1, ref2, alt2)\n",
    "print(fst) # 0.184...\n",
    "```\n"
   ]
  },
  {
   "cell_type": "code",
   "execution_count": 7,
   "metadata": {},
   "outputs": [
    {
     "name": "stdout",
     "output_type": "stream",
     "text": [
      "0.1842105263157894\n"
     ]
    }
   ],
   "source": [
    "#### Exercise 3\n",
    "\n",
    "def diversity(ref, alt):\n",
    "    nume = 0 # 分子\n",
    "    for ref_n, alt_n in zip(ref, alt):\n",
    "        nume = nume + ref_n*alt_n\n",
    "    n = ref[0] + alt[0]\n",
    "    pi = nume/(n*(n-1)/2)\n",
    "    return pi\n",
    "\n",
    "def nei_fst(ref1, alt1, ref2, alt2):\n",
    "    ref12 = []\n",
    "    for ref_n1, ref_n2 in zip(ref1, ref2):\n",
    "        ref12.append(ref_n1+ref_n2)\n",
    "\n",
    "    alt12 = []\n",
    "    for alt_n1, alt_n2 in zip(alt1, alt2):\n",
    "        alt12.append(alt_n1+alt_n2)\n",
    "\n",
    "    pi1  = diversity(ref1, alt1)\n",
    "    pi2  = diversity(ref2, alt2)\n",
    "    pi12 = diversity(ref12, alt12)\n",
    "\n",
    "    fst = (pi12-(pi1+pi2)/2)/pi12\n",
    "    return fst\n",
    "\n",
    "ref1 = [2,4,4,3,5,3,1] # 集団１で基準と同じ塩基の数のリスト\n",
    "alt1 = [3,1,1,2,0,2,4] # 集団１で基準と違う塩基の数のリスト\n",
    "\n",
    "ref2 = [2,1,1,3,0,3,3] # 集団２で基準と同じ塩基の数のリスト\n",
    "alt2 = [3,4,4,2,5,2,2] # 集団２で基準と違う塩基の数のリスト\n",
    "\n",
    "fst = nei_fst(ref1, alt1, ref2, alt2)\n",
    "print(fst) # 0.184..."
   ]
  },
  {
   "cell_type": "code",
   "execution_count": 8,
   "metadata": {},
   "outputs": [
    {
     "name": "stdout",
     "output_type": "stream",
     "text": [
      "0.1842105263157894\n"
     ]
    }
   ],
   "source": [
    "#### Exercise 3 別解\n",
    "# numpyを使えば、以下のようになります。\n",
    "\n",
    "import numpy as np\n",
    "\n",
    "def diversity(ref, alt):\n",
    "    nume = (ref*alt).sum() # .sumはarray内の要素の合計値を計算する\n",
    "    n  = ref[0] + alt[0]\n",
    "    pi = nume/(n*(n-1)/2)\n",
    "    return pi\n",
    "\n",
    "def nei_fst(ref1, alt1, ref2, alt2):\n",
    "    np_ref1  = np.array(ref1) # numpyのarrayに変換\n",
    "    np_alt1  = np.array(alt1)\n",
    "    np_ref2  = np.array(ref2)\n",
    "    np_alt2  = np.array(alt2)\n",
    "    np_ref12 = np_ref1 + np_ref2\n",
    "    np_alt12 = np_alt1 + np_alt2\n",
    "\n",
    "    pi1  = diversity(np_ref1, np_alt1)\n",
    "    pi2  = diversity(np_ref2, np_alt2)\n",
    "    pi12 = diversity(np_ref12, np_alt12)\n",
    "\n",
    "    fst = (pi12-(pi1+pi2)/2)/pi12\n",
    "    return fst\n",
    "\n",
    "ref1 = [2,4,4,3,5,3,1] # 集団１で基準と同じ塩基の数のリスト\n",
    "alt1 = [3,1,1,2,0,2,4] # 集団１で基準と違う塩基の数のリスト\n",
    "\n",
    "ref2 = [2,1,1,3,0,3,3] # 集団２で基準と同じ塩基の数のリスト\n",
    "alt2 = [3,4,4,2,5,2,2] # 集団２で基準と違う塩基の数のリスト\n",
    "\n",
    "fst = nei_fst(ref1, alt1, ref2, alt2)\n",
    "print(fst) # 0.184..."
   ]
  },
  {
   "cell_type": "code",
   "execution_count": null,
   "metadata": {},
   "outputs": [],
   "source": []
  }
 ],
 "metadata": {
  "kernelspec": {
   "display_name": "Python 3",
   "language": "python",
   "name": "python3"
  },
  "language_info": {
   "codemirror_mode": {
    "name": "ipython",
    "version": 3
   },
   "file_extension": ".py",
   "mimetype": "text/x-python",
   "name": "python",
   "nbconvert_exporter": "python",
   "pygments_lexer": "ipython3",
   "version": "3.6.3"
  }
 },
 "nbformat": 4,
 "nbformat_minor": 2
}
