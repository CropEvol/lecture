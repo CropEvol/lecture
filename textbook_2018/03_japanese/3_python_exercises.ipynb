{
 "cells": [
  {
   "cell_type": "raw",
   "metadata": {},
   "source": [
    "学科: \n",
    "氏名: \n",
    "学籍番号: "
   ]
  },
  {
   "cell_type": "markdown",
   "metadata": {},
   "source": [
    "- - - - - - - - - - - - -\n",
    "# <div style=\"text-align: center;\"> Python 練習問題 </div>\n",
    "\n",
    "「Python プログラミング例」のテキストは[こちら](2_python_examples.ipynb)（クリックすると、新しいタブが開きます）\n",
    "\n",
    "-------------------------\n",
    "\n",
    "以下の計算式はそれぞれ集団遺伝学における統計的指標と関わっています。それらを計算するための\bプログラムを作成してください。それぞれの指標が何を計るためのものなのかは別途、皆さん自身で作ったプログラムを動かしてもらいながら解説します。"
   ]
  },
  {
   "cell_type": "markdown",
   "metadata": {},
   "source": [
    "---\n",
    "\n",
    "## Exercise 1\n",
    "Wattersonの*θ*という指標が集団遺伝学には存在します。その式は以下のように計算されます。\n",
    "$$ \\theta_{W} = \\frac{S}{a} $$\n",
    "\n",
    "上記の式における*a*は以下のように求められます。\n",
    "\n",
    "$$ a = \\sum_{i=1}^{n-1}\\frac{1}{i} $$\n",
    "\n",
    "Wattersonの*θ*を求める上で必要な情報は$S$（segregating site数）と$n$（染色体の本数、すなわち配列のサンプル数）で\bす。$θ$ の横にある$W$は添字であって、掛け算ではないことに注意しながら、__Wattersonの$θ$を計算する関数を作成してください。__\n",
    "\n",
    "```python\n",
    "# プログラミングのヒント\n",
    "def watterson_theta(S, n):\n",
    "    a = 0\n",
    "    for i in range(n-1):\n",
    "        a = a + 1/(i+1)\n",
    "        :\n",
    "        :\n",
    "    return theta\n",
    "\n",
    "theta = watterson_theta(4, 5)\n",
    "print(theta) # 1.92\n",
    "```"
   ]
  },
  {
   "cell_type": "code",
   "execution_count": null,
   "metadata": {},
   "outputs": [],
   "source": []
  },
  {
   "cell_type": "markdown",
   "metadata": {},
   "source": [
    "---\n",
    "\n",
    "## Exercise 2\n",
    "$\\pi$（塩基多様性）の計算方法について解説します。  \n",
    "<font face=\"Osaka\">\n",
    "　　　　　　　　　　　　　　　　　　　　　　　　　　　　　　（seq０） A T G C A T G  \n",
    "　　　　　　　　　　　　　　　　　　　　　　　　　　　　　　（seq１） A T C C A C C  \n",
    "　　　　　　　　　　　　　　　　　　　　　　　　　　　　　　（seq２） G A G T A T C  \n",
    "　　　　　　　　　　　　　　　　　　　　　　　　　　　　　　（seq３） G T G C A T C  \n",
    "　　　　　　　　　　　　　　　　　　　　　　　　　　　　　　（seq４） G T G T A C C  \n",
    "\n",
    "seq０と同じ塩基数　　　　　　　　　　　　　　　2 4 4 3 5 3 1  \n",
    "seq０と違う塩基数　　　　　　　　　　　　　　　3 1 1 2 0 2 4  \n",
    "→上と下を掛け算する　　　　　　　　　　6 4 4 6 0 6 4  \n",
    "</font>\n",
    "\n",
    "上の図をみてください。\n",
    "1. 今回は一番上のseq0を基準配列とします。\n",
    "2. それぞれの\bサイト（塩基座）について、基準と同じ\b塩基の個数と、\b基準と違う塩基の個数を\b数えます。\n",
    "3. それらを、それぞれのサイトに関して掛け算します。\n",
    "4. 掛け算した\b結果の和が分子になります。\n",
    "$$ \\pi=\\frac{6+4+4+6+0+6+4}{n(n-1)/2} $$\n",
    "\n",
    "5. _n_  にはサンプルの配列数が入ります。今回はサンプルの配列数が５本なので *n = 5* です。よって、\n",
    "$$ \\pi=\\frac{6+4+4+6+0+6+4}{5(5-1)/2}=3 $$\n",
    "\n",
    "今、基準と同じ塩基の数と\b、基準と違う塩基の数がそれぞれわかっていて、リストになっています。__それらの２つのリストを引数にとる関数を作成してください。__なお、例における式は```(6+4+4+6+0+6+4)/(5*(5-1)/2)```と計算され、分子や分母に```()```をしていることに注意してください。\n",
    "\n",
    "```python\n",
    "# プログラミングのヒント\n",
    "def diversity(ref, alt):\n",
    "    nume = 0 # 分子\n",
    "    for ref_n, alt_n in zip(ref, alt):\n",
    "        nume = nume + ref_n*alt_n\n",
    "    n = ref[0] + alt[0]\n",
    "        :\n",
    "        :\n",
    "    return pi\n",
    "\n",
    "ref = [2,4,4,3,5,3,1] # 基準と同じ塩基の数のリスト\n",
    "alt = [3,1,1,2,0,2,4] # 基準と違う塩基の数のリスト\n",
    "\n",
    "pi = diversity(ref, alt)\n",
    "print(pi) # 3.0\n",
    "```"
   ]
  },
  {
   "cell_type": "code",
   "execution_count": null,
   "metadata": {},
   "outputs": [],
   "source": []
  },
  {
   "cell_type": "markdown",
   "metadata": {},
   "source": [
    "---\n",
    "\n",
    "## Exercise 3\n",
    "２つの集団間の遺伝的距離を表す方法として$F_{ST}$という指標があります。$F_{ST}$の計算方法は沢山ありますが、ここではNeiの$F_{ST}$を使って計算しましょう。式は以下のようになります。\n",
    "\n",
    "$$ F_{ST} = \\frac{\\pi_{12}-(\\pi_{1}+\\pi_{2})/2}{\\pi_{12}} $$\n",
    "\n",
    "上の式でいうところの$\\pi$はExercise2で作ったプログラムで計算できる$\\pi$のことです。今、２つの集団をそれぞれ集団１と集団２とします。$\\pi_{1}$は集団１に関して計算した$\\pi$です。同様に、$\\pi_{2}$は集団２に関して計算した$\\pi$です。ここで、集団１と集団２が同じ１つの合わさった集団であると仮定します。すなわち、\n",
    "\n",
    "```python\n",
    "ref1 = [2,4,5] # 集団１で基準と同じ塩基の数のリスト\n",
    "alt1 = [3,1,0] # 集団１で基準と違う塩基の数のリスト\n",
    "\n",
    "ref2 = [2,1,0] # 集団２で基準と同じ塩基の数のリスト\n",
    "alt2 = [3,4,5] # 集団２で基準と違う塩基の数のリスト\n",
    "```\n",
    "という２つの集団が存在した場合、合わさった集団は以下のようになります。\n",
    "```python\n",
    "ref12 = [4,5,5] # 全集団で基準と同じ塩基の数のリスト\n",
    "alt12 = [6,5,5] # 全集団で基準と違う塩基の数のリスト\n",
    "```\n",
    "その\b\b集団で計算した$\\pi$が$\\pi_{12}$です。以上をもとに、__$F_{ST}$を計算するプログラムを作成してください。__なお、集団１も集団２も基準配列は同じ配列を使っているとします。\n",
    "\n",
    "```python\n",
    "# プログラミングのヒント\n",
    "def diversity(ref, alt):\n",
    "    :\n",
    "    :\n",
    "    return pi\n",
    "\n",
    "def nei_fst(ref1, alt1, ref2, alt2):\n",
    "    ref12 = []\n",
    "    for ref_n1, ref_n2 in zip(ref1, ref2):\n",
    "        ref12.append(ref_n1+ref_n2)\n",
    "        :\n",
    "    pi1 = diversity(ref1, alt1)\n",
    "        :\n",
    "    return fst\n",
    "\n",
    "ref1 = [2,4,4,3,5,3,1] # 集団１で基準と同じ塩基の数のリスト\n",
    "alt1 = [3,1,1,2,0,2,4] # 集団１で基準と違う塩基の数のリスト\n",
    "\n",
    "ref2 = [2,1,1,3,0,3,3] # 集団２で基準と同じ塩基の数のリスト\n",
    "alt2 = [3,4,4,2,5,2,2] # 集団２で基準と違う塩基の数のリスト\n",
    "\n",
    "fst = nei_fst(ref1, alt1, ref2, alt2)\n",
    "print(fst) # 0.184...\n",
    "```\n"
   ]
  },
  {
   "cell_type": "code",
   "execution_count": null,
   "metadata": {},
   "outputs": [],
   "source": []
  },
  {
   "cell_type": "markdown",
   "metadata": {},
   "source": [
    "---\n",
    "\n",
    "## 質問・要望\n",
    "質問や要望があれば、メール本文か下のセルに書いてください。"
   ]
  },
  {
   "cell_type": "raw",
   "metadata": {},
   "source": []
  },
  {
   "cell_type": "markdown",
   "metadata": {},
   "source": [
    "---\n",
    "\n",
    "## 課題の提出について\n",
    "\n",
    "今回の課題番号：`03`\n",
    "\n",
    "提出方法：\n",
    "1. 課題終了後のノートブックファイルをダウンロードする\n",
    "1. そのファイルをメールに添付して、下記アドレスに送信する  \n",
    "\n",
    "    __＊重要＊　  \n",
    "    メールの件名を `HW[課題番号2桁]+SID[学籍番号(4桁-2桁-４桁)]`（すべて半角英数） にしてください。__  \n",
    "    \n",
    "    例） HW03+SID1234-56-7890\n",
    "    \n",
    "\n",
    "提出先: cropevol@gmail.com\n",
    "\n",
    "提出期限: 2018年10月22日（月） 17:00まで"
   ]
  },
  {
   "cell_type": "code",
   "execution_count": null,
   "metadata": {},
   "outputs": [],
   "source": []
  }
 ],
 "metadata": {
  "kernelspec": {
   "display_name": "Python 3",
   "language": "python",
   "name": "python3"
  },
  "language_info": {
   "codemirror_mode": {
    "name": "ipython",
    "version": 3
   },
   "file_extension": ".py",
   "mimetype": "text/x-python",
   "name": "python",
   "nbconvert_exporter": "python",
   "pygments_lexer": "ipython3",
   "version": "3.6.3"
  }
 },
 "nbformat": 4,
 "nbformat_minor": 2
}
