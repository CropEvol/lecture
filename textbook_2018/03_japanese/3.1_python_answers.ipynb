{
 "cells": [
  {
   "cell_type": "markdown",
   "metadata": {},
   "source": [
    "### <div style=\"text-align: center;\"> Python 練習問題 解答 </div>"
   ]
  },
  {
   "cell_type": "code",
   "execution_count": 3,
   "metadata": {},
   "outputs": [
    {
     "name": "stdout",
     "output_type": "stream",
     "text": [
      "1.9200000000000004\n"
     ]
    }
   ],
   "source": [
    "#### Exercise 1\n",
    "\n",
    "def watterson_theta(S, n):\n",
    "    a = 0\n",
    "    for i in range(n-1):\n",
    "        a = a + 1/(i+1)\n",
    "    theta = S/a\n",
    "    return theta\n",
    "\n",
    "theta = watterson_theta(4, 5)\n",
    "print(theta) # 1.92"
   ]
  },
  {
   "cell_type": "markdown",
   "metadata": {},
   "source": [
    "---\n",
    "\n",
    "**Watterson's $\\theta$とは何か？**  \n",
    "\n",
    "実はこれは簡単な話ではありません。しかし、プログラミングの実習としては良いので出題しました。ここでは、Watterson's $\\theta$とは何かについて解説しますが、飛ばしてもらっても構いません。  \n",
    "\n",
    "Watterson's $\\theta$は期待される塩基多様性（$\\pi$）です。塩基多様性（$\\pi$）は配列の本数、突然変異が起こった塩基の種類、それらの塩基の集団内の頻度から推定されます。しかし、Watterson's $\\theta$は配列の本数と突然変異が起こった塩基の種類だけから推定されます。すなわち、頻度が考慮されていません。Watterson's $\\theta$は「この突然変異の個数なら、これくらいの頻度になるだろう」と理論上期待される頻度を用いて塩基多様性を求めます。  \n",
    "\n",
    "では、実際の塩基多様性がWatterson's $\\theta$（期待される塩基多様性）よりも高い場合はどのように解釈したら良いでしょうか？この場合、二つの可能性があります。一つは、そのゲノム領域が多様性を維持すると有利になるような自然選択を受けているという可能性です。二つに、本来は遺伝的な流動のない、物理的もしくは生殖的に隔離された二つの集団を一つにまとめて解析している場合です。  \n",
    "\n",
    "では逆に、実際の塩基多様性がWatterson's $\\theta$（期待される塩基多様性）よりも低い場合はどのように解釈したら良いでしょうか？一つは、その現状のゲノム領域から変わると何か都合の悪いような自然選択が働いているという可能性です。二つは、サンプルした生き物がある地域で急速に拡大した歴史があるという可能性です。すなわち、似たようなコピーの配列が集団内に多いということを表しています。\n"
   ]
  },
  {
   "cell_type": "code",
   "execution_count": null,
   "metadata": {},
   "outputs": [],
   "source": []
  }
 ],
 "metadata": {
  "kernelspec": {
   "display_name": "Python 3",
   "language": "python",
   "name": "python3"
  },
  "language_info": {
   "codemirror_mode": {
    "name": "ipython",
    "version": 3
   },
   "file_extension": ".py",
   "mimetype": "text/x-python",
   "name": "python",
   "nbconvert_exporter": "python",
   "pygments_lexer": "ipython3",
   "version": "3.6.3"
  }
 },
 "nbformat": 4,
 "nbformat_minor": 2
}
