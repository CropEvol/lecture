{
 "cells": [
  {
   "cell_type": "markdown",
   "metadata": {},
   "source": [
    "- - - - - - - - - - - - -\n",
    "# <div style=\"text-align: center;\"> Python プログラミング例 </div>\n",
    "-------------------------"
   ]
  },
  {
   "cell_type": "markdown",
   "metadata": {},
   "source": [
    "## Example 1"
   ]
  },
  {
   "cell_type": "code",
   "execution_count": null,
   "metadata": {},
   "outputs": [],
   "source": [
    "print(\"Hello world!\")"
   ]
  },
  {
   "cell_type": "markdown",
   "metadata": {},
   "source": [
    "+  ```print```は(　　　　　　　　)できる。\n",
    "+ ```()```の中のデータのことを(　　　　)という。( ! )"
   ]
  },
  {
   "cell_type": "markdown",
   "metadata": {},
   "source": [
    "## Example 2"
   ]
  },
  {
   "cell_type": "code",
   "execution_count": null,
   "metadata": {},
   "outputs": [],
   "source": [
    "greeting = \"Hello world!\"\n",
    "print(greeting)"
   ]
  },
  {
   "cell_type": "markdown",
   "metadata": {},
   "source": [
    "+ ```\"\"```がないものは(　　　)として扱う。( ! )\n",
    "+ ```=```は右側のデータを左側へ(　　　)できる。( ! )"
   ]
  },
  {
   "cell_type": "markdown",
   "metadata": {},
   "source": [
    "## Example 3"
   ]
  },
  {
   "cell_type": "code",
   "execution_count": null,
   "metadata": {},
   "outputs": [],
   "source": [
    "a = 3+2\n",
    "b = 3-2\n",
    "c = 3*2\n",
    "d = 3/2\n",
    "e = 3%2\n",
    "f = 3**2\n",
    "g = \"3\"+\"2\"\n",
    "\n",
    "print(\"a : \", a)\n",
    "print(\"b : \", b)\n",
    "print(\"c : \", c)\n",
    "print(\"d : \", d)\n",
    "print(\"e : \", e)\n",
    "print(\"f : \", f)\n",
    "print(\"g : \", g)"
   ]
  },
  {
   "cell_type": "markdown",
   "metadata": {},
   "source": [
    "+ ```+```は(　　　　)。\n",
    "+ ```-```は(　　　　)。\n",
    "+ ```*```は(　　　　)。\n",
    "+ ```/```は(　　　　)。\n",
    "+ ```%```は(　　　　)。\n",
    "+ ```**```は(　　　　)。\n",
    "+ ```a```と```g```の結果が異なるのはpythonが(　　　　)と(　　　　)を区別しているから。"
   ]
  },
  {
   "cell_type": "markdown",
   "metadata": {},
   "source": [
    "## Example 4"
   ]
  },
  {
   "cell_type": "code",
   "execution_count": null,
   "metadata": {},
   "outputs": [],
   "source": [
    "for n in range(10):\n",
    "    print(\"inside\")\n",
    "print(\"outside\")"
   ]
  },
  {
   "cell_type": "markdown",
   "metadata": {},
   "source": [
    "+ ```range```の```()```の中の数字は(　　　　　　　)を表している。\n",
    "+ ```print```の手前のくぼみのことを(　　　　　　　)と言い、tabキーを１回押すことで作ることができる。( ! )\n",
    "+ 段落の外は(　　　　　　　　　)。"
   ]
  },
  {
   "cell_type": "markdown",
   "metadata": {},
   "source": [
    "## Example 5"
   ]
  },
  {
   "cell_type": "code",
   "execution_count": null,
   "metadata": {},
   "outputs": [],
   "source": [
    "x = 10\n",
    "for n in range(x):\n",
    "    print(n)\n",
    "print(n)"
   ]
  },
  {
   "cell_type": "markdown",
   "metadata": {},
   "source": [
    "+ ```n```の中の数字は(　　　　　　　)から始り(　　　　　　　)で終わる。"
   ]
  },
  {
   "cell_type": "markdown",
   "metadata": {},
   "source": [
    "## Example 6"
   ]
  },
  {
   "cell_type": "code",
   "execution_count": null,
   "metadata": {},
   "outputs": [],
   "source": [
    "for n in range(10):\n",
    "    if n < 5:\n",
    "        print(n, \"is less than 5\")\n",
    "    elif n == 5:\n",
    "        print(n, \"is equal to 5\")\n",
    "    else:\n",
    "        print(n, \"is more than 5\")"
   ]
  },
  {
   "cell_type": "markdown",
   "metadata": {},
   "source": [
    "+ ```if```や```elif```の後の条件式が真であれば(　　　　　　　　　　　　)が行われる。\n",
    "+ ```if```や```elif```の後のどの条件式にも当てはまらなければ(　　　)のプログラムが行われる。\n",
    "+ 等しいことは```=```ではなく(　　　)で表現される。"
   ]
  },
  {
   "cell_type": "markdown",
   "metadata": {},
   "source": [
    "## Example 7"
   ]
  },
  {
   "cell_type": "code",
   "execution_count": null,
   "metadata": {},
   "outputs": [],
   "source": [
    "numbers = [1,2,3,4,5,6,7,8,9]\n",
    "\n",
    "print(numbers[0])\n",
    "print(numbers[3])\n",
    "print(numbers[3:5])"
   ]
  },
  {
   "cell_type": "markdown",
   "metadata": {},
   "source": [
    "+ ```[]```で囲まれたデータのことを(　　　)という。( ! )\n",
    "+ ```numbers[0]```は(　　　)番目の要素を表している。\n",
    "+ ```numbers[3]```は(　　　)番目の要素を表している。\n",
    "+ ```numbers[3:5]```は(　　　)番目から(　　　)番目の要素を抜き出している。"
   ]
  },
  {
   "cell_type": "markdown",
   "metadata": {},
   "source": [
    "## Example 8"
   ]
  },
  {
   "cell_type": "code",
   "execution_count": null,
   "metadata": {},
   "outputs": [],
   "source": [
    "def add(a, b):\n",
    "    c = a + b\n",
    "    return c\n",
    "\n",
    "x = add(1, 2)\n",
    "y = add(3, 5)\n",
    "\n",
    "print(\"x is\", x)\n",
    "print(\"y is\", y)"
   ]
  },
  {
   "cell_type": "markdown",
   "metadata": {},
   "source": [
    "+ ```def```の後に設定した名前で、段落内の機能を持った自作の(　　　)を作った。( ! )\n",
    "+ ```return```は(　　　　　　　　　　　　　　　　　　　)。"
   ]
  },
  {
   "cell_type": "markdown",
   "metadata": {},
   "source": [
    "## Example 9"
   ]
  },
  {
   "cell_type": "code",
   "execution_count": null,
   "metadata": {},
   "outputs": [],
   "source": [
    "def multi_three(numbers):\n",
    "    for n in numbers:\n",
    "        if n%3 == 0: # nを3で割った余りが0ならば\n",
    "            print(n, \"is a multiple of 3.\")\n",
    "\n",
    "multi_three([3,4,5,6])"
   ]
  },
  {
   "cell_type": "markdown",
   "metadata": {},
   "source": [
    "+ ```#```は(　　　　　　　　　)と言ってプログラムから(　　　　　)される。 ( ! )\n",
    "+ ```in```の後にあるリストは、(　　　)から(　　　)までの要素が順番に```n```へと代入される。"
   ]
  },
  {
   "cell_type": "markdown",
   "metadata": {},
   "source": [
    "## Example 10"
   ]
  },
  {
   "cell_type": "code",
   "execution_count": null,
   "metadata": {},
   "outputs": [],
   "source": [
    "def count_A(seq):\n",
    "    a = 0\n",
    "    for nuc in seq:\n",
    "        if nuc == \"A\": # nucがもしAならば\n",
    "            a = a + 1\n",
    "    print(\"A : \", a)\n",
    "\n",
    "count_A(\"ATGCTATAGCATGTGA\")"
   ]
  },
  {
   "cell_type": "markdown",
   "metadata": {},
   "source": [
    "+ ```in```の後にある文字列は、(　　　)から(　　　)までの文字が順番に```nuc```へと代入される。\n",
    "+ ```a = a + 1```は```a```に(　　　　　　　　　　　　)ている。"
   ]
  },
  {
   "cell_type": "markdown",
   "metadata": {},
   "source": [
    "## Example 11"
   ]
  },
  {
   "cell_type": "code",
   "execution_count": null,
   "metadata": {},
   "outputs": [],
   "source": [
    "def compare_seqs(seq1, seq2):\n",
    "    S = 0\n",
    "    for nuc1, nuc2 in zip(seq1, seq2):\n",
    "        if nuc1 != nuc2:\n",
    "            S = S + 1\n",
    "    print(S, \"sites are different.\")\n",
    "\n",
    "seq1 = \"ATGCTATAGCATGTGA\"\n",
    "seq2 = \"ATGCGATAACATGTCA\"\n",
    "compare_seqs(seq1, seq2)"
   ]
  },
  {
   "cell_type": "markdown",
   "metadata": {},
   "source": [
    "+ ```zip```は同じ長さの文字列、またはリストの要素を(　　　　　　　　　　　　)。\n",
    "+ ```!=```は２つデータが(　　　　　　)時に真となる。"
   ]
  },
  {
   "cell_type": "markdown",
   "metadata": {},
   "source": [
    "## Example 12"
   ]
  },
  {
   "cell_type": "code",
   "execution_count": null,
   "metadata": {},
   "outputs": [],
   "source": [
    "def genotype(seq1, seq2):\n",
    "    progeny = [] # 空のリストを作成\n",
    "    for nuc1, nuc2 in zip(seq1, seq2):\n",
    "        gt = nuc1 + nuc2 # genotype (0/0, 0/1, 1/1) -> (0, 1, 2)\n",
    "        progeny.append(gt)\n",
    "    return progeny\n",
    "\n",
    "from_mother = [0,0,0,1,0,1,1,0]\n",
    "from_father = [0,1,0,1,0,0,0,0]\n",
    "\n",
    "progeny = genotype(from_mother, from_father)\n",
    "print(progeny)"
   ]
  },
  {
   "cell_type": "markdown",
   "metadata": {},
   "source": [
    "+ ```append```は```.```の左にある名前のリストへ```()```の中にある要素を\b(　　　　)という機能を持つ。"
   ]
  },
  {
   "cell_type": "markdown",
   "metadata": {},
   "source": [
    "## Example 13 ( ! )"
   ]
  },
  {
   "cell_type": "code",
   "execution_count": null,
   "metadata": {},
   "outputs": [],
   "source": [
    "import numpy as np\n",
    "\n",
    "from_mother = np.array([0,0,0,1,0,1,1,0])\n",
    "from_father = np.array([0,1,0,1,0,0,0,0])\n",
    "\n",
    "progeny = from_mother + from_father\n",
    "print(progeny)"
   ]
  },
  {
   "cell_type": "markdown",
   "metadata": {},
   "source": [
    "+ ```import```することで他人の作った(　　　　　　　　　)を使うことができる。( ! )\n",
    "+ ```as```は、そのモデュールを、それ以降、```np```と略して使うことを指定している。"
   ]
  }
 ],
 "metadata": {
  "kernelspec": {
   "display_name": "Python 3",
   "language": "python",
   "name": "python3"
  },
  "language_info": {
   "codemirror_mode": {
    "name": "ipython",
    "version": 3
   },
   "file_extension": ".py",
   "mimetype": "text/x-python",
   "name": "python",
   "nbconvert_exporter": "python",
   "pygments_lexer": "ipython3",
   "version": "3.6.3"
  }
 },
 "nbformat": 4,
 "nbformat_minor": 2
}
