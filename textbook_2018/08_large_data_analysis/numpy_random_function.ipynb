{
 "cells": [
  {
   "cell_type": "markdown",
   "metadata": {},
   "source": [
    "# 二項分布 / binomial distribution\n",
    "[numpy.random.binomial](https://docs.scipy.org/doc/numpy-1.15.0/reference/generated/numpy.random.binomial.html)\n",
    "\n",
    "Usage:\n",
    "```python\n",
    "numpy.random.binomial(n, p, size=None)\n",
    "```"
   ]
  },
  {
   "cell_type": "code",
   "execution_count": null,
   "metadata": {},
   "outputs": [],
   "source": [
    "import numpy as np\n",
    "\n",
    "#--- コインを投げて表が出る確率 ---\n",
    "p = 1/2\n",
    "\n",
    "#--- コインを10回投げて、何回表が出たか調べる ---\n",
    "results_1 = np.random.binomial(n=10, p=p, size=1)\n",
    "\n",
    "#--- 結果を表示 ---\n",
    "print(results_1)"
   ]
  },
  {
   "cell_type": "code",
   "execution_count": null,
   "metadata": {},
   "outputs": [],
   "source": [
    "import matplotlib.pyplot as plt\n",
    "%matplotlib inline\n",
    "\n",
    "# 表が出た回数の最大値\n",
    "max_nums = np.max(results_1)\n",
    "\n",
    "fig = plt.figure()    \n",
    "\n",
    "plt.hist(results_1, bins=max_nums+1, range=[0,max_nums+1], rwidth=0.8)\n",
    "plt.ylabel('Counts', fontsize=16)"
   ]
  },
  {
   "cell_type": "markdown",
   "metadata": {},
   "source": [
    "# 多項分布 / multinomial distribution\n",
    "[numpy.random.multinomial](https://docs.scipy.org/doc/numpy-1.15.1/reference/generated/numpy.random.multinomial.html)\n",
    "\n",
    "Usage:\n",
    "```python\n",
    "numpy.random.multinomial(n, pvals, size=None)\n",
    "```"
   ]
  },
  {
   "cell_type": "code",
   "execution_count": null,
   "metadata": {},
   "outputs": [],
   "source": [
    "import numpy as np\n",
    "\n",
    "#--- サイコロのそれぞれの目が出る確率 ---\n",
    "# （左から1,2,...,6の目が出る確率）\n",
    "p = [1/6, 1/6, 1/6, 1/6, 1/6, 1/6]\n",
    "\n",
    "#--- 歪んだサイコロ ---\n",
    "#ratio = [1,1,1,1,1,10]\n",
    "#p = np.array(ratio)/np.sum(ratio)\n",
    "#print(p)\n",
    "\n",
    "#--- サイコロを10回振って、それぞれの目が何回出たか調べる ---\n",
    "results_2 = np.random.multinomial(n=10, pvals=p, size=1)\n",
    "\n",
    "#--- 結果を表示 ---\n",
    "print(results_2)"
   ]
  },
  {
   "cell_type": "code",
   "execution_count": null,
   "metadata": {},
   "outputs": [],
   "source": [
    "import matplotlib.pyplot as plt\n",
    "%matplotlib inline\n",
    "\n",
    "#--- 全施行の合計値 ---\n",
    "counts = results_2.sum(axis=0)\n",
    "print(counts)\n",
    "\n",
    "fig = plt.figure()    \n",
    "plt.bar([1,2,3,4,5,6], counts)\n",
    "plt.ylabel('Counts', fontsize=16)"
   ]
  },
  {
   "cell_type": "markdown",
   "metadata": {},
   "source": [
    "# ポアソン分布 /  poisson distribution\n",
    "\n",
    "[numpy.random.poisson](https://docs.scipy.org/doc/numpy-1.15.1/reference/generated/numpy.random.poisson.html)\n",
    "\n",
    "Usage:\n",
    "```python\n",
    "numpy.random.poisson(lam=1.0, size=None)\n",
    "```\n"
   ]
  },
  {
   "cell_type": "code",
   "execution_count": null,
   "metadata": {},
   "outputs": [],
   "source": [
    "import numpy as np\n",
    "\n",
    "\"\"\"\n",
    "パン生地10kgあたり400粒のレーズンを加えて0.1kgのパンを作り、\n",
    "パン1個あたりのレーズンの数の分布を調べる。\n",
    "\n",
    "1個当たり平均4個 => lam=4\n",
    "\"\"\"\n",
    "\n",
    "results_3 = np.random.poisson(lam=4, size=1)\n",
    "\n",
    "#--- 結果を表示 ---\n",
    "print(results_3)\n",
    "\n",
    "print(results_3.mean()) # シミュレーションで得られた値の平均値"
   ]
  },
  {
   "cell_type": "code",
   "execution_count": null,
   "metadata": {},
   "outputs": [],
   "source": [
    "import matplotlib.pyplot as plt\n",
    "%matplotlib inline\n",
    "\n",
    "# レーズンの数の最大値\n",
    "max_nums = np.max(results_3)\n",
    "\n",
    "fig = plt.figure()    \n",
    "plt.hist(results_3, bins=max_nums+1, range=[0,max_nums+1], rwidth=0.8)\n",
    "plt.ylabel('Counts', fontsize=16)"
   ]
  },
  {
   "cell_type": "markdown",
   "metadata": {},
   "source": [
    "# 一様分布 / uniform distribution\n",
    "- Generating random floats from a uniform distribution: [numpy.random.rand](https://docs.scipy.org/doc/numpy-1.15.1/reference/generated/numpy.random.rand.html)\n",
    "- Generating random integers from a uniform distribution: \n",
    "[numpy.random.randint](https://docs.scipy.org/doc/numpy-1.15.1/reference/generated/numpy.random.randint.html)"
   ]
  },
  {
   "cell_type": "markdown",
   "metadata": {},
   "source": [
    "# 正規分布 / normal distribution\n",
    "- Generating random floats from a univariate normal (Gaussian) distribution of mean 0 and variance 1: \n",
    "[numpy.random.randn](https://docs.scipy.org/doc/numpy-1.15.1/reference/generated/numpy.random.randn.html)\n",
    "- Generating random floats from a normal (Gaussian) distribution: [numpy.random.normal](https://docs.scipy.org/doc/numpy-1.15.0/reference/generated/numpy.random.normal.html)"
   ]
  },
  {
   "cell_type": "code",
   "execution_count": null,
   "metadata": {},
   "outputs": [],
   "source": []
  }
 ],
 "metadata": {
  "kernelspec": {
   "display_name": "Python 3",
   "language": "python",
   "name": "python3"
  },
  "language_info": {
   "codemirror_mode": {
    "name": "ipython",
    "version": 3
   },
   "file_extension": ".py",
   "mimetype": "text/x-python",
   "name": "python",
   "nbconvert_exporter": "python",
   "pygments_lexer": "ipython3",
   "version": "3.6.3"
  }
 },
 "nbformat": 4,
 "nbformat_minor": 2
}
