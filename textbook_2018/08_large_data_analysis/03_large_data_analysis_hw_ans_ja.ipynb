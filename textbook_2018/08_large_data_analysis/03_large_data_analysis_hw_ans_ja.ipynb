{
 "cells": [
  {
   "cell_type": "markdown",
   "metadata": {},
   "source": [
    "# 大規模データ解析入門 (3)　課題 - 解答例"
   ]
  },
  {
   "cell_type": "markdown",
   "metadata": {},
   "source": [
    "---\n",
    "## Exercise 1.\n",
    "__コインを20回投げて表が出た回数を記録する施行を10,000回おこなう。  \n",
    "ただし、コインの表と裏が出る確率はそれぞれ70%、30%とする。__\n",
    "\n",
    "ヒント: 実習内容 [3. シミュレーションでSNP-indexを10,000個作る](03_large_data_analysis_ja.ipynb#1.3)"
   ]
  },
  {
   "cell_type": "code",
   "execution_count": 5,
   "metadata": {},
   "outputs": [
    {
     "data": {
      "text/plain": [
       "array([14, 15, 14, ..., 15, 18, 17])"
      ]
     },
     "execution_count": 5,
     "metadata": {},
     "output_type": "execute_result"
    }
   ],
   "source": [
    "import numpy as np\n",
    "np.random.seed(100)  \n",
    "    # 常に同じデータを発生させるために書いています。\n",
    "    # seed()内の数字を変えれば、得られる結果も変わります（初期値:100）。\n",
    "\n",
    "#--- 以下にプログラムを追記してください ---\n",
    "\n",
    "omote = np.random.binomial(n=20, p=0.7, size=10000)\n",
    "\n",
    "#確認\n",
    "omote"
   ]
  },
  {
   "cell_type": "markdown",
   "metadata": {},
   "source": [
    "---\n",
    "## Exercise 2. \n",
    "__`Exercise 1`で発生させた10,000回分のデータのヒストグラムを描く。__\n",
    "\n",
    "ヒント: 実習内容 [3. シミュレーションでSNP-indexを10,000個作る](03_large_data_analysis_ja.ipynb#1.3)"
   ]
  },
  {
   "cell_type": "code",
   "execution_count": 3,
   "metadata": {},
   "outputs": [
    {
     "data": {
      "text/plain": [
       "Text(0,0.5,'Counts')"
      ]
     },
     "execution_count": 3,
     "metadata": {},
     "output_type": "execute_result"
    },
    {
     "data": {
      "image/png": "[encoded data removed]",
      "text/plain": [
       "<Figure size 648x288 with 1 Axes>"
      ]
     },
     "metadata": {},
     "output_type": "display_data"
    }
   ],
   "source": [
    "import matplotlib.pyplot as plt\n",
    "%matplotlib inline\n",
    "\n",
    "#--- 以下にプログラムを追記してください ---\n",
    "\n",
    "# グラフフィールドの設定\n",
    "fig = plt.figure(figsize=[9,4])    \n",
    "\n",
    "# ヒストグラムを描く\n",
    "plt.hist(omote, bins=10, range=[0,20], rwidth=0.8)\n",
    "        # binsで「表示するbarの数」を指定している\n",
    "        # rangeで最小値と最大値を指定している\n",
    "        # rwidthで「表示するbarの横幅」を指定している\n",
    "\n",
    "# グラフタイトル、x軸ラベル、y軸ラベル\n",
    "plt.xlabel('#omote', fontsize=16)  \n",
    "plt.ylabel('Counts', fontsize=16)"
   ]
  },
  {
   "cell_type": "markdown",
   "metadata": {},
   "source": [
    "---\n",
    "## Exercise 3.\n",
    "__`Exercise 1`で発生させた10,000回のデータのうち、表が20回出た施行は何回あったか調べる。__\n",
    "\n",
    "ヒント: 実習内容 [3. シミュレーションでSNP-indexを10,000個作る](03_large_data_analysis_ja.ipynb#1.3)\n",
    "\n",
    "答え: 9回"
   ]
  },
  {
   "cell_type": "code",
   "execution_count": 10,
   "metadata": {},
   "outputs": [
    {
     "name": "stdout",
     "output_type": "stream",
     "text": [
      "9\n"
     ]
    }
   ],
   "source": [
    "count = omote[ (omote == 20) ]\n",
    "print(len(count))"
   ]
  },
  {
   "cell_type": "markdown",
   "metadata": {},
   "source": [
    "---\n",
    "## Exercise 4.  <small>提出不要課題</small>\n",
    " \n",
    "__乱数を使って、F2集団 200個体に遺伝子型（AA, Aa, aa）を割り当てる。  \n",
    "ただし、各遺伝子型が選ばれる比率は AA : Aa : aa = 1 : 2 : 1 とする。__\n",
    "\n",
    "ヒント: [numpy.random.multinomial](https://docs.scipy.org/doc/numpy-1.15.1/reference/generated/numpy.random.multinomial.html)を使う\n",
    "\n",
    "答え: AA => 46個体, Aa => 102個体, aa => 52個体"
   ]
  },
  {
   "cell_type": "code",
   "execution_count": 35,
   "metadata": {},
   "outputs": [
    {
     "data": {
      "text/plain": [
       "array([ 46, 102,  52])"
      ]
     },
     "execution_count": 35,
     "metadata": {},
     "output_type": "execute_result"
    }
   ],
   "source": [
    "import numpy as np\n",
    "np.random.seed(100)  \n",
    "    # 常に同じデータを発生させるために書いています。\n",
    "    # seed()内の数字を変えれば、得られる結果も変わります（初期値:100）。\n",
    "\n",
    "#--- 以下にプログラムを追記してください ---\n",
    "\n",
    "genotypes = np.random.multinomial(200, pvals=[0.25,0.5,0.25], size=None)\n",
    "\n",
    "genotypes"
   ]
  },
  {
   "cell_type": "markdown",
   "metadata": {},
   "source": [
    "---\n",
    "## Exercise 5.  <small>提出不要課題</small>\n",
    "\n",
    "__`Exercise 4`で発生させた遺伝子型情報付き200個体中に含まれる`a`アリルの頻度を求める。__\n",
    "\n",
    "ヒント1: \n",
    "- AA遺伝子型の個体 => `A`アリル2個、`a`アリル0個\n",
    "- Aa遺伝子型の個体 => `A`アリル1個、`a`アリル1個\n",
    "- aa遺伝子型の個体 => `A`アリル0個、`a`アリル2個\n",
    "\n",
    "ヒント2: 200個体中には合計400個のアリルがある\n",
    "\n",
    "答え: 0.515"
   ]
  },
  {
   "cell_type": "code",
   "execution_count": 41,
   "metadata": {},
   "outputs": [
    {
     "data": {
      "text/plain": [
       "0.515"
      ]
     },
     "execution_count": 41,
     "metadata": {},
     "output_type": "execute_result"
    }
   ],
   "source": [
    "(genotypes[1] * 1 + genotypes[2] * 2) / ((genotypes[0] + genotypes[1] + genotypes[2]) * 2) "
   ]
  },
  {
   "cell_type": "markdown",
   "metadata": {},
   "source": [
    "---\n",
    "## Exercise 6.  <small>提出不要課題</small>\n",
    "\n",
    "__`Exercise 4`で発生させた遺伝子型情報付きの200個体のうち、20個体をランダムに選ぶ。__\n",
    "\n",
    "ヒント1: AA遺伝子型の個体を`0`, Aaを`1`, aaを`2`と表記し、`0`が53個、`1`が97個、`2`が50個のリストを作成する \n",
    "\n",
    "ヒント2: [numpy.random.choice](https://docs.scipy.org/doc/numpy-1.15.0/reference/generated/numpy.random.choice.html)を使う\n",
    "\n",
    "答え: AA遺伝子型(`0`) => 1個体、Aa遺伝子型(`1`) => 11個体、aa遺伝子型(`2`) => 8個体"
   ]
  },
  {
   "cell_type": "code",
   "execution_count": 55,
   "metadata": {},
   "outputs": [
    {
     "data": {
      "text/plain": [
       "array([1, 1, 1, 1, 1, 2, 1, 1, 1, 1, 2, 1, 2, 2, 1, 2, 2, 2, 2, 0])"
      ]
     },
     "execution_count": 55,
     "metadata": {},
     "output_type": "execute_result"
    }
   ],
   "source": [
    "import numpy as np\n",
    "np.random.seed(100)  \n",
    "    # 常に同じデータを発生させるために書いています。\n",
    "    # seed()内の数字を変えれば、得られる結果も変わります（初期値:100）。\n",
    "\n",
    "#--- 以下にプログラムを追記してください ---\n",
    "\n",
    "# 集団リストを作成\n",
    "pop = [0] * genotypes[0] + [1] * genotypes[1] + [2] * genotypes[2]\n",
    "\n",
    "# ２０個体を抽出（同じ個体が重複して選抜されないようにreplace=False）\n",
    "subpop = np.random.choice(pop, size=20, replace=False)\n",
    "\n",
    "# 20個体を表示\n",
    "subpop"
   ]
  },
  {
   "cell_type": "markdown",
   "metadata": {},
   "source": [
    "---\n",
    "## Exercise 7.  <small>提出不要課題</small>\n",
    "\n",
    "__`Exercise 6`で選ばれた20個体中に含まれる`a`アリルの頻度を求める。__\n",
    "\n",
    "ヒント1: Exercise 5ほぼ同じ\n",
    "\n",
    "ヒント2: [別解] Exercise 6で各遺伝子型の個体を数字で割り当てた。その数字はその個体に含まれる`a`アリルの数に等しい\n",
    "\n",
    "答え: 0.675"
   ]
  },
  {
   "cell_type": "code",
   "execution_count": 56,
   "metadata": {},
   "outputs": [
    {
     "data": {
      "text/plain": [
       "0.675"
      ]
     },
     "execution_count": 56,
     "metadata": {},
     "output_type": "execute_result"
    }
   ],
   "source": [
    "np.sum(subpop) / (len(subpop) * 2)"
   ]
  }
 ],
 "metadata": {
  "kernelspec": {
   "display_name": "Python 3",
   "language": "python",
   "name": "python3"
  },
  "language_info": {
   "codemirror_mode": {
    "name": "ipython",
    "version": 3
   },
   "file_extension": ".py",
   "mimetype": "text/x-python",
   "name": "python",
   "nbconvert_exporter": "python",
   "pygments_lexer": "ipython3",
   "version": "3.6.3"
  }
 },
 "nbformat": 4,
 "nbformat_minor": 2
}
