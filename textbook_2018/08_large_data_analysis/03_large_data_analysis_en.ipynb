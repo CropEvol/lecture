{
 "cells": [
  {
   "cell_type": "markdown",
   "metadata": {},
   "source": [
    "# Introduction to Large Data Analysis (3)\n",
    "Simulation and evaluation of the observerd data\n",
    "\n",
    "## Contents\n",
    "### Introduction\n",
    "- [About previous practices](#0.1)\n",
    "- [About sample data](#0.2)\n",
    "- [About this practices](#0.3)\n",
    "\n",
    "### Practice\n",
    "1. [Generating one SNP-index by simulation](#1.1)\n",
    "1. [Generating 10 SNP-indexes by simulation](#1.2)\n",
    "1. [Generating 10,000 SNP-indexes by simulation](#1.3)\n",
    "1. [Is the observed SNP-index frequently obtained under null hypothesis?](#1.4)\n",
    "1. [Identification of genomic region including causal gene](#1.5)"
   ]
  },
  {
   "cell_type": "markdown",
   "metadata": {},
   "source": [
    "---\n",
    "## About previous practice<a name=\"0.1\"></a>\n",
    "\n",
    "Looking back on [the previous practices](../07_large_data_analysis/02_large_data_analysis_en.ipynb)\n",
    "- Loading a tab-delimited text file as pandas dataframe\n",
    "    - ```python\n",
    "        import pandas as pd\n",
    "        df = pd.read_csv(<File name>, sep='\\t', header=<header line No.>, names=[List of column names])\n",
    "        ```\n",
    "- Accessing to an arbitrary data\n",
    "    - `df[column name]` => Extracting data of one column\n",
    "    - `df.loc[row names, column names]` => Extracting data of one or some rows and/or columns\n",
    "    - `df.iloc[row No., column No.]` => Extracting data of one or some rows and/or columns\n",
    "- Calculating each data between two columns and adding the calculated data as new column to the dataframe \n",
    "    - `df[column C] = df[column A] + df[column B]`\n",
    "- Extracting the subset of dataframe by condition\n",
    "    - `df[ (condition) ]`\n",
    "    - AND condition(`&`)、OR condition(`|`)\n",
    "    - ex. `df[ (df['snp_index'] >= 0.7) & (df['snp_index'] < 0.9) ]`\n",
    "- Drawing the scatter plot\n",
    "    - Drawing the graph by using \"Matplotlib\" library\n",
    "    - The graph is composed some layers.  \n",
    "    - ```python\n",
    "        %matplotlib inline\n",
    "        import matplotlib.pyplot as plt  # preparing matplotlib\n",
    "        \n",
    "        fig = plt.figure()  # graph field\n",
    "        plt.scatter([data of x-axis], [data of y-axis])  # scatter plot\n",
    "        plt.title('title of the graph')\n",
    "        plt.xlabel('label of x-axis')\n",
    "        plt.ylabel('label of y-axis')\n",
    "        ```\n",
    "- Sliding window analyisis"
   ]
  },
  {
   "cell_type": "markdown",
   "metadata": {},
   "source": [
    "## About sample data<a name=\"0.2\"></a>\n",
    "\n",
    "We use the data file of MutMap (Abe et al., 2012), same to the previous one.\n",
    "\n",
    "Please run the below cell once, \n",
    "- To download the file of sample data\n",
    "- To loading the file as pandas dataframe\n",
    "- To calculate SNP-index and add the calculated data as new column"
   ]
  },
  {
   "cell_type": "code",
   "execution_count": null,
   "metadata": {},
   "outputs": [],
   "source": [
    "\"\"\"\n",
    "*** IMPORTANT ***\n",
    "Run this cell before this practice.\n",
    "\"\"\"\n",
    "!wget -q https://raw.githubusercontent.com/CropEvol/lecture/master/data/mutmap_bulk.txt -O mutmap_bulk.txt\n",
    "    \n",
    "#--- Preparing pandas  ---\n",
    "import pandas as pd\n",
    "\n",
    "#--- Loading file ---\n",
    "dataset = 'mutmap_bulk.txt'       \n",
    "df = pd.read_csv(dataset, sep=\"\\t\", header=-1, names=['chr', 'pos', 'ref_nucl', 'alt_nucl', 'ref_N', 'alt_N'])\n",
    "\n",
    "#--- Calculating SNP-index & Adding new column---\n",
    "df['snp_index'] = df['alt_N'] / (df['ref_N'] + df['alt_N'])\n",
    "\n",
    "#--- Show (only first10 data) ---\n",
    "df.head(10)"
   ]
  },
  {
   "cell_type": "markdown",
   "metadata": {},
   "source": [
    "## About this practice<a name=\"0.3\"></a>\n",
    "\n",
    "To identify the region of causal gene for mutant phenotype (pale green leaf), we do simulation of SNP-index generated under null hypothesis, and evaluate the observed SNP-indexes by using the simulated data.\n",
    "\n",
    "<div style=\"margin-bottom: 5px;\"><img src=\"https://github.com/CropEvol/lecture/blob/master/images/08/simulation01_en.jpg?raw=true\" alt=\"simulation\"></div>"
   ]
  },
  {
   "cell_type": "markdown",
   "metadata": {},
   "source": [
    "---\n",
    "## Practice\n",
    "We use only one data (data of first row) in Practice 1-4.\n",
    "\n",
    "First row => `chr10\t51406\tG\tA\t6\t3\t0.333333`"
   ]
  },
  {
   "cell_type": "code",
   "execution_count": null,
   "metadata": {},
   "outputs": [],
   "source": [
    "# Extracting first row (0th row)\n",
    "onedata = df.iloc[0,:]\n",
    "\n",
    "# SNP-index data in the row into the variable \"mysnpindex\"\n",
    "# （This variable is used in STEP 4）\n",
    "mysnpindex = onedata['snp_index']\n",
    "\n",
    "# Show\n",
    "onedata"
   ]
  },
  {
   "cell_type": "markdown",
   "metadata": {},
   "source": [
    "In sample data, nine nucleotides from bulked NGS reads of F2 individuals are on the 51406 bp of chromosome 10.\n",
    "Of nine nucleotides, six are `G` derived from the original line, three are `A` derived from the mutant line.\n",
    "\n",
    "<div style=\"margin-bottom: 5px;\"><img src=\"https://github.com/CropEvol/lecture/blob/master/images/08/simulation02_en.jpg?raw=true\" alt=\"simulation\"></div>\n",
    "\n",
    "__Question: What is the probability of obtaining six \"G\" and three \"A\" from nine nucleotides?__  \n",
    "(Condition: Two nucleotides `G` and` A` are obtained with a 50% chance.)"
   ]
  },
  {
   "cell_type": "markdown",
   "metadata": {},
   "source": [
    "### 1. Generating one SNP-index by simulation<a name=\"1.1\"></a>"
   ]
  },
  {
   "cell_type": "code",
   "execution_count": null,
   "metadata": {},
   "outputs": [],
   "source": [
    "import numpy as np  # NumPy library\n",
    "\n",
    "### Total number of alleles\n",
    "total_allele_num = 9\n",
    "\n",
    "### Simulating how many mutant alleles are selected.\n",
    "### Selection of mutant allele is according to the binomial distribution. \n",
    "\n",
    "simu_mut_num = np.random.binomial(n=total_allele_num, p=0.5)\n",
    "print(simu_mut_num)\n",
    "\n",
    "\n",
    "### Calculating SNP-index from number of mutant alleles obtained by simulation.\n",
    "### Formula: number of mutant alleles　/ total number of alleles\n",
    "\n",
    "#simu_snp_index = simu_mut_num / total_allele_num\n",
    "#print(simu_snp_index)"
   ]
  },
  {
   "cell_type": "markdown",
   "metadata": {},
   "source": [
    "### 2. Generating 10 SNP-indexes by simulation<a name=\"1.2\"></a>"
   ]
  },
  {
   "cell_type": "code",
   "execution_count": null,
   "metadata": {},
   "outputs": [],
   "source": [
    "\"\"\"\n",
    "Method 1: using \"for\" （Bad method）\n",
    "\"\"\"\n",
    "\n",
    "import numpy as np  # NumPy library\n",
    "\n",
    "### Total number of alleles\n",
    "total_allele_num = 9\n",
    "\n",
    "### Preparing list for simulated SNP-indexes and number of mutant alleles\n",
    "simu_mut_nums = []\n",
    "simu_snp_indexes = []\n",
    "\n",
    "### Repeating10 times\n",
    "for i in range(10):\n",
    "    \n",
    "    ### Simulating how many mutant alleles are selected.\n",
    "    simu_mut_num = np.random.binomial(n=total_allele_num, p=0.5)\n",
    "    \n",
    "    ### Calculating SNP-index\n",
    "    simu_snp_index = simu_mut_num / total_allele_num\n",
    "    \n",
    "    ### Adding value to list\n",
    "    simu_mut_nums.append(simu_mut_num)\n",
    "    simu_snp_indexes.append(simu_snp_index)\n",
    "\n",
    "### Show\n",
    "print(simu_mut_nums)\n",
    "print(simu_snp_indexes)"
   ]
  },
  {
   "cell_type": "code",
   "execution_count": null,
   "metadata": {},
   "outputs": [],
   "source": [
    "\"\"\"\n",
    "Method 2: using argument of numpy.random.binomial （Good method）\n",
    "\"\"\"\n",
    "\n",
    "import numpy as np  # NumPy library\n",
    "\n",
    "### Total number of alleles\n",
    "total_allele_num = 9\n",
    "\n",
    " ### Simulating how many mutant alleles are selected. (10 times)\n",
    "simu_mut_num = np.random.binomial(n=total_allele_num, p=0.5, size=10)\n",
    "print(simu_mut_num) # Show\n",
    "\n",
    "### Calculating SNP-index\n",
    "simu_snp_index = simu_mut_num / total_allele_num\n",
    "print(simu_snp_index) # Show"
   ]
  },
  {
   "cell_type": "markdown",
   "metadata": {},
   "source": [
    "#### Appendix: Data-type \"LIST\" adn \"NumPy array\"\n",
    "- NumPy array can be calculated each values between two arrays.\n",
    "- LIST cannot be calculated each values between two lists."
   ]
  },
  {
   "cell_type": "code",
   "execution_count": null,
   "metadata": {},
   "outputs": [],
   "source": [
    "# Check data type & Difference between LIST and  NumPy array\n",
    "\n",
    "import numpy as np\n",
    "\n",
    "a = [1,2,3,4]\n",
    "b = np.array([1,2,3,4])\n",
    "\n",
    "# Checking data type by using the function \"type()\"\n",
    "print('a:', a, '  data-type: ', type(a))\n",
    "print('b:', b, '  data-type: ', type(b))\n",
    "\n",
    "print('---')\n",
    "print(a + a) # joining two list\n",
    "print(b + b) # adding each values\n",
    "\n",
    "print('---')\n",
    "print(a * 5) # duplicating the list and joining them\n",
    "print(b * 5) # multiplicating to each values"
   ]
  },
  {
   "cell_type": "markdown",
   "metadata": {},
   "source": [
    "### 3. Generating 10,000 SNP-indexes by simulation<a name=\"1.3\"></a>\n",
    "\n",
    "To generate 10,000 SNP-indexes, please change the below program."
   ]
  },
  {
   "cell_type": "code",
   "execution_count": null,
   "metadata": {},
   "outputs": [],
   "source": [
    "import numpy as np  # NumPy library\n",
    "\n",
    "### Total number of alleles\n",
    "total_allele_num = 9\n",
    "\n",
    " ### Simulating how many mutant alleles are selected. \n",
    "simu_mut_num = np.random.binomial(n=total_allele_num, p=0.5, size=10)\n",
    "print(simu_mut_num) # Show\n",
    "\n",
    "### Calculating SNP-index\n",
    "simu_snp_index = simu_mut_num / total_allele_num\n",
    "print(simu_snp_index) # Show"
   ]
  },
  {
   "cell_type": "markdown",
   "metadata": {},
   "source": [
    "Let's draw a histgram of 10,000 simulated SNP-indexes. "
   ]
  },
  {
   "cell_type": "code",
   "execution_count": null,
   "metadata": {},
   "outputs": [],
   "source": [
    "# Preparing matplotlib\n",
    "import matplotlib.pyplot as plt\n",
    "%matplotlib inline\n",
    "\n",
    "# Graph field\n",
    "fig = plt.figure(figsize=[9,4])    \n",
    "\n",
    "# Drawing histgram\n",
    "plt.hist(simu_snp_index, bins=10, range=[0.0,1.0], rwidth=0.8)\n",
    "        # bins: Specifing the number of bars\n",
    "        # range: Specifing the min and max values of x-axis\n",
    "        # rwidth: Specifing the width of bar\n",
    "\n",
    "# title, x-label, y-label\n",
    "plt.title('Histgram of 10,000 simulated SNP-index', fontsize=16)\n",
    "plt.xlabel('SNP-index', fontsize=16)  \n",
    "plt.ylabel('Counts', fontsize=16)"
   ]
  },
  {
   "cell_type": "markdown",
   "metadata": {},
   "source": [
    "How many values are in the bar including SNP-index=0.333 ?"
   ]
  },
  {
   "cell_type": "code",
   "execution_count": null,
   "metadata": {},
   "outputs": [],
   "source": [
    "# Extracting values in the bar of  0.3-0.4 range\n",
    "bar_vals = simu_snp_index[ (simu_snp_index >= 0.3) & (simu_snp_index < 0.4)]\n",
    "print(bar_vals)\n",
    "\n",
    "# Counting values and calculating the frequency\n",
    "bar_counts = len(bar_vals)\n",
    "print(bar_counts)\n",
    "print(bar_counts / 10000)"
   ]
  },
  {
   "cell_type": "markdown",
   "metadata": {},
   "source": [
    "Question: What is the probability of obtaining six \"G\" and three \"A\" from nine nucleotides?\n",
    "\n",
    "Answer: The probability is same as the frequency calculated in upper cell."
   ]
  },
  {
   "cell_type": "markdown",
   "metadata": {},
   "source": [
    "### Appendix: Obtaining the probability from the equation of binomial theorem\n",
    "We can also obtain the probability from the equation of binomial theorem.\n",
    "\n",
    "$$\n",
    "P[X=k] = {}_n\\mathrm{C}_k p^k (1-p)^{n-k} = \\dfrac {n!}{k! (n-k)!} p^k (1-p)^{n-k} \n",
    "$$\n"
   ]
  },
  {
   "cell_type": "code",
   "execution_count": null,
   "metadata": {},
   "outputs": [],
   "source": [
    "import math\n",
    "\n",
    "P = math.factorial(9) / (math.factorial(3) * math.factorial(6)) * 0.5**3 * 0.5 **6\n",
    "\n",
    "P"
   ]
  },
  {
   "cell_type": "markdown",
   "metadata": {},
   "source": [
    "### 4. Is the observed SNP-index frequently obtained under null hypothesis?<a name=\"1.4\"></a>\n",
    "\n",
    "We generate SNP-index under null hypothesis in this simulation.  \n",
    "```text\n",
    "The null hypothesis is that the SNP locus is not linked to mutant phenotype.\n",
    "```\n",
    "\n",
    "If one observed SNP-index is rarely obtained under the null hypothesis, we can reject the null hypothesis.\n",
    "The SNP locus is probably linked to mutant phenotype.\n",
    "\n",
    "In practice ３, we obtained the result that `SNP-index=0.333` is generated by probability of about 16%.\n",
    "\n",
    "Here, we will verify that the SNP-index is included in whether the top 5% region on distribution or not.\n",
    "\n",
    "#### procedure of this analysis\n",
    "1. Sorting 10,000 simulated values.\n",
    "1. Getting value of top 95% position.\n",
    "1. Comparing the value and the observed value.\n",
    "1. If the observed value is more than value of top 95% position, we reject the null hypothesis.  \n",
    "    However if the observed value is NOT more than value of top 95% position, we adopt the null hypothesis.  \n",
    "    \n",
    "<div style=\"margin-bottom: 5px;\"><img src=\"https://github.com/CropEvol/lecture/blob/master/images/08/simulation03_en.jpg?raw=true\" alt=\"simulation\"></div>"
   ]
  },
  {
   "cell_type": "code",
   "execution_count": null,
   "metadata": {},
   "outputs": [],
   "source": [
    "import numpy as np\n",
    "\n",
    "# Show the observed SNP-index\n",
    "print('Observed SNP-index: ', mysnpindex)\n",
    "\n",
    "# 1) Sorting 10,000 simulated values AND\n",
    "# 2) Getting value of top 95% position\n",
    "get_snp_index  = np.percentile(simu_snp_index, 95, interpolation='lower')\n",
    "\n",
    "# Show the SNP-index of top 95% position\n",
    "print('SNP-index of threshold: ', get_snp_index)\n",
    "\n",
    "# 3) Comparing the value and the observed value\n",
    "if get_snp_index < mysnpindex:\n",
    "    # 4.1) If the observed value is more than value of top 95% position\n",
    "    print('Rejecting the null hypothesis') \n",
    "else:\n",
    "    # 4.1) If the observed value is NOT more than value of top 95% position\n",
    "    print('Adopting the null hypothesis')"
   ]
  },
  {
   "cell_type": "markdown",
   "metadata": {},
   "source": [
    "### 5. Identification of genomic region including causal gene<a name=\"1.5\"></a>\n",
    "\n",
    "Next, we do simulation at all loci."
   ]
  },
  {
   "cell_type": "code",
   "execution_count": null,
   "metadata": {},
   "outputs": [],
   "source": [
    "import numpy as np\n",
    "\n",
    "#=== Function for simulation of SNP-index ===\n",
    "def snp_index_simulation(df, ref_colname, alt_colname, trials=10000):\n",
    "    \"\"\"\n",
    "    Function for simulattion of SNP-index\n",
    "    \n",
    "    Arguments:\n",
    "    - df : Dataframe （neccessary）\n",
    "    - ref_colname: Column name of original alleles（neccessary）\n",
    "    - alt_colname: Column name of mutant alleles（neccessary）\n",
    "    - trials : Number of SNP-index generated in one locus （default:10000）\n",
    "    \n",
    "    Return: Dataframe with column of simulated values\n",
    "    \"\"\"\n",
    "    \n",
    "    # Function for simulation in one locus\n",
    "    def one_locus_simulation(allele_num):\n",
    "        # Selecting alleles\n",
    "        simu_allele_nums  = np.random.binomial(n=allele_num, p=0.5, size=trials)\n",
    "        # Calculating SNP-index\n",
    "        simu_snp_index = simu_allele_nums / allele_num\n",
    "        # Value of top 95% positoin (Return)\n",
    "        get_val  = np.percentile(simu_snp_index, 95, interpolation='lower')\n",
    "        return get_val\n",
    "    \n",
    "    # Total number of alleles\n",
    "    total = df[ref_colname] + df[alt_colname]\n",
    "    \n",
    "    # Doing simulation\n",
    "    df['simu95'] = total.map(one_locus_simulation)\n",
    "    \n",
    "    # Return\n",
    "    return df\n",
    "\n",
    "\n",
    "#=== Main ===\n",
    "df2 = snp_index_simulation(df, ref_colname='ref_N', alt_colname='alt_N', trials=10000)\n",
    "\n",
    "# Show\n",
    "df2"
   ]
  },
  {
   "cell_type": "markdown",
   "metadata": {},
   "source": [
    "Let's do sliding window analysis for the observed SNP-index and the SNP-index of top 95% position, and draw the graph."
   ]
  },
  {
   "cell_type": "code",
   "execution_count": null,
   "metadata": {},
   "outputs": [],
   "source": [
    "import matplotlib.pyplot as plt\n",
    "%matplotlib inline\n",
    "\n",
    "#=== Function for Sliding window analysis ===\n",
    "def sliding_window(df, pos_colname, val_colname, winsize=1000000, stepsize=200000, chromsize=None):\n",
    "    \"\"\"\n",
    "    Function for Sliding window analysis\n",
    "    \n",
    "    Arguments:\n",
    "    - df : Dataframe （neccessary）\n",
    "    - pos_colname: Column name of chromsome position （neccessary） => values of x-axis\n",
    "    - val_colname: Column name of values you want to analyze（neccessary） => values of y-axis\n",
    "    - winsize :  Window size（default: 1Mb）\n",
    "    - stepsize : Step size（default: 0.2Mb）\n",
    "    - chromsize : Chromosome size（neccessary）\n",
    "    \n",
    "    Returns: \n",
    "    - List of medians of each windows \n",
    "    - List of averages of SNP-indexes in each windows\n",
    "    \"\"\"   \n",
    "    \n",
    "    win_position  = []  # List of medians of chromosome position\n",
    "    win_snpindex = []  # List of averages of SNP-indexes\n",
    "\n",
    "    n = 0 # repeat No.\n",
    "    while True:\n",
    "        #--- start and end position of window ---\n",
    "        start = stepsize * n \n",
    "        end   = start + winsize\n",
    "        #--- median position of window ---\n",
    "        p = (start + end) / 2\n",
    "        win_position.append(p)\n",
    "        #--- Extracting dataset in window ---\n",
    "        sub = df[(df[pos_colname] >= start) & (df[pos_colname] < end)]\n",
    "        #--- Calculating average of SNP-index ---\n",
    "        i = sub[val_colname].mean()\n",
    "        win_snpindex.append(i)\n",
    "        #--- repeat No. +1 ---\n",
    "        n += 1\n",
    "        \n",
    "        #--- stop and get out this looping ---\n",
    "        if end > chromsize:\n",
    "            break\n",
    "    \n",
    "    return win_position, win_snpindex\n",
    "\n",
    "\n",
    "#=== Main ===\n",
    "CHROM_SIZE = 23207287  # Length of Chromosome 10\n",
    "WIN_SIZE = 1000000 # 1Mb\n",
    "STEP_SIZE = 200000  # 0.2Mb\n",
    "\n",
    "# Sliding window analysis for the observed SNP-indexes\n",
    "win_pos, win_snpidx = sliding_window(\n",
    "    df2, \n",
    "    pos_colname='pos', \n",
    "    val_colname='snp_index', \n",
    "    winsize=WIN_SIZE, \n",
    "    stepsize=STEP_SIZE, \n",
    "    chromsize=CHROM_SIZE\n",
    ")\n",
    "\n",
    "# Sliding window analysis for the simulated SNP-indexes\n",
    "win_pos, win_simu95 = sliding_window(\n",
    "    df2, \n",
    "    pos_colname='pos', \n",
    "    val_colname='simu95', \n",
    "    winsize=WIN_SIZE, \n",
    "    stepsize=STEP_SIZE, \n",
    "    chromsize=CHROM_SIZE\n",
    ")\n",
    "\n",
    "#--- Drawing graph: scatter plot  ---\n",
    "fig = plt.figure(figsize=[16,9])\n",
    "plt.scatter(df2['pos'], df2['snp_index'], color='gray')      # scatter plot\n",
    "plt.xlabel('Position (x 10 Mb)', fontsize=16)  # x-label\n",
    "plt.ylabel('SNP-index', fontsize=16)                # y-label\n",
    "\n",
    "#--- Drawing graph: Siliding Window analysis --\n",
    "plt.plot(win_pos, win_snpidx, color='blue')  # the observed SNP-indexes\n",
    "plt.plot(win_pos, win_simu95, color='orange')  # the simulated SNP-indexes "
   ]
  },
  {
   "cell_type": "code",
   "execution_count": null,
   "metadata": {},
   "outputs": [],
   "source": [
    "### Getting information of the genomic region including causal gene  \n",
    "\n",
    "w_pos   = np.array(win_pos)        # medians of each windows\n",
    "w_idx    = np.array(win_snpidx)   # averages of the observed SNP-indexes\n",
    "w_simu = np.array(win_simu95) # taverages of he simulated SNP-indexes\n",
    "\n",
    "# Extracting region\n",
    "w_pos[w_idx > w_simu]"
   ]
  },
  {
   "cell_type": "markdown",
   "metadata": {},
   "source": [
    "Considering that the window's position is median, we found the candidate region is between 21,000,000 and 22,600,000 bp on chromosome 10 in rice.\n",
    "\n",
    "The region includes _Chlorophyllide a oxygenase_  (Os10t0567400) gene.  \n",
    "The gene is a candidate gene of mutant phenotype, pale green leaf (Abe et al., 2012).\n",
    "\n",
    "---\n",
    "\n",
    "### Summary\n",
    "We have learn the basis of large data analysis across three lectures.\n",
    "- Loading a file and Writing to a file\n",
    "- Calculating each values between columns\n",
    "- Drawing the graph\n",
    "- Sliding window analysis\n",
    "- Simulation and evalation of the observed data"
   ]
  },
  {
   "cell_type": "code",
   "execution_count": null,
   "metadata": {},
   "outputs": [],
   "source": []
  }
 ],
 "metadata": {
  "kernelspec": {
   "display_name": "Python 3",
   "language": "python",
   "name": "python3"
  },
  "language_info": {
   "codemirror_mode": {
    "name": "ipython",
    "version": 3
   },
   "file_extension": ".py",
   "mimetype": "text/x-python",
   "name": "python",
   "nbconvert_exporter": "python",
   "pygments_lexer": "ipython3",
   "version": "3.6.3"
  }
 },
 "nbformat": 4,
 "nbformat_minor": 2
}
