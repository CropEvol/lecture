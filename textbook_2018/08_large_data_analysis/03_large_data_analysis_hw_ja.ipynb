{
 "cells": [
  {
   "cell_type": "raw",
   "metadata": {},
   "source": [
    "学籍番号:\n",
    "氏名:"
   ]
  },
  {
   "cell_type": "markdown",
   "metadata": {},
   "source": [
    "# 大規模データ解析入門 (3)　課題"
   ]
  },
  {
   "cell_type": "markdown",
   "metadata": {},
   "source": [
    "---\n",
    "## Exercise 1.\n",
    "__コインを20回投げて表が出た回数を記録する施行を10,000回おこなう。  \n",
    "ただし、コインの表と裏が出る確率はそれぞれ70%、30%とする。__\n",
    "\n",
    "ヒント: 実習内容 [3. シミュレーションでSNP-indexを10,000個作る](03_large_data_analysis_ja.ipynb#1.3)"
   ]
  },
  {
   "cell_type": "code",
   "execution_count": null,
   "metadata": {},
   "outputs": [],
   "source": [
    "import numpy as np\n",
    "np.random.seed(100)  \n",
    "    # 常に同じデータを発生させるために書いています。\n",
    "    # seed()内の数字を変えれば、得られる結果も変わります。\n",
    "\n",
    "#--- 以下にプログラムを追記してください ---\n"
   ]
  },
  {
   "cell_type": "markdown",
   "metadata": {},
   "source": [
    "---\n",
    "## Exercise 2. \n",
    "__`Exercise 1`で発生させた10,000回分のデータのヒストグラムを描く。__\n",
    "\n",
    "ヒント: 実習内容 [3. シミュレーションでSNP-indexを10,000個作る](03_large_data_analysis_ja.ipynb#1.3)"
   ]
  },
  {
   "cell_type": "code",
   "execution_count": null,
   "metadata": {},
   "outputs": [],
   "source": [
    "import matplotlib.pyplot as plt\n",
    "%matplotlib inline\n",
    "\n",
    "#--- 以下にプログラムを追記してください ---\n"
   ]
  },
  {
   "cell_type": "markdown",
   "metadata": {},
   "source": [
    "---\n",
    "## Exercise 3.\n",
    "__`Exercise 1`で発生させた10,000回のデータのうち、表が20回出た施行は何回あったか調べる。__\n",
    "\n",
    "ヒント: 実習内容 [3. シミュレーションでSNP-indexを10,000個作る](03_large_data_analysis_ja.ipynb#1.3)\n",
    "\n",
    "答え: 9回"
   ]
  },
  {
   "cell_type": "code",
   "execution_count": null,
   "metadata": {},
   "outputs": [],
   "source": []
  },
  {
   "cell_type": "markdown",
   "metadata": {},
   "source": [
    "---\n",
    "\n",
    "## 質問・要望\n",
    "質問や要望があれば、メール本文か下のセルに書いてください。"
   ]
  },
  {
   "cell_type": "raw",
   "metadata": {},
   "source": []
  },
  {
   "cell_type": "markdown",
   "metadata": {},
   "source": [
    "\n",
    "## 課題の提出について\n",
    "\n",
    "今回の課題番号：`08`\n",
    "\n",
    "提出方法：\n",
    "1. 課題終了後のノートブックファイルをダウンロードする\n",
    "1. そのファイルをメールに添付して、下記アドレスに送信する  \n",
    "\n",
    "    __＊重要＊　  \n",
    "    メールの件名を `HW[課題番号2桁]+SID[学籍番号(4桁-2桁-４桁)]`（すべて半角英数） にしてください。__  \n",
    "    \n",
    "    例） HW08+SID1234-56-7890\n",
    "    \n",
    "\n",
    "提出先: cropevol@gmail.com\n",
    "\n",
    "提出期限: 2018年11月26日（月） 17:00まで\n",
    "\n"
   ]
  },
  {
   "cell_type": "markdown",
   "metadata": {},
   "source": [
    "---\n",
    "## Exercise 4.  <small>提出不要課題</small>\n",
    " \n",
    "__乱数を使って、F2集団 200個体に遺伝子型（AA, Aa, aa）を割り当てる。  \n",
    "ただし、各遺伝子型が選ばれる比率は AA : Aa : aa = 1 : 2 : 1 とする。__\n",
    "\n",
    "ヒント: [numpy.random.multinomial](https://docs.scipy.org/doc/numpy-1.15.1/reference/generated/numpy.random.multinomial.html)を使う\n",
    "\n",
    "答え: AA => 46個体, Aa => 102個体, aa => 52個体"
   ]
  },
  {
   "cell_type": "code",
   "execution_count": null,
   "metadata": {},
   "outputs": [],
   "source": [
    "import numpy as np\n",
    "np.random.seed(100)  \n",
    "    # 常に同じデータを発生させるために書いています。\n",
    "    # seed()内の数字を変えれば、得られる結果も変わります。\n",
    "\n",
    "#--- 以下にプログラムを追記してください ---\n"
   ]
  },
  {
   "cell_type": "markdown",
   "metadata": {},
   "source": [
    "---\n",
    "## Exercise 5.  <small>提出不要課題</small>\n",
    "\n",
    "__`Exercise 4`で発生させた遺伝子型情報付き200個体中に含まれる`a`アリルの頻度を求める。__\n",
    "\n",
    "ヒント1: \n",
    "- AA遺伝子型の個体 => `A`アリル2個、`a`アリル0個\n",
    "- Aa遺伝子型の個体 => `A`アリル1個、`a`アリル1個\n",
    "- aa遺伝子型の個体 => `A`アリル0個、`a`アリル2個\n",
    "\n",
    "ヒント2: 200個体中には合計400個のアリルがある\n",
    "\n",
    "答え: 0.515"
   ]
  },
  {
   "cell_type": "code",
   "execution_count": null,
   "metadata": {},
   "outputs": [],
   "source": []
  },
  {
   "cell_type": "markdown",
   "metadata": {},
   "source": [
    "---\n",
    "## Exercise 6.  <small>提出不要課題</small>\n",
    "\n",
    "__`Exercise 4`で発生させた遺伝子型情報付きの200個体のうち、20個体をランダムに選ぶ。__\n",
    "\n",
    "ヒント1: AA遺伝子型の個体を`0`, Aaを`1`, aaを`2`と表記し、`0`が53個、`1`が97個、`2`が50個のリストを作成する \n",
    "\n",
    "ヒント2: [numpy.random.choice](https://docs.scipy.org/doc/numpy-1.15.0/reference/generated/numpy.random.choice.html)を使う\n",
    "\n",
    "答え: AA遺伝子型(`0`) => 1個体、Aa遺伝子型(`1`) => 11個体、aa遺伝子型(`2`) => 8個体"
   ]
  },
  {
   "cell_type": "code",
   "execution_count": null,
   "metadata": {},
   "outputs": [],
   "source": [
    "import numpy as np\n",
    "np.random.seed(100)  \n",
    "    # 常に同じデータを発生させるために書いています。\n",
    "    # seed()内の数字を変えれば、得られる結果も変わります。\n",
    "\n",
    "#--- 以下にプログラムを追記してください ---\n"
   ]
  },
  {
   "cell_type": "markdown",
   "metadata": {},
   "source": [
    "---\n",
    "## Exercise 7.  <small>提出不要課題</small>\n",
    "\n",
    "__`Exercise 6`で選ばれた20個体中に含まれる`a`アリルの頻度を求める。__\n",
    "\n",
    "ヒント1: Exercise 5ほぼ同じ\n",
    "\n",
    "ヒント2: [別解] Exercise 6で各遺伝子型の個体を数字で割り当てた。その数字はその個体に含まれる`a`アリルの数に等しい\n",
    "\n",
    "答え: 0.675"
   ]
  },
  {
   "cell_type": "code",
   "execution_count": null,
   "metadata": {},
   "outputs": [],
   "source": []
  },
  {
   "cell_type": "markdown",
   "metadata": {},
   "source": [
    "MutMap法(Abe et al., 2012)では、「F2集団作成」と「各F2個体の遺伝子型作成」、「突然変異形質20個体の選抜」、「20個体中の塩基頻度」、「その塩基頻度を使ったSNP-indexの発生（実習では塩基頻度を50%として実施）」といった一連のシミュレーションを10,000回おこなっています。\n",
    "\n",
    "Exercise 4,6,7はそれぞれ以下のシミュレーション（1回分）です。\n",
    "- Exercise 4 =>「F2集団作成」と「各F2個体の遺伝子型作成」\n",
    "- Exercise 6 =>「突然変異形質20個体の選抜」\n",
    "- Exercise 7 =>「20個体中の塩基頻度」"
   ]
  },
  {
   "cell_type": "code",
   "execution_count": null,
   "metadata": {},
   "outputs": [],
   "source": []
  }
 ],
 "metadata": {
  "kernelspec": {
   "display_name": "Python 3",
   "language": "python",
   "name": "python3"
  },
  "language_info": {
   "codemirror_mode": {
    "name": "ipython",
    "version": 3
   },
   "file_extension": ".py",
   "mimetype": "text/x-python",
   "name": "python",
   "nbconvert_exporter": "python",
   "pygments_lexer": "ipython3",
   "version": "3.6.3"
  }
 },
 "nbformat": 4,
 "nbformat_minor": 2
}
