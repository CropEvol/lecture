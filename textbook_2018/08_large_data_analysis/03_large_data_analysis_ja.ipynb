{
 "cells": [
  {
   "cell_type": "markdown",
   "metadata": {},
   "source": [
    "# 大規模データ解析入門 (3)\n",
    "シミュレーションで観察データを評価する\n",
    "\n",
    "## Contents\n",
    "### Introduction\n",
    "- [前回の復習](#0.1)\n",
    "- [今回のサンプルデータ](#0.2)\n",
    "- [今回の実習](#0.3)\n",
    "\n",
    "--- \n",
    "\n",
    "### Practice\n",
    "1. [シミュレーションでSNP-indexを1個作る](#1.1)\n",
    "1. [シミュレーションでSNP-indexを10個作る](#1.2)\n",
    "1. [シミュレーションでSNP-indexを10000個作る](#1.3)\n",
    "1. [観察データは帰無仮説のもとでよく得られる値か？](#1.4)\n",
    "1. [原因遺伝子領域を特定する](#1.5)"
   ]
  },
  {
   "cell_type": "markdown",
   "metadata": {},
   "source": [
    "## 前回の復習<a name=\"0.1\"></a>\n",
    "\n",
    "前回の[実習内容](../07_large_data_analysis/02_large_data_analysis_ja.ipynb)は次のとおりです。\n",
    "- タブ区切りテキストファイルの読み込み、pandasデータフレームにする\n",
    "    - ```python\n",
    "        import pandas as pd\n",
    "        df = pd.read_csv(ファイル名, sep='区切り文字', header=ヘッダーの行番号, names=[列名のリスト])\n",
    "        ```\n",
    "- 列データ、行データ、1つのセルデータにアクセスする\n",
    "    - `df[列名]` => 列データの取り出し\n",
    "    - `df.loc[行名,列名]` => 行データや列データの取り出し\n",
    "    - `df.iloc[行番号,列番号]` => 行データや列データの取り出し\n",
    "- 列間で数値計算し、新しい列をデータフレームに追加する\n",
    "    - `df[C列] = df[A列] + df[B列]`\n",
    "- 条件を指定して、一部データのみを抽出する\n",
    "    - `df[ (条件式) ]`\n",
    "    - AND条件(`&`)、OR条件(`|`)\n",
    "    - 例) `df[ (df['snp_index'] >= 0.7) & (df['snp_index'] < 0.9) ]`\n",
    "- データをグラフ（散布図）にする\n",
    "    - 「Matplotlib」というライブラリを使って作図。\n",
    "    - 「レイヤー」と呼ばれる透明なシート一枚一枚にグラフ本体やタイトル・軸ラベルの文字が描かれている。 \n",
    "    - それらレイヤーが複数重なることで一つのグラフが出来上がっている。\n",
    "    - ```python\n",
    "        %matplotlib inline\n",
    "        import matplotlib.pyplot as plt  # matplotlibライブラリの準備\n",
    "        \n",
    "        fig = plt.figure()  # 作図フィールドの設定\n",
    "        plt.scatter([x軸データのリスト], [y軸データのリスト])  # 散布図\n",
    "        plt.title('グラフタイトル')  # グラフタイトル\n",
    "        plt.xlabel('x軸ラベル')      # x軸ラベル\n",
    "        plt.ylabel('y軸ラベル')      # y軸ラベル\n",
    "        ```\n",
    "- それらを使って、データ解析（Sliding window解析）をする\n",
    "    - ゲノム上にいくつか区間を設けて、それぞれの区間において平均値や合計値、個数を算出する解析\n",
    "    - それを折れ線グラフにすれば、ゲノム上で調べている値がどのように増減するかを視覚化できる"
   ]
  },
  {
   "cell_type": "markdown",
   "metadata": {},
   "source": [
    "## 今回のサンプルデータ<a name=\"0.2\"></a>\n",
    "\n",
    "前回までと同様に、MutMap(Abe et al., 2012)のテーブルデータを使います。  \n",
    "\n",
    "実習前に下のセルを実行してください。\n",
    "\n",
    "ファイルのダウンロードと、そのファイルを`df`という名前のpandasデータフレームに入れています。  \n",
    "また、SNP-indexを計算して、`snp_index`列として追加しています。"
   ]
  },
  {
   "cell_type": "code",
   "execution_count": null,
   "metadata": {},
   "outputs": [],
   "source": [
    "\"\"\"\n",
    "＊重要＊\n",
    "最初にこのセルを実行してください。\n",
    "サンプルファイルをダウンロードします。\n",
    "\"\"\"\n",
    "!wget -q https://raw.githubusercontent.com/CropEvol/lecture/master/data/mutmap_bulk.txt -O mutmap_bulk.txt\n",
    "    \n",
    "#--- pandasを読み込む  ---\n",
    "import pandas as pd\n",
    "\n",
    "#--- 読み込みファイル名 ---\n",
    "dataset = 'mutmap_bulk.txt'       \n",
    "\n",
    "#--- ファイルを読み込む ---\n",
    "# header=-1（列名行なし）を指定した場合、列名として通し番号が付けられます。\n",
    "# names=[リスト]とすることで、通し番号の代わりに列名を指定することが可能です。\n",
    "df = pd.read_csv(dataset, sep=\"\\t\", header=-1, names=['chr', 'pos', 'ref_nucl', 'alt_nucl', 'ref_N', 'alt_N'])\n",
    "\n",
    "#--- SNP-index計算 ---\n",
    "df['snp_index'] = df['alt_N'] / (df['ref_N'] + df['alt_N'])\n",
    "\n",
    "#--- 表示(10行分のデータのみ) ---\n",
    "df.head(10)"
   ]
  },
  {
   "cell_type": "markdown",
   "metadata": {},
   "source": [
    "## 今回の実習<a name=\"0.3\"></a>\n",
    "\n",
    "突然変異形質（葉が白くなる形質）の原因遺伝子領域の同定をより客観的におこなうために、シミュレーションにより大量のSNP-indexを得て、それらを使い観察データ（実データ）の評価をおこないます。\n",
    "\n",
    "<div style=\"margin-bottom: 5px;\"><img src=\"https://github.com/CropEvol/lecture/blob/master/images/08/simulation01_ja.jpg?raw=true\" alt=\"simulation\"></div>"
   ]
  },
  {
   "cell_type": "markdown",
   "metadata": {},
   "source": [
    "---\n",
    "## Practice\n",
    "Practice 1-4では、「0番目」のデータ（`chr10\t51406\tG\tA\t6\t3\t0.333333`）のみを取り扱います。"
   ]
  },
  {
   "cell_type": "code",
   "execution_count": null,
   "metadata": {},
   "outputs": [],
   "source": [
    "# データ抽出\n",
    "onedata = df.iloc[0,:]\n",
    "\n",
    "# SNP-indexを「mysnpindex」という変数に入れている\n",
    "# （STEP 4で使います）\n",
    "mysnpindex = onedata['snp_index']\n",
    "\n",
    "# 表示\n",
    "onedata"
   ]
  },
  {
   "cell_type": "markdown",
   "metadata": {},
   "source": [
    "サンプルデータでは、chromosome 10の51406番目の塩基上には、9個の塩基がのっています。  \n",
    "そのうち、6個がオリジナル塩基`G`で、３個が突然変異により生じた塩基`A`です。\n",
    "\n",
    "<div style=\"margin-bottom: 5px;\"><img src=\"https://github.com/CropEvol/lecture/blob/master/images/08/simulation02_ja.jpg?raw=true\" alt=\"simulation\"></div>\n",
    "\n",
    "__問: 9個の塩基のうち、`G`が6個、`A`が3個得られる確率はどのぐらいか？__  \n",
    "\n",
    "ここでは、次の条件下で、10,000個のSNP-indexをシミュレーションで発生させて、「９個の塩基のうち、`G`が6個、`A`が3個得られる確率」を調べてみましょう。\n",
    "\n",
    "__条件: 2つの塩基（`G`と`A`）がそれぞれ50%の確率で得られる。__"
   ]
  },
  {
   "cell_type": "markdown",
   "metadata": {},
   "source": [
    "実際のMutMap法（Abe et al., 2012）では、もう少し多くシミュレーションをおこなっています（注1）。  \n",
    "\n",
    "ここではかなり単純化させたシミュレーションをおこなうため、2つの塩基それぞれが選ばれる確率を「50%」としています。  \n",
    "これは、MutMap法において形質にかかわる遺伝子から遠く離れた塩基座位では、ほぼ50%の確率で対立する2つの塩基が後代（F2世代）に伝わっていると期待されるためです。\n",
    "\n",
    "したがって、このシミュレーションで発生させるSNP-indexは、「形質と無関係な塩基座位で得られるSNP-index」です（帰無仮説）。  \n",
    "\n",
    "実際に観察されたSNP-index（実データ）が、この帰無仮説の下ではめったに発生しないSNP-index（多くの場合、分布の端の5%以下でしか得られないSNP-index）であった場合、帰無仮説を棄却し「形質と無関係な塩基座位」ではないと判定します。\n",
    "\n",
    "（注1） MutMap法では、「F2集団作成」と「各F2個体の遺伝子型作成」、「突然変異形質20個体の選抜」、「20個体中の塩基頻度」、「その塩基頻度を使ったSNP-indexの発生（今回の実習では塩基頻度を50%に固定）」といった一連のシミュレーションを10,000回おこなっています。"
   ]
  },
  {
   "cell_type": "markdown",
   "metadata": {},
   "source": [
    "### 1. シミュレーションでSNP-indexを1個作る<a name=\"1.1\"></a>\n",
    "\n",
    "まずは1個のSNP-indexをシミュレーションで発生させてみましょう。"
   ]
  },
  {
   "cell_type": "code",
   "execution_count": null,
   "metadata": {},
   "outputs": [],
   "source": [
    "import numpy as np  # NumPyライブラリ\n",
    "\n",
    "# 何個の塩基を発生させるか（=合計塩基数）\n",
    "total_allele_num = 9\n",
    "\n",
    "# 二項分布にしたがう場合、突然変異塩基が何個選ばれるかシミュレーションする\n",
    "simu_mut_num = np.random.binomial(n=total_allele_num, p=0.5)\n",
    "print(simu_mut_num)\n",
    "\n",
    "# シミュレーションで得られた突然変異塩基の個数から、SNP-indexを求める。\n",
    "# 計算式: 突然変異塩基数　/ 合計塩基数\n",
    "#simu_snp_index = simu_mut_num / total_allele_num\n",
    "#print(simu_snp_index)"
   ]
  },
  {
   "cell_type": "markdown",
   "metadata": {},
   "source": [
    "### 2. シミュレーションでSNP-indexを10個作る<a name=\"1.2\"></a>\n",
    "次に10個のSNP-indexを発生させてみましょう。"
   ]
  },
  {
   "cell_type": "code",
   "execution_count": null,
   "metadata": {},
   "outputs": [],
   "source": [
    "\"\"\"\n",
    "方法1: for文を使う （Bad method）\n",
    "\"\"\"\n",
    "\n",
    "import numpy as np  # NumPyライブラリ\n",
    "\n",
    "# 何個の塩基を発生させるか（=合計塩基数）\n",
    "total_allele_num = 9\n",
    "\n",
    "# 発生させた値を入れるリスト\n",
    "simu_mut_nums = []\n",
    "simu_snp_indexes = []\n",
    "\n",
    "# 10回シミュレーションする\n",
    "for i in range(10):\n",
    "    # 二項分布にしたがう場合、突然変異塩基が何個選ばれるかシミュレーションする\n",
    "    simu_mut_num = np.random.binomial(n=total_allele_num, p=0.5)\n",
    "\n",
    "    # シミュレーションで得られた突然変異塩基の個数から、SNP-indexを求める。\n",
    "    # 計算式: 突然変異塩基数　/ 合計塩基数\n",
    "    simu_snp_index = simu_mut_num / total_allele_num\n",
    "    \n",
    "    #　リストに追加\n",
    "    simu_mut_nums.append(simu_mut_num)\n",
    "    simu_snp_indexes.append(simu_snp_index)\n",
    "\n",
    "# 表示\n",
    "print(simu_mut_nums)\n",
    "print(simu_snp_indexes)"
   ]
  },
  {
   "cell_type": "code",
   "execution_count": null,
   "metadata": {},
   "outputs": [],
   "source": [
    "\"\"\"\n",
    "方法2: numpy.random.binomial()の引数sizeを使う （Good method）\n",
    "\"\"\"\n",
    "\n",
    "import numpy as np  # NumPyライブラリ\n",
    "\n",
    "# 何個の塩基を発生させるか（=合計塩基数）\n",
    "total_allele_num = 9\n",
    "\n",
    "# 二項分布にしたがう場合、突然変異塩基が何個選ばれるかシミュレーションする\n",
    "# そのシミュレーションを10回おこなう\n",
    "simu_mut_num = np.random.binomial(n=total_allele_num, p=0.5, size=10)\n",
    "print(simu_mut_num)\n",
    "\n",
    "# シミュレーションで得られた突然変異塩基の個数から、SNP-indexを求める。\n",
    "# 計算式: 突然変異塩基数　/ 合計塩基数\n",
    "simu_snp_index = simu_mut_num / total_allele_num\n",
    "print(simu_snp_index)"
   ]
  },
  {
   "cell_type": "markdown",
   "metadata": {},
   "source": [
    "#### 補足: リスト型とNumPy配列型\n",
    "NumPyの配列（リストみたいなデータ型）は、ある値をすべての要素に対して掛けたり、割ったりすることが可能です。\n",
    "（これは「ブロードキャスト」と言われる機能です。詳しく知りたい方は調べてみてください）\n",
    "\n",
    "これまで習ってきた「リスト型」にはブロードキャスト機能はありません。\n",
    "\n",
    "実際の大規模データを扱う際、実行速度が非常に重要になってきます。\n",
    "\n",
    "データ型は、リスト型 <=> NumPy配列型 と相互に変換可能なので、\n",
    "データの追加・削除時には「リスト型」、計算時には「NumPy配列型」、\n",
    "といった使い分けが実行速度をあげるポイントになってきます。\n",
    "\n",
    "＊ データの追加・削除は「リスト型」のほうが得意（速い）です。"
   ]
  },
  {
   "cell_type": "code",
   "execution_count": null,
   "metadata": {},
   "outputs": [],
   "source": [
    "# データ型の調べ方とその違い\n",
    "\n",
    "import numpy as np\n",
    "\n",
    "a = [1,2,3,4]\n",
    "b = np.array([1,2,3,4])\n",
    "\n",
    "# データ型はtype()で調べることが可能\n",
    "print('a:', a, '  data-type: ', type(a))\n",
    "print('b:', b, '  data-type: ', type(b))\n",
    "\n",
    "print('---')\n",
    "print(a + a) # joining two list\n",
    "print(b + b) # adding each values\n",
    "\n",
    "print('---')\n",
    "print(a * 5) # duplicating the list and joining them\n",
    "print(b * 5) # multiplicating to each values"
   ]
  },
  {
   "cell_type": "markdown",
   "metadata": {},
   "source": [
    "### 3. シミュレーションでSNP-indexを10,000個作る<a name=\"1.3\"></a>\n",
    "\n",
    "以下のプログラムをSNP-index 10,000個用に変更してください。  \n",
    "（初期状態は「2. シミュレーションでSNP-indexを10個作る」の方法2のプログラムです）"
   ]
  },
  {
   "cell_type": "code",
   "execution_count": null,
   "metadata": {},
   "outputs": [],
   "source": [
    "\"\"\"\n",
    "!!! 実習 !!!\n",
    "10,000個のSNP-indexを発生させるプログラムにするために、\n",
    "以下のプログラムのどこかを変更してください。\n",
    "\"\"\"\n",
    "\n",
    "import numpy as np  # NumPyライブラリ\n",
    "\n",
    "# 何個の塩基を発生させるか（=合計塩基数）\n",
    "total_allele_num = 9\n",
    "\n",
    "# 二項分布にしたがう場合、突然変異塩基が何個選ばれるかシミュレーションする\n",
    "# 10回分のシミュレーションをおこなう\n",
    "simu_mut_num = np.random.binomial(n=total_allele_num, p=0.5, size=10)\n",
    "print(simu_mut_num)\n",
    "\n",
    "# シミュレーションで得られた突然変異塩基の個数から、SNP-indexを求める。\n",
    "# 計算式: 突然変異塩基数　/ 合計塩基数\n",
    "simu_snp_index = simu_mut_num / total_allele_num\n",
    "print(simu_snp_index)"
   ]
  },
  {
   "cell_type": "markdown",
   "metadata": {},
   "source": [
    "発生させたSNP-indexの分布（ヒストグラム）を描いてみましょう。  \n",
    "上のセルで正しくプログラムを変更できていれば、変数`simu_snp_index`に10,000個のSNP-indexが入っています。  "
   ]
  },
  {
   "cell_type": "code",
   "execution_count": null,
   "metadata": {},
   "outputs": [],
   "source": [
    "# matplotlibを準備\n",
    "import matplotlib.pyplot as plt\n",
    "%matplotlib inline\n",
    "\n",
    "# グラフフィールドの設定\n",
    "fig = plt.figure(figsize=[9,4])    \n",
    "\n",
    "# ヒストグラムを描く\n",
    "plt.hist(simu_snp_index, bins=10, range=[0.0,1.0], rwidth=0.8)\n",
    "        # binsで「表示するbarの数」を指定している\n",
    "        # rangeで最小値と最大値を指定している\n",
    "        # rwidthで「表示するbarの横幅」を指定している\n",
    "\n",
    "# グラフタイトル、x軸ラベル、y軸ラベル\n",
    "plt.title('Histgram of 10,000 simulated SNP-index', fontsize=16)\n",
    "plt.xlabel('SNP-index', fontsize=16)  \n",
    "plt.ylabel('Counts', fontsize=16)"
   ]
  },
  {
   "cell_type": "markdown",
   "metadata": {},
   "source": [
    "実データ「0番目」のSNP-index=0.333を含むbarのカウント数とその割合は？"
   ]
  },
  {
   "cell_type": "code",
   "execution_count": null,
   "metadata": {},
   "outputs": [],
   "source": [
    "# 配列simu_snp_indexから、0.3以上0.4未満の値のみを抽出\n",
    "bar_vals = simu_snp_index[ (simu_snp_index >= 0.3) & (simu_snp_index < 0.4)]\n",
    "print(bar_vals)\n",
    "\n",
    "# 抽出した値の個数とその割合を調べる\n",
    "bar_counts = len(bar_vals)\n",
    "print(bar_counts)\n",
    "print(bar_counts / 10000)"
   ]
  },
  {
   "cell_type": "markdown",
   "metadata": {},
   "source": [
    "今回の場合、9個塩基のうち、突然変異塩基`A`が何個選ばれるかをシミュレーションで調べたため、0.3以上0.4未満のbarには0.333...の値のみしか含まれません。  \n",
    "\n",
    "したがって、__「９個の塩基のうち、Gが6個、Aが3個得られる確率」__は上のセルで得られた割合に等しいです。"
   ]
  },
  {
   "cell_type": "markdown",
   "metadata": {},
   "source": [
    "### 補足: 二項定理の方程式から確率を計算する\n",
    "__「９個の塩基のうち、Gが6個、Aが3個得られる確率」__は、二項定理の方程式を解いて確率を調べることも可能です。\n",
    "\n",
    "$$\n",
    "P[X=k] = {}_n\\mathrm{C}_k p^k (1-p)^{n-k} = \\dfrac {n!}{k! (n-k)!} p^k (1-p)^{n-k} \n",
    "$$\n"
   ]
  },
  {
   "cell_type": "code",
   "execution_count": null,
   "metadata": {},
   "outputs": [],
   "source": [
    "import math\n",
    "\n",
    "P = math.factorial(9) / (math.factorial(3) * math.factorial(6)) * 0.5**3 * 0.5 **6\n",
    "\n",
    "P"
   ]
  },
  {
   "cell_type": "markdown",
   "metadata": {},
   "source": [
    "### 4. 観察データは帰無仮説のもとでよく得られる値か？<a name=\"1.4\"></a>\n",
    "\n",
    "以下、今回の実習の序文を再喝しています。\n",
    "\n",
    "```text\n",
    "このシミュレーションで発生させるSNP-indexは、「形質と無関係な塩基座位で得られるSNP-index」です（帰無仮説）。\n",
    "\n",
    "実際に観察されたSNP-index（実データ）が、この帰無仮説の下ではめったに発生しないSNP-index（多くの場合、分布の端の5%以下でしか得られないSNP-index）であった場合、帰無仮説を棄却し「形質と無関係な塩基座位」ではないと判定します。\n",
    "```\n",
    "\n",
    "Practice ３の解析で、実データ`SNP-index=0.333`が約16%で得られるような値であるという結果が得られていますが、ここでは「分布の端5%以下」に含まれるかどうかといった視点で、実データを検証してみましょう。\n",
    "\n",
    "_分布の端は両側にありますが、ここでは右端（1.0側）のみを「分布の端」として扱います。_\n",
    "\n",
    "#### 解析手順\n",
    "1. 10,000回シミュレーションの値を大きい順に並べる。\n",
    "1. 分布の端5%の値、すなわち、上位95%の位置の値を得る。\n",
    "1. 実データとその値を比較する。\n",
    "1. その値より大きければ、実データは「分布の端5%以下」の値である（帰無仮説を棄却）。  \n",
    "    そうでなければ、分布の95%内に含まれる値である（帰無仮説を採用）。\n",
    "    \n",
    "<div style=\"margin-bottom: 5px;\"><img src=\"https://github.com/CropEvol/lecture/blob/master/images/08/simulation03_ja.jpg?raw=true\" alt=\"simulation\"></div>\n",
    "\n",
    "いま、変数`simu_snp_index`に10,000個のSNP-index、変数`mysnpindex`に実データのSNP-indexが入っています。  "
   ]
  },
  {
   "cell_type": "code",
   "execution_count": null,
   "metadata": {},
   "outputs": [],
   "source": [
    "import numpy as np\n",
    "\n",
    "# 実データ（観察されたSNP-index）を表示\n",
    "print('Observed SNP-index: ', mysnpindex)\n",
    "\n",
    "# 1) 10,000回シミュレーションの値を大きい順に並べる。\n",
    "# 2) 上位95%の位置の値を得る。\n",
    "# numpy.percentile()でこれらを簡単におこなうことが可能です。\n",
    "get_snp_index  = np.percentile(simu_snp_index, 95, interpolation='lower')\n",
    "\n",
    "print('SNP-index of threshold: ', get_snp_index) #表示\n",
    "\n",
    "# 3) 実データと上位95%の位置の値を比較する\n",
    "if get_snp_index < mysnpindex:\n",
    "    # 4.1) 大きい場合、帰無仮説を棄却\n",
    "    print('Rejecting the null hypothesis') \n",
    "else:\n",
    "    # 4.2) 小さい場合、帰無仮説を採用\n",
    "    print('Adopting the null hypothesis')"
   ]
  },
  {
   "cell_type": "markdown",
   "metadata": {},
   "source": [
    "### 5. 原因遺伝子領域を特定する<a name=\"1.5\"></a>\n",
    "\n",
    "これまでは一つの塩基座位のSNP-indexを検証してきました。\n",
    "\n",
    "ここからは、染色体上の全ての塩基座位についてSNP-indexのシミュレーションをおこないます。  \n",
    "シミュレーション用の自作関数`snp_index_simulation`を用意しています。"
   ]
  },
  {
   "cell_type": "code",
   "execution_count": null,
   "metadata": {},
   "outputs": [],
   "source": [
    "import numpy as np\n",
    "\n",
    "#=== 自作関数: SNP-indexシミュレーション ===\n",
    "def snp_index_simulation(df, ref_colname, alt_colname, trials=10000):\n",
    "    \"\"\"\n",
    "    SNP-indexシミュレーション関数\n",
    "    \n",
    "    引数:\n",
    "    - df : データフレーム（必須）\n",
    "    - ref_colname: オリジナル塩基数の列名（必須）\n",
    "    - alt_colname: 突然変異塩基数の列名（必須）\n",
    "    - trials : 一つの塩基座位において発生させるSNP-index数（初期値:10000）\n",
    "    \n",
    "    戻り値: データフレーム\n",
    "    * シミュレーションで発生させたSNP-indexうち、上位95%にあたる値を新しい列として追加\n",
    "    \"\"\"\n",
    "    \n",
    "    # 1塩基座シミュレーション関数\n",
    "    def one_locus_simulation(allele_num):\n",
    "        # 塩基の選抜\n",
    "        simu_allele_nums  = np.random.binomial(n=allele_num, p=0.5, size=trials)\n",
    "        # SNP-indexを計算\n",
    "        simu_snp_index = simu_allele_nums / allele_num\n",
    "        # 上位95%の位置にある値（戻り値）\n",
    "        get_val  = np.percentile(simu_snp_index, 95, interpolation='lower')\n",
    "        return get_val\n",
    "    \n",
    "    # 合計塩基数\n",
    "    total = df[ref_colname] + df[alt_colname]\n",
    "    \n",
    "    # 各塩基座でシミュレーションをおこなう\n",
    "    # total.map()により、totalに入っているすべての値に対して、\n",
    "    # 1塩基座シミュレーション関数one_locus_simulation()を実行している\n",
    "    df['simu95'] = total.map(one_locus_simulation)\n",
    "    \n",
    "    # 戻り値\n",
    "    return df\n",
    "\n",
    "\n",
    "#=== メイン・プログラム ===\n",
    "df2 = snp_index_simulation(df, ref_colname='ref_N', alt_colname='alt_N', trials=10000)\n",
    "\n",
    "# 表示\n",
    "#df2.head(10) # 最初の10データのみ\n",
    "df2"
   ]
  },
  {
   "cell_type": "markdown",
   "metadata": {},
   "source": [
    "実データとシミュレーションデータのSliding window解析をおこない、グラフとして表示してみましょう。  \n",
    "こちらもSliding Window解析用の自作関数`sliding_window`を用意しています。"
   ]
  },
  {
   "cell_type": "code",
   "execution_count": null,
   "metadata": {},
   "outputs": [],
   "source": [
    "import matplotlib.pyplot as plt\n",
    "%matplotlib inline\n",
    "\n",
    "#=== 自作関数:  Sliding window解析 ===\n",
    "def sliding_window(df, pos_colname, val_colname, winsize=1000000, stepsize=200000, chromsize=None):\n",
    "    \"\"\"\n",
    "    Sliding window解析関数\n",
    "    \n",
    "    引数:\n",
    "    - df : データフレーム（必須）\n",
    "    - pos_colname: 染色体上位置の列名（必須） => x軸の値\n",
    "    - val_colname: 解析したい値の列名（必須） => y軸の値\n",
    "    - winsize :  Windowサイズ（初期値:1Mb）\n",
    "    - stepsize : Stepサイズ（初期値:0.2Mb）\n",
    "    - chromsize : 染色体サイズ（必須）\n",
    "    \n",
    "    戻り値: 各Windowの中央値のリスト, 平均値のリスト\n",
    "    \"\"\"   \n",
    "    \n",
    "    win_position  = []  # 区間中央値用リスト\n",
    "    win_snpindex = []  # 平均SNP-index用リスト\n",
    "\n",
    "    n = 0 # 繰り返し数\n",
    "    while True:\n",
    "        #--- 区間のstartとend position ---\n",
    "        start = stepsize * n \n",
    "        end   = start + winsize\n",
    "        #--- 区間の中央値をリストに追加する ---\n",
    "        p = (start + end) / 2\n",
    "        win_position.append(p)\n",
    "        #--- 区間内データを抽出 ---\n",
    "        sub = df[(df[pos_colname] >= start) & (df[pos_colname] < end)]\n",
    "        #--- SNP-indexの平均値を算出 ---\n",
    "        i = sub[val_colname].mean()\n",
    "        win_snpindex.append(i)\n",
    "        #--- 繰り返し数を+1 ---\n",
    "        n += 1\n",
    "        #--- 全ての区間を調べた時、whileから出る ---\n",
    "        if end > chromsize:\n",
    "            break\n",
    "    \n",
    "    return win_position, win_snpindex\n",
    "\n",
    "\n",
    "#=== メイン・プログラム ===\n",
    "CHROM_SIZE = 23207287  # イネの第10染色体の長さ\n",
    "WIN_SIZE = 1000000 # 1Mb\n",
    "STEP_SIZE = 200000  # 0.2Mb\n",
    "\n",
    "# 実データのSliding window解析\n",
    "win_pos, win_snpidx = sliding_window(\n",
    "    df2, \n",
    "    pos_colname='pos', \n",
    "    val_colname='snp_index', \n",
    "    winsize=WIN_SIZE, \n",
    "    stepsize=STEP_SIZE, \n",
    "    chromsize=CHROM_SIZE\n",
    ")\n",
    "\n",
    "# シミュレーションデータのSliding window解析\n",
    "win_pos, win_simu95 = sliding_window(\n",
    "    df2, \n",
    "    pos_colname='pos', \n",
    "    val_colname='simu95', \n",
    "    winsize=WIN_SIZE, \n",
    "    stepsize=STEP_SIZE, \n",
    "    chromsize=CHROM_SIZE\n",
    ")\n",
    "\n",
    "#--- グラフ作成: 各SNP-indexの散布図  ---\n",
    "fig = plt.figure(figsize=[16,9])\n",
    "plt.scatter(df2['pos'], df2['snp_index'], color='gray')      # 全データ\n",
    "plt.xlabel('Position (x 10 Mb)', fontsize=16)  # x軸ラベル\n",
    "plt.ylabel('SNP-index', fontsize=16)        # y軸ラベル\n",
    "\n",
    "#--- Siliding Window解析の折れ線グラフ（重ね描き） ---\n",
    "plt.plot(win_pos, win_snpidx, color='blue')  # 実データのSliding Window\n",
    "plt.plot(win_pos, win_simu95, color='orange')  # シミュレーションデータのSliding Window   "
   ]
  },
  {
   "cell_type": "markdown",
   "metadata": {},
   "source": [
    "20Mbを超えたあたりで、実データのSNP-indexのSliding windowがシミュレーションデータよりも高くなっています。  \n",
    "そのゲノム領域は、帰無仮説「形質と無関係」が棄却される領域であり、「形質と関わりがある領域」と評価できます。  \n",
    "\n",
    "さらに解析する場合、ゲノムポジションの区間情報（何番目の塩基から何番目の塩基まで）が必要です。  \n",
    "その情報を得ましょう。\n",
    "\n",
    "いま、Sliding window解析の各データは、次の変数にそれぞれリスト型で入っています。\n",
    "- `win_pos`: 各windowのゲノムポジションの代表値（中央値）; windowサイズ=1Mbの中央値\n",
    "- `win_snpidx`: 実データの平均SNP-index\n",
    "- `win_simu95`: シミュレーションデータの平均SNP-index"
   ]
  },
  {
   "cell_type": "code",
   "execution_count": null,
   "metadata": {},
   "outputs": [],
   "source": [
    "# Sliding window解析の各データを、リスト型からNumPy配列型に変換\n",
    "# （2つのリストの値を比較するためにNumPy配列型に変換しています）\n",
    "\n",
    "w_pos   = np.array(win_pos)        # 各windowのゲノムポジションの中央値\n",
    "w_idx    = np.array(win_snpidx)   # 実データの平均SNP-index\n",
    "w_simu = np.array(win_simu95) # 実データの平均SNP-index\n",
    "\n",
    "# 実データとシミュレーションデータを比較し、条件に合うゲノムポジションを抽出\n",
    "w_pos[w_idx > w_simu]"
   ]
  },
  {
   "cell_type": "markdown",
   "metadata": {},
   "source": [
    "Windowのポジションが中央値であることを考慮すると、第10番染色体の21,000,000-22,600,000 bpが「形質と関わりがある領域」と判定できます。\n",
    "\n",
    "実習では、この後の解析、突然変異形質「葉が淡緑色 (pale green)になる形質」の原因遺伝子を特定するまでをおこないませんが、上の解析で得られた領域内\n",
    "の22,482,910bpの辺りに _Chlorophyllide a oxygenase_ (Os10t0567400) という遺伝子が存在しています。  \n",
    "MutMapの論文(Abe et al., 2012)で、その遺伝子が、実際に「葉の色（緑色/淡緑色）」に関わっている証拠も得られており、突然変異形質の原因遺伝子と考えられています。 \n",
    "\n",
    "---\n",
    "\n",
    "ここ3回の実習で、大規模データの扱い方の基本から実際の解析（どういったことができるのか）までを体験してもらいました。\n",
    "- ファイルの読み込み、書き出し\n",
    "- 列同士の計算\n",
    "- データのグラフ化\n",
    "- Sliding window解析\n",
    "- シミュレーションにより実データを評価\n",
    "\n",
    "もし今後、研究や仕事で大量のデータを処理・解析する必要が生じた時に、今回学んだことが何らかの助けになれば幸いです。"
   ]
  }
 ],
 "metadata": {
  "kernelspec": {
   "display_name": "Python 3",
   "language": "python",
   "name": "python3"
  },
  "language_info": {
   "codemirror_mode": {
    "name": "ipython",
    "version": 3
   },
   "file_extension": ".py",
   "mimetype": "text/x-python",
   "name": "python",
   "nbconvert_exporter": "python",
   "pygments_lexer": "ipython3",
   "version": "3.6.3"
  }
 },
 "nbformat": 4,
 "nbformat_minor": 2
}
