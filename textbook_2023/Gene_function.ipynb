{
  "nbformat": 4,
  "nbformat_minor": 0,
  "metadata": {
    "colab": {
      "provenance": [],
      "toc_visible": true
    },
    "kernelspec": {
      "name": "python3",
      "display_name": "Python 3"
    },
    "language_info": {
      "name": "python"
    }
  },
  "cells": [
    {
      "cell_type": "markdown",
      "source": [
        "<img src=\"https://github.com/CropEvol/lecture/blob/master/textbook_2023/images/logo.png?raw=true\" alt=\"2023年度ゲノム情報解析入門\" height=\"100px\" align=\"middle\">\n",
        "\n",
        "<div align=\"right\"><a href=\"https://github.com/CropEvol/lecture#section2\">実習表ページに戻る</a></div>"
      ],
      "metadata": {
        "id": "xrEcu23sU8EV"
      }
    },
    {
      "cell_type": "markdown",
      "source": [
        "遺伝子の機能を調べる解析など。\n",
        "---"
      ],
      "metadata": {
        "id": "p1APgMWdU_aL"
      }
    },
    {
      "cell_type": "markdown",
      "source": [
        "　最後に、遺伝子の機能を調べる方法を紹介していきます。\n",
        "\n",
        "- BLAST\n",
        "- ドメイン検索\n",
        "- アミノ酸配列の構造予測\n",
        "\n",
        "- (これまでのまとめ)\n",
        "\n",
        "等を扱います。"
      ],
      "metadata": {
        "id": "estCp8V2YvX3"
      }
    },
    {
      "cell_type": "markdown",
      "source": [
        "# 今回の勉強内容\n",
        "　今回は、遺伝子の機能を調べる方法をいくつか紹介します。\n",
        "\n",
        "---\n"
      ],
      "metadata": {
        "id": "XB5_V08EYmVk"
      }
    },
    {
      "cell_type": "markdown",
      "source": [
        "# 遺伝子の機能を調べる\n",
        "\n",
        "これまで学んできた内容で、GWASで候補遺伝子を検出したり、RNA-seqで遺伝子のアノテーションを行ったりと、\n",
        "\n",
        "「どの配列や領域が重要なのか」ということを調べる手法があったかと思います。\n",
        "\n",
        "しかし、ほとんどの遺伝子の機能は未だ分かっておらず、候補遺伝子やアノテーションした遺伝子の機能を調べる方法が必要になります。\n",
        "\n",
        "<img src=\"https://github.com/CropEvol/lecture/blob/master/textbook_2022/images/gene_function.png?raw=true\" alt=\"gene_function\" height=\"220px\" align=\"middle\">\n",
        "\n",
        "きっちり機能を調べるには実験的に調べる(着目した遺伝子をノックアウトして形質を見る等)必要がありますが、\n",
        "\n",
        "今回は解析を元に機能を調べる方法をいくつか紹介したいと思います。"
      ],
      "metadata": {
        "id": "wbM_hMNfJQ1Z"
      }
    },
    {
      "cell_type": "markdown",
      "source": [
        "# 1. BLAST\n",
        "\n",
        "BLASTとは、Basic Local Alignment Search Toolの頭文字をとったもので、DNAの塩基配列やタンパク質のアミノ酸配列のシーケンスアライメントを行うためのアルゴリズムや、そのアルゴリズムを実装したプログラムの事を指します。"
      ],
      "metadata": {
        "id": "TXnh506n5yQX"
      }
    },
    {
      "cell_type": "markdown",
      "source": [
        "### 配列同士のアラインメント\n",
        "\n",
        "ここで言うアラインメントとは何なのかと言うと、\n",
        "\n",
        "塩基配列やアミノ酸配列を、似ている部分を同じ位置になるように並べることを指します。\n",
        "\n",
        "例えば、次の様な５つのアミノ酸配列があった場合、\n",
        "\n",
        "<img src=\"https://github.com/CropEvol/lecture/blob/master/textbook_2022/images/alignment1.png?raw=true\" alt=\"alignment1\" height=\"80px\" align=\"middle\">\n",
        "\n",
        "これをアラインメントすると以下の様に並べることが出来ます。\n",
        "\n",
        "<img src=\"https://github.com/CropEvol/lecture/blob/master/textbook_2022/images/alignment2.png?raw=true\" alt=\"alignment2\" height=\"80px\" align=\"middle\">\n",
        "\n",
        "一致している所、不一致な場所、ギャップなどを考慮して、最適なアラインメントを探すための様々なアルゴリズムが開発されています。\n",
        "\n"
      ],
      "metadata": {
        "id": "4t7_UdGZLfM0"
      }
    },
    {
      "cell_type": "markdown",
      "source": [
        "### BLAST検索\n",
        "\n",
        "BLASTの話に戻りますが、一般的にBLASTと言うと、データベースの中から、入力配列に似た配列を検索してくれるツールの事を指します。\n",
        "\n",
        "最も有名なものはNCBIの[BLAST検索](https://blast.ncbi.nlm.nih.gov/Blast.cgi)です。御存知の方も多いのではないでしょうか。\n",
        "\n",
        "入力した配列に似た配列をNCBIに登録されているデータベースから検索してくれるツールになります。\n",
        "\n",
        "<img src=\"https://github.com/CropEvol/lecture/blob/master/textbook_2022/images/BLAST.png?raw=true\" alt=\"BLAST\" height=\"280px\" align=\"middle\">\n",
        "\n",
        "例えば今回、GWAS等の結果、病気の抵抗性に重要だと考えられる領域が見つかり、その領域には機能が分かっていない\n",
        "\n",
        "遺伝子のコードするアミノ酸配列: MADAVVEFLLLNLKQLLLYHVDLLSGVKDEVESLHRELSLMKAFLKDSREKRSEYEYVRELVSQITIVAYEAEDIIDTFVTNAAMQKARSTVRRAFHVFDHSSKLRNVAKEIESIKVKVKEIYDKKMFGIQSLHGGESSHRSPPQKRVPMVEEENVVGFDDEARKISSRLTNGSEELEIISIVGMGGLGKTTLAKKMEAWDDLQMAFPKTATGSRILLTTRNTEVALHANPEGLPHHLRFLTHEESWELLSKKVFRKGICPLELEDIGLQIAKKCYGLPLAIVVVSGLLLKKEKTRDWWKKIANDVSSYVARDPKQCMDVLALSYKHLPDHLKVCFIYFGVFPEDFEIPVWKLLRLWTSEGFVQKMGQECLEDTAEEYLEDLVDRNLVLVAKKRASGRIKTCRIHDMLRDLSVKMGSEEKFLEVFKESAQNHSLSPISKYHRRLCVHSHFLDFITSRPFGPNVRSFLCFASEEMELLREHTSFLHEAFRLVRVLDLKYINFPRFPTEIVQLVHLRYIALSGNFRVLPASISKLWNLETLIVGTKSRELDIQVDIWKMSQFKHLYTSGLSCLRGPPAKTRKDNADPFVRRNIQTISTVLPDCCKENILARTPGLRKLGIRGKLATLVATNGDSSLFDNLAKLDNLETLKLLNDTFPLPPSQCQIPGLPQSYKFPPNLKKLTLSDTFLDWSHISTLGMLPNLEVLKLKDYAFKGTQWEPLDGGFRLLRVLHIGRTNLEHWNASGHHFPRLQQVFLKHCSSLNEIPFGLVEVSSLQNIELFWPTPAAAASARIIQQEKQEGDIKDNVFKLVIYPPDI\n",
        "\n",
        "という配列の遺伝子があることが分かったとしましょう。\n",
        "\n",
        "この時にまずBLAST検索をかけてみて、似たような配列でかつ機能が分かっている遺伝子が無いか探してみる、という方法を取ります。\n",
        "\n",
        "実際に検索してみましょう。\n",
        "\n",
        "<br>\n",
        "\n",
        "この結果から、似た配列を持つ遺伝子がNCBIに登録されていれば、その機能を元に着目している遺伝子の機能を推定することが出来ます。\n",
        "\n",
        "ただし、\"似た配列\"の遺伝子の機能が分かるだけであり、配列が少し違うだけで大きく機能が異なる遺伝子もたくさんあるので、あくまでも参考程度な情報になります。\n",
        "\n",
        "<br>\n",
        "\n",
        "#### 保存性の検索\n",
        "\n",
        "また、BLASTは着目した遺伝子がどのくらい広い種に保存されているかを調べるのにも用いられたりします。\n",
        "\n",
        "例えば以下の配列はシロイヌナズナのZAR1という遺伝子の配列です。\n",
        "\n",
        "ZAR1:\n",
        "\n",
        "MVDAVVTVFLEKTLNILEEKGRTVSDYRKQLEDLQSELKYMQSFLKDAERQKRTNETLRTLVADLRELVYEAEDILVDCQLADGDDGNEQRSSNAWLSRLHPARVPLQYKKSKRLQEINERITKIKSQVEPYFEFITPSNVGRDNGTDRWSSPVYDHTQVVGLEGDKRKIKEWLFRSNDSQLLIMAFVGMGGLGKTTIAQEVFNDKEIEHRFERRIWVSVSQTFTEEQIMRSILRNLGDASVGDDIGTLLRKIQQYLLGKRYLIVMDDVWDKNLSWWDKIYQGLPRGQGGSVIVTTRSESVAKRVQARDDKTHRPELLSPDNSWLLFCNVAFAANDGTCERPELEDVGKEIVTKCKGLPLTIKAVGGLLLCKDHVYHEWRRIAEHFQDELRGNTSETDNVMSSLQLSYDELPSHLKSCILTLSLYPEDCVIPKQQLVHGWIGEGFVMWRNGRSATESGEDCFSGLTNRCLIEVVDKTYSGTIITCKIHDMVRDLVIDIAKKDSFSNPEGLNCRHLGISGNFDEKQIKVNHKLRGVVSTTKTGEVNKLNSDLAKKFTDCKYLRVLDISKSIFDAPLSEILDEIASLQHLACLSLSNTHPLIQFPRSMEDLHNLQILDASYCQNLKQLQPCIVLFKKLLVLDMTNCGSLECFPKGIGSLVKLEVLLGFKPARSNNGCKLSEVKNLTNLRKLGLSLTRGDQIEEEELDSLINLSKLMSISINCYDSYGDDLITKIDALTPPHQLHELSLQFYPGKSSPSWLSPHKLPMLRYMSICSGNLVKMQEPFWGNENTHWRIEGLMLSSLSDLDMDWEVLQQSMPYLRTVTANWCPELESFAIEDVGFRGGVWMKTPLHRT\n",
        "\n",
        "これをBLAST検索することでZAR1に似た遺伝子がどのくらいたくさんの植物種に存在しているかを調べることが出来ます。\n",
        "\n",
        "<img src=\"https://github.com/CropEvol/lecture/blob/master/textbook_2022/images/ZAR1_blast.png?raw=true\" alt=\"ZAR1_blast\" height=\"350px\" align=\"middle\">\n",
        "\n",
        "#### BLASTの定義(細かい話ですが...)\n",
        "\n",
        "最初に説明した通り、BLASTは配列のシーケンスアライメントを行うためのアルゴリズムや、そのアルゴリズムを実装したプログラムの事を指します。\n",
        "\n",
        "「BLASTする」と言うと「NCBIのBLAST検索をする」を表すと思っている人も多いのですが、BLASTはNCBIのサービスのことではなく、そういうプログラム全体の事を指します。\n",
        "\n",
        "よって「イネで見つけた遺伝子Xの配列をコムギのリファレンスゲノム配列に対してBLASTする」みたいな時にも使える言葉になります。\n",
        "\n"
      ],
      "metadata": {
        "id": "cIjHRMwiWlK6"
      }
    },
    {
      "cell_type": "markdown",
      "source": [
        "# 2. ドメイン検索\n",
        "\n",
        "それでは次に、BLAST検索で良い結果が得られなかった場合や、違ったアプローチで機能を予測したいときによく用いられるドメイン検索について見ていきます。\n",
        "\n",
        "タンパク質は、いくつかの機能を持つ部位によって構成されており、その機能を持つ配列部分は保存性が高い場合が多いです。\n",
        "\n",
        "そのため、調べたいアミノ酸配列に対し、そのような機能を持つ領域(ドメイン)をデータベースから検索し、機能予測に役立てることが出来ます。\n",
        "\n",
        "最も良く使用されるドメイン検索ツールとしては、[InterProScan](http://www.ebi.ac.uk/interpro/search/sequence/)があります。\n",
        "\n",
        "InterProScanは複数のデータベースを元にドメイン検索を行ってくれます。\n",
        "\n",
        "先ほどのZAR1遺伝子の配列を使って検索してみましょう。\n",
        "\n",
        "<img src=\"https://github.com/CropEvol/lecture/blob/master/textbook_2022/images/InterPro.png?raw=true\" alt=\"InterPro\" height=\"280px\" align=\"middle\">\n",
        "\n",
        "こうして得られたドメイン情報を元に、配列の機能予測を行ったりします。\n",
        "\n",
        "<br>\n",
        "\n",
        "#### アラインメントとドメイン情報を組み合わせる\n",
        "\n",
        "似たような配列なのに機能が異なる配列があった場合には、先ほど紹介したアラインメントとドメイン情報を組み合わせて情報を得る場合もあります。\n",
        "\n",
        "アラインメントは全配列を並べる形ですが、配列が一致しなかったりギャップがあった時に、その場所が機能的に重要かどうか、という情報があるとより機能的な違いの解釈がしやすくなる可能性があります。\n",
        "\n",
        "単純にアラインメントして違いがどれだけあるか、という情報に加えて、ドメインとして認識された場所にどれだけ違いがあるのか、を調べる形です。\n",
        "\n",
        "<img src=\"https://github.com/CropEvol/lecture/blob/master/textbook_2022/images/domain_alignment.png?raw=true\" alt=\"domain_alignment\" height=\"120px\" align=\"middle\">"
      ],
      "metadata": {
        "id": "ndSLXA-l2TXX"
      }
    },
    {
      "cell_type": "markdown",
      "source": [
        "# 3. アミノ酸配列の構造予測\n",
        "\n",
        "最後に、タンパク質の構造予測です。アミノ酸配列は、立体構造を取ることで機能を持つことになるため、\n",
        "\n",
        "あるアミノ酸配列がどんな立体構造になるのかという情報は機能を知る意味でも重要です。\n",
        "\n",
        "<img src=\"https://github.com/CropEvol/lecture/blob/master/textbook_2022/images/protein_structure.png?raw=true\" alt=\"protein_structure\" height=\"200px\" align=\"middle\">\n",
        "\n",
        "実験的にタンパク質の構造を確認する手法としては、X線や電子顕微鏡等を用いて結晶構造を解析する方法がありますが、\n",
        "\n",
        "特定の遺伝子(アミノ酸配列)を結晶化することが難しく、難易度の高い実験になります。\n",
        "\n",
        "そこで、実験的な手法に対して、バイオインフォマティクスでは機械学習等の技術を用いてタンパク質の立体構造を予測する研究が行われていました。\n",
        "\n",
        "立体構造の予測は、2年前位に公開されたAlphaFold2と呼ばれるモデルが精度が高いことで有名です。\n",
        "\n",
        "[AlphaFold2の簡易版](https://colab.research.google.com/github/sokrypton/ColabFold/blob/main/AlphaFold2.ipynb) がGoogle Colabで公開されています。\n",
        "\n",
        "(これを使ってAlphaFold2で予測した！と言う人が無数に沸いてますが、これはAlphaFold2そのものではない)\n",
        "\n",
        "簡易版かつGoogle Colabで動かしているため\n",
        "\n",
        "* 精度は本家のAlphaFold2より落ちる\n",
        "* 長い配列だと予測できない(メモリが足りない)\n",
        "\n",
        "など、問題は幾つかありますが、試しに使う分には使いやすいです。\n",
        "\n",
        "ある2つの遺伝子が配列として大きく違っていても立体構造にすると似ている場合、機能としても似た機能を持っていた、というケースも報告されているので、\n",
        "\n",
        "<img src=\"https://github.com/CropEvol/lecture/blob/master/textbook_2022/images/similar_structure.png?raw=true\" alt=\"similar_structure\" height=\"220px\" align=\"middle\">\n",
        "\n",
        "この様なアプローチを元に、立体構造を予測し、配列レベルではなく構造レベルで似ている遺伝子を探す、という方法が使えたりします。\n",
        "\n",
        "しかし、AlphaFold2は精度が高いとはいえ、100%正しいわけではなく、構造が変化するタンパク質の予測は苦手だったり、まだまだ問題は残っています。\n",
        "\n",
        "また、予測はあくまでも予測に過ぎないので、これを結論とするのではなく、参考程度の情報として捉える位が良いかと思います。"
      ],
      "metadata": {
        "id": "tyjKnOy15uxI"
      }
    },
    {
      "cell_type": "markdown",
      "source": [
        "# 遺伝子の機能を調べる方法のまとめ\n",
        "\n",
        "紹介してきた様に、バイオインフォマティクスでは、\n",
        "\n",
        "着目した遺伝子の配列の類似性や、データベースに対して検索をかけることで、様々な情報を得ることが出来ます。\n",
        "\n",
        "機能が未知の遺伝子に関してはこの様な情報を元に機能を予測する形になります。\n",
        "\n",
        "ただし、あくまでも機能に関係していそうな情報が手に入るだけであり、最終的には実験的に確認しないと正しい機能は分からない、という点は頭に入れておく必要があります。"
      ],
      "metadata": {
        "id": "dsQ_Di7Lx-P_"
      }
    },
    {
      "cell_type": "markdown",
      "source": [
        "# DNA-seq, RNA-seq等を用いた解析のまとめ\n",
        "\n",
        "　ここまで、DNA-seqやRNA-seq等のシーケンス情報をどの様に扱うのか、それらを用いてどの様な解析を行うことが出来るのかを主に学んできました。\n",
        "\n",
        "　DNA配列をシーケンスすることで、ある生物のゲノム情報を読み取ることが出来、また、交配集団等のシーケンス情報からSNP等の変異を検出し、GWASやQTL-seq等を通して、QTLを検出することが出来ます。\n",
        "\n",
        "　RNA-seqを行うことで、遺伝子の発現量を定量化することが可能になり、着目した現象に関係する遺伝子を発現量という観点から調べることが出来ます。また、遺伝子ネットワークの様な遺伝子間の関係性を調べる際にもRNA-seqは有用なアプローチの1つです。\n",
        "\n",
        "　これらの解析技術は次世代シーケンサー技術の発展・コスト減に伴ってますます広がりを見せ、生物学の課題を解決するための重要なアプローチとなっています。\n",
        "\n",
        "　そのため、将来的にデータ解析的な研究をする人は当然習得していくべき技術ですが、そうでない人にとっても、課題を解決する際に、ゲノム解析やバイオインフォマティクスによってどの様なことが出来るのか、何をしているのか、といった大まかな知識を持っておけると選択肢として役立つことがあるかもしれません。\n",
        "\n",
        "　また、皆さんが研究をする際に、どの様な専門分野に進んだとしても、ゲノム解析やバイオインフォマティクスによるアプローチで課題解決を試みる研究というのは存在しており、そういった研究を理解する為にも知識を持っておけると良いのではないかなと思います。"
      ],
      "metadata": {
        "id": "4Y-39OIbYqMA"
      }
    },
    {
      "cell_type": "markdown",
      "source": [
        "<div align=\"right\"><a href=\"https://github.com/CropEvol/lecture#section2\">実習表ページに戻る</a></div>"
      ],
      "metadata": {
        "id": "meLei4RHab5V"
      }
    }
  ]
}