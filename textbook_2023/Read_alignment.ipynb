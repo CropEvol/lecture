{
  "nbformat": 4,
  "nbformat_minor": 0,
  "metadata": {
    "colab": {
      "provenance": [],
      "toc_visible": true
    },
    "kernelspec": {
      "name": "python3",
      "display_name": "Python 3"
    },
    "language_info": {
      "name": "python"
    }
  },
  "cells": [
    {
      "cell_type": "markdown",
      "source": [
        "<img src=\"https://github.com/CropEvol/lecture/blob/master/textbook_2023/images/logo.png?raw=true\" alt=\"2023年度ゲノム情報解析入門\" height=\"100px\" align=\"middle\">\n",
        "\n",
        "<div align=\"right\"><a href=\"https://github.com/CropEvol/lecture#section2\">実習表ページに戻る</a></div>"
      ],
      "metadata": {
        "id": "xrEcu23sU8EV"
      }
    },
    {
      "cell_type": "markdown",
      "source": [
        "リードアライメント、SNP検出\n",
        "---\n",
        "\n",
        "　前回、シーケンシングデータからゲノム配列の復元を試みました。元のゲノムをカバーするほどのゲノム配列を利用できると、種間でのゲノム配列比較や、種内でのさまざまなゲノム解析の基準配列（**参照配列、リファレンス配列、Reference sequence**）として利用できるようになります。\n",
        "\n",
        "　この実習テキストでは、次世代シーケンシングデータ（ショートリードデータ）を使って、どのようにサンプル間の変異を検出するかをみていきます。また、次回勉強するQTL-seq解析法の基礎「バルクシーケンシング」を勉強していきます。"
      ],
      "metadata": {
        "id": "l4GqxbsKdtM-"
      }
    },
    {
      "cell_type": "markdown",
      "source": [
        "### サンプルデータのダウンロード\n",
        "\n",
        "　この実習で使用するサンプルデータをダウンロードします。\n",
        "\n",
        "- 参照配列:\n",
        "  - 品種Aのゲノム配列（300bp）\n",
        "- リード:\n",
        "  - 品種Aのショートリード（20bp）\n",
        "  - 品種Bのショートリード（20bp）\n",
        "  - 品種Aと品種Bの交配F<small>1</small>世代1個体のショートリード（20bp）\n",
        "  - 品種Aと品種Bの交配F<small>2</small>世代100個体のショートリード（20bp）\n"
      ],
      "metadata": {
        "id": "AoBp-f3a6TwC"
      }
    },
    {
      "cell_type": "code",
      "source": [
        "%%bash\n",
        "## サンプルファイルのダウンロード\n",
        "wget -q -O 'alignment_dataset.sh' https://raw.githubusercontent.com/CropEvol/lecture/master/textbook_2023/scripts/alignment_dataset.sh\n",
        "bash alignment_dataset.sh\n",
        "## 表示\n",
        "echo 'Downloaded dataset: genome/ reads/ bam/ ngs/'"
      ],
      "metadata": {
        "id": "Qe8gHc0-6XbD"
      },
      "execution_count": null,
      "outputs": []
    },
    {
      "cell_type": "markdown",
      "source": [
        "### ソフトウェアのダウンロード\n",
        "\n",
        "　今回使用するソフトウェアとその実行プログラムをダウンロードをします。"
      ],
      "metadata": {
        "id": "4WfJeoTR6UbI"
      }
    },
    {
      "cell_type": "code",
      "source": [
        "%%bash\n",
        "## ソフトウェアのインストール\n",
        "wget -q -O 'alignment_softwares.sh' https://raw.githubusercontent.com/CropEvol/lecture/master/textbook_2023/scripts/alignment_softwares.sh\n",
        "bash alignment_softwares.sh\n",
        "## 確認\n",
        "ls tools/"
      ],
      "metadata": {
        "id": "5JVjYX-RB0cz"
      },
      "execution_count": null,
      "outputs": []
    },
    {
      "cell_type": "markdown",
      "source": [
        "# 今回の勉強内容\n",
        "\n",
        "1. リードアライメントとSNP検出を学ぶ\n",
        "  1. 品種Aのリードアライメント\n",
        "  1. 品種BのリードアライメントとSNP検出\n",
        "  1. 交配F<small>1</small>個体のアライメントデータ\n",
        "  1. 交配F<small>2</small>個体のアライメントデータ\n",
        "  1. 形質と連関しているSNP箇所を探す\n",
        "  1. シーケンシングの種類と特徴\n",
        "1. バルクシーケンシングを学ぶ\n",
        "  1. バルクシーケンシング\n",
        "  1. 実例: イネのQTL-seq\n",
        "\n"
      ],
      "metadata": {
        "id": "iMenqmOheCQ5"
      }
    },
    {
      "cell_type": "markdown",
      "source": [
        "# 1. リードアライメントとSNP検出を学ぶ\n",
        "\n"
      ],
      "metadata": {
        "id": "f7kt9fIQX0f9"
      }
    },
    {
      "cell_type": "markdown",
      "source": [
        "## 1-1. 品種Aのリードアライメント\n",
        "\n",
        "　最初に、**リードアライメント（Read alignment）**について勉強していきましょう。リードアライメントは、なんらかの参照配列（通常は、同種の1個体のゲノム配列）に対して、シーケンシングデータ（**リード Reads**）を並べることを言います。その際、多少のミスマッチ（塩基の違い）は許容して、配列が似ている箇所にリードを並べます。\n",
        "\n",
        "　リードアライメントをおこなうと、参照配列とリードの間の塩基の違いを容易に観察できるようになります。\n",
        "\n",
        "<img src=\"https://github.com/CropEvol/lecture/blob/master/textbook_2022/images/read_alignment.png?raw=true\" alt=\"Read alignment\" height=\"80px\" align=\"middle\">\n",
        "\n",
        "<small>※1 リードアライメントの仕組みに興味がある方は以下のWebページを参照してください。<br>　[How Do We Compare Biological Sequences?](https://www.bioinformaticsalgorithms.org/bioinformatics-chapter-5) (Bioinformatics Algorithms / Phillip Compeau)</small>\n",
        "\n"
      ],
      "metadata": {
        "id": "bhdnQZMlX_-E"
      }
    },
    {
      "cell_type": "markdown",
      "source": [
        "\n",
        "　ここでは、以下2つの配列データを使います。\n",
        "- 参照配列: 品種Aのゲノム配列（300bp）\n",
        "  - /content/genome/CultivarA.fa\n",
        "- リード: 品種Aのリード（合計約240本の**ペアエンドリード**<sup>※2</sup>、各20bp）\n",
        "  - /content/reads/CultivarA_read1.fq\n",
        "  - /content/reads/CultivarA_read2.fq\n",
        "\n",
        "<img src=\"https://github.com/CropEvol/lecture/blob/master/textbook_2022/images/paired_end_read.png?raw=true\" alt=\"DNA sequencing and paired-end read\" height=\"230px\" align=\"middle\">"
      ],
      "metadata": {
        "id": "OluDC1yuwTS1"
      }
    },
    {
      "cell_type": "markdown",
      "source": [
        "　実際のゲノム解析でも良く使われている[**BWA (Burrows-Wheeler Alignment)**](https://bio-bwa.sourceforge.net/)と呼ばれるソフトウェアで、リードアライメントをおこなってみましょう。\n",
        "\n",
        "　次のプログラムを実行して、リードアライメントをおこなってください。"
      ],
      "metadata": {
        "id": "LkT3r7r2uZJ9"
      }
    },
    {
      "cell_type": "code",
      "source": [
        "%%bash\n",
        "## リードアライメント: 品種Aのリードを、品種Aのゲノム配列にアライメントする\n",
        "\n",
        "## リードアライメントのための事前準備（ゲノム配列のインデックス作成）\n",
        "if [ ! -e genome/CultivarA.fa.bwt ]; then bwa index genome/CultivarA.fa; fi\n",
        "\n",
        "## リードアライメント\n",
        "bwa aln genome/CultivarA.fa reads/CultivarA_read1.fq > read1.sai 2>/dev/null\n",
        "bwa aln genome/CultivarA.fa reads/CultivarA_read2.fq > read2.sai 2>/dev/null\n",
        "bwa sampe genome/CultivarA.fa read1.sai read2.sai reads/CultivarA_read1.fq reads/CultivarA_read2.fq > CultivarA.sam\n",
        "samtools sort -O bam CultivarA.sam > CultivarA.bam\n",
        "samtools index CultivarA.bam\n",
        "rm -fR read1.sai read2.sai"
      ],
      "metadata": {
        "id": "Jzy29C-Yxa60"
      },
      "execution_count": null,
      "outputs": []
    },
    {
      "cell_type": "markdown",
      "source": [
        "　アライメント結果を、[**IGV (Integrative Genomics Viewer)**](https://software.broadinstitute.org/software/igv/home)で確認してみましょう。"
      ],
      "metadata": {
        "id": "2XTONln7fNpE"
      }
    },
    {
      "cell_type": "code",
      "source": [
        "## アライメント結果を見る\n",
        "## 準備: ライブラリ\n",
        "import igv_notebook\n",
        "from igv_prep import RefTrack, AnnotationTrack, BamTrack\n",
        "igv_notebook.init()\n",
        "## 準備: Reference info\n",
        "ref = RefTrack({ \"fastaPath\":\"genome/CultivarA.fa\", \"indexPath\":\"genome/CultivarA.fa.fai\", \"id\":\"CultivarA\" })\n",
        "## 準備: Reads info\n",
        "A = BamTrack({ \"name\":\"CultivarA\", \"path\":\"CultivarA.bam\", \"indexPath\":\"CultivarA.bam.bai\", \"viewAsPairs\":True })\n",
        "## IGV表示\n",
        "b = igv_notebook.Browser(ref)\n",
        "b.load_track(A)"
      ],
      "metadata": {
        "id": "yj2QEcVtO-ni"
      },
      "execution_count": null,
      "outputs": []
    },
    {
      "cell_type": "markdown",
      "source": [
        "　一部のリード内には、参照配列と異なる塩基が見つかってきます。その異なる塩基には二つの可能性があります。\n",
        "- シーケンシングしたサンプル内にみられる変異（**一塩基多型; Single nucleotide polymorphism, SNP**）\n",
        "- シーケンシング中に発生する塩基の読み間違い（シーケンシングエラー）\n",
        "\n",
        "　じゅうぶんな数のリードがあれば、その異なる塩基がSNPなのかシーケンシングエラーなのかを判別できます。\n",
        "\n",
        "　今回、品種Aのリードはじゅうぶん多数あります。「参照配列と異なる塩基」は大部分のリードが共通にもっているわけではありません。そのため、見つかった「参照配列と異なる塩基」は、シーケンシングエラーと考えるのがよさそうです。"
      ],
      "metadata": {
        "id": "RIfy54Y50vjV"
      }
    },
    {
      "cell_type": "markdown",
      "source": [
        "## 1-2. 品種BのリードアライメントとSNP検出\n",
        "\n",
        "　今度は、品種Bのリードを品種Aの参照配列に対してアライメントしてみましょう。\n",
        "\n",
        "使用するデータ:\n",
        "- 参照配列: 品種Aのゲノム配列（300bp）\n",
        "  - /content/genome/CultivarA.fa\n",
        "- リード配列: 品種Bのリード配列（合計約240本のペアエンドリード、各20bp）\n",
        "  - /content/reads/CultivarB_read1.fq\n",
        "  - /content/reads/CultivarB_read2.fq"
      ],
      "metadata": {
        "id": "VoJluELGY5Ut"
      }
    },
    {
      "cell_type": "code",
      "source": [
        "%%bash\n",
        "## リードアライメント: 品種Bのリードを、品種Aのゲノム配列にアライメントする\n",
        "\n",
        "## リードアライメントの事前準備\n",
        "if [ ! -e genome/CultivarA.fa.bwt ]; then bwa index genome/CultivarA.fa; fi\n",
        "## リードアライメント\n",
        "bwa aln genome/CultivarA.fa reads/CultivarB_read1.fq > read1.sai 2>/dev/null\n",
        "bwa aln genome/CultivarA.fa reads/CultivarB_read2.fq > read2.sai 2>/dev/null\n",
        "bwa sampe genome/CultivarA.fa read1.sai read2.sai reads/CultivarB_read1.fq reads/CultivarB_read2.fq > CultivarB.sam\n",
        "samtools sort -O bam CultivarB.sam > CultivarB.bam\n",
        "samtools index CultivarB.bam\n",
        "rm -fR read1.sai read2.sai"
      ],
      "metadata": {
        "id": "BjZgSEGeMKvz"
      },
      "execution_count": null,
      "outputs": []
    },
    {
      "cell_type": "code",
      "source": [
        "## アライメント結果を見る\n",
        "## 準備: ライブラリ\n",
        "import igv_notebook\n",
        "from igv_prep import RefTrack, AnnotationTrack, BamTrack\n",
        "igv_notebook.init()\n",
        "## 準備: Reference info\n",
        "ref = RefTrack({ \"fastaPath\":\"genome/CultivarA.fa\", \"indexPath\":\"genome/CultivarA.fa.fai\", \"id\":\"CultivarA\" })\n",
        "## 準備: Reads info\n",
        "B = BamTrack({ \"name\":\"CultivarB\", \"path\":\"CultivarB.bam\", \"indexPath\":\"CultivarB.bam.bai\", \"viewAsPairs\":True })\n",
        "## IGV表示\n",
        "b = igv_notebook.Browser(ref)\n",
        "b.load_track(B)"
      ],
      "metadata": {
        "id": "bjHUhtMFOT-4"
      },
      "execution_count": null,
      "outputs": []
    },
    {
      "cell_type": "markdown",
      "source": [
        "　アライメントの結果、一部の塩基箇所において、ほぼすべてのリードが異なる塩基を共通にもっています。その塩基の違いは、シーケンシングエラーではなく、品種Aと品種Bの間のSNP変異と考えられます。"
      ],
      "metadata": {
        "id": "qcaTqu9Pkjp5"
      }
    },
    {
      "cell_type": "markdown",
      "source": [
        "## 1-3. 交配F<small>1</small>世代のアライメントデータ\n",
        "\n",
        "　品種Aと品種Bを人為的に交配して得られた個体（F<small>1</small>個体）では、どのようなリードアライメント結果が得られるか見てみましょう。以下を実行すると、F<small>1</small>個体のリードアライメント結果を表示できます。\n",
        "\n",
        "<small>※ ここからは、bwaによるリードアライメントを省略し、事前に用意したアライメント結果を見ていきます。</small>"
      ],
      "metadata": {
        "id": "uOjRxMpDY0qN"
      }
    },
    {
      "cell_type": "code",
      "source": [
        "## アライメント結果を見る\n",
        "## 準備: ライブラリ\n",
        "import igv_notebook\n",
        "from igv_prep import RefTrack, AnnotationTrack, BamTrack\n",
        "igv_notebook.init()\n",
        "## 準備: Reference info\n",
        "ref = RefTrack({ \"fastaPath\":\"genome/CultivarA.fa\", \"indexPath\":\"genome/CultivarA.fa.fai\", \"id\":\"CultivarA\" })\n",
        "## 準備: Reads info\n",
        "B = BamTrack({ \"name\":\"CultivarB\", \"path\":\"bam/CultivarB.bam\", \"indexPath\":\"bam/CultivarB.bam.bai\", \"viewAsPairs\":True, \"displayMode\":\"SQUISHED\", \"height\":150 })\n",
        "F1= BamTrack({ \"name\":\"F1\",       \"path\":\"bam/F1.bam\",       \"indexPath\":\"bam/F1.bam.bai\",       \"viewAsPairs\":True })\n",
        "## IGV表示\n",
        "b = igv_notebook.Browser(ref)\n",
        "b.load_track(B)\n",
        "b.load_track(F1)"
      ],
      "metadata": {
        "id": "tNI1qLP6QoRi"
      },
      "execution_count": null,
      "outputs": []
    },
    {
      "cell_type": "markdown",
      "source": [
        "　F<small>1</small>個体は、品種Aと品種Bから一つずつ配偶子を受け取って生じた個体であり、それぞれの品種に由来するSNP塩基（以下、**SNPアリル、SNP allele**）をもっているはずです。\n",
        "\n",
        "<img src=\"https://github.com/CropEvol/lecture/blob/master/textbook_2022/images/f1_hybrid.png?raw=true\" alt=\"SNP allele heterozygous of F1\" height=\"200px\" align=\"middle\">\n",
        "\n",
        "　アライメント結果の各SNP箇所の塩基構成をみると、多少ばらついているものの、二つのSNPアリルがおよそ50%の割合で存在しています。\n",
        "\n",
        "　このように、どちらかのSNPアリルに固定していない状態を、**ヘテロ接合型（Heterozygote）**と言います。一方で、品種Aや品種Bにみられるように、どちらかのSNPアリルに固定された状態を、**ホモ接合型（Homozygote）**と言います。SNPアリルの保有状況から遺伝子型（ヘテロ接合型かホモ接合型か）を決めることを**ジェノタイピング（Genotyping）**といいます。\n",
        "\n",
        "\n"
      ],
      "metadata": {
        "id": "qJfeWyAjsU7k"
      }
    },
    {
      "cell_type": "markdown",
      "source": [
        "## 1-4. 交配F<small>2</small>世代のアライメントデータ\n",
        "\n",
        "　F<small>1</small>個体を自殖し、F<small>2</small>世代の子孫を得ると、SNPアリルは各個体にランダムに遺伝されます。\n",
        "\n",
        "<img src=\"https://github.com/CropEvol/lecture/blob/master/textbook_2022/images/SNP_allele_segregation.png?raw=true\" alt=\"SNP allele segregation in F2\" height=\"230px\" align=\"middle\">\n",
        "\n",
        "　F<small>2</small>世代では各個体のリードアライメントがどのようになるか見てみましょう。次のプログラムを実行すると、F<small>2</small>世代の100個体のうち、指定のF<small>2</small>個体（例えば、F2_001からF2_005）のアライメント結果を見れます。"
      ],
      "metadata": {
        "id": "1HYRlFfJZEh4"
      }
    },
    {
      "cell_type": "code",
      "source": [
        "## 表示するF2番号: 1~100までの数字を自由に組み合わせ可能\n",
        "## 注意： 数字と数字の間には半角のカンマ(,)が必要です。\n",
        "F2 = [1,2,3,4,5]\n",
        "\n",
        "## 準備: ライブラリ\n",
        "import igv_notebook\n",
        "from igv_prep import RefTrack, AnnotationTrack, BamTrack\n",
        "bam_common_info = { \"displayMode\":\"SQUISHED\", \"viewAsPairs\":True, \"height\":100, \"showCoverage\":False }\n",
        "igv_notebook.init()\n",
        "## 準備: Reference info\n",
        "ref = RefTrack({ \"fastaPath\":\"genome/CultivarA.fa\", \"indexPath\":\"genome/CultivarA.fa.fai\", \"id\":\"CultivarA\" })\n",
        "## 準備: Reads info\n",
        "Info = [BamTrack({ **{\"name\":\"CultivarB\", \"path\":\"bam/CultivarB.bam\", \"indexPath\":\"bam/CultivarB.bam.bai\"}, **bam_common_info }),\n",
        "        BamTrack({ **{\"name\":\"F1\",       \"path\":\"bam/F1.bam\", \"indexPath\":\"bam/F1.bam.bai\"}, **bam_common_info })]\n",
        "for f in sorted(list(set(F2))):\n",
        "    Info += [ BamTrack({ **{\"name\":\"F2_{:03}\".format(f),\n",
        "                          \"path\":\"/content/bam/F2_{:03}.bam\".format(f),\n",
        "                          \"indexPath\":\"/content/bam/F2_{:03}.bam.bai\".format(f)}, **bam_common_info }) ]\n",
        "## IGV表示\n",
        "b = igv_notebook.Browser(ref)\n",
        "for i in Info: b.load_track(i)"
      ],
      "metadata": {
        "id": "SQ78nI6KMZIp"
      },
      "execution_count": null,
      "outputs": []
    },
    {
      "cell_type": "markdown",
      "source": [
        "　F<small>2</small>世代の個体ごとに各SNP箇所のSNPアリルの構成が異なっており、SNPアリルの分離を確認できました。\n",
        "\n",
        "　F<small>2</small>個体集団のように、SNPアリルがその場所ごとに独立に分離した（染色体がシャッフルされた）集団は、両親間の形質の違いを生み出す遺伝子（原因遺伝子）のマッピングに役立ちます。\n",
        "\n",
        "<img src=\"https://github.com/CropEvol/lecture/blob/master/textbook_2022/images/chromosome_shuffling.png?raw=true\" alt=\"Chromosome shuffling\" height=\"230px\" align=\"middle\">\n",
        "\n",
        "\n",
        "\n",
        "\n",
        "\n"
      ],
      "metadata": {
        "id": "T4NvPj8LzaDg"
      }
    },
    {
      "cell_type": "markdown",
      "source": [
        "## 1-5. 形質と連関しているSNP箇所を探す\n",
        "　つぎは、形質情報も考慮し、リードアライメント結果を見ていきましょう。各個体の形質データは次のとおりです。\n",
        "- F<small>2</small>各個体の形質: [形質データ表](https://github.com/CropEvol/lecture/blob/master/textbook_2023/dataset/f2_phenotypes.pdf)\n",
        "- 品種Aの形質: Short\n",
        "- 品種Bの形質: Long\n",
        "- F<small>1</small>個体の形質: Medium\n"
      ],
      "metadata": {
        "id": "UV5eOffaZoX0"
      }
    },
    {
      "cell_type": "markdown",
      "source": [
        "　品種Aと同じ「Short」形質をもつF<small>2</small>個体を4つ程度選び、それらのアライメント結果を表示してください。さらに、そのグループ内で分離していないSNP（固定SNP）を探してみてください。\n"
      ],
      "metadata": {
        "id": "LjY9NiOHZubJ"
      }
    },
    {
      "cell_type": "code",
      "source": [
        "## 品種Aと同じShort形質をもつF2個体番号を半角数字で入力してください。\n",
        "## 注意： 数字と数字の間には半角のカンマ(,)が必要です。\n",
        "F2_S_bulk = []\n",
        "\n",
        "## 準備: ライブラリ\n",
        "import igv_notebook\n",
        "from igv_prep import RefTrack, AnnotationTrack, BamTrack\n",
        "bam_common_info = { \"displayMode\":\"SQUISHED\", \"viewAsPairs\":True, \"height\":100, \"showCoverage\":False }\n",
        "igv_notebook.init()\n",
        "## 準備: Reference info\n",
        "ref = RefTrack({ \"fastaPath\":\"genome/CultivarA.fa\", \"indexPath\":\"genome/CultivarA.fa.fai\", \"id\":\"CultivarA\" })\n",
        "## 準備: Reads info\n",
        "Info = [BamTrack({ **{\"name\":\"CultivarA\", \"path\":\"bam/CultivarA.bam\", \"indexPath\":\"bam/CultivarA.bam.bai\"}, **bam_common_info }),\n",
        "        BamTrack({ **{\"name\":\"CultivarB\", \"path\":\"bam/CultivarB.bam\", \"indexPath\":\"bam/CultivarB.bam.bai\"}, **bam_common_info }),]\n",
        "for f in sorted(list(set(F2_S_bulk))):\n",
        "    Info += [ BamTrack({ **{\"name\":\"F2_{:03}\".format(f),\n",
        "                          \"path\":\"bam/F2_{:03}.bam\".format(f),\n",
        "                          \"indexPath\":\"bam/F2_{:03}.bam.bai\".format(f)}, **bam_common_info }) ]\n",
        "## IGV表示\n",
        "b = igv_notebook.Browser(ref)\n",
        "for i in Info: b.load_track(i)"
      ],
      "metadata": {
        "id": "KzDzcPLdaF79"
      },
      "execution_count": null,
      "outputs": []
    },
    {
      "cell_type": "markdown",
      "source": [
        "　同様に、品種Bと同じ「Long」形質のF<small>2</small>個体についても、4個体分程度のアライメント結果を表示し、固定SNPを探してください。"
      ],
      "metadata": {
        "id": "ORL6UUIbZRWb"
      }
    },
    {
      "cell_type": "code",
      "source": [
        "## 品種Bと同じLong形質をもつF2個体番号を半角数字で入力してください。\n",
        "## 注意： 数字と数字の間には半角のカンマ(,)が必要です。\n",
        "F2_L_bulk = []\n",
        "\n",
        "## 準備: ライブラリ\n",
        "import igv_notebook\n",
        "from igv_prep import RefTrack, AnnotationTrack, BamTrack\n",
        "bam_common_info = { \"displayMode\":\"SQUISHED\", \"viewAsPairs\":True, \"height\":100, \"showCoverage\":False }\n",
        "igv_notebook.init()\n",
        "## 準備: Reference info\n",
        "ref = RefTrack({ \"fastaPath\":\"genome/CultivarA.fa\", \"indexPath\":\"genome/CultivarA.fa.fai\", \"id\":\"CultivarA\" })\n",
        "## 準備: Reads info\n",
        "Info = [BamTrack({ **{\"name\":\"CultivarA\", \"path\":\"bam/CultivarA.bam\", \"indexPath\":\"bam/CultivarA.bam.bai\"}, **bam_common_info }),\n",
        "        BamTrack({ **{\"name\":\"CultivarB\", \"path\":\"bam/CultivarB.bam\", \"indexPath\":\"bam/CultivarB.bam.bai\"}, **bam_common_info }),]\n",
        "for f in sorted(list(set(F2_L_bulk))):\n",
        "    Info += [ BamTrack({ **{\"name\":\"F2_{:03}\".format(f),\n",
        "                          \"path\":\"bam/F2_{:03}.bam\".format(f),\n",
        "                          \"indexPath\":\"bam/F2_{:03}.bam.bai\".format(f)}, **bam_common_info }) ]\n",
        "## IGV表示\n",
        "b = igv_notebook.Browser(ref)\n",
        "for i in Info: b.load_track(i)"
      ],
      "metadata": {
        "id": "OEdecSTNZQ4d"
      },
      "execution_count": null,
      "outputs": []
    },
    {
      "cell_type": "markdown",
      "source": [
        "　形質ごとに4個体程度を表示し、各SNP箇所のSNPアリル構成を見ていくと、前から55番目の塩基に固定SNPを発見できます。\n",
        "\n",
        "55番目の塩基:\n",
        "- Short形質の品種Aでは「A」\n",
        "- Short形質のF<small>2</small>個体でも「A」のみ（品種A由来のアリルのホモ接合）\n",
        "- Long形質の品種Bでは「T」\n",
        "- Long形質のF<small>2</small>個体でも「T」のみ（品種B由来のアリルのホモ接合）\n",
        "\n",
        "　形質とSNPアリルに連関（Association）がみられることから、形質の違いを作っている原因変異かもしれません。\n",
        "\n",
        "<small>※ 「Medium」形質のF<small>2</small>個体のアライメント結果には、55番塩基に2つのSNPアリルが見つかるはずです。余裕があれば確認してみてください。</small>\n"
      ],
      "metadata": {
        "id": "txdvuD0o-2gg"
      }
    },
    {
      "cell_type": "markdown",
      "source": [
        "## 1-6. シーケンシングの種類と特徴\n",
        "\n",
        "　各個体の遺伝子型決定（ジェノタイピング）によく使われるシーケンシング方法について勉強しましょう。\n",
        "- 全ゲノムシーケンシング（Whole genome sequencing: WGS）\n",
        "- RNAシーケンシング（RNA sequencing: RNA-seq）\n",
        "- RADシーケンシング（RAD sequencing: RAD-seq）\n"
      ],
      "metadata": {
        "id": "iJ9CRhMB1sx5"
      }
    },
    {
      "cell_type": "code",
      "source": [
        "## 準備: ライブラリなど\n",
        "import igv_notebook\n",
        "from igv_prep import RefTrack, AnnotationTrack, BamTrack\n",
        "igv_notebook.init()\n",
        "igv_notebook.init()\n",
        "base = \"/content/ngs/\"\n",
        "bam_common_info = { \"showCoverage\":False, \"displayMode\":\"SQUISHED\", \"viewAsPairs\":True, \"height\":100 }\n",
        "\n",
        "## 準備: Reference info\n",
        "ref = RefTrack({ \"fastaPath\":base+\"Ref.genome.fa\", \"indexPath\":base+\"Ref.genome.fa.fai\", \"id\":\"Reference\" }, locus=\"chr01:10,000-35,000\")\n",
        "genes = AnnotationTrack({ \"name\":\"Genes\", \"path\":base+\"Ref.transcript.gff\", \"format\":\"gff\", \"displayMode\":\"SQUISHED\" })\n",
        "restsite= AnnotationTrack({ \"name\":\"Restriction site\", \"path\":base+\"Ref.radseq_enzymes.bed\", \"format\":\"bed\", \"color\":\"#ff7f0e\"})\n",
        "## 準備: Reads info\n",
        "Info = [BamTrack({ **{\"name\":\"WGS\", \"path\":base+\"wgs.bam\", \"indexPath\":base+\"wgs.bam.bai\"}, **bam_common_info }),\n",
        "        BamTrack({ **{\"name\":\"RNA-seq\", \"path\":base+\"rnaseq.bam\", \"indexPath\":base+\"rnaseq.bam.bai\"}, **bam_common_info }),\n",
        "        BamTrack({ **{\"name\":\"RAD-seq\", \"path\":base+\"radseq.bam\", \"indexPath\":base+\"radseq.bam.bai\"}, **bam_common_info }),]\n",
        "## IGV表示\n",
        "b = igv_notebook.Browser(ref)\n",
        "for i in Info: b.load_track(i)\n",
        "b.load_track(genes)\n",
        "b.load_track(restsite)"
      ],
      "metadata": {
        "id": "TVAgUa8g1syH"
      },
      "execution_count": null,
      "outputs": []
    },
    {
      "cell_type": "markdown",
      "source": [
        "　それぞれのシーケンシング対象と得られるSNP、特徴をまとめると次のとおりです。\n",
        "\n",
        "| 種類 | シーケンシング対象領域 / SNP探索領域 | 特徴 |\n",
        "|:---|:---|:---|\n",
        "| Whole genome sequencing | ゲノム全配列 　| 解析には多くのリードを必要とする。 |\n",
        "| RNA sequencing | 発現遺伝子（mRNA）配列<br>（イントロンは含まない）　| 得られるリード量は遺伝子発現量に依存する。<br>必要なリード量もWGSに比べて少なく済む。 |\n",
        "| RAD sequencing | 任意の制限酵素切断部位近くの配列　| 少ないリード量で解析をおこなえる。<br>類似シーケンシング手法: GBS, GRAS-Di, MIG-seq |\n"
      ],
      "metadata": {
        "id": "9YvY6m-w1syI"
      }
    },
    {
      "cell_type": "markdown",
      "source": [
        "# 2. バルクシーケンシングを学ぶ"
      ],
      "metadata": {
        "id": "U4S6t617056V"
      }
    },
    {
      "cell_type": "markdown",
      "source": [
        "## 2-1. バルクシーケンシング\n",
        "\n",
        "　先ほどは、各個体のアライメント結果をサンプルごとに表示しました。**バルクシーケンシング**のリードは、いくつかの個体のリードをランダムにいくつか集めてプーリングし、\"1サンプル分\"のデータとして扱ったようなものとほぼ同じです。\n",
        "\n",
        "<img src=\"https://github.com/CropEvol/lecture/blob/master/textbook_2022/images/read_sampling.png?raw=true\" alt=\"Bulked DNA sequencing\" height=\"250px\" align=\"middle\">"
      ],
      "metadata": {
        "id": "MRx5AzyKZ3ba"
      }
    },
    {
      "cell_type": "markdown",
      "source": [
        "　次のコードセルの`F2_S_bulk`（Short形質グループ: S-bulk）と`F2_L_bulk`（Long形質グループ: L-bulk）の右辺の括弧`[]`内に、4個体程度の個体番号を入力して、バルクシーケンシングリードのアライメント結果を見てみましょう。\n"
      ],
      "metadata": {
        "id": "KfIgKyDIP8t2"
      }
    },
    {
      "cell_type": "code",
      "source": [
        "## プーリングするF2個体の番号\n",
        "## 注意： 数字と数字の間には半角のカンマ(,)が必要です。\n",
        "F2_S_bulk = []\n",
        "F2_L_bulk = []\n",
        "\n",
        "## 以下は、変更不要\n",
        "## Pooling\n",
        "import re\n",
        "def Pooling(Ns, bam_dir, samplingRate=-1, output=\"bulk.bam\", verbose=False, samtools_path=\"samtools\"):\n",
        "    f2_list = [bam_dir+\"/F2_{:03}.bam\".format(f) for f in sorted(list(set(Ns)))]\n",
        "    if samplingRate>=1.0:\n",
        "        samplingRate = 1.0\n",
        "    elif samplingRate<=0.0:\n",
        "        samplingRate = float(1.0 / len(bam_dir) *2)\n",
        "    f2_str = \" \".join(f2_list)\n",
        "    # リードのサンプリング\n",
        "    !$samtools_path merge -o - $f2_str | samtools view -b -s $samplingRate > $output\n",
        "    !$samtools_path index $output\n",
        "    if verbose:\n",
        "      f2_samples = [re.search(r\".*/(.+?)$\", i).group(1) for i in f2_list]\n",
        "      print(\"Output: \", output)\n",
        "      print(\"- Reads sampled from: \"+\",\".join(f2_samples))\n",
        "      print(\"- Sampling rate: %.3f\" % samplingRate)\n",
        "\n",
        "Pooling(F2_S_bulk, bam_dir=\"bam/\", output=\"S_bulk.bam\", verbose=True)\n",
        "Pooling(F2_L_bulk, bam_dir=\"bam/\", output=\"L_bulk.bam\", verbose=True)\n",
        "\n",
        "## IGV表示の準備: ライブラリ\n",
        "import igv_notebook\n",
        "from igv_prep import RefTrack, AnnotationTrack, BamTrack\n",
        "## IGV表示の準備: Reference info\n",
        "ref = RefTrack({ \"fastaPath\":\"genome/CultivarA.fa\", \"indexPath\":\"genome/CultivarA.fa.fai\", \"id\":\"CultivarA\" })\n",
        "## IGV表示の準備: Reads info\n",
        "bam_common_info = { \"displayMode\":\"SQUISHED\", \"viewAsPairs\":True, \"height\":200 }\n",
        "S = BamTrack({ **{\"name\":\"S-bulk\", \"path\":\"S_bulk.bam\", \"indexPath\":\"S_bulk.bam.bai\"}, **bam_common_info })\n",
        "L = BamTrack({ **{\"name\":\"L-bulk\", \"path\":\"L_bulk.bam\", \"indexPath\":\"L_bulk.bam.bai\"}, **bam_common_info })\n",
        "## IGV表示\n",
        "igv_notebook.init()\n",
        "b = igv_notebook.Browser(ref)\n",
        "b.load_track(S)\n",
        "b.load_track(L)"
      ],
      "metadata": {
        "id": "oKbHj3Ukd30f"
      },
      "execution_count": null,
      "outputs": []
    },
    {
      "cell_type": "markdown",
      "source": [
        "### 実際のバルクシーケンシングリード"
      ],
      "metadata": {
        "id": "EV2HQknLIWAv"
      }
    },
    {
      "cell_type": "markdown",
      "source": [
        "　今回、指定した個体のシーケンシングリードをランダムに集めてバルクシーケンシングリードを用意しました。しかし、実際のバルクシーケンシングでは少し異なります。\n",
        "\n",
        "　実際のバルクシーケンシングでは、DNAの段階で形質ごとにDNAをプーリングしてシーケンシングします。そのため、プーリングしたどれかの個体のDNAから由来したリードであるのは間違いないですが、どの個体由来のリードかの特定はできません。\n",
        "\n",
        "<img src=\"https://github.com/CropEvol/lecture/blob/master/textbook_2022/images/bulk_sequencing.png?raw=true\" alt=\"bulk sequencing\" height=\"280px\" align=\"middle\">\n",
        "\n"
      ],
      "metadata": {
        "id": "DiPKuvlyIT8y"
      }
    },
    {
      "cell_type": "markdown",
      "source": [
        "　バルクシーケンシングの利点は、なんらかの形質に関わる遺伝子のマッピングをおこなう際、分離集団（例えば、F<small>2</small>個体集団）の各個体を個別にシーケンシングするよりも費用を抑えられるためです。\n",
        "\n",
        "例）シーケンシング費用が1サンプル10,000円の場合:  \n",
        "- F<small>2</small>集団100個体の個別シーケンシング: 1,000,000円\n",
        "- F<small>2</small>集団の二つの形質のバルクシーケンシング: 20,000円<sup>※3</sup>\n",
        "\n",
        "<small>※3 QTL-seqでは形質ごとに数サンプル〜数十サンプル分に相当するデータ量が必要になるため、実際にはもう少しかかります。</small>"
      ],
      "metadata": {
        "id": "jgaX-ttC5vZS"
      }
    },
    {
      "cell_type": "markdown",
      "source": [
        "## 2-2. 実例: イネのバルクシーケンシング解析\n",
        "\n",
        "　イネのバルクシーケンシング解析の実例を見てみましょう。\n",
        "\n",
        "　イネいもち病にかかりにくい品種（抵抗性品種）とかかりやすい品種（罹病性品種）の交配からできた分離集団で、抵抗性個体グループと罹病性個体グループをバルクシーケンシングし、罹病性品種のゲノム配列にアライメントしたデータです。\n",
        "\n",
        "- 参照配列: 罹病性品種のゲノム配列\n",
        "- バルクシーケンシングリード:\n",
        "  - 抵抗性個体のバルクシーケンシングリード\n",
        "  - 罹病性個体のバルクシーケンシングリード\n",
        "\n",
        "<img src=\"https://github.com/CropEvol/lecture/blob/master/textbook_2022/images/qtlseq_takagi_etal_2013_2.png?raw=true\" alt=\"Rice QTL-seq example (Takagi et al., 2013)\" height=\"250px\" align=\"middle\">\n",
        "\n",
        "\n",
        "\n"
      ],
      "metadata": {
        "id": "NxrURWPgZ1mL"
      }
    },
    {
      "cell_type": "markdown",
      "source": [
        "　次の2つのコードセルを実行すると、イネのアライメント結果（イネ6番染色体の15Mbのみ）を見れます。アライメント結果から、形質と連関がありそうなSNP箇所（または、ゲノム領域）を探してみてください。\n",
        "\n",
        "\n"
      ],
      "metadata": {
        "id": "4ZwfP8KGed8x"
      }
    },
    {
      "cell_type": "code",
      "source": [
        "## Colab上にデータファイルのダウンロードする\n",
        "!pip install -q -U igv-notebook==0.3.1\n",
        "!wget -q -O igv_prep.py    https://github.com/CropEvol/lecture/raw/master/textbook_2022/scripts/igv_prep.py\n",
        "!wget -q -O rice_chr6_1_15Mb.fa    https://raw.githubusercontent.com/qqep685d/sample_dataset/main/qtlseq/rice_chr6_1_15Mb.fa\n",
        "!wget -q -O rice_chr6_1_15Mb.fa.fai https://raw.githubusercontent.com/qqep685d/sample_dataset/main/qtlseq/rice_chr6_1_15Mb.fa.fai\n",
        "!wget -q -O rice_R_bulk.bam    https://raw.githubusercontent.com/qqep685d/sample_dataset/main/qtlseq/R_bulk.sample.bam\n",
        "!wget -q -O rice_R_bulk.bam.bai https://raw.githubusercontent.com/qqep685d/sample_dataset/main/qtlseq/R_bulk.sample.bam.bai\n",
        "!wget -q -O rice_S_bulk.bam    https://raw.githubusercontent.com/qqep685d/sample_dataset/main/qtlseq/S_bulk.sample.bam\n",
        "!wget -q -O rice_S_bulk.bam.bai https://raw.githubusercontent.com/qqep685d/sample_dataset/main/qtlseq/S_bulk.sample.bam.bai"
      ],
      "metadata": {
        "id": "brzo0n-nqKak"
      },
      "execution_count": null,
      "outputs": []
    },
    {
      "cell_type": "code",
      "source": [
        "import igv_notebook\n",
        "from igv_prep import RefTrack, AnnotationTrack, BamTrack\n",
        "igv_notebook.init()\n",
        "bam_common_info = { \"displayMode\":\"SQUISHED\", \"alleleFreqThreshold\":0.4, \"height\":200 }\n",
        "\n",
        "## 準備: Reference info\n",
        "ref    = RefTrack({ \"fastaPath\":\"rice_chr6_1_15Mb.fa\", \"indexPath\":\"rice_chr6_1_15Mb.fa.fai\", \"id\":\"Rice\" }, locus=\"chr6:1-10,000\")\n",
        "## 準備: Reads info\n",
        "r_bulk = BamTrack({ **{\"name\":\"R_bulk\", \"path\":\"rice_R_bulk.bam\", \"indexPath\":\"rice_R_bulk.bam.bai\"}, **bam_common_info })\n",
        "s_bulk = BamTrack({ **{\"name\":\"S_bulk\", \"path\":\"rice_S_bulk.bam\", \"indexPath\":\"rice_S_bulk.bam.bai\"}, **bam_common_info })\n",
        "## IGV表示\n",
        "igv_notebook.init()\n",
        "b = igv_notebook.Browser(ref)\n",
        "b.load_track(r_bulk)\n",
        "b.load_track(s_bulk)"
      ],
      "metadata": {
        "id": "13NWp0OnJZhn"
      },
      "execution_count": null,
      "outputs": []
    },
    {
      "cell_type": "markdown",
      "source": [
        "　イネの染色体は12本あります。今回表示したデータは、イネ6番染色体の一部領域のみ（chr6:1-15,000,000）です。この領域に形質と連関するSNP箇所が含まれていますが、このアライメント結果では多量のSNPがあり、目視でそのSNP箇所を探すのは大変です。\n",
        "\n",
        "　次回の実習で、SNP情報をPythonプログラミングで解析し、原因遺伝子があるゲノム領域の探索をしていきましょう。"
      ],
      "metadata": {
        "id": "OtbhrjqCtwYi"
      }
    },
    {
      "cell_type": "markdown",
      "source": [
        "# まとめ\n",
        "\n",
        "　今回、リードアライメントとSNP検出、バルクシーケンシングについて勉強しました。\n",
        "- リードアライメント\n",
        "  - 似た配列の場所を参照配列から探し、参照配列にリードを並べる\n",
        "- SNP検出\n",
        "  - 参照配列とリード配列を比較し、信頼性のある塩基の違い（SNP）を探す\n",
        "- バルクシーケンシング\n",
        "  - 複数個体のDNAをプーリングし、そのバルクDNAをシーケンシングする\n",
        "  - とくに、遺伝子マッピングでは、形質ごとにバルクDNAを用意し、バルクシーケンシングをおこなう\n",
        "\n",
        "  "
      ],
      "metadata": {
        "id": "6pA5YuV1Z6m1"
      }
    },
    {
      "cell_type": "markdown",
      "source": [
        "\n",
        "<div align=\"right\"><a href=\"https://github.com/CropEvol/lecture#section2\">実習表ページに戻る</a></div>"
      ],
      "metadata": {
        "id": "e7If5WFUaAWa"
      }
    }
  ]
}