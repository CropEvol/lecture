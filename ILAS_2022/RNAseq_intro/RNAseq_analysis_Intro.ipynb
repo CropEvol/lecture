{
  "nbformat": 4,
  "nbformat_minor": 0,
  "metadata": {
    "colab": {
      "name": "RNAseq_analysis_Intro.ipynb",
      "provenance": [],
      "collapsed_sections": [
        "rhzrH4n_2y-0",
        "1KhCX0IFw5V-",
        "l5thJZoRYpRw",
        "cPo7zNHOvmIC",
        "zubbfAXFAKN0"
      ],
      "toc_visible": true
    },
    "kernelspec": {
      "name": "python3",
      "display_name": "Python 3"
    },
    "language_info": {
      "name": "python"
    }
  },
  "cells": [
    {
      "cell_type": "markdown",
      "source": [
        "<img src=\"https://github.com/CropEvol/lecture/blob/master/ILAS_2022/01/images/banner.png?raw=true\" alt=\"ILASセミナー「ゲノム博物学入門」\" height=\"100px\" align=\"middle\">\n",
        "\n",
        "# RNA-seq解析：Pythonプログラミング入門\n",
        "\n",
        "<div align=\"right\"><a href=\"https://github.com/CropEvol/lecture#section1\">実習表ページに戻る</a></div>"
      ],
      "metadata": {
        "id": "-bwkUqaNfgzU"
      }
    },
    {
      "cell_type": "markdown",
      "source": [
        "## はじめに\n",
        "\n",
        "　このテキストでは、RNA-seq遺伝子発現解析で得られるデータを使って、Pythonプログラミングを勉強していきます。\n",
        "\n"
      ],
      "metadata": {
        "id": "21Mz4TmLfyTS"
      }
    },
    {
      "cell_type": "markdown",
      "source": [
        "### プログラミング\n",
        "\n",
        "　コンピュータに何らかのデータ処理をおこなわせるには**プログラム（または、コード）**と呼ばれる指示書を作成する必要があります。そのプログラムを書くことを**プログラミング**や**コーディング**と言います。"
      ],
      "metadata": {
        "id": "BQ1DOXrazJNJ"
      }
    },
    {
      "cell_type": "markdown",
      "source": [
        "### Python\n",
        "\n",
        "　プログラミングをおこなうための言語にはいくつか種類があります。**Python**はそのうちのひとつです。\n",
        "\n",
        "　Pythonは、統計解析やグラフ描画、機械学習（Machine Learning）といった各種データ解析でよく使われており、最近ではゲノム解析でも使われています。"
      ],
      "metadata": {
        "id": "jzkw8ZgMzS0H"
      }
    },
    {
      "cell_type": "markdown",
      "source": [
        "### 勉強する内容\n",
        "1. Pythonの基礎（変数と関数）\n",
        "1. データの読み込み\n",
        "1. 条件に合うデータの絞り込み\n",
        "1. グラフ描画"
      ],
      "metadata": {
        "id": "Bo6v0aiz84rc"
      }
    },
    {
      "cell_type": "markdown",
      "source": [
        "## サンプルデータ\n",
        "\n",
        "　RNA-seqリードをアライメントし、遺伝子発現解析をおこなうと下図のような遺伝発現解析結果のデータが得られます。データの中身については後ほど説明します。\n",
        "\n",
        "<img src=\"https://github.com/CropEvol/lecture/blob/master/ILAS_2022/RNAseq_intro/sample_dataset.png?raw=true\" height=\"200px\" align=\"middle\">\n",
        "\n",
        "　このテキストでは、この遺伝発現解析結果のデータを扱って、Pythonプログラミングを勉強していきます。\n",
        "\n",
        "<img src=\"https://github.com/CropEvol/lecture/blob/master/ILAS_2022/RNAseq_intro/gene_expression_dataset.png?raw=true\" align=\"middle\">\n",
        "\n",
        "\n",
        "\n",
        "\n",
        "\n"
      ],
      "metadata": {
        "id": "DoZQL75BhjQ2"
      }
    },
    {
      "cell_type": "markdown",
      "source": [
        "### サンプルデータのダウンロード"
      ],
      "metadata": {
        "id": "OkOHrKD9ivld"
      }
    },
    {
      "cell_type": "code",
      "execution_count": null,
      "metadata": {
        "id": "_FVlW1Kqfb8s"
      },
      "outputs": [],
      "source": [
        "!wget -O \"dataset.txt\" https://raw.githubusercontent.com/CropEvol/lecture/master/data/ILAS_GEdataset.csv"
      ]
    },
    {
      "cell_type": "markdown",
      "source": [
        "## 1. Pythonの基礎（変数と関数）\n",
        "\n",
        "　最初に、簡単なプログラミングをおこなってみましょう。\n",
        "\n",
        "　すぐ下の灰色枠（コードセル）に二行のプログラムが書かれています。このプログラムを実行してみましょう。\n",
        "\n",
        "実行方法: コードセルの左にある「▶︎マーク」をクリックする"
      ],
      "metadata": {
        "id": "EwbqfxyGh4Yu"
      }
    },
    {
      "cell_type": "code",
      "source": [
        "dna = \"AGATCG\"\n",
        "print(dna)"
      ],
      "metadata": {
        "id": "QiuSyjURhwks"
      },
      "execution_count": null,
      "outputs": []
    },
    {
      "cell_type": "markdown",
      "source": [
        "### 変数"
      ],
      "metadata": {
        "id": "DW4WBzFtk4Ho"
      }
    },
    {
      "cell_type": "markdown",
      "source": [
        "　上のコードセルの一行目のコードは、`\"AGATCG\"`の文字列を`dna`という名前の**変数**に代入しています。\n",
        "\n",
        "　変数は、データを一時的に保存できる箱のようなものです。今回の場合、`dna`がその変数の名前です。変数の名前は、基本的には自由に設定できます。\n",
        "\n",
        "　変数には、様々なデータを保存できます。上のコード例では、文字列`\"AGATCG\"`を変数に入れています。\n",
        "\n",
        "<img src=\"https://github.com/CropEvol/lecture/blob/master/ILAS_2022/RNAseq_intro/variable_example.png?raw=true\" height=\"150px\" align=\"middle\">\n",
        "\n",
        "　変数に収めたデータは、変数名を指定することで何度でも中身のデータを呼び出せます。上のコード例では、二行目で変数名を使って、変数の中身のデータ`\"AGATCG\"`を取り出しています。"
      ],
      "metadata": {
        "id": "69lcPF6Wk83R"
      }
    },
    {
      "cell_type": "markdown",
      "source": [
        "### print関数"
      ],
      "metadata": {
        "id": "jB9IQElAk-8x"
      }
    },
    {
      "cell_type": "markdown",
      "source": [
        "　二行目で`print`関数と呼ばれる**関数**を使用しています。\n",
        "\n",
        "　関数は、あらかじめ指定された動作をおこなうツールのことです。`print`関数は、この関数にデータを与えると、それを画面に表示する機能をもっています。今回の場合、`print`関数に変数`dna`を与えているため、`dna`の中身のデータが画面に表示されています。\n",
        "\n",
        "　Pythonには、他にも様々な関数があります（例えば、文字数やデータ数を調べる`len`関数など）。プログラミングは関数を組み合わせて、一連の動作をおこなうプログラムを作っていく作業です。\n",
        "\n",
        "<img src=\"https://github.com/CropEvol/lecture/blob/master/ILAS_2022/RNAseq_intro/functions_example.png?raw=true\" height=\"350px\" align=\"middle\">"
      ],
      "metadata": {
        "id": "QQP3snUAlAmm"
      }
    },
    {
      "cell_type": "markdown",
      "source": [
        "### 実習1-1\n",
        "\n",
        "　次のプログラムには、別々の数字が入った二つの変数と、それら変数を使った四則計算の結果を表示するコードが書かれています。\n",
        "\n",
        "　変数の数字を変更して、計算結果が変わることを確認してください。"
      ],
      "metadata": {
        "id": "ilt2Dk97lIqf"
      }
    },
    {
      "cell_type": "code",
      "source": [
        "### 実習1-1\n",
        "x = 25\n",
        "y = 100\n",
        "\n",
        "print(x + y)\n",
        "print(x - y)\n",
        "print(x * y)\n",
        "print(x / y)"
      ],
      "metadata": {
        "id": "H8EQM8IxmrMn"
      },
      "execution_count": null,
      "outputs": []
    },
    {
      "cell_type": "markdown",
      "source": [
        "### 実習1-2\n",
        "\n",
        "　次のプログラムには、2種類のDNA配列（`GAATTC`、`TTAA`）が書かれています。\n",
        "\n",
        "　このプログラムを編集して、変数を使ったプログラムにしてください。"
      ],
      "metadata": {
        "id": "6f3NgSHS11Di"
      }
    },
    {
      "cell_type": "code",
      "source": [
        "print(\"GAATTC\")\n",
        "print(\"TTAA\")\n",
        "print(\"TTAA\")\n",
        "print(\"GAATTC\")"
      ],
      "metadata": {
        "id": "EL-xBYoL1z0F"
      },
      "execution_count": null,
      "outputs": []
    },
    {
      "cell_type": "markdown",
      "source": [
        "#### 解答例"
      ],
      "metadata": {
        "id": "rhzrH4n_2y-0"
      }
    },
    {
      "cell_type": "code",
      "source": [
        "x = \"GAATTC\"\n",
        "y = \"TTAA\"\n",
        "\n",
        "print(x)\n",
        "print(y)\n",
        "print(y)\n",
        "print(x)"
      ],
      "metadata": {
        "id": "QRqxNU-K32Fs"
      },
      "execution_count": null,
      "outputs": []
    },
    {
      "cell_type": "markdown",
      "source": [
        "## 2. データの読み込み\n",
        "\n",
        "　ファイルに書かれたデータを使って解析をおこなうには、そのファイルをPythonで読み込む必要があります。\n",
        "\n",
        "　ダウンロードしたサンプルデータをPythonで読み込んでみましょう。テーブル状のテキストデータを読み込むには、pandasと呼ばれる表計算解析用ライブラリ（追加機能）の`read_csv`関数を利用します。\n",
        "\n",
        "　`pandas.read_csv`関数で読み込まれたデータは、**データフレーム**と呼ばれるデータ形式で変数に一時保存されます。\n",
        "\n",
        "```python\n",
        "# ライブラリ（追加機能）の準備\n",
        "import pandas\n",
        "# データの読み込み\n",
        "データフレーム変数 = pandas.read_csv(\"<ファイル名>\")\n",
        "# 表示\n",
        "データフレーム変数\n",
        "```"
      ],
      "metadata": {
        "id": "Vsn-ncpwiEw9"
      }
    },
    {
      "cell_type": "code",
      "source": [
        "# ライブラリ（追加機能）の準備\n",
        "import pandas\n",
        "\n",
        "# データの読み込み\n",
        "df = pandas.read_csv(\"dataset.txt\")\n",
        "\n",
        "# 表示\n",
        "df"
      ],
      "metadata": {
        "id": "zGrPSg8-oRzT"
      },
      "execution_count": null,
      "outputs": []
    },
    {
      "cell_type": "markdown",
      "source": [
        "　このデータセットには、1行に1件（1遺伝子）分のデータが入っています。\n",
        "\n",
        "　各列には以下の情報が書かれています。\n",
        "- `GeneID`: 遺伝子名\n",
        "- `SMP1_Count`: サンプル1の発現量（リードカウント）\n",
        "- `SMP2_Count`: サンプル2の発現量（リードカウント）\n",
        "- `logFC`: サンプル1の発現量に対するサンプル2の発現量の比\n",
        "  - logFC<0: サンプル1のほうが発現量が大きい\n",
        "  - logFC>0: サンプル2のほうが発現量が大きい\n",
        "- `logCPM`: 発現量の大きさを表す指標\n",
        "- `PValue`: サンプル1とサンプル2の発現量の間に、統計的に差があるかどうかの指標\n",
        "- `FDR`: 偽陽性の確率\n",
        "- `GeneSeq`: 遺伝子の塩基配列\n"
      ],
      "metadata": {
        "id": "2Qd85s2PAKTd"
      }
    },
    {
      "cell_type": "markdown",
      "source": [
        "### 列データの取り出し方\n",
        "\n",
        "　pandasデータフレームでデータ処理をおこなうとき、任意の列データを取り出すことがよくあります。列データの取り出し方は次のとおりです。\n",
        "\n",
        "```python\n",
        "データフレーム変数[\"列名\"]\n",
        "　または\n",
        "データフレーム変数.列名\n",
        "```"
      ],
      "metadata": {
        "id": "GPeK4M6hwLTp"
      }
    },
    {
      "cell_type": "code",
      "source": [
        "df[\"GeneID\"]"
      ],
      "metadata": {
        "id": "9AweOP_ewnGf"
      },
      "execution_count": null,
      "outputs": []
    },
    {
      "cell_type": "code",
      "source": [
        "df.GeneID"
      ],
      "metadata": {
        "id": "fn7sXqghOY0J"
      },
      "execution_count": null,
      "outputs": []
    },
    {
      "cell_type": "markdown",
      "source": [
        "### 実習2-1\n",
        "\n",
        "　データフレーム`df`から「GeneSeq」の列データを取り出してください。"
      ],
      "metadata": {
        "id": "b7cq-YtGwoTz"
      }
    },
    {
      "cell_type": "code",
      "source": [
        ""
      ],
      "metadata": {
        "id": "nN3_HEFdw5CB"
      },
      "execution_count": null,
      "outputs": []
    },
    {
      "cell_type": "markdown",
      "source": [
        "#### 解答例"
      ],
      "metadata": {
        "id": "1KhCX0IFw5V-"
      }
    },
    {
      "cell_type": "code",
      "source": [
        "df[\"GeneSeq\"]"
      ],
      "metadata": {
        "id": "e7S1zhIYw7Lp"
      },
      "execution_count": null,
      "outputs": []
    },
    {
      "cell_type": "markdown",
      "source": [
        "### 列データの使い方の一例\n",
        "\n",
        "　次のプログラムは、取り出した1列分のデータの使い方の一例です。例のように、1列分のデータに対する不等式を書くことで、条件に合っている（`True`）/合っていない（`False`）のリスト状データを作ることができます。"
      ],
      "metadata": {
        "id": "nKi1xa0PWltY"
      }
    },
    {
      "cell_type": "code",
      "source": [
        "df[\"logFC\"] > 0"
      ],
      "metadata": {
        "id": "WGZ_tAIzWpYQ"
      },
      "execution_count": null,
      "outputs": []
    },
    {
      "cell_type": "markdown",
      "source": [
        "### 実習2-2\n",
        "\n",
        "　「`FDR`列が0.05より小さいかどうか」を表すリスト状データを作ってください。"
      ],
      "metadata": {
        "id": "P7K1kParYI4j"
      }
    },
    {
      "cell_type": "code",
      "source": [
        ""
      ],
      "metadata": {
        "id": "Xf-neGdIYo4c"
      },
      "execution_count": null,
      "outputs": []
    },
    {
      "cell_type": "markdown",
      "source": [
        "#### 解答例"
      ],
      "metadata": {
        "id": "l5thJZoRYpRw"
      }
    },
    {
      "cell_type": "code",
      "source": [
        "df[\"FDR\"] < 0.05"
      ],
      "metadata": {
        "id": "5JlYWxpTYrRE"
      },
      "execution_count": null,
      "outputs": []
    },
    {
      "cell_type": "markdown",
      "source": [
        "## 3. 条件に合うデータを取り出す\n",
        "\n",
        "　サンプルデータには1000行のデータが入っています。ここから必要なデータのみを残す（条件に合うデータを取り出す）方法を学びましょう。\n",
        "\n",
        "　条件に合ったデータの取り出すには、次のようなコードを書きます。条件式の部分は、さきほどの「列データの使い方の一例」で勉強した不等式のコードが入ります。\n",
        "\n",
        "```python\n",
        "# データの絞り込み\n",
        "新しい変数 = データフレーム変数[条件式]\n",
        "# 表示\n",
        "新しい変数\n",
        "```"
      ],
      "metadata": {
        "id": "0QKp52c2pCSu"
      }
    },
    {
      "cell_type": "code",
      "source": [
        "# データの絞り込み\n",
        "df2 = df[df[\"logFC\"] > 0]\n",
        "\n",
        "# 表示\n",
        "df2"
      ],
      "metadata": {
        "id": "kma2dcdqpEHo"
      },
      "execution_count": null,
      "outputs": []
    },
    {
      "cell_type": "markdown",
      "source": [
        "### 実習3\n",
        "\n",
        "　「FDR」が0.05よりも小さいデータを取り出して、新しいデータフレーム`df2`を作ってください。\n",
        "\n",
        "※ 遺伝子発現解析では、「FDR < 0.05」のときに発現量に差がある遺伝子とみなすことが多いです。"
      ],
      "metadata": {
        "id": "gYIIM99Evfsp"
      }
    },
    {
      "cell_type": "code",
      "source": [
        "# データの絞り込み\n",
        "df2 = df\n",
        "\n",
        "# 表示\n",
        "df2"
      ],
      "metadata": {
        "id": "ozQlL3OVv6Cd"
      },
      "execution_count": null,
      "outputs": []
    },
    {
      "cell_type": "markdown",
      "source": [
        "#### 解答例"
      ],
      "metadata": {
        "id": "cPo7zNHOvmIC"
      }
    },
    {
      "cell_type": "code",
      "source": [
        "# データの絞り込み\n",
        "df2 = df[df[\"FDR\"] < 0.05]\n",
        "\n",
        "# 表示\n",
        "df2"
      ],
      "metadata": {
        "id": "4HG79wHtv9H3"
      },
      "execution_count": null,
      "outputs": []
    },
    {
      "cell_type": "markdown",
      "source": [
        "## 4. グラフ描画\n",
        "\n",
        "　Pythonでは、データの情報を元にして、様々なグラフを描画できます。\n",
        "\n",
        "　ここでは、「logFC」が0より小さい遺伝子（サンプル2の方が発現量が大きい遺伝子）と、「logFC」が0より大きい遺伝子（サンプル1の方が発現量が大きい遺伝子）のそれぞれ個数を棒グラフにしてみましょう。\n",
        "\n",
        "グラフ描画の手順:\n",
        "1. 目的のグラフを描くために、「logFC < 0かどうか」のデータを準備する\n",
        "  ```python\n",
        "  # logFC < 0かどうか\n",
        "  # 真ならTrue、偽ならFalseのリスト状データが得られる\n",
        "  df[\"logFC\"] < 0\n",
        "  ```\n",
        "1. 1のデータをデータフレームの1列として追加する（データフレームにカテゴリーデータ列を作る）\n",
        "  ```python\n",
        "  # 新しい列として追加する\n",
        "  df[\"新しい列名\"] = df[\"logFC\"] < 0\n",
        "  ```\n",
        "1. Seabornライブラリの`countplot`関数を使って棒グラフを描画する\n",
        "  ```python\n",
        "  # 棒グラフを描く\n",
        "  import seaborn\n",
        "  seaborn.countplot(data=データフレーム変数, x=\"カテゴリーデータの列名\")\n",
        "\n",
        "  ```"
      ],
      "metadata": {
        "id": "unHwrl1cq3Va"
      }
    },
    {
      "cell_type": "code",
      "source": [
        "# （復習） 「logFC < 0」かどうか\n",
        "# 真ならTrue、偽ならFalseのリスト状データが得られる\n",
        "df[\"logFC\"] < 0"
      ],
      "metadata": {
        "id": "XsoWO1aeq1yy"
      },
      "execution_count": null,
      "outputs": []
    },
    {
      "cell_type": "code",
      "source": [
        "# 新しい列として追加する\n",
        "df[\"logFC_neg\"] = df[\"logFC\"] < 0\n",
        "\n",
        "# 表示\n",
        "df"
      ],
      "metadata": {
        "id": "iQjTDEKC-0IZ"
      },
      "execution_count": null,
      "outputs": []
    },
    {
      "cell_type": "code",
      "source": [
        "# 棒グラフを描く\n",
        "import seaborn\n",
        "seaborn.countplot(data=df, x=\"logFC_neg\")"
      ],
      "metadata": {
        "id": "yeG_GhNm_FMd"
      },
      "execution_count": null,
      "outputs": []
    },
    {
      "cell_type": "markdown",
      "source": [
        "### 実習4\n",
        "\n",
        "　「FDR < 0.05」のデータ（発現量に差があるとみなせる遺伝子）とそうでないデータ（差がないとみなせるる遺伝子）の個数を、棒グラフで描いて比較してください。\n"
      ],
      "metadata": {
        "id": "Uvpv3vJI_ePx"
      }
    },
    {
      "cell_type": "code",
      "source": [
        "# # 「FDR < 0.05」かどうかを、新しい列として追加\n",
        "df[\"sig\"] = \n",
        "\n",
        "# 棒グラフの描画\n",
        "import seaborn\n",
        "seaborn.countplot()"
      ],
      "metadata": {
        "id": "ON7rJ-bRADs8"
      },
      "execution_count": null,
      "outputs": []
    },
    {
      "cell_type": "markdown",
      "source": [
        "#### 解答例"
      ],
      "metadata": {
        "id": "zubbfAXFAKN0"
      }
    },
    {
      "cell_type": "code",
      "source": [
        "# 「FDR < 0.05」かどうかを、新しい列として追加\n",
        "df[\"sig\"] = df[\"FDR\"] < 0.05\n",
        "\n",
        "# 棒グラフの描画\n",
        "import seaborn\n",
        "seaborn.countplot(data=df, x=\"sig\")"
      ],
      "metadata": {
        "id": "diDn0jKYALfn"
      },
      "execution_count": null,
      "outputs": []
    },
    {
      "cell_type": "markdown",
      "source": [
        "---\n",
        "\n",
        "## 今回勉強したこと\n",
        "\n",
        "　今回、以下の事柄の勉強をおこないました。\n",
        "- Pythonの基礎（**変数**と**関数**）\n",
        "- データの読み込み\n",
        "- 条件に合ったデータの取り出し\n",
        "- グラフ描画\n",
        "\n",
        "　Pythonを使って、RNA-seq遺伝子発現解析データの読み込みをおこない、統計的に有意とみなせる遺伝子（`FDR` < 0.05）のリストを作れるようになりました。また、グラフを作成してデータを視覚化する方法についても少し勉強しました。\n",
        "\n",
        "　このILASセミナーでは、Pythonプログラミングを覚えることが目的ではありませんので、今日おこなったプログラミングを覚えてもらう必要はありません。実際の研究では、このようなツールを使ってRNA-seq解析をおこなっているのだなと理解してもらえればOKです。\n"
      ],
      "metadata": {
        "id": "hJFhKFGt4dO5"
      }
    },
    {
      "cell_type": "markdown",
      "source": [
        "## 別の教材\n",
        "\n",
        "　このテキストでは、Pythonの基礎の大部分を省略しました。もう詳しくPython\n",
        "プログラミングを学びたい人向けに、以下の教材も用意しています。\n",
        "\n",
        "- [Python基礎](https://colab.research.google.com/github/CropEvol/lecture/blob/master/ILAS_2022/01/L01_python_basis.ipynb)\n",
        "- [Pythonデータ解析基礎](https://colab.research.google.com/github/CropEvol/lecture/blob/master/ILAS_2022/02/L02_python_analysis.ipynb)\n",
        "- [ゲノム情報解析入門](https://github.com/CropEvol/lecture#section2)（全14回）"
      ],
      "metadata": {
        "id": "-ZviwkJxspMm"
      }
    },
    {
      "cell_type": "markdown",
      "source": [
        "<div align=\"right\"><a href=\"https://github.com/CropEvol/lecture#section1\">実習表ページに戻る</a></div>"
      ],
      "metadata": {
        "id": "mwJ348T6ugAw"
      }
    },
    {
      "cell_type": "markdown",
      "source": [
        "## チャレンジ問題\n",
        "\n",
        "　「FDR < 0.05」のデータ（統計的に有意な差があるとみなせる遺伝子データ）について、Sample1のほうが発現量が多いデータの個数とSample2のほうが発現量が多いデータの個数を調べてください。\n",
        "\n",
        "　また、調べた個数を棒グラフとして表現してください。\n",
        "\n",
        "ヒント:\n",
        "1.  「FDR < 0.05」を満たすデータのみの抽出したデータフレームを用意する\n",
        "1. Sample1のほうが発現量が多いデータは「logFC > 0」を満たすデータ"
      ],
      "metadata": {
        "id": "7MsVQav9hbSd"
      }
    },
    {
      "cell_type": "code",
      "source": [
        ""
      ],
      "metadata": {
        "id": "estDFaGgkdRq"
      },
      "execution_count": null,
      "outputs": []
    }
  ]
}