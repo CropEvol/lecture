{
  "cells": [
    {
      "cell_type": "markdown",
      "metadata": {
        "id": "mj8ze55Kt2Rx"
      },
      "source": [
        "<img src=\"https://github.com/CropEvol/lecture/blob/master/ILAS_2022/01/images/banner.png?raw=true\" alt=\"ILASセミナー「ゲノム博物学入門」\" height=\"100px\" align=\"middle\">\n",
        "\n",
        "# RNA-seq解析：PythonでBLAST検索\n",
        "\n",
        "<div align=\"right\"><a href=\"https://github.com/CropEvol/lecture#section1\">実習表ページに戻る</a></div>"
      ]
    },
    {
      "cell_type": "markdown",
      "metadata": {
        "id": "u_VIhucruBwg"
      },
      "source": [
        "## はじめに\n",
        "\n",
        "　前回、Pythonの基礎（変数、関数）とデータの読み込み、条件に合うデータの取り出し、グラフ描画を勉強しました。\n",
        "\n",
        "　今回、以前勉強したBLAST検索をPythonで実行する方法と、そのBLAST検索を複数個の遺伝子すべてに対して実行する方法（処理の自動化方法）を勉強していきます。\n"
      ]
    },
    {
      "cell_type": "markdown",
      "metadata": {
        "id": "TOVrJWvPxup-"
      },
      "source": [
        "## 相同性検索（BLAST検索）\n",
        "\n",
        "　手元にある塩基配列とよく似た配列（相同配列）をデータベースから探す方法です。以前のセミナーで、[NCBIのBLAST検索](https://blast.ncbi.nlm.nih.gov/Blast.cgi?PROGRAM=blastx&PAGE_TYPE=BlastSearch&LINK_LOC=blasthome)をおこなってもらいました。\n",
        "\n",
        "<img src=\"https://github.com/CropEvol/lecture/blob/master/ILAS_2022/RNAseq_intro/blast_images.png?raw=true\" height=\"250px\" align=\"middle\">"
      ]
    },
    {
      "cell_type": "markdown",
      "metadata": {
        "id": "oxbgMe8LybB1"
      },
      "source": [
        "## 今回の実習内容の流れ\n",
        "1. PythonでBLAST検索する\n",
        "1. 複数個の遺伝子をBLAST検索する\n",
        "  1. Python基礎: 繰り返し構文\n",
        "  1. BLAST検索の繰り返し処理\n",
        "1. 前回の遺伝子発現解析データセットの遺伝子をBLAST検索してみよう\n",
        "  1. 遺伝子名と遺伝子配列を取り出す\n",
        "  1. 遺伝子名と遺伝子配列を同時に繰り返し処理する\n",
        "  1. BLAST検索する\n",
        "  1. `FDR<0.05`の遺伝子のみをBLAST検索する"
      ]
    },
    {
      "cell_type": "markdown",
      "source": [
        "## 1. PythonでBLAST検索する\n",
        "\n",
        "　PythonでBLAST検索をおこなうには、生物学データ処理ライブラリ**Biopython**を使用します。\n",
        "\n",
        "　前回使用した表計算ライブラリpandas　やグラフ描画ライブラリmatplotlib　とは異なり、BiopythonはGoogle Colaboratory（以下、Colab）にはインストールされていません。ColabでBiopythonを使用するには、まずインストールする必要があります。\n",
        "\n",
        "　そのほかに、Colab上でBLAST検索をするために、以下のことをしています。\n",
        "- NCBI Swissprotデータベースをダウンロード\n",
        "- BLASTソフトウェアをダウンロード\n",
        "\n",
        "<small>※ BLAST検索時に、NCBI上のデータベースにアクセスすることも可能ですが、検索に時間がかかるため、Colabにデータベースをダウンロードし、Colab上でBLAST検索できるようにします。</small>"
      ],
      "metadata": {
        "id": "IcFkgYgfv-_U"
      }
    },
    {
      "cell_type": "code",
      "source": [
        "!pip install -q biopython\n",
        "!wget -q -O - \"https://ftp.ncbi.nlm.nih.gov/blast/db/swissprot.tar.gz\" | tar zxf -\n",
        "!wget -q -O - \"https://ftp.ncbi.nlm.nih.gov/blast/executables/blast+/LATEST/ncbi-blast-2.13.0+-x64-linux.tar.gz\" | tar zxf - \n",
        "!cp -f /content/ncbi-blast-2.13.0+/bin/* /usr/bin"
      ],
      "metadata": {
        "id": "tYGH0ev1uXG3"
      },
      "execution_count": null,
      "outputs": []
    },
    {
      "cell_type": "markdown",
      "source": [
        "　BLAST検索プログラムをイチから作るのは大変なので`run_blast`という関数を準備しています。\n",
        "\n",
        "<small>※ この関数に先ほどインストールしたBiopythonを使用しています。Biopythonはこれ以降表舞台に出てきませんが、`run_blast`関数を呼び出したときに裏方として毎回活躍しています。</small>"
      ],
      "metadata": {
        "id": "zdcva7ih2wBd"
      }
    },
    {
      "cell_type": "code",
      "source": [
        "import io\n",
        "from Bio import SeqIO\n",
        "from Bio.Seq import Seq\n",
        "from Bio.SeqRecord import SeqRecord\n",
        "from Bio.Blast import NCBIXML\n",
        "from Bio.Blast import Applications\n",
        "\n",
        "def run_blast(seq, db=\"swissprot\"):\n",
        "  # 関数に与えられたDNA配列のフォーマットを変換\n",
        "  with open(\"seq.fa\", \"w\") as out:\n",
        "    SeqIO.write(SeqRecord(Seq(seq), id=\"sequence\"), out, \"fasta\")\n",
        "  # BLASTxの実行\n",
        "  handle = Applications.NcbiblastxCommandline(query=\"seq.fa\", db=db, outfmt=5)()[0]\n",
        "  recs = NCBIXML.parse(io.StringIO(handle))\n",
        "  for rec in recs:\n",
        "    # 検索結果がひとつ以上のとき、ベストスコアの結果のみ取得\n",
        "    for alignment in rec.alignments:\n",
        "      for hsp in alignment.hsps:\n",
        "        return alignment.accession, alignment.hit_def\n",
        "    # 検索結果がNot Foundのとき\n",
        "    return None, None\n",
        "\n",
        "print('使い方: run_blast(<遺伝子配列>)')\n",
        "print('戻り値: <BLAST_ID>, <BLAST_Full (詳細)>')\n",
        "print('コード例: blast_id, blast_full = run_blast(\"ATGCCTATAG\")')"
      ],
      "metadata": {
        "id": "MQFKZXvw2wBd"
      },
      "execution_count": null,
      "outputs": []
    },
    {
      "cell_type": "markdown",
      "source": [
        "　BLAST検索の準備ができたので、一個の遺伝子のBLAST検索を試してみましょう。\n",
        "\n",
        "```python\n",
        "# BLAST検索: run_blast()の使い方\n",
        "<BLAST検索結果のID>, <BLAST検索結果の詳細> = run_blast(<遺伝子配列>)\n",
        "```"
      ],
      "metadata": {
        "id": "c6fJaDWr2lXY"
      }
    },
    {
      "cell_type": "code",
      "source": [
        "# 使用するDNA配列\n",
        "gene = \"GGGTGCGTGCGTGCGCCGGAGAGCCGGGGCGGCCGCCGGGGTTGTGTCGTCCTCCATGCTCACGATGTGTACTTACAGCGTTCAAAACTCGCGCGATCACGGCGCGGCCAGGCGCCACGCCGAGGTGGCGATCAGCGGGCGCGTGTGCCATCCCAGCGTCAGGCAGCCTTCCTTCTCCTCGACCTTGTACCCGTCGCCGCCGGCGAAGAGCGCCAGCAGCGTGCTCGCCTGCTTGTAGGCATTGGACCCCAGGTGGACGGTCTCGAACCCGGCGTTGCCCAGGCGGTTCCGCCACTGCCCCAGGGTCTCGTGGCGCTCTGTGCGCTCCGCTCCCTCGCAGGCCACCACGTTGCAGATCTGCCGGCCGAGGTACACCTCGGACATGACCTGGTCCGTGCCGGCCGCGGCAGGAGCGGCAGCCGGCCCCGATGAGACTTCGGATGGGCCGCCGCCGGAGCTGCCGCCCTCCAGAGAATCGAACATGGTGGAGTAGTAGTGCAGGGACTCGGTGAAGCGGTCCAGGAATGTGCCGGAGTTGTGGTTGGCCTCCTGCTCCACCACGGTGACGATCCTCGGCCGCACGGCGCGCACGGTGCCCAGGACCTTCTCCAGGGCGCCGGGCTGCGCCAGCAGCCGGTGCATCTCGAAGACTGAGTTGACGGCGATTACCTCCGGCTCCTCGTTCGGGTCCTCCTCGCCCTCCGGCTGCAGCATGAACGGCTCCAGGTCCGCGAGCGTGGCGGCGACGAGGCCGCGGTACTGGAAGTCGACGCGGATGGTGTGCGCGAACTGGGCGAGCTTCCAGCCCACCTGCTGCAGGGCGTCGGTCTCGTCCGGCTGCGGGGGTCCGACGCCGGTGAGGCGGAACGAGGGAGGGCCGCCGGGACGGAGGGCCAGTGCCTGGAGGAGGGCGGGCCACTGCATCCCCTGCTTGATGCCGAAGTCGACGACGTGCACGCGGCGGCAGCCGGCGAAGGCCTCCAGGATGGCCTGGTTGGCGGTGAAGTGGGCGAACTTGAGGTAGGGGCAGGACTCGTAGAAGTGCGCGTGGAGGAGGTCGGC\"\n",
        "\n",
        "# BLAST検索の実行\n",
        "blast_id, blast_full = run_blast(gene)\n",
        "\n",
        "# BLAST検索結果\n",
        "print(blast_id)\n",
        "print(blast_full)"
      ],
      "metadata": {
        "id": "PhO9p7UgwyO-"
      },
      "execution_count": null,
      "outputs": []
    },
    {
      "cell_type": "markdown",
      "source": [
        "## 2. 複数個の遺伝子をBLAST検索する\n",
        "\n",
        "　ここから複数個の遺伝子をどのようにして処理（BLAST検索）するか勉強していきます。\n",
        "\n",
        "　下のコードセルに5つの遺伝子配列を用意しました。それら遺伝子配列は変数`genes`にリスト型データとして入っています。"
      ],
      "metadata": {
        "id": "Xw21n9uqv-2f"
      }
    },
    {
      "cell_type": "code",
      "source": [
        "genes = [\"CATATCAATATGCATGGGTAATCCCTCTTCTCCCACTTCCAGTTATTATGTCAATGGGATTTGGCCTTATTCTTATTCCGACAGCAACAAAAAATCTTCGTCGCATATGGGCTTTTCCTAGTGTTTTACTCTTAAGTATAGCTATGGTATTCTCAGTTCAACTGTCTATTCAACAAATAAATGGAAGTTC\",\n",
        "          \"AATCAATATACTTTTAATGTCGAATCGGGATTCACTAAGACAGAAATAAAGCATTGGGTCGAACTCTTCTTTGGTGTTAAGGTGGTAGCTGTGAATAGCCATCGACTACCTGGAAAAGGTAGAAGAATAGGACCTATTCTGGACCATACAATGCATTACAGACGTATGATCATTACCCTTCAACCGGGTTATTCTATTCCACTTCTAGATAGAGAAAAAAACTAA\",\n",
        "          \"ATGACGGATTTAAACTTACCTTCTATTTTCGTGCCTTTAGTAGGCTTAGTATTTCCGGCAATTGCAATGACTTCTTTATTTCTTTATGTGCAAAAAAATAAGATTGTCTAG\",\n",
        "          \"CCACCCGACGGACGAGGAGCTGGTGGCGGACTACCTCTGCGCGCGCGCGGCCGGGCGCGCGCCGCCGGTGCCCATCATCGCCGAGCTCGACCTCTACCGGTCCGACCCGTGGGAGCTCCCGGAGCGGGCGCTCTTCGGGGCGCGGGAGTGGTACTTCTTCACGCCGCGGGACCGCAAGTACCCCAACGGCTCCCGCCCCAGCCGGGCCGCCGGGGGCGGCTACTGGAAGGCCACCGGCGCCGACAGGCCCGTGGCGCACGCGGGCAGG\",\n",
        "          \"ATGAAGAACTTCCTCGTCTTTGCCCTCCTCGCCGTTGTGGCGACAAGTACCATTGCACAGATGGAGACTAGCTGCATCCCTGGTTTGGAGAGACCATGGCAGCAGCAACCATTACCACCACAACAGTCATTTTCACAACAACCACCATTTCCACAACAACAACAACCATTACCTCAACAACCATCAATTTCGCAGCAACAACCACCATTTTTGCAGCAACAAGGACCACCATTTTCACAGCA\",\n",
        "]"
      ],
      "metadata": {
        "id": "x_-uj71F-J2S"
      },
      "execution_count": null,
      "outputs": []
    },
    {
      "cell_type": "markdown",
      "source": [
        "　リスト内のそれぞれの遺伝子配列にアクセスするには、リスト内の通し番号（インデックス）を指定します。\n",
        "\n",
        "<img src=\"https://github.com/CropEvol/lecture/blob/master/ILAS_2022/RNAseq_intro/list_data.png?raw=true\" height=\"200px\" align=\"middle\">"
      ],
      "metadata": {
        "id": "NSPAOt9cv-uz"
      }
    },
    {
      "cell_type": "code",
      "source": [
        "# 最初（インデックス0）の遺伝子\n",
        "print(genes[0])\n",
        "# インデックス1の遺伝子\n",
        "print(genes[1])\n",
        "# インデックス2の遺伝子\n",
        "print(genes[2])\n",
        "# インデックス3の遺伝子\n",
        "print(genes[3])\n",
        "# インデックス4の遺伝子\n",
        "print(genes[4])\n"
      ],
      "metadata": {
        "id": "BMSKfrJ3_r6T"
      },
      "execution_count": null,
      "outputs": []
    },
    {
      "cell_type": "markdown",
      "source": [
        "　遺伝子数が少ない場合はこのようなプログラムでも良いですが、遺伝子数が数百、数千、数万の場合、1遺伝子1行のコードを並べるのも大変です。\n",
        "\n",
        "　そこで、もうすこし上手に各遺伝子にアクセスする方法を学びましょう。\n"
      ],
      "metadata": {
        "id": "HQ2jsUsWZhdM"
      }
    },
    {
      "cell_type": "markdown",
      "source": [
        "### 2-1. Python基礎: 繰り返し構文\n",
        "　**繰り返し構文（`for`構文）**というものを使うと、「リストデータから1遺伝子を取り出し、それを表示する」という処理を繰り返せます。\n",
        "\n",
        "```python\n",
        "for 変数 in リスト:\n",
        "  print(変数)\n",
        "```"
      ],
      "metadata": {
        "id": "yvGzCMkSay9Q"
      }
    },
    {
      "cell_type": "code",
      "source": [
        "# 遺伝子をひとつずつ取り出す\n",
        "for g in genes:\n",
        "  # 取り出した遺伝子を表示\n",
        "  print(g)"
      ],
      "metadata": {
        "id": "UZmsnLZSaT3J"
      },
      "execution_count": null,
      "outputs": []
    },
    {
      "cell_type": "markdown",
      "source": [
        "### 2-2. BLAST検索の繰り返し処理\n",
        "\n",
        "　`for`構文中で、取り出した遺伝子配列を`run_blast`関数に与えてやれば、リスト内の遺伝子を順番にBLAST検索できます。\n",
        "\n",
        "　下のコードセルの8行目にどのようなコードを書けばよいでしょうか？\n",
        "\n",
        "```python\n",
        "# ヒント: run_blast()の使い方\n",
        "<BLAST検索結果のID>, <BLAST検索結果の詳細> = run_blast(<遺伝子配列>)\n",
        "```\n"
      ],
      "metadata": {
        "id": "eEM4xC0mv-YH"
      }
    },
    {
      "cell_type": "code",
      "source": [
        "# 遺伝子をひとつずつ取り出す\n",
        "for g in genes:\n",
        "\n",
        "  # 取り出した遺伝子を表示\n",
        "  #print(g)\n",
        "\n",
        "  # 取り出した遺伝子のBLAST検索実行と結果確認\n",
        "  blast_id, blast_full = \n",
        "  print(blast_id, blast_full)"
      ],
      "metadata": {
        "id": "2KtTGig6QQG6"
      },
      "execution_count": null,
      "outputs": []
    },
    {
      "cell_type": "markdown",
      "metadata": {
        "id": "ka7mhbCFvr1I"
      },
      "source": [
        "## 前回の遺伝子発現解析データセットの遺伝子をBLAST検索してみよう\n",
        "\n",
        "　ここから前回のサンプルデータを扱います。\n",
        "\n",
        "<img src=\"https://github.com/CropEvol/lecture/blob/master/ILAS_2022/RNAseq_intro/gene_expression_dataset.png?raw=true\" align=\"middle\" height=\"200\">\n"
      ]
    },
    {
      "cell_type": "code",
      "execution_count": null,
      "metadata": {
        "id": "I4SEeUHZtX5z"
      },
      "outputs": [],
      "source": [
        "# サンプルデータのダウンロード\n",
        "!wget -q -O \"dataset.txt\" https://raw.githubusercontent.com/CropEvol/lecture/master/data/ILAS_GEdataset.csv\n",
        "\n",
        "# ライブラリ（追加機能）の準備\n",
        "import pandas\n",
        "# データの読み込み\n",
        "df = pandas.read_csv(\"dataset.txt\")\n",
        "# 表示\n",
        "df"
      ]
    },
    {
      "cell_type": "markdown",
      "metadata": {
        "id": "oU3zXvfl0RzQ"
      },
      "source": [
        "各列の情報（今回扱う列のみ）\n",
        "- `GeneID`: 遺伝子名\n",
        "- `FDR`: 偽陽性確率\n",
        "  - 2つのサンプル間の遺伝子発現量に差があるかどうかの指標として扱える\n",
        "  - 遺伝子発現解析ではこの値が0.05より小さいときに発現量に差があると判定することが多い\n",
        "- `GeneSeq`: 遺伝子の塩基配列"
      ]
    },
    {
      "cell_type": "markdown",
      "source": [
        "### 3-1. 遺伝子名と遺伝子配列を取り出す\n",
        "\n",
        "　前回のおさらいとして、読み込んだデータフレーム`df`から`GeneID`列や`GeneSeq`列を取り出してみましょう。\n",
        "\n",
        " 「`GeneSeq`列の取り出し」のほうはコードを追記してください。"
      ],
      "metadata": {
        "id": "_H91wEHC4TfT"
      }
    },
    {
      "cell_type": "code",
      "source": [
        "# GeneID列の取り出し\n",
        "gene_id = df[\"GeneID\"]\n",
        "print(gene_id)"
      ],
      "metadata": {
        "id": "Fd7PJ6-b4z2-"
      },
      "execution_count": null,
      "outputs": []
    },
    {
      "cell_type": "code",
      "source": [
        "# GeneSeq列の取り出し\n",
        "gene_seq = \n",
        "print(gene_seq)"
      ],
      "metadata": {
        "id": "gXjNHpCd5B0q"
      },
      "execution_count": null,
      "outputs": []
    },
    {
      "cell_type": "markdown",
      "source": [
        "### 3-2. 遺伝子名と遺伝子配列を同時に繰り返し処理する\n",
        "\n",
        "　2つの列（`gene_id`と`gene_seq`）を同時に繰り返し処理してみましょう。\n",
        "\n",
        "```python\n",
        "for 変数1, 変数2 in zip(リスト1, リスト2)\n",
        "  print(変数1) # リスト1から取り出されたデータ\n",
        "  print（変数2） # リスト2から取り出されたデータ\n",
        "```\n"
      ],
      "metadata": {
        "id": "Lzbekvr54ZsK"
      }
    },
    {
      "cell_type": "code",
      "source": [
        "# 二つのリストを同時に繰り返し処理する\n",
        "for i, s in zip(gene_id, gene_seq):\n",
        "  print(i)      # gene_idから取り出されたデータ\n",
        "  print(s)     # gene_seqから取り出されたデータ"
      ],
      "metadata": {
        "id": "PX-anUmT6IKh"
      },
      "execution_count": null,
      "outputs": []
    },
    {
      "cell_type": "markdown",
      "source": [
        "### 3-3. BLAST検索する\n",
        "　for構文中で、`gene_seq`列から取り出された1個分の遺伝子配列を`run_blast`関数に与えれば、全遺伝子を順番にBLAST検索できます。\n",
        "\n",
        "　なお、BLAST検索結果を表示する際に`gene_id`列から取り出した情報も表示すると、遺伝子名とBLAST検索結果を対応付けできます。"
      ],
      "metadata": {
        "id": "yzOSHOLX4ct5"
      }
    },
    {
      "cell_type": "code",
      "source": [
        "# 繰り返し処理する\n",
        "for i, s in zip(gene_id, gene_seq):\n",
        "  #print(i)     # gene_idのデータ\n",
        "  #print(s)    # gene_seqのデータ\n",
        "\n",
        "  # BLAST検索\n",
        "  blast_id, blast_full = run_blast(s)\n",
        "  \n",
        "  # 遺伝子名、BLAST検索結果のID、詳細を表示\n",
        "  print(i, blast_id, blast_full)"
      ],
      "metadata": {
        "id": "76Y_gQ486878"
      },
      "execution_count": null,
      "outputs": []
    },
    {
      "cell_type": "markdown",
      "source": [
        "### 3-4. `FDR<0.05`の遺伝子のみをBLAST検索する\n",
        "\n",
        "　これまでに勉強したことを使って、`FDR<0.05`の遺伝子のみをBLAST検索してみてください。\n",
        "\n",
        "手順:\n",
        "1. 条件に合うデータのみが入った新規データフレームを作る\n",
        "1. 新規データフレームの`gene_seq`列を取り出す\n",
        "1. 繰り返し構文で、`gene_seq`列から1遺伝子ずつ取り出す\n",
        "1. 取り出した1遺伝子を`run_blast`関数でBLAST検索する\n",
        "\n",
        "```python\n",
        "# ヒント: 条件に合うデータのみが入った新規データフレームを作る\n",
        "新規データフレーム = データフレーム[条件式]\n",
        "# 例: logFC<0を満たすデータのみを新規データフレームにする\n",
        "df2 = df[ df[\"logFC\"]<0 ]\n",
        "```\n"
      ],
      "metadata": {
        "id": "8nt1606b4fmh"
      }
    },
    {
      "cell_type": "code",
      "source": [
        ""
      ],
      "metadata": {
        "id": "TdQ8_1scAkqV"
      },
      "execution_count": null,
      "outputs": []
    },
    {
      "cell_type": "markdown",
      "source": [
        "## まとめ\n",
        "\n",
        "　このテキストでは、次の内容を勉強しました。\n",
        "- PythonでBLAST検索する方法\n",
        "- `for`構文でデータ処理（BLAST検索）を自動化する方法\n",
        "\n",
        "　ゲノム中に遺伝子は数万のオーダーで存在しています。ひとつ一つの遺伝子に対して、BLAST検索や遺伝子の長さを調べる、特定の塩基配列が含まれているかどうかを調べるといった作業をおこなうのは大変な仕事です。このような決められた処理を繰り返しおこなう場合、コンピュータにその処理を指示することで、解析をスピードアップさせることが可能です。\n",
        "\n",
        "　コンピュータは与えられた指示を**高速**かつ**精確**に処理します。現代のようなビッグデータ時代では、コンピュータが多量に処理したデータを私たちが取り扱うというのが当たり前になってきています。そのようなデータのなかには、間違った指示により出力されたデータや与えた指示ではじゅうぶんに処理できなかったデータ（フィルタリングが不十分なデータ）が含まれていることもあります。私たちは、コンピュータが処理したデータを信じきるのではなく、信頼できるデータかどうかを判断する目を養う必要もあります。\n",
        "\n",
        "<div align=\"right\"><a href=\"https://github.com/CropEvol/lecture#section1\">実習表ページに戻る</a></div>"
      ],
      "metadata": {
        "id": "N4KgAaKpAgmc"
      }
    },
    {
      "cell_type": "markdown",
      "source": [
        "---\n",
        "#### 3-4のプログラム例"
      ],
      "metadata": {
        "id": "WWMGj4J1_R8m"
      }
    },
    {
      "cell_type": "code",
      "source": [
        "# FDR<0.05を満たすデータを取り出し、新しいデータフレームにする\n",
        "df_filtered = df[df[\"FDR\"]<0.05]\n",
        "\n",
        "# 遺伝子名と遺伝子配列の列を取り出す\n",
        "gene_id = df_filtered[\"GeneID\"]\n",
        "gene_seq = df_filtered[\"GeneSeq\"]\n",
        "\n",
        "# 遺伝子名と遺伝子配列を順番に取り出す\n",
        "for i, s in zip(gene_id, gene_seq):\n",
        "  # BLAST検索\n",
        "  blast_id, blast_full = run_blast(s)\n",
        "  \n",
        "  # 遺伝子名、BLAST検索結果のID、詳細を表示\n",
        "  print(i, blast_id, blast_full)"
      ],
      "metadata": {
        "id": "GC5hGxgf_Tn3"
      },
      "execution_count": null,
      "outputs": []
    }
  ],
  "metadata": {
    "colab": {
      "collapsed_sections": [
        "WWMGj4J1_R8m"
      ],
      "name": "RNAseq_analysis_BLAST.ipynb",
      "provenance": [],
      "toc_visible": true
    },
    "kernelspec": {
      "display_name": "Python 3",
      "name": "python3"
    },
    "language_info": {
      "name": "python"
    }
  },
  "nbformat": 4,
  "nbformat_minor": 0
}