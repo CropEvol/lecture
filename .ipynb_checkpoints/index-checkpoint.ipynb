{
 "cells": [
  {
   "cell_type": "markdown",
   "metadata": {},
   "source": [
    "# ゲノム情報解析入門\n",
    "解析環境にようこそ!\n",
    "\n",
    "---\n",
    "\n",
    "| No. | 実習内容 | 実習日 | 実習資料 |\n",
    "|:---|:---|:---|:---|\n",
    "|01| イントロダクション | 10月2日（火）| [シラバス](https://ocw.kyoto-u.ac.jp/syllabuses/111/7/5323000) |\n",
    "|02| 解析環境の構築とその使い方 | 10月9日（火）|[テキスト](notebook_2018/intro_jupyter.ipynb) / [課題](notebook_2018/intro_jupyter_hw.ipynb) |\n",
    "|03| Pythonプログラミング | 10月16日（火）| |\n",
    "|04| Pythonプログラミング | 10月23日（火）| |\n"
   ]
  },
  {
   "cell_type": "code",
   "execution_count": null,
   "metadata": {},
   "outputs": [],
   "source": []
  }
 ],
 "metadata": {
  "kernelspec": {
   "display_name": "Python 3",
   "language": "python",
   "name": "python3"
  },
  "language_info": {
   "codemirror_mode": {
    "name": "ipython",
    "version": 3
   },
   "file_extension": ".py",
   "mimetype": "text/x-python",
   "name": "python",
   "nbconvert_exporter": "python",
   "pygments_lexer": "ipython3",
   "version": "3.6.3"
  }
 },
 "nbformat": 4,
 "nbformat_minor": 1
}
