{
  "nbformat": 4,
  "nbformat_minor": 0,
  "metadata": {
    "colab": {
      "provenance": [],
      "collapsed_sections": [
        "nJDgvkzcw9Tp",
        "ChAdnrUko-lk",
        "4IHZg9LtxX_T",
        "Tmttw0kMzen8",
        "36BVFuD6tsgQ"
      ],
      "toc_visible": true
    },
    "kernelspec": {
      "name": "python3",
      "display_name": "Python 3"
    },
    "language_info": {
      "name": "python"
    }
  },
  "cells": [
    {
      "cell_type": "markdown",
      "source": [
        "<img src=\"https://github.com/CropEvol/lecture/blob/master/textbook_2022/images/logo.png?raw=true\" alt=\"2022年度ゲノム情報解析入門\" height=\"100px\" align=\"middle\">\n",
        "\n",
        "<div align=\"right\"><a href=\"https://github.com/CropEvol/lecture#section2\">実習表ページに戻る</a></div>"
      ],
      "metadata": {
        "id": "xrEcu23sU8EV"
      }
    },
    {
      "cell_type": "markdown",
      "source": [
        "QTL-seq入門 (1): 参照配列（リファレンス配列）の準備\n",
        "---"
      ],
      "metadata": {
        "id": "p1APgMWdU_aL"
      }
    },
    {
      "cell_type": "markdown",
      "source": [
        "　今回から、ゲノム情報解析の一例として、次世代シーケンサーを使った遺伝子マッピング手法のひとつ、QTL-seqを勉強・体験していきます。\n",
        "\n",
        "QTL-seq入門シリーズ: \n",
        "- QTL-seq入門 (1): 参照配列（リファレンス配列）の準備　←今回\n",
        "- QTL-seq入門 (2): リードアライメント、SNP検出\n",
        "- QTL-seq入門 (3): SNP-indexの算出、グラフ描画"
      ],
      "metadata": {
        "id": "estCp8V2YvX3"
      }
    },
    {
      "cell_type": "markdown",
      "source": [
        "# 今回の勉強内容\n",
        "　このテキストでは、そのQTL-seq入門シリーズの第1回として、以下を勉強します。\n",
        "\n",
        "1. QTL-seqとは？\n",
        "  1. 遺伝子マッピング\n",
        "  1. QTL-seqの概要\n",
        "  1. QTL-seqの解析手順\n",
        "1. 参照配列（リファレンス配列）を準備する\n",
        "  1. 公開データを使う\n",
        "  1. ゲノムアセンブル：自分でイチから作る\n",
        "1. ゲノムアセンブル入門\n",
        "  1. ゲノムアセンブルの仕組み\n",
        "  1. リードの量や長さの影響"
      ],
      "metadata": {
        "id": "XB5_V08EYmVk"
      }
    },
    {
      "cell_type": "markdown",
      "source": [
        "---\n",
        "\n",
        "　一度次のコードセルを実行して、実習に必要なライブラリのインストールや、プログラム、サンプルファイルのダウンロードしてください。"
      ],
      "metadata": {
        "id": "Xm9sLU6IobxC"
      }
    },
    {
      "cell_type": "code",
      "execution_count": null,
      "metadata": {
        "id": "DamuI8gYU3Jy"
      },
      "outputs": [],
      "source": [
        "################################\n",
        "##  以下の実習の前に一度実行してください。##\n",
        "################################\n",
        "## Biopythonのインストール、 プログラム・サンプルファイルのダウンロード\n",
        "!pip install -q biopython\n",
        "!wget -q -O 'assemble.py' https://raw.githubusercontent.com/CropEvol/lecture/master/textbook_2022/scripts/assemble.py\n",
        "!wget -q -O 'mini_genome.fa' https://raw.githubusercontent.com/CropEvol/lecture/master/textbook_2022/datasets/mini_genome.fa\n",
        "!wget -q -O 'mini_genome_with_repeat.fa' https://raw.githubusercontent.com/CropEvol/lecture/master/textbook_2022/datasets/mini_genome_with_repeat.fa\n",
        "## 確認\n",
        "!pip list | grep 'biopython'\n",
        "!ls | grep -e 'assemble.py' -e 'mini_genome'"
      ]
    },
    {
      "cell_type": "markdown",
      "source": [
        "# 1. QTL-seqとは？"
      ],
      "metadata": {
        "id": "ndSLXA-l2TXX"
      }
    },
    {
      "cell_type": "markdown",
      "source": [
        "## 1-1. 遺伝子マッピング\n",
        "　QTL-seqは**遺伝子マッピング（Gene mapping）**手法のひとつです。まず遺伝子マッピングとは何か、についてを少し学びましょう。\n",
        "\n",
        "　遺伝子マッピングは、個体AとBのあいだの形質の違いを作っている遺伝子（原因遺伝子）がゲノム上のどこにあるのかを特定する手法です。どのようにおこなうのか？\n",
        "\n",
        "1. 個体AとBのゲノム配列を比較すると、個体間の塩基の違い（例えば、SNP; Single nucleotide polymorphism）を発見できます。しかし、個体AとBの間の比較だけでは、どの変異が個体間の形質の違いを作っているのかを特定できません。\n",
        "2. そこで、個体AとBのゲノムをランダムにシャッフルした個体集団（分離集団）を作ります。この集団は、個体AとBを交配することで得られます。\n",
        "3. 分離集団の各個体の形質とゲノム上の多数のマーカーの遺伝子型も調べ、形質と遺伝子型に連関（Association）があるゲノム上の場所を探し、原因遺伝子を含むゲノム領域を特定します。\n",
        "\n",
        "<img src=\"https://github.com/CropEvol/lecture/blob/master/textbook_2022/images/gene_mapping.png?raw=true\" alt=\"gene_mapping\" height=\"280px\" align=\"middle\">\n",
        "\n",
        "　上述のように、分離集団の全個体の遺伝子型を使って遺伝子マッピングする方法を**QTL解析（QTL analysis）**と言います。\n",
        "\n",
        "　QTL-seqは、QTL解析をより省力的にした方法で、次世代シーケンスデータを用いて、分離集団の一部の個体のシーケンス情報から遺伝子マッピングをおこないます。"
      ],
      "metadata": {
        "id": "_oaBjJrGgxur"
      }
    },
    {
      "cell_type": "markdown",
      "source": [
        "## 1-2. QTL-seqの概要\n",
        "\n",
        "　QTL-seqでは、分離集団のうち極端な形質値をもつ個体のバルクシーケンスデータを用いて遺伝子マッピングをおこないます。バルクシーケンス中に含まれるアリルの割合（SNP-index）の推移をゲノム全体にわたって調べることで、遺伝子の位置を特定します。\n",
        "\n",
        "<img src=\"https://github.com/CropEvol/lecture/blob/master/textbook_2022/images/qtlseq_overview.png?raw=true\" alt=\"QTL-seq\" height=\"300px\" align=\"middle\">\n",
        "\n",
        "> <small>Takagi, H., Abe, A., Yoshida, K., Kosugi, S., Natsume, S., Mitsuoka, C., Uemura, A., Utsushi, H., Tamiru, M., Takuno, S., Innan, H., Cano, L., Kamoun, S. & Terauchi, R. (2013). [QTL‐seq: rapid mapping of quantitative trait loci in rice by whole genome resequencing of DNA from two bulked populations](https://onlinelibrary.wiley.com/doi/full/10.1111/tpj.12105). The Plant Journal, 74(1), 174-183.</small>"
      ],
      "metadata": {
        "id": "S7D6fdG5cSFs"
      }
    },
    {
      "cell_type": "markdown",
      "source": [
        "- シーケンシングまで: \n",
        "  1. 形質が異なる2つの個体を交配し、分離集団を作る。\n",
        "  1. 分離集団のうち、極端な形質値をもつ数十個体からDNAを抽出する。\n",
        "  1. 形質値の低い個体のDNAをひとつにまとめ（プーリンングし）、バルクDNAを作る。同様に、形質値の高い個体のバルクDNAも作る（以下、それぞれを「Lowバルク」、「Highバルク」と呼ぶ）。\n",
        "  1. それぞれのバルクDNAをシーケンシングし、リードを得る。\n",
        "\n",
        "- シーケンシング以降: \n",
        "  1. Lowバルクのリードを片親（図では親A）のゲノム配列（参照配列）に対してアライメントする。\n",
        "  1. アライメントされたリードの配列と参照配列の間を比較することで、SNPを検出する。SNPを検出することで次のことがわかる。\n",
        "    - SNPの位置（SNP座）\n",
        "    - 親A由来のSNPアリル（以下、Aアリル）の個数\n",
        "    - 親B由来のSNPアリル（以下、Bアリル）の個数  \n",
        "      <small>※ これらのアリルはバルクにした個体からランダムサンプリングされたアリルである</small>\n",
        "  1. 各SNP座について、アリルの総数に対するBアリルの割合（以下、**SNP-index**）を調べる。\n",
        "  1. Highバルクについても同様にSNP-indexを調べる。\n",
        "  1. LowバルクとHighバルクのゲノム全域にわたるSNP-indexの分布を調べる。\n",
        "  1. 原因遺伝子付近は、HighバルクではSNP-indexが高く（すなわち、Bアリルの割合が高く）、LowバルクではSNP-indexが低いことが期待される。そのようなゲノム領域を探しQTLとして同定する。\n",
        "  1. また、HighバルクとLowバルクのSNP-indexの差分（delta SNP-index）を得ることで、ひとつのグラフでQTL同定をおこなうことも可能になる。"
      ],
      "metadata": {
        "id": "04reRpdUU0FK"
      }
    },
    {
      "cell_type": "markdown",
      "source": [
        "## 1-3. QTL-seqの解析手順\n",
        "\n",
        "　シーケンスデータを得たあと、以下のような流れで解析します。\n",
        "\n",
        "QTL-seqの流れ:\n",
        "1. ゲノム配列（参照配列）を用意する\n",
        "2. 参照配列にリードをアライメントする\n",
        "3. SNPを検出する\n",
        "4. SNP-indexを算出する\n",
        "5. SNP-indexのグラフを描画する\n",
        "\n",
        "<img src=\"https://github.com/CropEvol/lecture/blob/master/textbook_2022/images/qtlseq_workflow.png?raw=true\" alt=\"QTL-seq workflow\" height=\"180px\" align=\"middle\">\n",
        "\n",
        "　今回、①のステップ、参照配列（リファレンス配列）をどのように準備するかを勉強していきましょう。"
      ],
      "metadata": {
        "id": "6OZ1wnKMZbLG"
      }
    },
    {
      "cell_type": "markdown",
      "source": [
        "# 2. 参照配列（リファレンス配列）を準備する"
      ],
      "metadata": {
        "id": "cN6y0v6caXyu"
      }
    },
    {
      "cell_type": "markdown",
      "source": [
        "## 2-1. 公開データを使う\n",
        "\n",
        "　よく研究されている生物種であれば、データベースで公開されているゲノム配列を利用できます。最近では、多くの生物でゲノム解読が進んできているため、探してみるとゲノム配列が公開されていることもあります。\n",
        "- NCBI: https://www.ncbi.nlm.nih.gov/genome\n",
        "  - イネ Oryza sativa: https://www.ncbi.nlm.nih.gov/genome/?term=rice\n",
        "- Ensemble: http://ensemblgenomes.org/\n"
      ],
      "metadata": {
        "id": "zbV3snxrn3Xr"
      }
    },
    {
      "cell_type": "markdown",
      "source": [
        "## 2-2. ゲノムアセンブル：自分でイチから作る\n",
        "\n",
        "　あまり研究されていない生物種を対象にしている場合、ゲノム配列の決定（ゲノム解読）をおこなう必要があります。\n",
        "\n",
        "　ゲノム解読にはそれなりに費用がかかりますが、近年のシーケンシング技術の進歩により、シーケンシングの費用は低くなってきました。数十〜数百Mbのゲノムの生物であれば、ひとつの研究室でも「ゲノム解読」をおこなえる時代です。\n",
        "\n",
        "　ゲノム解読には、シーケンシングリード（以下、リード）が必要です。すぐ下のコードセルのプログラムを動かすと、あるゲノム配列の仮想リード100本（各4塩基長）を得られます。\n",
        "- 出力ファイル: `reads.fa`"
      ],
      "metadata": {
        "id": "vo3TRo8Mn-MO"
      }
    },
    {
      "cell_type": "code",
      "source": [
        "from assemble import GetSubseq, Sequencing\n",
        "genome = GetSubseq(\"mini_genome.fa\")\n",
        "Sequencing(genome, read_length=4, n_reads=100, verbose=True)"
      ],
      "metadata": {
        "id": "ngajnXDXoUyM"
      },
      "execution_count": null,
      "outputs": []
    },
    {
      "cell_type": "markdown",
      "source": [
        "　先ほど得たリード（`reads.fa`）を使って、ゲノム配列の再構築（**ゲノムアセンブル**）を試みてみましょう。\n",
        "\n",
        "　次のプログラムを実行すると、リードのアセンブルが自動的におこなわれます。"
      ],
      "metadata": {
        "id": "H4mCorkBknX6"
      }
    },
    {
      "cell_type": "code",
      "source": [
        "from assemble import RunAssemble\n",
        "assembled_genome = RunAssemble(\"reads.fa\")\n",
        "print(assembled_genome)"
      ],
      "metadata": {
        "id": "B2qFgCSYWDpJ"
      },
      "execution_count": null,
      "outputs": []
    },
    {
      "cell_type": "markdown",
      "source": [
        "　再構築された配列が、リードの発生元の塩基配列と同じか確認してください。\n",
        "\n",
        "手順:\n",
        "1. 左ペイン「フォルダ」アイコンを開き、`mini_genome.fa`をダブルクリック等で開いてください。\n",
        "1. `mini_genome.fa`に書かれている塩基配列と上でアセンブルした塩基配列が一致するか確認してください。"
      ],
      "metadata": {
        "id": "dytGiS-S37wl"
      }
    },
    {
      "cell_type": "markdown",
      "source": [
        "### FASTA形式ファイル"
      ],
      "metadata": {
        "id": "nJDgvkzcw9Tp"
      }
    },
    {
      "cell_type": "markdown",
      "source": [
        "　先ほどのプログラム実行で作成されるファイル（`reads.fa`）は、**FASTA**と呼ばれる形式でリード配列の情報が書かれています。\n",
        "\n",
        "　FASTA形式は、生物の塩基配列情報をデータとして保存しておくのに最もよく使われるフォーマットです。\n",
        "\n",
        "```\n",
        "----- FASTA形式 ---------\n",
        ">塩基配列名\n",
        "AATGC....（塩基配列本体）\n",
        "-------------------------------\n",
        "例)\n",
        ">read_1\n",
        "GTCT\n",
        ">read_2\n",
        "AAAC\n",
        "```"
      ],
      "metadata": {
        "id": "GE_srN0RxEfh"
      }
    },
    {
      "cell_type": "markdown",
      "source": [
        "# 3. ゲノムアセンブル入門\n",
        "\n",
        "　上述の例では、リードのアセンブルを自動的におこないました。リードからどのようにゲノム配列を再構築しているのか？ ここからは、ゲノムアセンブルの工程をもう少し詳しく勉強していきましょう。\n",
        "\n",
        "<img src=\"https://github.com/CropEvol/lecture/blob/master/textbook_2022/images/reads_to_assembly.png?raw=true\" alt=\"reads_to_assembly\" height=\"200px\" align=\"middle\">"
      ],
      "metadata": {
        "id": "4xuQRK7D16VP"
      }
    },
    {
      "cell_type": "markdown",
      "source": [
        "## 3-1. ゲノムアセンブルの仕組み"
      ],
      "metadata": {
        "id": "8oIJENdy8w7i"
      }
    },
    {
      "cell_type": "markdown",
      "source": [
        "### 3-1-1. パスからゲノム配列へ\n",
        "　あるゲノム配列から多数のリードを得たとしましょう。アセンブルではこのうち同じ配列を除去したユニークなリード配列セット(ここでは「重複のないリード」と呼ぶ)を使います。\n",
        "\n",
        "　ゲノム配列がわかっている場合、重複のないリードを順番に並べることができ、それらの配列を繋ぐと元のゲノム配列を復元できます。このリードの繋ぎ方のことを**パス（Path）**と言います。\n",
        "\n",
        "<img src=\"https://github.com/CropEvol/lecture/blob/master/textbook_2022/images/reads_path_to_sequence.png?raw=true\" alt=\"reads_path_to_sequence\" height=\"250px\" align=\"middle\">"
      ],
      "metadata": {
        "id": "yLREXrwXHTkZ"
      }
    },
    {
      "cell_type": "markdown",
      "source": [
        "#### 問題1\n",
        "\n",
        "　次のパスから得られるアセンブル配列は何でしょうか？\n",
        "\n",
        "```\n",
        "Path: \n",
        "ACT -> CTT -> TTT -> TTC -> TCT -> CTG\n",
        "```"
      ],
      "metadata": {
        "id": "LdKH2i2V-Yzq"
      }
    },
    {
      "cell_type": "markdown",
      "source": [
        "#### 解答1"
      ],
      "metadata": {
        "id": "ChAdnrUko-lk"
      }
    },
    {
      "cell_type": "markdown",
      "source": [
        "\n",
        "```\n",
        "Assembled sequence: ACTTTCTG\n",
        "```"
      ],
      "metadata": {
        "id": "TQ9dIDzHpBod"
      }
    },
    {
      "cell_type": "markdown",
      "source": [
        "### 3-1-2. リードからパスへ\n",
        "\n",
        "　リードの繋げ方（パス）がわかれば、それらを繋げてより長い配列にできることがわかりました。\n",
        "\n",
        "　実際のゲノムアセンブルでは、元のゲノム配列の情報はないため、リードからパスを探す必要があります。次に、どのようにしてパスを見つけるのかを勉強していきましょう。"
      ],
      "metadata": {
        "id": "uzppnHB_I2GH"
      }
    },
    {
      "cell_type": "markdown",
      "source": [
        "#### STEP1\n",
        "\n",
        "　リードから前方と後方の数塩基（下図では2塩基）の部分配列を得ます。リードから得られた部分配列であるため、前方塩基から後方塩基の方向に矢印で繋ぐことができます。\n",
        "\n",
        "　グラフ理論では、円で示されたものを**ノード（Node）**、矢印を**エッジ（Edge）**と呼びます。\n",
        "\n",
        "<img src=\"https://github.com/CropEvol/lecture/blob/master/textbook_2022/images/node_and_edge.png?raw=true\" alt=\"node_and_edge\" height=\"150px\" align=\"middle\">"
      ],
      "metadata": {
        "id": "OI_Dx91q_-qk"
      }
    },
    {
      "cell_type": "markdown",
      "source": [
        "#### 問題2\n",
        "\n",
        "　次の6つのリード（各3塩基）について、それぞれの前方2塩基と後方2塩基の関係図（`前方2塩基 -> 後方2塩基`）を描いてください。\n",
        "\n",
        "```\n",
        "ACT, CTT, CTG, TCT, TTC, TTT\n",
        "\n",
        "e.g.)\n",
        "[ACT] AC -> CT\n",
        "```"
      ],
      "metadata": {
        "id": "uVziAOtvuV8p"
      }
    },
    {
      "cell_type": "markdown",
      "source": [
        "#### 解答2"
      ],
      "metadata": {
        "id": "4IHZg9LtxX_T"
      }
    },
    {
      "cell_type": "markdown",
      "source": [
        "```\n",
        "[ACT] AC -> CT\n",
        "[CTT] CT -> TT\n",
        "[CTG] CT -> TG\n",
        "[TCT] TC -> CT\n",
        "[TTC] TT -> TC\n",
        "[TTT] TT -> TT\n",
        "```"
      ],
      "metadata": {
        "id": "-6KftZ8KxaHV"
      }
    },
    {
      "cell_type": "markdown",
      "source": [
        "#### STEP2\n",
        "\n",
        "　多数の「前方塩基 -> 後方塩基」のうち、共通する部分配列のノードをそれぞれを一つにまとめていきます。このとき、部分配列同士を繋ぐ矢印（エッジ）情報は保持したままにします。\n",
        "\n",
        "　このようにして得られた部分配列同士の関係のグラフは、**de Bruijnグラフ**と呼ばれています。このde Bruijnグラフの重要な点は、「エッジがリードの配列情報も保持している」ことです。\n",
        "\n",
        "<img src=\"https://github.com/CropEvol/lecture/blob/master/textbook_2022/images/nodes_edges_to_graph.png?raw=true\" alt=\"nodes_edges_to_graph\" height=\"250px\" align=\"middle\">"
      ],
      "metadata": {
        "id": "03hAeidYDoE8"
      }
    },
    {
      "cell_type": "markdown",
      "source": [
        "#### 問題3\n",
        "\n",
        "　次の6つの前方・後方塩基の関係図からde Bruijnグラフを描いてください。\n",
        "\n",
        "\n",
        "```\n",
        "AC -> CT\n",
        "CT -> TT\n",
        "CT -> TG\n",
        "TC -> CT\n",
        "TT -> TC\n",
        "TT -> TT\n",
        "```"
      ],
      "metadata": {
        "id": "e1rujSyXzcoj"
      }
    },
    {
      "cell_type": "markdown",
      "source": [
        "#### 解答3"
      ],
      "metadata": {
        "id": "Tmttw0kMzen8"
      }
    },
    {
      "cell_type": "markdown",
      "source": [
        "<img src=\"https://github.com/CropEvol/lecture/blob/master/textbook_2022/images/nodes_edges_to_graph_quize.png?raw=true\" alt=\"nodes_edges_to_graph_quize\" height=\"250px\" align=\"middle\">"
      ],
      "metadata": {
        "id": "vIcQTu0Tzgo5"
      }
    },
    {
      "cell_type": "markdown",
      "source": [
        "#### STEP3\n",
        " 元のゲノム配列は、重複のないリードを一度ずつ使用し、繋ぐことで再構築できます。使用しないリードがあると、元配列より短いアセンブル配列が出来上がってしまいます。反対に、2回以上使用するリードがあると、過剰な配列をもったアセンブル配列が出来上がってしまします。つまり、de Bruijnグラフから「（重複のないリードを表している）各エッジを一度ずつ通るパスを見つける」と元のゲノム配列を再現できます。\n",
        "\n",
        "　これは与えられたグラフから**一筆書きの経路（準オイラー路（semi-Eulerian trail）**を見つけることに相当します。与えられたグラフが「一筆書き可能な経路かどうか」や「一筆書きの経路を効率よく見つける方法（アルゴリズム）」はすでに知られており、重複のないリード配列情報からゲノムアセンブルをおこなうことができます。\n",
        "\n",
        "<img src=\"https://github.com/CropEvol/lecture/blob/master/textbook_2022/images/graph_to_sequence.png?raw=true\" alt=\"graph_to_sequence\" height=\"250px\" align=\"middle\">\n",
        "\n"
      ],
      "metadata": {
        "id": "6BlDMn4ZOJE5"
      }
    },
    {
      "cell_type": "markdown",
      "source": [
        "#### 問題4\n",
        "\n",
        "　問題3で作成したde Bruijnグラフから一筆書き経路を探してください。また、その経路から得られるゲノム配列は何でしょうか？"
      ],
      "metadata": {
        "id": "stLEUau-HD9o"
      }
    },
    {
      "cell_type": "markdown",
      "source": [
        "#### 解答4"
      ],
      "metadata": {
        "id": "36BVFuD6tsgQ"
      }
    },
    {
      "cell_type": "markdown",
      "source": [
        "```\n",
        "Nodes order: AC -> CT -> TT -> TT -> TC -> CT -> TG\n",
        "Edges order:   ACT ->CTT ->TTT ->TTC ->TCT ->CTG\n",
        "\n",
        "Assembled sequence: ACTTTCTG\n",
        "```\n",
        "\n",
        "<img src=\"https://github.com/CropEvol/lecture/blob/master/textbook_2022/images/graph_to_sequence_quize.png?raw=true\" alt=\"graph_to_sequence_quize\" height=\"200px\" align=\"middle\">"
      ],
      "metadata": {
        "id": "78HnwZFQHHRf"
      }
    },
    {
      "cell_type": "markdown",
      "source": [
        "#### ---\n",
        "\n",
        "　ここまで見てきたように、ゲノムアセンブルでは、(1) リードからde Bruijnグラフを構築してパスを探し、(2) パスを長い配列に変換することでゲノム配列を再構築しています。\n",
        "\n",
        "　では、リードを得れば常にゲノム配列を再構築できるのか？ 実際のところ、リードの量や長さ、ゲノムサイズの大きさ、ゲノム中の繰り返し配列や重複配列の存在などにより、完全なゲノム配列を再構築するのは難しいです。\n",
        "\n",
        "　以降では、取得するリードの量や長さを変えて、ゲノムアセンブルをし、元のゲノム配列を再現できるか試してみましょう。\n",
        "　"
      ],
      "metadata": {
        "id": "O1CEEz0FuFVK"
      }
    },
    {
      "cell_type": "markdown",
      "source": [
        "## 3-2. リードの量や長さの影響"
      ],
      "metadata": {
        "id": "qH-u_Sf99MeM"
      }
    },
    {
      "cell_type": "markdown",
      "source": [
        "　まず、20塩基のゲノム配列の例を見てみましょう。\n",
        "\n",
        "```\n",
        "# ゲノム配列\n",
        "GTCTATTATGGAAAACACCA\n",
        "```\n",
        "\n",
        "　すぐ下のコードセルを動かすと、あるゲノム配列からシーケンシングをし、リードのアセンブルを試みるプログラムが実行されます。"
      ],
      "metadata": {
        "id": "cBL4K3WQ2y3L"
      }
    },
    {
      "cell_type": "code",
      "source": [
        "from assemble import GetSubseq, Sequencing, RunAssemble\n",
        "genome = GetSubseq(\"mini_genome.fa\")\n",
        "Sequencing(genome, read_length=4, n_reads=100, verbose=False, draw=True)\n",
        "assembled_genome = RunAssemble(\"reads.fa\")\n",
        "print(\"Original       : \", genome)\n",
        "print(\"Assembled : \", assembled_genome)"
      ],
      "metadata": {
        "id": "P5yBoE9jEUq-"
      },
      "execution_count": null,
      "outputs": []
    },
    {
      "cell_type": "markdown",
      "source": [
        "### 3-2-1. リードの量が少ない場合\n",
        "　プログラム中の`n_reads`の数字を「10」に変更して実行してください。\n",
        "\n",
        "```python\n",
        "# 変更後\n",
        "Sequencing(..., read_length=4, n_reads=10, ...)\n",
        "```"
      ],
      "metadata": {
        "id": "AMvNoKgcPmeA"
      }
    },
    {
      "cell_type": "code",
      "source": [
        "## 先ほどと同じプログラムです。\n",
        "from assemble import GetSubseq, Sequencing, RunAssemble\n",
        "genome = GetSubseq(\"mini_genome.fa\")\n",
        "Sequencing(genome, read_length=4, n_reads=100, verbose=False, draw=True)\n",
        "assembled_genome = RunAssemble(\"reads.fa\")\n",
        "print(\"Original       : \", genome)\n",
        "print(\"Assembled : \", assembled_genome)"
      ],
      "metadata": {
        "id": "aFDV5XObQQgY"
      },
      "execution_count": null,
      "outputs": []
    },
    {
      "cell_type": "markdown",
      "source": [
        "　リード数が少なすぎると、十分にオーバーラップしたリードを得られる可能性が少なくなります。そのため、アセンブル自体に失敗します。"
      ],
      "metadata": {
        "id": "3SVYMjjUH42A"
      }
    },
    {
      "cell_type": "markdown",
      "source": [
        "### 3-2-2. リードの長さが短い場合\n",
        "　　プログラム中の`read_length`の数字を「2」や「3」に変更して実行してください。\n",
        "\n",
        "```python\n",
        "# 変更後（2に変更した場合）\n",
        "Sequencing(..., read_length=2, ...)\n",
        "```"
      ],
      "metadata": {
        "id": "_XBiLO_LIVhC"
      }
    },
    {
      "cell_type": "code",
      "source": [
        "## 先ほどと同じプログラムです。\n",
        "from assemble import GetSubseq, Sequencing, RunAssemble\n",
        "genome = GetSubseq(\"mini_genome.fa\")\n",
        "Sequencing(genome, read_length=4, n_reads=100, verbose=False, draw=True)\n",
        "assembled_genome = RunAssemble(\"reads.fa\")\n",
        "print(\"Original       : \", genome)\n",
        "print(\"Assembled : \", assembled_genome)"
      ],
      "metadata": {
        "id": "D9VHYkfKIpLZ"
      },
      "execution_count": null,
      "outputs": []
    },
    {
      "cell_type": "markdown",
      "source": [
        "　リードが短すぎると、十分にオーバーラップしたリードを得られたとしても、de Bruijnグラフが複雑になり、一筆書きできないグラフが得られたり、一筆書きできたとしても、元の配列を再構築できるグラフではなかったりします。したがって、アセンブルに失敗するか、ミスアセンブル（元のゲノムとは異なる配列）になることが多いです。"
      ],
      "metadata": {
        "id": "PtJdrlnXJFEY"
      }
    },
    {
      "cell_type": "markdown",
      "source": [
        "### 3-3-3. 長い繰り返し配列のあるゲノム配列の場合\n",
        "　次は、少し長くて（40bp）、繰り返し配列のある（`CTT`が4回連続である）ゲノムを使ってみましょう。\n",
        "\n",
        "```\n",
        "# ゲノム配列\n",
        "ATCACCTCTTCTTCTTCTTCCCATTCATTCAGGAACTCGC\n",
        "```\n",
        "\n",
        "　下のプログラムは初期状態のまま実行してもアセンブルに失敗し、配列を得られないはずです。\n",
        "\n",
        "　プログラムの3行目の`read_length`や`n_reads`の値を変更して、元のゲノムと同じ配列を再構築してみてください。"
      ],
      "metadata": {
        "id": "JsGLFs44LqJ4"
      }
    },
    {
      "cell_type": "code",
      "source": [
        "from assemble import GetSubseq, Sequencing, RunAssemble\n",
        "genome = GetSubseq(\"mini_genome_with_repeat.fa\")\n",
        "Sequencing(genome, read_length=4, n_reads=100, verbose=False, draw=True)\n",
        "assembled_genome = RunAssemble(\"reads.fa\")\n",
        "print(\"Original       : \", genome)\n",
        "print(\"Assembled : \", assembled_genome)"
      ],
      "metadata": {
        "id": "PKiPeP_XMvWx"
      },
      "execution_count": null,
      "outputs": []
    },
    {
      "cell_type": "markdown",
      "source": [
        "　長いリードが繰り返し配列のあるゲノムの再現に役立つことをみてきました。\n",
        "\n",
        "　生物のゲノムには繰り返し配列や重複配列が多く存在しています。十分な量のショートリード（150bp程度）があったとしても、ショートリードだけでゲノム配列を再現するのはほぼ不可能です。現在のゲノム解読では、多数のショートリードだけでなく、量は少ないが非常に長いリード（1kb〜数Mb; ロングリード<sup>※</sup>）を組み合わせて、ゲノムアセンブルをおこなう方法が主流になっています。\n",
        "\n",
        "<small><sup>※</sup> ロングリードを得るために、NanoporeやPacBio Sequel といったシーケンサーが利用されています。</small>\n"
      ],
      "metadata": {
        "id": "GnYLCAB6OeuM"
      }
    },
    {
      "cell_type": "markdown",
      "source": [
        "# まとめ\n",
        "\n",
        "　今回、QTL-seqの概要と解析の流れ、その解析に最初のステップ「参照配列（リファレンス配列）の準備」をみてきました。\n",
        "- QTL-seq: \n",
        "  - 個体間の形質の違いに関わる遺伝子のゲノム位置を特定する手法\n",
        "- 参照配列（リファレンス配列）の準備:\n",
        "  - 公開されているゲノム配列を利用する\n",
        "  - ゲノム配列をイチから作る（ゲノムアセンブリ）\n",
        "- ゲノムアセンブル: \n",
        "  - リードからゲノム配列を再構築する方法\n",
        "  - リードの部分配列からde Bruijnグラフを作り、一筆書き経路を見つけ、配列を繋げる\n",
        "  - リードのサイズや量はアセンブリに重要なファクター。特に、長いリード（ロングリード）は完全な配列を再現するのに役立つ\n",
        "\n",
        "\n",
        "---\n",
        "\n",
        "ゲノムアセンブリの基礎理論の参考Webページ:  \n",
        "- [How do we assemble genomes?](https://www.bioinformaticsalgorithms.org/bioinformatics-chapter-3) (Bioinformatics Algorithms / Phillip Compeau)"
      ],
      "metadata": {
        "id": "4Y-39OIbYqMA"
      }
    },
    {
      "cell_type": "markdown",
      "source": [
        "<div align=\"right\"><a href=\"https://github.com/CropEvol/lecture#section2\">実習表ページに戻る</a></div>"
      ],
      "metadata": {
        "id": "meLei4RHab5V"
      }
    }
  ]
}