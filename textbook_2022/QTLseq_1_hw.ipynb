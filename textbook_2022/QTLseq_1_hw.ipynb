{
  "nbformat": 4,
  "nbformat_minor": 0,
  "metadata": {
    "colab": {
      "provenance": [],
      "collapsed_sections": [
        "H2_jT798tpgx"
      ]
    },
    "kernelspec": {
      "name": "python3",
      "display_name": "Python 3"
    },
    "language_info": {
      "name": "python"
    }
  },
  "cells": [
    {
      "cell_type": "markdown",
      "source": [
        "<img src=\"https://github.com/CropEvol/lecture/blob/master/textbook_2022/images/logo.png?raw=true\" alt=\"2022年度ゲノム情報解析入門\" height=\"100px\" align=\"middle\">\n",
        "\n",
        "<div align=\"right\"><a href=\"https://github.com/CropEvol/lecture#section2\">実習表ページに戻る</a></div>"
      ],
      "metadata": {
        "id": "8K4C8bx-9vod"
      }
    },
    {
      "cell_type": "markdown",
      "source": [
        "[課題] QTL-seq入門 (1): 参照配列（リファレンス配列）の準備\n",
        "---"
      ],
      "metadata": {
        "id": "9mFF2EwF9x8j"
      }
    },
    {
      "cell_type": "markdown",
      "source": [
        "　課題をはじめる前に、次のコードセルを一度実行してください。課題に必要なライブラリのインストールや、プログラム、サンプルファイルをダウンロードします。\n"
      ],
      "metadata": {
        "id": "6y0Gpsbk920c"
      }
    },
    {
      "cell_type": "code",
      "source": [
        "################################\n",
        "##  以下の実習の前に一度実行してください。##\n",
        "################################\n",
        "## Biopythonのインストール、 プログラム・サンプルファイルのダウンロード\n",
        "!pip install -q biopython\n",
        "!wget -q -O 'assemble.py' https://raw.githubusercontent.com/CropEvol/lecture/master/textbook_2022/scripts/assemble.py\n",
        "!wget -q -O 'mini_genome_hw.fa' https://raw.githubusercontent.com/CropEvol/lecture/master/textbook_2022/datasets/mini_genome_hw.fa\n",
        "## 確認\n",
        "!pip list | grep 'biopython'\n",
        "!ls | grep -e 'assemble.py' -e 'mini_genome_hw.fa'\n",
        "## ゲノム取得\n",
        "from assemble import GetSubseq\n",
        "genome = GetSubseq(\"mini_genome_hw.fa\")"
      ],
      "metadata": {
        "id": "p28GKkqG93mo"
      },
      "execution_count": null,
      "outputs": []
    },
    {
      "cell_type": "markdown",
      "source": [
        "## 課題1\n",
        "\n",
        "　`read_length`と`n_reads`の値を変更して、元のゲノム配列（1,740 bp）を再現してください。なお、元のゲノム配列には、次のような繰り返し配列や重複配列を含んでいます。\n",
        "- `C`が60回個並んでいる\n",
        "- `CTG`が連続で20回繰り返される\n",
        "- `TACCACATCTATTGACATTATGGGTCTGCA`がゲノム中に9個存在する\n"
      ],
      "metadata": {
        "id": "PghPJZc-90MM"
      }
    },
    {
      "cell_type": "code",
      "execution_count": null,
      "metadata": {
        "id": "TwAUchWg9vJ1"
      },
      "outputs": [],
      "source": [
        "## シーケンシング: 任意の長さ、任意の数を変更可能\n",
        "from assemble import Sequencing\n",
        "Sequencing(genome, read_length=10, n_reads=100)\n",
        "\n",
        "## アセンブル\n",
        "from assemble import RunAssemble\n",
        "assembled_genome = RunAssemble(\"reads.fa\")\n",
        "print(\"Original       : \", genome)\n",
        "print(\"Assembled : \", assembled_genome)"
      ]
    },
    {
      "cell_type": "markdown",
      "source": [
        "## 課題2\n",
        "\n",
        "　次のパスを塩基配列に変換してください。\n",
        "\n",
        "```\n",
        "CT -> TG -> GA -> AT -> TG -> GA\n",
        "```"
      ],
      "metadata": {
        "id": "hbR1CvLcElzW"
      }
    },
    {
      "cell_type": "code",
      "source": [
        "#@title { vertical-output: true, display-mode: \"form\" }\n",
        "Answer = \"\" #@param {type:\"string\"}\n"
      ],
      "metadata": {
        "id": "8cx2I9q8FpzZ"
      },
      "execution_count": null,
      "outputs": []
    },
    {
      "cell_type": "markdown",
      "source": [
        "## 課題3\n",
        "\n",
        "　次のde Bruijnグラフから一筆書き経路を探し、アセンブル配列を求めてください。\n",
        "\n",
        "<img src=\"https://github.com/CropEvol/lecture/blob/master/textbook_2022/images/graph_hw1.png?raw=true\" alt=\"de_bruijn_graph\" height=\"150px\" align=\"middle\">"
      ],
      "metadata": {
        "id": "fTPziivAInjJ"
      }
    },
    {
      "cell_type": "code",
      "source": [
        "#@title { vertical-output: true, display-mode: \"form\" }\n",
        "Answer = \"\" #@param {type:\"string\"}"
      ],
      "metadata": {
        "id": "WbLO6zgk_tFV"
      },
      "execution_count": null,
      "outputs": []
    },
    {
      "cell_type": "markdown",
      "source": [
        "## 課題4\n",
        "<small>※ これは取り組み必須課題ではありません。</small>\n",
        "\n",
        "　次の10本のリードをアセンブルし、1本の塩基配列を求めてください。\n",
        "\n",
        "```\n",
        "AAA, AAT, ATC, CCC, CCG, CGC, CTC, GCT, TCA, TCC\n",
        "```"
      ],
      "metadata": {
        "id": "jKK8acizKZoy"
      }
    },
    {
      "cell_type": "code",
      "source": [
        "#@title { vertical-output: true, display-mode: \"form\" }\n",
        "Answer = \"\" #@param {type:\"string\"}"
      ],
      "metadata": {
        "id": "ZraCZ_0XLvlb"
      },
      "execution_count": null,
      "outputs": []
    },
    {
      "cell_type": "markdown",
      "source": [
        "#### ヒント"
      ],
      "metadata": {
        "id": "H2_jT798tpgx"
      }
    },
    {
      "cell_type": "markdown",
      "source": [
        "アセンブルの手順:\n",
        "1. 前方2塩基-後方2塩基の対応図を作る\n",
        "2. 前方-後方塩基の対応図からde Bruijnグラフを作る\n",
        "3. すべてのエッジを一回通る経路（一筆書き経路）を見つける\n",
        "4. 一筆書き経路のパスを配列に変換する"
      ],
      "metadata": {
        "id": "wkDt-NFGtufl"
      }
    },
    {
      "cell_type": "markdown",
      "source": [
        "# 課題の提出について\n",
        "\n",
        "提出期限： 2022年11月14日（月） 12:00まで\n",
        "\n",
        "提出方法：\n",
        "1. ノートブックをGoogleドライブに保存する\n",
        "1. 保存後、ノートブック画面右上の「共有」ボタンから共有リンクURLを作成する\n",
        "  1. アクセス設定を「リンクを知っている全員」に変更する\n",
        "  1. 「リンクをコピー」をクリックする\n",
        "  1. 「完了」を押して共有設定ウィンドウを閉じる\n",
        "1. [Panda課題ページ](https://panda.ecs.kyoto-u.ac.jp/portal/directtool/1d1d1bd9-928d-440c-a745-9b97b2a4bc04/)のフォームに共有リンクURLを貼り付けて、課題を提出する"
      ],
      "metadata": {
        "id": "6CPhArF4jTXI"
      }
    },
    {
      "cell_type": "markdown",
      "source": [
        "<div align=\"right\"><a href=\"https://github.com/CropEvol/lecture#section2\">実習表ページに戻る</a></div>"
      ],
      "metadata": {
        "id": "43783-7PjbJM"
      }
    }
  ]
}