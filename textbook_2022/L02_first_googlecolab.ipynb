{
  "cells": [
    {
      "cell_type": "markdown",
      "metadata": {
        "id": "msxvu1Nb5UbP"
      },
      "source": [
        "<img src=\"https://github.com/CropEvol/lecture/blob/master/textbook_2022/images/logo.png?raw=true\" alt=\"2022年度ゲノム情報解析入門\" height=\"100px\" align=\"middle\">\n",
        "\n",
        "<div align=\"right\"><a href=\"https://github.com/CropEvol/lecture#section2\">実習表ページに戻る</a></div>"
      ]
    },
    {
      "cell_type": "markdown",
      "metadata": {
        "id": "wTl2PRy45ifF"
      },
      "source": [
        "# Google Colaboratoryの使い方"
      ]
    },
    {
      "cell_type": "markdown",
      "metadata": {
        "id": "ae_R54dp315N"
      },
      "source": [
        "\n",
        "　「ゲノム情報解析入門」では、**Google Colaboratory**（以下、**Google Colab**）と呼ばれるオンラインサービスを使って、ゲノム解析の体験をしていきます。  \n",
        "\n",
        "　今回の実習では、Google Colabの使い方を勉強していきます。\n"
      ]
    },
    {
      "cell_type": "markdown",
      "metadata": {
        "id": "GCvov-22cbuZ"
      },
      "source": [
        "## Google Colaboratory\n",
        "　Google ColabはGoogle社が提供しているサービスで、Googleアカウントさえあれば、オンライン上でPythonプログラミングをおこなえます。\n",
        "\n",
        "　実習では、このGoogle Colabを通してゲノム解析を擬似体験* していきます。\n",
        "\n",
        "<small>* 実際のゲノム解析とは異なる部分もあります。</small>\n",
        "　\n"
      ]
    },
    {
      "cell_type": "markdown",
      "source": [
        "## Pythonプログラミング\n",
        "\n",
        "- **プログラミング**  \n",
        "　コンピュータに何らかの処理を命令する文章のことを **プログラム**または**コード** といいます。 そのプログラムを作る（書く）ことを**プログラミング**または**コーディング**といいます。\n",
        "\n",
        "- **Python**  \n",
        "　プログラミング言語のひとつです。Pythonは、データ解析用の追加機能（パッケージ）が充実しており、データ解析の分野ではよく使われています。Python以外にも多くのプログラミング言語があります（C、C#、C++、Java、Ruby、PHP、Javascript、Perl、R、シェルスクリプトなど）。\n",
        "\n",
        "　ゲノム情報解析入門の実習は、「Pythonプログラミングの学習」がメインではありません。「ゲノム解析の体験」をメインにしています。プログラミング基礎やプログラムの解説は、そのゲノム解析体験に必要な程度にとどめる予定です。\n"
      ],
      "metadata": {
        "id": "HoJZbUFdoFmb"
      }
    },
    {
      "cell_type": "markdown",
      "metadata": {
        "id": "LZedukk8kiUd"
      },
      "source": [
        "## 今回の実習内容\n",
        "1. Google Colabの画面の見方\n",
        "1. ノートブックを保存する\n",
        "1. 保存したノートブックを開く\n",
        "1. プログラムを実行する/編集する\n",
        "  - 数値計算\n",
        "  - グラフ描画\n",
        "1. サーバー上のフォルダやファイルを見る\n",
        "1. ノートブックを共有する"
      ]
    },
    {
      "cell_type": "markdown",
      "metadata": {
        "id": "-MzSppnfh4gf"
      },
      "source": [
        "## 1. Google Colabの画面の見方\n",
        "　最初に、Google Colabの画面の見方を勉強しましょう。\n",
        "\n",
        "　Google Colabには主に3つのエリアがあります。各エリアの名称を覚える必要はありません。\n",
        "\n",
        "<img src=\"https://github.com/CropEvol/lecture/blob/master/textbook_2022/images/colab_display.png?raw=true\" alt=\"colab_display\" height=\"250px\" align=\"middle\">"
      ]
    },
    {
      "cell_type": "markdown",
      "metadata": {
        "id": "9POOz23j-uVC"
      },
      "source": [
        "## 2. ノートブックを保存する\n",
        "　Google Colabで見ている画面（例えば、この実習テキスト）は**ノートブック**と呼ばれる形式のファイルに保存できます。ここでは、この実習テキストのノートブックを保存してみましょう。保存したファイルは、自身のアカウントのGoogleドライブ（オンライン上のフォルダ）に保存されます。\n",
        "\n",
        "<img src=\"https://github.com/CropEvol/lecture/blob/master/textbook_2022/images/notebook_save.png?raw=true\" alt=\"notebook_save\" height=\"250px\" align=\"middle\">\n"
      ]
    },
    {
      "cell_type": "markdown",
      "source": [
        "### 実習2-1\n",
        "　現在のノートブックを保存してください。  \n",
        "\n",
        "<small>**※重要：各回の課題を提出する際におこなう操作です。**</small>\n",
        "\n",
        "```\n",
        "手順\n",
        "1. ヘッダーの「ファイル」 > 「保存」 または 「ドライブにコピーを保存」\n",
        "```\n",
        "\n"
      ],
      "metadata": {
        "id": "NvrTvMNYvcOb"
      }
    },
    {
      "cell_type": "markdown",
      "source": [
        "\n",
        "### 実習2-2\n",
        "　保存されたノートブックファイルを確認してください。\n",
        "\n",
        "```\n",
        "手順\n",
        "1. ヘッダーの「ファイル」 > 「ドライブで探す」\n",
        "```"
      ],
      "metadata": {
        "id": "hC6qTF4RvZHG"
      }
    },
    {
      "cell_type": "markdown",
      "metadata": {
        "id": "vOPzI6Q2nUeU"
      },
      "source": [
        "## 3. 保存したノートブックを開く\n",
        "　Googleドライブに保存されているノートブックを再度開くことも可能です。\n",
        "\n",
        "<img src=\"https://github.com/CropEvol/lecture/blob/master/textbook_2022/images/notebook_open.png?raw=true\" alt=\"notebook_open\" height=\"250px\" align=\"middle\">\n"
      ]
    },
    {
      "cell_type": "markdown",
      "source": [
        "### 実習3\n",
        "　先ほど保存したノートブックを開いてください。\n",
        "\n",
        "```\n",
        "手順\n",
        "1. ヘッダーの「ファイル」 > 「ノートブックを開く...」\n",
        "2. 「GOOGLE ドライブ」 > 先ほど保存したファイルをクリック\n",
        "\n",
        "別の手順\n",
        "1. ヘッダーの「ファイル」 > 「ドライブで探す」\n",
        "2. 先ほど保存したファイルを右クリック > 「アプリで開く」 > 「Google Colaboratory」\n",
        "```"
      ],
      "metadata": {
        "id": "1D4pPsevvyHt"
      }
    },
    {
      "cell_type": "markdown",
      "metadata": {
        "id": "WtLcB07NaLLi"
      },
      "source": [
        "## 4. プログラムを実行する/編集する\n",
        "　プログラムの実行の仕方を勉強しましょう。プログラムの実行は今後の実習で最もよくおこなう操作です。\n",
        "\n",
        "　Google Colabには**コードセル**と呼ばれるプログラムを書くスペースがあります。コードセルの左にある「▶︎マーク」をクリックすると、そのコードセルに書かれたプログラムを実行できます。"
      ]
    },
    {
      "cell_type": "markdown",
      "source": [
        "### 実習4-1: 数値計算\n",
        "　最初の例として、数値計算プログラムを動かしてみましょう。また、入力値を変えると、出力結果が変わることを確認してください。\n",
        "\n",
        "```\n",
        "手順:\n",
        "1. 下のコードセルの左の▶︎マークをクリックして、コードセルを実行する。\n",
        "2. 入力値x,y,zの右辺の数字を変更して、出力される結果が変わることを確かめる。\n",
        "```"
      ],
      "metadata": {
        "id": "4cuwY4wKxzWq"
      }
    },
    {
      "cell_type": "code",
      "source": [
        "## --- 入力値 ---\n",
        "x = 1111\n",
        "y = 22\n",
        "z = 3333\n",
        "##------------------\n",
        "\n",
        "## 数値計算\n",
        "print(x - y + z)"
      ],
      "metadata": {
        "id": "PHx8ibSM6P_f"
      },
      "execution_count": null,
      "outputs": []
    },
    {
      "cell_type": "markdown",
      "source": [
        "### 実習4-2: グラフ描画\n",
        "　ここでは、風向・風速データを風配図（windrose）と呼ばれるグラフに表示するプログラムを動かしてみましょう。\n",
        "\n",
        "風向・風速データ（ここで使用するデータを [確認する](https://github.com/CropEvol/lecture/blob/master/textbook_2022/datasets/wind_dataset.csv)）:\n",
        "- [気象庁の公開データ]((https://www.data.jma.go.jp/gmd/risk/obsdl/index.php))から、日本の各都道府県のデータを収集\n",
        "- データ期間・間隔： 2021年4月1日から2022年9月30日までの1日ごとのデータ\n",
        "\n",
        "```\n",
        "手順:\n",
        "1. 下の2つのコードセルを順番に実行する。\n",
        "2. 入力値を変更して、出力結果が変わることを確認する。\n",
        "　（入力値を自分の出身地や別の期間に変更してみてください）\n",
        "```"
      ],
      "metadata": {
        "id": "NrcJaOsQx3uM"
      }
    },
    {
      "cell_type": "code",
      "source": [
        "## データファイル、プログラムをダウンロードする\n",
        "!pip install windrose >/dev/null\n",
        "!pip install japanize-matplotlib >/dev/null\n",
        "!wget -q -O \"windraw.py\" https://raw.githubusercontent.com/CropEvol/lecture/master/textbook_2022/scripts/windraw.py\n",
        "!wget -q -O \"wind_dataset.csv\" https://raw.githubusercontent.com/CropEvol/lecture/master/textbook_2022/datasets/wind_dataset.csv\n",
        "!ls"
      ],
      "metadata": {
        "id": "A3i0VN-R62qG"
      },
      "execution_count": null,
      "outputs": []
    },
    {
      "cell_type": "code",
      "source": [
        "## --- 入力値 ------------------------------\n",
        "pref = \"京都\"          # 都道府県名（入力例: \"京都\"）\n",
        "d_from = \"2022-9-1\"  # 期間の始点（入力例: \"2022-9-1\"）\n",
        "d_to   = \"2022-9-30\" # 期間の終点（入力例: \"2022-9-30\"）\n",
        "##---------------------------------------------\n",
        "\n",
        "## 風向・風速データファイルを読み込む\n",
        "import pandas as pd\n",
        "df = pd.read_csv(\"wind_dataset.csv\", sep=\",\", header=[0,1])\n",
        "\n",
        "## 風向・風速データから、指定した都道府県・期間のグラフを描画する\n",
        "import windraw\n",
        "windraw.wind_barplot(data=df, prefecture=pref, date_from=d_from, date_to=d_to)"
      ],
      "metadata": {
        "id": "1ItoqMOk6iiW"
      },
      "execution_count": null,
      "outputs": []
    },
    {
      "cell_type": "markdown",
      "metadata": {
        "id": "TsvPQrB1fCYh"
      },
      "source": [
        "## 5. サーバー上のフォルダやファイルを見る\n",
        "　Google Colabは、Google社のサーバー（以下、Colabサーバー）で動いています。サーバー上にあるフォルダやファイルを確認してみましょう。\n"
      ]
    },
    {
      "cell_type": "markdown",
      "source": [
        "### 実習5\n",
        "　下記の手順で、Colabサーバー上のフォルダやファイルを確認してください。\n",
        "\n",
        "```\n",
        "手順\n",
        "1. 画面の左にあるエリア（左ペイン）のフォルダアイコンをクリックする\n",
        "2. 一覧に以下のフォルダ・ファイルがあることを確認する\n",
        "  「sample_data」フォルダ\n",
        "  「wind_dataset.txt」ファイル　　（実習4-2でダウンロードしたファイルです）\n",
        "  「windraw.py」ファイル　　（実習4-2でダウンロードしたファイルです）\n",
        "\n",
        "最初に表示されるフォルダ: /content\n",
        "```\n"
      ],
      "metadata": {
        "id": "yZ0YmEr0wBVt"
      }
    },
    {
      "cell_type": "markdown",
      "metadata": {
        "id": "qFcK-owEVQ8M"
      },
      "source": [
        "## 6. ノートブックを共有する\n",
        "　共有機能を使うことで、ノートブックを他者と共有できます。この共有機能は、実習課題の提出に使うことがあります。\n",
        "\n",
        "<img src=\"https://github.com/CropEvol/lecture/blob/master/textbook_2022/images/notebook_share.png?raw=true\" alt=\"notebook_share\" height=\"350px\" align=\"middle\">"
      ]
    },
    {
      "cell_type": "markdown",
      "source": [
        "### 実習6\n",
        "\n",
        "　現在のノートブックを「URLリンクを知っている者が閲覧のみできる」共有設定にしてください。\n",
        "\n",
        "<small>**※重要：各回の課題を提出する際におこなう操作です。**</small>\n",
        "\n",
        "```\n",
        "手順\n",
        "1. ノートブックをGoogleドライブに保存する\n",
        "2. 保存後、ノートブック画面右上の「共有」ボタンをクリックする\n",
        "3. 「リンクを知っている全員に変更」をクリックする\n",
        "4. 権限を「閲覧者（コメント可）」にする\n",
        "5. 「完了」をクリックする\n",
        "```"
      ],
      "metadata": {
        "id": "QXO1SVH8wTb5"
      }
    },
    {
      "cell_type": "markdown",
      "metadata": {
        "id": "0T4m5X0hZwAx"
      },
      "source": [
        "---\n",
        "## この実習で学んだこと\n",
        "\n",
        "Google Colabの使い方:\n",
        "- Google Colab画面の見方\n",
        "- ノートブックを保存する・開く・共有する\n",
        "- プログラムを実行する・編集する\n",
        "- サーバー上のファイルを見る\n",
        "\n",
        "<div align=\"right\"><a href=\"https://github.com/CropEvol/lecture#section2\">実習表ページに戻る</a></div>"
      ]
    }
  ],
  "metadata": {
    "colab": {
      "collapsed_sections": [],
      "provenance": [],
      "toc_visible": true
    },
    "kernelspec": {
      "display_name": "Python 3",
      "name": "python3"
    }
  },
  "nbformat": 4,
  "nbformat_minor": 0
}