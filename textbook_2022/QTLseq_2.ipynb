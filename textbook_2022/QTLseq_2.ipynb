{
  "nbformat": 4,
  "nbformat_minor": 0,
  "metadata": {
    "colab": {
      "provenance": [],
      "collapsed_sections": [
        "1OepDBepsBQq",
        "EV2HQknLIWAv"
      ],
      "toc_visible": true
    },
    "kernelspec": {
      "name": "python3",
      "display_name": "Python 3"
    },
    "language_info": {
      "name": "python"
    }
  },
  "cells": [
    {
      "cell_type": "markdown",
      "source": [
        "<img src=\"https://github.com/CropEvol/lecture/blob/master/textbook_2022/images/logo.png?raw=true\" alt=\"2022年度ゲノム情報解析入門\" height=\"100px\" align=\"middle\">\n",
        "\n",
        "<div align=\"right\"><a href=\"https://github.com/CropEvol/lecture#section2\">実習表ページに戻る</a></div>"
      ],
      "metadata": {
        "id": "xrEcu23sU8EV"
      }
    },
    {
      "cell_type": "markdown",
      "source": [
        "QTL-seq入門 (2): リードアライメント、SNP検出\n",
        "---"
      ],
      "metadata": {
        "id": "l4GqxbsKdtM-"
      }
    },
    {
      "cell_type": "markdown",
      "source": [
        "　前回に続き、次世代シーケンサーを使った遺伝子マッピング手法のひとつ、QTL-seqを勉強・体験していきます。\n",
        "\n",
        "QTL-seq入門シリーズ: \n",
        "- [QTL-seq入門 (1): 参照配列（リファレンス配列）の準備](https://colab.research.google.com/github/CropEvol/lecture/blob/master/textbook_2022/QTLseq_1.ipynb)\n",
        "- QTL-seq入門 (2): リードアライメント、SNP検出　←今回\n",
        "- [QTL-seq入門 (3): SNP-indexの算出、グラフ描画](https://colab.research.google.com/github/CropEvol/lecture/blob/master/textbook_2022/QTLseq_3.ipynb)\n",
        "\n",
        "\n",
        "<img src=\"https://github.com/CropEvol/lecture/blob/master/textbook_2022/images/qtlseq_workflow.png?raw=true\" alt=\"QTL-seq workflow\" height=\"180px\" align=\"middle\">"
      ],
      "metadata": {
        "id": "estCp8V2YvX3"
      }
    },
    {
      "cell_type": "code",
      "source": [
        "#########################\n",
        "##  実習の前に実行してください。 ##\n",
        "#########################\n",
        "%%bash\n",
        "## ソフトウェアのインストール\n",
        "wget -q -O install.sh https://raw.githubusercontent.com/CropEvol/lecture/master/textbook_2022/scripts/install_for_alignment.sh\n",
        "sh install.sh && rm -f install.sh\n",
        "pip install -q igv-notebook==0.3.1\n",
        "pip list | grep -e \"igv-notebook\"\n",
        "## サンプルファイルのダウンロード\n",
        "wget -q https://github.com/CropEvol/lecture/raw/master/textbook_2022/scripts/igv_prep.py -O igv_prep.py\n",
        "wget -q https://github.com/CropEvol/lecture/raw/master/textbook_2022/datasets/genome.tar.gz -O - | tar -zxf - 2>/dev/null\n",
        "wget -q https://github.com/CropEvol/lecture/raw/master/textbook_2022/datasets/reads.tar.gz -O - | tar -zxf - 2>/dev/null\n",
        "wget -q https://github.com/CropEvol/lecture/raw/master/textbook_2022/datasets/bam.tar.gz -O - | tar -zxf - 2>/dev/null\n",
        "wget -q https://github.com/CropEvol/lecture/raw/master/textbook_2022/datasets/ngs.tar.gz -O - | tar -zxf - 2>/dev/null"
      ],
      "metadata": {
        "id": "5JVjYX-RB0cz"
      },
      "execution_count": null,
      "outputs": []
    },
    {
      "cell_type": "markdown",
      "source": [
        "# 今回の勉強内容\n",
        "\n",
        "1. リードアライメントとSNP検出を学ぶ\n",
        "  1. 品種Aのリードアライメント\n",
        "  1. 品種BのリードアライメントとSNP検出\n",
        "  1. 交配後のF<small>1</small>個体のアライメントデータ\n",
        "  1. 交配後のF<small>2</small>個体のアライメントデータ\n",
        "1. バルクシーケンシングを学ぶ\n",
        "  1. グループで分離していないSNPを探す\n",
        "  1. QTL-seq: バルクシーケンシング\n",
        "1. 実例: イネのQTL-seq\n",
        "1. シーケンシングの種類と特徴\n"
      ],
      "metadata": {
        "id": "iMenqmOheCQ5"
      }
    },
    {
      "cell_type": "markdown",
      "source": [
        "# 1. リードアライメントとSNP検出を学ぶ\n",
        "\n",
        "　QTL-seqでは、参照配列（リファレンス配列）を用意したあと、次にシーケンシングデータ（リード配列）を参照配列に並べます。配列が似ている箇所を参照配列から探し、その場所にリードを並べます<sup>※1</sup>。その工程のことを**リードアライメント**（または、**リードマッピング**）と言います。\n",
        "\n",
        "<img src=\"https://github.com/CropEvol/lecture/blob/master/textbook_2022/images/read_alignment.png?raw=true\" alt=\"Read alignment\" height=\"80px\" align=\"middle\">\n",
        "\n",
        "<small>※1 リードアライメントの仕組みに興味がある方は以下のWebページを参照してください。<br>　[How Do We Compare Biological Sequences?](https://www.bioinformaticsalgorithms.org/bioinformatics-chapter-5) (Bioinformatics Algorithms / Phillip Compeau)</small>\n",
        "\n",
        "　リードアライメントをおこなうと、参照配列とリード配列の間の塩基の違い、**SNP（Single Nucleotide Polymorphism; 一塩基多型）を検出**できます。\n",
        "\n",
        "<img src=\"https://github.com/CropEvol/lecture/blob/master/textbook_2022/images/SNP_detection.png?raw=true\" alt=\"SNP detection\" height=\"160px\" align=\"middle\">\n",
        "\n",
        "　ここでは、実際にリードアライメントをおこない、その結果を確認し、次世代シーケンスデータのSNP検出についてを学びましょう。\n",
        "\n"
      ],
      "metadata": {
        "id": "f7kt9fIQX0f9"
      }
    },
    {
      "cell_type": "markdown",
      "source": [
        "## 1-1. 品種Aのリードアライメント\n",
        "\n",
        "　ここでは、以下2つの配列データを使います。\n",
        "- 参照配列: 品種Aのゲノム配列（300bp）\n",
        "  - /content/genome/CultivarA.fa\n",
        "- リード配列: 品種Aのリード配列（合計約240本の**ペアエンドリード**<sup>※2</sup>、各20bp）\n",
        "  - /content/reads/CultivarA_read1.fq\n",
        "  - /content/reads/CultivarA_read2.fq\n",
        "\n",
        "<img src=\"https://github.com/CropEvol/lecture/blob/master/textbook_2022/images/paired_end_read.png?raw=true\" alt=\"DNA sequencing and paired-end read\" height=\"230px\" align=\"middle\">\n",
        "\n",
        "<small>※2 配列断片の両端を挟むようにシーケンシングして得られたリードのことを「ペアエンドリード (Paired-end read)」と言います。1組のペアエンドリードで2本分のリード配列データを得られます。一方からシーケンシングした配列がSAMPLE_read1.fqに入っており、もう一方からシーケンシングした配列がSAMPLE_read2.fqに入っています。2ファイルで1サンプル分のデータのため、ペアとして扱うのが一般的です。</small>\n"
      ],
      "metadata": {
        "id": "bhdnQZMlX_-E"
      }
    },
    {
      "cell_type": "markdown",
      "source": [
        "### 塩基配列データ形式: FASTAとFASTQ"
      ],
      "metadata": {
        "id": "1OepDBepsBQq"
      }
    },
    {
      "cell_type": "markdown",
      "source": [
        "　塩基配列をデータとして扱う際によく使う記述形式は**FASTA**です。配列名と配列本体をセットで記述しておきたい場合によく使われます（例えば、参照配列（ゲノム配列）など）。\n",
        "```shell\n",
        "# FASTA形式の見方\n",
        ">塩基配列名\n",
        "塩基配配列本体\n",
        "\n",
        "# 例\n",
        ">chr1\n",
        "ATTGCTGGCGTTGGCGAGCTAAACAACCA\n",
        "GTGCACGATGAGCGTCCTCTTTTTTAATA\n",
        "GCGATCGGAT\n",
        ">chr2\n",
        "CTATTTGGTAGCTCCCGTC\n",
        ">chr3\n",
        "TACAACTTGGATTCGGGGTTTGGGTAATG\n",
        "GGGATAAGACCTTGGACGCT\n",
        "```"
      ],
      "metadata": {
        "id": "k1aWbbPjsMnT"
      }
    },
    {
      "cell_type": "markdown",
      "source": [
        "　次世代シーケンサーから塩基配列を出力する際、リードの配列名と配列本体の情報だけでなく、各塩基のクオリティ情報（塩基の信頼度）も得られます。**FASTQ**は、配列名、配列本体に加えて、塩基のクオリティ情報を記述できる様式です。1文字で1塩基分の[Phredクオリティスコア](https://github.com/CropEvol/lecture/blob/master/textbook_2021/L03_phred_score.md)を記述できます。例えば、下記の例のread1について、最初の塩基「G」のスコアは「/」で、その次の塩基「A」のスコアは「<」です。\n",
        "\n",
        "```shell\n",
        "# FASTQ形式の見方\n",
        "@塩基配列名\n",
        "塩基配列本体\n",
        "+\n",
        "塩基のクオリティ情報\n",
        "\n",
        "#　例\n",
        "@read1\n",
        "GAGGGGGAGCGGAAGAGTGG\n",
        "+\n",
        "/<3GGGGGFGFGFEGGGFG?\n",
        "@read2\n",
        "TCTGCCTCTCCTCCCTCTCT\n",
        "+\n",
        "GGGGEGGGFFGGGFD?4C?A\n",
        "@read3\n",
        "AAATAAATCCTCCTTCCTAC\n",
        "+\n",
        "GGCFGFFFF?FDDFEG?;FC\n",
        "```\n",
        "\n",
        "　クオリティ情報は、SNP検出（参照配列と違う塩基を見つけた時、シーケンシングエラーかSNP変異かの判断）や検出したSNPの信頼度計算などに使われます。"
      ],
      "metadata": {
        "id": "DR1bp1tAwgRT"
      }
    },
    {
      "cell_type": "markdown",
      "source": [
        "### -------------------------------------\n",
        "\n",
        "　今回、実際のゲノム解析でも良く使われている[**BWA (Burrows-Wheeler Alignment)**](https://bio-bwa.sourceforge.net/)と呼ばれるソフトウェアで、リードアライメントをおこないます。\n",
        "\n",
        "　次のプログラムを実行して、リードアライメントをおこなってください。"
      ],
      "metadata": {
        "id": "LkT3r7r2uZJ9"
      }
    },
    {
      "cell_type": "code",
      "source": [
        "%%bash\n",
        "## ------------------------------------------------------------------\n",
        "## Alignment: CultivarA reads to CultivarA reference\n",
        "## ------------------------------------------------------------------\n",
        "## リードアライメントの事前準備\n",
        "if [ ! -e genome/CultivarA.fa.bwt ]; then bwa index genome/CultivarA.fa; fi\n",
        "## リードアライメント\n",
        "bwa aln genome/CultivarA.fa reads/CultivarA_read1.fq > read1.sai 2>/dev/null\n",
        "bwa aln genome/CultivarA.fa reads/CultivarA_read2.fq > read2.sai 2>/dev/null\n",
        "bwa sampe genome/CultivarA.fa read1.sai read2.sai reads/CultivarA_read1.fq reads/CultivarA_read2.fq > CultivarA.sam\n",
        "samtools sort -O bam CultivarA.sam > CultivarA.bam\n",
        "samtools index CultivarA.bam\n",
        "rm -fR read1.sai read2.sai"
      ],
      "metadata": {
        "id": "Jzy29C-Yxa60"
      },
      "execution_count": null,
      "outputs": []
    },
    {
      "cell_type": "markdown",
      "source": [
        "　アライメント後、次のプログラムを実行して、アライメント結果を見てみましょう。\n",
        "\n",
        "<small>※ リードアライメント結果を見るために、実際のゲノム解析でも良く使われているソフトウェア [**IGV (Integrative Genomics Viewer)**](https://software.broadinstitute.org/software/igv/home) のPython版を使います。</small>"
      ],
      "metadata": {
        "id": "2XTONln7fNpE"
      }
    },
    {
      "cell_type": "code",
      "source": [
        "## アライメント結果を見る\n",
        "## 準備: ライブラリ\n",
        "import igv_notebook\n",
        "from igv_prep import RefTrack, AnnotationTrack, BamTrack\n",
        "igv_notebook.init()\n",
        "## 準備: Reference info\n",
        "ref = RefTrack({ \"fastaPath\":\"genome/CultivarA.fa\", \"indexPath\":\"genome/CultivarA.fa.fai\", \"id\":\"CultivarA\" })\n",
        "## 準備: Reads info\n",
        "A = BamTrack({ \"name\":\"CultivarA\", \"path\":\"CultivarA.bam\", \"indexPath\":\"CultivarA.bam.bai\", \"viewAsPairs\":True })\n",
        "## IGV表示\n",
        "b = igv_notebook.Browser(ref)\n",
        "b.load_track(A)"
      ],
      "metadata": {
        "id": "yj2QEcVtO-ni"
      },
      "execution_count": null,
      "outputs": []
    },
    {
      "cell_type": "markdown",
      "source": [
        "　次世代シーケンシングリードは、多量に得られる代わりに、シーケンシングエラーを少なからず含んでいます。十分なリード量があれば、それがエラーによる塩基なのか、変異塩基なのかを判別できます。\n",
        "\n",
        "　品種Aのリードは、品種Aのゲノム配列から由来しているので、シーケンシングエラー以外は参照配列と同じ配列を持っています。"
      ],
      "metadata": {
        "id": "RIfy54Y50vjV"
      }
    },
    {
      "cell_type": "markdown",
      "source": [
        "## 1-2. 品種BのリードアライメントとSNP検出\n",
        "\n",
        "　同様に、次の二つのプログラムを順番に実行して、品種Bのリードアライメントをおこない、その結果を確認してください。\n",
        "\n",
        "使用するデータ: \n",
        "- 参照配列: 品種Aのゲノム配列（300bp）\n",
        "  - /content/genome/CultivarA.fa\n",
        "- リード配列: 品種Bのリード配列（合計約240本のペアエンドリード、各20bp）\n",
        "  - /content/reads/CultivarB_read1.fq\n",
        "  - /content/reads/CultivarB_read2.fq"
      ],
      "metadata": {
        "id": "VoJluELGY5Ut"
      }
    },
    {
      "cell_type": "code",
      "source": [
        "%%bash\n",
        "## ------------------------------------------------------------------\n",
        "## Alignment: CultivarB reads to CultivarA reference\n",
        "## ------------------------------------------------------------------\n",
        "## リードアライメントの事前準備\n",
        "if [ ! -e genome/CultivarA.fa.bwt ]; then bwa index genome/CultivarA.fa; fi\n",
        "## リードアライメント\n",
        "bwa aln genome/CultivarA.fa reads/CultivarB_read1.fq > read1.sai 2>/dev/null\n",
        "bwa aln genome/CultivarA.fa reads/CultivarB_read2.fq > read2.sai 2>/dev/null\n",
        "bwa sampe genome/CultivarA.fa read1.sai read2.sai reads/CultivarB_read1.fq reads/CultivarB_read2.fq > CultivarB.sam\n",
        "samtools sort -O bam CultivarB.sam > CultivarB.bam\n",
        "samtools index CultivarB.bam\n",
        "rm -fR read1.sai read2.sai"
      ],
      "metadata": {
        "id": "BjZgSEGeMKvz"
      },
      "execution_count": null,
      "outputs": []
    },
    {
      "cell_type": "code",
      "source": [
        "## アライメント結果を見る\n",
        "## 準備: ライブラリ\n",
        "import igv_notebook\n",
        "from igv_prep import RefTrack, AnnotationTrack, BamTrack\n",
        "igv_notebook.init()\n",
        "## 準備: Reference info\n",
        "ref = RefTrack({ \"fastaPath\":\"genome/CultivarA.fa\", \"indexPath\":\"genome/CultivarA.fa.fai\", \"id\":\"CultivarA\" })\n",
        "## 準備: Reads info\n",
        "B = BamTrack({ \"name\":\"CultivarB\", \"path\":\"CultivarB.bam\", \"indexPath\":\"CultivarB.bam.bai\", \"viewAsPairs\":True })\n",
        "## IGV表示\n",
        "b = igv_notebook.Browser(ref)\n",
        "b.load_track(B)"
      ],
      "metadata": {
        "id": "bjHUhtMFOT-4"
      },
      "execution_count": null,
      "outputs": []
    },
    {
      "cell_type": "markdown",
      "source": [
        "　リードアライメント結果では、参照配列（品種Aのゲノム配列）とリード配列（品種Bの配列）の間で異なった塩基の場所がカラーで示されています。一部の塩基箇所について見てみると、ほぼすべてのリードが異なる塩基をもっており、エラー由来の塩基ではないことがわかります。したがって、この箇所が品種Aと品種Bの間の**SNP**と考えられます。"
      ],
      "metadata": {
        "id": "qcaTqu9Pkjp5"
      }
    },
    {
      "cell_type": "markdown",
      "source": [
        "## 1-3. 交配後のF<small>1</small>個体のアライメントデータ\n",
        "\n",
        "　品種Aと品種Bを人為的に交配して作った個体（F<small>1</small>個体）は、品種Aと品種Bから一つずつ配偶子を受け取って生じた個体であるため、品種Aと品種BのそれぞれのSNPをもっています。\n",
        "\n",
        "<img src=\"https://github.com/CropEvol/lecture/blob/master/textbook_2022/images/f1_hybrid.png?raw=true\" alt=\"SNP allele heterozygous of F1\" height=\"200px\" align=\"middle\">\n",
        "\n",
        "　F<small>1</small>個体ではどのようなリードアライメント結果が得られるか見てみましょう。以下を実行すると、F<small>1</small>個体のリードアライメント結果を表示できます。\n",
        "\n",
        "<small>※ ここからは、bwaによるリードアライメントを省略し、事前に用意したアライメント結果を見ていきます。</small>"
      ],
      "metadata": {
        "id": "uOjRxMpDY0qN"
      }
    },
    {
      "cell_type": "code",
      "source": [
        "## アライメント結果を見る\n",
        "## 準備: ライブラリ\n",
        "import igv_notebook\n",
        "from igv_prep import RefTrack, AnnotationTrack, BamTrack\n",
        "igv_notebook.init()\n",
        "## 準備: Reference info\n",
        "ref = RefTrack({ \"fastaPath\":\"genome/CultivarA.fa\", \"indexPath\":\"genome/CultivarA.fa.fai\", \"id\":\"CultivarA\" })\n",
        "## 準備: Reads info\n",
        "B = BamTrack({ \"name\":\"CultivarB\", \"path\":\"bam/CultivarB.bam\", \"indexPath\":\"bam/CultivarB.bam.bai\", \"viewAsPairs\":True, \"displayMode\":\"SQUISHED\", \"height\":150 })\n",
        "F1= BamTrack({ \"name\":\"F1\",       \"path\":\"bam/F1.bam\",       \"indexPath\":\"bam/F1.bam.bai\",       \"viewAsPairs\":True })\n",
        "## IGV表示\n",
        "b = igv_notebook.Browser(ref)\n",
        "b.load_track(B)\n",
        "b.load_track(F1)"
      ],
      "metadata": {
        "id": "tNI1qLP6QoRi"
      },
      "execution_count": null,
      "outputs": []
    },
    {
      "cell_type": "markdown",
      "source": [
        "　各SNP箇所の塩基構成を見ると、多少ばらついているものの、二つのSNP塩基（以下、**SNPアリル**）がおよそ50%ずつ見つかります。"
      ],
      "metadata": {
        "id": "qJfeWyAjsU7k"
      }
    },
    {
      "cell_type": "markdown",
      "source": [
        "## 1-4. 交配後のF<small>2</small>世代のアライメントデータ\n",
        "\n",
        "　F<small>1</small>個体を自殖して得た次の世代（F<small>2</small>世代）では、SNPアリルは各F<small>2</small>個体にランダムに遺伝されます。\n",
        "\n",
        "<img src=\"https://github.com/CropEvol/lecture/blob/master/textbook_2022/images/SNP_allele_segregation.png?raw=true\" alt=\"SNP allele segregation in F2\" height=\"230px\" align=\"middle\">\n",
        "\n",
        "　F<small>2</small>世代では各個体のリードアライメントがどのようになるか見てみましょう。次のプログラムを実行すると、F<small>2</small>世代の100個体のうち、指定のF<small>2</small>個体（例えば、F2_001からF2_005）のアライメント結果を見れます。"
      ],
      "metadata": {
        "id": "1HYRlFfJZEh4"
      }
    },
    {
      "cell_type": "code",
      "source": [
        "## 表示するF2番号: 1~100までの数字を自由に組み合わせ可能\n",
        "## 注意： 数字と数字の間には半角のカンマ(,)が必要です。\n",
        "F2 = [1,2,3,4,5]\n",
        "\n",
        "## 準備: ライブラリ\n",
        "import igv_notebook\n",
        "from igv_prep import RefTrack, AnnotationTrack, BamTrack\n",
        "bam_common_info = { \"displayMode\":\"SQUISHED\", \"viewAsPairs\":True, \"height\":100, \"showCoverage\":False }\n",
        "igv_notebook.init()\n",
        "## 準備: Reference info\n",
        "ref = RefTrack({ \"fastaPath\":\"genome/CultivarA.fa\", \"indexPath\":\"genome/CultivarA.fa.fai\", \"id\":\"CultivarA\" })\n",
        "## 準備: Reads info\n",
        "Info = [BamTrack({ **{\"name\":\"CultivarB\", \"path\":\"bam/CultivarB.bam\", \"indexPath\":\"bam/CultivarB.bam.bai\"}, **bam_common_info }),\n",
        "        BamTrack({ **{\"name\":\"F1\",       \"path\":\"bam/F1.bam\", \"indexPath\":\"bam/F1.bam.bai\"}, **bam_common_info })]\n",
        "for f in sorted(list(set(F2))):\n",
        "    Info += [ BamTrack({ **{\"name\":\"F2_{:03}\".format(f), \n",
        "                          \"path\":\"/content/bam/F2_{:03}.bam\".format(f),\n",
        "                          \"indexPath\":\"/content/bam/F2_{:03}.bam.bai\".format(f)}, **bam_common_info }) ]\n",
        "## IGV表示\n",
        "b = igv_notebook.Browser(ref)\n",
        "for i in Info: b.load_track(i)"
      ],
      "metadata": {
        "id": "SQ78nI6KMZIp"
      },
      "execution_count": null,
      "outputs": []
    },
    {
      "cell_type": "markdown",
      "source": [
        "　個体ごとに各SNP箇所のSNPアリルの構成が異なり、F<small>2</small>世代でのSNPアリルの分離を確認できました。\n",
        "\n",
        "　F<small>2</small>個体集団のように、SNPアリルがその場所ごとに独立に分離した（染色体がシャッフルされた）集団は、両親間の形質の違いを生み出す遺伝子（原因遺伝子）の位置を探索するのに役立ちます。\n",
        "\n",
        "　次は、形質情報を考慮したリードアライメント結果を見ていきましょう。\n",
        "\n",
        "<img src=\"https://github.com/CropEvol/lecture/blob/master/textbook_2022/images/chromosome_shuffling.png?raw=true\" alt=\"Chromosome shuffling\" height=\"230px\" align=\"middle\">\n",
        "\n",
        "\n"
      ],
      "metadata": {
        "id": "T4NvPj8LzaDg"
      }
    },
    {
      "cell_type": "markdown",
      "source": [
        "# 2. バルクシーケンシングを学ぶ\n",
        "\n",
        "　各個体の形質データは次のとおりです。\n",
        "- F<small>2</small>各個体の形質: [形質データ表](https://github.com/CropEvol/lecture/blob/master/textbook_2022/QTLseq_2.pdf)\n",
        "- 品種Aの形質: Short\n",
        "- 品種Bの形質: Long\n",
        "- F<small>1</small>個体の形質: Medium\n"
      ],
      "metadata": {
        "id": "UV5eOffaZoX0"
      }
    },
    {
      "cell_type": "markdown",
      "source": [
        "## 2-1. グループ内で分離していないSNPを探す\n",
        "\n",
        "　品種Aと同じ「Short」形質をもつF<small>2</small>個体（例えば、個体番号 `5, 7, 10, 15`）を4つ程度選び、それらのアライメント結果を表示してください。さらに、そのグループ内で分離していないSNP（固定SNP）を探してみてください。\n"
      ],
      "metadata": {
        "id": "LjY9NiOHZubJ"
      }
    },
    {
      "cell_type": "code",
      "source": [
        "## 品種Aと同じShort形質をもつF2個体番号を半角数字で入力してください。\n",
        "## 注意： 数字と数字の間には半角のカンマ(,)が必要です。\n",
        "F2_S_bulk = []\n",
        "\n",
        "## 準備: ライブラリ\n",
        "import igv_notebook\n",
        "from igv_prep import RefTrack, AnnotationTrack, BamTrack\n",
        "bam_common_info = { \"displayMode\":\"SQUISHED\", \"viewAsPairs\":True, \"height\":100, \"showCoverage\":False }\n",
        "igv_notebook.init()\n",
        "## 準備: Reference info\n",
        "ref = RefTrack({ \"fastaPath\":\"genome/CultivarA.fa\", \"indexPath\":\"genome/CultivarA.fa.fai\", \"id\":\"CultivarA\" })\n",
        "## 準備: Reads info\n",
        "Info = [BamTrack({ **{\"name\":\"CultivarA\", \"path\":\"bam/CultivarA.bam\", \"indexPath\":\"bam/CultivarA.bam.bai\"}, **bam_common_info }),\n",
        "        BamTrack({ **{\"name\":\"CultivarB\", \"path\":\"bam/CultivarB.bam\", \"indexPath\":\"bam/CultivarB.bam.bai\"}, **bam_common_info }),]\n",
        "for f in sorted(list(set(F2_S_bulk))):\n",
        "    Info += [ BamTrack({ **{\"name\":\"F2_{:03}\".format(f), \n",
        "                          \"path\":\"bam/F2_{:03}.bam\".format(f),\n",
        "                          \"indexPath\":\"bam/F2_{:03}.bam.bai\".format(f)}, **bam_common_info }) ]\n",
        "## IGV表示\n",
        "b = igv_notebook.Browser(ref)\n",
        "for i in Info: b.load_track(i)"
      ],
      "metadata": {
        "id": "KzDzcPLdaF79"
      },
      "execution_count": null,
      "outputs": []
    },
    {
      "cell_type": "markdown",
      "source": [
        "　同様に、品種Bと同じ「Long」形質のF<small>2</small>個体についても、4個体分程度のアライメント結果を表示し、固定SNPを探してください。\n",
        "\n",
        "例） 個体番号 `4, 8, 11, 21`"
      ],
      "metadata": {
        "id": "ORL6UUIbZRWb"
      }
    },
    {
      "cell_type": "code",
      "source": [
        "## 品種Bと同じLong形質をもつF2個体番号を半角数字で入力してください。\n",
        "## 注意： 数字と数字の間には半角のカンマ(,)が必要です。\n",
        "F2_L_bulk = []\n",
        "\n",
        "## 準備: ライブラリ\n",
        "import igv_notebook\n",
        "from igv_prep import RefTrack, AnnotationTrack, BamTrack\n",
        "bam_common_info = { \"displayMode\":\"SQUISHED\", \"viewAsPairs\":True, \"height\":100, \"showCoverage\":False }\n",
        "igv_notebook.init()\n",
        "## 準備: Reference info\n",
        "ref = RefTrack({ \"fastaPath\":\"genome/CultivarA.fa\", \"indexPath\":\"genome/CultivarA.fa.fai\", \"id\":\"CultivarA\" })\n",
        "## 準備: Reads info\n",
        "Info = [BamTrack({ **{\"name\":\"CultivarA\", \"path\":\"bam/CultivarA.bam\", \"indexPath\":\"bam/CultivarA.bam.bai\"}, **bam_common_info }),\n",
        "        BamTrack({ **{\"name\":\"CultivarB\", \"path\":\"bam/CultivarB.bam\", \"indexPath\":\"bam/CultivarB.bam.bai\"}, **bam_common_info }),]\n",
        "for f in sorted(list(set(F2_L_bulk))):\n",
        "    Info += [ BamTrack({ **{\"name\":\"F2_{:03}\".format(f), \n",
        "                          \"path\":\"bam/F2_{:03}.bam\".format(f),\n",
        "                          \"indexPath\":\"bam/F2_{:03}.bam.bai\".format(f)}, **bam_common_info }) ]\n",
        "## IGV表示\n",
        "b = igv_notebook.Browser(ref)\n",
        "for i in Info: b.load_track(i)"
      ],
      "metadata": {
        "id": "OEdecSTNZQ4d"
      },
      "execution_count": null,
      "outputs": []
    },
    {
      "cell_type": "markdown",
      "source": [
        "　形質ごとに4個体程度を表示し、各SNP箇所のSNPアリル構成を見ていくと、前から55番目の塩基に固定SNPを発見できます。\n",
        "\n",
        "55番目の塩基:\n",
        "- Short形質の品種Aでは「A」\n",
        "- Short形質のF<small>2</small>個体でも「A」のみ\n",
        "- Long形質の品種Bでは「T」\n",
        "- Long形質のF<small>2</small>個体でも「T」のみ\n",
        "\n",
        "　形質とSNPアリルに連関（Association）がみられることから、形質の違いを作っている原因変異かもしれません。\n",
        "\n",
        "<small>※ 「Medium」形質のF<small>2</small>個体のアライメント結果には、55番塩基に2つのSNPアリルが見つかるはずです。余裕があれば確認してみてください。</small>\n"
      ],
      "metadata": {
        "id": "txdvuD0o-2gg"
      }
    },
    {
      "cell_type": "markdown",
      "source": [
        "## 2-2. QTL-seq: バルクシーケンシング\n",
        "\n",
        "　先ほどは、各個体のアライメント結果をサンプルごとに表示しました。**バルクシーケンシング**のリードは、いくつかの個体のリードをランダムにいくつか集めてプーリングし、\"1サンプル分\"のデータとして扱ったものとほぼ同じです。\n",
        "\n",
        "<img src=\"https://github.com/CropEvol/lecture/blob/master/textbook_2022/images/read_sampling.png?raw=true\" alt=\"Bulked DNA sequencing\" height=\"250px\" align=\"middle\">\n",
        "\n",
        "　今度は、バルクシーケンシングの結果を見てみましょう。以下の二つのコードセルを実行すると、任意の複数個体から集めたバルクシーケンシングリードのアライメント結果を表示できます。\n",
        "\n",
        "　`F2_S_bulk`と`F2_L_bulk`の右辺の括弧`[]`内に、Short形質グループ（S-bulk）とLong形質グループ（L-bulk）に含める個体の番号を入力し、バルクシーケンシングリードのアライメント結果を確認してください。"
      ],
      "metadata": {
        "id": "MRx5AzyKZ3ba"
      }
    },
    {
      "cell_type": "code",
      "source": [
        "## プーリングするF2個体の番号\n",
        "## 注意： 数字と数字の間には半角のカンマ(,)が必要です。\n",
        "F2_S_bulk = [5, 7, 10, 15]\n",
        "F2_L_bulk = [4, 8, 11, 21]\n",
        "\n",
        "## Pooling\n",
        "import re\n",
        "def Pooling(Ns, bam_dir, samplingRate=-1, output=\"bulk.bam\", verbose=False, samtools_path=\"samtools\"):\n",
        "    f2_list = [bam_dir+\"/F2_{:03}.bam\".format(f) for f in sorted(list(set(Ns)))]\n",
        "    if samplingRate>=1.0:\n",
        "        samplingRate = 1.0\n",
        "    elif samplingRate<=0.0:\n",
        "        samplingRate = float(1.0 / len(bam_dir) * 5.0)\n",
        "    f2_str = \" \".join(f2_list)\n",
        "    !$samtools_path merge -o - $f2_str | samtools view -b -s $samplingRate > $output\n",
        "    !$samtools_path index $output\n",
        "    if verbose:\n",
        "      f2_samples = [re.search(r\".*/(.+?)$\", i).group(1) for i in f2_list]\n",
        "      print(\"Output: \", output)\n",
        "      print(\"- Reads sampled from: \"+\",\".join(f2_samples))\n",
        "      print(\"- Sampling rate: %.3f\" % samplingRate)\n",
        "      \n",
        "Pooling(F2_S_bulk, bam_dir=\"bam/\", output=\"S_bulk.bam\", verbose=True)\n",
        "Pooling(F2_L_bulk, bam_dir=\"bam/\", output=\"L_bulk.bam\", verbose=True)"
      ],
      "metadata": {
        "id": "oKbHj3Ukd30f"
      },
      "execution_count": null,
      "outputs": []
    },
    {
      "cell_type": "code",
      "source": [
        "## 準備: ライブラリ\n",
        "import igv_notebook\n",
        "from igv_prep import RefTrack, AnnotationTrack, BamTrack\n",
        "## 準備: Reference info\n",
        "ref = RefTrack({ \"fastaPath\":\"genome/CultivarA.fa\", \"indexPath\":\"genome/CultivarA.fa.fai\", \"id\":\"CultivarA\" })\n",
        "## 準備: Reads info\n",
        "bam_common_info = { \"displayMode\":\"SQUISHED\", \"viewAsPairs\":True, \"height\":200 }\n",
        "S = BamTrack({ **{\"name\":\"S-bulk\", \"path\":\"S_bulk.bam\", \"indexPath\":\"S_bulk.bam.bai\"}, **bam_common_info })\n",
        "L = BamTrack({ **{\"name\":\"L-bulk\", \"path\":\"L_bulk.bam\", \"indexPath\":\"L_bulk.bam.bai\"}, **bam_common_info })\n",
        "## IGV表示\n",
        "igv_notebook.init()\n",
        "b = igv_notebook.Browser(ref)\n",
        "b.load_track(S)\n",
        "b.load_track(L)"
      ],
      "metadata": {
        "id": "6SMfEy1jqq0h"
      },
      "execution_count": null,
      "outputs": []
    },
    {
      "cell_type": "markdown",
      "source": [
        "### 実際のQTL-seqのバルクシーケンシングリード"
      ],
      "metadata": {
        "id": "EV2HQknLIWAv"
      }
    },
    {
      "cell_type": "markdown",
      "source": [
        "　今回、個別のシーケンシングリードをいくつか集めてバルクシーケンシングリードを用意しました。しかし、実際のQTL-seqのバルクシーケンシングリードは少し異なります。\n",
        "\n",
        "　QTL-seqでは。DNAの段階で形質ごとにDNAをプーリングしてシーケンシングします。そのため、プーリングしたどれかの個体のDNAから由来したリードであるのは間違いないですが、どの個体由来のリードかの特定はできません。\n",
        "\n",
        "<img src=\"https://github.com/CropEvol/lecture/blob/master/textbook_2022/images/bulk_sequencing.png?raw=true\" alt=\"bulk sequencing\" height=\"280px\" align=\"middle\">\n",
        "\n"
      ],
      "metadata": {
        "id": "DiPKuvlyIT8y"
      }
    },
    {
      "cell_type": "markdown",
      "source": [
        "　バルクDNAシーケンシングをおこなう利点は、分離集団（例えば、F<small>2</small>個体集団）の各個体を個別にシーケンシングして情報を得るより、かなりに費用が抑えられるためです。\n",
        "\n",
        "例）シーケンシング費用が1サンプル10,000円の場合:  \n",
        "- F<small>2</small>集団100個体の個別シーケンシング: 1,000,000円\n",
        "- F<small>2</small>集団の二つの形質のバルクシーケンシング: 20,000円<sup>※3</sup>\n",
        "\n",
        "<small>※3 QTL-seqでは形質ごとに数サンプル〜数十サンプル分に相当するデータ量が必要になるため、実際にはもう少しかかります。</small>"
      ],
      "metadata": {
        "id": "jgaX-ttC5vZS"
      }
    },
    {
      "cell_type": "markdown",
      "source": [
        "# 3. 実例: イネのQTL-seq\n",
        "\n",
        "　ここでは、イネでQTL-seqをおこなった際の実データ（アライメントデータ）を見てみましょう。\n",
        "\n",
        "　イネいもち病にかかりにくい品種（抵抗性品種）とかかりやすい品種（罹病性品種）の交配からできた分離集団で、抵抗性個体グループと罹病性個体グループのバルクシーケンシングし、罹病性品種のゲノム配列にアライメントデータです。\n",
        "\n",
        "- 参照配列: 罹病性品種のゲノム配列\n",
        "- バルクDNAシーケンス:\n",
        "  - 抵抗性個体のバルクシーケンシングリード\n",
        "  - 罹病性個体のバルクシーケンシングリード\n",
        "\n",
        "<img src=\"https://github.com/CropEvol/lecture/blob/master/textbook_2022/images/qtlseq_takagi_etal_2013_2.png?raw=true\" alt=\"Rice QTL-seq example (Takagi et al., 2013)\" height=\"250px\" align=\"middle\">\n",
        "\n",
        "\n",
        "\n"
      ],
      "metadata": {
        "id": "NxrURWPgZ1mL"
      }
    },
    {
      "cell_type": "markdown",
      "source": [
        "　次の2つのコードセルを実行すると、イネのQTL-seqのアライメント結果（イネ6番染色体の15Mbのみ）を見れます。アライメント結果から、遺伝子がありそうなゲノム領域を探してみてください。\n",
        "\n",
        "<small>※ [IGV-Web 版](https://igv.org/app/?sessionURL=blob:zZJLb8IwDID_i89dHwy2tTck2GmgaQ9pEpoqt3VpRNq0TgqbEP99HrAT7MakSckljv3ZX7KFNbFVpoEEBn507Y_AA1uZzTPWraY51mQhKVFb8oCpJKYmJ0i2UKJ1.Pr0IImVc61NgoBx4y.Vq_qst8S5aRw1zs9NHXQdtTd3oyKw.7JpgQ4tuaBG1QSdk.pdwCqnNK_4Jo3SaDTL_BKlF9UU9PHHGFkKdh5ok_cyLXxHk.gqCr1wEEsPbBQki3cPHGO.khuLLbjPVjSAVOz3RjwwXBBDchWH4W0Ux4PR8HYYxnG087bQs77YAM9p1uuVf7jhZ1gLu5F3EsC50MUFnkBkKwHJ9GpNxXzfiuNePkxpuEYn5EMrR2eo1bKpBSlHqDVpumfqXiom.Xi6gCT0B1JO2Vbj58wU3znTt8fxfDKdSMpa0WZsH1Gx_eEc1Q8vrfrpd9XnQhdXfQL5R6rfd18-) でも同じデータを公開しています。ただし、一部ブラウザ（Firefoxなど）ではエラーが発生して見れないかもしれません。</small>\n",
        "\n"
      ],
      "metadata": {
        "id": "4ZwfP8KGed8x"
      }
    },
    {
      "cell_type": "code",
      "source": [
        "## Colab上にデータファイルのダウンロードする\n",
        "!pip install -q -U igv-notebook==0.3.1\n",
        "!wget -q -O igv_prep.py    https://github.com/CropEvol/lecture/raw/master/textbook_2022/scripts/igv_prep.py\n",
        "!wget -q -O rice_chr6_1_15Mb.fa    https://raw.githubusercontent.com/qqep685d/sample_dataset/main/qtlseq/rice_chr6_1_15Mb.fa\n",
        "!wget -q -O rice_chr6_1_15Mb.fa.fai https://raw.githubusercontent.com/qqep685d/sample_dataset/main/qtlseq/rice_chr6_1_15Mb.fa.fai\n",
        "!wget -q -O rice_R_bulk.bam    https://raw.githubusercontent.com/qqep685d/sample_dataset/main/qtlseq/R_bulk.sample.bam\n",
        "!wget -q -O rice_R_bulk.bam.bai https://raw.githubusercontent.com/qqep685d/sample_dataset/main/qtlseq/R_bulk.sample.bam.bai\n",
        "!wget -q -O rice_S_bulk.bam    https://raw.githubusercontent.com/qqep685d/sample_dataset/main/qtlseq/S_bulk.sample.bam\n",
        "!wget -q -O rice_S_bulk.bam.bai https://raw.githubusercontent.com/qqep685d/sample_dataset/main/qtlseq/S_bulk.sample.bam.bai"
      ],
      "metadata": {
        "id": "brzo0n-nqKak"
      },
      "execution_count": null,
      "outputs": []
    },
    {
      "cell_type": "code",
      "source": [
        "import igv_notebook\n",
        "from igv_prep import RefTrack, AnnotationTrack, BamTrack\n",
        "igv_notebook.init()\n",
        "bam_common_info = { \"displayMode\":\"SQUISHED\", \"alleleFreqThreshold\":0.4, \"height\":200 }\n",
        "\n",
        "## 準備: Reference info\n",
        "ref    = RefTrack({ \"fastaPath\":\"rice_chr6_1_15Mb.fa\", \"indexPath\":\"rice_chr6_1_15Mb.fa.fai\", \"id\":\"Rice\" }, locus=\"chr6:1-10,000\")\n",
        "## 準備: Reads info\n",
        "r_bulk = BamTrack({ **{\"name\":\"R_bulk\", \"path\":\"rice_R_bulk.bam\", \"indexPath\":\"rice_R_bulk.bam.bai\"}, **bam_common_info })\n",
        "s_bulk = BamTrack({ **{\"name\":\"S_bulk\", \"path\":\"rice_S_bulk.bam\", \"indexPath\":\"rice_S_bulk.bam.bai\"}, **bam_common_info })\n",
        "## IGV表示\n",
        "igv_notebook.init()\n",
        "b = igv_notebook.Browser(ref)\n",
        "b.load_track(r_bulk)\n",
        "b.load_track(s_bulk)"
      ],
      "metadata": {
        "id": "13NWp0OnJZhn"
      },
      "execution_count": null,
      "outputs": []
    },
    {
      "cell_type": "markdown",
      "source": [
        "　イネの染色体は12本あります。表示したデータは、イネ6番染色体の一部領域のみ（chr6:1-15,000,000）です。この領域のアライメント結果だけでも多量のSNPがあり、情報量も多く、目視で原因遺伝子の場所（QTL）を探すのは大変です。\n",
        "\n",
        "　次回、SNP情報をより理解しやすい形に変換し、QTL探索をおこないましょう。"
      ],
      "metadata": {
        "id": "OtbhrjqCtwYi"
      }
    },
    {
      "cell_type": "markdown",
      "source": [
        "# 4. シーケンシングの種類と特徴\n",
        "\n",
        "　ここまでIGVと呼ばれるソフトウェアを利用して、リードのアライメント結果を見てきました。\n",
        "\n",
        "　ここでは、次の4つのタイプのシーケンシング方法から得られたリードのアライメント結果を見てみましょう。\n",
        "- 全ゲノムシーケンシング（Whole genome sequencing: WGS）\n",
        "- RNAシーケンシング（RNA sequencing: RNA-seq）\n",
        "- RADシーケンシング（RAD sequencing: RAD-seq）\n",
        "- ロングリードシーケンシング（Long-read sequencing）\n"
      ],
      "metadata": {
        "id": "4qaUMIsfZ5k_"
      }
    },
    {
      "cell_type": "code",
      "source": [
        "## 準備: ライブラリなど\n",
        "import igv_notebook\n",
        "from igv_prep import RefTrack, AnnotationTrack, BamTrack\n",
        "igv_notebook.init()\n",
        "igv_notebook.init()\n",
        "base = \"/content/ngs/\"\n",
        "bam_common_info = { \"showCoverage\":False, \"displayMode\":\"SQUISHED\", \"viewAsPairs\":True, \"height\":100 }\n",
        "\n",
        "## 準備: Reference info\n",
        "ref = RefTrack({ \"fastaPath\":base+\"Ref.genome.fa\", \"indexPath\":base+\"Ref.genome.fa.fai\", \"id\":\"Reference\" }, locus=\"chr01:30,000-40,000\")\n",
        "genes = AnnotationTrack({ \"name\":\"Genes\", \"path\":base+\"Ref.transcript.gff\", \"format\":\"gff\", \"displayMode\":\"SQUISHED\" })\n",
        "restsite= AnnotationTrack({ \"name\":\"Restriction site\", \"path\":base+\"Ref.radseq_enzymes.bed\", \"format\":\"bed\", \"color\":\"#ff7f0e\"})\n",
        "## 準備: Reads info\n",
        "Info = [BamTrack({ **{\"name\":\"WGS\", \"path\":base+\"wgs.bam\", \"indexPath\":base+\"wgs.bam.bai\"}, **bam_common_info }),\n",
        "        BamTrack({ **{\"name\":\"RNA-seq\", \"path\":base+\"rnaseq.bam\", \"indexPath\":base+\"rnaseq.bam.bai\"}, **bam_common_info }),\n",
        "        BamTrack({ **{\"name\":\"RAD-seq\", \"path\":base+\"radseq.bam\", \"indexPath\":base+\"radseq.bam.bai\"}, **bam_common_info }),\n",
        "        BamTrack({ **{\"name\":\"Long-read\", \"path\":base+\"pacbio.bam\", \"indexPath\":base+\"pacbio.bam.bai\"}, **bam_common_info }) ]\n",
        "## IGV表示\n",
        "b = igv_notebook.Browser(ref)\n",
        "for i in Info: b.load_track(i)\n",
        "b.load_track(genes)\n",
        "b.load_track(restsite)"
      ],
      "metadata": {
        "id": "wvotv_2HaE4d"
      },
      "execution_count": null,
      "outputs": []
    },
    {
      "cell_type": "markdown",
      "source": [
        "　それぞれのシーケンシング対象と得られるSNP、特徴をまとめると次のとおりです。\n",
        "\n",
        "| 種類 | シーケンシング対象領域 / SNP探索領域 | 特徴 |\n",
        "|:---|:---|:---|\n",
        "| Whole genome sequencing | ゲノム全配列 　| 解析には多くのリードを必要とする。 |\n",
        "| RNA sequencing | 発現遺伝子（mRNA）配列<br>（イントロンは含まない）　| 得られるリード量は遺伝子発現量に依存する。<br>必要なリード量もWGSに比べて少なく済む。 |\n",
        "| RAD sequencing | 任意の制限酵素切断部位近くの配列　| 少ないリード量で解析をおこなえる。<br>類似シーケンシング手法: GBS, GRAS-Di, MIG-seq |\n",
        "| Long-reads sequencing | ゲノム全配列　| 長いリードを得られる一方で、シーケンシングエラーを多く含む。<sup>※4</sup><br>ロングリード単独解析をおこなうには多くのリードが必要である。<br><br><small>※4 「HiFiリード」と呼ばれるエラーが少ないロングリードもある。</small> |\n"
      ],
      "metadata": {
        "id": "51FnucLqlVCR"
      }
    },
    {
      "cell_type": "markdown",
      "source": [
        "# まとめ\n",
        "\n",
        "　今回、QTL-seqのリードアライメントとSNP検出、バルクシーケンシングについて勉強しました。また、シーケンシングの種類とその特徴についても勉強しました。\n",
        "- リードアライメント\n",
        "  - 似た配列の場所を参照配列から探し、参照配列にリードを並べる\n",
        "- SNP検出\n",
        "  - 参照配列とリード配列を比較し、信頼性のある塩基の違いSNPを探す\n",
        "- バルクシーケンシング\n",
        "  - 複数個体のDNAをプーリングし、そのバルクDNAをシーケンシングする\n",
        "  - QTL-seqでは、形質ごとにDNAをプーリングし、シーケンシングする\n",
        "- シーケンシングの種類と特徴\n",
        "  - 全ゲノムシーケンシング: ゲノム全配列が対象。解析には多くのリードを必要とする\n",
        "  - RNAシーケンシング: 発現遺伝子（mRNA）配列が対象。遺伝子発現量の影響を受ける\n",
        "  - RADシーケンシング: 制限酵素切断部位近くの配列が対象。低コスト\n",
        "  - ロングリードシーケンシング: ゲノム全配列。リードは長いがエラーを多く含む\n",
        "  "
      ],
      "metadata": {
        "id": "6pA5YuV1Z6m1"
      }
    },
    {
      "cell_type": "markdown",
      "source": [
        "\n",
        "<div align=\"right\"><a href=\"https://github.com/CropEvol/lecture#section2\">実習表ページに戻る</a></div>"
      ],
      "metadata": {
        "id": "e7If5WFUaAWa"
      }
    }
  ]
}