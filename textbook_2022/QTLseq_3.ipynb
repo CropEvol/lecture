{
  "nbformat": 4,
  "nbformat_minor": 0,
  "metadata": {
    "colab": {
      "provenance": [],
      "collapsed_sections": [
        "P468rRbWm7Z8",
        "vPyIC7gro3Wr",
        "q5dhelFisSqo",
        "3shoqF8iyYP0",
        "VJjCGCR_NG-E"
      ],
      "toc_visible": true
    },
    "kernelspec": {
      "name": "python3",
      "display_name": "Python 3"
    },
    "language_info": {
      "name": "python"
    }
  },
  "cells": [
    {
      "cell_type": "markdown",
      "source": [
        "<img src=\"https://github.com/CropEvol/lecture/blob/master/textbook_2022/images/logo.png?raw=true\" alt=\"2022年度ゲノム情報解析入門\" height=\"100px\" align=\"middle\">\n",
        "\n",
        "<div align=\"right\"><a href=\"https://github.com/CropEvol/lecture#section2\">実習表ページに戻る</a></div>"
      ],
      "metadata": {
        "id": "xrEcu23sU8EV"
      }
    },
    {
      "cell_type": "markdown",
      "source": [
        "QTL-seq入門 (3): SNP-indexの算出、グラフ描画\n",
        "---"
      ],
      "metadata": {
        "id": "l4GqxbsKdtM-"
      }
    },
    {
      "cell_type": "markdown",
      "source": [
        "　前回・前々回に続き、次世代シーケンサーを使った遺伝子マッピング手法のひとつ、QTL-seqを勉強・体験していきます。\n",
        "\n",
        "QTL-seq入門シリーズ: \n",
        "- [QTL-seq入門 (1): 参照配列（リファレンス配列）の準備](https://colab.research.google.com/github/CropEvol/lecture/blob/master/textbook_2022/QTLseq_1.ipynb)\n",
        "- [QTL-seq入門 (2): リードアライメント、SNP検出](https://colab.research.google.com/github/CropEvol/lecture/blob/master/textbook_2022/QTLseq_2.ipynb)\n",
        "- QTL-seq入門 (3): SNP-indexの算出、グラフ描画 ←今回\n",
        "\n",
        "\n",
        "<img src=\"https://github.com/CropEvol/lecture/blob/master/textbook_2022/images/qtlseq_workflow.png?raw=true\" alt=\"QTL-seq workflow\" height=\"180px\" align=\"middle\">"
      ],
      "metadata": {
        "id": "estCp8V2YvX3"
      }
    },
    {
      "cell_type": "code",
      "source": [
        "#########################\n",
        "##  実習の前に実行してください。 ##\n",
        "#########################\n",
        "## Colab上にデータファイルのダウンロードする\n",
        "!wget -q -O rice_qtlseq_dataset.csv https://github.com/CropEvol/lecture/raw/master/textbook_2022/datasets/rice_qtlseq_dataset.csv\n",
        "!ls | grep \"rice\""
      ],
      "metadata": {
        "id": "5JVjYX-RB0cz"
      },
      "execution_count": null,
      "outputs": []
    },
    {
      "cell_type": "markdown",
      "source": [
        "# 今回の勉強内容\n",
        "\n",
        "0. 前回の復習\n",
        "1. アライメント結果からSNPデータセットを作る\n",
        "1. SNPデータセットの扱い方\n",
        "  1. データセットを読み込む\n",
        "  1. 列データを取り出す\n",
        "  1. 列データで計算をする\n",
        "  1. 任意の染色体のデータ行を取り出す\n",
        "1. グラフ描画\n",
        "  1. グラフ描画の基礎\n",
        "  1. 散布図を描く\n",
        "  1. Slinding window解析\n",
        "  1. 原因遺伝子の位置を探す\n"
      ],
      "metadata": {
        "id": "iMenqmOheCQ5"
      }
    },
    {
      "cell_type": "markdown",
      "source": [
        "# 0. 前回の復習\n",
        "\n",
        "　前回、イネのQTL-seqのリードアライメント結果をみました。"
      ],
      "metadata": {
        "id": "APPCst_0LM9d"
      }
    },
    {
      "cell_type": "markdown",
      "source": [
        "イネのQTL-seqの概要: \n",
        "- いもち病への抵抗性品種と罹病性品種の交配分離集団\n",
        "- バルクシーケンシング:\n",
        "  - 抵抗性個体のバルク\n",
        "  - 罹病性個体のバルク\n",
        "- 参照配列: 罹病性品種のゲノム配列\n",
        "- リードアライメント結果: [IGV-Web 版](https://igv.org/app/?sessionURL=blob:zZJLb8IwDID_i89dHwy2tTck2GmgaQ9pEpoqt3VpRNq0TgqbEP99HrAT7MakSckljv3ZX7KFNbFVpoEEBn507Y_AA1uZzTPWraY51mQhKVFb8oCpJKYmJ0i2UKJ1.Pr0IImVc61NgoBx4y.Vq_qst8S5aRw1zs9NHXQdtTd3oyKw.7JpgQ4tuaBG1QSdk.pdwCqnNK_4Jo3SaDTL_BKlF9UU9PHHGFkKdh5ok_cyLXxHk.gqCr1wEEsPbBQki3cPHGO.khuLLbjPVjSAVOz3RjwwXBBDchWH4W0Ux4PR8HYYxnG087bQs77YAM9p1uuVf7jhZ1gLu5F3EsC50MUFnkBkKwHJ9GpNxXzfiuNePkxpuEYn5EMrR2eo1bKpBSlHqDVpumfqXiom.Xi6gCT0B1JO2Vbj58wU3znTt8fxfDKdSMpa0WZsH1Gx_eEc1Q8vrfrpd9XnQhdXfQL5R6rfd18-) <small>※ Firefoxではエラーが出て見れません</small>\n",
        "  \n",
        "\n",
        "<img src=\"https://github.com/CropEvol/lecture/blob/master/textbook_2022/images/qtlseq_takagi_etal_2013_L06.png?raw=true\" alt=\"Rice QTL-seq example (Takagi et al., 2013)\" height=\"250px\" align=\"middle\">\n"
      ],
      "metadata": {
        "id": "NxrURWPgZ1mL"
      }
    },
    {
      "cell_type": "markdown",
      "source": [
        "　今回、リードアライメント上で見つけることができるSNP情報のデータセットをPythonで扱い、抵抗性-罹病性の違いを作っている原因遺伝子のマッピングをしていきます。\n",
        "\n",
        "<img src=\"https://github.com/CropEvol/lecture/blob/master/textbook_2022/images/qtlseq_data_analysis.png?raw=true\" alt=\"qtlseq_data_analysis\" height=\"180px\" align=\"middle\">\n"
      ],
      "metadata": {
        "id": "q2qAUUYXDcOh"
      }
    },
    {
      "cell_type": "markdown",
      "source": [
        "# 1. アライメント結果からSNPデータセットを作る\n",
        "\n",
        "　ゲノム上のSNP情報を、Pythonなどで扱うには、Pythonで読み込みやすい形式に変換する必要があります。どのようにするか？ 詳細は省きますが、各種ソフトウェア（[bcftools](https://samtools.github.io/bcftools/bcftools.html)など）で変換できます。\n",
        "\n",
        "　ここでは、ソフトウェアを使って、「リードアライメントからSNP情報のみを抜き出したデータセットを作れる」ことを理解してもらえればOKです。\n",
        "\n",
        "<img src=\"https://github.com/CropEvol/lecture/blob/master/textbook_2022/images/alignment_to_dataset.png?raw=true\" alt=\"alignment to SNP dataset\" height=\"160px\" align=\"middle\">"
      ],
      "metadata": {
        "id": "nqYO0INPKZMe"
      }
    },
    {
      "cell_type": "markdown",
      "source": [
        "# 2. SNPデータセットの扱い方\n",
        "\n",
        "　ここからは、用意したSNPデータセットをどのようにPythonで扱うかを勉強していきましょう。\n",
        "\n",
        "\n",
        "- イネQTL-seq SNPデータセット [rice_qtlseq_dataset.csv](https://raw.githubusercontent.com/CropEvol/lecture/master/textbook_2022/datasets/rice_qtlseq_dataset.csv)"
      ],
      "metadata": {
        "id": "WVS2-2C7fkGt"
      }
    },
    {
      "cell_type": "markdown",
      "source": [
        "## 2-1. データセットを読み込む\n",
        "\n",
        "　SNPデータセットは、1行あたり8個のデータがカンマ記号(`,`)で区切られた、テーブル状の構造をしています。カンマ区切りのテーブル状データセットは、pandasと呼ばれるライブラリ（Pythonの追加機能のようなツール）の`read_csv`で読み込むことができ、その後、データ処理をおこなえるようになります。\n",
        "\n",
        "```python\n",
        "# データセットを読み込む\n",
        "import pandas as pd\n",
        "データフレーム変数 = pd.read_csv(\"ファイル名\")\n",
        "```"
      ],
      "metadata": {
        "id": "yFiBpP76whA1"
      }
    },
    {
      "cell_type": "code",
      "source": [
        "import pandas as pd\n",
        "df = pd.read_csv(\"rice_qtlseq_dataset.csv\")\n",
        "df"
      ],
      "metadata": {
        "id": "CjDuEPGmfV23"
      },
      "execution_count": null,
      "outputs": []
    },
    {
      "cell_type": "markdown",
      "source": [
        "　読み込んだデータセットの見方は下図のとおりです。\n",
        "\n",
        "<img src=\"https://github.com/CropEvol/lecture/blob/master/textbook_2022/images/pandas_dataframe.png?raw=true\" alt=\"pandas_dataframe\" height=\"320px\" align=\"middle\">"
      ],
      "metadata": {
        "id": "DB00TtbctM-H"
      }
    },
    {
      "cell_type": "markdown",
      "source": [
        "## 2-2. 列データを取り出す\n",
        "\n",
        "　まず最初に、1列分のデータの取り出し方を学びましょう。\n",
        "\n",
        "<img src=\"https://github.com/CropEvol/lecture/blob/master/textbook_2022/images/extract_one_column.png?raw=true\" alt=\"extract_one_column\" height=\"120px\" align=\"middle\">\n",
        "\n",
        "```python\n",
        "# 列データを取り出す\n",
        "データフレーム変数[\"列名\"]\n",
        "　　　　または\n",
        "データフレーム変数.列名\n",
        "```"
      ],
      "metadata": {
        "id": "eLvpTet3wjZt"
      }
    },
    {
      "cell_type": "code",
      "source": [
        "df[\"Bulk1_REF\"]"
      ],
      "metadata": {
        "id": "AK3a8UYGwqMs"
      },
      "execution_count": null,
      "outputs": []
    },
    {
      "cell_type": "markdown",
      "source": [
        "### 練習2-2\n",
        "　`Bulk1_ALT`の列を取り出してください。"
      ],
      "metadata": {
        "id": "g5L0J_bhmtpv"
      }
    },
    {
      "cell_type": "code",
      "source": [
        "## 練習2-2: 「Bulk1_ALT」列を取り出す\n"
      ],
      "metadata": {
        "id": "LzIBq6Pbo7PN"
      },
      "execution_count": null,
      "outputs": []
    },
    {
      "cell_type": "markdown",
      "source": [
        "#### 解答例"
      ],
      "metadata": {
        "id": "P468rRbWm7Z8"
      }
    },
    {
      "cell_type": "code",
      "source": [
        "df[\"Bulk1_ALT\"]\n",
        "df.Bulk1_ALT"
      ],
      "metadata": {
        "id": "8tS9BRb7m7Go"
      },
      "execution_count": null,
      "outputs": []
    },
    {
      "cell_type": "markdown",
      "source": [
        "## 2-3. 列データで計算する\n",
        "\n",
        "　次に、列データを使って、SNP-indexの算出をおこないましょう。列データと列データの要素同士の計算は、次のようなコードで簡単におこなえます。\n",
        "\n",
        "```python\n",
        "# 列データ同士を計算する（足し算の場合）\n",
        "列Aのデータ + 列Bのデータ\n",
        "# 新しいデータとして追加する\n",
        "データフレーム変数[\"新しい列名\"] = 列Aのデータ + 列Bのデータ\n",
        "```\n",
        "\n",
        "<img src=\"https://github.com/CropEvol/lecture/blob/master/textbook_2022/images/pandas_calc_columns.png?raw=true\" alt=\"pandas_calc_columns\" height=\"200px\" align=\"middle\">"
      ],
      "metadata": {
        "id": "JwjEch2ewnqi"
      }
    },
    {
      "cell_type": "markdown",
      "source": [
        "　ここでは、Bulk1のSNP-indexを計算してみましょう。\n",
        "\n",
        "<img src=\"https://github.com/CropEvol/lecture/blob/master/textbook_2022/images/calculate_snp_index_of_bulk1.png?raw=true\" alt=\"calculate_snp_index\" height=\"60px\" align=\"middle\">"
      ],
      "metadata": {
        "id": "RX01lUxUoWSW"
      }
    },
    {
      "cell_type": "code",
      "source": [
        "df[\"Bulk1_SNPindex\"] = df[\"Bulk1_ALT\"]/(df[\"Bulk1_REF\"] + df[\"Bulk1_ALT\"])\n",
        "df"
      ],
      "metadata": {
        "id": "hQf7cjVNwq0i"
      },
      "execution_count": null,
      "outputs": []
    },
    {
      "cell_type": "markdown",
      "source": [
        "### 練習2-3\n",
        "　Bulk2のSNP-indexも算出して、データフレーム`df`の新しい列`Bulk2_SNPindex`に追加してください。\n",
        "\n",
        "<img src=\"https://github.com/CropEvol/lecture/blob/master/textbook_2022/images/calculate_snp_index_of_bulk2.png?raw=true\" alt=\"calculate_snp_index\" height=\"60px\" align=\"middle\">"
      ],
      "metadata": {
        "id": "o3GD_0I6ombc"
      }
    },
    {
      "cell_type": "code",
      "source": [
        "## 練習2-3: Bulk2のSNPindexを計算し、dfに「Bulk2_SNPindex」列を追加する\n",
        "df[\"Bulk2_SNPindex\"] = \n",
        "df"
      ],
      "metadata": {
        "id": "8j7l8eJYo47u"
      },
      "execution_count": null,
      "outputs": []
    },
    {
      "cell_type": "markdown",
      "source": [
        "#### 解答例"
      ],
      "metadata": {
        "id": "vPyIC7gro3Wr"
      }
    },
    {
      "cell_type": "code",
      "source": [
        "df[\"Bulk2_SNPindex\"] = df[\"Bulk2_ALT\"]/(df[\"Bulk2_REF\"] + df[\"Bulk2_ALT\"])\n",
        "df"
      ],
      "metadata": {
        "id": "ThKvy-gRy40Q"
      },
      "execution_count": null,
      "outputs": []
    },
    {
      "cell_type": "markdown",
      "source": [
        "## 2-4. 任意の染色体のデータ行を取り出す\n",
        "\n",
        "　「2-3. 列データで計算する」で、各バルクについて、ゲノム全域のSNP-indexを算出しました。\n",
        "\n",
        "　このあと、任意の染色体（例えば、`chr01`）のSNP-indexのグラフを描くために、任意の染色体の情報のみを取り出す方法を学びましょう。\n",
        "\n",
        "```python\n",
        "# 条件に合ったデータ行を取り出す\n",
        "データフレーム変数[条件]\n",
        "# 例: データフレーム「df」から、列「CHROM」が\"chr01\"の行を取り出す\n",
        "df[df[\"CHROM\"]==\"chr01\"]\n",
        "```\n",
        "\n",
        "<img src=\"https://github.com/CropEvol/lecture/blob/master/textbook_2022/images/pandas_filtering_data.png?raw=true\" alt=\"pandas_filtering_data\" height=\"200px\" align=\"middle\">"
      ],
      "metadata": {
        "id": "HA2EIYr_J1_r"
      }
    },
    {
      "cell_type": "code",
      "source": [
        "sub = df[df[\"CHROM\"]==\"chr01\"]\n",
        "sub"
      ],
      "metadata": {
        "id": "dZkWW92yzHux"
      },
      "execution_count": null,
      "outputs": []
    },
    {
      "cell_type": "markdown",
      "source": [
        "### 練習2-4\n",
        "　データフレーム「df」から、「CHROM」列がchr12のデータを取り出してください。"
      ],
      "metadata": {
        "id": "osthNNO-sL9w"
      }
    },
    {
      "cell_type": "code",
      "source": [
        "## 練習2-4: dfから「CHROM」列がchr12のデータのみを取り出す\n",
        "sub12 = \n",
        "sub12"
      ],
      "metadata": {
        "id": "qM6pR1b9sXsy"
      },
      "execution_count": null,
      "outputs": []
    },
    {
      "cell_type": "markdown",
      "source": [
        "#### 解答例"
      ],
      "metadata": {
        "id": "q5dhelFisSqo"
      }
    },
    {
      "cell_type": "code",
      "source": [
        "sub12 = df[df[\"CHROM\"]==\"chr12\"]\n",
        "sub12"
      ],
      "metadata": {
        "id": "PY8ZyXaIsTX7"
      },
      "execution_count": null,
      "outputs": []
    },
    {
      "cell_type": "markdown",
      "source": [
        "# 3. グラフ描画\n",
        "\n",
        "　次に、グラフ描画の方法を学び、SNP-indexをグラフにしていきましょう。"
      ],
      "metadata": {
        "id": "KCMIko3Fw058"
      }
    },
    {
      "cell_type": "markdown",
      "source": [
        "## 3-1. グラフ描画の基礎\n",
        "\n",
        "　Pythonでのグラフ描画の基礎は次のとおりです。\n",
        "> グラフのパーツが描かれた透明な層（レイヤー）を複数枚かさねて、ひとつのグラフを描く\n",
        "\n",
        "<img src=\"https://github.com/CropEvol/lecture/blob/master/textbook_2022/images/drawing_plot_basis.png?raw=true\" alt=\"drawing_plot_basis\" height=\"180px\" align=\"middle\">\n"
      ],
      "metadata": {
        "id": "_CyEJk-FxASk"
      }
    },
    {
      "cell_type": "markdown",
      "source": [
        "## 3-2. 散布図を描く\n",
        "\n",
        "　`pandas`とは別のライブラリ`matplotlib`（グラフ描画用ライブラリ）を使うと、様々なグラフを描けます。今回は、SNP-indexの散布図を描いてみましょう。\n",
        "\n",
        "```python\n",
        "x = x座標データ\n",
        "y = y座標データ\n",
        "\n",
        "# 散布図\n",
        "import matplotlib.pyplot as plt\n",
        "plt.scatter(x, y, オプション（任意）)\n",
        "```\n",
        "\n",
        "　ここでの例として、データフレーム`sub`の情報（ひとつの染色体の情報）を使って、Bulk1のSNP-indexの散布図を描きます。\n",
        "\n",
        "- x軸座標データ: `POS`列\n",
        "- y軸座標データ: `Bulk1_SNPindex`列"
      ],
      "metadata": {
        "id": "FiKFo1AhxBrN"
      }
    },
    {
      "cell_type": "code",
      "source": [
        "## x軸、y軸データ\n",
        "x  = sub[\"POS\"]\n",
        "y1 = sub[\"Bulk1_SNPindex\"]\n",
        "\n",
        "import matplotlib.pyplot as plt\n",
        "plt.figure(figsize=[12, 4])  # グラフフィールド（サイズ指定）\n",
        "plt.scatter(x, y1)          # 散布図\n",
        "plt.xlabel(\"Position (x 10 Mbp)\") # x軸ラベル\n",
        "plt.ylabel(\"SNP index of Bulk1\")  # y軸ラベル\n",
        "plt.show()                 # 表示"
      ],
      "metadata": {
        "id": "vHEhTlc7xE7j"
      },
      "execution_count": null,
      "outputs": []
    },
    {
      "cell_type": "markdown",
      "source": [
        "### 練習3-2\n",
        "\n",
        "　10行目にコードを追記して、Bulk2のSNP-indexの散布図を描いてください。"
      ],
      "metadata": {
        "id": "CYhDL7Taw3uh"
      }
    },
    {
      "cell_type": "code",
      "source": [
        "## 練習3-2: Bulk2のSNP-indexの散布図を描く\n",
        "## x軸、y軸データ\n",
        "x  = sub[\"POS\"]\n",
        "y2 = sub[\"Bulk2_SNPindex\"]\n",
        "\n",
        "import matplotlib.pyplot as plt\n",
        "plt.figure(figsize=[12, 4])  # グラフフィールド（サイズ指定）\n",
        "## ------- 編集箇所1 ------------\n",
        "# 散布図\n",
        "plt.scatter()\n",
        "## ---------------------------------\n",
        "plt.xlabel(\"Position (x 10 Mbp)\") # x軸ラベル\n",
        "plt.ylabel(\"SNP index of Bulk2\")  # y軸ラベル\n",
        "plt.show()                # 表示"
      ],
      "metadata": {
        "id": "cgKBj2Mh1GPF"
      },
      "execution_count": null,
      "outputs": []
    },
    {
      "cell_type": "markdown",
      "source": [
        "#### 解答例"
      ],
      "metadata": {
        "id": "3shoqF8iyYP0"
      }
    },
    {
      "cell_type": "code",
      "source": [
        "## 練習3-2: Bulk2のSNP-indexの散布図を描く\n",
        "## x軸、y軸データ\n",
        "x  = sub[\"POS\"]\n",
        "y2 = sub[\"Bulk2_SNPindex\"]\n",
        "\n",
        "import matplotlib.pyplot as plt\n",
        "plt.figure(figsize=[12, 4])  # グラフフィールド（サイズ指定）\n",
        "## ------- 編集箇所1 ------------\n",
        "# 散布図\n",
        "plt.scatter(x, y2)\n",
        "## ---------------------------------\n",
        "plt.xlabel(\"Position (x 10 Mbp)\") # x軸ラベル\n",
        "plt.ylabel(\"SNP index in Bulk2\")  # y軸ラベル\n",
        "plt.show()                # 表示"
      ],
      "metadata": {
        "id": "GdZBO4TsyZo0"
      },
      "execution_count": null,
      "outputs": []
    },
    {
      "cell_type": "markdown",
      "source": [
        "## 3-3. Slinding window解析\n",
        "\n",
        "　散布図だけでは、原因遺伝子がありそうな場所を判断するのは難しそうです。\n",
        "\n",
        "　バルクシーケンシングで得られるデータ（SNPアリルの個数、また、そこから求められるSNP-index）は、ある程度ランダム性を持っています。ALT塩基を50%で得られることが期待できる場所（SNP-indexが0.5になる場所）では、その期待値周辺のSNP-indexが得られますが、ときには大きく外れたSNP-indexが得られることもあります。\n",
        "\n",
        "<small>※ コイントスを例にすると、「裏面が出る確率50%のコインを10枚投げて、裏面が出た枚数を調べる」という何度も繰り返すと、裏が5枚出る試行が多く観察されますが、10枚とも裏が出たり、裏が0枚の試行も生じることがあります。SNP-indexも同じように、多くのSNPを得ると、期待値付近のSNP-indexが多く得られますが、大きく外れたSNP-indexも得られることがあります。</small>\n"
      ],
      "metadata": {
        "id": "bVqTdYBqxDMC"
      }
    },
    {
      "cell_type": "markdown",
      "source": [
        "　期待SNP-indexは、周辺のSNP座の平均SNP-indexで近似できます。任意の区間を設定し、その区間の平均SNP-indexを調べるといった作業を、ゲノム全域にわたっておこなうと、平均SNP-indexが高い場所や低い場所を見つけることができます。\n",
        "\n",
        "　ゲノム全域にわたってSNP-indexの平均値の推移（**移動平均**）を調べる解析法のことを**Slinding window解析**と言います。\n",
        "\n",
        "<img src=\"https://github.com/CropEvol/lecture/blob/master/textbook_2022/images/sliding_window_overview.png?raw=true\" alt=\"sliding_window_overview\" height=\"350px\" align=\"middle\">\n",
        "\n",
        "　移動平均は、列データに対して`rolling`という関数を使うと、簡単に得られます。\n",
        "\n",
        "```python\n",
        "# 任意SNP数区間の移動平均を求める\n",
        "列データ.rolling(データ数).mean()\n",
        "```"
      ],
      "metadata": {
        "id": "Yw3Idjh370Re"
      }
    },
    {
      "cell_type": "markdown",
      "source": [
        "　また、移動平均の折れ線グラフはplot関数を使うことで描けます。\n",
        "```python\n",
        "# 移動平均の折れ線グラフを追加する\n",
        "import matplotlib.pyplot as plt\n",
        "plt.scatter(x, y, オプション（任意）)   # x=x座標データ, y=y座標データ\n",
        "plt.plot(win_x, win_y, オプション（任意）) # win_x=x座標データの移動平均, win_y=y座標データの移動平均\n",
        "```"
      ],
      "metadata": {
        "id": "l8pEQbQai5e5"
      }
    },
    {
      "cell_type": "code",
      "source": [
        "## Bulk1_SNPindexの移動平均\n",
        "win_x  = sub[\"POS\"].rolling(20).mean()             #POS列（SNP 20個分）の移動平均\n",
        "win_y1 = sub[\"Bulk1_SNPindex\"].rolling(20).mean()  #Bulk1_SNPindex列（SNP 20個分）の移動平均\n",
        "\n",
        "## 移動平均をグラフ化する\n",
        "import matplotlib.pyplot as plt\n",
        "plt.figure(figsize=[12, 3])               #　グラフフィールド（サイズ指定）\n",
        "plt.scatter(x, y1)                       # 散布図\n",
        "plt.plot(win_x, win_y1, color=\"orange\") # 移動平均の線グラフ\n",
        "plt.xlabel(\"Position (x 10 Mbp)\")         # x軸ラベル\n",
        "plt.ylabel(\"SNP index of Bulk1\")         # y軸ラベル\n",
        "plt.show()                               # 表示"
      ],
      "metadata": {
        "id": "8U0kvUZYxFM0"
      },
      "execution_count": null,
      "outputs": []
    },
    {
      "cell_type": "code",
      "source": [
        "## Bulk2_SNPindexの移動平均\n",
        "win_x  = sub[\"POS\"].rolling(20).mean()             #POS列（SNP 20個分）の移動平均\n",
        "win_y1 = sub[\"Bulk2_SNPindex\"].rolling(20).mean()  #Bulk2_SNPindex列（SNP 20個分）の移動平均\n",
        "\n",
        "## 移動平均をグラフ化する\n",
        "import matplotlib.pyplot as plt\n",
        "plt.figure(figsize=[12, 3])               #　グラフフィールド（サイズ指定）\n",
        "plt.scatter(x, y1)                       # 散布図\n",
        "plt.plot(win_x, win_y2, color=\"orange\") # 移動平均の線グラフ\n",
        "plt.xlabel(\"Position (x 10 Mbp)\")         # x軸ラベル\n",
        "plt.ylabel(\"SNP index of Bulk1\")         # y軸ラベル\n",
        "plt.show()                               # 表示"
      ],
      "metadata": {
        "id": "_13uVq7W1iyE"
      },
      "execution_count": null,
      "outputs": []
    },
    {
      "cell_type": "markdown",
      "source": [
        "## 3-4. 原因遺伝子の位置を探す\n",
        "\n",
        "　イネには第1〜12染色体があります。次の二つのコードセルのプログラムを実行すると、任意の（二つ目のコードセルの`chrom`で指定した）染色体のSNP-indexをグラフ描画できます。それぞれの染色体のSNP-indexグラフを調べて、原因遺伝子がありそうな場所を探してください。\n",
        "\n",
        "なお、ここで解析しているイネQTL-seqの参照配列とバルク、SNP-indexの算出は以下のとおりであることを思い出してください。\n",
        "- 参照配列: 罹病性イネ品種のゲノム配列\n",
        "- 分離集団のバルク構成:\n",
        "  - Bulk1: 抵抗性個体を集めたグループ\n",
        "  - Bulk2: 罹病性個体を集めたグループ\n",
        "- SNP-index: 抵抗性品種由来のSNPアリルの割合\n"
      ],
      "metadata": {
        "id": "o4mDNRhznB7K"
      }
    },
    {
      "cell_type": "code",
      "source": [
        "## グラフ描画用の関数\n",
        "import matplotlib.pyplot as plt\n",
        "import matplotlib as mpl\n",
        "import seaborn as sns\n",
        "mpl.style.use('seaborn-darkgrid')\n",
        "def draw_QTLseq(data, window_size=20, fs=20, lw=4, a=0.3):\n",
        "    ## グラフ用データ\n",
        "    x = data[\"pos\"]/1000000  # x座標データ: POS (x Mbp)\n",
        "    y1= data[\"bulk1\"]  # サブグラフ1のy座標データ: Bulk1 SNP-index\n",
        "    y2= data[\"bulk2\"]  # サブグラフ2のy座標データ: Bulk2 SNP-index\n",
        "    y3= data[\"delta\"]  # サブグラフ3のy座標データ: delta SNP-index\n",
        "    win_x = x.rolling(window_size).mean()   # POS移動平均\n",
        "    win_y1= y1.rolling(window_size).mean() # Bulk1 SNP-index移動平均\n",
        "    win_y2= y2.rolling(window_size).mean() # Bulk2 SNP-index移動平均\n",
        "    win_y3= y3.rolling(window_size).mean() # delta SNP-index移動平均\n",
        "\n",
        "    ## グラフ設定\n",
        "    fig = plt.figure(figsize=[12, 8])\n",
        "    ax1 = fig.add_subplot(3,1,1) # サブグラフ1\n",
        "    ax2 = fig.add_subplot(3,1,2) # サブグラフ2\n",
        "    ax3 = fig.add_subplot(3,1,3) # サブグラフ3\n",
        "    ## サブグラフ1（Bulk1のグラフ）\n",
        "    ax1.scatter(x, y1, c=\"#636EFA\", alpha=a)\n",
        "    ax1.plot(win_x, win_y1, c=\"#EF553B\", linewidth=lw)\n",
        "    ax1.set_ylabel(\"SNP-index\\nof Bulk1\", fontsize=fs)\n",
        "    ax1.tick_params(labelsize=fs)\n",
        "    ax1.set_ylim([-0.1, 1.1])\n",
        "    ## サブグラフ2（Bulk2のグラフ）\n",
        "    ax2.scatter(x, y2, c=\"#00CC96\", alpha=a)\n",
        "    ax2.plot(win_x, win_y2, c=\"#AB63FA\", linewidth=lw)\n",
        "    ax2.set_ylabel(\"SNP-index\\nof Bulk2\", fontsize=fs)\n",
        "    ax2.tick_params(labelsize = fs)\n",
        "    ax2.set_ylim([-0.1, 1.1])\n",
        "    ## サブグラフ3（delta-indexのグラフ）\n",
        "    ax3.scatter(x, y3, c=\"#FFA15A\", alpha=a)\n",
        "    ax3.plot(win_x, win_y3, c=\"#19D3F3\", linewidth=lw)\n",
        "    ax3.set_xlabel(\"Position (x Mbp)\", fontsize=fs)\n",
        "    ax3.set_ylabel(\"delta of\\nSNP-index\", fontsize=fs)\n",
        "    ax3.tick_params(labelsize = fs)\n",
        "    ax3.set_ylim([-1.1, 1.1])\n",
        "    plt.tight_layout()\n",
        "    plt.show()"
      ],
      "metadata": {
        "id": "FgeDGFuhMPyM"
      },
      "execution_count": null,
      "outputs": []
    },
    {
      "cell_type": "code",
      "source": [
        "## 表示する染色体番号（1〜12の数字を入力可能）\n",
        "chrom = 1\n",
        "\n",
        "## ---------------------------\n",
        "## データセット\n",
        "import pandas as pd\n",
        "df2  = pd.read_csv(\"rice_qtlseq_dataset.csv\", sep=\",\", header=0)\n",
        "sub2 = df[df[\"CHROM\"]==\"chr%02d\" % chrom]\n",
        "## SNP-index算出\n",
        "position     = sub2[\"POS\"]\n",
        "bulk1_index = sub2[\"Bulk1_ALT\"] / (sub2[\"Bulk1_REF\"] + sub2[\"Bulk1_ALT\"])\n",
        "bulk2_index = sub2[\"Bulk2_ALT\"] / (sub2[\"Bulk2_REF\"] + sub2[\"Bulk2_ALT\"])\n",
        "delta_index = bulk1_index - bulk2_index\n",
        "data = {\"pos\": position, \"bulk1\": bulk1_index, \"bulk2\": bulk2_index, \"delta\": delta_index}\n",
        "## グラフ描画\n",
        "draw_QTLseq(data)"
      ],
      "metadata": {
        "id": "va61ZQwaB6a5"
      },
      "execution_count": null,
      "outputs": []
    },
    {
      "cell_type": "markdown",
      "source": [
        "### 原因遺伝子座"
      ],
      "metadata": {
        "id": "XDk12VEAsvLs"
      }
    },
    {
      "cell_type": "markdown",
      "source": [
        "　第6染色体の3~5Mbのあたりに、バルク間で平均SNP-index（抵抗性アリルの割合）に大きな差がみられます。\n",
        "- 抵抗性バルク（Bulk1）で平均SNP-indexが高い\n",
        "- 罹病性バルク（Bulk2）で平均SNP-indexが低い\n",
        "- delta SNP-indexが高い\n",
        "\n",
        "　そのゲノム領域に抵抗性-罹病性を決定する遺伝子があると考えられます。"
      ],
      "metadata": {
        "id": "r4ItHw2wenR8"
      }
    },
    {
      "cell_type": "markdown",
      "source": [
        "---\n",
        "# まとめ\n",
        "\n",
        "　このテキストでは、Pythonを使って、SNP-indexの算出とグラフ描画をおこないました。\n",
        "\n",
        "- PythonでSNPデータセットを読み込む\n",
        "- SNPアリルの個数からSNP-indexを算出する\n",
        "- SNP-indexの散布図を描く\n",
        "- SNP-indexの移動平均の折れ線グラフを描く\n",
        "\n",
        "　また、これまでの三回のQTL-seq入門シリーズを通して、次世代シーケンス解析の基礎も勉強してきました。\n",
        "1. 参照配列の準備 → **ゲノムアセンブル**\n",
        "1. **リードアライメント**と**SNP検出**\n",
        "1. SNP-index算出とグラフ描画 → Pythonを使った**SNPデータ解析**\n",
        "\n",
        "　これまで学んできたことを、みなさんの今後の勉強にぜひ役立ててください。\n",
        "\n",
        "\n",
        "\n"
      ],
      "metadata": {
        "id": "6pA5YuV1Z6m1"
      }
    },
    {
      "cell_type": "markdown",
      "source": [
        "\n",
        "<div align=\"right\"><a href=\"https://github.com/CropEvol/lecture#section2\">実習表ページに戻る</a></div>"
      ],
      "metadata": {
        "id": "e7If5WFUaAWa"
      }
    }
  ]
}