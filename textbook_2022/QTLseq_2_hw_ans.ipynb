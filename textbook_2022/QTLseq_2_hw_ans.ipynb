{
  "nbformat": 4,
  "nbformat_minor": 0,
  "metadata": {
    "colab": {
      "provenance": [],
      "collapsed_sections": [
        "lb7WkCcRZF2l",
        "rWF1nLCHuhNP",
        "84f6HYc-uevP"
      ],
      "toc_visible": true
    },
    "kernelspec": {
      "name": "python3",
      "display_name": "Python 3"
    },
    "language_info": {
      "name": "python"
    }
  },
  "cells": [
    {
      "cell_type": "markdown",
      "source": [
        "<img src=\"https://github.com/CropEvol/lecture/blob/master/textbook_2022/images/logo.png?raw=true\" alt=\"2022年度ゲノム情報解析入門\" height=\"100px\" align=\"middle\">\n",
        "\n",
        "<div align=\"right\"><a href=\"https://github.com/CropEvol/lecture#section2\">実習表ページに戻る</a></div>"
      ],
      "metadata": {
        "id": "xrEcu23sU8EV"
      }
    },
    {
      "cell_type": "markdown",
      "source": [
        "[課題] QTL-seq入門 (2): リードアライメント、SNP検出\n",
        "---"
      ],
      "metadata": {
        "id": "l4GqxbsKdtM-"
      }
    },
    {
      "cell_type": "markdown",
      "source": [
        "　課題をはじめる前に、次のコードセルを一度実行してください。課題に必要なライブラリのインストールや、プログラム、サンプルファイルをダウンロードします。"
      ],
      "metadata": {
        "id": "estCp8V2YvX3"
      }
    },
    {
      "cell_type": "code",
      "source": [
        "#########################\n",
        "##  実習の前に実行してください。 ##\n",
        "#########################\n",
        "%%bash\n",
        "## ソフトウェアのインストール\n",
        "wget -q -O install.sh https://raw.githubusercontent.com/CropEvol/lecture/master/textbook_2022/scripts/install_for_alignment_hw.sh\n",
        "sh install.sh && rm -f install.sh\n",
        "pip install -q igv-notebook==0.3.1\n",
        "pip list | grep -e \"igv-notebook\"\n",
        "## サンプルファイルのダウンロード\n",
        "wget -q https://github.com/CropEvol/lecture/raw/master/textbook_2022/scripts/igv_prep.py -O igv_prep.py\n",
        "wget -q https://github.com/CropEvol/lecture/raw/master/textbook_2022/datasets/hw6.tar.gz -O - | tar -zxf - 2>/dev/null"
      ],
      "metadata": {
        "id": "5JVjYX-RB0cz"
      },
      "execution_count": null,
      "outputs": []
    },
    {
      "cell_type": "markdown",
      "source": [
        "# 課題1\n",
        "\n",
        "　すぐ下のプログラムを実行すると、品種Hのゲノム配列を参照配列にした品種Lのリードアライメント結果が表示されます。\n",
        "- 参照配列: 品種H（形質値: 「High」）\n",
        "- リード配列: 品種L（形質値: 「Low」）\n",
        "\n",
        "　品種Hと品種Lの間のSNPとみなせる箇所は何箇所あるでしょうか？"
      ],
      "metadata": {
        "id": "iMenqmOheCQ5"
      }
    },
    {
      "cell_type": "code",
      "source": [
        "## 課題1\n",
        "import igv_notebook\n",
        "from igv_prep import RefTrack, AnnotationTrack, BamTrack\n",
        "igv_notebook.init()\n",
        "ref = RefTrack({ \"fastaPath\":\"hw6/CultivarH.fa\", \"indexPath\":\"hw6/CultivarH.fa.fai\", \"id\":\"CultivarH\" })\n",
        "B = BamTrack({ \"name\":\"CultivarL\", \"path\":\"hw6/CultivarL.bam\", \"indexPath\":\"hw6/CultivarL.bam.bai\", \"viewAsPairs\":True })\n",
        "b = igv_notebook.Browser(ref)\n",
        "b.load_track(B)"
      ],
      "metadata": {
        "id": "3Yj1rBgR1y6Z"
      },
      "execution_count": null,
      "outputs": []
    },
    {
      "cell_type": "code",
      "source": [
        "#@title { vertical-output: true, display-mode: \"form\" }\n",
        "Answer = \"\" #@param {type:\"string\"}"
      ],
      "metadata": {
        "id": "XP_DKc3xF75Y"
      },
      "execution_count": null,
      "outputs": []
    },
    {
      "cell_type": "markdown",
      "source": [
        "### 解答例"
      ],
      "metadata": {
        "id": "lb7WkCcRZF2l"
      }
    },
    {
      "cell_type": "markdown",
      "source": [
        "13箇所\n",
        "\n",
        "<img src=\"https://github.com/CropEvol/lecture/blob/master/textbook_2022/images/L06_ans_1.png?raw=true\" alt=\"L06_ans_1\" height=\"200px\" align=\"middle\">"
      ],
      "metadata": {
        "id": "9JXeo1FdZI7g"
      }
    },
    {
      "cell_type": "markdown",
      "source": [
        "# 課題2\n",
        "\n",
        "　（課題1で比較した）品種Hと品種Lの交配し、F<small>2</small>世代の30個体集団を作りました。この集団には、「High」と「Medium」、「Low」の3つの形質値が見られました。\n",
        "\n",
        "　形質の原因変異を特定するために、全F<small>2</small>個体のうち、形質値「High」をもつ4個体と形質値「Low」をもつ4個体を使って、バルクシーケンシングをおこないました。\n",
        "- H-バルク: 形質値「High」をもつF<small>2</small>世代4個体のバルク\n",
        "- L-バルク: 形質値「Low」をもつF<small>2</small>世代4個体のバルク\n",
        "\n",
        "　形質の違いを生み出している原因変異はどのあたりにあるでしょうか？　次のプログラムを実行して、バルクシーケンシングのアライメント結果を調査し、回答してください。\n",
        "\n",
        "<small>※ ピンポイントな塩基の位置を答える必要はなく、原因変異がありそうな範囲（先頭から数えて1番〜10番塩基の範囲、など）を回答してもOKです。</small>"
      ],
      "metadata": {
        "id": "ifcK3Mp51zuu"
      }
    },
    {
      "cell_type": "code",
      "source": [
        "## 課題2\n",
        "import igv_notebook\n",
        "from igv_prep import RefTrack, AnnotationTrack, BamTrack\n",
        "import re\n",
        "def Pooling(Ns, bam_dir, samplingRate=-1, output=\"bulk.bam\", verbose=False, samtools_path=\"samtools\"):\n",
        "    f2_list = [bam_dir+\"/F2_{:03}.bam\".format(f) for f in sorted(list(set(Ns)))]\n",
        "    if samplingRate>=1.0:\n",
        "        samplingRate = 1.0\n",
        "    elif samplingRate<=0.0:\n",
        "        samplingRate = float(1.0 / len(bam_dir) * 5.0)\n",
        "    f2_str = \" \".join(f2_list)\n",
        "    !$samtools_path merge -o - $f2_str | samtools view -b -s $samplingRate > $output\n",
        "    !$samtools_path index $output\n",
        "    if verbose:\n",
        "      f2_samples = [re.search(r\".*/(.+?)$\", i).group(1) for i in f2_list]\n",
        "      print(\"Output: \", output)\n",
        "      print(\"- Reads sampled from: \"+\",\".join(f2_samples))\n",
        "      print(\"- Sampling rate: %.3f\" % samplingRate)\n",
        "H_bulk = [8, 9, 14, 22]\n",
        "L_bulk = [2, 4, 15, 16]\n",
        "samplingRate = 0.3\n",
        "Pooling(H_bulk, bam_dir=\"hw6\", output=\"H_bulk.bam\", samplingRate=samplingRate, verbose=True)\n",
        "Pooling(L_bulk, bam_dir=\"hw6\", output=\"L_bulk.bam\", samplingRate=samplingRate, verbose=True)\n",
        "ref = RefTrack({ \"fastaPath\":\"hw6/CultivarH.fa\", \"indexPath\":\"hw6/CultivarH.fa.fai\", \"id\":\"CultivarH\" })\n",
        "bam_common_info = { \"displayMode\":\"SQUISHED\", \"viewAsPairs\":True, \"height\":200 }\n",
        "H = BamTrack({ **{\"name\":\"H-bulk\", \"path\":\"H_bulk.bam\", \"indexPath\":\"H_bulk.bam.bai\"}, **bam_common_info })\n",
        "L = BamTrack({ **{\"name\":\"L-bulk\", \"path\":\"L_bulk.bam\", \"indexPath\":\"L_bulk.bam.bai\"}, **bam_common_info })\n",
        "igv_notebook.init()\n",
        "b = igv_notebook.Browser(ref)\n",
        "b.load_track(H)\n",
        "b.load_track(L)"
      ],
      "metadata": {
        "id": "7qH9mkIT13IZ"
      },
      "execution_count": null,
      "outputs": []
    },
    {
      "cell_type": "code",
      "source": [
        "#@title { vertical-output: true, display-mode: \"form\" }\n",
        "Answer = \"\" #@param {type:\"string\"}"
      ],
      "metadata": {
        "id": "j0_KPCAVG5LW"
      },
      "execution_count": null,
      "outputs": []
    },
    {
      "cell_type": "markdown",
      "source": [
        "### 解答例"
      ],
      "metadata": {
        "id": "rWF1nLCHuhNP"
      }
    },
    {
      "cell_type": "markdown",
      "source": [
        "\n",
        "\n",
        "　（198、）214、233、270番目の塩基を含む範囲\n",
        "\n",
        "<img src=\"https://github.com/CropEvol/lecture/blob/master/textbook_2022/images/L06_ans_2.png?raw=true\" alt=\"L06_ans_2\" height=\"220px\" align=\"middle\">"
      ],
      "metadata": {
        "id": "bC1DFLhHZbjg"
      }
    },
    {
      "cell_type": "markdown",
      "source": [
        "# 課題3\n",
        "\n",
        "　今回の課題サンプルデータの場合、原因変異をピンポイントで特定するためには、次のどちらが有効でしょうか？\n",
        "\n",
        "1. より多くの個体をバルクに含める\n",
        "2. バルクシーケンシングで得るリード量を増やす\n",
        "\n",
        "　次のプログラムの`H_bulk`、`L_bulk`、`samplingRate`の値を変更してアライメント結果を調べ、回答してください。\n",
        "\n",
        "- H-バルクに含める個体数を変更する: `H_bulk`の右辺を変更する\n",
        "  - 個体番号を列挙する際、番号間にはカンマ記号(`,`)が必要\n",
        "  - 個体番号は半角数字を入力する必要がある\n",
        "  - 初期値: `H_bulk = [8, 9, 14, 22]`\n",
        "- L-バルクに含める個体数を変更する: `L_bulk`の右辺を変更する\n",
        "  - 個体番号を列挙する際、番号間にはカンマ記号(`,`)が必要\n",
        "  - 個体番号は半角数字を入力する必要がある\n",
        "  - 初期値: `L_bulk = [2, 4, 15, 16]`\n",
        "- リード量を増やす: `samplingRate`の右辺を変更する\n",
        "  - 0.0-1.0までの数値を入力可能\n",
        "  - 半角数字を入力する必要がある\n",
        "  - 初期値: `samplingRate = 0.3`\n",
        "\n",
        "\n",
        "F<small>2</small>個体の形質情報: \n",
        "- High: 8, 9, 11, 14, 22, 24, 25, 26\n",
        "- Medium: 3, 5, 7, 10, 12, 13, 17, 19, 20, 21, 29, 30\n",
        "- Low: 1, 2, 4, 6, 15, 16, 18, 23, 27, 28\n",
        "- [形質データリスト](https://github.com/CropEvol/lecture/blob/master/textbook_2022/datasets/f2_pheno_hw.pdf)\n"
      ],
      "metadata": {
        "id": "kK5_xtyX10qJ"
      }
    },
    {
      "cell_type": "code",
      "source": [
        "## 課題3\n",
        "##---- 値を変更可能 -------------\n",
        "H_bulk = [8, 9, 14, 22, 24]   # H-バルクの個体番号\n",
        "L_bulk = [2, 4, 15, 16, 18]   # L-バルクの個体番号\n",
        "samplingRate = 0.3        # バルクリード量（0.0~1.0の範囲）\n",
        "##------------------------------------\n",
        "Pooling(H_bulk, bam_dir=\"hw6\", output=\"H_bulk.bam\", samplingRate=samplingRate, verbose=True)\n",
        "Pooling(L_bulk, bam_dir=\"hw6\", output=\"L_bulk.bam\", samplingRate=samplingRate, verbose=True)\n",
        "ref = RefTrack({ \"fastaPath\":\"hw6/CultivarH.fa\", \"indexPath\":\"hw6/CultivarH.fa.fai\", \"id\":\"CultivarH\" })\n",
        "bam_common_info = { \"displayMode\":\"SQUISHED\", \"viewAsPairs\":True, \"height\":200 }\n",
        "H = BamTrack({ **{\"name\":\"H-bulk\", \"path\":\"H_bulk.bam\", \"indexPath\":\"H_bulk.bam.bai\"}, **bam_common_info })\n",
        "L = BamTrack({ **{\"name\":\"L-bulk\", \"path\":\"L_bulk.bam\", \"indexPath\":\"L_bulk.bam.bai\"}, **bam_common_info })\n",
        "igv_notebook.init()\n",
        "b = igv_notebook.Browser(ref)\n",
        "b.load_track(H)\n",
        "b.load_track(L)"
      ],
      "metadata": {
        "id": "-BlV7FIv14Gr"
      },
      "execution_count": null,
      "outputs": []
    },
    {
      "cell_type": "code",
      "source": [
        "#@title { vertical-output: true, display-mode: \"form\" }\n",
        "Answer = \"\" #@param {type:\"string\"}"
      ],
      "metadata": {
        "id": "hUP2W8B3Yjtc"
      },
      "execution_count": null,
      "outputs": []
    },
    {
      "cell_type": "markdown",
      "source": [
        "### 解答例"
      ],
      "metadata": {
        "id": "84f6HYc-uevP"
      }
    },
    {
      "cell_type": "markdown",
      "source": [
        "\n",
        "\n",
        "　リード数を最大値（`samplingRate = 1.0`）に設定しても、233番目と270番目の塩基どちらかが原因変異か絞り込むことはできない。バルクに含める個体数を増やすと（`H_bulk`や`L_bulk`に個体番号を追加すると）、270番目の塩基が両バルクで対照的な固定SNPをもつことを観察できる。\n",
        "\n",
        "　したがって、今回の場合、「1. より多くの個体をバルクに含める」のほうが有効である。\n",
        "\n",
        "<img src=\"https://github.com/CropEvol/lecture/blob/master/textbook_2022/images/L06_ans_3.png?raw=true\" alt=\"L06_ans_3\" height=\"350px\" align=\"middle\">"
      ],
      "metadata": {
        "id": "7rNkvIItammL"
      }
    },
    {
      "cell_type": "markdown",
      "source": [
        "# 課題の提出について\n",
        "\n",
        "提出期限： 2022年11月21日（月） 12:00まで\n",
        "\n",
        "提出方法：\n",
        "1. ノートブックをGoogleドライブに保存する\n",
        "1. 保存後、ノートブック画面右上の「共有」ボタンから共有リンクURLを作成する\n",
        "  1. アクセス設定を「リンクを知っている全員」に変更する\n",
        "  1. 「リンクをコピー」をクリックする\n",
        "  1. 「完了」を押して共有設定ウィンドウを閉じる\n",
        "1. [Panda課題ページ](https://panda.ecs.kyoto-u.ac.jp/portal/directtool/1d1d1bd9-928d-440c-a745-9b97b2a4bc04/)のフォームに共有リンクURLを貼り付けて、課題を提出する"
      ],
      "metadata": {
        "id": "6pA5YuV1Z6m1"
      }
    },
    {
      "cell_type": "markdown",
      "source": [
        "\n",
        "<div align=\"right\"><a href=\"https://github.com/CropEvol/lecture#section2\">実習表ページに戻る</a></div>"
      ],
      "metadata": {
        "id": "e7If5WFUaAWa"
      }
    }
  ]
}