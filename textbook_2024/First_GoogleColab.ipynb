{
  "cells": [
    {
      "cell_type": "markdown",
      "metadata": {
        "id": "msxvu1Nb5UbP"
      },
      "source": [
        "<img src=\"https://github.com/CropEvol/lecture/blob/master/textbook_2024/images/logo.png?raw=true\" alt=\"2023年度ゲノム情報解析入門\" height=\"100px\" align=\"middle\">\n",
        "\n",
        "<div align=\"right\"><a href=\"https://github.com/CropEvol/lecture#section2\">実習表ページに戻る</a></div>"
      ]
    },
    {
      "cell_type": "markdown",
      "metadata": {
        "id": "wTl2PRy45ifF"
      },
      "source": [
        "# Google Colaboratoryの使い方"
      ]
    },
    {
      "cell_type": "markdown",
      "metadata": {
        "id": "ae_R54dp315N"
      },
      "source": [
        "\n",
        "　「ゲノム情報解析入門」では、**Google Colaboratory**（以下、**Google Colab**）と呼ばれるオンラインサービスを使って、ゲノム解析の体験をしていきます。今回の実習では、Google Colabの使い方を勉強していきます。\n"
      ]
    },
    {
      "cell_type": "markdown",
      "metadata": {
        "id": "GCvov-22cbuZ"
      },
      "source": [
        "## Google Colaboratory\n",
        "　Google ColabはGoogle社が提供しているサービスで、Googleアカウントさえあれば、オンライン上でPythonプログラミングをおこなえます。無料でそこそこの計算資源を使えるため、実際の研究現場でも利用されています。\n",
        "\n"
      ]
    },
    {
      "cell_type": "markdown",
      "metadata": {
        "id": "HoJZbUFdoFmb"
      },
      "source": [
        "## Pythonプログラミング\n",
        "\n",
        "- **プログラミング**  \n",
        "　コンピュータに何らかの処理を命令する文章のことを **プログラム**または**コード** といいます。 そのプログラムを作る（書く）ことを**プログラミング**または**コーディング**といいます。\n",
        "\n",
        "- **Python**  \n",
        "　プログラミング言語のひとつです。Pythonは、データ解析用の追加機能（パッケージ）が充実しており、データ解析の分野ではよく使われています。Python以外にも多くのプログラミング言語があります（C、C#、C++、Java、Ruby、PHP、Javascript、Perl、R、シェルスクリプトなど）。\n",
        "\n",
        "　ゲノム情報解析入門の実習は、「Pythonプログラミングの技術の習得」がメインではありません。「ゲノム解析の体験」をメインにしています。プログラミング基礎やプログラムの解説は、そのゲノム解析の体験に必要な程度にとどめる予定です。\n"
      ]
    },
    {
      "cell_type": "markdown",
      "metadata": {
        "id": "LZedukk8kiUd"
      },
      "source": [
        "## 今回の実習内容\n",
        "1. Google Colabの画面の見方\n",
        "1. ノートブックを保存する\n",
        "1. 保存したノートブックを開く\n",
        "1. プログラムを実行する/編集する\n",
        "1. サーバー上のフォルダやファイルを見る\n",
        "1. ノートブックを共有する"
      ]
    },
    {
      "cell_type": "markdown",
      "metadata": {
        "id": "-MzSppnfh4gf"
      },
      "source": [
        "## 1. Google Colabの画面の見方\n",
        "　最初に、Google Colabの画面の見方を勉強しましょう。\n",
        "\n",
        "　Google Colabには主に3つのエリアがあります。各エリアの名称を覚える必要はありません。\n",
        "\n",
        "- 上部のエリア（ヘッダー）: Google Colabのデータを保存したり、保存したデータを再度開いたりするときに使用します。\n",
        "- 左のエリア（左ペイン）: Google Colab上に置いているファイルやフォルダを確認する際に使用します。\n",
        "- 中央のエリア: テキスト本体が書かれています。おもにこのエリアでゲノム解析の実習をおこないます。\n",
        "\n",
        "<img src=\"https://github.com/CropEvol/lecture/blob/master/textbook_2023/images/notebook_display.png?raw=true\" alt=\"notebook_display\" height=\"400px\" align=\"middle\">"
      ]
    },
    {
      "cell_type": "markdown",
      "metadata": {
        "id": "9POOz23j-uVC"
      },
      "source": [
        "## 2. ノートブックを保存する\n",
        "　Google Colabで見ている画面（例えば、この実習テキスト）を**ノートブック**と呼ばれる形式のファイルに保存できます。ここでは、この実習テキストの保存操作をおこなってみましょう。保存したファイルは、自身のアカウントのGoogleドライブ（オンライン上のフォルダ）に保存されます。\n",
        "\n",
        "<img src=\"https://github.com/CropEvol/lecture/blob/master/textbook_2023/images/notebook_save.png?raw=true\" alt=\"notebook_save\" height=\"250px\" align=\"middle\">\n"
      ]
    },
    {
      "cell_type": "markdown",
      "metadata": {
        "id": "NvrTvMNYvcOb"
      },
      "source": [
        "### 実習2-1\n",
        "　現在のノートブックを保存してください。  \n",
        "\n",
        "<small>**※重要：各回の課題を提出する際におこなう操作です。**</small>\n",
        "\n",
        "```\n",
        "手順\n",
        "1. ヘッダーの「ファイル」 > 「保存」 または 「ドライブにコピーを保存」\n",
        "```\n",
        "\n"
      ]
    },
    {
      "cell_type": "markdown",
      "metadata": {
        "id": "hC6qTF4RvZHG"
      },
      "source": [
        "\n",
        "### 実習2-2\n",
        "　保存されたノートブックファイルを確認してください。\n",
        "\n",
        "```\n",
        "手順\n",
        "1. ヘッダーの「ファイル」 > 「ドライブで探す」\n",
        "```"
      ]
    },
    {
      "cell_type": "markdown",
      "metadata": {
        "id": "vOPzI6Q2nUeU"
      },
      "source": [
        "## 3. 保存したノートブックを開く\n",
        "　Googleドライブに保存されているノートブックを再度開くことも可能です。\n",
        "\n",
        "<img src=\"https://github.com/CropEvol/lecture/blob/master/textbook_2023/images/notebook_open.png?raw=true\" alt=\"notebook_open\" height=\"250px\" align=\"middle\">\n"
      ]
    },
    {
      "cell_type": "markdown",
      "metadata": {
        "id": "1D4pPsevvyHt"
      },
      "source": [
        "### 実習3\n",
        "　先ほど保存したノートブックを開いてください。\n",
        "\n",
        "```\n",
        "手順\n",
        "1. ヘッダーの「ファイル」 > 「ノートブックを開く...」\n",
        "2. 「GOOGLE ドライブ」 > 先ほど保存したファイルをクリック\n",
        "\n",
        "別の手順\n",
        "1. ヘッダーの「ファイル」 > 「ドライブで探す」\n",
        "2. 先ほど保存したファイルを右クリック > 「アプリで開く」 > 「Google Colaboratory」\n",
        "```"
      ]
    },
    {
      "cell_type": "markdown",
      "metadata": {
        "id": "WtLcB07NaLLi"
      },
      "source": [
        "## 4. プログラムを実行する/編集する\n",
        "　プログラムの実行の仕方を勉強しましょう。今後の実習で最もよくおこなう操作です。\n",
        "\n",
        "　Google Colabには**コードセル**と呼ばれるプログラムを書くスペースがあります。コードセルの左にある「▶︎マーク」をクリックすると、そのコードセルに書かれたプログラムを実行できます。"
      ]
    },
    {
      "cell_type": "markdown",
      "metadata": {
        "id": "4cuwY4wKxzWq"
      },
      "source": [
        "### 実習4\n",
        "　次のコードセルには数値計算のプログラムが書かれています。実行して、その出力結果を確認してください。また、入力値を変えると、出力結果が変わることも確認してください。\n",
        "\n",
        "```\n",
        "手順:\n",
        "1. 下のコードセルの左の▶︎マークをクリックして、コードセルを実行する。\n",
        "2. 入力値x,y,zの右辺の数字を変更して、出力される結果が変わることを確かめる。\n",
        "```"
      ]
    },
    {
      "cell_type": "code",
      "execution_count": null,
      "metadata": {
        "id": "PHx8ibSM6P_f"
      },
      "outputs": [],
      "source": [
        "## --- 入力値 ---\n",
        "x = 11  # 変数x\n",
        "y = 22  # 変数y\n",
        "z = 33  # 変数z\n",
        "##------------------\n",
        "\n",
        "## 数値計算\n",
        "print(x - y + z)"
      ]
    },
    {
      "cell_type": "markdown",
      "metadata": {
        "id": "lOh2mbcfeUKH"
      },
      "source": [
        "#### 実習4のプログラムの解説"
      ]
    },
    {
      "cell_type": "markdown",
      "metadata": {
        "id": "s2vPo0SgeUKH"
      },
      "source": [
        "- `x = 11`や`y = 22`、`z = 33`では、**変数** と呼ばれるものを作成しています。変数に入っている値は、変更することも可能です。\n",
        "- `print(x - y + z)`は画面に出力するコードです。ここでは、**print関数** と呼ばれるものを使って、print関数の丸括弧`()`内に書かれたデータを画面に出力しています。Pythonには、他にもさまざまな機能をもった**関数**が多数あります。\n",
        "- 今回のプログラムでは使用していませんが、Pythonには、変数に入っている情報によって処理を振り分ける **if構文（条件分岐構文）** や、同じ処理を指定回数繰り返す **for構文（繰り返し構文）** といった **構文** があります。\n",
        "- プログラムは、変数や関数、構文を組み合わせて、任意の処理をおこなえるようにしたものです。\n",
        "- `#`の後ろの文字はプログラムとして認識されずに、スキップされます。Pythonでは、`#`を使って、プログラムにメモなどを付けることが可能です。"
      ]
    },
    {
      "cell_type": "markdown",
      "metadata": {
        "id": "TsvPQrB1fCYh"
      },
      "source": [
        "## 5. サーバー上のフォルダやファイルを見る\n",
        "　Google Colabは、Google社のサーバー（以下、Colabサーバー）で動いています。サーバー上にあるフォルダやファイルを確認してみましょう。\n"
      ]
    },
    {
      "cell_type": "markdown",
      "metadata": {
        "id": "yZ0YmEr0wBVt"
      },
      "source": [
        "### 実習5\n",
        "　下記の手順で、Colabサーバー上のフォルダやファイルを確認してください。\n",
        "\n",
        "```\n",
        "手順\n",
        "1. 画面左のエリア（左ペイン）のフォルダアイコンをクリックする\n",
        "2. 「sample_data」フォルダがあることを確認する\n",
        "\n",
        "最初に表示されるフォルダ: /content\n",
        "```"
      ]
    },
    {
      "cell_type": "markdown",
      "metadata": {
        "id": "qFcK-owEVQ8M"
      },
      "source": [
        "## 6. ノートブックを共有する\n",
        "　共有機能を使うことで、ノートブックを他者と共有できます。この共有機能は、実習課題の提出に使うことがあります。\n",
        "\n",
        "<img src=\"https://github.com/CropEvol/lecture/blob/master/textbook_2023/images/notebook_share.png?raw=true\" alt=\"notebook_share\" height=\"350px\" align=\"middle\">"
      ]
    },
    {
      "cell_type": "markdown",
      "metadata": {
        "id": "QXO1SVH8wTb5"
      },
      "source": [
        "### 実習6\n",
        "\n",
        "　現在のノートブックを「リンクを知っている全員」と共有する設定にしてください。\n",
        "\n",
        "<small>**※重要：各回の課題を提出する際におこなう操作です。**</small>\n",
        "\n",
        "```\n",
        "手順\n",
        "1. ノートブックをGoogleドライブに保存する\n",
        "2. 保存後、ノートブック画面右上の「共有」ボタンをクリックする\n",
        "3. アクセス設定を「制限付き」から「リンクを知っている全員」に変更する\n",
        "4. 「完了」をクリックする\n",
        "```"
      ]
    },
    {
      "cell_type": "markdown",
      "metadata": {
        "id": "0T4m5X0hZwAx"
      },
      "source": [
        "---\n",
        "## この実習で学んだこと\n",
        "\n",
        "Google Colabの使い方:\n",
        "- Google Colab画面の見方\n",
        "- ノートブックを保存する・開く・共有する\n",
        "- プログラムを実行する・編集する\n",
        "- サーバー上のファイルを見る\n",
        "\n",
        "<div align=\"right\"><a href=\"https://github.com/CropEvol/lecture#section2\">実習表ページに戻る</a></div>"
      ]
    }
  ],
  "metadata": {
    "colab": {
      "provenance": []
    },
    "kernelspec": {
      "display_name": "Python 3",
      "name": "python3"
    }
  },
  "nbformat": 4,
  "nbformat_minor": 0
}