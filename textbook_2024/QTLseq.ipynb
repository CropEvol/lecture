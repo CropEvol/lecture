{
  "cells": [
    {
      "cell_type": "markdown",
      "metadata": {
        "id": "xrEcu23sU8EV"
      },
      "source": [
        "<img src=\"https://github.com/CropEvol/lecture/blob/master/textbook_2024/images/logo.png?raw=true\" alt=\"2023年度ゲノム情報解析入門\" height=\"100px\" align=\"middle\">\n",
        "\n",
        "<div align=\"right\"><a href=\"https://github.com/CropEvol/lecture#section2\">実習表ページに戻る</a></div>"
      ]
    },
    {
      "cell_type": "markdown",
      "metadata": {
        "id": "l4GqxbsKdtM-"
      },
      "source": [
        "QTL-seq解析\n",
        "---\n",
        "\n",
        "　前回、小さいデータセットで形質と連関のあるSNP箇所を目視で探しました。また、バルクシーケンシングについても勉強しました。しかし、実際のゲノム配列は、非常に長く、目視で形質と連関のあるSNP箇所を探すのはほぼ不可能です。\n",
        "\n",
        "　今回、バルクシーケンシングによるQTL解析法（遺伝子マッピング法）のひとつ**QTL-seq解析**を学び、SNP情報をどのように処理すればゲノムワイドなデータで遺伝子マッピングができるかを勉強していきます。\n",
        "\n"
      ]
    },
    {
      "cell_type": "code",
      "execution_count": null,
      "metadata": {
        "id": "5JVjYX-RB0cz"
      },
      "outputs": [],
      "source": [
        "%%bash\n",
        "## サンプルファイルのダウンロード\n",
        "wget -q -O rice_qtlseq_dataset.csv https://github.com/CropEvol/lecture/raw/master/textbook_2024/datasets/rice_qtlseq_dataset.csv\n",
        "ls | grep \"rice\""
      ]
    },
    {
      "cell_type": "markdown",
      "metadata": {
        "id": "iMenqmOheCQ5"
      },
      "source": [
        "# 今回の勉強内容\n",
        "\n",
        "0. 前回の復習\n",
        "1. アライメント結果からSNPデータセットを作る\n",
        "1. SNPデータセットの扱い方\n",
        "  1. データセットを読み込む\n",
        "  1. 列データを取り出す\n",
        "  1. 列データで計算をする\n",
        "  1. 任意の染色体のデータ行を取り出す\n",
        "1. グラフ描画\n",
        "  1. グラフ描画の基礎\n",
        "  1. 散布図を描く\n",
        "  1. Slinding window解析\n",
        "  1. 原因遺伝子の位置を探す\n"
      ]
    },
    {
      "cell_type": "markdown",
      "metadata": {
        "id": "APPCst_0LM9d"
      },
      "source": [
        "# 0. 前回の復習\n",
        "\n",
        "　前回、イネのQTL-seq解析のリードアライメント結果をみました。\n",
        "\n",
        "イネのQTL-seq解析の概要:\n",
        "- いもち病への抵抗性品種と罹病性品種の交配分離集団\n",
        "- バルクシーケンシング:\n",
        "  - 抵抗性個体のバルク\n",
        "  - 罹病性個体のバルク\n",
        "- 参照配列: 罹病性品種のゲノム配列\n",
        "- リードアライメント結果: [IGV-Web 版](https://igv.org/app/?sessionURL=blob:zZJLb8IwDID_i89dHwy2tTck2GmgaQ9pEpoqt3VpRNq0TgqbEP99HrAT7MakSckljv3ZX7KFNbFVpoEEBn507Y_AA1uZzTPWraY51mQhKVFb8oCpJKYmJ0i2UKJ1.Pr0IImVc61NgoBx4y.Vq_qst8S5aRw1zs9NHXQdtTd3oyKw.7JpgQ4tuaBG1QSdk.pdwCqnNK_4Jo3SaDTL_BKlF9UU9PHHGFkKdh5ok_cyLXxHk.gqCr1wEEsPbBQki3cPHGO.khuLLbjPVjSAVOz3RjwwXBBDchWH4W0Ux4PR8HYYxnG087bQs77YAM9p1uuVf7jhZ1gLu5F3EsC50MUFnkBkKwHJ9GpNxXzfiuNePkxpuEYn5EMrR2eo1bKpBSlHqDVpumfqXiom.Xi6gCT0B1JO2Vbj58wU3znTt8fxfDKdSMpa0WZsH1Gx_eEc1Q8vrfrpd9XnQhdXfQL5R6rfd18-) <small>※ Firefoxではエラーが出て見れません</small>\n",
        "  \n",
        "\n",
        "<img src=\"https://github.com/CropEvol/lecture/blob/master/textbook_2022/images/qtlseq_takagi_etal_2013_L06.png?raw=true\" alt=\"Rice QTL-seq example (Takagi et al., 2013)\" height=\"250px\" align=\"middle\">\n",
        "\n"
      ]
    },
    {
      "cell_type": "code",
      "execution_count": null,
      "metadata": {
        "id": "13NWp0OnJZhn"
      },
      "outputs": [],
      "source": [
        "## Colab上にデータファイルのダウンロードする\n",
        "!pip install -q -U igv-notebook==0.3.1\n",
        "!wget -q -O igv_prep.py    https://github.com/CropEvol/lecture/raw/master/textbook_2022/scripts/igv_prep.py\n",
        "!wget -q -O rice_chr6_1_15Mb.fa    https://raw.githubusercontent.com/qqep685d/sample_dataset/main/qtlseq/rice_chr6_1_15Mb.fa\n",
        "!wget -q -O rice_chr6_1_15Mb.fa.fai https://raw.githubusercontent.com/qqep685d/sample_dataset/main/qtlseq/rice_chr6_1_15Mb.fa.fai\n",
        "!wget -q -O rice_R_bulk.bam    https://raw.githubusercontent.com/qqep685d/sample_dataset/main/qtlseq/R_bulk.sample.bam\n",
        "!wget -q -O rice_R_bulk.bam.bai https://raw.githubusercontent.com/qqep685d/sample_dataset/main/qtlseq/R_bulk.sample.bam.bai\n",
        "!wget -q -O rice_S_bulk.bam    https://raw.githubusercontent.com/qqep685d/sample_dataset/main/qtlseq/S_bulk.sample.bam\n",
        "!wget -q -O rice_S_bulk.bam.bai https://raw.githubusercontent.com/qqep685d/sample_dataset/main/qtlseq/S_bulk.sample.bam.bai\n",
        "\n",
        "## IGV用ライブラリの読み込み\n",
        "import igv_notebook\n",
        "from igv_prep import RefTrack, AnnotationTrack, BamTrack\n",
        "igv_notebook.init()\n",
        "bam_common_info = { \"displayMode\":\"SQUISHED\", \"alleleFreqThreshold\":0.4, \"height\":200 }\n",
        "## 準備: Reference info\n",
        "ref    = RefTrack({ \"fastaPath\":\"rice_chr6_1_15Mb.fa\", \"indexPath\":\"rice_chr6_1_15Mb.fa.fai\", \"id\":\"Rice\" }, locus=\"chr6:1-10,000\")\n",
        "## 準備: Reads info\n",
        "r_bulk = BamTrack({ **{\"name\":\"R_bulk\", \"path\":\"rice_R_bulk.bam\", \"indexPath\":\"rice_R_bulk.bam.bai\"}, **bam_common_info })\n",
        "s_bulk = BamTrack({ **{\"name\":\"S_bulk\", \"path\":\"rice_S_bulk.bam\", \"indexPath\":\"rice_S_bulk.bam.bai\"}, **bam_common_info })\n",
        "## IGV表示\n",
        "igv_notebook.init()\n",
        "b = igv_notebook.Browser(ref)\n",
        "b.load_track(r_bulk)\n",
        "b.load_track(s_bulk)"
      ]
    },
    {
      "cell_type": "markdown",
      "metadata": {
        "id": "q2qAUUYXDcOh"
      },
      "source": [
        "　実際のゲノムワイドなデータは、SNP箇所の数が多く、目視でSNP箇所をひとつずつ確認するのも難しいです。\n",
        "\n",
        "　実際のゲノム解析では、アライメントデータからSNP箇所のみの情報（アリルの個数など）を抽出したデータセットを作ることができます。そのデータセットを解析することで、さまざまなデータ解析（系統解析や遺伝子マッピングなど）をおこなえます。\n",
        "\n",
        "　今回、バルクシーケンシング由来のSNPアリルの個数がまとめられたデータセット（以下、SNPデータセット）をPythonで解析し、**QTL-seq解析**（遺伝子マッピング手法の一種）をおこなっていきましょう。\n",
        "\n",
        "　QTLーseq解析では、SNPアリルの割合を使って、原因遺伝子があるゲノム領域の探索をおこないます。そのSNPアリルの割合のことを、QTL-seq解析では**SNP-index**と呼んでいます。\n",
        "\n",
        "<img src=\"https://github.com/CropEvol/lecture/blob/master/textbook_2022/images/qtlseq_data_analysis.png?raw=true\" alt=\"qtlseq_data_analysis\" height=\"250px\" align=\"middle\">\n"
      ]
    },
    {
      "cell_type": "markdown",
      "metadata": {
        "id": "nqYO0INPKZMe"
      },
      "source": [
        "# 1. アライメント結果からSNPデータセットを作る\n",
        "\n",
        "　詳細は省きますが、アライメント結果からSNPデータセットを作るには、既存のソフトウェア（[bcftools](https://samtools.github.io/bcftools/bcftools.html)など）を用います。\n",
        "\n",
        "<img src=\"https://github.com/CropEvol/lecture/blob/master/textbook_2022/images/alignment_to_dataset.png?raw=true\" alt=\"alignment to SNP dataset\" height=\"160px\" align=\"middle\">"
      ]
    },
    {
      "cell_type": "markdown",
      "metadata": {
        "id": "WVS2-2C7fkGt"
      },
      "source": [
        "# 2. SNPデータセットの扱い方\n",
        "\n",
        "　ここからは、SNPデータセットをPythonで扱うための基礎を勉強していきましょう。\n",
        "\n",
        "\n",
        "- イネQTL-seq解析のSNPデータセット: [rice_qtlseq_dataset.csv](https://raw.githubusercontent.com/CropEvol/lecture/master/textbook_2022/datasets/rice_qtlseq_dataset.csv)"
      ]
    },
    {
      "cell_type": "markdown",
      "metadata": {
        "id": "yFiBpP76whA1"
      },
      "source": [
        "## 2-1. データセットを読み込む\n",
        "\n",
        "　SNPデータセットは、1行あたり8個のデータがカンマ記号(`,`)で区切られた、テーブル状の構造をしています。カンマ区切りのテーブル状データセットは、pandasと呼ばれるライブラリ（Pythonの追加機能のようなもの）の`read_csv`関数で読み込むことができ、その後、データ処理をおこなえるようになります。\n",
        "\n",
        "```python\n",
        "# データセットを読み込む\n",
        "import pandas as pd\n",
        "データフレーム変数 = pd.read_csv(\"ファイル名\")\n",
        "```"
      ]
    },
    {
      "cell_type": "code",
      "execution_count": null,
      "metadata": {
        "id": "CjDuEPGmfV23"
      },
      "outputs": [],
      "source": [
        "## ライブラリの読み込み\n",
        "import pandas as pd\n",
        "## データセットの読み込み\n",
        "df = pd.read_csv(\"rice_qtlseq_dataset.csv\")\n",
        "## 表示\n",
        "df"
      ]
    },
    {
      "cell_type": "markdown",
      "metadata": {
        "id": "DB00TtbctM-H"
      },
      "source": [
        "　読み込んだデータセットの見方は下図のとおりです。\n",
        "\n",
        "<img src=\"https://github.com/CropEvol/lecture/blob/master/textbook_2022/images/pandas_dataframe.png?raw=true\" alt=\"pandas_dataframe\" height=\"320px\" align=\"middle\">"
      ]
    },
    {
      "cell_type": "markdown",
      "metadata": {
        "id": "eLvpTet3wjZt"
      },
      "source": [
        "## 2-2. 列データを取り出す\n",
        "\n",
        "　つぎに、1列分のデータの取り出し方を学びましょう。\n",
        "\n",
        "<img src=\"https://github.com/CropEvol/lecture/blob/master/textbook_2022/images/extract_one_column.png?raw=true\" alt=\"extract_one_column\" height=\"120px\" align=\"middle\">\n",
        "\n",
        "```python\n",
        "# 列データを取り出す\n",
        "データフレーム変数[\"列名\"]\n",
        "　　　　または\n",
        "データフレーム変数.列名\n",
        "```"
      ]
    },
    {
      "cell_type": "code",
      "execution_count": null,
      "metadata": {
        "id": "AK3a8UYGwqMs"
      },
      "outputs": [],
      "source": [
        "# 「Bulk1_REF」列を取り出す\n",
        "df[\"Bulk1_REF\"]"
      ]
    },
    {
      "cell_type": "markdown",
      "metadata": {
        "id": "g5L0J_bhmtpv"
      },
      "source": [
        "### 練習2-2\n",
        "　`Bulk1_ALT`の列を取り出してください。"
      ]
    },
    {
      "cell_type": "code",
      "execution_count": null,
      "metadata": {
        "id": "LzIBq6Pbo7PN"
      },
      "outputs": [],
      "source": [
        "## 練習2-2: 「Bulk1_ALT」列を取り出す\n"
      ]
    },
    {
      "cell_type": "markdown",
      "metadata": {
        "id": "P468rRbWm7Z8"
      },
      "source": [
        "#### 解答例"
      ]
    },
    {
      "cell_type": "code",
      "execution_count": null,
      "metadata": {
        "id": "8tS9BRb7m7Go"
      },
      "outputs": [],
      "source": [
        "df[\"Bulk1_ALT\"]\n",
        "df.Bulk1_ALT"
      ]
    },
    {
      "cell_type": "markdown",
      "metadata": {
        "id": "JwjEch2ewnqi"
      },
      "source": [
        "## 2-3. 列データで計算する\n",
        "\n",
        "　次に、列データを使って、SNP-indexの算出をおこないましょう。列データと列データの要素同士の計算は、次のようなコードで簡単におこなえます。\n",
        "\n",
        "```python\n",
        "# 列データ同士を計算する（足し算の場合）\n",
        "列Aのデータ + 列Bのデータ\n",
        "# 新しいデータとして追加する\n",
        "データフレーム変数[\"新しい列名\"] = 列Aのデータ + 列Bのデータ\n",
        "```\n",
        "\n",
        "<img src=\"https://github.com/CropEvol/lecture/blob/master/textbook_2022/images/pandas_calc_columns.png?raw=true\" alt=\"pandas_calc_columns\" height=\"200px\" align=\"middle\">"
      ]
    },
    {
      "cell_type": "markdown",
      "metadata": {
        "id": "RX01lUxUoWSW"
      },
      "source": [
        "　ここでは、Bulk1のSNP-indexを計算してみましょう。\n",
        "\n",
        "<img src=\"https://github.com/CropEvol/lecture/blob/master/textbook_2022/images/calculate_snp_index_of_bulk1.png?raw=true\" alt=\"calculate_snp_index\" height=\"60px\" align=\"middle\">"
      ]
    },
    {
      "cell_type": "code",
      "execution_count": null,
      "metadata": {
        "id": "hQf7cjVNwq0i"
      },
      "outputs": [],
      "source": [
        "## Bulk1のSNP-indexを計算し、その結果を新しい列「Bulk1_SNPindex」として追加する\n",
        "df[\"Bulk1_SNPindex\"] = df[\"Bulk1_ALT\"]/(df[\"Bulk1_REF\"] + df[\"Bulk1_ALT\"])\n",
        "df"
      ]
    },
    {
      "cell_type": "markdown",
      "metadata": {
        "id": "o3GD_0I6ombc"
      },
      "source": [
        "### 練習2-3\n",
        "　Bulk2のSNP-indexも算出して、データフレーム`df`の新しい列`Bulk2_SNPindex`に追加してください。\n",
        "\n",
        "<img src=\"https://github.com/CropEvol/lecture/blob/master/textbook_2022/images/calculate_snp_index_of_bulk2.png?raw=true\" alt=\"calculate_snp_index\" height=\"60px\" align=\"middle\">"
      ]
    },
    {
      "cell_type": "code",
      "execution_count": null,
      "metadata": {
        "id": "8j7l8eJYo47u"
      },
      "outputs": [],
      "source": [
        "## 練習2-3: Bulk2のSNPindexを計算し、その結果を新しい列「Bulk2_SNPindex」として追加する\n",
        "df[\"Bulk2_SNPindex\"] =\n",
        "df"
      ]
    },
    {
      "cell_type": "markdown",
      "metadata": {
        "id": "vPyIC7gro3Wr"
      },
      "source": [
        "#### 解答例"
      ]
    },
    {
      "cell_type": "code",
      "execution_count": null,
      "metadata": {
        "id": "ThKvy-gRy40Q"
      },
      "outputs": [],
      "source": [
        "df[\"Bulk2_SNPindex\"] = df[\"Bulk2_ALT\"]/(df[\"Bulk2_REF\"] + df[\"Bulk2_ALT\"])\n",
        "df"
      ]
    },
    {
      "cell_type": "markdown",
      "metadata": {
        "id": "HA2EIYr_J1_r"
      },
      "source": [
        "## 2-4. 任意の染色体のデータ行を取り出す\n",
        "\n",
        "　「2-3. 列データで計算する」で、各バルクについて、ゲノム全域のSNP-indexを算出しました。\n",
        "\n",
        "　このあと、ひとつの染色体（例えば、`chr01`）のSNP-indexのグラフを描くために、任意の染色体のデータを取り出す方法を学びましょう。\n",
        "\n",
        "```python\n",
        "## 条件に合ったデータ行を取り出す\n",
        "データフレーム変数[条件]\n",
        "## 例: データフレーム「df」から、列「CHROM」が\"chr01\"の行を取り出す\n",
        "## 「==」は等しいかどうかを比較する演算子\n",
        "df[df[\"CHROM\"]==\"chr01\"]\n",
        "```\n",
        "\n",
        "<img src=\"https://github.com/CropEvol/lecture/blob/master/textbook_2022/images/pandas_filtering_data.png?raw=true\" alt=\"pandas_filtering_data\" height=\"200px\" align=\"middle\">"
      ]
    },
    {
      "cell_type": "code",
      "execution_count": null,
      "metadata": {
        "id": "dZkWW92yzHux"
      },
      "outputs": [],
      "source": [
        "sub = df[df[\"CHROM\"]==\"chr01\"]\n",
        "sub"
      ]
    },
    {
      "cell_type": "markdown",
      "metadata": {
        "id": "osthNNO-sL9w"
      },
      "source": [
        "### 練習2-4\n",
        "　データフレーム「df」から、「CHROM」列がchr12のデータを取り出してください。"
      ]
    },
    {
      "cell_type": "code",
      "execution_count": null,
      "metadata": {
        "id": "qM6pR1b9sXsy"
      },
      "outputs": [],
      "source": [
        "## 練習2-4: dfから「CHROM」列がchr12のデータのみを取り出す\n",
        "sub12 =\n",
        "sub12"
      ]
    },
    {
      "cell_type": "markdown",
      "metadata": {
        "id": "q5dhelFisSqo"
      },
      "source": [
        "#### 解答例"
      ]
    },
    {
      "cell_type": "code",
      "execution_count": null,
      "metadata": {
        "id": "PY8ZyXaIsTX7"
      },
      "outputs": [],
      "source": [
        "sub12 = df[df[\"CHROM\"]==\"chr12\"]\n",
        "sub12"
      ]
    },
    {
      "cell_type": "markdown",
      "metadata": {
        "id": "KCMIko3Fw058"
      },
      "source": [
        "# 3. グラフ描画\n",
        "\n",
        "　SNP-indexの情報をグラフにしていきましょう。"
      ]
    },
    {
      "cell_type": "markdown",
      "metadata": {
        "id": "_CyEJk-FxASk"
      },
      "source": [
        "## 3-1. グラフ描画の基礎\n",
        "\n",
        "　Pythonでのグラフ描画の基礎は次のとおりです。\n",
        "> グラフのパーツが描かれた透明な層（レイヤー）を複数枚かさねて、ひとつのグラフを描く\n",
        "\n",
        "<img src=\"https://github.com/CropEvol/lecture/blob/master/textbook_2022/images/drawing_plot_basis.png?raw=true\" alt=\"drawing_plot_basis\" height=\"180px\" align=\"middle\">\n"
      ]
    },
    {
      "cell_type": "markdown",
      "metadata": {
        "id": "FiKFo1AhxBrN"
      },
      "source": [
        "## 3-2. 散布図を描く\n",
        "\n",
        "　`pandas`とは別のライブラリ`matplotlib`（グラフ描画用ライブラリ）を使うと、様々なグラフを描けます。今回は、SNP-indexの散布図を描いてみましょう。\n",
        "\n",
        "```python\n",
        "#　散布図ためのデータ\n",
        "x = x座標データ\n",
        "x = y座標データ\n",
        "\n",
        "# 散布図\n",
        "import matplotlib.pyplot as plt\n",
        "plt.scatter(x, y, オプション（任意）)\n",
        "```\n",
        "\n",
        "　ここでの例として、データフレーム`sub`の情報（ひとつの染色体の情報）を使って、Bulk1のSNP-indexの散布図を描きます。\n",
        "\n",
        "- x軸座標データ: `POS`列\n",
        "- y軸座標データ: `Bulk1_SNPindex`列"
      ]
    },
    {
      "cell_type": "code",
      "execution_count": null,
      "metadata": {
        "id": "vHEhTlc7xE7j"
      },
      "outputs": [],
      "source": [
        "## x軸、y軸データ\n",
        "x  = sub[\"POS\"]\n",
        "y1 = sub[\"Bulk1_SNPindex\"]\n",
        "\n",
        "import matplotlib.pyplot as plt\n",
        "plt.figure(figsize=[12, 4])  # グラフフィールド（サイズ指定）\n",
        "plt.scatter(x, y1)          # 散布図\n",
        "plt.xlabel(\"Position (x 10 Mbp)\") # x軸ラベル\n",
        "plt.ylabel(\"SNP index of Bulk1\")  # y軸ラベル\n",
        "plt.show()                 # 表示"
      ]
    },
    {
      "cell_type": "markdown",
      "metadata": {
        "id": "CYhDL7Taw3uh"
      },
      "source": [
        "### 練習3-2\n",
        "\n",
        "　4,5,12行目にコードを追記して、Bulk2のSNP-indexの散布図を描いてください。"
      ]
    },
    {
      "cell_type": "code",
      "execution_count": null,
      "metadata": {
        "id": "cgKBj2Mh1GPF"
      },
      "outputs": [],
      "source": [
        "## 練習3-2: Bulk2のSNP-indexの散布図を描く\n",
        "## ------- 編集箇所1 ------------\n",
        "## x軸、y軸データ\n",
        "x  =\n",
        "y2 =\n",
        "## ---------------------------------\n",
        "\n",
        "import matplotlib.pyplot as plt\n",
        "plt.figure(figsize=[12, 4])  # グラフフィールド（サイズ指定）\n",
        "## ------- 編集箇所2 ------------\n",
        "# 散布図\n",
        "plt.scatter()\n",
        "## ---------------------------------\n",
        "plt.xlabel(\"Position (x 10 Mbp)\") # x軸ラベル\n",
        "plt.ylabel(\"SNP index of Bulk2\")  # y軸ラベル\n",
        "plt.show()                # 表示"
      ]
    },
    {
      "cell_type": "markdown",
      "metadata": {
        "id": "3shoqF8iyYP0"
      },
      "source": [
        "#### 解答例"
      ]
    },
    {
      "cell_type": "code",
      "execution_count": null,
      "metadata": {
        "id": "GdZBO4TsyZo0"
      },
      "outputs": [],
      "source": [
        "## 練習3-2: Bulk2のSNP-indexの散布図を描く\n",
        "## ------- 編集箇所1 ------------\n",
        "## x軸、y軸データ\n",
        "x  = sub[\"POS\"]\n",
        "y2 = sub[\"Bulk2_SNPindex\"]\n",
        "## ---------------------------------\n",
        "\n",
        "import matplotlib.pyplot as plt\n",
        "plt.figure(figsize=[12, 4])  # グラフフィールド（サイズ指定）\n",
        "## ------- 編集箇所2 ------------\n",
        "# 散布図\n",
        "plt.scatter(x, y2)\n",
        "## ---------------------------------\n",
        "plt.xlabel(\"Position (x 10 Mbp)\") # x軸ラベル\n",
        "plt.ylabel(\"SNP index in Bulk2\")  # y軸ラベル\n",
        "plt.show()                # 表示"
      ]
    },
    {
      "cell_type": "markdown",
      "metadata": {
        "id": "bVqTdYBqxDMC"
      },
      "source": [
        "## 3-3. Slinding window解析\n",
        "\n",
        "　散布図により各SNP箇所のSNP-indexを描画できましたが、そのグラフだけで原因遺伝子がありそうな場所を判断するのは難しそうです。\n",
        "\n",
        "　バルクシーケンシングで得られるリアルなデータ（SNPアリルの個数、また、そこから求められるSNP-index）は、必ず期待値どおりの値が得られるわけではありません。ALT塩基を50%で得られることが期待できる場所（SNP-indexが0.5になる場所）では、その期待値周辺のSNP-indexが得られますが、ときには大きく外れたSNP-indexが得られることもあります。\n",
        "\n",
        "<small>※ コイントスを例にすると、「裏面が出る確率50%のコインを10枚投げて、裏面が出た枚数を調べる」という何度も繰り返すと、裏が5枚出る試行が多く観察されますが、10枚とも裏が出たり、裏が0枚の試行も生じることがあります。SNP-indexも同じように、多くのSNPを得ると、期待値付近のSNP-indexが多く得られますが、大きく外れたSNP-indexも得られることがあります。</small>\n"
      ]
    },
    {
      "cell_type": "markdown",
      "metadata": {
        "id": "Yw3Idjh370Re"
      },
      "source": [
        "　期待されるSNP-indexは、周辺のSNP座の平均SNP-indexで近似できます。任意の区間を設定し、その区間の平均SNP-indexを調べるといった作業を、ゲノム全域にわたっておこなうと、平均SNP-indexが高い場所や低い場所を見つけることができます。\n",
        "\n",
        "　ゲノム全域にわたってSNP-indexの平均値の推移（**移動平均**）を調べる解析法を**Slinding window解析**と言います。\n",
        "\n",
        "<img src=\"https://github.com/CropEvol/lecture/blob/master/textbook_2022/images/sliding_window_overview.png?raw=true\" alt=\"sliding_window_overview\" height=\"350px\" align=\"middle\">\n",
        "\n",
        "　移動平均は、列データに対して`rolling`という関数を使うと、簡単に得られます。\n",
        "\n",
        "```python\n",
        "# 任意SNP数区間の移動平均を求める\n",
        "列データ.rolling(データ数).mean()\n",
        "```"
      ]
    },
    {
      "cell_type": "code",
      "execution_count": null,
      "metadata": {
        "id": "dxKx-lmr9NIe"
      },
      "outputs": [],
      "source": [
        "## Bulk1_SNPindexの移動平均\n",
        "sub[\"Bulk1_SNPindex\"].rolling(20).mean()  #Bulk1_SNPindex列（SNP 20個分）の移動平均"
      ]
    },
    {
      "cell_type": "markdown",
      "metadata": {
        "id": "l8pEQbQai5e5"
      },
      "source": [
        "　また、移動平均の折れ線グラフはplot関数を使うことで描けます。\n",
        "```python\n",
        "# 移動平均の折れ線グラフを追加する\n",
        "import matplotlib.pyplot as plt\n",
        "plt.scatter(x, y, オプション（任意）)   # x=x座標データ, y=y座標データ\n",
        "plt.plot(win_x, win_y, オプション（任意）) # win_x=x座標データの移動平均, win_y=y座標データの移動平均\n",
        "```"
      ]
    },
    {
      "cell_type": "code",
      "execution_count": null,
      "metadata": {
        "id": "8U0kvUZYxFM0"
      },
      "outputs": [],
      "source": [
        "## SNPポジション、Bulk1_SNPindexの移動平均\n",
        "win_x  = sub[\"POS\"].rolling(20).mean()             #POS列（SNP 20個分）の移動平均\n",
        "win_y1 = sub[\"Bulk1_SNPindex\"].rolling(20).mean()  #Bulk1_SNPindex列（SNP 20個分）の移動平均\n",
        "\n",
        "## 移動平均をグラフ化する\n",
        "import matplotlib.pyplot as plt\n",
        "plt.figure(figsize=[12, 3])               #　グラフフィールド（サイズ指定）\n",
        "plt.scatter(x, y1)                       # 散布図\n",
        "plt.plot(win_x, win_y1, color=\"orange\") # 移動平均の線グラフ\n",
        "plt.xlabel(\"Position (x 10 Mbp)\")         # x軸ラベル\n",
        "plt.ylabel(\"SNP index of Bulk1\")         # y軸ラベル\n",
        "plt.show()                               # 表示"
      ]
    },
    {
      "cell_type": "markdown",
      "metadata": {
        "id": "nAKXFeNC9dTd"
      },
      "source": [
        "### 練習3-3\n",
        "\n",
        " 3行目にコードにBulk2_SNPindexの移動平均を調べるコードを追記し、グラフに描いてください。"
      ]
    },
    {
      "cell_type": "code",
      "execution_count": null,
      "metadata": {
        "id": "R2z2vxsx9mJY"
      },
      "outputs": [],
      "source": [
        "## SNPポジション、Bulk2_SNPindexの移動平均\n",
        "win_x  = sub[\"POS\"].rolling(20).mean() #POS列（SNP 20個分）の移動平均\n",
        "win_y2 =                               #Bulk2_SNPindex列（SNP 20個分）の移動平均\n",
        "\n",
        "## 移動平均をグラフ化する\n",
        "import matplotlib.pyplot as plt\n",
        "plt.figure(figsize=[12, 3])               #　グラフフィールド（サイズ指定）\n",
        "plt.scatter(x, y2)                       # 散布図\n",
        "plt.plot(win_x, win_y2, color=\"orange\") # 移動平均の線グラフ\n",
        "plt.xlabel(\"Position (x 10 Mbp)\")         # x軸ラベル\n",
        "plt.ylabel(\"SNP index of Bulk1\")         # y軸ラベル\n",
        "plt.show()                               # 表示"
      ]
    },
    {
      "cell_type": "markdown",
      "metadata": {
        "id": "TSrnSU4j9i4f"
      },
      "source": [
        "#### 解答例"
      ]
    },
    {
      "cell_type": "code",
      "execution_count": null,
      "metadata": {
        "id": "_13uVq7W1iyE"
      },
      "outputs": [],
      "source": [
        "## Bulk2_SNPindexの移動平均\n",
        "win_x  = sub[\"POS\"].rolling(20).mean()             #POS列（SNP 20個分）の移動平均\n",
        "win_y2 = sub[\"Bulk2_SNPindex\"].rolling(20).mean()  #Bulk2_SNPindex列（SNP 20個分）の移動平均\n",
        "\n",
        "## 移動平均をグラフ化する\n",
        "import matplotlib.pyplot as plt\n",
        "plt.figure(figsize=[12, 3])               #　グラフフィールド（サイズ指定）\n",
        "plt.scatter(x, y2)                       # 散布図\n",
        "plt.plot(win_x, win_y2, color=\"orange\") # 移動平均の線グラフ\n",
        "plt.xlabel(\"Position (x 10 Mbp)\")         # x軸ラベル\n",
        "plt.ylabel(\"SNP index of Bulk1\")         # y軸ラベル\n",
        "plt.show()                               # 表示"
      ]
    },
    {
      "cell_type": "markdown",
      "metadata": {
        "id": "o4mDNRhznB7K"
      },
      "source": [
        "## 3-4. 原因遺伝子の位置を探す\n",
        "\n",
        "　イネには第1〜12染色体があります。次の二つのコードセルのプログラムを実行すると、任意の（二つ目のコードセルの`chrom`で指定した）染色体のSNP-indexをグラフ描画できます。それぞれの染色体のSNP-indexグラフを調べて、原因遺伝子がありそうな場所を探してください。\n",
        "\n",
        "解析しているデータ：\n",
        "- 参照配列: 罹病性イネ品種のゲノム配列\n",
        "- 分離集団のバルク構成:\n",
        "  - Bulk1: 抵抗性個体を集めたグループ\n",
        "  - Bulk2: 罹病性個体を集めたグループ\n",
        "- SNP-index: 抵抗性品種由来のSNPアリルの割合\n"
      ]
    },
    {
      "cell_type": "code",
      "execution_count": null,
      "metadata": {
        "id": "FgeDGFuhMPyM"
      },
      "outputs": [],
      "source": [
        "## グラフ描画用の関数\n",
        "import matplotlib.pyplot as plt\n",
        "import matplotlib as mpl\n",
        "import seaborn as sns\n",
        "mpl.style.use('seaborn-darkgrid')\n",
        "def draw_QTLseq(data, window_size=20, fs=20, lw=4, a=0.3):\n",
        "    ## グラフ用データ\n",
        "    x = data[\"pos\"]/1000000  # x座標データ: POS (x Mbp)\n",
        "    y1= data[\"bulk1\"]  # サブグラフ1のy座標データ: Bulk1 SNP-index\n",
        "    y2= data[\"bulk2\"]  # サブグラフ2のy座標データ: Bulk2 SNP-index\n",
        "    y3= data[\"delta\"]  # サブグラフ3のy座標データ: delta SNP-index\n",
        "    win_x = x.rolling(window_size).mean()   # POS移動平均\n",
        "    win_y1= y1.rolling(window_size).mean() # Bulk1 SNP-index移動平均\n",
        "    win_y2= y2.rolling(window_size).mean() # Bulk2 SNP-index移動平均\n",
        "    win_y3= y3.rolling(window_size).mean() # delta SNP-index移動平均\n",
        "\n",
        "    ## グラフ設定\n",
        "    fig = plt.figure(figsize=[12, 8])\n",
        "    ax1 = fig.add_subplot(3,1,1) # サブグラフ1\n",
        "    ax2 = fig.add_subplot(3,1,2) # サブグラフ2\n",
        "    ax3 = fig.add_subplot(3,1,3) # サブグラフ3\n",
        "    ## サブグラフ1（Bulk1のグラフ）\n",
        "    ax1.scatter(x, y1, c=\"#636EFA\", alpha=a)\n",
        "    ax1.plot(win_x, win_y1, c=\"#EF553B\", linewidth=lw)\n",
        "    ax1.set_ylabel(\"SNP-index\\nof Bulk1\", fontsize=fs)\n",
        "    ax1.tick_params(labelsize=fs)\n",
        "    ax1.set_ylim([-0.1, 1.1])\n",
        "    ## サブグラフ2（Bulk2のグラフ）\n",
        "    ax2.scatter(x, y2, c=\"#00CC96\", alpha=a)\n",
        "    ax2.plot(win_x, win_y2, c=\"#AB63FA\", linewidth=lw)\n",
        "    ax2.set_ylabel(\"SNP-index\\nof Bulk2\", fontsize=fs)\n",
        "    ax2.tick_params(labelsize = fs)\n",
        "    ax2.set_ylim([-0.1, 1.1])\n",
        "    ## サブグラフ3（delta-indexのグラフ）\n",
        "    ax3.scatter(x, y3, c=\"#FFA15A\", alpha=a)\n",
        "    ax3.plot(win_x, win_y3, c=\"#19D3F3\", linewidth=lw)\n",
        "    ax3.set_xlabel(\"Position (x Mbp)\", fontsize=fs)\n",
        "    ax3.set_ylabel(\"delta of\\nSNP-index\", fontsize=fs)\n",
        "    ax3.tick_params(labelsize = fs)\n",
        "    ax3.set_ylim([-1.1, 1.1])\n",
        "    plt.tight_layout()\n",
        "    plt.show()"
      ]
    },
    {
      "cell_type": "code",
      "execution_count": null,
      "metadata": {
        "id": "va61ZQwaB6a5"
      },
      "outputs": [],
      "source": [
        "## 表示する染色体番号（1〜12の数字を入力可能）\n",
        "chrom = 1\n",
        "\n",
        "## ---------------------------\n",
        "## データセット\n",
        "import pandas as pd\n",
        "df2  = pd.read_csv(\"rice_qtlseq_dataset.csv\", sep=\",\", header=0)\n",
        "sub2 = df[df[\"CHROM\"]==\"chr%02d\" % chrom]\n",
        "## SNP-index算出\n",
        "position     = sub2[\"POS\"]\n",
        "bulk1_index = sub2[\"Bulk1_ALT\"] / (sub2[\"Bulk1_REF\"] + sub2[\"Bulk1_ALT\"])\n",
        "bulk2_index = sub2[\"Bulk2_ALT\"] / (sub2[\"Bulk2_REF\"] + sub2[\"Bulk2_ALT\"])\n",
        "delta_index = bulk1_index - bulk2_index\n",
        "data = {\"pos\": position, \"bulk1\": bulk1_index, \"bulk2\": bulk2_index, \"delta\": delta_index}\n",
        "## グラフ描画\n",
        "draw_QTLseq(data)"
      ]
    },
    {
      "cell_type": "markdown",
      "metadata": {
        "id": "XDk12VEAsvLs"
      },
      "source": [
        "### 原因遺伝子座"
      ]
    },
    {
      "cell_type": "markdown",
      "metadata": {
        "id": "r4ItHw2wenR8"
      },
      "source": [
        "　第6染色体の3~5Mbのあたりに、バルク間で平均SNP-indexに大きな差がみられます。抵抗性-罹病性を決定する遺伝子は、そのゲノム領域にある可能性が高そうです。"
      ]
    },
    {
      "cell_type": "markdown",
      "metadata": {
        "id": "6pA5YuV1Z6m1"
      },
      "source": [
        "---\n",
        "# まとめ\n",
        "\n",
        "　このテキストでは、Pythonを使って、QTL-seq解析をおこないました。\n",
        "\n",
        "このテキストで勉強した内容：\n",
        "- PythonでSNPデータセットを読み込む\n",
        "- SNPアリルの個数からSNP-indexを算出する\n",
        "- SNP-indexの散布図を描く\n",
        "- SNP-indexの移動平均の折れ線グラフを描き、原因遺伝子の位置を探索する\n",
        "\n",
        "　ここ三回の実習をとおして、ゲノム解析の基礎（ゲノムアセンブル、リードアライメント、SNP検出）を勉強してきました。また、実際に使われているゲノム解析の一例として、QTL-seq解析も勉強しました。\n",
        "\n",
        "　次回以降、**Genome-Wide Association Study (GWAS)** や **Genomic prediction** といったゲノム解析を勉強していきます。"
      ]
    },
    {
      "cell_type": "markdown",
      "metadata": {
        "id": "e7If5WFUaAWa"
      },
      "source": [
        "\n",
        "<div align=\"right\"><a href=\"https://github.com/CropEvol/lecture#section2\">実習表ページに戻る</a></div>"
      ]
    }
  ],
  "metadata": {
    "colab": {
      "collapsed_sections": [
        "P468rRbWm7Z8",
        "vPyIC7gro3Wr",
        "q5dhelFisSqo",
        "3shoqF8iyYP0",
        "TSrnSU4j9i4f",
        "XDk12VEAsvLs"
      ],
      "provenance": [],
      "toc_visible": true
    },
    "kernelspec": {
      "display_name": "Python 3",
      "name": "python3"
    },
    "language_info": {
      "name": "python"
    }
  },
  "nbformat": 4,
  "nbformat_minor": 0
}
