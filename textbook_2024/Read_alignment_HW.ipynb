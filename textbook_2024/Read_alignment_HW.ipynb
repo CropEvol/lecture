{
  "cells": [
    {
      "cell_type": "markdown",
      "metadata": {
        "id": "xrEcu23sU8EV"
      },
      "source": [
        "<img src=\"https://github.com/CropEvol/lecture/blob/master/textbook_2024/images/logo.png?raw=true\" alt=\"2023年度ゲノム情報解析入門\" height=\"100px\" align=\"middle\">\n",
        "\n",
        "<div align=\"right\"><a href=\"https://github.com/CropEvol/lecture#section2\">実習表ページに戻る</a></div>"
      ]
    },
    {
      "cell_type": "markdown",
      "metadata": {
        "id": "l4GqxbsKdtM-"
      },
      "source": [
        "11月5日の課題\n",
        "リードアライメント、SNP検出\n",
        "---\n",
        "\n",
        "PandA課題回答フォームに課題1、課題2に対する回答をご記入ください（共有リンクの発行は不要です）。\n",
        "\n",
        "\n",
        "PandA課題ページ: https://panda.ecs.kyoto-u.ac.jp/portal/directtool/e9c6f0e3-d857-460d-b477-c30898c69275/"
      ]
    },
    {
      "cell_type": "markdown",
      "metadata": {
        "id": "AoBp-f3a6TwC"
      },
      "source": [
        "### サンプルデータとソフトウェアのダウンロード\n",
        "\n",
        "　課題を取り組む前に、次のコードセルを実行して、サンプルデータとソフトウェアをダウンロードしてください。"
      ]
    },
    {
      "cell_type": "code",
      "execution_count": null,
      "metadata": {
        "id": "Qe8gHc0-6XbD"
      },
      "outputs": [],
      "source": [
        "%%bash\n",
        "## サンプルファイルのダウンロード\n",
        "wget -q -O 'alignment_dataset.sh' https://raw.githubusercontent.com/CropEvol/lecture/master/textbook_2024/scripts/alignment_dataset_hw.sh\n",
        "bash alignment_dataset.sh\n",
        "## 表示\n",
        "echo 'Downloaded dataset: genome/ reads/ bam/ ngs/'\n",
        "\n",
        "## ソフトウェアのインストール\n",
        "wget -q -O 'alignment_softwares.sh' https://raw.githubusercontent.com/CropEvol/lecture/master/textbook_2024/scripts/alignment_softwares_hw.sh\n",
        "bash alignment_softwares.sh\n",
        "## 確認\n",
        "ls tools/"
      ]
    },
    {
      "cell_type": "markdown",
      "metadata": {
        "id": "6AxjDxFMXYJD"
      },
      "source": [
        "## 課題1. 形質と連関しているSNP箇所を探す\n",
        "\n",
        "　コードセルの三行目にある`F2_S_bulk`と`F2_L_bulk`の右辺に、個体番号を追記してコードを実行し、形質と連関してそうなSNP箇所を探してください。\n",
        "\n",
        "　実行結果をもとに以下の回答してください。\n",
        "\n",
        "1-1) 次のような形質データのとき、形質と連関してそうなSNP箇所はどこでしょうか？\n",
        "\n",
        "- F<small>2</small>各個体の形質: [形質データ表](https://github.com/CropEvol/lecture/blob/master/textbook_2024/dataset/f2_phenotypes_hw.pdf)\n",
        "- 品種Aの形質: Short\n",
        "- 品種Bの形質: Long\n",
        "- F<small>1</small>個体の形質: Long\n",
        "\n",
        "1-2) 形質と連関してそうなSNP箇所を見つけられる場合、または、見つけられそうにない場合、その理由を回答してください。\n"
      ]
    },
    {
      "cell_type": "code",
      "execution_count": null,
      "metadata": {
        "id": "KzDzcPLdaF79"
      },
      "outputs": [],
      "source": [
        "## 品種Aと同じShort形質をもつF2個体番号を半角数字で入力してください。\n",
        "## 注意： 数字と数字の間には半角のカンマ(,)が必要です。\n",
        "F2_S_bulk = []\n",
        "\n",
        "## 準備: ライブラリ\n",
        "import igv_notebook\n",
        "from igv_prep import RefTrack, AnnotationTrack, BamTrack\n",
        "bam_common_info = { \"displayMode\":\"SQUISHED\", \"viewAsPairs\":True, \"height\":100, \"showCoverage\":False }\n",
        "igv_notebook.init()\n",
        "## 準備: Reference info\n",
        "ref = RefTrack({ \"fastaPath\":\"genome/CultivarA.fa\", \"indexPath\":\"genome/CultivarA.fa.fai\", \"id\":\"CultivarA\" })\n",
        "## 準備: Reads info\n",
        "Info = [BamTrack({ **{\"name\":\"CultivarA\", \"path\":\"bam/CultivarA.bam\", \"indexPath\":\"bam/CultivarA.bam.bai\"}, **bam_common_info }),\n",
        "        BamTrack({ **{\"name\":\"CultivarB\", \"path\":\"bam/CultivarB.bam\", \"indexPath\":\"bam/CultivarB.bam.bai\"}, **bam_common_info }),]\n",
        "for f in sorted(list(set(F2_S_bulk))):\n",
        "    Info += [ BamTrack({ **{\"name\":\"F2_{:03}\".format(f),\n",
        "                          \"path\":\"bam/F2_{:03}.bam\".format(f),\n",
        "                          \"indexPath\":\"bam/F2_{:03}.bam.bai\".format(f)}, **bam_common_info }) ]\n",
        "## IGV表示\n",
        "b = igv_notebook.Browser(ref)\n",
        "for i in Info: b.load_track(i)"
      ]
    },
    {
      "cell_type": "code",
      "execution_count": null,
      "metadata": {
        "id": "OEdecSTNZQ4d"
      },
      "outputs": [],
      "source": [
        "## 品種Bと同じLong形質をもつF2個体番号を半角数字で入力してください。\n",
        "## 注意： 数字と数字の間には半角のカンマ(,)が必要です。\n",
        "F2_L_bulk = []\n",
        "\n",
        "## 準備: ライブラリ\n",
        "import igv_notebook\n",
        "from igv_prep import RefTrack, AnnotationTrack, BamTrack\n",
        "bam_common_info = { \"displayMode\":\"SQUISHED\", \"viewAsPairs\":True, \"height\":100, \"showCoverage\":False }\n",
        "igv_notebook.init()\n",
        "## 準備: Reference info\n",
        "ref = RefTrack({ \"fastaPath\":\"genome/CultivarA.fa\", \"indexPath\":\"genome/CultivarA.fa.fai\", \"id\":\"CultivarA\" })\n",
        "## 準備: Reads info\n",
        "Info = [BamTrack({ **{\"name\":\"CultivarA\", \"path\":\"bam/CultivarA.bam\", \"indexPath\":\"bam/CultivarA.bam.bai\"}, **bam_common_info }),\n",
        "        BamTrack({ **{\"name\":\"CultivarB\", \"path\":\"bam/CultivarB.bam\", \"indexPath\":\"bam/CultivarB.bam.bai\"}, **bam_common_info }),]\n",
        "for f in sorted(list(set(F2_L_bulk))):\n",
        "    Info += [ BamTrack({ **{\"name\":\"F2_{:03}\".format(f),\n",
        "                          \"path\":\"bam/F2_{:03}.bam\".format(f),\n",
        "                          \"indexPath\":\"bam/F2_{:03}.bam.bai\".format(f)}, **bam_common_info }) ]\n",
        "## IGV表示\n",
        "b = igv_notebook.Browser(ref)\n",
        "for i in Info: b.load_track(i)"
      ]
    },
    {
      "cell_type": "markdown",
      "metadata": {
        "id": "dcFaIhenXS3L"
      },
      "source": [
        "## 課題2. バルクシーケンシング\n",
        "\n",
        "　バルクシーケンシングの利点と欠点は何でしょうか？\n"
      ]
    }
  ],
  "metadata": {
    "colab": {
      "provenance": [],
      "toc_visible": true
    },
    "kernelspec": {
      "display_name": "Python 3",
      "name": "python3"
    },
    "language_info": {
      "name": "python"
    }
  },
  "nbformat": 4,
  "nbformat_minor": 0
}