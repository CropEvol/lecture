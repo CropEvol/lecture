{
 "cells": [
  {
   "cell_type": "markdown",
   "metadata": {
    "id": "xrEcu23sU8EV"
   },
   "source": [
    "<img src=\"https://github.com/CropEvol/lecture/blob/master/textbook_2024/images/logo.png?raw=true\" alt=\"2023年度ゲノム情報解析入門\" height=\"100px\" align=\"middle\">\n",
    "\n",
    "<div align=\"right\"><a href=\"https://github.com/CropEvol/lecture#section2\">実習表ページに戻る</a></div>"
   ]
  },
  {
   "cell_type": "markdown",
   "metadata": {
    "id": "p1APgMWdU_aL"
   },
   "source": [
    "RNA-seqを用いた解析: Transcriptome解析\n",
    "---"
   ]
  },
  {
   "cell_type": "markdown",
   "metadata": {
    "id": "estCp8V2YvX3"
   },
   "source": [
    "　今回から、ゲノム情報解析の中でも、RNA-seqを用いた解析を勉強・体験していきます。\n",
    "\n",
    "RNA-seq解析シリーズ:\n",
    "- RNA-seqとは？\n",
    "- 遺伝子アノテーション\n",
    "- 発現差異解析\n",
    "- GO解析\n",
    "- 遺伝子ネットワーク解析\n",
    "- eQTL解析\n",
    "\n",
    "等を扱います。"
   ]
  },
  {
   "cell_type": "markdown",
   "metadata": {
    "id": "XB5_V08EYmVk"
   },
   "source": [
    "# 今回の勉強内容\n",
    "　このテキストでは、RNA-seqを用いた基本的な解析について勉強します。\n",
    "\n",
    "　内容は以下の通りです。\n",
    "\n",
    "1. RNA-seqとは？\n",
    "  1. mRNAをシーケンスする\n",
    "  1. DNA-seqとRNA-seqの違い\n",
    "1. 遺伝子のアノテーション\n",
    "1. 発現解析\n",
    "  1. 発現量の取得\n",
    "  1. 正規化\n",
    "  1. クラスタリング\n",
    "  1. DEGの検出\n",
    "  1. GO解析"
   ]
  },
  {
   "cell_type": "markdown",
   "metadata": {
    "id": "Xm9sLU6IobxC"
   },
   "source": [
    "---\n",
    "\n",
    "　一度次のコードセルを実行して、実習に必要なライブラリのインストールや、プログラム、サンプルファイルのダウンロードしてください。"
   ]
  },
  {
   "cell_type": "code",
   "execution_count": null,
   "metadata": {
    "id": "DamuI8gYU3Jy"
   },
   "outputs": [],
   "source": [
    "#########################\n",
    "##  実習の前に実行してください。 ##\n",
    "#########################\n",
    "%%bash\n",
    "## ソフトウェアのインストール\n",
    "pip install -q igv-notebook==0.3.1\n",
    "pip list | grep -e \"igv-notebook\"\n",
    "## サンプルファイルのダウンロード\n",
    "wget -q https://github.com/CropEvol/lecture/raw/master/textbook_2022/scripts/igv_prep.py -O igv_prep.py\n",
    "wget -q https://github.com/CropEvol/lecture/raw/master/textbook_2022/datasets/RNAseq_demo.tar.gz -O - | tar -zxf - 2>/dev/null"
   ]
  },
  {
   "cell_type": "markdown",
   "metadata": {
    "id": "TXnh506n5yQX"
   },
   "source": [
    "# 1. RNA-seqとは？"
   ]
  },
  {
   "cell_type": "markdown",
   "metadata": {
    "id": "ndSLXA-l2TXX"
   },
   "source": [
    "## mRNAをシーケンスする\n",
    "\n",
    "これまで学んできた技術は、ある生物のDNA配列をシーケンスすることで、\n",
    "\n",
    "生物のゲノム配列を読み取ったり、集団内での配列の違いをSNP等の形で検出することが出来る、という話でした。\n",
    "\n",
    "また、この様なSNPの遺伝子型と形質値とを結び付けることで、QTLを見つけてきたり、形質値を予測したりすることが出来ました。\n",
    "\n",
    "<br>ここからはRNAを対象としたシーケンス技術について学んでいきます。\n",
    "\n",
    "遺伝子は、mRNAに転写された後、アミノ酸配列に翻訳され、アミノ酸配列が立体構造を取りタンパク質となることで何らかの機能が働きます。(セントラルドグマ)\n",
    "\n",
    "<img src=\"https://github.com/CropEvol/lecture/blob/master/textbook_2022/images/central_dogma.png?raw=true\" alt=\"central_dogma\" height=\"280px\" align=\"middle\">\n",
    "\n",
    "DNA配列を読み取るのがこれまで扱ってきたDNAシーケンスでしたが、RNAシーケンス(RNA-seq)では、転写されたmRNAを読み取ります。\n",
    "\n",
    "RNA-seqによって、あるサンプルにおいて、どの遺伝子がどれだけ転写されているのか(遺伝子の発現量)、という情報を得ることが出来ます。\n",
    "\n",
    "例えば、ある処理を行ったサンプルと行わなかったサンプルのRNA-seqを比較することで、処理によってどんな遺伝子が発現したのかが分かったりします。\n",
    "\n",
    "<img src=\"https://github.com/CropEvol/lecture/blob/master/textbook_2022/images/RNAseq_compare.png?raw=true\" alt=\"RNAseq_compare\" height=\"350px\" align=\"middle\">"
   ]
  },
  {
   "cell_type": "markdown",
   "metadata": {
    "id": "tyjKnOy15uxI"
   },
   "source": [
    "## DNA-seqとRNA-seqの違い\n",
    "\n",
    "では実際にサンプルデータを使って、DNAシーケンスとRNAシーケンスの違いを見てみましょう。\n",
    "\n",
    "まずは最初の頃にやったDNAシーケンスのマッピング結果です。"
   ]
  },
  {
   "cell_type": "code",
   "execution_count": null,
   "metadata": {
    "id": "e-fHFGEBembE"
   },
   "outputs": [],
   "source": [
    "## DNAseqのアライメント結果を見る\n",
    "## 準備: ライブラリ\n",
    "import igv_notebook\n",
    "from igv_prep import RefTrack, AnnotationTrack, BamTrack\n",
    "igv_notebook.init()\n",
    "## 準備: Reference info\n",
    "ref = RefTrack({ \"fastaPath\":\"RNAseq_demo/CultivarA.fa\", \"indexPath\":\"RNAseq_demo/CultivarA.fa.fai\", \"id\":\"CultivarA\" })\n",
    "## 準備: Reads info\n",
    "A = BamTrack({ \"name\":\"CultivarA\", \"path\":\"RNAseq_demo/CultivarA.bam\", \"indexPath\":\"RNAseq_demo/CultivarA.bam.bai\", \"viewAsPairs\":True })\n",
    "## IGV表示\n",
    "b = igv_notebook.Browser(ref)\n",
    "# gff file表示\n",
    "b.load_track({\"name\": \"Annotations\", \"type\": \"annotation\", \"format\": \"gff3\", \"displayMode\": \"EXPANDED\", \"path\": \"RNAseq_demo/CultivarA.gff3\"})\n",
    "b.load_track(A)"
   ]
  },
  {
   "cell_type": "markdown",
   "metadata": {
    "id": "q4n5SaXw8D45"
   },
   "source": [
    "続いて、RNA-seqのマッピング結果です。"
   ]
  },
  {
   "cell_type": "code",
   "execution_count": null,
   "metadata": {
    "id": "w0vAqLuEemep"
   },
   "outputs": [],
   "source": [
    "## RNAseqのアライメント結果を見る\n",
    "## 準備: ライブラリ\n",
    "import igv_notebook\n",
    "from igv_prep import RefTrack, AnnotationTrack, BamTrack\n",
    "igv_notebook.init()\n",
    "## 準備: Reference info\n",
    "ref = RefTrack({ \"fastaPath\":\"RNAseq_demo/CultivarA.fa\", \"indexPath\":\"RNAseq_demo/CultivarA.fa.fai\", \"id\":\"CultivarA\" })\n",
    "## 準備: Reads info\n",
    "A = BamTrack({ \"name\":\"CultivarA\", \"path\":\"RNAseq_demo/CultivarA_RNAseq.sort.bam\", \"indexPath\":\"RNAseq_demo/CultivarA_RNAseq.sort.bam.bai\", \"viewAsPairs\":True })\n",
    "## IGV表示\n",
    "b = igv_notebook.Browser(ref)\n",
    "## gff 表示\n",
    "b.load_track({\"name\": \"Annotations\", \"type\": \"annotation\", \"format\": \"gff3\", \"displayMode\": \"EXPANDED\", \"path\": \"RNAseq_demo/CultivarA.gff3\"})\n",
    "b.load_track(A)"
   ]
  },
  {
   "cell_type": "markdown",
   "metadata": {
    "id": "_D8SQ-PF8JFi"
   },
   "source": [
    "Annotationsという行に表示されているのが、遺伝子の位置情報になります。exon領域が四角で表示されています。\n",
    "\n",
    "この様にRNA-seqによって得られるリードをリファレンス配列にマッピングすると、exon領域のみに張り付いているのが分かるかと思います。\n",
    "\n",
    "生物学の復習になりますが、mRNAに転写される際には、余分なもの(intron)を切り離してexonのみを再度つなぎ合わされるスプライシングが行われます。\n",
    "\n",
    "<img src=\"https://github.com/CropEvol/lecture/blob/master/textbook_2022/images/splicing.png?raw=true\" alt=\"splicing\" height=\"250px\" align=\"middle\">\n",
    "\n",
    "RNA-seqでは、転写されたmRNAをシーケンスするので、このexon領域をシーケンスしていることになります。\n",
    "\n",
    "そのため、DNAシーケンスではゲノム全体からリードが得られるのに対して、RNA-seqで得られるリードは全てexon領域由来の物となります。"
   ]
  },
  {
   "cell_type": "markdown",
   "metadata": {
    "id": "ScrGAdKNHzKA"
   },
   "source": [
    "# 2. 遺伝子のアノテーション\n",
    "\n",
    "それではRNA-seqによって得られたシーケンス情報をどのように活用していくのかを見ていきたいと思います。"
   ]
  },
  {
   "cell_type": "markdown",
   "metadata": {
    "id": "oPPT8f3tiber"
   },
   "source": [
    "## 遺伝子のアノテーション情報とは？\n",
    "\n",
    "シーケンス技術の発展により、生き物のゲノム配列を解読することが可能となりました。\n",
    "\n",
    "ある生き物のゲノム配列の情報だけでは無く、どの染色体のどの位置に遺伝子がコードされているのか、その遺伝子がどんな機能を持っているのか/持っていると考えられるのかといった情報をアノテーション情報と言います。\n",
    "\n",
    "代表的な生物に関して、これまでの研究で解読されたゲノム配列やアノテーション情報がNCBI等を通じて公開されています。\n",
    "\n",
    "NCBIの各生き物のデータベースにアクセスする[Taxonomy](https://www.ncbi.nlm.nih.gov/datasets/taxonomy/tree/)を使って例を見てみましょう。\n",
    "\n",
    "好きな生き物の名前で検索してみて、もしその生き物のゲノム情報が登録されていれば「Reference genome」等の情報が表示されます。\n",
    "\n",
    "その場合、「See in Genome Data Viewer」から各ゲノム領域の情報を確認することが出来ます。\n",
    "\n",
    "<img src=\"https://github.com/CropEvol/lecture/blob/master/textbook_2023/images/NCBI_taxonomy.png?raw=true\" alt=\"NCBI_taxonomy\" height=\"500px\" align=\"middle\">\n",
    "\n",
    "この様なゲノムデータはNCBIに限らず、イネだと[RAP-DB](https://rapdb.dna.affrc.go.jp/)等の様に、その植物専用のゲノム情報サイトが作られて公開されている場合もあります。\n",
    "\n",
    "この様な遺伝子のアノテーション情報を決める際にRNA-seqが活用されます。"
   ]
  },
  {
   "cell_type": "markdown",
   "metadata": {
    "id": "_oaBjJrGgxur"
   },
   "source": [
    "## RNA-seqによるアノテーション\n",
    "\n",
    "DNA-seqによって全ゲノム配列がGATTATCCGCATCGGG...と分かっても、どのくらいの数の遺伝子がどこに位置しているのか、どの部分がexonなのか、intronなのか、といったより詳細なゲノム情報は全く分かりません。\n",
    "\n",
    "そのため、遺伝子の情報を知るためには、別の情報を用いて遺伝子のアノテーションを行う必要があります。\n",
    "\n",
    "<img src=\"https://github.com/CropEvol/lecture/blob/master/textbook_2022/images/unknown_reference.png?raw=true\" alt=\"unknown_reference\" height=\"300px\" align=\"middle\">\n",
    "\n",
    "この遺伝子のアノテーションにRNA-seqを活用することが出来ます。\n",
    "\n",
    "RNA-seqはexon領域のみをシーケンスすることになるので、マッピング結果を見て、RNA-seqによって得られたリードが張り付いた場所がexon領域だということが分かります。\n",
    "\n",
    "先ほど見たRNA-seqの例から、遺伝子のexon, intronの位置情報を表示せずに見てみましょう。"
   ]
  },
  {
   "cell_type": "code",
   "execution_count": null,
   "metadata": {
    "id": "rruQ9GeyDqHF"
   },
   "outputs": [],
   "source": [
    "## RNAseqのマッピング結果を見る\n",
    "import igv_notebook\n",
    "from igv_prep import RefTrack, AnnotationTrack, BamTrack\n",
    "igv_notebook.init()\n",
    "ref = RefTrack({ \"fastaPath\":\"RNAseq_demo/CultivarA.fa\", \"indexPath\":\"RNAseq_demo/CultivarA.fa.fai\", \"id\":\"CultivarA\" })\n",
    "A = BamTrack({ \"name\":\"CultivarA\", \"path\":\"RNAseq_demo/CultivarA_RNAseq.sort.bam\", \"indexPath\":\"RNAseq_demo/CultivarA_RNAseq.sort.bam.bai\", \"viewAsPairs\":True })\n",
    "b = igv_notebook.Browser(ref)\n",
    "b.load_track(A)"
   ]
  },
  {
   "cell_type": "markdown",
   "metadata": {
    "id": "AaLci8gHD2jp"
   },
   "source": [
    "この様な結果から、ゲノム上でどこからどこまでがexon領域で、どこがintron領域か、ということを調べます。\n",
    "\n",
    "また、exon領域にまたがるリードがいくつかあることが分かるかと思います。このことから、どのexonが結合して1つのmRNAとなっているか(どのexonが1つの遺伝子から来ているか)も調べることが出来ます。\n",
    "\n",
    "<img src=\"https://github.com/CropEvol/lecture/blob/master/textbook_2022/images/gene_annotation_RNAseq.png?raw=true\" alt=\"gene_annotation_RNAseq\" height=\"350px\" align=\"middle\">\n",
    "\n",
    "[StringTie](https://ccb.jhu.edu/software/stringtie/)等がこの様なアノテーションを行う有名なソフトになります。"
   ]
  },
  {
   "cell_type": "markdown",
   "metadata": {
    "id": "YEPevF2dLrwH"
   },
   "source": [
    "### RNA-seqのマッピングについて\n",
    "\n",
    "先ほどは触れませんでしたが、上述した様にRNA-seqのリードは複数のexon領域にまたがって張り付く場合があります。\n",
    "\n",
    "そのため、DNA-seqと異なり、RNA-seqのリードをリファレンス配列にマッピングする際には、intronのギャップを考慮してマッピングする必要があります。\n",
    "\n",
    "<img src=\"https://github.com/CropEvol/lecture/blob/master/textbook_2022/images/RNA_mapping.png?raw=true\" alt=\"RNA_mapping\" height=\"200px\" align=\"middle\">\n",
    "\n",
    "そこで、[Hisat2](http://daehwankimlab.github.io/hisat2/)や[STAR](https://github.com/alexdobin/STAR)などの、RNA-seqに適した(ギャップを考慮してくれる)マッピングツールを使う必要があります。"
   ]
  },
  {
   "cell_type": "markdown",
   "metadata": {
    "id": "2k46OWYIHra3"
   },
   "source": [
    "## 他の遺伝子アノテーション方法\n",
    "\n",
    "勿論、いつでも大量のRNA-seqデータが手に入るという訳ではないですし、その時RNAを抽出したサンプルで発現していない遺伝子のアノテーションは出来ません。\n",
    "\n",
    "(そのため通常は色んな箇所や処理を行った様々なサンプルからRNAを抽出し、アノテーションに使用します。)\n",
    "\n",
    "その様な場合には、配列情報をベースに遺伝子を予測する様な方法もあります。例えばAUG（メチオニン）が開始コドンであることは御存じだと思いますが、その様な情報を基に、どこからどこまでが遺伝子なのかを予測します。(ab initio gene predictionと呼んだりする。)\n",
    "\n",
    "[AUGUSTUS](https://bioinf.uni-greifswald.de/augustus/)や[BRAKER](https://github.com/Gaius-Augustus/BRAKER)などが有名なプログラムになります。\n",
    "\n",
    "また、近縁種で遺伝子がアノテーションされていた場合、それらの遺伝子情報を元に、同じような遺伝子が位置していないか探索するようなやり方もあります。(homology-based predictionと呼んだりする。)\n",
    "\n",
    "例えばイネは\"日本晴れ\"という系統が最も遺伝子のアノテーション情報が整備されています。(例: [RAP-DB](https://rapdb.dna.affrc.go.jp/jbrowse/?data=data%2Firgsp1))\n",
    "\n",
    "そこで、\"こしひかり\"という系統のゲノム配列を読み、遺伝子のアノテーションを行いたい時に、\n",
    "\n",
    "まずはこの日本晴れの遺伝子情報を元に、ある程度似ている遺伝子や保存されている遺伝子について、こしひかりの遺伝子予測を行う、といった形です。\n",
    "\n"
   ]
  },
  {
   "cell_type": "markdown",
   "metadata": {
    "id": "BTK3E1zmICyT"
   },
   "source": [
    "## gff/gtfファイルについて\n",
    "\n",
    "上述した様々なアプローチを用いて遺伝子のアノテーションを行った結果は、GFF3フォーマットやGTFフォーマットと呼ばれる形式で保存されている場合が多いです。\n",
    "\n",
    "(例)GFF3フォーマット\n",
    "\n",
    "<img src=\"https://github.com/CropEvol/lecture/blob/master/textbook_2022/images/gff3_sample.png?raw=true\" alt=\"gff3_sample\" height=\"300px\" align=\"middle\">\n",
    "\n",
    "代表的な植物種の遺伝子アノテーションの情報は[NCBI](https://www.ncbi.nlm.nih.gov/datasets/taxonomy/tree/)等のデータベースから入手することが出来ます。\n"
   ]
  },
  {
   "cell_type": "markdown",
   "metadata": {
    "id": "C94u90XrCdcG"
   },
   "source": [
    "# 3. 発現解析\n",
    "次はRNA-seqを用いた最もポピュラーな解析である、遺伝子の発現解析について学びます。\n",
    "\n",
    "先ほどの遺伝子のアノテーションについては、「ゲノム上のどこにRNA-seqのリードが張り付くか」を情報として扱っていましたが、次は「張り付くリードの量」を扱います。\n",
    "\n",
    "RNA-seqによって、サンプル中のRNAをシーケンシングし、張り付くリードの量を調べることで、転写物の発現量(特定の遺伝子がmRNAにどれだけ転写されているのか)を定量することができます。\n",
    "\n",
    "<img src=\"https://github.com/CropEvol/lecture/blob/master/textbook_2022/images/amount_transcripts.png?raw=true\" alt=\"amount_transcripts\" height=\"300px\" align=\"middle\">\n",
    "\n",
    "そのため、通常のサンプルと何らかの処理をしたサンプルに対して RNA-seqを行い、発現量を比較することで、\n",
    "\n",
    "処理の有無によって発現量の異なる転写物(遺伝子)を検出することができます。\n",
    "\n",
    "<img src=\"https://github.com/CropEvol/lecture/blob/master/textbook_2022/images/deg_transcripts.png?raw=true\" alt=\"deg_transcripts\" height=\"300px\" align=\"middle\">\n",
    "\n",
    "また、時系列サンプル(ある処理をして1h後、2h後、3h後...のそれぞれのサンプル等)に対して、RNA-seqを行うことで、\n",
    "\n",
    "時間に応じて特定の遺伝子の発現がどの様に遷移するのかを明らかにできます。\n",
    "\n",
    "<img src=\"https://github.com/CropEvol/lecture/blob/master/textbook_2022/images/time_transcripts.png?raw=true\" alt=\"time_transcripts\" height=\"300px\" align=\"middle\">\n",
    "\n",
    "このように、様々なサンプルを用いてRNA-seqを行い、発現量解析を行うことで、\n",
    "\n",
    "遺伝子の発現に対する**\"量的な\"**情報を得ることが出来ます。"
   ]
  },
  {
   "cell_type": "markdown",
   "metadata": {
    "id": "oVZGcdeHBWYt"
   },
   "source": [
    "## 発現量の取得\n",
    "\n",
    "それでは、どの様に各遺伝子の発現量が定量化されるかを見ていきます。\n",
    "\n",
    "基本的に生き物はその瞬間に必要な遺伝子をmRNAへ転写し、翻訳することでアミノ酸/タンパク質を合成している訳ですが、DNA配列が目で見えないのと同じように、今どんな遺伝子が発現している(/転写されているのか)も目では見えません。\n",
    "\n",
    "そこで、RNA-seqを行うと、転写されたmRNAを読み取った大体数百万程のリードを得ることが出来ます。これらのリードを、先ほど紹介したソフト等を利用してマッピングすることで、どのリードがどの転写物(遺伝子)に由来するのかを決めることが出来ます。\n",
    "\n",
    "<img src=\"https://github.com/CropEvol/lecture/blob/master/textbook_2023/images/where_RNA_reads.png?raw=true\" alt=\"where_RNA_reads\" height=\"500px\" align=\"middle\">\n",
    "\n",
    "こうして、あるサンプルから得られたRNA-seqの全てのリードをマッピングし、各転写物毎のリードを数えることで、そのサンプルにおいて、どの遺伝子がどのくらい転写されていたかを数値化することが出来ます。\n",
    "\n",
    "<img src=\"https://github.com/CropEvol/lecture/blob/master/textbook_2022/images/read_counts.png?raw=true\" alt=\"read_counts\" height=\"300px\" align=\"middle\">\n",
    "\n",
    "[featureCounts](https://subread.sourceforge.net/)や[StringTie](https://ccb.jhu.edu/software/stringtie/)等のプログラムが転写物毎のリードのカウントを行ってくれます。\n",
    "\n",
    "この様にして、あるサンプルの各遺伝子の発現量を定量化します。\n",
    "\n",
    "実際に得られるデータを見てみましょう。"
   ]
  },
  {
   "cell_type": "code",
   "execution_count": null,
   "metadata": {
    "id": "JrIcaWt8CglK"
   },
   "outputs": [],
   "source": [
    "#featureCountsの結果\n",
    "import pandas as pd\n",
    "\n",
    "counts = pd.read_csv(\"RNAseq_demo/feature_counts.txt\", sep=\"\\t\", comment=\"#\")\n",
    "counts"
   ]
  },
  {
   "cell_type": "markdown",
   "metadata": {
    "id": "Mwy80FwugqxR"
   },
   "source": [
    "## 正規化\n",
    "\n",
    "とはいえ、マッピングされたリードの数をそのまま発現量として扱うことは通常しません。\n",
    "\n",
    "なぜでしょうか？\n"
   ]
  },
  {
   "cell_type": "markdown",
   "metadata": {
    "id": "FCSIawowiJFM"
   },
   "source": [
    "### 正規化が必要な理由(サンプル内での比較の場合)\n",
    "\n",
    "正規化が必要な場合は大きく分けて２つあります。\n",
    "\n",
    "１つ目はサンプル内で複数の遺伝子の発現量を比較したい場合です。\n",
    "\n",
    "例えば、ある生物の発現量を調べて、遺伝子AとBどちらが強く発現しているのかを調べたいとします。\n",
    "\n",
    "このような場合、以下の様に単純にRNA-seqをして、マッピングされたリードの数を比べれば、どちらの遺伝子がよりよく転写されていたかを調べられそうです。\n",
    "\n",
    "<img src=\"https://github.com/CropEvol/lecture/blob/master/textbook_2022/images/reads_AvsB.png?raw=true\" alt=\"reads_AvsB\" height=\"300px\" align=\"middle\">\n",
    "\n",
    "しかし、このやり方では問題があります。\n",
    "\n",
    "RNA-seqで得られるリードは、転写されたmRNAの断片になります。そのため、mRNAの長さが長ければ、シーケンシングされる確率が高く、得られるリードの数が多くなる傾向があります。\n",
    "\n",
    "<img src=\"https://github.com/CropEvol/lecture/blob/master/textbook_2023/images/gene_length.png?raw=true\" alt=\"gene_length\" height=\"500px\" align=\"middle\">\n",
    "\n",
    "よって、サンプル内の遺伝子の発現量を比較する場合には、遺伝子長に応じた補正が必要になります。\n",
    "\n",
    "補正方法としては、FPKMやTPMと呼ばれる補正方法が代表的な手法になります。"
   ]
  },
  {
   "cell_type": "markdown",
   "metadata": {
    "id": "2KHV9W5oNkyr"
   },
   "source": [
    "### FPKM\n",
    "\n",
    "FPKM(fragments per kilobase of exon per million reads mapped)では、ある遺伝子 i の発現量を\n",
    "\n",
    "$FPKM_i = マッピングされたリード数 × 1000/転写産物の長さ × 1000000/全リード数$\n",
    "\n",
    "という式で計算します。これは、まず遺伝子 i にマッピングされたリードの数を遺伝子の長さに応じて補正(遺伝子の長さが全て1000bpとなる様に揃える)し、その後、全リード数が1000000リードとなる様に補正していることになります。"
   ]
  },
  {
   "cell_type": "markdown",
   "metadata": {
    "id": "sYMao2eCNnMI"
   },
   "source": [
    "### TPM\n",
    "\n",
    "TPM(transcripts per million)では、ある遺伝子 i の発現量を、\n",
    "\n",
    "1. 遺伝子 i の 1,000 bpあたりのリード数 $T_i$ を計算する。\n",
    "$T_i = マッピングされたリード数 × 1000/転写産物の長さ$\n",
    "\n",
    "2. 続いて、転写産物長による補正後の全リード数が100万となるように補正した値を発現量(TPM)として計算する。\n",
    "$TPM_i = T_i × 1000000/\\sum_{i}T_i$\n",
    "\n",
    "これで、リード数を転写産物（遺伝子）の長さが 1 kbp あたりのリード数に換算してから、総リード数を 100 万に揃える補正が行われます。\n",
    "\n",
    "FPKMとTPMどちらが良いのかという点ですが、基本的にはTPM を使用することが多いかと思います。\n",
    "\n",
    "先ほどのカウントデータ(replicate1のみ)をTPMに変換してみます。"
   ]
  },
  {
   "cell_type": "code",
   "execution_count": null,
   "metadata": {
    "id": "3gfQBnn3aahB"
   },
   "outputs": [],
   "source": [
    "# 得られたマッピング結果(リードカウント)と各遺伝子の長さ\n",
    "counts.loc[:, [\"Geneid\", \"Length\", \"replicate1\"]]"
   ]
  },
  {
   "cell_type": "markdown",
   "metadata": {
    "id": "lPhmb5JMalu1"
   },
   "source": [
    "まず、遺伝子が同じ長さ(=1000bp)と仮定したときのリード数$T$を求めます。\n",
    "\n",
    "$T_i = マッピングされたリード数 × 1000/転写産物の長さ$"
   ]
  },
  {
   "cell_type": "code",
   "execution_count": null,
   "metadata": {
    "id": "881ZeoI5ayiF"
   },
   "outputs": [],
   "source": [
    "# 遺伝子長で補正\n",
    "counts[\"T\"] = counts.loc[:, \"replicate1\"] * (1000/counts.Length)\n",
    "counts.loc[:, [\"Geneid\", \"Length\", \"replicate1\", \"T\"]]"
   ]
  },
  {
   "cell_type": "markdown",
   "metadata": {
    "id": "LDhy1KwFbE9o"
   },
   "source": [
    "そして、総リード数が100万となるように補正したTPMを求めます。"
   ]
  },
  {
   "cell_type": "code",
   "execution_count": null,
   "metadata": {
    "id": "WxS44ZOonI34"
   },
   "outputs": [],
   "source": [
    "# 総リード数で補正\n",
    "counts[\"TPM\"] = counts[\"T\"] * (1000000/sum(counts.T))\n",
    "counts.loc[:, [\"Geneid\", \"Length\", \"replicate1\", \"T\", \"TPM\"]]"
   ]
  },
  {
   "cell_type": "markdown",
   "metadata": {
    "id": "IsR6jd1MXZjl"
   },
   "source": [
    "### 正規化が必要な場合(サンプル間での比較の場合)\n",
    "\n",
    "２つ目の正規化が必要な場合としては、サンプル間で発現量を比較したい場合になります。\n",
    "\n",
    "先ほどTPMを計算する際に、「総リード数が100万となる様に補正」していましたが、その理由がこの2つ目です。\n",
    "\n",
    "例えば、通常時のサンプルと、ある処理を行ったサンプルの遺伝子の発現量を比較したいとします。\n",
    "\n",
    "<img src=\"https://github.com/CropEvol/lecture/blob/master/textbook_2022/images/reads_samples.png?raw=true\" alt=\"reads_samples\" height=\"450px\" align=\"middle\">\n",
    "\n",
    "この場合、それぞれのサンプルでRNA-seqを行い、マッピング結果を元に比較することになりますが、この時もそのままのリード数を発現量としてはいけません。\n",
    "\n",
    "サンプル間の総リード数を補正する必要があるからですね。\n",
    "\n",
    "下に示すように、RNA-seqによって得られたリードの数が異なると、マッピングされるリードの数も異なってきます。\n",
    "\n",
    "そのため、同じくらいのリード数が得られた場合に、どのくらいリード数があるのか、といった形に補正する必要があります。\n",
    "\n",
    "<img src=\"https://github.com/CropEvol/lecture/blob/master/textbook_2022/images/reads_samples2.png?raw=true\" alt=\"reads_samples2\" height=\"450px\" align=\"middle\">\n",
    "\n",
    "最も簡単な補正方法は、CPM(count per million)と呼ばれる、全リード数が100万になる様に揃える補正方法になります。\n",
    "\n",
    "<img src=\"https://github.com/CropEvol/lecture/blob/master/textbook_2022/images/CPM.png?raw=true\" alt=\"CPM\" height=\"150px\" align=\"middle\">\n",
    "\n",
    "ただし、実際にサンプル間の比較をする際には、TMM正規化やRLE正規化と呼ばれるCPMを更に補正した方法が使われることが多いです。\n",
    "\n",
    "これらの補正方法は、ハウスキーピング遺伝子と呼ばれる、常に一定の発現量を示すとされている遺伝子群に着目した手法です。ハウスキーピング遺伝子の発現量がサンプル間で揃うように、補正を行う形になります。\n",
    "\n",
    "<img src=\"https://github.com/CropEvol/lecture/blob/master/textbook_2022/images/TMM.png?raw=true\" alt=\"TMM\" height=\"160px\" align=\"middle\">\n",
    "\n",
    "これらの発現量の補正にはRの`edgeR`や`DESeq`、`DEseq2`といったパッケージを活用することが多いです。"
   ]
  },
  {
   "cell_type": "markdown",
   "metadata": {
    "id": "bRuZEl9qciw6"
   },
   "source": [
    "この様な形で、元々のリード数から補正されたリード数(発現量)を計算して、遺伝子間の比較を行います。"
   ]
  },
  {
   "cell_type": "markdown",
   "metadata": {
    "id": "IoUsrdbRduuA"
   },
   "source": [
    "### サンプル間の比較\n",
    "\n",
    "次にサンプル間で発現量の比較をする場合を見てみます。主に発現解析を行う目的はこちらになります。\n",
    "\n",
    "以下に示したデータは、イネに水もしくは病原菌を接種して２４時間後の遺伝子の発現量をTMM値として表示しています。\n",
    "\n",
    "<img src=\"https://github.com/CropEvol/lecture/blob/master/textbook_2022/images/DEG_data.png?raw=true\" alt=\"DEG_data\" height=\"320px\" align=\"middle\">"
   ]
  },
  {
   "cell_type": "code",
   "execution_count": null,
   "metadata": {
    "id": "YfQmMPatnMFy"
   },
   "outputs": [],
   "source": [
    "# サンプル間での遺伝子発現比較(TMM)\n",
    "TMM = pd.read_csv(\"RNAseq_demo/TMM.txt\", sep=\"\\t\")\n",
    "TMM"
   ]
  },
  {
   "cell_type": "markdown",
   "metadata": {
    "id": "6DbdyPGfdLd9"
   },
   "source": [
    "### DEGの検出\n",
    "\n",
    "サンプル間で遺伝子の発現量を比較する場合、発現量が異なる遺伝子DEG(Differentially expressed gene)を検出することが大きな目的の一つになります。\n",
    "\n",
    "<img src=\"https://github.com/CropEvol/lecture/blob/master/textbook_2022/images/DEG.png?raw=true\" alt=\"DEG\" height=\"400px\" align=\"middle\">\n",
    "\n",
    "通常、DEGを検出するためには、各サンプルのRNA-seqデータの反復を取った上で、サンプル間で遺伝子毎に発現量に差があるかの検定を行う必要があります。\n",
    "\n",
    "詳細は省きますが、尤度比検定(edgeRやDESeq2で実装)やWald検定(DESeq2で実装)などが主に用いられます。\n",
    "\n",
    "また、当然ですが遺伝子の数だけ検定を行う形になるので、多重検定の補正を行う必要もあります(edgeRやDESeqで実装)。"
   ]
  },
  {
   "cell_type": "code",
   "execution_count": null,
   "metadata": {
    "id": "4ASYq9I_jS-X"
   },
   "outputs": [],
   "source": [
    "# 検定結果(DESeq2の場合)\n",
    "DESeq2 = pd.read_csv(\"RNAseq_demo/DESeq2.txt\", sep=\"\\t\", index_col=0)\n",
    "DESeq2"
   ]
  },
  {
   "cell_type": "markdown",
   "metadata": {
    "id": "DQdDD6RefkOe"
   },
   "source": [
    "これは全ての遺伝子に対して検定を行った結果なので、\n",
    "\n",
    "この中から有意だったもの(adjusted p値 = q値が0.05未満、かつ\tlog2FoldChangeが1以上)を取り出すと…"
   ]
  },
  {
   "cell_type": "code",
   "execution_count": null,
   "metadata": {
    "id": "svDMbK9qf30g"
   },
   "outputs": [],
   "source": [
    "DESeq2[(DESeq2.log2FoldChange.abs() >= 1) & (DESeq2.padj < 0.05)].sort_values(by=\"padj\")"
   ]
  },
  {
   "cell_type": "markdown",
   "metadata": {
    "id": "hshTH7XmjWjq"
   },
   "source": [
    "今回の場合、Q値 < 0.05かつlog2FoldChangeの絶対値が1以上(２倍以上発現量が変わっている)を基準として1583個の遺伝子がDEGとして検出された形になります。\n",
    "\n",
    "例を見てみると"
   ]
  },
  {
   "cell_type": "code",
   "execution_count": null,
   "metadata": {
    "id": "0DsGPV8rNe8x"
   },
   "outputs": [],
   "source": [
    "TMM[TMM[\"Geneid\"] == \"Gene.12504\"]"
   ]
  },
  {
   "cell_type": "markdown",
   "metadata": {
    "id": "yjx-fcmWjiGN"
   },
   "source": [
    "### クラスタリング\n",
    "\n",
    "各サンプルの遺伝子全体の発現量の関係性を確かめる方法の一つにクラスタリングがあります。\n",
    "\n",
    "RNA-seqを行う際、処理を行ったサンプルや通常のサンプル、それらの反復など、複数のサンプルを用いる場合が多いですが、それらのデータを使って発現解析を行う前にクラスタリングを行うことで、きちんと処理の有無でデータがきれいに分かれているか等、各サンプルの特徴を確認することが出来ます。\n",
    "\n",
    "実験が上手くいっているかの確認をしたり、発現パターンがどのくらいあるのかを確認するためにクラスタリングを行うことも多いです。\n",
    "\n",
    "先ほどのイネに水もしくは病原菌を接種したRNA-seqデータを使ってクラスタリングしてみます。"
   ]
  },
  {
   "cell_type": "code",
   "execution_count": null,
   "metadata": {
    "id": "IDDNJKbdn8WS"
   },
   "outputs": [],
   "source": [
    "# DEGのクラスタリング結果\n",
    "import pandas as pd\n",
    "import numpy as np\n",
    "import seaborn as sns\n",
    "sns.set()\n",
    "import matplotlib.pyplot as plt\n",
    "\n",
    "DESeq2 = pd.read_csv(\"RNAseq_demo/DESeq2.txt\", sep=\"\\t\", index_col=0)\n",
    "DESeq2 = DESeq2[(DESeq2.log2FoldChange.abs() >= 1) & (DESeq2.padj < 0.05)].sort_values(by=\"padj\")\n",
    "\n",
    "TMM_values = pd.read_csv(\"RNAseq_demo/TMM.txt\", sep=\"\\t\", index_col=0)\n",
    "sns.clustermap(TMM_values.loc[DESeq2.index, :], vmin=0, vmax=100, cmap=\"mako\")"
   ]
  },
  {
   "cell_type": "markdown",
   "metadata": {
    "id": "oVSmBoAfoUs-"
   },
   "source": [
    "発現量データを元にしたクラスタリングの手法としては、階層的クラスタリング、k-means、主成分分析(PCA)など様々な手法があります。"
   ]
  },
  {
   "cell_type": "markdown",
   "metadata": {
    "id": "qYoB8U04omGy"
   },
   "source": [
    "### GO解析\n",
    "\n",
    "DEGを検出したり、クラスタリング解析を行う時に、一緒に行われることが多い解析がGO解析(Gene ontology解析)です。\n",
    "\n",
    "Gene ontology(GO)とは、遺伝子の生物的プロセス、細胞の要素や分子機能に関して、遺伝子に付けられるアノテーション情報です。遺伝子Xは防御応答に関与している、とか、遺伝子の転写制御に関わっている等の情報がGOとして予測されています。\n",
    "\n",
    "例:イネの`Os10g0549500`という遺伝子には\n",
    "* `GO:0004084(branched-chain-amino-acid transaminase activity)`\n",
    "* `GO:0052656(L-isoleucine transaminase activity)`\n",
    "* `GO:0044281(small molecule metabolic process)`\n",
    "* ...\n",
    "\n",
    "とGO の情報がつけられており、着目する遺伝子のGOを調べることで、その遺伝子の機能や働き等を推定できます。\n",
    "\n",
    "#### GO enrichment解析\n",
    "\n",
    "GO解析の中でも、GO enrichment解析は、ある遺伝子セットのGOを解析することで、特にその遺伝子セットによくみられる機能等を調べる解析になります。\n",
    "\n",
    "先ほどの例で言うと、DEG解析で病原菌を接種した際に発現量が上昇する遺伝子群を調べ、その遺伝子群に対しGO解析を行うことで発現量が上がった遺伝子群がどの様な機能を持つ遺伝子が多かったのか調べる、の様な形です。\n",
    "\n",
    "<img src=\"https://github.com/CropEvol/lecture/blob/master/textbook_2022/images/GO_enrichment2.png?raw=true\" alt=\"GO_enrichment2\" height=\"400px\" align=\"middle\">\n",
    "\n",
    "ただ、あくまでもそういう傾向がある、という情報しか分からないので、よく見かける解析ではありますが(個人的に)あんまり好きじゃない解析です。\n",
    "\n",
    "GO解析はRのパッケージ`GO.db`, `clusterProfiler`, `topGO`等で行うことが出来ます。\n",
    "\n",
    "また、ヒトやマウス、シロイヌナズナ、イネなどの代表的な生物であれば、web上でGO解析を行うことが出来るサイトもあります。\n",
    "\n",
    "[g:Profiler](https://biit.cs.ut.ee/gprofiler/gost)などが有名でしょうか。\n",
    "\n"
   ]
  },
  {
   "cell_type": "markdown",
   "metadata": {
    "id": "4Y-39OIbYqMA"
   },
   "source": [
    "# まとめ\n",
    "\n",
    "　今回、RNA-seqを活用した基本的な解析の流れや注意点をみてきました。\n",
    "RNA-seqを活用することで、遺伝子のアノテーションを行ったり、ある生物の遺伝子の発現を調べることが出来ます。\n",
    "\n",
    "特に、発現データを処理サンプルのデータと比較することによって、処理によって発現変動を起こす遺伝子群の特定をすることが出来ます。\n",
    "\n",
    "どの様な遺伝子がどのような時に発現しているのかを知るには重要なアプローチの１つです。\n",
    "\n",
    "次回からはRNA-seqを用いてネットワーク解析と呼ばれるものをやってみます。"
   ]
  },
  {
   "cell_type": "markdown",
   "metadata": {
    "id": "meLei4RHab5V"
   },
   "source": [
    "<div align=\"right\"><a href=\"https://github.com/CropEvol/lecture#section2\">実習表ページに戻る</a></div>"
   ]
  }
 ],
 "metadata": {
  "colab": {
   "provenance": [],
   "toc_visible": true
  },
  "kernelspec": {
   "display_name": "Python 3",
   "name": "python3"
  },
  "language_info": {
   "name": "python"
  }
 },
 "nbformat": 4,
 "nbformat_minor": 0
}
