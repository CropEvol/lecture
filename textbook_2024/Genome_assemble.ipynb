{
  "cells": [
    {
      "cell_type": "markdown",
      "metadata": {
        "id": "o0VV-_nAwkYP"
      },
      "source": [
        "<img src=\"https://github.com/CropEvol/lecture/blob/master/textbook_2024/images/logo.png?raw=true\" alt=\"2023年度ゲノム情報解析入門\" height=\"100px\" align=\"middle\">\n",
        "\n",
        "<div align=\"right\"><a href=\"https://github.com/CropEvol/lecture#section2\">実習表ページに戻る</a></div>"
      ]
    },
    {
      "cell_type": "markdown",
      "metadata": {
        "id": "vTTLw-ES7gnT"
      },
      "source": [
        "# ゲノムアセンブル\n",
        "　近年、シロイヌナズナやイネなどのようなモデル生物だけでなく、さまざまな生物でゲノム配列の整備（ゲノム解読）が進められています。解読されたゲノム配列は、進化学的研究や育種学的研究など、幅広い研究の基盤情報になります。\n",
        "\n",
        "　次世代シーケンシング（ショートリードシーケンシング）や第三世代シーケンシング（ロングリードシーケンシング）をおこなうと、元々のゲノム配列に由来する、短い塩基配列（**リード、Read**）を多数得られます。ゲノム解読は、多数の短い配列をつなぎ、元のゲノム配列を復元する試みです。その復元処理は**ゲノムアセンブル（Genome assemble）**と呼ばれています。\n",
        "\n",
        "<img src=\"https://github.com/CropEvol/lecture/blob/master/textbook_2023/images/Assemble_figs/assemble_overview.png?raw=true\" height=\"100px\" align=\"middle\">\n",
        "\n",
        "　今回の実習では、ショートリードやロングリードからゲノム配列を復元できるのかを見ていきます。また、ショートリードやロングリードの特徴についても勉強していきます。\n",
        "\n",
        "<img src=\"https://github.com/CropEvol/lecture/blob/master/textbook_2023/images/Assemble_figs/short_and_long_reads.png?raw=true\" height=\"100px\" align=\"middle\">\n",
        "\n"
      ]
    },
    {
      "cell_type": "markdown",
      "metadata": {
        "id": "hMsANIN_DuIy"
      },
      "source": [
        "### サンプルデータのダウンロード\n",
        "　この実習で使用するサンプルデータをダウンロードします。\n",
        "\n",
        "　このテキストでは、約40 kbのゲノム配列から仮想的に得たリードデータをサンプルデータとして使用します。\n"
      ]
    },
    {
      "cell_type": "code",
      "execution_count": null,
      "metadata": {
        "id": "y_qPMrTFjD_F"
      },
      "outputs": [],
      "source": [
        "%%bash\n",
        "wget -q -O 'assemble_dataset.sh' https://raw.githubusercontent.com/CropEvol/lecture/master/textbook_2023/scripts/assemble_dataset.sh\n",
        "bash assemble_dataset.sh\n",
        "ls | grep -e 'fastq'"
      ]
    },
    {
      "cell_type": "markdown",
      "metadata": {
        "id": "wzVhiDq8Dot6"
      },
      "source": [
        "### ソフトウェアのダウンロード\n",
        "\n",
        "　今回使用するソフトウェアとその実行プログラムをダウンロードをします。\n",
        "\n"
      ]
    },
    {
      "cell_type": "code",
      "execution_count": null,
      "metadata": {
        "id": "dhzi5VvRYqZ0"
      },
      "outputs": [],
      "source": [
        "%%bash\n",
        "wget -q -O 'assemble_softwares.sh' https://raw.githubusercontent.com/CropEvol/lecture/master/textbook_2023/scripts/assemble_softwares.sh\n",
        "bash assemble_softwares.sh\n",
        "ls tools/"
      ]
    },
    {
      "cell_type": "markdown",
      "metadata": {
        "id": "hYWWnkR5WcfY"
      },
      "source": [
        "### 今回の勉強内容\n",
        "\n",
        "1. ショートリードを使ったゲノムアセンブル\n",
        " 1. ショートリードを確認する\n",
        " 1. ゲノムアセンブル\n",
        " 1. ゲノム配列を確認する\n",
        "\n",
        "1. ロングリードを使ったゲノムアセンブル\n",
        " 1. ロングリードを確認する\n",
        " 1. ゲノムアセンブル\n",
        " 1. ゲノム配列を確認する\n",
        "\n",
        "1. ゲノム配列を改良する\n",
        "\n",
        "\n",
        "\n",
        "\n"
      ]
    },
    {
      "cell_type": "markdown",
      "metadata": {
        "id": "6chxcyq56QkM"
      },
      "source": [
        "---\n",
        "## 1. ショートリードを使ったゲノムアセンブル\n",
        "\n",
        "　ショートリードのゲノムアセンブルをおこない、ゲノムの再構築を試みてみましょう。\n",
        "\n",
        "<img src=\"https://github.com/CropEvol/lecture/blob/master/textbook_2023/images/Assemble_figs/short_read_assemble.png?raw=true\" height=\"100px\" align=\"middle\">"
      ]
    },
    {
      "cell_type": "markdown",
      "metadata": {
        "id": "l0buVRYbWoFw"
      },
      "source": [
        "### 1-1. ショートリードを確認する\n",
        "　最初に、ゲノムアセンブルに使用するショートリードデータを確認してみましょう。DNA断片の両端をシーケンシングした**ペアエンド（Paired-end）**という形のリードデータを使用します。ペアエンドのデータは、通常2つのファイルに分かれており、それらを1組のデータとして同時に扱います。\n",
        "- Read1: /content/illumina_read1.fastq\n",
        "- Read2: /content/illumina_read2.fastq\n",
        "\n",
        "<img src=\"https://github.com/CropEvol/lecture/blob/master/textbook_2023/images/Assemble_figs/paired_end_reads.png?raw=true\" height=\"200px\" align=\"middle\">"
      ]
    },
    {
      "cell_type": "markdown",
      "metadata": {
        "id": "he7sl2-Xle7y"
      },
      "source": [
        "#### リードのデータファイル形式（FASTQ）\n",
        "\n",
        "　リードのデータは**FASTQ**と呼ばれる形式でファイルに保存されています。FASTQ形式では、4行で1つのリードデータの情報を表しています。\n",
        "\n",
        "```\n",
        "@リードの名前\n",
        "TGAAGCAGT..............(リードの塩基配列)\n",
        "+\n",
        "F1GCFCGGE..............(各塩基のクオリティ)\n",
        "```\n",
        "\n",
        "- 第1行（@からはじまる行）: リードの名前\n",
        "- 第2行: リードの塩基配列\n",
        "- 第3行（+からはじまる行）: 第2行と第4行の区切りのための行\n",
        "- 第4行: 各塩基配列のクオリティ（ASCIIコードで書かれている）。1文字が何らかのクオリティスコア（数値）を示している。\n",
        " - 参考: https://bi.biopapyrus.jp/rnaseq/qc/fastq-quality-score.html\n",
        "\n"
      ]
    },
    {
      "cell_type": "markdown",
      "metadata": {
        "id": "utKC7gGYozHx"
      },
      "source": [
        "#### seqkitを使ったリードの統計情報確認\n",
        "\n",
        " 　[seqkit](https://bioinf.shenwei.me/seqkit/)というソフトウェアを使って、ペアエンドのうちRead1の統計情報（リードの数やリードの長さなどの情報）を確認してみましょう。\n",
        "\n",
        "```sh\n",
        "# リードの統計情報の確認\n",
        "seqkit stat 塩基配列データ\n",
        "```"
      ]
    },
    {
      "cell_type": "code",
      "execution_count": null,
      "metadata": {
        "id": "daNjIOLFPakq"
      },
      "outputs": [],
      "source": [
        "%%bash\n",
        "seqkit stat illumina_read1.fastq"
      ]
    },
    {
      "cell_type": "markdown",
      "metadata": {
        "id": "s1WJrvyJPoo4"
      },
      "source": [
        "### 実習1\n",
        "\n",
        "　seqkitを使って、もう一方のリード（ペアエンドのRead2: illumina_read2.fastq）の統計情報を確認してください。"
      ]
    },
    {
      "cell_type": "code",
      "execution_count": null,
      "metadata": {
        "id": "bUU-dZjqQAxU"
      },
      "outputs": [],
      "source": [
        "%%bash\n",
        "seqkit stat"
      ]
    },
    {
      "cell_type": "markdown",
      "metadata": {
        "id": "zFcJywQ86hQJ"
      },
      "source": [
        "### 1-2. ゲノムアセンブル\n",
        "\n",
        "　[Platanus](http://platanus.bio.titech.ac.jp/)というショートリード用のゲノムアセンブルソフトウェアを使って、ペアエンドのショートリードからゲノム配列の復元を試みてみましょう。今回は、事前に用意したゲノムアセンブル用プログラムで、ペアエンドショートリードのゲノムアセンブルをおこないます。\n",
        "\n",
        "<img src=\"https://github.com/CropEvol/lecture/blob/master/textbook_2023/images/Assemble_figs/genome_assemble.png?raw=true\" height=\"250px\" align=\"middle\">"
      ]
    },
    {
      "cell_type": "code",
      "execution_count": null,
      "metadata": {
        "id": "dmwGUFcsFxcm"
      },
      "outputs": [],
      "source": [
        "%%bash\n",
        "bash Platanus_assemble.sh illumina_read1.fastq illumina_read2.fastq"
      ]
    },
    {
      "cell_type": "markdown",
      "metadata": {
        "id": "0fbXrBCJ6jqj"
      },
      "source": [
        "### 1-3. ゲノム配列を確認する\n",
        "\n",
        "　アセンブルで得られたゲノム配列（**アセンブリ、Assembly**）を確認してみましょう。Colabサーバー上の次のファイルに保存されています。\n",
        "\n",
        "/content/platanus_output/illumina_contig.fa"
      ]
    },
    {
      "cell_type": "markdown",
      "metadata": {
        "id": "uD35oSgszrWy"
      },
      "source": [
        "得られたゲノム配列は、1本ではなく、複数本の配列に分かれており、元のゲノム配列を完全に再現できていません。アセンブル後の複数本に分かれた配列は**コンティグ（Contig）**と呼ばれています。\n",
        "\n",
        "<img src=\"https://github.com/CropEvol/lecture/blob/master/textbook_2023/images/Assemble_figs/contigs.png?raw=true\" height=\"100px\" align=\"middle\">"
      ]
    },
    {
      "cell_type": "markdown",
      "metadata": {
        "id": "KypY4SKFwX--"
      },
      "source": [
        "　seqkitを使って、コンティグの統計情報（配列数、配列の平均長、N50など）をみてみましょう。\n",
        "\n",
        "<img src=\"https://github.com/CropEvol/lecture/blob/master/textbook_2023/images/Assemble_figs/about_n50.png?raw=true\" height=\"100px\" align=\"middle\">\n"
      ]
    },
    {
      "cell_type": "code",
      "execution_count": null,
      "metadata": {
        "id": "Dxr3tDcxwgR9"
      },
      "outputs": [],
      "source": [
        "%%bash\n",
        "## オプション「-a」を追加すると、N50を含む情報を得られる\n",
        "seqkit stat -a /content/platanus_output/illumina_contig.fa"
      ]
    },
    {
      "cell_type": "markdown",
      "metadata": {
        "id": "m9cfVRIEDdzn"
      },
      "source": [
        "　次世代シーケンシングによるリードには、低い割合ですが塩基の読み間違い（エラー）が含まれています。そのエラーがアセンブルに反映されていないか（コンティグの各塩基の精度）を目で確認してみましょう。\n",
        "\n",
        "　アセンブルに使ったショートリードを、アセンブル後のコンティグに並べて（**アライメント、Alignment**して）、そのアライメント結果を[IGV](https://igv.org/doc/desktop/)と呼ばれるツールで確認します。\n",
        "\n",
        "<img src=\"https://github.com/CropEvol/lecture/blob/master/textbook_2023/images/Assemble_figs/short_read_alignment.png?raw=true\" height=\"250px\" align=\"middle\">"
      ]
    },
    {
      "cell_type": "code",
      "execution_count": null,
      "metadata": {
        "id": "F3XqsDDG3yvn"
      },
      "outputs": [],
      "source": [
        "%%bash\n",
        "## アセンブル後のコンティグにリードをアライメントする\n",
        "CONTIG=\"/content/platanus_output/illumina_contig.fa\"\n",
        "OUTPUT=\"illumina_alignment\"\n",
        "READ1=\"illumina_read1.fastq\"\n",
        "READ2=\"illumina_read2.fastq\"\n",
        "\n",
        "bash Alignment.sh $CONTIG $OUTPUT $READ1 $READ2"
      ]
    },
    {
      "cell_type": "code",
      "execution_count": null,
      "metadata": {
        "id": "z4koTbTLjEPJ"
      },
      "outputs": [],
      "source": [
        "## アライメント結果をみる\n",
        "ctg = \"/content/platanus_output/illumina_contig.fa\"\n",
        "aln = \"illumina_alignment.bam\"\n",
        "\n",
        "## ---- 以下、変更不要 -----\n",
        "import igv_notebook\n",
        "from igv_prep import RefTrack, AnnotationTrack, BamTrack\n",
        "bam_common_info = { \"displayMode\":\"SQUISHED\", \"viewAsPairs\":True, \"height\":100, \"showCoverage\":False }\n",
        "igv_notebook.init()\n",
        "ref = RefTrack({ \"fastaPath\": ctg, \"indexPath\": ctg+\".fai\", \"id\": ctg })\n",
        "bam = BamTrack({ \"name\": aln, \"path\": aln, \"viewAsPairs\":True })\n",
        "b = igv_notebook.Browser(ref)\n",
        "b.load_track(bam)"
      ]
    },
    {
      "cell_type": "markdown",
      "metadata": {
        "id": "JUwSBjlaXaqH"
      },
      "source": [
        "### ショートリードゲノムアセンブルのまとめ\n",
        "\n",
        "　ショートリードシーケンシングは、非常に多数の短い配列（リード）を得られます。塩基の読み間違いも少ない（シーケンシングエラー率も低い）です。\n",
        "\n",
        "　生物のゲノムは、同じ塩基パターンの繰り返し（リピート）などを多く含んでいます。ショートリードは、リード長よりも長いリピート配列に弱く、ショートリードだけでゲノムを再現するのはほぼ不可能です。一方で、ショートリードは、シーケンシングエラーが少ないため、精度の高いコンティグが得られます。\n",
        "\n",
        "<img src=\"https://github.com/CropEvol/lecture/blob/master/textbook_2023/images/Assemble_figs/short_reads_and_repeat.png?raw=true\" height=\"250px\" align=\"middle\">"
      ]
    },
    {
      "cell_type": "markdown",
      "metadata": {
        "id": "lv3XWjNV6n1O"
      },
      "source": [
        "---\n",
        "## 2. ロングリードを使ったゲノムアセンブル\n",
        "\n",
        "　ショートリードシーケンシングは、50-300 bpの短い塩基配列を多量に得るシーケンシングです。近年、非常に長い塩基配列を得るシーケンシング技術（**ロングリードシーケンシング、Long read sequencing**）が発達してきました。Oxford Nanopore Technologies社のナノポアシーケンシングや、Pacific Biosciences社のPacBioシーケンシングがそれにあたります。\n",
        "\n",
        "　現在では、ロングリードを使ったゲノムアセンブルが最もよくおこなわれています。ここでは、ナノポアシーケンシングによるロングリードからどのようなゲノム配列を復元できるかを見ていきましょう。\n",
        "\n",
        "<img src=\"https://github.com/CropEvol/lecture/blob/master/textbook_2023/images/Assemble_figs/long_read_assemble.png?raw=true\" height=\"100px\" align=\"middle\">"
      ]
    },
    {
      "cell_type": "markdown",
      "metadata": {
        "id": "kWVdOseR6xTM"
      },
      "source": [
        "### 2-1. ロングリードを確認する\n",
        "\n",
        "　ロングリードのシーケンスデータを見てみましょう。\n",
        "\n",
        "- ロングリード: /content/nanopore.fastq"
      ]
    },
    {
      "cell_type": "markdown",
      "metadata": {
        "id": "tozs_Nz6mYJg"
      },
      "source": [
        "　seqkitを使って、ロングリードの統計情報も確認してみましょう。"
      ]
    },
    {
      "cell_type": "code",
      "execution_count": null,
      "metadata": {
        "id": "Ys0SaPEsmfvZ"
      },
      "outputs": [],
      "source": [
        "%%bash\n",
        "seqkit stat nanopore.fastq"
      ]
    },
    {
      "cell_type": "markdown",
      "metadata": {
        "id": "v8vctefE61Uf"
      },
      "source": [
        "### 2-2. ゲノムアセンブル\n",
        "　[Flye](https://github.com/fenderglass/Flye)というソフトウェアを使って、ロングリードのゲノムアセンブルをおこなってみましょう。\n",
        "\n",
        "\n"
      ]
    },
    {
      "cell_type": "code",
      "execution_count": null,
      "metadata": {
        "id": "ymdJ8hkn5RBI"
      },
      "outputs": [],
      "source": [
        "%%bash\n",
        "bash Flye_assemble.sh nanopore.fastq"
      ]
    },
    {
      "cell_type": "markdown",
      "metadata": {
        "id": "bXi2P1pn63Yy"
      },
      "source": [
        "### 2-3. ゲノム配列を確認する\n",
        "\n",
        "　アセンブルで得られたゲノム配列は、次のファイルに保存されています。\n",
        "\n",
        "/content/flye_output/assembly.fasta"
      ]
    },
    {
      "cell_type": "markdown",
      "metadata": {
        "id": "kwXU5PyWuaxM"
      },
      "source": [
        "　seqkitで、アセンブルで得られたコンティグ数や長さ、N50などの統計情報を確認してみましょう。"
      ]
    },
    {
      "cell_type": "code",
      "execution_count": null,
      "metadata": {
        "id": "fr1XVdwztnwQ"
      },
      "outputs": [],
      "source": [
        "%%bash\n",
        "seqkit stat /content/flye_output/assembly.fasta"
      ]
    },
    {
      "cell_type": "markdown",
      "metadata": {
        "id": "HtUoV4fru5VQ"
      },
      "source": [
        "　コンティグに対してロングリードをアライメントし、そのアライメント結果をIGVで確認してみましょう。"
      ]
    },
    {
      "cell_type": "code",
      "execution_count": null,
      "metadata": {
        "id": "zZrxD7VE4ZCb"
      },
      "outputs": [],
      "source": [
        "%%bash\n",
        "## アセンブル後のコンティグにリードをアライメントする\n",
        "CONTIG=\"/content/flye_output/assembly.fasta\"\n",
        "OUTPUT=\"nanopore_alignment\"\n",
        "READ=\"nanopore.fastq\"\n",
        "\n",
        "bash Alignment.sh $CONTIG $OUTPUT $READ"
      ]
    },
    {
      "cell_type": "code",
      "execution_count": null,
      "metadata": {
        "id": "YW5lFTnMkm37"
      },
      "outputs": [],
      "source": [
        "## アライメント結果をみる\n",
        "ctg = \"/content/flye_output/assembly.fasta\"\n",
        "aln = \"nanopore_alignment.bam\"\n",
        "\n",
        "## ---- 以下、変更不要 -----\n",
        "import igv_notebook\n",
        "from igv_prep import RefTrack, AnnotationTrack, BamTrack\n",
        "bam_common_info = { \"displayMode\":\"SQUISHED\", \"viewAsPairs\":True, \"height\":100, \"showCoverage\":False }\n",
        "igv_notebook.init()\n",
        "ref = RefTrack({ \"fastaPath\": ctg, \"indexPath\": ctg+\".fai\", \"id\": ctg })\n",
        "bam = BamTrack({ \"name\": aln, \"path\": aln, \"viewAsPairs\":False })\n",
        "b = igv_notebook.Browser(ref)\n",
        "b.load_track(bam)"
      ]
    },
    {
      "cell_type": "markdown",
      "metadata": {
        "id": "rPrpWsJ7BIQT"
      },
      "source": [
        "### 実習2\n",
        "\n",
        "　ロングリードで作ったコンティグに対して、ショートリードをアライメントし、そのアライメント結果を確認してください。\n",
        "\n",
        "- 5行目にREAD1のデータファイル（`illumina_read1.fastq`）、7行目にREAD2のデータファイル（`illumina_read2.fastq`）を入力し、実行してください。"
      ]
    },
    {
      "cell_type": "code",
      "execution_count": null,
      "metadata": {
        "id": "CjzJAc7_BYq7"
      },
      "outputs": [],
      "source": [
        "## アセンブル後のコンティグにリードをアライメントする\n",
        "CONTIG=\"/content/flye_output/assembly.fasta\"\n",
        "OUTPUT=\"nanopore_short_read_alignment\"\n",
        "## ショートリードのREAD1\n",
        "READ1=\"\"\n",
        "## ショートリードのREAD2\n",
        "READ2=\"\"\n",
        "\n",
        "## ---- 以下、変更不要 -----\n",
        "## アライメントの実行\n",
        "!bash Alignment.sh $CONTIG $OUTPUT $READ1 $READ2\n",
        "\n",
        "## アライメント結果の確認\n",
        "import igv_notebook\n",
        "from igv_prep import RefTrack, AnnotationTrack, BamTrack\n",
        "bam_common_info = { \"displayMode\":\"SQUISHED\", \"viewAsPairs\":True, \"height\":100, \"showCoverage\":False }\n",
        "igv_notebook.init()\n",
        "ref = RefTrack({ \"fastaPath\": CONTIG, \"indexPath\": CONTIG+\".fai\", \"id\": CONTIG })\n",
        "bam = BamTrack({ \"name\": OUTPUT+\".bam\", \"path\": OUTPUT+\".bam\", \"viewAsPairs\":True })\n",
        "b = igv_notebook.Browser(ref)\n",
        "b.load_track(bam)"
      ]
    },
    {
      "cell_type": "markdown",
      "metadata": {
        "id": "k0CbdndBXHpc"
      },
      "source": [
        "### ロングリードゲノムアセンブリのまとめ\n",
        "\n",
        "　ロングリードは、シーケンシングエラー率が高く、構築されたコンティグの塩基が正確ではない場合があります。しかし、ショートリードの場合とは異なり、ロングリードを使ったゲノムアセンブリは、非常に長いコンティグを生成できます。そのため、リピート配列を多く含む生物のゲノムアセンブリにおいて、ロングリードは主力的な役割を果たしています。\n",
        "\n",
        "<img src=\"https://github.com/CropEvol/lecture/blob/master/textbook_2023/images/Assemble_figs/long_read_assemble2.png?raw=true\" height=\"250px\" align=\"middle\">"
      ]
    },
    {
      "cell_type": "markdown",
      "metadata": {
        "id": "NkMhAHXo665y"
      },
      "source": [
        "---\n",
        "## 3. ゲノム配列を改良する\n",
        "\n",
        "　リード数が多く、塩基情報が正確なショートリードと、長いコンティグを生成できるロングリードを組み合わせることで、より良いゲノム配列を得ることができます。\n",
        "\n",
        "　先ほど得られたロングリードのゲノム配列（コンティグ）には、塩基情報が不正確そうな箇所がみられます。ここでは、ショートリードでその不正確性の補正を試みてみましょう。この補正処理は **ポリッシング（Polishing）** と呼ばれています。\n",
        "\n",
        "<img src=\"https://github.com/CropEvol/lecture/blob/master/textbook_2023/images/Assemble_figs/polishing.png?raw=true\" height=\"220px\" align=\"middle\">"
      ]
    },
    {
      "cell_type": "markdown",
      "metadata": {
        "id": "r8yZILOtdaEG"
      },
      "source": [
        "### ショートリードを使った補正"
      ]
    },
    {
      "cell_type": "code",
      "execution_count": null,
      "metadata": {
        "id": "MVrL9nO58Cza"
      },
      "outputs": [],
      "source": [
        "%%bash\n",
        "CONTIG=\"/content/flye_output/assembly.fasta\"\n",
        "OUTPUT=\"assembly\"\n",
        "READ1=\"illumina_read1.fastq\"\n",
        "READ2=\"illumina_read2.fastq\"\n",
        "\n",
        "bash Polishing.sh $CONTIG $OUTPUT $READ1 $READ2"
      ]
    },
    {
      "cell_type": "markdown",
      "metadata": {
        "id": "DovQgXgldXc5"
      },
      "source": [
        "### 補正後のゲノム配列を確認する\n",
        "\n",
        "　補正後のゲノム配列にショートリードをアライメントし、その結果をIGVで確認してみましょう。"
      ]
    },
    {
      "cell_type": "code",
      "execution_count": null,
      "metadata": {
        "id": "BB_XZRUzlB1P"
      },
      "outputs": [],
      "source": [
        "## アセンブル後のコンティグにリードをアライメントする\n",
        "CONTIG=\"/content/assembly_polished.fasta\"\n",
        "OUTPUT=\"illumina_reads_to_polished_assembly\"\n",
        "READ1=\"illumina_read1.fastq\" ## ショートリードのREAD1\n",
        "READ2=\"illumina_read2.fastq\" ## ショートリードのREAD2\n",
        "\n",
        "## ---- 以下、変更不要 -----\n",
        "## アライメントの実行\n",
        "!bash Alignment.sh $CONTIG $OUTPUT $READ1 $READ2\n",
        "\n",
        "## アライメント結果の確認\n",
        "import igv_notebook\n",
        "from igv_prep import RefTrack, AnnotationTrack, BamTrack\n",
        "bam_common_info = { \"displayMode\":\"SQUISHED\", \"viewAsPairs\":True, \"height\":100, \"showCoverage\":False }\n",
        "igv_notebook.init()\n",
        "ref = RefTrack({ \"fastaPath\": CONTIG, \"indexPath\": CONTIG+\".fai\", \"id\": CONTIG })\n",
        "bam = BamTrack({ \"name\": OUTPUT+\".bam\", \"path\": OUTPUT+\".bam\", \"viewAsPairs\":True })\n",
        "b = igv_notebook.Browser(ref)\n",
        "b.load_track(bam)"
      ]
    },
    {
      "cell_type": "markdown",
      "metadata": {
        "id": "tlf5iwEb6_MP"
      },
      "source": [
        "---\n",
        "## まとめ\n",
        "\n",
        "　今回、ショートリードとロングリードを使ってゲノムアセンブルをおこない、ゲノム配列の復元を試みました。\n",
        "\n",
        "　ショートリードでは、正確なコンティグを得られる一方で、ゲノム全体を再現するほど充分長い配列は得られませんでした。要因としては、ゲノムに含まれるリピート配列の存在などが考えられます。\n",
        "\n",
        "　ロングリードでは、非常に長いコンティグを得ることができました。しかし、エラー率が高いリードを使ったため、部分的には塩基情報が不正確なコンティグが生成されました。\n",
        "\n",
        "　ショートリードとロングリードそれぞれの利点を活かすことで、より良いゲノム配列を構築することができます。今回の実習でも、ロングリードで得られた長いコンティグを、ショートリードの正確性で補い、高精度なゲノム配列を得ることができました。この手順は、実際のゲノム解読でもよく使われています。\n",
        "\n",
        "<img src=\"https://github.com/CropEvol/lecture/blob/master/textbook_2023/images/Assemble_figs/major_assemble_proc.png?raw=true\" height=\"220px\" align=\"middle\">"
      ]
    },
    {
      "cell_type": "markdown",
      "metadata": {
        "id": "zE9XC61U7t72"
      },
      "source": [
        "<div align=\"right\"><a href=\"https://github.com/CropEvol/lecture#section2\">実習表ページに戻る</a></div>"
      ]
    }
  ],
  "metadata": {
    "colab": {
      "provenance": [],
      "toc_visible": true
    },
    "kernelspec": {
      "display_name": "Python 3",
      "name": "python3"
    },
    "language_info": {
      "name": "python"
    }
  },
  "nbformat": 4,
  "nbformat_minor": 0
}
