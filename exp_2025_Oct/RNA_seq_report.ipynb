{
  "cells": [
    {
      "cell_type": "markdown",
      "metadata": {
        "id": "vFnKcfhjYcjf"
      },
      "source": [
        "# 生物先端コース 学生実習 2025後期\n",
        "\n",
        "## 栽培植物起原学分野担当・課題レポート\n",
        "\n",
        "本実習3日目に実施したイネいもち病菌のRNA-seq解析について、下記の解析を行いレポートを書いてください。\n",
        "\n",
        "レポートはword等で作成し、Pandaから提出してください。期限は明日から1週間(10/15)です。\n",
        "\n",
        "### 課題概要\n",
        "\n",
        "イネいもち病菌株GZをオオムギ品種Nigrateに接種し、0h後・24h後・48h後にそれぞれRNAを抽出し、NextSeq 500シーケンサーを用いてRNA-seqを実施した。\n",
        "\n",
        "(0時間後を非感染時、48時間後を感染時のデータとして実習では用いた。)\n",
        "\n",
        "イネいもち病菌はオオムギ品種Nigrateに感染することが知られている。そのため、本解析によって得られる結果から、イネいもち病菌が植物に感染するためにどの様な遺伝子の発現が必要なのかを調べることが出来ると考えられる。\n",
        "\n",
        "下に示すコマンドとプログラムを実行することで、\n",
        "\n",
        "* 接種後0h vs 接種後48hのDEG解析 (実習で実施した解析)\n",
        "\n",
        "* 接種後0h vs 接種後24hのDEG解析\n",
        "\n",
        "を行う事が出来る。\n",
        "\n",
        "得られた結果を基に、発現量に大きく変動があった遺伝子についてBLAST検索などを行い、イネいもち病菌が感染する際に重要と考えられる遺伝子について考察を加えてレポートを作成してください。\n",
        "\n",
        "少なくとも実習で実施した\"接種後0h vs 接種後48hのDEG解析\"の結果については必ず述べてください。\n",
        "\n",
        "\"接種後0h vs 接種後24hのDEG解析\"の結果については、レポートに加えてあった場合は加点対象とします。(無くても合格点は与える。)\n",
        "\n",
        "また、この頁の最後にデータのURL一覧を載せているので、他に解析を思いついた方は独自に加えて頂いてもかまいません。\n",
        "\n",
        "\n"
      ]
    },
    {
      "cell_type": "markdown",
      "source": [
        "## RNA-seqリードのマッピング・リードカウント\n",
        "\n",
        "下記コマンドで`RNA_seq_0_24_48.sh`というシェルスクリプトをダウンロードし、実行すると、\n",
        "\n",
        "* 各サンプルのBAMファイル`XXX.bam`\n",
        "* 全データに基づく遺伝子のアノテーション(GTF)ファイル`transcripts.gtf`\n",
        "* 各遺伝子の配列`transcripts.fasta`\n",
        "* リードカウントのファイル`counts.txt`\n",
        "\n",
        "が作成される。(少し時間がかかる。)\n",
        "\n",
        "```\n",
        "wget https://raw.githubusercontent.com/slt666666/MOryzae_testdata/refs/heads/main/RNA_seq_0_24_48.sh\n",
        "\n",
        "bash RNA_seq_0_24_48.sh\n",
        "```\n",
        "ちなみに、`RNA_seq_0_24_48.sh`には下の様なコマンドが書かれていて、これらを一気に実施している。\n",
        "\n",
        "```\n",
        "# 使用するプログラムのインストール\n",
        "apt install hisat2\n",
        "apt install seqkit\n",
        "apt install samtools\n",
        "apt install stringtie\n",
        "apt install subread\n",
        "apt install gffread\n",
        "pip install pydeseq2\n",
        "\n",
        "# 初日作成したリファレンスゲノムのダウンロード\n",
        "wget https://raw.githubusercontent.com/slt666666/MOryzae_testdata/refs/heads/main/assembly.fasta\n",
        "\n",
        "# マッピング用のindex作成\n",
        "hisat2-build assembly.fasta assembly\n",
        "\n",
        "# 各条件・反復ごとにシーケンスデータをダウンロードしマッピングを実施\n",
        "for i in infect_0h_rep1 infect_0h_rep2 infect_0h_rep3 infect_24h_rep1 infect_24h_rep2 infect_24h_rep3 infect_48h_rep1 infect_48h_rep2 infect_48h_rep3;do\n",
        "    wget -O ${i}.fastq.gz https://raw.githubusercontent.com/slt666666/MOryzae_testdata/refs/heads/main/${i}.fastq.gz\n",
        "    hisat2 -x assembly -U ${i}.fastq.gz | samtools sort -O bam > ${i}.bam\n",
        "    samtools index ${i}.bam\n",
        "done\n",
        "\n",
        "# 遺伝子アノテーション, `*`はワイルドカードで任意の文字列という意味。\n",
        "stringtie *.bam -o transcripts.gtf\n",
        "\n",
        "# 遺伝子毎にリード数カウント\n",
        "featureCounts -a transcripts.gtf -o counts.txt *.bam\n",
        "\n",
        "# 各遺伝子の配列を取得\n",
        "gffread transcripts.gtf -g assembly.fasta -w transcripts.fasta\n",
        "```\n",
        "\n",
        "\n"
      ],
      "metadata": {
        "id": "Sj0418ri8uZN"
      }
    },
    {
      "cell_type": "markdown",
      "source": [
        "## DEG解析 (0h vs 48h)\n",
        "\n",
        "実習で実施したDEG解析のプログラムを下に示す。\n",
        "\n",
        "実行すると`DEG_0h_vs_48h.csv`という接種後0h vs 48hのDEG解析の結果が作成される。\n",
        "\n",
        "`padj`や`log2FoldChange`に基づき重要そうな遺伝子をピックアップし、[BLAST](https://blast.ncbi.nlm.nih.gov/Blast.cgi)などを使用し機能予測してみてください。"
      ],
      "metadata": {
        "id": "CX36wnH0JZsD"
      }
    },
    {
      "cell_type": "code",
      "source": [
        "import pandas as pd\n",
        "from pydeseq2.utils import load_example_data\n",
        "from pydeseq2.dds import DeseqDataSet\n",
        "from pydeseq2.default_inference import DefaultInference\n",
        "from pydeseq2.ds import DeseqStats\n",
        "\n",
        "# データの整備\n",
        "counts_df = pd.read_csv(\"counts.txt\", sep=\"\\t\", comment=\"#\").set_index(\"Geneid\").iloc[:, [5,6,7,11,12,13]].T\n",
        "metadata = pd.DataFrame(index=counts_df.index, data={\"condition\":[\"0h\", \"0h\", \"0h\", \"48h\", \"48h\", \"48h\"]})\n",
        "\n",
        "# 発現量の極端に少ない遺伝子を除去\n",
        "genes_to_keep = counts_df.columns[counts_df.sum(axis=0) >= 10]\n",
        "counts_df = counts_df[genes_to_keep]\n",
        "\n",
        "# リードカウントの補正&検定など\n",
        "inference = DefaultInference()\n",
        "dds = DeseqDataSet(\n",
        "  counts=counts_df,\n",
        "  metadata=metadata,\n",
        "  design_factors=\"condition\",\n",
        "  refit_cooks=True,\n",
        "  inference=inference,\n",
        ")\n",
        "dds.deseq2()\n",
        "stat_res_0_vs_48 = DeseqStats(dds, contrast=[\"condition\", \"48h\", \"0h\"], inference=inference)\n",
        "stat_res_0_vs_48.summary()\n",
        "stat_res_0_vs_48.results_df.to_csv(\"DEG_0h_vs_48h.csv\")"
      ],
      "metadata": {
        "id": "qUPh368JJhvR"
      },
      "execution_count": null,
      "outputs": []
    },
    {
      "cell_type": "markdown",
      "source": [
        "興味のある遺伝子の配列は下記コマンドで表示させる事が出来ます。\n",
        "\n",
        "※遺伝子名の後ろに\".1\"をつけてください。\n",
        "\n",
        "例) `\"STRG.123\"`を探す場合は`\"STRG.123.1\"`\n",
        "\n",
        "```\n",
        "seqkit grep -p \"探したい遺伝子名\" transcripts.fasta > 出力ファイル名\n",
        "```"
      ],
      "metadata": {
        "id": "Jn4w2_oS2k99"
      }
    },
    {
      "cell_type": "markdown",
      "source": [
        "## DEG解析 (0h vs 24h)\n",
        "\n",
        "続いて、下記プログラムを実行すると`DEG_0h_vs_24h.csv`という接種後0h vs 24hのDEG解析の結果が作成される。\n",
        "\n",
        "レポートにこの結果を加えるかどうかは任意ですが、加点が欲しい場合はこちらの結果についても考察で触れてください。"
      ],
      "metadata": {
        "id": "12dKe2KGK8by"
      }
    },
    {
      "cell_type": "code",
      "source": [
        "import pandas as pd\n",
        "from pydeseq2.utils import load_example_data\n",
        "from pydeseq2.dds import DeseqDataSet\n",
        "from pydeseq2.default_inference import DefaultInference\n",
        "from pydeseq2.ds import DeseqStats\n",
        "\n",
        "# データの整備\n",
        "counts_df = pd.read_csv(\"counts.txt\", sep=\"\\t\", comment=\"#\").set_index(\"Geneid\").iloc[:, [5,6,7,8,9,10]].T\n",
        "metadata = pd.DataFrame(index=counts_df.index, data={\"condition\":[\"0h\", \"0h\", \"0h\", \"24h\", \"24h\", \"24h\"]})\n",
        "\n",
        "# 発現量の極端に少ない遺伝子を除去\n",
        "genes_to_keep = counts_df.columns[counts_df.sum(axis=0) >= 10]\n",
        "counts_df = counts_df[genes_to_keep]\n",
        "\n",
        "# リードカウントの補正&検定など\n",
        "inference = DefaultInference()\n",
        "dds = DeseqDataSet(\n",
        "  counts=counts_df,\n",
        "  metadata=metadata,\n",
        "  design_factors=\"condition\",\n",
        "  refit_cooks=True,\n",
        "  inference=inference,\n",
        ")\n",
        "dds.deseq2()\n",
        "stat_res_0_vs_24 = DeseqStats(dds, contrast=[\"condition\", \"24h\", \"0h\"], inference=inference)\n",
        "stat_res_0_vs_24.summary()\n",
        "stat_res_0_vs_24.results_df.to_csv(\"DEG_0h_vs_24h.csv\")"
      ],
      "metadata": {
        "id": "8ohWNGMdKa0I"
      },
      "execution_count": null,
      "outputs": []
    },
    {
      "cell_type": "markdown",
      "source": [
        "# データ解析についての手法の書き方\n",
        "\n",
        "解析の手法をレポートなどに記述する際には、実施した解析の内容とそれを実施したプログラム・ソフトウェア名を記述します。\n",
        "\n",
        "実際のコマンドなどは不要です。\n",
        "\n",
        "例)\n",
        "\n",
        "XXXのサンプルから抽出したRNAについて、NextSeq 500シーケンサーを用いてシーケンスを実施した。得られたシーケンスデータを使用し、XXXを用いて作成したリファレンスゲノムに対しマッピングを行った。マッピングは[ソフトウェア名]を用いて実施した。...etc\n",
        "\n",
        "論文では再現性を担保するために使用したソフトウェアのバージョンや、オプションなどの設定も記述しますが、今回は記述しなくて大丈夫です。"
      ],
      "metadata": {
        "id": "Cc7U_xTCKEwl"
      }
    },
    {
      "cell_type": "markdown",
      "metadata": {
        "id": "VWjXz-iruzbP"
      },
      "source": [
        "# シーケンスデータの場所\n",
        "\n",
        "自分で全ての解析をやりたい・独自の解析をやりたい方に向けたデータURL一覧\n",
        "\n",
        "実習1日目に作成したリファレンスゲノム\n",
        "* https://raw.githubusercontent.com/slt666666/MOryzae_testdata/refs/heads/main/assembly.fasta\n",
        "\n",
        "各時間(0, 24h, 48h)条件でのRNA-seqリード\n",
        "* 接種して0h後の３反復\n",
        "  * https://raw.githubusercontent.com/slt666666/MOryzae_testdata/refs/heads/main/infect_0h_rep1.fastq.gz\n",
        "  * https://raw.githubusercontent.com/slt666666/MOryzae_testdata/refs/heads/main/infect_0h_rep2.fastq.gz\n",
        "  * https://raw.githubusercontent.com/slt666666/MOryzae_testdata/refs/heads/main/infect_0h_rep3.fastq.gz\n",
        "\n",
        "* 接種して24h後の３反復\n",
        "  * https://raw.githubusercontent.com/slt666666/MOryzae_testdata/refs/heads/main/infect_24h_rep1.fastq.gz\n",
        "  * https://raw.githubusercontent.com/slt666666/MOryzae_testdata/refs/heads/main/infect_24h_rep2.fastq.gz\n",
        "  * https://raw.githubusercontent.com/slt666666/MOryzae_testdata/refs/heads/main/infect_24h_rep3.fastq.gz\n",
        "\n",
        "* 接種して48h後の３反復\n",
        "  * https://raw.githubusercontent.com/slt666666/MOryzae_testdata/refs/heads/main/infect_48h_rep1.fastq.gz\n",
        "  * https://raw.githubusercontent.com/slt666666/MOryzae_testdata/refs/heads/main/infect_48h_rep2.fastq.gz\n",
        "  * https://raw.githubusercontent.com/slt666666/MOryzae_testdata/refs/heads/main/infect_48h_rep3.fastq.gz"
      ]
    }
  ],
  "metadata": {
    "colab": {
      "provenance": [],
      "toc_visible": true
    },
    "kernelspec": {
      "display_name": "Python 3",
      "name": "python3"
    },
    "language_info": {
      "name": "python"
    }
  },
  "nbformat": 4,
  "nbformat_minor": 0
}