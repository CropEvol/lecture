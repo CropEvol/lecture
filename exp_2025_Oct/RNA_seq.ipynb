{
  "cells": [
    {
      "cell_type": "markdown",
      "metadata": {
        "id": "vFnKcfhjYcjf"
      },
      "source": [
        "# 生物先端コース 学生実習 2025後期 3日目\n",
        "\n",
        "## RNA-seq・発現解析・課題レポート\n",
        "\n",
        "<img src=\"https://github.com/CropEvol/lecture/blob/master/images/exp_2025_2/rnaseq.png?raw=true\" alt=\"central_dogma\" height=\"280px\" align=\"middle\">\n",
        "\n",
        "本実習では、Genomics, Transcriptomics, Proteomicsに関する基本的なゲノム解析技術を学習していきます。\n",
        "\n",
        "3日目は、RNA-seqによるTranscriptome解析について扱います。\n",
        "\n",
        "遺伝子がどのようなときに発現するのかを調べる手法です。\n"
      ]
    },
    {
      "cell_type": "markdown",
      "metadata": {
        "id": "31NfnQcvPDoY"
      },
      "source": [
        "# RNA-seq\n",
        "\n",
        "昨日までに学んできた技術は、ある生物のDNA配列をシーケンスすることで、\n",
        "\n",
        "生物のゲノム配列を解読したり、集団内での配列の違いを遺伝的変異としてショートリードを用いて検出することが出来る、という話でした。\n",
        "\n",
        "ここからはRNAを対象としたシーケンス技術RNA-seqについて学んでいきます。\n",
        "\n",
        "遺伝子は、mRNAに転写された後、アミノ酸配列に翻訳され、アミノ酸配列が立体構造を取りタンパク質となることで何らかの機能が働きます。(セントラルドグマ)\n",
        "\n",
        "<img src=\"https://github.com/CropEvol/lecture/blob/master/textbook_2022/images/central_dogma.png?raw=true\" alt=\"central_dogma\" height=\"280px\" align=\"middle\">\n",
        "\n",
        "DNA配列をロングリードやショートリード読み取るのがこれまで扱ってきたDNAシーケンスでしたが、RNAシーケンス(RNA-seq)では、転写されたmRNAを読み取ります。\n",
        "\n",
        "RNA-seqによって、あるサンプルにおいて、どの遺伝子がどれだけ転写されているのか(**遺伝子の発現量**)、という情報を得ることが出来ます。\n",
        "\n",
        "例えば、ある処理を行ったサンプルと行わなかったサンプルのRNA-seqを比較することで、処理によってどんな遺伝子が発現したのかが分かったりします。\n",
        "\n",
        "<img src=\"https://github.com/CropEvol/lecture/blob/master/textbook_2022/images/RNAseq_compare.png?raw=true\" alt=\"RNAseq_compare\" height=\"350px\" align=\"middle\">"
      ]
    },
    {
      "cell_type": "markdown",
      "metadata": {
        "id": "pYgp_cqzl-pM"
      },
      "source": [
        "# RNA-seqのマッピング\n",
        "\n",
        "RNA-seqについても、遺伝的変異の検出を行った時と同じようにまずはマッピングを行います。\n",
        "\n",
        "転写されている遺伝子のmRNAを抽出し、ショートリードとしてシーケンスを行います。\n",
        "\n",
        "当然どこ由来の配列データか不明なので、マッピングにより、どのゲノム領域が転写されたものかを解析します。\n",
        "\n",
        "<img src=\"https://github.com/CropEvol/lecture/blob/master/images/exp_2025_2/mRNA_mapping.png?raw=true\" alt=\"central_dogma\" height=\"350px\" align=\"middle\">\n",
        "\n",
        "ただし、RNA-seqの場合、昨日のDNA配列をマッピングするのとは異なる点があります。\n",
        "\n",
        "生物学の復習になりますが、mRNAに転写される際には、余分なもの(intron)を切り離してexonのみを再度つなぎ合わされるスプライシングが行われます。\n",
        "\n",
        "<img src=\"https://github.com/CropEvol/lecture/blob/master/textbook_2022/images/splicing.png?raw=true\" alt=\"splicing\" height=\"250px\" align=\"middle\">\n",
        "\n",
        "RNA-seqでは、転写されたmRNAをシーケンスするので、このexon領域**のみ**をシーケンスしていることになります。\n",
        "\n",
        "そのため、DNAシーケンスではリファレンスゲノムの配列と一致する場所をそのまま探して貼り付ければ良かったのに対して、RNA-seqで得られるリードは**分割して飛び飛びにある複数のexon領域にまたがって張り付ける**ということをする必要があります。\n",
        "\n",
        "つまり、DNA-seqと異なり、RNA-seqのリードをリファレンス配列にマッピングする際には、intronのギャップを考慮してマッピングする必要があります。\n",
        "\n",
        "<img src=\"https://github.com/CropEvol/lecture/blob/master/textbook_2022/images/RNA_mapping.png?raw=true\" alt=\"RNA_mapping\" height=\"200px\" align=\"middle\">\n",
        "\n",
        "この様な状況に対応するため、DNA配列のマッピングには`bwa`というプログラムを使用しましたが、RNA-seqのマッピングにはそれ用のプログラムを使用する必要があります。\n",
        "\n",
        "[Hisat2](http://daehwankimlab.github.io/hisat2/)や[STAR](https://github.com/alexdobin/STAR)などが、RNA-seqに適した(ギャップを考慮してくれる)マッピングツールとなります。\n",
        "\n",
        "今回は[Hisat2](http://daehwankimlab.github.io/hisat2/)を使用しましょう。\n",
        "\n",
        "ターミナルを開き、下記コマンドでHisat2をインストールしておきましょう。\n",
        "\n",
        "```\n",
        "apt install hisat2\n",
        "```"
      ]
    },
    {
      "cell_type": "markdown",
      "metadata": {
        "id": "Lk_AOFT_y87I"
      },
      "source": [
        "## 構築したリファレンス配列にRNA-seqリードのマッピング\n",
        "\n",
        "それでは、初日リファレンスゲノムを作成したいもち病菌(菌株GZ)を用いたRNA-seq解析を実際に実施していきましょう。\n"
      ]
    },
    {
      "cell_type": "markdown",
      "metadata": {
        "id": "VWjXz-iruzbP"
      },
      "source": [
        "## シーケンス結果の取得\n",
        "\n",
        "<img src=\"https://github.com/CropEvol/lecture/blob/master/images/exp_2025_2/mRNA_sequencing.png?raw=true\" alt=\"central_dogma\" height=\"250px\" align=\"middle\">\n",
        "\n",
        "まずはデータセットのダウンロードをしていきます。\n",
        "\n",
        "初日に実行したアセンブルの結果であるゲノム配列は\n",
        "\n",
        "* https://raw.githubusercontent.com/slt666666/MOryzae_testdata/refs/heads/main/assembly.fasta\n",
        "\n",
        "いもち病菌のRNAを次世代シーケンサーで読んだRNA-seqの配列データは\n",
        "\n",
        "* https://raw.githubusercontent.com/slt666666/MOryzae_testdata/refs/heads/main/infect_0h_rep1.fastq.gz\n",
        "\n",
        "にあります。\n",
        "\n",
        "今回は前回のペアエンドではなくシングルエンドのショートリードになります。\n",
        "\n",
        "(今回は別株のデータを仮で使用しています。)\n",
        "\n",
        "左下からターミナルを開いて`wget`コマンドで上の2つのデータをダウンロードしてみてください。\n",
        "\n",
        "```\n",
        "wget ダウンロードしたいファイルのURL\n",
        "```\n",
        "\n",
        "また、配列を扱うツール`seqkit`もインストールしておきます。\n",
        "\n",
        "```\n",
        "apt install seqkit\n",
        "```\n",
        "\n",
        "`less`や`seqkit`コマンドを使用して見てみると、今回扱うRNA-seqのショートリードは昨日扱ったDNAのリードとはあまり違いはありません。\n",
        "\n",
        "ただDNA由来か、RNA由来か、というだけです。"
      ]
    },
    {
      "cell_type": "markdown",
      "metadata": {
        "id": "jZENNJv63jpO"
      },
      "source": [
        "## 配列データのマッピング\n",
        "\n",
        "では続いて、ショートリードとして読んだmRNAの配列をリファレンスゲノムに貼り付けていきます。\n",
        "\n",
        "<img src=\"https://github.com/CropEvol/lecture/blob/master/images/exp_2025_2/mRNA_alignment.png?raw=true\" alt=\"central_dogma\" height=\"250px\" align=\"middle\">\n",
        "\n",
        "先ほども説明した通り、今回はRNA-seqのマッピングに適した`Hisat`というプログラムを使用します。\n"
      ]
    },
    {
      "cell_type": "markdown",
      "metadata": {
        "id": "gkyt3Ktz3jpO"
      },
      "source": [
        "### リファレンスゲノムのindex作成\n",
        "\n",
        "前回同様、まずマッピングする前にリファレンスゲノムのindexファイルというものを作成します。\n",
        "\n",
        "indexファイルとは、**索引ファイル**のことを指しましたが、この索引ファイルは基本的にツール毎に作成する必要があります。\n",
        "\n",
        "`Hisat2`のためのindexファイルは下記コマンドで作成出来ます。\n",
        "\n",
        "```\n",
        "hisat2-build リファレンスゲノムのFASTAファイル名 assembly\n",
        "```\n",
        "\n",
        "FASTAファイル名を正しく入力して上記コマンドを実行し、\n",
        "\n",
        "`assembly.数字.ht2`というファイルがたくさん作成されていれば成功です。\n"
      ]
    },
    {
      "cell_type": "markdown",
      "metadata": {
        "id": "gW8WrF_Q3jpP"
      },
      "source": [
        "### マッピングの開始\n",
        "\n",
        "indexファイルを作成したら、実際にRNA-seqリードのマッピングをしていきます。\n",
        "\n",
        "`hisat2`コマンドでマッピングができます。\n",
        "\n",
        "```\n",
        "hisat2 -x 作成したindex名 -U ショートリードのファイル名 -S 出力ファイル名\n",
        "```\n",
        "\n",
        "今回は作成したindex名が`genome_index`、それぞれのショートリードが`infect_0h_rep1.fastq.gz`になるので、\n",
        "\n",
        "```\n",
        "hisat2 -x genome_index -U infect_0h_rep1.fastq.gz -S infect_0h_rep1.sam\n",
        "```\n",
        "というコマンドになります。出力ファイル名は`infect_0h_rep1.sam`としています。\n",
        "\n",
        "(そんなに時間はかからないと思います。)\n",
        "\n",
        "プログラムが走り終えると、`infect_0h_rep1.sam`というファイルが出来ているかと思います。\n",
        "\n",
        "SAMファイルはマッピング結果が記されていましたが、今回は使用したRNA-seqのマッピング結果の情報がテキストとして保存されています。\n",
        "\n",
        "前回同様、SAMファイルはファイルサイズが大きくなってしまうので、BAMファイルに変換し、位置もソートしていきます。\n",
        "\n",
        "SAMファイルを操作するためのプログラム`samtools`を使用して整理します。\n",
        "\n",
        "下記コマンドで`samtools`をインストールします。\n",
        "\n",
        "```\n",
        "apt install samtools\n",
        "```\n",
        "\n",
        "samtoolsがインストール出来たら、`samtools sort`というコマンドに、オプションで`-O bam`とつけることで、SAM形式からBAM形式に変換・位置をソートできました。\n",
        "\n",
        "```\n",
        "samtools sort -O bam SAMファイル名 > BAMファイル名\n",
        "samtools index BAMファイル名\n",
        "```\n",
        "今回のSAMファイルに対しても昨日と同じように動かして`infect_0h_rep1.bam`というBAMファイルを作成してみてください。\n",
        "\n",
        "DNAの解析では集団を扱うと大量のファイルが出来てサイズが大きくなる可能性がありましたが、\n",
        "\n",
        "RNA-seqの場合、集団の解析というよりは様々なコンディション(処理A, 処理B, 温度C, 温度D, ... etc)毎にRNA-seqを実施し比較することが多いので、そういった意味でサイズが非常に大きくなります。\n",
        "\n",
        "よってRNA-seqでも基本的にBAMファイルとしてマッピング結果は保存することが多いです。\n"
      ]
    },
    {
      "cell_type": "markdown",
      "metadata": {
        "id": "JYSeRUYX3jpP"
      },
      "source": [
        "### マッピング結果の可視化\n",
        "\n",
        "これでBAM(SAM)ファイルとして、大量のRNA-seqリードをマッピングした結果が得られました。\n",
        "\n",
        "昨日通り、`IGV`を使用したマッピング結果の可視化を行います。\n",
        "\n",
        "下のコマンドを動かすと、Google Colab上でIGVが使用可能になります。\n",
        "\n",
        "```\n",
        "pip install -q igv-notebook==0.3.1\n",
        "wget -q -O modules.py https://raw.githubusercontent.com/slt666666/FAO_lecture/main/FAO_2024/data/modules.py\n",
        "wget -q https://github.com/CropEvol/lecture/raw/master/textbook_2022/scripts/igv_prep.py -O igv_prep.py\n",
        "\n",
        "samtools faidx assembly.fasta\n",
        "```\n",
        "\n",
        "プログラムのダウンロードが終わったら、下のプログラムを動かすことでIGVが動きます。"
      ]
    },
    {
      "cell_type": "code",
      "execution_count": null,
      "metadata": {
        "id": "BI5nQL9Q3jpP"
      },
      "outputs": [],
      "source": [
        "## Visualize alignment results\n",
        "## import libraries\n",
        "import igv_notebook\n",
        "from modules import RefTrack, AnnotationTrack, BamTrack\n",
        "igv_notebook.init()\n",
        "# show reference genome\n",
        "ref = RefTrack({ \"fastaPath\":\"assembly.fasta\", \"indexPath\":\"assembly.fasta.fai\", \"id\":\"Strain_X\" })\n",
        "# show aligned reads\n",
        "B = BamTrack({ \"name\":\"infect_0h_rep1\", \"path\":\"infect_0h_rep1.bam\", \"indexPath\":\"infect_0h_rep1.bam.bai\", \"viewAsPairs\":True })\n",
        "# visualize\n",
        "b = igv_notebook.Browser(ref)\n",
        "b.load_track(B)\n"
      ]
    },
    {
      "cell_type": "markdown",
      "metadata": {
        "id": "wxDfTpy33jpQ"
      },
      "source": [
        "可視化してみると、どのあたりのゲノム領域が盛んに転写されているのか、ゲノム上でどこからどこまでがexon領域で、どこがintron領域か、ということが分かります。\n",
        "\n",
        "また、exon領域にまたがるリードがいくつかあることが分かるかと思います。このことから、どのexonが結合して1つのmRNAとなっているか(どのexonが1つの遺伝子から来ているか)も調べることが出来ます。\n",
        "\n",
        "<img src=\"https://github.com/CropEvol/lecture/blob/master/textbook_2022/images/gene_annotation_RNAseq.png?raw=true\" alt=\"gene_annotation_RNAseq\" height=\"350px\" align=\"middle\">"
      ]
    },
    {
      "cell_type": "markdown",
      "metadata": {
        "id": "NEGz1H4d3jpR"
      },
      "source": [
        "## 遺伝子のアノテーション\n",
        "\n",
        "さすがに目視で全てのexon領域をチェックすることは難しいので、マッピング結果のBAMファイルから遺伝子のexon領域・intron領域の情報を取り出すプログラムを使用します。\n",
        "\n",
        "この様な、どの領域に遺伝子が位置し、どの部分がexonでどの部分がintronかを検出することを**アノテーション**と呼びます。\n",
        "\n",
        "RNA-seqの結果からアノテーションを実施する事が出来る有名なプログラムとしては[stringtie](https://ccb.jhu.edu/software/stringtie/)や[PsiCLASS](https://github.com/splicebox/PsiCLASS)等があります。\n",
        "\n",
        "ロングリードのRNA-seqに対応していたり、スプライシングバリアントの検出が得意だったり、プログラム毎に特徴があります。\n",
        "\n",
        "今回は`stringtie`を使用するので、今までと同じようにインストールしましょう。\n",
        "\n",
        "```\n",
        "apt install stringtie\n",
        "```\n",
        "\n",
        "`stringtie`を使用することで、RNA-seqのBAMファイルからアノテーションを実施する事が出来ます。\n",
        "\n",
        "アノテーションを実施するとexonの位置などをリスト化したGTFファイルというものが作成されます。\n",
        "\n",
        "GTFとはGene Feature Formatを意味します。\n",
        "\n",
        "コマンドはシンプルで、使用するBAMファイルと作成するGTFファイル名を引数で指定するだけです。\n",
        "\n",
        "```\n",
        "stringtie BAMファイル名 -o 出力するGTFファイル名\n",
        "```\n",
        "\n",
        "今回は`transcripts.gtf`という名前のファイルに出力してみましょう。\n",
        "\n",
        "上手く動かす事が出来れば、`transcripts.gtf`が作成されます。\n",
        "\n",
        "このファイルの中身を`less -S`コマンドで確認すると\n",
        "\n",
        "<img src=\"https://github.com/CropEvol/lecture/blob/master/images/exp_2025_2/stringtie_results.png?raw=true\" alt=\"central_dogma\" height=\"400px\" align=\"middle\">\n",
        "\n",
        "\n",
        "この様な形で、どの染色体、どの位置がexonか、等の情報が記されています。\n",
        "\n",
        "IGVを使用すると、先ほどのマッピング結果に遺伝子のアノテーション情報を追加する事が出来ます。"
      ]
    },
    {
      "cell_type": "code",
      "source": [
        "## RNAseqのアライメント結果を見る\n",
        "## 準備: ライブラリ\n",
        "import igv_notebook\n",
        "from igv_prep import RefTrack, AnnotationTrack, BamTrack\n",
        "igv_notebook.init()\n",
        "## 準備: Reference info\n",
        "ref = RefTrack({ \"fastaPath\":\"assembly.fasta\", \"indexPath\":\"assembly.fasta.fai\", \"id\":\"Strain_X\" })\n",
        "## 準備: Reads info\n",
        "A = BamTrack({ \"name\":\"infect_0h_rep1\", \"path\":\"infect_0h_rep1.bam\", \"indexPath\":\"infect_0h_rep1.bam.bai\", \"viewAsPairs\":True })\n",
        "## IGV表示\n",
        "b = igv_notebook.Browser(ref)\n",
        "## gff 表示\n",
        "b.load_track({\"name\": \"Annotations\", \"type\": \"annotation\", \"format\": \"gtf\", \"displayMode\": \"EXPANDED\", \"path\": \"transcripts.gtf\"})\n",
        "b.load_track(A)"
      ],
      "metadata": {
        "id": "m0HY3fHUYGEV"
      },
      "execution_count": null,
      "outputs": []
    },
    {
      "cell_type": "markdown",
      "source": [
        "### そのほかのアノテーションツール・必要なデータについて\n",
        "\n",
        "遺伝子のアノテーションには、RNA-seqを使用せず、機械学習モデルや他の生物種の遺伝子アノテーション情報から予測を行う手法も開発されています。\n",
        "\n",
        "例えば[Augustus](https://bioinf.uni-greifswald.de/augustus/)や[Helixer](https://github.com/weberlab-hhu/Helixer?tab=readme-ov-file)など。\n",
        "\n",
        "ただし、あくまでも予測の域を出ないので、実際に**動いている遺伝子**を正しくアノテーションするにはRNA-seqが必須になります。\n",
        "\n",
        "また、例えば植物だと葉でのみ発現している遺伝子もあれば、根でしか発現していない遺伝子、熱ストレス下でのみ発現する遺伝子などが存在します。\n",
        "\n",
        "その様な遺伝子をアノテーションするためには、葉のサンプルから得られたRNA-seqのみを使用するのではなく、様々な部位・コンディションのサンプルを用いてRNA-seqを行い、遺伝子のアノテーションをする必要があります。"
      ],
      "metadata": {
        "id": "AJleDGmFHM4S"
      }
    },
    {
      "cell_type": "markdown",
      "source": [
        "## 発現量のカウント\n",
        "\n",
        "DNA配列のマッピングでは遺伝的な変異を検出しましたが、RNA-seqではどの遺伝子がどれだけ発現している(転写されている)のか、という情報を得ることが目的になります。\n",
        "\n",
        "※RNA-seqを使用して遺伝的変異を検出することも可能です。\n"
      ],
      "metadata": {
        "id": "7JC7szmj5HKr"
      }
    },
    {
      "cell_type": "markdown",
      "source": [
        "RNA-seqで読まれるリードは、抽出したmRNAに依存します。\n",
        "\n",
        "大量に転写されている遺伝子のmRNAはその分よくシーケンスされていますし、あまり発現していない遺伝子のmRNAはあまりシーケンスされていません。\n",
        "\n",
        "<img src=\"https://github.com/CropEvol/lecture/blob/master/images/exp_2025_2/read_count.png?raw=true\" alt=\"central_dogma\" height=\"250px\" align=\"middle\">\n",
        "\n",
        "よって、各遺伝子(exon)毎に、大量のリードが張り付いているものはよく転写しており、あまりリードが張り付いていない領域からは転写量が少ない、ということが分かります。\n",
        "\n",
        "そのため、この張り付いたリードの量をカウントすることで各遺伝子の発現量を定量化する事が出来ます。\n",
        "\n",
        "リード量をカウントするプログラムとしては`featureCounts`等が有名です。\n",
        "\n",
        "`featureCounts`は`subread`というツールセットの中のプログラムの1つなので、下記コマンドでインストールできます。\n",
        "\n",
        "```\n",
        "apt install subread\n",
        "```\n",
        "\n",
        "`featureCounts`を使用して、RNA-seqをマッピングしたBAMファイルから遺伝子毎の発現量(リードカウント)を得るには、下記のコマンドを使用します。\n",
        "\n",
        "```\n",
        "featureCounts -a GTFファイル -o 出力ファイル名 BAMファイル\n",
        "```\n",
        "\n",
        "今回は出力ファイル名を`counts.txt`として、`featureCounts`を動かしてみましょう。\n",
        "\n",
        "`GTFファイル`は先ほど作成した`transcripts.gtf`、`BAMファイル`は`infect_0h_rep1.bam`になります。\n",
        "\n",
        "得られたcounts.txtというファイルを見ると、各遺伝子毎にどれだけの数のリードが張り付いたか見る事が出来ます。\n",
        "\n",
        "どの遺伝子の発現量が多いか少ないか、定量的に確認可能です。\n",
        "\n",
        "\n"
      ],
      "metadata": {
        "id": "hWCtz5cQHRP4"
      }
    },
    {
      "cell_type": "markdown",
      "metadata": {
        "id": "agQySASi3jpR"
      },
      "source": [
        "### 複数サンプルの遺伝子発現データ\n",
        "\n",
        "ここまで、遺伝子の発現量を確認する一般的な方法を扱いましたが、\n",
        "\n",
        "通常の研究では複数サンプルの遺伝子発現量を比較し解析する場合が多いです。\n",
        "\n",
        "<img src=\"https://github.com/CropEvol/lecture/blob/master/images/exp_2025_2/compare_RNAseq.png?raw=true\" alt=\"central_dogma\" height=\"250px\" align=\"middle\">\n",
        "\n",
        "そこで、次に複数サンプルの遺伝子発現量の扱いを見てみます。\n",
        "\n",
        "先ほどは通常時のいもち病菌のRNA-seqのデータを使用しました。\n",
        "\n",
        "追加サンプルとして、感受性を示すオオムギ品種Nigrateにいもち病菌を接種し、48時間経った時のいもち病菌サンプルのRNA-seqデータを扱います。\n",
        "\n",
        "通常時の遺伝子発現量と、感染時の遺伝子発現量を比較することで、どんな遺伝子が感染に必要か確認する事が出来ます。\n",
        "\n",
        "<img src=\"https://github.com/CropEvol/lecture/blob/master/images/exp_2025_2/mRNA_compare.png?raw=true\" alt=\"central_dogma\" height=\"250px\" align=\"middle\">\n",
        "\n",
        "感染時のRNA-seqデータは、\n",
        "\n",
        "* https://raw.githubusercontent.com/slt666666/MOryzae_testdata/refs/heads/main/infect_48h_rep1.fastq.gz\n",
        "\n",
        "にあります\n",
        "\n",
        "`wget`コマンドでデータをダウンロードし、このRNA-seqのショートリード(infect_48h_rep1.fastq.gz)を使用して、\n",
        "\n",
        "さきほどと同じ過程でマッピング結果の`BAMファイル`を作成してみてください。\n",
        "\n",
        "1. マッピング\n",
        "```\n",
        "hisat2 -x 作成したindex名 -U ショートリードのファイル名 -S 出力ファイル名\n",
        "```\n",
        "\n",
        "2. マッピング結果のソート、BAM変換\n",
        "```\n",
        "samtools sort -O bam SAMファイル名 > ファイル名.bam\n",
        "samtools index BAMファイル名\n",
        "```\n",
        "\n",
        "`infect_48h_rep1.bam`と`infect_48h_rep1.bam.bai`いうファイルが出来ていれば成功です。\n"
      ]
    },
    {
      "cell_type": "markdown",
      "metadata": {
        "id": "jQRRveIyD68u"
      },
      "source": [
        "続いて、通常時の遺伝子発現量と感染時の遺伝子発現量を比較します。\n",
        "\n",
        "`featureCounts`では複数のBAMファイルを扱うことが可能です。\n",
        "\n",
        "```\n",
        "featureCounts -a GTFファイル -o 出力ファイル名 BAMファイル1 BAMファイル2 BAMファイル3...\n",
        "```\n",
        "\n",
        "最後に指定するBAMファイルを`infect_0h_rep1.bam`と`infect_48h_rep1.bam`の2つ指定して動かしてみてください。\n",
        "\n",
        "`-o`で指定する出力Fファイル名は`counts.txt`としておきます。\n",
        "\n",
        "このファイルを`less -S`コマンドなどで見てみると、\n",
        "\n",
        "`infect_0h_rep1`でのリードカウント、`infect_48h_rep1`のリードカウントが表示されています。\n",
        "\n",
        "このカウントを比較していくわけですが、RNA-seqでは張り付いたリードの数を単純に比較するだけでは、サンプル間の比較はできません。\n",
        "\n",
        "まず、リードカウントは補正する必要があります。[詳しくはゲノム解析入門のRNA-seqの章](https://colab.research.google.com/github/CropEvol/lecture/blob/master/textbook_2024/RNAseq_1.ipynb#scrollTo=Mwy80FwugqxR)を見てください。\n",
        "\n",
        "<br>\n",
        "\n",
        "また、基本的にRNA-seqは同じ条件で反復を少なくとも３回とることが多いです。\n",
        "\n",
        "遺伝子の発現量はブレが大きいので、反復をとってより信頼性を高めた結果を得る必要があります。\n",
        "\n",
        "例えば今回の様に非感染時と感染時の遺伝子発現量を比較したい場合は、\n",
        "\n",
        "非感染時のRNA-seqを３回、感染時のRNA-seqを３回行い、総合的に比較する形になります。\n",
        "\n",
        "* 非感染時の３反復\n",
        "  * https://raw.githubusercontent.com/slt666666/MOryzae_testdata/refs/heads/main/infect_0h_rep1.fastq.gz\n",
        "  * https://raw.githubusercontent.com/slt666666/MOryzae_testdata/refs/heads/main/infect_0h_rep2.fastq.gz\n",
        "  * https://raw.githubusercontent.com/slt666666/MOryzae_testdata/refs/heads/main/infect_0h_rep3.fastq.gz\n",
        "\n",
        "* 感染時の３反復\n",
        "  * https://raw.githubusercontent.com/slt666666/MOryzae_testdata/refs/heads/main/infect_48h_rep1.fastq.gz\n",
        "  * https://raw.githubusercontent.com/slt666666/MOryzae_testdata/refs/heads/main/infect_48h_rep2.fastq.gz\n",
        "  * https://raw.githubusercontent.com/slt666666/MOryzae_testdata/refs/heads/main/infect_48h_rep3.fastq.gz\n",
        "\n",
        "これら６サンプルのRNA-seqの結果を使用します。\n",
        "\n",
        "先ほどやったのと同様の解析を６サンプル使用して行います。\n",
        "\n",
        "ただ、同じ作業を繰り返すことになるので、６回の解析を一気に実行するシェルスクリプトを用意したので下記コマンドを実行してください。\n",
        "\n",
        "```\n",
        "wget https://raw.githubusercontent.com/slt666666/MOryzae_testdata/refs/heads/main/RNA_seq.sh\n",
        "\n",
        "bash RNA_seq.sh\n",
        "```\n",
        "\n",
        "`counts_0h_vs_48h.txt`というファイルが出来ていればOKです。\n",
        "\n",
        "さっきまでやっていたリードカウントの算出を６サンプル全てに対して行った形になります。\n",
        "\n",
        "ついでに遺伝子のアノテーション情報も全サンプルを使用したものにしてあります。\n",
        "\n",
        "この反復を含むリードカウントのデータを使用してサンプル間の比較などを行っていきます。"
      ]
    },
    {
      "cell_type": "markdown",
      "metadata": {
        "id": "lNHGIo3bvmQC"
      },
      "source": [
        "## DEG解析\n",
        "\n",
        "<img src=\"https://github.com/CropEvol/lecture/blob/master/images/exp_2025_2/DEG.png?raw=true\" alt=\"central_dogma\" height=\"400px\" align=\"middle\">\n",
        "\n",
        "サンプル間で発現量が大きく異なっている遺伝子を検出する解析を**DEG**(Differentially expressed gene)解析と呼びます。\n",
        "\n",
        "DEG解析は自分でコツコツプログラムを書いても出来る解析ですが、\n",
        "\n",
        "Rの[edgeR](https://bioconductor.org/packages/release/bioc/vignettes/edgeR/inst/doc/edgeRUsersGuide.pdf)や[DEseq2](https://bioconductor.org/packages/release/bioc/manuals/DESeq2/man/DESeq2.pdf)といったパッケージを活用することで、\n",
        "\n",
        "リードカウントの補正も含んだ、サンプル間で遺伝子発現量の比較を簡単に行う事が出来ます。\n",
        "\n",
        "今回は`DEseq`をPythonで動かす事が出来るプログラム[PyDESeq](https://pydeseq2.readthedocs.io)を使用してDEG解析を行います。\n",
        "\n",
        "下記コマンドで`PyDESeq`をインストールします。\n",
        "\n",
        "```\n",
        "pip install pydeseq2\n",
        "```\n",
        "\n",
        "細かい説明は省きますが[公式のチュートリアル](https://pydeseq2.readthedocs.io/en/stable/auto_examples/index.html)を読んでいけば必要なコードやコマンドが全て記載されています。\n",
        "\n",
        "下記のコードを動かすことで感染48h後と非感染時(0h)の発現変動遺伝子(DEG)検出が実施されます。\n"
      ]
    },
    {
      "cell_type": "code",
      "source": [
        "import pandas as pd\n",
        "from pydeseq2.utils import load_example_data\n",
        "from pydeseq2.dds import DeseqDataSet\n",
        "from pydeseq2.default_inference import DefaultInference\n",
        "from pydeseq2.ds import DeseqStats\n",
        "\n",
        "# データの整備\n",
        "counts_df = pd.read_csv(\"counts_0h_vs_48h.txt\", sep=\"\\t\", comment=\"#\").set_index(\"Geneid\").iloc[:, 5:].T\n",
        "metadata = pd.DataFrame(index=counts_df.index, data={\"condition\":[\"0h\", \"0h\", \"0h\", \"48h\", \"48h\", \"48h\"]})\n",
        "\n",
        "# 発現量の極端に少ない遺伝子を除去\n",
        "genes_to_keep = counts_df.columns[counts_df.sum(axis=0) >= 10]\n",
        "counts_df = counts_df[genes_to_keep]\n",
        "\n",
        "# リードカウントの補正&検定など\n",
        "inference = DefaultInference()\n",
        "dds = DeseqDataSet(\n",
        "  counts=counts_df,\n",
        "  metadata=metadata,\n",
        "  design_factors=\"condition\",\n",
        "  refit_cooks=True,\n",
        "  inference=inference,\n",
        ")\n",
        "dds.deseq2()\n",
        "stat_res = DeseqStats(dds, contrast=[\"condition\", \"48h\", \"0h\"], inference=inference)\n",
        "stat_res.summary()"
      ],
      "metadata": {
        "id": "anUoR2ocpgML"
      },
      "execution_count": null,
      "outputs": []
    },
    {
      "cell_type": "markdown",
      "source": [
        "下記コマンドで解析結果を保存する事が出来、結果はExcel等で開く事が出来ます。"
      ],
      "metadata": {
        "id": "wikItHKsC9wF"
      }
    },
    {
      "cell_type": "code",
      "source": [
        "# 解析結果の保存\n",
        "stat_res.results_df.to_csv(\"DEG_0h_vs_48h.csv\")"
      ],
      "metadata": {
        "id": "oDDu8iSMC9Sc"
      },
      "execution_count": null,
      "outputs": []
    },
    {
      "cell_type": "markdown",
      "source": [
        "得られた結果の`log2FoldChange`が比較してどのくらい発現量に差があったかを示しています。\n",
        "\n",
        "\"log2FoldChange\"が1だと2倍違い、2だと4倍違ってくるという形です。\n",
        "\n",
        "`padj`が補正されたp値(adjusted-pvalue)を示しています。\n",
        "\n",
        "全ての遺伝子について載っているので、\"発現量に差がある\"という基準のものを抽出する必要があります。\n",
        "\n",
        "`log2FoldChange`の絶対値が1以上かつ補正されたp値`padj`が0.05未満の遺伝子をDEGとする場合が多いです。"
      ],
      "metadata": {
        "id": "nsSZtlqaBJ98"
      }
    },
    {
      "cell_type": "code",
      "source": [
        "# 発現量の変動が強い上位10遺伝子を表示\n",
        "stat_res.results_df.sort_values(by=[\"padj\"]).head(10)"
      ],
      "metadata": {
        "id": "ErJzK7JR-3a6"
      },
      "execution_count": null,
      "outputs": []
    },
    {
      "cell_type": "markdown",
      "source": [
        "IGVでリードの張り付き具合を見てみると差がよく分かります。"
      ],
      "metadata": {
        "id": "QtGLmDNNEiCg"
      }
    },
    {
      "cell_type": "code",
      "source": [
        "## RNAseqのアライメント結果を見る\n",
        "## 準備: ライブラリ\n",
        "import igv_notebook\n",
        "from igv_prep import RefTrack, AnnotationTrack, BamTrack\n",
        "igv_notebook.init()\n",
        "## 準備: Reference info\n",
        "ref = RefTrack({ \"fastaPath\":\"assembly.fasta\", \"indexPath\":\"assembly.fasta.fai\", \"id\":\"Strain_X\" })\n",
        "## 準備: Reads info\n",
        "A = BamTrack({ \"name\":\"infect_0h_rep1\", \"path\":\"infect_0h_rep1.bam\", \"indexPath\":\"infect_0h_rep1.bam.bai\", \"viewAsPairs\":True })\n",
        "B = BamTrack({ \"name\":\"infect_48h_rep1\", \"path\":\"infect_48h_rep1.bam\", \"indexPath\":\"infect_48h_rep1.bam.bai\", \"viewAsPairs\":True })\n",
        "## IGV表示\n",
        "b = igv_notebook.Browser(ref)\n",
        "## gff 表示\n",
        "b.load_track({\"name\": \"Annotations\", \"type\": \"annotation\", \"format\": \"gtf\", \"displayMode\": \"EXPANDED\", \"path\": \"transcripts.gtf\"})\n",
        "b.load_track(A)\n",
        "b.load_track(B)"
      ],
      "metadata": {
        "id": "DlmFCYZUD94X"
      },
      "execution_count": null,
      "outputs": []
    },
    {
      "cell_type": "markdown",
      "metadata": {
        "id": "gFQZciLNvmQD"
      },
      "source": [
        "### BLASTで発現変動の大きかった遺伝子を調べてみる\n",
        "\n",
        "こうしてみると、`STRG.1697`という遺伝子は感染時に発現量がガクッと下がっています。\n",
        "\n",
        "逆に`STRG.1269`という遺伝子は感染時に発現量が爆発的に上がっています。\n",
        "\n",
        "これらの遺伝子の機能が気になるので、まずは各遺伝子の配列を取りに行きます。\n",
        "\n",
        "`gffread`というツールを使うと、先ほど作成した遺伝子アノテーション情報のGTFファイルとゲノム配列から遺伝子毎の配列を取り出す事が出来ます。\n",
        "\n",
        "```\n",
        "apt install gffread\n",
        "```\n",
        "\n",
        "下記コマンドで各exon領域の配列を全て取り出せます。\n",
        "\n",
        "```\n",
        "gffread transcripts.gtf -g assembly.fasta -w transcripts.fasta\n",
        "```\n",
        "\n",
        "このコマンドで作成された`transcripts.fasta`に全遺伝子の配列が入っています。\n",
        "\n",
        "さて、ここから目的の`STRG.1697`や`STRG.1269`を探すわけですが、今度は`seqkit`を使用した下記コマンドで抽出可能です。\n",
        "\n",
        "※この時、探したい遺伝子名の後ろに\".1\"をつけてください。\n",
        "\n",
        "例) `\"STRG.1697\"`を探す場合は`\"STRG.1697.1\"`\n",
        "\n",
        "```\n",
        "seqkit grep -p 探したい遺伝子名 transcripts.fasta > 出力ファイル名\n",
        "```\n",
        "\n",
        "これで遺伝子名をキーに配列を出力する事が出来ます。\n",
        "\n",
        "出力された配列を[BLAST](https://blast.ncbi.nlm.nih.gov/Blast.cgi)にかけて、発現変動が大きい遺伝子がどのような機能を持っていそうか調べてみる事が出来ます。\n",
        "\n",
        "\n"
      ]
    },
    {
      "cell_type": "markdown",
      "source": [
        "### DEG解析の可視化: Volcano plot\n",
        "\n",
        "この様なDEG解析の結果はVolcano plotの形で可視化されることが多いです。\n",
        "\n",
        "今回はPythonを使用している都合上プログラムを書いていますが、Rには自動的にVolcano plotを描いてくれるパッケージなどもあります。"
      ],
      "metadata": {
        "id": "nJDIv3H-Bokj"
      }
    },
    {
      "cell_type": "code",
      "source": [
        "import pandas as pd\n",
        "import seaborn as sns\n",
        "import matplotlib.pyplot as plt\n",
        "import numpy as np\n",
        "\n",
        "df = stat_res.results_df\n",
        "df['nlog10'] = -np.log10(df.padj)\n",
        "\n",
        "def dot_color(a):\n",
        "    logFC, nlog10 = a\n",
        "\n",
        "    if abs(logFC) <= 1 or nlog10 <= 2:\n",
        "        return 'Not significant'\n",
        "    if logFC > 1 and nlog10 >2:\n",
        "        return 'Up'\n",
        "    if logFC < -1 and nlog10 >2:\n",
        "        return 'Down'\n",
        "df['color'] = df[['log2FoldChange', 'nlog10']].apply(dot_color, axis = 1)\n",
        "\n",
        "plt.figure(figsize = (7,7))\n",
        "\n",
        "ax = sns.scatterplot(data = df, x = 'log2FoldChange', y = 'nlog10',\n",
        "                    hue = 'color', hue_order = ['Not significant', 'Up', 'Down'],\n",
        "                    palette = ['dimgrey', 'firebrick', 'darkslateblue'])\n",
        "\n",
        "ax.axhline(2, zorder = 0, c = 'k', lw = 2, ls = '--')\n",
        "ax.axvline(1, zorder = 0, c = 'k', lw = 2, ls = '--')\n",
        "ax.axvline(-1, zorder = 0, c = 'k', lw = 2, ls = '--')\n",
        "\n",
        "for axis in ['bottom', 'left']:\n",
        "    ax.spines[axis].set_linewidth(2)\n",
        "\n",
        "ax.spines['top'].set_visible(False)\n",
        "ax.spines['right'].set_visible(False)\n",
        "\n",
        "ax.tick_params(width = 2)\n",
        "\n",
        "plt.xticks(size = 12, weight = 'bold')\n",
        "plt.yticks(size = 12, weight = 'bold')\n",
        "\n",
        "plt.xlabel(\"$log_{2}$ fold change\", size = 15)\n",
        "plt.ylabel(\"-$log_{10}$ q-value\", size = 15)\n",
        "\n",
        "plt.show()"
      ],
      "metadata": {
        "id": "0My34SNcChWl"
      },
      "execution_count": null,
      "outputs": []
    },
    {
      "cell_type": "markdown",
      "source": [
        "# レポート課題\n",
        "\n",
        "今回は扱った解析が多岐にわたるので、全体のレポートを書いてもらうのは大変だと思います。そこでRNA-seqの解析に絞ったレポートを書いて下さい。\n",
        "\n",
        "[レポート課題のページ](https://colab.research.google.com/github/CropEvol/lecture/blob/master/exp_2025_Oct/RNA_seq_report.ipynb)\n",
        "\n"
      ],
      "metadata": {
        "id": "ny_PE6WMR8RT"
      }
    },
    {
      "cell_type": "markdown",
      "source": [
        "明日は遺伝子が転写翻訳された後の、タンパク質の構造予測を行います。\n",
        "\n"
      ],
      "metadata": {
        "id": "Cc7U_xTCKEwl"
      }
    }
  ],
  "metadata": {
    "colab": {
      "provenance": [],
      "toc_visible": true
    },
    "kernelspec": {
      "display_name": "Python 3",
      "name": "python3"
    },
    "language_info": {
      "name": "python"
    }
  },
  "nbformat": 4,
  "nbformat_minor": 0
}