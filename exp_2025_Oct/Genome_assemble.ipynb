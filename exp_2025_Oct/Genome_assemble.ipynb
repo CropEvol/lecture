{
  "cells": [
    {
      "cell_type": "markdown",
      "metadata": {
        "id": "o0VV-_nAwkYP"
      },
      "source": [
        "# 生物先端コース 学生実習 2025後期 1日目\n",
        "\n",
        "## コマンドの基礎とゲノムアセンブル\n",
        "\n",
        "<img src=\"https://github.com/CropEvol/lecture/blob/master/images/exp_2025_2/centraldogma.png?raw=true\" alt=\"title\" height=\"300px\">\n",
        "\n",
        "本実習では、Genomics, Transcriptomics, Proteomicsに関する基本的なゲノム解析技術を学習していきます。\n",
        "\n",
        "1日目の今日は、生物の全ゲノム配列を決定するゲノムアセンブルについて学習していきます。\n",
        "\n",
        "ゲノム解析にかかわる多くのツールは、コマンドを通して操作する**コマンドラインツール**と呼ばれるツールがほとんどです。\n",
        "\n",
        "そこで、本実習ではまずコマンドの基本的な使い方を学んだ後、全ゲノム配列の解読について学習していきます。\n"
      ]
    },
    {
      "cell_type": "markdown",
      "source": [
        "## 実習環境: Google Colaboratory\n",
        "本実習ではGoogle ColaboratoryというGoogleの提供しているサービスを用いて実習を行います。\n",
        "\n",
        "「Google Colab」は、Google社のサーバー（Colabサーバー）上で、ノートブックを表示・編集・実行できるオンラインサービスです。\n",
        "\n",
        "PythonやR等のプログラミングを行う際に使用する事が多いサービスですが、簡単なコマンドや、コマンドから動かすソフトも動かすことが出来ます。\n",
        "\n",
        "皆さんの持っているPCはそれぞれスペックやOS等が異なっていますが、このサービスを使うことで、共通の環境を解析を行うことが出来ます。\n",
        "\n",
        "<img src=\"https://lh3.googleusercontent.com/rGFAR5vGV9lYsnnb1QhFUZlWbOtHVTwhLq4wBjIIxgJ05Dldb6ELwBTpmkBM-1i7XQ1ir1JIkxK3fcfQ20HK0VkraOPPZdClaM9caTbvsewYMU-lvsIhvXvtcDuhm8VHL495z-m9Cq_oktsqtYg-EAZXpc6_-3ebHARqVPE-q2d6EM_fq6Zcnjq3BODbYdxmAyOrS0lycbTJBvcGNWAkAJ-ECJBPyKAevUEXSCUDx7NkYgjh1Wj02VTP2POVBmpJTZhegRVyWMVryUjeKeJd9mEcoCNRWV7dEk8O80ETmOh0512AuMqzLUivD6mGxItX24uAChpt64ToJq2lAvDeg2gYk7fIKPUGPvroLFKy_UN3dlKSeC1upQsdEwDHEcgp5RK3tggn1eERsLKxqY-QDjL-LlcRyYrRqSjiTWFIkNBeif3v0R8K80JN8R2b49ukgR-Y3jOJQ1Sq23Vt16Nz98dhAXGADKNXnnmPcoeLtoHkGXIO0XxNCXj568wyC4q4WiPt82ATSORKpM-EQis-tcjh840FMsJ0fuHe-jOtLYtWqbvnmXDYJBtX_K-HDu3Vf0tD6wWks2A10NTlyh_W9Id5KRmBfq5bpqxYhv21Knrl7EFYCyF3UofbJ5MZGvjuFu-4yUwW5m5d6KsgKzs2KIUSAvF6WtCH2Vqz-HynVTMx0Q1pyRDXw8QBThSW=w1341-h510-no?authuser=0\" alt=\"colab_server\" height=\"150px\">\n",
        "\n",
        "今回の実習ではPythonプログラムは少ししか使用しないですが、例えば下記の様に記述したコードを動かすことが出来ます。\n",
        "\n",
        "左側の三角ボタンを押してみてください。"
      ],
      "metadata": {
        "id": "kRxGO4JPGpEV"
      }
    },
    {
      "cell_type": "code",
      "source": [
        "import numpy as np\n",
        "import IPython.display as display\n",
        "from matplotlib import pyplot as plt\n",
        "import io\n",
        "import base64\n",
        "\n",
        "ys = 200 + np.random.randn(100)\n",
        "x = [x for x in range(len(ys))]\n",
        "\n",
        "fig = plt.figure(figsize=(4, 3), facecolor='w')\n",
        "plt.plot(x, ys, '-')\n",
        "plt.fill_between(x, ys, 195, where=(ys > 195), facecolor='g', alpha=0.6)\n",
        "plt.title(\"Sample Visualization\", fontsize=10)\n",
        "\n",
        "data = io.BytesIO()\n",
        "plt.savefig(data)\n",
        "image = F\"data:image/png;base64,{base64.b64encode(data.getvalue()).decode()}\"\n",
        "alt = \"Sample Visualization\"\n",
        "display.display(display.Markdown(F\"\"\"![{alt}]({image})\"\"\"))\n",
        "plt.close(fig)"
      ],
      "metadata": {
        "id": "vwgtpOIWdpvK"
      },
      "execution_count": null,
      "outputs": []
    },
    {
      "cell_type": "markdown",
      "source": [
        "また、PythonやRのプログラムだけでなく、コマンドやコマンドから動かすツールも扱えます。\n",
        "\n",
        "左下に`ターミナル`と書いてる部分をクリックすると、コマンドを入力して動かすための画面が開きます。\n",
        "\n",
        "<img src=\"https://github.com/CropEvol/lecture/blob/master/images/exp_2025_2/terminal.png?raw=true\" alt=\"title\" height=\"400px\">\n",
        "\n",
        "新しく開いた画面は**ターミナル**と呼ばれ、コマンド入力を通じて、コンピュータの操作を行うことができます。\n",
        "\n",
        "普段私たちがマウスで操作したり、クリックや右クリックで行っている様な操作は全てコマンドを通じて行うことができます。\n",
        "\n",
        "今回は、Googleのサーバー(PC)をターミナルを通して動かしていきます。\n",
        "\n",
        "簡単な例ですが、ターミナル画面で`ls`と入力してEnterを押してみましょう。\n",
        "\n",
        "<img src=\"https://github.com/CropEvol/lecture/blob/master/images/exp_2025_2/ls_command.png?raw=true\" alt=\"title\" height=\"400px\">\n",
        "\n",
        "\n",
        "`ls`はlistの略で、今いる場所にあるファイルやフォルダの一覧を表示してくれます。\n",
        "\n",
        "実際に今Googleのサーバー上にある`sample_data`というフォルダが表示されたかと思います。\n",
        "\n",
        "※一応Google Colabではコードを書く部分に`!ls`の様な形で頭に`!`をつけるとコマンド扱いしてくれますが、ややこしいので本実習ではターミナルの画面を使います。\n",
        "\n",
        "\n"
      ],
      "metadata": {
        "id": "UR5glw6xd6LH"
      }
    },
    {
      "cell_type": "code",
      "source": [
        "# 一応コードセルからもコマンドを動かせる。\n",
        "!ls"
      ],
      "metadata": {
        "id": "BZdDe9I1JkJ7"
      },
      "execution_count": null,
      "outputs": []
    },
    {
      "cell_type": "markdown",
      "source": [
        "# Linuxの基本コマンド\n",
        "\n",
        "ゲノム解析・バイオインフォマティクスで使用するコマンドの前に、\n",
        "\n",
        "まず、Linuxの基本的なコマンドをいくつか紹介します。\n",
        "\n",
        "基本的なコマンドを使用していく中で、コマンドを使用する感覚がつかめるかと思います。\n",
        "\n",
        "では代表的なコマンドいくつか見ていきましょう。\n",
        "\n"
      ],
      "metadata": {
        "id": "sxLTp-iuJ2TV"
      }
    },
    {
      "cell_type": "markdown",
      "source": [
        "### **pwd** 現在のディレクトリの表示\n",
        "\n",
        "`pwd`コマンドで自分が今いる位置が分かります。\n",
        "\n",
        "(Print Working Directoryの略です。)"
      ],
      "metadata": {
        "id": "DpAQ79mtM5UC"
      }
    },
    {
      "cell_type": "markdown",
      "source": [
        "### **cd** 現在のディレクトリの変更\n",
        "\n",
        "`cd`コマンドで今いる場所を移動できます。\n",
        "\n",
        "```\n",
        "cd <行き先の名前>\n",
        "```\n",
        "\n",
        "という形で使用します。\n",
        "\n",
        "例えば、さきほど`ls`コマンドで`sample_data`というフォルダがあるのが見えました。\n",
        "\n",
        "この中に移動してみましょう。\n",
        "\n",
        "\n",
        "```\n",
        "cd sample_data\n",
        "```\n",
        "\n",
        "と入力してEnterを押すと`sample_data`に移動できます。\n",
        "\n",
        "この状態で`ls`をすると、`sample_data`フォルダ内のファイルが表示されるかと思います。\n",
        "\n",
        "<img src=\"https://github.com/CropEvol/lecture/blob/master/images/exp_2025_2/cd_command.png?raw=true\" alt=\"title\" height=\"250px\">\n",
        "\n",
        "ひとまずターミナルを起動した時のスタート地点である`/content`に戻っておきましょう。\n",
        "\n",
        "```\n",
        "cd /content\n",
        "```\n"
      ],
      "metadata": {
        "id": "BotI5Q8aNKBM"
      }
    },
    {
      "cell_type": "markdown",
      "source": [
        "### **ls** ファイル・ディレクトリの一覧の表示\n",
        "\n",
        "先ほど扱った`ls`コマンドですが、ファイル等の一覧を表示することができます。\n",
        "\n",
        "コマンドには**オプション**というものを設定することができ、いろいろ機能を追加したり変更できます。\n",
        "\n",
        "`ls`コマンドにもオプションがあり、`-la`とつけるとより細かい情報や隠しファイルなども含めて表示してくれます。\n",
        "\n",
        "```\n",
        "ls -la\n",
        "```\n",
        "\n",
        "バイオインフォマティクスのツールを使用する際にも色々オプションを設定することになります。"
      ],
      "metadata": {
        "id": "0O8Yn05MMol7"
      }
    },
    {
      "cell_type": "markdown",
      "source": [
        "### **mkdir** ディレクトリの作成\n",
        "\n",
        "`mkdir`コマンドで新しいディレクトリ(フォルダ)を作成することができます。\n",
        "\n",
        "```\n",
        "mkdir <好きなフォルダ名>\n",
        "```\n",
        "(好きなフォルダ名の部分は好きな文字列を入力してください。)\n",
        "\n",
        "<img src=\"https://github.com/CropEvol/lecture/blob/master/images/exp_2025_2/mkdir_command.png?raw=true\" alt=\"title\" height=\"250px\">\n",
        "\n",
        "新しく自分のつけた名前のフォルダが作成されたかと思います。\n",
        "\n",
        "今回のフォルダ名の様にコマンドの後にスペースで区切って入力するものを**引数**と呼びます。\n",
        "\n",
        "今回の様な任意の文字列を指定する場合や、コマンドを適用するファイルを指定する場合に引数の形で使用します。"
      ],
      "metadata": {
        "id": "b7GF5PTEPm52"
      }
    },
    {
      "cell_type": "markdown",
      "source": [
        "### **mv** ファイルやディレクトリの移動\n",
        "\n",
        "`mv`コマンドでファイルやフォルダを任意の場所に移動させることができます。\n",
        "\n",
        "先ほどの`mkdir`コマンドで作成しフォルダを`sample_data`フォルダ内に移動させてみましょう。\n",
        "\n",
        "```\n",
        "mv <フォルダ名> sample_data/\n",
        "```\n",
        "\n",
        "上のコマンドを動かすと先ほど作成したフォルダが`sample_data`内に移動したかと思います。"
      ],
      "metadata": {
        "id": "kybN_kF5Q6cS"
      }
    },
    {
      "cell_type": "markdown",
      "source": [
        "### **touch** ファイルがあれば日時を更新、無ければ空のファイルを作る\n",
        "\n",
        "`touch`コマンドで中身が空のファイルを作成することができます。\n",
        "\n",
        "こちらも先ほどの`mkdir`コマンド同様、引数にファイル名を指定します。\n",
        "\n",
        "```\n",
        "touch <好きなファイル名.txt>\n",
        "```\n",
        "\n",
        "左のフォルダマークのところから作成したファイルをクリックすると、中身を入力できます。\n",
        "\n",
        "入力した後は`Ctrl+S`で保存できます。\n",
        "\n",
        "※`vim`コマンド等を使用するとコマンドから中身を編集できますが、ちょっと難易度が高いので今回は割愛します。"
      ],
      "metadata": {
        "id": "Ebw4tUdyaYOt"
      }
    },
    {
      "cell_type": "markdown",
      "source": [
        "### **rm** ファイルを削除する\n",
        "\n",
        "`rm`コマンドでファイルやディレクトリを削除することができます。\n",
        "\n",
        "こちらも引数に削除したいファイル名を指定します。\n",
        "\n",
        "```\n",
        "rm <削除したいファイル名>\n",
        "```\n",
        "\n",
        "ディレクトリ(フォルダ)を削除する場合はオプションで`-r`が必要です。\n",
        "\n",
        "```\n",
        "rm -r <削除したいディレクトリ名>\n",
        "```"
      ],
      "metadata": {
        "id": "vvK61BkVe2Nx"
      }
    },
    {
      "cell_type": "markdown",
      "source": [
        "### **wget** インターネットからファイルをダウンロードする\n",
        "\n",
        "`wget`コマンドを使用することで、URLを通じてインターネット上のファイルをダウンロードできます。\n",
        "\n",
        "例えばネット上に下記の様なデータがあります。\n",
        "\n",
        "[イネの形質データ](https://raw.githubusercontent.com/CropEvol/lecture/master/textbook_2023/dataset/GWAS_sample_phenotype_rice.csv)\n",
        "\n",
        "このデータをコマンドでダウンロードする場合、`wget`コマンドの引数にURLを指定すればOKです。\n",
        "\n",
        "```\n",
        "wget <URL>\n",
        "```\n",
        "\n",
        "今回の場合、\n",
        "\n",
        "```\n",
        "wget https://raw.githubusercontent.com/CropEvol/lecture/master/textbook_2023/dataset/GWAS_sample_phenotype_rice.csv\n",
        "```\n",
        "となります。\n"
      ],
      "metadata": {
        "id": "spr_JS7iSPy6"
      }
    },
    {
      "cell_type": "markdown",
      "source": [
        "### **less** テキストファイルを表示・閲覧する\n",
        "\n",
        "`less`コマンドでファイルの中身を見ることができます。\n",
        "\n",
        "例えば先ほどダウンロードしたファイルの中身を見るには、\n",
        "\n",
        "```\n",
        "less GWAS_sample_phenotype_rice.csv\n",
        "```\n",
        "とすれば中身を見ることができます。\n",
        "\n",
        "下の画面に戻るには`q`を押すと戻ります。\n"
      ],
      "metadata": {
        "id": "ODhKUJJcTl_L"
      }
    },
    {
      "cell_type": "markdown",
      "source": [
        "### **apt** Linuxのソフトウェア管理コマンド\n",
        "\n",
        "`apt`コマンドを使用することで、Linuxで使用できるソフトをインストールしたり更新したりすることができます。\n",
        "\n",
        "例えば`screenfetch`というコマンドがLinuxにはありますが、\n",
        "\n",
        "今`screenfetch`と打っても`command not found`(そんなコマンドは無い)と出てしまうと思います。\n",
        "\n",
        "そこで`apt`コマンドでこのツールをインストールしてみます。\n",
        "\n",
        "```\n",
        "apt install screenfetch\n",
        "```\n",
        "\n",
        "これで`screenfetch`コマンドが使えるようになったかと思います。\n",
        "\n",
        "※`screenfetch`コマンドはOSやPCスペックの情報などを表示してくれます\n",
        "\n",
        "`apt install`コマンドを使用して、もともと入っていないコマンドやバイオインフォマティクス用のツールも一部インストールすることができます。"
      ],
      "metadata": {
        "id": "7lAzK8t0W0gL"
      }
    },
    {
      "cell_type": "markdown",
      "source": [
        "### **clear** 画面をきれいにする\n",
        "\n",
        "`clear`コマンドを使用すると画面に表示されていたものを消して綺麗にすることができます。\n",
        "\n",
        "(表示が消えるだけで実行した内容はそのまま)"
      ],
      "metadata": {
        "id": "ZPJlMDZ5YnIP"
      }
    },
    {
      "cell_type": "markdown",
      "source": [
        "他にも様々なコマンドがありますが、あくまで**PCを操作するためのコマンド**になるので、このあたりにしておきます。\n",
        "\n",
        "下記サイトの様なコマンドを紹介してくれているサイトもたくさんあるので、気になる人はまた見てみてください。\n",
        "\n",
        "[初心者向け！基本的なLinuxコマンドと使い方！](https://qiita.com/nokonoko_1203/items/35c4078bf72cffb16171)"
      ],
      "metadata": {
        "id": "UQxEh2stUgsQ"
      }
    },
    {
      "cell_type": "markdown",
      "source": [
        "# シェルスクリプトの使い方\n",
        "\n",
        "先ほどまではコマンドを1つずつ(1行ずつ)実行していましたが、複数のコマンドを一気に実行することも可能です。\n",
        "\n",
        "この時に**シェルスクリプトというものを使用します。**\n",
        "\n",
        "実行するコマンドを全て1つのファイルに記入し、実行する形になります\n",
        "\n",
        "ひとまず簡単な例を実行してみます。\n",
        "\n",
        "```\n",
        "touch test.sh\n",
        "```\n",
        "\n",
        "で`test.sh`というファイルを作成します。\n",
        "\n",
        "続いて、左のフォルダ一覧からtest.shに下の様な内容を書き込みます。\n",
        "\n",
        "```\n",
        "mkdir shell_test\n",
        "cd shell_test\n",
        "touch text1.txt\n",
        "touch text2.txt\n",
        "touch text3.txt\n",
        "cd /content\n",
        "```\n",
        "\n",
        "書き込んだ後は`Ctrl+S`で保存します。\n",
        "\n",
        "中身は`shell_test`というフォルダを作成し、その中に移動、そこでtext1~3という3つのファイルを作成する。というコマンドが書かれています。\n",
        "\n",
        "この`test.sh`が作成出来たら、このファイルを実行してみましょう。\n",
        "\n",
        "```\n",
        "bash test.sh\n",
        "```\n",
        "\n",
        "という形で実行することができます。\n",
        "\n",
        "(フォルダ名に`\\r`とかついちゃう場合がありますが今回は気にしないでください、文字を書き込む仕様上仕方ない部分です)\n",
        "\n",
        "\n",
        "これで大量のコマンドを1度に実行することができるようになりました。\n",
        "\n",
        "大量のデータをダウンロードしたり、大量の配列データを処理する場合に役立ちます。"
      ],
      "metadata": {
        "id": "pquTqOogZ7Iw"
      }
    },
    {
      "cell_type": "markdown",
      "metadata": {
        "id": "vTTLw-ES7gnT"
      },
      "source": [
        "# ゲノムアセンブル\n",
        "\n",
        "　さて、それでは本日のメインテーマ、ゲノムアセンブルに移っていきましょう。\n",
        "\n",
        "　近年、シロイヌナズナやイネなどのようなモデル生物だけでなく、さまざまな生物でゲノム配列の整備（ゲノム解読）が進められています。解読されたゲノム配列は、進化学的研究や育種学的研究など、幅広い研究の基盤情報になります。\n",
        "\n",
        "　次世代シーケンシング（ショートリードシーケンシング）や第三世代シーケンシング（ロングリードシーケンシング）をおこなうと、元々のゲノム配列に由来する、短い塩基配列（**リード、Read**）を多数得られます。ゲノム解読は、多数の短い配列をつなぎ、元のゲノム配列を復元する試みです。その復元処理は**ゲノムアセンブル**（Genome assemble）と呼ばれています。\n",
        "\n",
        "<img src=\"https://github.com/CropEvol/lecture/blob/master/textbook_2023/images/Assemble_figs/assemble_overview.png?raw=true\" height=\"100px\" align=\"middle\">\n",
        "\n",
        "　ショートリードとロングリードの違いが知りたい方は[ゲノム情報解析入門の講義](https://colab.research.google.com/github/CropEvol/lecture/blob/master/textbook_2024/Genome_assemble.ipynb)の資料等を参考にしてみてください。\n",
        "\n",
        "　今回の実習では、いもち病菌という病原菌のDNAを材料として、Nanoporeシーケンサーによって得られたロングリードからゲノム配列をアセンブルしてみます。\n",
        "\n",
        "\n",
        "<img src=\"https://github.com/CropEvol/lecture/blob/master/images/exp_2025_2/magnaporthe1.png?raw=true\" alt=\"title\" height=\"300px\">\n",
        "\n",
        "\n",
        "\n"
      ]
    },
    {
      "cell_type": "markdown",
      "metadata": {
        "id": "hMsANIN_DuIy"
      },
      "source": [
        "## データのダウンロード\n",
        "　この実習で使用するサンプルデータをダウンロードします。\n",
        "\n",
        "昨年度野外で採集されたいもち病菌(菌株GZ)からDNAを抽出し、ナノポアシーケンサーによって配列を読みました。\n",
        "\n",
        "<img src=\"https://github.com/CropEvol/lecture/blob/master/images/exp_2025_2/magnaporthe2.png?raw=true\" alt=\"title\" height=\"250px\">\n",
        "\n",
        "Nanoporeシーケンサーによって読まれた配列データは**Fastq形式**というファイルで保存されます。\n",
        "\n",
        "ファイルの拡張子は`ファイル名.fastq`や`ファイル名.fq`になりますが、\n",
        "\n",
        "データサイズが大きいので、圧縮されて`ファイル名.fastq.gz`というファイル形式になっていることが多いです。\n",
        "\n",
        "今回は、\n",
        "\n",
        "https://github.com/slt666666/NLR_biology_workshop_2024/raw/master/script/get_dataset.sh\n",
        "\n",
        "というURLにデータをダウンロードするシェルスクリプトを置いてあります。\n",
        "\n",
        "先ほど学習した`wget`コマンドでダウンロードして、シェルスクリプトとして実行してみてください。\n",
        "\n",
        "```\n",
        "wget <URL>\n",
        "bash <ダウンロードしてきたシェルスクリプト>\n",
        "```\n",
        "\n",
        "うまくいくと、\n",
        "\n",
        "* `bctg.fastq.gz` ... Nanoporeリード全て\n",
        "* `bctg.part_001.fastq` ... 上のファイルの一部を抜き出したもの\n",
        "\n",
        "の2つのファイルがダウンロードできるかと思います。"
      ]
    },
    {
      "cell_type": "markdown",
      "metadata": {
        "id": "wzVhiDq8Dot6"
      },
      "source": [
        "## ソフトウェアのダウンロード\n",
        "\n",
        "　続いて、今回使用するソフトウェアをダウンロード・インストールします。\n",
        "\n",
        "　まずはfastqなどの配列データを扱うソフト`seqkit`をインストールします。\n",
        "\n",
        "`seqkit`は先ほど使用した`apt`コマンドで簡単にインストールできます。\n",
        "\n",
        "```\n",
        "apt install seqkit\n",
        "```\n",
        "\n",
        "続いて、得られたNanoporeリードをつなぎ合わせて元のゲノム配列を復元する**アセンブル**を行うためのプログラム(**アセンブラー**)をインストールします。\n",
        "\n",
        "<img src=\"https://github.com/CropEvol/lecture/blob/master/images/exp_2025_2/assemble.png?raw=true\" alt=\"title\" height=\"150px\">\n",
        "\n",
        "ロングリードをアセンブルするソフトウェアには様々なものがあり、今でも新たなソフトが開発されていますが、本実習では[**Flye**](https://github.com/mikolmogorov/Flye)というソフトを使用します。\n",
        "\n",
        "こちらは`apt`コマンドでは導入できないプログラムなので、プログラムの公式ページからインストールの方法を探して実行します。\n",
        "\n",
        "[**Flye**](https://github.com/mikolmogorov/Flye)の中にある**Installation instructions**から、**Installing from source** のところのコマンドを1行ずつ実行していきます。\n",
        "\n",
        "(10分位時間がかかります。)\n",
        "\n",
        "```\n",
        "git clone https://github.com/fenderglass/Flye\n",
        "cd Flye\n",
        "python setup.py install\n",
        "```\n",
        "実行が終了すれば、\n",
        "\n",
        "```\n",
        "flye\n",
        "```\n",
        "というコマンドで`Flye`プログラムが使用可能になります。\n"
      ]
    },
    {
      "cell_type": "markdown",
      "metadata": {
        "id": "hYWWnkR5WcfY"
      },
      "source": [
        "## 実際にアセンブルしてみる\n",
        "\n",
        "それでは必要なデータとプログラムが揃ったので、実際にアセンブルをしていきたいと思います。\n",
        "\n",
        "\n",
        "\n",
        "\n",
        "\n"
      ]
    },
    {
      "cell_type": "markdown",
      "metadata": {
        "id": "lv3XWjNV6n1O"
      },
      "source": [
        "---\n",
        "## ロングリードを使ったゲノムアセンブル\n",
        "\n",
        "　ショートリードシーケンシングは、50-300 bpの短い塩基配列を多量に得るシーケンシングです。近年、非常に長い塩基配列を得るシーケンシング技術（**ロングリードシーケンシング、Long read sequencing**）が発達してきました。Oxford Nanopore Technologies社のナノポアシーケンシングや、Pacific Biosciences社のPacBioシーケンシングがそれにあたります。\n",
        "\n",
        "　そのため、現在では、ロングリードを使ったゲノムアセンブルが最もよくおこなわれています。ここでは、ナノポアシーケンシングによるロングリードからどのようなゲノム配列を復元できるかを見ていきましょう。\n",
        "\n",
        "<img src=\"https://github.com/CropEvol/lecture/blob/master/textbook_2023/images/Assemble_figs/long_read_assemble.png?raw=true\" height=\"100px\" align=\"middle\">"
      ]
    },
    {
      "cell_type": "markdown",
      "metadata": {
        "id": "kWVdOseR6xTM"
      },
      "source": [
        "### ロングリードを確認する\n",
        "\n",
        "　まずはダウンロードしたロングリードのシーケンスデータがどんなものか見てみましょう。\n",
        "\n",
        "最初のコマンドのところで`less`というコマンドでファイルの中身が見れる、ということでした。\n",
        "\n",
        "データの一部を抜き出したbctg.part_001.fastqの中身を見てみます。\n",
        "\n",
        "```\n",
        "less bctg.part_001.fastq\n",
        "```\n",
        "見終えたら`q`で抜けます。\n",
        "\n",
        "膨大な数ATGCが並んでいるのが分かります。ただ、このままだと1行の長さが長すぎて見にくいので、`less`コマンドの`-S`オプションを使用します。\n",
        "\n",
        "`-S`オプションをつけることで、折り返しはせずに1行ずつ表示してくれます。\n",
        "\n",
        "```\n",
        "less -S bctg.part_001.fastq\n",
        "```\n",
        "\n",
        "この様なデータをシーケンスを行うと得ることができます。\n"
      ]
    },
    {
      "cell_type": "markdown",
      "metadata": {
        "id": "he7sl2-Xle7y"
      },
      "source": [
        "#### リードのデータファイル形式（FASTQ）\n",
        "\n",
        "　リードのデータは**FASTQ**と呼ばれる形式でファイルに保存されています。FASTQ形式では、4行で1つのリードデータの情報を表しています。\n",
        "\n",
        "```\n",
        "@リードの名前\n",
        "TGAAGCAGT..............(リードの塩基配列)\n",
        "+\n",
        "F1GCFCGGE..............(各塩基のクオリティ)\n",
        "```\n",
        "\n",
        "- 第1行（@からはじまる行）: リードの名前\n",
        "- 第2行: リードの塩基配列\n",
        "- 第3行（+からはじまる行）: 第2行と第4行の区切りのための行\n",
        "- 第4行: 各塩基配列のクオリティ（ASCIIコードで書かれている）。1文字が何らかのクオリティスコア（数値）を示している。\n",
        " - 参考: https://bi.biopapyrus.jp/rnaseq/qc/fastq-quality-score.html\n",
        "\n"
      ]
    },
    {
      "cell_type": "markdown",
      "metadata": {
        "id": "tozs_Nz6mYJg"
      },
      "source": [
        "#### seqkitを使ったリードの統計情報確認\n",
        "\n",
        "ただ、`less -S`を使用しても全てのリードを目視することは難しいです。\n",
        "\n",
        "そこで、先ほどインストールした[seqkit](https://bioinf.shenwei.me/seqkit/)というソフトウェアを使います。\n",
        "\n",
        "`seqkit`は配列の統計情報（リードの数やリードの長さの平均値・最大値などの情報）を確認することができるプログラムです。\n",
        "\n",
        "下記のコマンドで、引数に指定した配列ファイルの統計値を表示してくれます。\n",
        "\n",
        "```\n",
        "seqkit stat <配列ファイル名>\n",
        "```\n",
        "\n",
        "今回はNanoporeリードの全配列データ`bctg.fastq.gz`に対し、`seqkit`を使用してみましょう。\n",
        "\n",
        "どのくらいの長さの塩基配列がどのくらいの量得られているか、分かったかと思います。\n",
        "\n",
        "<img src=\"https://github.com/CropEvol/lecture/blob/master/textbook_2023/images/Assemble_figs/assemble_overview.png?raw=true\" height=\"100px\" align=\"middle\">\n",
        "\n"
      ]
    },
    {
      "cell_type": "markdown",
      "metadata": {
        "id": "v8vctefE61Uf"
      },
      "source": [
        "## ゲノムアセンブル\n",
        "　では実際に得られたデータからアセンブルをしてみます。\n",
        "\n",
        "今回はロングリード用のソフトウェア[Flye](https://github.com/fenderglass/Flye)を使って、ゲノムアセンブルを試みてみましょう。\n",
        "\n",
        "公式ページの**Usage**のページを見るとたくさんのオプションがあるのが分かるかと思います。\n",
        "\n",
        "今回は\"Nanoporeリードを使用する\"というオプションをつけるくらいで、他はデフォルト(初期設定)に近い形で動かしてみます。\n",
        "\n",
        "```\n",
        "flye --out-dir '/content/flye_output' -i 0 -t 2 --nano-raw bctg.fastq.gz\n",
        "```\n",
        "\n",
        "このコマンドを動かせば、アセンブルが始まります。\n",
        "\n",
        "(30~50分くらいかかります。)\n"
      ]
    },
    {
      "cell_type": "markdown",
      "metadata": {
        "id": "bXi2P1pn63Yy"
      },
      "source": [
        "\n",
        "　アセンブルした結果は、次のファイルにFASTA形式で保存されています。\n",
        "\n",
        "/content/flye_output/assembly.fasta\n",
        "\n",
        "FASTA形式は先ほどのFASTQ形式とは異なり、配列情報のみが記されています。\n",
        "\n",
        "**後の解析に使用するので、左のフォルダメニューから`assembly.fasta`をダウンロードしておいてください。**"
      ]
    },
    {
      "cell_type": "markdown",
      "metadata": {
        "id": "kwXU5PyWuaxM"
      },
      "source": [
        "### アセンブル結果の確認\n",
        "\n",
        "`less`コマンドや`seqkit`で、アセンブル結果やその統計情報を確認してみましょう。\n",
        "\n",
        "```\n",
        "less -S <アセンブル結果のFASTAファイル名>\n",
        "```\n",
        "\n",
        "```\n",
        "seqkit stat -a <アセンブル結果のFASTAファイル名>\n",
        "```"
      ]
    },
    {
      "cell_type": "markdown",
      "source": [
        "　今回の`Flye`にもたくさんのオプションがあり、様々なシーケンスデータが使用できます。\n",
        "\n",
        "　また、ロングリードを使ったアセンブルを行うことが出来るソフトウェアには様々なものが存在しており、日々開発が進められています。\n",
        "\n",
        "* [Flye](https://github.com/fenderglass/Flye)\n",
        "* [Necat](https://github.com/xiaochuanle/NECAT)\n",
        "* [NextDenovo](https://github.com/Nextomics/NextDenovo)\n",
        "* 等々\n",
        "\n",
        "使用するリードの種類(NanoporeのものかPacBioのものか等)、ショートリードを混ぜるかどうか等\n",
        "\n",
        "状況に応じて適切なプログラムを使用する必要があります。"
      ],
      "metadata": {
        "id": "w2_eGM1jrxJL"
      }
    },
    {
      "cell_type": "markdown",
      "metadata": {
        "id": "tlf5iwEb6_MP"
      },
      "source": [
        "## 補足\n",
        "\n",
        "　今回、ロングリードを使ってゲノムアセンブルをおこない、ゲノム配列の復元を試みました。\n",
        "\n",
        "　ロングリードのシーケンスが普及したことで、非常に長いリードをアセンブルに利用出来るようになり、ゲノム解読の難易度は劇的に低下しました。\n",
        "\n",
        "特に本実習で扱った菌類などのゲノムサイズが比較的小さい生物であれば、その日の内にゲノムを決めることが出来ます。\n",
        "\n",
        "### 補足:ナノポアのエラーについて\n",
        "\n",
        "Nanoporeのロングリードは一部エラー率が高いリードが含まれる可能性があり、部分的には塩基情報が不正確なコンティグが生成されることがあります。\n",
        "\n",
        "　その様な場合、精度の高いショートリードと長い配列のロングリードそれぞれの利点を活かすことで、より良いゲノム配列を構築することができます。ロングリードで得られた長いコンティグを、ショートリードの正確性で補い、高精度なゲノム配列を得る形です。このようなロングリードとショートリードを組み合わせたゲノム解読が、現在ではよく使われています。\n",
        "\n",
        "<img src=\"https://github.com/CropEvol/lecture/blob/master/textbook_2023/images/Assemble_figs/major_assemble_proc.png?raw=true\" height=\"220px\" align=\"middle\">\n",
        "\n",
        "この様な作業を**ポリッシング**と呼び、そのためのプログラムも[Medaka](https://github.com/nanoporetech/medaka)や[Hypo](https://github.com/kensung-lab/hypo)など様々なものがあります。"
      ]
    },
    {
      "cell_type": "markdown",
      "source": [
        "# BUSCOによるアセンブル結果の評価\n",
        "\n",
        "実際にアセンブルを行い、ゲノム配列を復元した際に、その質を確認する必要があります。\n",
        "\n",
        "[BUSCO（Benchmarking Universal Single-Copy Orthologs）](https://busco.ezlab.org/)は、ゲノム品質評価の標準的ツールとして広く用いられている指標になります。\n",
        "\n",
        "多くの生物に広く保存されている様なコアとなる遺伝子セットの網羅性を評価することで、ゲノムの品質を評価します。\n",
        "\n",
        "遺伝子セットのオルソログ群を探索し、それらの検出状況からアセンブリの完成度を推定します。\n",
        "\n",
        "通常はコマンドで使用するツールとしてインストールします。\n",
        "\n",
        "ただ、BUSCOのインストールはコマンド操作に慣れている人にとっても難しいので今回はWebツールで代用します。\n",
        "\n",
        "ヨーロッパのサーバーで機能も制限されていますが、一応BUSCOを実施する事が出来ます。\n",
        "\n",
        "https://usegalaxy.eu/root?tool_id=busco\n",
        "\n",
        "上のサイトにアクセスし、まず作成した`assembly.fasta`をアップロードします。\n",
        "\n",
        "<img src=\"https://github.com/CropEvol/lecture/blob/master/images/exp_2025_2/busco1.png?raw=true\" alt=\"title\" height=\"300px\">\n",
        "\n",
        "<img src=\"https://github.com/CropEvol/lecture/blob/master/images/exp_2025_2/busco2.png?raw=true\" alt=\"title\" height=\"300px\">\n",
        "\n",
        "アップロードをした後、BUSCOで使用するデータベースを指定します。\n",
        "\n",
        "(本来は菌類用のデータベースなどがBUSCOでは使用できますが、このサイトでは無いので今回は真核生物のデータベースを使用)\n",
        "\n",
        "<img src=\"https://github.com/CropEvol/lecture/blob/master/images/exp_2025_2/busco3.png?raw=true\" alt=\"title\" height=\"450px\">\n",
        "\n",
        "設定したら、右上の`Run Tool`ボタンを押してBUSCOを動かしましょう。\n",
        "\n",
        "(少し時間がかかります。エラーが出る場合も高いです。)\n",
        "\n",
        "<br>\n",
        "\n",
        "主な出力指標：\n",
        "\n",
        "* Complete (C)：完全長で検出されたオルソログの割合\n",
        "* Duplicated (D)：重複して検出された割合\n",
        "* Fragmented (F)：断片的に検出された割合\n",
        "* Missing (M)：検出されなかった割合\n",
        "\n",
        "今回作成した`assembly.fastaでは`あんまりよくない結果になるかと思います。\n",
        "\n",
        "良いアセンブル結果だった場合、下の様な結果になります。\n",
        "\n",
        "```\n",
        "# BUSCO version is: 5.8.0\n",
        "# The lineage dataset is: eukaryota_odb10 (Creation date: 2024-01-08, number of genomes: 70, number of BUSCOs: 255)\n",
        "# Summarized benchmarking in BUSCO notation for file /data/jwd05e/main/088/784/88784298/working/input.fa\n",
        "# BUSCO was run in mode: euk_genome_min\n",
        "# Gene predictor used: miniprot\n",
        "\n",
        "\t***** Results: *****\n",
        "\n",
        "\tC:99.6%[S:99.2%,D:0.4%],F:0.4%,M:0.0%,n:255,E:4.3%\t   \n",
        "\t254\tComplete BUSCOs (C)\t(of which 11 contain internal stop codons)\t\t   \n",
        "\t253\tComplete and single-copy BUSCOs (S)\t   \n",
        "\t1\tComplete and duplicated BUSCOs (D)\t   \n",
        "\t1\tFragmented BUSCOs (F)\t\t\t   \n",
        "\t0\tMissing BUSCOs (M)\t\t\t   \n",
        "\t255\tTotal BUSCO groups searched\t\t   \n",
        "\n",
        "Assembly Statistics:\n",
        "\t8\tNumber of scaffolds\n",
        "\t219\tNumber of contigs\n",
        "\t41027733\tTotal length\n",
        "\t0.190%\tPercent gaps\n",
        "\t6 MB\tScaffold N50\n",
        "\t823 KB\tContigs N50\n",
        "\n",
        "\n",
        "Dependencies and versions:\n",
        "\thmmsearch: 3.4\n",
        "\tbbtools: None\n",
        "\tminiprot_index: 0.14-r265\n",
        "\tminiprot_align: 0.14-r265\n",
        "\tpython: sys.version_info(major=3, minor=10, micro=16, releaselevel='final', serial=0)\n",
        "\tbusco: 5.8.0\n",
        "```"
      ],
      "metadata": {
        "id": "CI0kokvTvjpQ"
      }
    },
    {
      "cell_type": "markdown",
      "source": [
        "# 他のゲノムとの比較\n",
        "\n",
        "\n",
        "\n",
        "今回はいもち病菌(GZ菌株)のゲノム配列を復元しました。\n",
        "\n",
        "いもち病菌のGZ菌株は、昨年度野外で採集されたものなので、既にゲノムが解読されているいもち病菌と比較すると様々な変異や構造変異が起きていると予想されます。\n",
        "\n",
        "大まかな変異を捉えるために、ゲノムの系統間比較や種間比較を行うことがよくあります。\n",
        "\n",
        "例えば、70-15という菌株のいもち病菌のゲノムが公開されています。今回アセンブルした結果と、この公開されているゲノムを比較してみます。\n",
        "\n",
        "[いもち病菌(70-15)のゲノム配列](https://ftp.ensemblgenomes.ebi.ac.uk/pub/fungi/release-62/fasta/magnaporthe_oryzae/dna/Magnaporthe_oryzae.MG8.dna.toplevel.fa.gz)\n",
        "\n",
        "ゲノムの比較の際には、[mummer](https://github.com/mummer4/mummer)などのツールが代表的なものとして論文などに向けて使用されますが、\n",
        "\n",
        "ややこしいので今回は[D-GENIES](https://dgenies.toulouse.inra.fr/)というWebツールを使用します。\n",
        "\n",
        "D-GENIESのwebページの上部`Run`で、ファイルを設定してSubmitしてみましょう。\n",
        "\n",
        "<img src=\"https://github.com/CropEvol/lecture/blob/master/images/exp_2025_2/dgenies.png?raw=true\" alt=\"title\" height=\"450px\">\n",
        "\n",
        "今回復元したゲノムが既存の系統のゲノムだとどの部分なのか、図示できます。\n",
        "\n",
        "見て分かった通り、今回の実習では計算時間の都合上、全データではなく一部のデータのみ使用していました。\n",
        "\n",
        "そのため、BUSCOスコアも低かった形になります。"
      ],
      "metadata": {
        "id": "0Z3AtTcozqG1"
      }
    },
    {
      "cell_type": "markdown",
      "source": [
        "ロングリードを活用することで、病原菌くらいの全ゲノムであれば1日あれば解読できる時代になってきた、というのが分かってきたかと思います。\n",
        "\n",
        "ある生物のゲノム配列はそれ単体ではあまり意味のあるものではありません。そこで次回は集団のゲノムデータを解析していきます。"
      ],
      "metadata": {
        "id": "rLv6DZGgIys5"
      }
    }
  ],
  "metadata": {
    "colab": {
      "provenance": [],
      "toc_visible": true
    },
    "kernelspec": {
      "display_name": "Python 3",
      "name": "python3"
    },
    "language_info": {
      "name": "python"
    }
  },
  "nbformat": 4,
  "nbformat_minor": 0
}