{
  "nbformat": 4,
  "nbformat_minor": 0,
  "metadata": {
    "colab": {
      "name": "L03_python_analysis.ipynb",
      "provenance": [],
      "collapsed_sections": [
        "90Rxc2u1ELpx",
        "fjwQpuAzeZmw",
        "KVwiWFG8VKwh",
        "g4GhBcySi0rb",
        "GjdoE0DMkESx",
        "oAuqP7Q7t7lC",
        "yhjqNvyusxiM",
        "y10Kwb5GxG2U",
        "BxdhSZeX8YBW",
        "8xULJi_6tTmL",
        "iz7wFpW1D5pw",
        "YV-caoF0VCh8"
      ]
    },
    "kernelspec": {
      "name": "python3",
      "display_name": "Python 3"
    }
  },
  "cells": [
    {
      "cell_type": "markdown",
      "metadata": {
        "id": "ASWLh3_Cf7Fy"
      },
      "source": [
        "<img src=\"https://github.com/CropEvol/lecture/blob/master/ILAS_2021/01/images/banner.png?raw=true\" alt=\"ILASセミナー「ゲノム博物学入門」\" height=\"100px\" align=\"middle\">"
      ]
    },
    {
      "cell_type": "markdown",
      "metadata": {
        "id": "HT28HSNgf9T9"
      },
      "source": [
        "# 自分達で採集したデータを解析する\n",
        "\n",
        "　本実習では、フィールドワークにて自分達が収集した植物サンプルのデータを用いて、データ解析を進めて行きます。"
      ]
    },
    {
      "cell_type": "markdown",
      "metadata": {
        "id": "Jqb56Wj5KWOp"
      },
      "source": [
        "## 使用するデータ\n",
        "\n",
        "　このテキストでは、6月21日に鴨川にて採集したイネ科植物のネズミムギのデータを解析していきます。\n",
        "\n",
        "<img src=\"https://github.com/CropEvol/lecture/blob/master/ILAS_2021/03/nezumimugi.jpeg?raw=true\" alt=\"colab_upload\" height=\"150px\">\n",
        "\n",
        "<small>画像は [Wikipedia](https://ja.wikipedia.org/wiki/%E3%83%8D%E3%82%BA%E3%83%9F%E3%83%A0%E3%82%AE) から引用 </small>\n",
        "\n",
        "　今回は各々約20個体のネズミムギを採集し、穂についている小穂の長さ (cm)を測定してもらいました。\n",
        "\n",
        "ネズミムギデータ: https://github.com/CropEvol/lecture/raw/master/ILAS_2021/03/LoliumSpikelets.csv\n",
        "\n",
        "　使用するデータは、調査者・穂番号・小穂位置番号・小穂の長さ (cm)・植物の状態が記入されたデータセットになります。\n",
        "\n",
        "- Person\t調査者\n",
        "- Spike\t穂番号\n",
        "- Position 小穂位置番号\t\n",
        "- Length 小穂の長さ (cm)\n",
        "- Condition 植物の状態\n",
        " \n",
        "| Person | Spike | Position | Length | Condition |\n",
        "|:---:|:---:|:---:|:---:|:---:|\n",
        "|Nii|1|1|0.8|-|\n",
        "|Nii|1|2|0.8|-|\n",
        "|Nii|1|3|0.9|-|\n",
        "|.....|.....|.....|.....|.....|\n",
        "|Asaoka|20|13|0.8|-|\n",
        "|Asaoka|20|14|0.8|-|\n",
        "|Asaoka|20|15|0.7|-|\n",
        "|.....|.....|.....|.....|.....|\n",
        "\n",
        "　このネズミムギデータのファイル（**カンマ区切りファイル**）を下のコマンドでGoogle Colab上にダウンロードしてみてください。 \n"
      ]
    },
    {
      "cell_type": "code",
      "metadata": {
        "id": "lN3HKN1ASRF3"
      },
      "source": [
        "# ネズミムギデータをダウンロードする\n",
        "# ダウンロードファイル: LoliumSpikelets.csv\n",
        "!wget -O LoliumSpikelets.csv https://github.com/CropEvol/lecture/raw/master/ILAS_2021/03/LoliumSpikelets.csv"
      ],
      "execution_count": null,
      "outputs": []
    },
    {
      "cell_type": "markdown",
      "metadata": {
        "id": "fjwQpuAzeZmw"
      },
      "source": [
        "## データセットのアップロード方法"
      ]
    },
    {
      "cell_type": "markdown",
      "metadata": {
        "id": "5dV_WLhBdf_V"
      },
      "source": [
        "\n",
        "　データセットを手元のパソコンで用意した場合、そのデータを解析するためには、まずGoogle Colab上にデータをアップロードしなければなりません。\n",
        "\n",
        "アップロードの手順は、以下の通りです。\n",
        "1. 画面左にあるフォルダアイコン > 「アップロード」\n",
        "1. アップロードするテキストファイルを選択する\n",
        "\n",
        "<img src=\"https://github.com/CropEvol/lecture/blob/master/ILAS_2020/03/images/colab_upload.png?raw=true\" alt=\"colab_upload\" height=\"200px\">"
      ]
    },
    {
      "cell_type": "markdown",
      "metadata": {
        "id": "iRYHUMVOF1gW"
      },
      "source": [
        "## 実習内容\n",
        "\n",
        "1. データセットをPythonで読み込む\n",
        "1. 読み込んだデータセットを取り扱う\n",
        "1. データをグラフにする\n",
        "1. データから基本統計量を取得する"
      ]
    },
    {
      "cell_type": "markdown",
      "metadata": {
        "id": "ur-taPIfRt7Q"
      },
      "source": [
        "## 1. データセットをPythonで読み込む\n",
        "\n",
        "　Pythonライブラリ**pandas** を使って、アップロードしたネズミムギデータを表示してみましょう。\n",
        "\n",
        "\n",
        "```python\n",
        "import pandas as pd\n",
        "データフレーム名 = pd.read_csv(ファイル名, sep=区切り文字, header=ヘッダー行番号)\n",
        "```"
      ]
    },
    {
      "cell_type": "markdown",
      "metadata": {
        "id": "nU7a4xpZjyGa"
      },
      "source": [
        "**実習:データセットの読み込み**"
      ]
    },
    {
      "cell_type": "code",
      "metadata": {
        "id": "1O2XGSgDGu3x"
      },
      "source": [
        "# pandasライブラリの準備\n",
        "import pandas as pd\n",
        "# pandasライブラリでファイル読み込み\n",
        "df = pd.read_csv(\"LoliumSpikelets.csv\", sep=\",\", header=1)    # header=0だと英語の列名がデータに含まれてしまう\n",
        "# データの中身を表示\n",
        "df"
      ],
      "execution_count": null,
      "outputs": []
    },
    {
      "cell_type": "markdown",
      "metadata": {
        "id": "5bI11RQWYCVn"
      },
      "source": [
        "## 2. 読み込んだデータセットを取り扱う\n",
        "\n",
        "　前回学んだデータセットの取り扱い方を参考に、自分たちのデータを操作してみましょう。"
      ]
    },
    {
      "cell_type": "markdown",
      "metadata": {
        "id": "0ptUwbqjYg5g"
      },
      "source": [
        "\n",
        "### 2-1. 小穂の長さ (cm) データにアクセスする\n",
        "\n",
        "　まずは小穂の長さデータを確認してみましょう。\n",
        "\n",
        "　列データの取り出し方\n",
        "```python\n",
        "データフレーム名.loc[:, 列名]\n",
        "　または\n",
        "データフレーム名.iloc[:, 列番号]\n",
        "```"
      ]
    },
    {
      "cell_type": "markdown",
      "metadata": {
        "id": "Q_nq17GplGFB"
      },
      "source": [
        "**実習:小穂の長さデータへのアクセス**"
      ]
    },
    {
      "cell_type": "code",
      "metadata": {
        "id": "4oBRioMHYRBw"
      },
      "source": [
        "# 1列分(Length)のデータを取り出す\n"
      ],
      "execution_count": null,
      "outputs": []
    },
    {
      "cell_type": "markdown",
      "metadata": {
        "id": "oRznEh8eGcZn"
      },
      "source": [
        "次に、小穂位置番号と小穂の長さを取り出してみましょう。"
      ]
    },
    {
      "cell_type": "code",
      "metadata": {
        "id": "VDEPe2RZfI-H"
      },
      "source": [
        "# 2列分(PositionとLength)のデータを取り出す\n"
      ],
      "execution_count": null,
      "outputs": []
    },
    {
      "cell_type": "markdown",
      "metadata": {
        "id": "pK9VTOsPxpgK"
      },
      "source": [
        "### 2-2. 行データにアクセスする\n",
        "　\n",
        "　続いて、1~100行目のデータを取り出して確認してみましょう。\n",
        "\n",
        "　行データの取り出し方\n",
        "\n",
        "```python\n",
        "データフレーム名.loc[行名, :]\n",
        "　または\n",
        "データフレーム名.iloc[行番号, :]\n",
        "```"
      ]
    },
    {
      "cell_type": "markdown",
      "metadata": {
        "id": "oZcx8aAwkBup"
      },
      "source": [
        "**実習:複数行へのアクセス**"
      ]
    },
    {
      "cell_type": "code",
      "metadata": {
        "id": "3TYfkJm4eIDQ"
      },
      "source": [
        "# 1~100行目のデータを範囲指定で取り出す\n"
      ],
      "execution_count": null,
      "outputs": []
    },
    {
      "cell_type": "markdown",
      "metadata": {
        "id": "cUSvFQCxqLYv"
      },
      "source": [
        "### 2-3. 条件に合うデータを取り出す\n",
        "\n",
        "　今度は、目的に応じた条件に合うデータを取り出してみましょう。\n",
        "\n",
        "```python\n",
        "データフレーム[条件式]\n",
        "```"
      ]
    },
    {
      "cell_type": "markdown",
      "metadata": {
        "id": "01EPEGFuN15i"
      },
      "source": [
        "#### 2-3-1. 自分のデータを取り出す\n",
        "「調査者が自分」のデータを取り出してみましょう。\n",
        "```\n",
        "条件:調査者==自分の名前\n",
        "```\n",
        "余裕がある人は自分+他の誰かの2人分のデータを取り出してみましょう。"
      ]
    },
    {
      "cell_type": "markdown",
      "metadata": {
        "id": "t5RotPSWkJlc"
      },
      "source": [
        "**実習:条件に合うデータへのアクセス**"
      ]
    },
    {
      "cell_type": "code",
      "metadata": {
        "id": "2O2xjiQjiJwF"
      },
      "source": [
        "# 調査者(Person)が自分のデータ\n"
      ],
      "execution_count": null,
      "outputs": []
    },
    {
      "cell_type": "code",
      "metadata": {
        "id": "BzQB4Gn9OBq5"
      },
      "source": [
        "# 調査者(Person)が自分+他一人のデータ\n"
      ],
      "execution_count": null,
      "outputs": []
    },
    {
      "cell_type": "markdown",
      "metadata": {
        "id": "g2jY8DFMsf58"
      },
      "source": [
        "#### 2-3-2. 小穂の位置が1番目のデータを取り出す\n",
        "\n",
        "　次の条件に合うデータを取り出してください。\n",
        "\n",
        "```\n",
        "　「小穂位置が1」のデータ\n",
        "```\n",
        "\n",
        "　余裕がある人は、こちらの条件に合ったデータも取り出してください。\n",
        "```\n",
        "「小穂位置が1」かつ「調査者が自分」 のデータ\n",
        "```"
      ]
    },
    {
      "cell_type": "markdown",
      "metadata": {
        "id": "elrzoFc0kc4P"
      },
      "source": [
        "**実習:条件に合うデータへのアクセス**"
      ]
    },
    {
      "cell_type": "code",
      "metadata": {
        "id": "2_aXihYMShv3"
      },
      "source": [
        "# 小穂の位置が1番目のデータ\n"
      ],
      "execution_count": null,
      "outputs": []
    },
    {
      "cell_type": "code",
      "metadata": {
        "id": "Ndt6QDhQShzd"
      },
      "source": [
        "# 小穂の位置が1番目かつ調査者が自分のデータ\n"
      ],
      "execution_count": null,
      "outputs": []
    },
    {
      "cell_type": "markdown",
      "metadata": {
        "id": "7llyzoT7uog8"
      },
      "source": [
        "## 3. データをグラフにする\n",
        "\n",
        "　**seaborn**ライブラリを利用して、ネズミムギのデータをグラフ化することで、データの特徴を掴んでみましょう。"
      ]
    },
    {
      "cell_type": "markdown",
      "metadata": {
        "id": "VhlYIKEyVAKw"
      },
      "source": [
        "###3-1. 小穂の長さの分布を見る\n",
        "\n",
        "小穂の長さデータを取り出し、ヒストグラムを描いてみましょう。\n",
        "\n",
        "```python\n",
        "# グラフ描画用ライブラリ\n",
        "import seaborn as sns\n",
        "\n",
        "# ヒストグラムの描画\n",
        "sns.distplot(小穂の長さデータ)\n",
        "```"
      ]
    },
    {
      "cell_type": "markdown",
      "metadata": {
        "id": "ze3VAuuWhM4D"
      },
      "source": [
        "**実習:小穂の長さデータのヒストグラムの描写**"
      ]
    },
    {
      "cell_type": "code",
      "metadata": {
        "id": "YBIQzsJvWPN9"
      },
      "source": [
        "# seabornライブラリの準備\n",
        "\n",
        "# 小穂の長さのヒストグラム\n"
      ],
      "execution_count": null,
      "outputs": []
    },
    {
      "cell_type": "markdown",
      "metadata": {
        "id": "uYGujUP1hIOL"
      },
      "source": [
        "\n",
        "また、全体の小穂の長さデータを使って描いたヒストグラムと、\n",
        "\n",
        "自分のデータのみを使って描いたヒストグラムを比べてみましょう。\n",
        "\n",
        "同じような分布になっているでしょうか？\n",
        "\n",
        "```python\n",
        "# 小穂の長さから自分のデータを取り出す\n",
        "my_length = 自分の小穂の長さデータ\n",
        "# ヒストグラムの描画\n",
        "sns.distplot(my_length)\n",
        "```"
      ]
    },
    {
      "cell_type": "markdown",
      "metadata": {
        "id": "HdzEHUTkknez"
      },
      "source": [
        "**実習:条件に合うデータのヒストグラムの描写**"
      ]
    },
    {
      "cell_type": "code",
      "metadata": {
        "id": "o0VIBX_uWPWD"
      },
      "source": [
        "# 小穂の長さから自分のデータを取り出す\n",
        "\n",
        "# ヒストグラムの描画\n"
      ],
      "execution_count": null,
      "outputs": []
    },
    {
      "cell_type": "markdown",
      "metadata": {
        "id": "hCsnc7XT4lJn"
      },
      "source": [
        "次に、小穂の位置によって小穂の長さに変化はあるのかを確認してみましょう。\n"
      ]
    },
    {
      "cell_type": "code",
      "metadata": {
        "id": "zUmOAWXi4u-M"
      },
      "source": [
        "# 小穂の位置が1番目の小穂の長さのヒストグラム\n",
        "\n",
        "# 小穂の位置が10番目の小穂の長さのヒストグラム\n"
      ],
      "execution_count": null,
      "outputs": []
    },
    {
      "cell_type": "markdown",
      "metadata": {
        "id": "bCWAv3qttW6A"
      },
      "source": [
        "## 4. データから基本統計量を取得する\n",
        "\n",
        "　より具体的な情報を得るために、各データの **基本統計量**（サンプル数、平均値、標準偏差、最小値、四分位数、最大値）を調べてみましょう。\n",
        "\n",
        "\n",
        "```python\n",
        "データフレーム.describe()\n",
        "```"
      ]
    },
    {
      "cell_type": "markdown",
      "metadata": {
        "id": "8WtoKY-E1ZMO"
      },
      "source": [
        "### 4-1. 全体の小穂の長さデータの基本統計量を確認する。\n",
        "\n",
        "**実習:データの基本統計量の確認**"
      ]
    },
    {
      "cell_type": "code",
      "metadata": {
        "id": "_1X1RbsBv2zg"
      },
      "source": [
        "# 小穂の長さの基本統計量\n"
      ],
      "execution_count": null,
      "outputs": []
    },
    {
      "cell_type": "markdown",
      "metadata": {
        "id": "obV2CF251qup"
      },
      "source": [
        "また、全体の小穂の長さデータと自分のデータの基本統計量を比較してみましょう。"
      ]
    },
    {
      "cell_type": "code",
      "metadata": {
        "id": "UJL8HxLy12qR"
      },
      "source": [
        "# 自分のデータの小穂の長さの基本統計量\n"
      ],
      "execution_count": null,
      "outputs": []
    },
    {
      "cell_type": "markdown",
      "metadata": {
        "id": "FXAjsxdWfFti"
      },
      "source": [
        "## 5. 新たなデータセットを作成・保存する\n",
        "ここまで、配布したネズミムギのデータセットの特徴を確認してきましたが、そういった特徴や新たな情報をデータフレームとして新たに作成し、保存することが可能です。\n",
        "\n",
        "\n",
        "今回は、各個体毎の小穂の数と小穂の長さの平均値のデータフレームを作成し、保存してみましょう。\n",
        "\n",
        "\n",
        "データフレームの作成\n",
        "```python\n",
        "新しいデータフレーム名 = pd.DataFrame({ '列名A' : データ, '列名B' : データ ...})\n",
        "```\n",
        "\n",
        "データフレームをcsvファイルとして保存\n",
        "```python\n",
        "新しいデータフレーム名.to_csv(ファイル名)\n",
        "```"
      ]
    },
    {
      "cell_type": "markdown",
      "metadata": {
        "id": "U85aKASPrq1C"
      },
      "source": [
        "### 5-1. 各個体毎の小穂の数や小穂の長さの平均値を計算する\n",
        "\n",
        "**実習:各個体ごとの小穂の数、小穂の長さの平均値を取得する**"
      ]
    },
    {
      "cell_type": "code",
      "metadata": {
        "id": "wYhkRWonrlw3"
      },
      "source": [
        "#各個体ごとの小穂の数を取得する\n",
        "\n",
        "Spikelets = []                                                                            # 小穂の数を入れる入れ物を作る\n",
        "Means = []                                                                                # 平均値を入れる入れ物を作る\n",
        "for person in df[\"Person\"].unique():                                            \n",
        "    each_df = df[df[\"Person\"] == person]                                    # それぞれの調査者毎にデータを取得\n",
        "    for Spike_num in each_df[\"Spike\"].unique():                           \n",
        "        each_spike_df = each_df[each_df[\"Spike\"] == Spike_num]  # それぞれの個体毎にデータを取得\n",
        "        Spikelets_num = each_spike_df[\"Position\"].max()                # 個体の小穂の数を取得\n",
        "        Spikelets.append(Spikelets_num)                                        # 小穂の数を入れ物に追加\n",
        "        Spikelets_mean = each_spike_df[\"Length\"].mean()              # 個体の小穂の長さの平均値を取得\n",
        "        Means.append(Spikelets_mean)                                           # 小穂の長さの平均値を入れ物に追加"
      ],
      "execution_count": null,
      "outputs": []
    },
    {
      "cell_type": "markdown",
      "metadata": {
        "id": "yFIwGLelymM1"
      },
      "source": [
        "**実習:新しいデータフレームを作成し、保存する。**"
      ]
    },
    {
      "cell_type": "code",
      "metadata": {
        "id": "qBw9G1arqOmK"
      },
      "source": [
        "# 新しいデータフレームを作成する\n",
        "new_df = pd.DataFrame({ 'Spikelets_num' : Spikelets, 'Spikelets_mean' :  Means})\n",
        "# データの中身を表示\n",
        "new_df"
      ],
      "execution_count": null,
      "outputs": []
    },
    {
      "cell_type": "code",
      "metadata": {
        "id": "WjAuLHZqzv2c"
      },
      "source": [
        "# データフレームを保存する\n",
        "new_df.to_csv(\"Spikelets_mean.csv\")"
      ],
      "execution_count": null,
      "outputs": []
    },
    {
      "cell_type": "markdown",
      "metadata": {
        "id": "obR9lHdN3ToV"
      },
      "source": [
        "## 6. データの相関関係を調べる\n",
        "\n",
        "　これまでは、データそのものの特徴(統計量や分布、自分で採集したデータの特徴)を調べてきました。\n",
        "\n",
        "\n",
        "　続いては、データ間の関係性について調べていきます。\n",
        "例えば、2番目の小穂の長さと7番目の小穂の長さには関係性があるのか、小穂の長さと小穂の数の間には相関があるのか…などなど。"
      ]
    },
    {
      "cell_type": "markdown",
      "metadata": {
        "id": "KGn80VLWp4ko"
      },
      "source": [
        "### 6-1. 散布図を確認する。\n",
        "データセットの中の2つの値の関係性を手っ取り早く簡潔に確認する方法の１つが散布図になります。\n",
        "\n",
        "```python\n",
        "# グラフ描画用ライブラリ\n",
        "import seaborn as sns\n",
        "# 散布図行列の描画\n",
        "sns.scatterplot(x=列データ1, y=列データ2)\n",
        "```"
      ]
    },
    {
      "cell_type": "markdown",
      "metadata": {
        "id": "P5LCKZX_v0_V"
      },
      "source": [
        "**実習:2番目の小穂と7番目の小穂の長さの関係性を散布図に表示する**"
      ]
    },
    {
      "cell_type": "code",
      "metadata": {
        "id": "5pM9WQJRs457"
      },
      "source": [
        "# 2番目の小穂データ、7番目の小穂データにアクセス\n",
        "df_2 = df[df[\"Position\"] == 2]\n",
        "df_7 = df[df[\"Position\"] == 7]\n",
        "\n",
        "# 小穂の長さを取得\n",
        "df_2_length = df_2.loc[:, \"Length\"].values\n",
        "df_7_length = df_7.loc[:, \"Length\"].values"
      ],
      "execution_count": null,
      "outputs": []
    },
    {
      "cell_type": "code",
      "metadata": {
        "id": "nQkeS6qlv7B-"
      },
      "source": [
        "# ライブラリの準備\n",
        "import seaborn as sns\n",
        "# 散布図を描く\n",
        "sns.scatterplot(x=df_2_length, y=df_7_length)"
      ],
      "execution_count": null,
      "outputs": []
    },
    {
      "cell_type": "code",
      "metadata": {
        "id": "thllwquD0x51"
      },
      "source": [
        ""
      ],
      "execution_count": null,
      "outputs": []
    }
  ]
}