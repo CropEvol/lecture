{
  "nbformat": 4,
  "nbformat_minor": 0,
  "metadata": {
    "colab": {
      "name": "L03_python_analysis.ipynb",
      "provenance": [],
      "collapsed_sections": [
        "90Rxc2u1ELpx",
        "fjwQpuAzeZmw",
        "KVwiWFG8VKwh",
        "g4GhBcySi0rb",
        "GjdoE0DMkESx",
        "oAuqP7Q7t7lC",
        "yhjqNvyusxiM",
        "y10Kwb5GxG2U",
        "BxdhSZeX8YBW",
        "8xULJi_6tTmL",
        "iz7wFpW1D5pw",
        "YV-caoF0VCh8"
      ],
      "toc_visible": true
    },
    "kernelspec": {
      "name": "python3",
      "display_name": "Python 3"
    }
  },
  "cells": [
    {
      "cell_type": "markdown",
      "metadata": {
        "id": "ASWLh3_Cf7Fy"
      },
      "source": [
        "<img src=\"https://github.com/CropEvol/lecture/blob/master/ILAS_2021/01/images/banner.png?raw=true\" alt=\"ILASセミナー「ゲノム博物学入門」\" height=\"100px\" align=\"middle\">"
      ]
    },
    {
      "cell_type": "markdown",
      "metadata": {
        "id": "HT28HSNgf9T9"
      },
      "source": [
        "# 自分達で採集したデータを解析する\n",
        "\n",
        "　本実習では、フィールドワークにて自分達が収集した植物サンプルのデータを用いて、データ解析を進めて行きます。"
      ]
    },
    {
      "cell_type": "markdown",
      "metadata": {
        "id": "Jqb56Wj5KWOp"
      },
      "source": [
        "## 使用するデータ\n",
        "\n",
        "　このテキストでは、6月21日に鴨川にて採集したイネ科植物のネズミムギのデータを解析していきます。\n",
        "\n",
        "<img src=\"https://github.com/CropEvol/lecture/blob/master/ILAS_2021/02/images/iris.png?raw=true\" alt=\"colab_upload\" height=\"150px\">\n",
        "\n",
        "　今回は各々約20個体のネズミムギを採集し、穂についている小穂の長さ (cm)を測定してもらいました。\n",
        "\n",
        "ネズミムギデータ: https://github.com/CropEvol/lecture/raw/master/ILAS_2021/03/LoliumSpikelets.csv\n",
        "\n",
        "　使用するデータは、調査者・穂番号・小穂位置番号・小穂の長さ (cm)・植物の状態が記入されたデータセットになります。\n",
        "\n",
        "- Person\t調査者\n",
        "- Spike\t穂番号\n",
        "- Position 小穂位置番号\t\n",
        "- Length 小穂の長さ (cm)\n",
        "- Condition 植物の状態\n",
        " \n",
        "| Person | Spike | Position | Length | Condition |\n",
        "|:---:|:---:|:---:|:---:|:---:|\n",
        "|Nii|1|1|0.8|-|\n",
        "|Nii|1|2|0.8|-|\n",
        "|Nii|1|3|0.9|-|\n",
        "|.....|.....|.....|.....|.....|\n",
        "|Asaoka|20|13|0.8|-|\n",
        "|Asaoka|20|14|0.8|-|\n",
        "|Asaoka|20|15|0.7|-|\n",
        "|.....|.....|.....|.....|.....|\n",
        "\n",
        "　Zoomを介して、このネズミムギデータのファイル（**カンマ区切りファイル**）を配布するので、Google Colab上にアップロードしてみてください。 \n"
      ]
    },
    {
      "cell_type": "markdown",
      "metadata": {
        "id": "fjwQpuAzeZmw"
      },
      "source": [
        "## データセットのアップロード方法"
      ]
    },
    {
      "cell_type": "markdown",
      "metadata": {
        "id": "5dV_WLhBdf_V"
      },
      "source": [
        "\n",
        "　データセットを手元のパソコンで用意した場合、そのデータを解析するためには、まずGoogle Colab上にデータをアップロードしなければなりません。\n",
        "\n",
        "アップロードの手順は、以下の通りです。\n",
        "1. 画面左にあるフォルダアイコン > 「アップロード」\n",
        "1. アップロードするテキストファイルを選択する\n",
        "\n",
        "<img src=\"https://github.com/CropEvol/lecture/blob/master/ILAS_2020/03/images/colab_upload.png?raw=true\" alt=\"colab_upload\" height=\"200px\">"
      ]
    },
    {
      "cell_type": "markdown",
      "metadata": {
        "id": "iRYHUMVOF1gW"
      },
      "source": [
        "## 実習内容\n",
        "\n",
        "1. データセットをPythonで読み込む\n",
        "1. 読み込んだデータセットを取り扱う\n",
        "1. データをグラフにする\n",
        "1. データから基本統計量を取得する"
      ]
    },
    {
      "cell_type": "markdown",
      "metadata": {
        "id": "ur-taPIfRt7Q"
      },
      "source": [
        "## 1. データセットをPythonで読み込む\n",
        "\n",
        "　Pythonライブラリ**pandas** を使って、アップロードしたネズミムギデータを表示してみましょう。\n",
        "\n",
        "\n",
        "```python\n",
        "import pandas as pd\n",
        "データフレーム名 = pd.read_csv(ファイル名, sep=区切り文字, header=ヘッダー行番号)\n",
        "```"
      ]
    },
    {
      "cell_type": "code",
      "metadata": {
        "id": "1O2XGSgDGu3x"
      },
      "source": [
        "# pandasライブラリの準備\n",
        "\n",
        "# pandasライブラリでファイル読み込み\n",
        "\n",
        "# データの中身を表示\n"
      ],
      "execution_count": null,
      "outputs": []
    },
    {
      "cell_type": "markdown",
      "metadata": {
        "id": "5bI11RQWYCVn"
      },
      "source": [
        "## 2. 読み込んだデータセットを取り扱う\n",
        "\n",
        "　前回学んだデータセットの取り扱い方を参考に、自分たちのデータを操作してみましょう。"
      ]
    },
    {
      "cell_type": "markdown",
      "metadata": {
        "id": "0ptUwbqjYg5g"
      },
      "source": [
        "\n",
        "### 2-1. 小穂の長さ (cm) データにアクセスする\n",
        "\n",
        "　まずは小穂の長さデータを確認してみましょう。\n",
        "\n",
        "　列データの取り出し方\n",
        "```python\n",
        "データフレーム名.loc[:, 列名]\n",
        "　または\n",
        "データフレーム名.iloc[:, 列番号]\n",
        "```"
      ]
    },
    {
      "cell_type": "code",
      "metadata": {
        "id": "4oBRioMHYRBw"
      },
      "source": [
        "# 1列分(Length)のデータを取り出す\n"
      ],
      "execution_count": null,
      "outputs": []
    },
    {
      "cell_type": "markdown",
      "metadata": {
        "id": "oRznEh8eGcZn"
      },
      "source": [
        "次に、小穂位置番号と小穂の長さを取り出してみましょう。"
      ]
    },
    {
      "cell_type": "code",
      "metadata": {
        "id": "VDEPe2RZfI-H"
      },
      "source": [
        "# 2列分(PositionとLength)のデータを取り出す\n"
      ],
      "execution_count": null,
      "outputs": []
    },
    {
      "cell_type": "markdown",
      "metadata": {
        "id": "pK9VTOsPxpgK"
      },
      "source": [
        "### 2-2. 行データにアクセスする\n",
        "　\n",
        "　続いて、1~100行目のデータを取り出して確認してみましょう。\n",
        "\n",
        "　行データの取り出し方\n",
        "\n",
        "```python\n",
        "データフレーム名.loc[行名, :]\n",
        "　または\n",
        "データフレーム名.iloc[行番号, :]\n",
        "```"
      ]
    },
    {
      "cell_type": "code",
      "metadata": {
        "id": "3TYfkJm4eIDQ"
      },
      "source": [
        "# 1~100行目のデータを範囲指定で取り出す\n"
      ],
      "execution_count": null,
      "outputs": []
    },
    {
      "cell_type": "markdown",
      "metadata": {
        "id": "cUSvFQCxqLYv"
      },
      "source": [
        "### 2-3. 条件に合うデータを取り出す\n",
        "\n",
        "　今度は、目的に応じた条件に合うデータを取り出してみましょう。\n",
        "\n",
        "```python\n",
        "データフレーム[条件式]\n",
        "```"
      ]
    },
    {
      "cell_type": "markdown",
      "metadata": {
        "id": "01EPEGFuN15i"
      },
      "source": [
        "#### 2-3-1. 自分のデータを取り出す\n",
        "「調査者が自分」のデータを取り出してみましょう。\n",
        "```\n",
        "条件:調査者==自分の名前\n",
        "```\n",
        "余裕がある人は自分+他の誰かの2人分のデータを取り出してみましょう。"
      ]
    },
    {
      "cell_type": "code",
      "metadata": {
        "id": "2O2xjiQjiJwF"
      },
      "source": [
        "# 調査者(Person)が自分のデータ\n"
      ],
      "execution_count": null,
      "outputs": []
    },
    {
      "cell_type": "code",
      "metadata": {
        "id": "BzQB4Gn9OBq5"
      },
      "source": [
        "# 調査者(Person)が自分+他一人のデータ\n"
      ],
      "execution_count": null,
      "outputs": []
    },
    {
      "cell_type": "markdown",
      "metadata": {
        "id": "g2jY8DFMsf58"
      },
      "source": [
        "#### 2-3-2. 小穂の位置が1番目のデータを取り出す\n",
        "\n",
        "　次の条件に合うデータを取り出してください。\n",
        "\n",
        "```\n",
        "　「小穂位置が1」のデータ\n",
        "```\n",
        "\n",
        "　余裕がある人は、こちらの条件に合ったデータも取り出してください。\n",
        "```\n",
        "「小穂位置が1」かつ「調査者が自分」 のデータ\n",
        "```"
      ]
    },
    {
      "cell_type": "code",
      "metadata": {
        "id": "2_aXihYMShv3"
      },
      "source": [
        "# 小穂の位置が1番目のデータ\n"
      ],
      "execution_count": null,
      "outputs": []
    },
    {
      "cell_type": "code",
      "metadata": {
        "id": "Ndt6QDhQShzd"
      },
      "source": [
        "# 小穂の位置が1番目かつ調査者が自分のデータ\n"
      ],
      "execution_count": null,
      "outputs": []
    },
    {
      "cell_type": "markdown",
      "metadata": {
        "id": "7llyzoT7uog8"
      },
      "source": [
        "## 3. データをグラフにする\n",
        "\n",
        "　**seaborn**ライブラリを利用して、ネズミムギのデータをグラフ化することで、データの特徴を掴んでみましょう。"
      ]
    },
    {
      "cell_type": "markdown",
      "metadata": {
        "id": "VhlYIKEyVAKw"
      },
      "source": [
        "###3-1. 小穂の長さの分布を見る\n",
        "\n",
        "小穂の長さデータを取り出し、ヒストグラムを描いてみましょう。\n",
        "\n",
        "```python\n",
        "# グラフ描画用ライブラリ\n",
        "import seaborn as sns\n",
        "\n",
        "# ヒストグラムの描画\n",
        "sns.distplot(小穂の長さデータ)\n",
        "```\n",
        "\n",
        "また、全体の小穂の長さデータを使って描いたヒストグラムと、\n",
        "\n",
        "自分のデータのみを使って描いたヒストグラムを比べてみましょう。\n",
        "```python\n",
        "# 小穂の長さから自分のデータを取り出す\n",
        "my_length = 自分の小穂の長さデータ\n",
        "# ヒストグラムの描画\n",
        "sns.distplot(my_length)\n",
        "```\n",
        "\n",
        "同じような分布になっているでしょうか？"
      ]
    },
    {
      "cell_type": "code",
      "metadata": {
        "id": "YBIQzsJvWPN9"
      },
      "source": [
        "# 小穂の長さのヒストグラム\n"
      ],
      "execution_count": null,
      "outputs": []
    },
    {
      "cell_type": "code",
      "metadata": {
        "id": "o0VIBX_uWPWD"
      },
      "source": [
        "# 自分のデータの小穂の長さのヒストグラム\n"
      ],
      "execution_count": null,
      "outputs": []
    },
    {
      "cell_type": "markdown",
      "metadata": {
        "id": "JxVJaETx-XcQ"
      },
      "source": [
        "　グラフ描画の別の例として、**ヒストグラム** も作成してみましょう。\n",
        "\n",
        "```python\n",
        "# グラフ描画用ライブラリ\n",
        "import seaborn as sns\n",
        "# 散布図行列の描画\n",
        "sns.distplot(列データ)\n",
        "```"
      ]
    },
    {
      "cell_type": "code",
      "metadata": {
        "id": "WB6r1Eqb-cRl"
      },
      "source": [
        "# 例: 外花被片の長さ petal_length のヒストグラム\n",
        "\n",
        "import seaborn as sns\n",
        "\n",
        "# それぞれの種のデータを取り出す\n",
        "setosa = df[df[\"species\"]==\"Iris-setosa\"]\n",
        "virginica = df[df[\"species\"]==\"Iris-virginica\"]\n",
        "versicolor = df[df[\"species\"]==\"Iris-versicolor\"]\n",
        "\n",
        "# ヒストグラム: それぞれ種のヒストグラムを一つのグラフに描画している\n",
        "sns.distplot(setosa[\"petal_length\"])\n",
        "sns.distplot(virginica[\"petal_length\"])\n",
        "sns.distplot(versicolor[\"petal_length\"])"
      ],
      "execution_count": null,
      "outputs": []
    },
    {
      "cell_type": "markdown",
      "metadata": {
        "id": "wtP2a7YL13A1"
      },
      "source": [
        "### 実習3\n",
        "\n",
        "　x軸が内花被片の長さ`petal_length`、y軸が内花被片の幅`petal_width`となるような散布図を作成してください。"
      ]
    },
    {
      "cell_type": "code",
      "metadata": {
        "id": "QEG4h8GX3ZDH"
      },
      "source": [
        ""
      ],
      "execution_count": null,
      "outputs": []
    },
    {
      "cell_type": "markdown",
      "metadata": {
        "id": "BxdhSZeX8YBW"
      },
      "source": [
        "#### 解答例"
      ]
    },
    {
      "cell_type": "code",
      "metadata": {
        "id": "MOICyb5o8ata"
      },
      "source": [
        "import seaborn as sns\n",
        "sns.scatterplot(x=df[\"petal_length\"], y=df[\"petal_width\"], hue=df[\"species\"])"
      ],
      "execution_count": null,
      "outputs": []
    },
    {
      "cell_type": "markdown",
      "metadata": {
        "id": "8xULJi_6tTmL"
      },
      "source": [
        "### グラフ描画の考え方"
      ]
    },
    {
      "cell_type": "markdown",
      "metadata": {
        "id": "xdgR8Ty03ln6"
      },
      "source": [
        "　上述の例では、たった2行のコードで、データフレームからグラフを描画できました。これは、seabornの内部に数行〜数百行のコードが書かれており、そのコードをたった2行で呼び出せるからです。\n",
        "\n",
        "　では、どのようにしてseabornはグラフを書いているのでしょうか？ \n",
        "\n",
        "　まず、同じようなグラフを、**matplotlibライブラリ**と呼ばれるグラフ描画ライブラリを使って描いてみます。"
      ]
    },
    {
      "cell_type": "code",
      "metadata": {
        "id": "NSs1_zReDH8t"
      },
      "source": [
        "import matplotlib.pyplot as plt\n",
        "\n",
        "# それぞれの種のデータを取り出す\n",
        "setosa = df[df[\"species\"]==\"Iris-setosa\"]\n",
        "virginica = df[df[\"species\"]==\"Iris-virginica\"]\n",
        "versicolor = df[df[\"species\"]==\"Iris-versicolor\"]\n",
        "\n",
        "# 以下、グラフ描画のコード\n",
        "plt.figure(figsize=[6,4])                                              # グラフフィールドを作成\n",
        "plt.scatter(x=setosa[\"petal_length\"], y=setosa[\"petal_width\"])       # setosa の散布図\n",
        "#plt.scatter(x=virginica[\"petal_length\"], y=virginica[\"petal_width\"])    # virginica の散布図\n",
        "#plt.scatter(x=versicolor[\"petal_length\"], y=versicolor[\"petal_width\"]) # versicolor の散布図\n",
        "#plt.xlabel(\"petal_length\")                      # x軸ラベル\n",
        "#plt.ylabel(\"petal_width\")                       # y軸ラベル\n",
        "#plt.legend([\"setosa\", \"virginica\", \"versicolor\"]) # 凡例\n",
        "plt.show()                                     #グラフを表示"
      ],
      "execution_count": null,
      "outputs": []
    },
    {
      "cell_type": "markdown",
      "metadata": {
        "id": "xlfXteffDgmG"
      },
      "source": [
        "　グラフ描画の基本は、部分的な情報が書き込まれた透明な層（レイヤー）を一枚ずつ上に付け加えて、一つのグラフを作っていくイメージです。\n",
        "\n",
        "\n",
        "<img src=\"https://github.com/CropEvol/lecture/blob/master/ILAS_2020/03/images/drawing_graph.png?raw=true\" alt=\"drawing_graph\" height=\"300px\">"
      ]
    },
    {
      "cell_type": "markdown",
      "metadata": {
        "id": "iz7wFpW1D5pw"
      },
      "source": [
        "### seaborn と matplotlib の関係"
      ]
    },
    {
      "cell_type": "markdown",
      "metadata": {
        "id": "3dzD-kOeDHU1"
      },
      "source": [
        "　seabornも、実は、内部でmatplotlibを使っています。\n",
        "\n",
        "　matplotlib では、グラフの各部品（それぞれの散布図やx軸ラベル、y軸ラベル、凡例）を表示するコードを数行記述する必要があります。\n",
        "\n",
        "　seaborn は、そのような数行のコードを事前に記述しており、散布図の場合には`scatterplot`、ヒストグラムの場合には`distplot`といった1行のコードで呼び出せるようにしています。\n",
        "\n",
        "　次のようなグラフ（散布図行列）を matplotlib だけで描こうとすると結構手間がかかります。seaborn では、たった1行で表示できてしまいます。"
      ]
    },
    {
      "cell_type": "code",
      "metadata": {
        "id": "fo25NcGWfWL6"
      },
      "source": [
        "import seaborn as sns\n",
        "\n",
        "sns.pairplot(df, hue=\"species\")\n",
        "\n",
        "## pairplotの書き方\n",
        "## pairplot(データフレーム, hue=カテゴリ変数の列名)"
      ],
      "execution_count": null,
      "outputs": []
    },
    {
      "cell_type": "code",
      "metadata": {
        "id": "zbFQPNn9sF_n"
      },
      "source": [
        "# seabornを使わない場合\n",
        "\n",
        "import matplotlib.pyplot as plt\n",
        "\n",
        "# データを種ごとに分ける\n",
        "seto = df[df.species == 'Iris-setosa']\n",
        "vers = df[df.species == 'Iris-versicolor']\n",
        "virg = df[df.species == 'Iris-virginica']\n",
        "\n",
        "traits = ['sepal_length', 'sepal_width', 'petal_length', 'petal_width']\n",
        "# 描画\n",
        "fig, axes= plt.subplots(4,4, figsize=(12, 12))\n",
        "\n",
        "for i in range(4):\n",
        "  for j in range(4):\n",
        "    if i == j:\n",
        "      g = seto[traits[i]].plot(kind=\"kde\", color='blue', ax=axes[i][j])\n",
        "      vers[traits[i]].plot(kind=\"kde\", color='orange', ax=axes[i][j])\n",
        "      virg[traits[i]].plot(kind=\"kde\", color='green', ax=axes[i][j]) \n",
        "\n",
        "    else:\n",
        "      g = seto.plot(kind=\"scatter\", y=traits[i], x=traits[j], color='blue', alpha=0.5, ax=axes[i][j])\n",
        "      vers.plot(kind=\"scatter\", y=traits[i], x=traits[j], color='orange', alpha=0.5, ax=axes[i][j])\n",
        "      virg.plot(kind=\"scatter\", y=traits[i], x=traits[j], color='green', alpha=0.5, ax=axes[i][j])\n",
        "      \n",
        "    if j ==0:\n",
        "      g.set_ylabel(traits[i])\n",
        "    else:\n",
        "      g.set_ylabel(None)\n",
        "      \n",
        "    if i ==3:\n",
        "      g.set_xlabel(traits[j])\n",
        "    else:\n",
        "      g.set_xlabel(None)\n",
        "\n",
        "plt.show() "
      ],
      "execution_count": null,
      "outputs": []
    },
    {
      "cell_type": "markdown",
      "metadata": {
        "id": "F8BJ1KjGlJng"
      },
      "source": [
        "### サンプル集"
      ]
    },
    {
      "cell_type": "markdown",
      "metadata": {
        "id": "bI1SZ0AXliYY"
      },
      "source": [
        "自分の描きたいグラフのコードが分からない場合、公式ページのサンプル集から描きたい物を探すと見つかるかもしれません。\n",
        "\n",
        "matplotlib: https://matplotlib.org/stable/gallery/index.html\n",
        "\n",
        "Seaborn: https://seaborn.pydata.org/examples/index.html"
      ]
    },
    {
      "cell_type": "code",
      "metadata": {
        "id": "JDh5wgZwwBlJ"
      },
      "source": [
        ""
      ],
      "execution_count": null,
      "outputs": []
    },
    {
      "cell_type": "markdown",
      "metadata": {
        "id": "bCWAv3qttW6A"
      },
      "source": [
        "## 4. データから基本統計量を取得する\n",
        "\n",
        "　グラフを描くことで、それぞれの種のデータの分布具合が視覚化されました。\n",
        "\n",
        "　ここでは、より具体的な情報を得るために、各列データの **基本統計量**（サンプル数、平均値、標準偏差、最小値、四分位数、最大値）を調べてみましょう。\n",
        "\n",
        "　各列のデータの基本統計量は、`describe()`を使うと、簡単に調べられます。\n",
        "\n",
        "```python\n",
        "データフレーム.describe()\n",
        "```"
      ]
    },
    {
      "cell_type": "code",
      "metadata": {
        "id": "_1X1RbsBv2zg"
      },
      "source": [
        "df.describe()"
      ],
      "execution_count": null,
      "outputs": []
    },
    {
      "cell_type": "markdown",
      "metadata": {
        "id": "txSSOp-dReEf"
      },
      "source": [
        "　表示された基本統計量は、150サンプル分の結果です。\n",
        "\n",
        "　*Iris setosa*のみの基本統計量も表示してみましょう。\n",
        "\n",
        "手順は、\n",
        "1. *Iris setosa*のデータのみを取り出して、別の変数に代入する（別のデータフレームにする）\n",
        "2. そのデータフレームで`describe()`を実行する。"
      ]
    },
    {
      "cell_type": "code",
      "metadata": {
        "id": "afsWwfNDUFlW"
      },
      "source": [
        "# Iris setosa のデータのみを取り出す\n",
        "setosa = df[df['species']==\"Iris-setosa\"]\n",
        "# Iris setosa の基本統計量\n",
        "setosa.describe()"
      ],
      "execution_count": null,
      "outputs": []
    },
    {
      "cell_type": "markdown",
      "metadata": {
        "id": "6Oc3bmL9Uxx7"
      },
      "source": [
        "### 実習3\n",
        "\n",
        " *Iris virginica*の基本統計量を表示してください。"
      ]
    },
    {
      "cell_type": "code",
      "metadata": {
        "id": "nV7I_R8OVB5e"
      },
      "source": [
        ""
      ],
      "execution_count": null,
      "outputs": []
    },
    {
      "cell_type": "markdown",
      "metadata": {
        "id": "YV-caoF0VCh8"
      },
      "source": [
        "#### 解答例"
      ]
    },
    {
      "cell_type": "code",
      "metadata": {
        "id": "LSwCTI2RVFdZ"
      },
      "source": [
        "# Iris virginica のデータのみを取り出す\n",
        "virginica = df[df['species']==\"Iris-virginica\"]\n",
        "# Iris virginica の基本統計量\n",
        "virginica.describe()"
      ],
      "execution_count": null,
      "outputs": []
    },
    {
      "cell_type": "code",
      "metadata": {
        "id": "JaJBdbGgv2af"
      },
      "source": [
        ""
      ],
      "execution_count": null,
      "outputs": []
    },
    {
      "cell_type": "markdown",
      "metadata": {
        "id": "yjw_UuY0uswg"
      },
      "source": [
        "## 5. ノートブックを保存する\n",
        "\n",
        "　最後に、このノートブックを保存（またはダウンロード）する方法を覚えておきましょう。\n",
        "\n",
        "- Googleドライブに保存する: 「ファイル」 > 「保存」\n",
        "- ダウンロードしてパソコンに保存する: 「ファイル」 > 「.ipynbをダウンロード」\n",
        "\n",
        "　保存したファイルは、「ノートブックを開く」や「ノートブックをアップロード」から再度開けます。"
      ]
    },
    {
      "cell_type": "markdown",
      "metadata": {
        "id": "_mXQnIszkgMj"
      },
      "source": [
        "## まとめ\n",
        "\n",
        "　今回は、実践的なデータ解析方法の基礎を学んでいきました。\n",
        "- ファイルをデータフレームとして読み込む方法\n",
        "- データフレームを扱う方法\n",
        "- グラフを描く方法\n",
        "- 基本統計量を得る方法\n",
        "を学びました。\n",
        "\n",
        "　また、データ解析をおこなったノートブックをファイルとして保存する方法も勉強しました。\n",
        "\n",
        "　ここではサンプルデータを使いましたが、自分で収集したデータを解析することももちろん可能です。\n",
        "\n",
        "　身の回りには、多くの生物がいます。まず、いくつかの生物の名前を覚えてみてください。名前を覚えると、その生物がより身近な存在になります。そうすると、その生物のちょっとした変化（個体間の違いなど）にも気付き、何らかの疑問が湧いてくることがあります。そのようなとき、（もし可能なら）自分の手でデータを集めてみてください。そして、今回おこなったように、そのデータを解析し始めてみてください。それが、研究やデータ解析の世界への第一歩になるでしょう。"
      ]
    }
  ]
}