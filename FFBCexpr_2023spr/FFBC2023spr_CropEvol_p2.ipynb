{
  "nbformat": 4,
  "nbformat_minor": 0,
  "metadata": {
    "colab": {
      "provenance": [],
      "collapsed_sections": [
        "d4jA40xN1K_s"
      ],
      "toc_visible": true
    },
    "kernelspec": {
      "name": "python3",
      "display_name": "Python 3"
    },
    "language_info": {
      "name": "python"
    }
  },
  "cells": [
    {
      "cell_type": "markdown",
      "source": [
        "2023年度前期\n",
        "\n",
        "<img src=\"https://github.com/CropEvol/lecture/blob/master/FFBCexpr_2023spr/images/banner.png?raw=true\" height=\"120px\">\n",
        "\n",
        "\n",
        "# 解析実習 後半"
      ],
      "metadata": {
        "id": "Fo4SZCqgn7uY"
      }
    },
    {
      "cell_type": "markdown",
      "source": [
        "　ここからは、ゲノム配列から任意の遺伝子配列を抜き出して、その遺伝子系統樹を作成し、種間・種内の系統関係を調べていきます。\n"
      ],
      "metadata": {
        "id": "LAZeRlVyoCsb"
      }
    },
    {
      "cell_type": "markdown",
      "source": [
        "## 解析実習の流れ\n",
        "　このテキストでは「解析実習2」をおこないます。\n",
        "\n",
        "- 解析実習1（シーケンシングリード処理、変異検出、配列決定） ※[前半パートのテキスト](https://colab.research.google.com/github/CropEvol/lecture/blob/master/FFBCexpr_2023spr/FFBC2023spr_CropEvol_p1.ipynb)\n",
        "- 解析実習2（系統解析）\n",
        "  1. 遺伝子配列をジーンバンクから探す（NCBI ワード検索）\n",
        "  1. 遺伝子の相同配列をジーンバンクから探す（NCBI BLAST検索）\n",
        "  1. 遺伝子の相同配列を実習サンプルのシーケンスから探す（ローカルBLAST検索）\n",
        "  1. 集めた相同配列で系統樹を作る\n",
        "\n",
        "\n",
        "\n"
      ],
      "metadata": {
        "id": "QETEYKqCn-2H"
      }
    },
    {
      "cell_type": "markdown",
      "source": [
        "## 事前準備: ソフトウェアをインストールする\n",
        "\n",
        "　実習前に次のコードセルを実行してください。"
      ],
      "metadata": {
        "id": "V6Bul7E4qjIx"
      }
    },
    {
      "cell_type": "code",
      "source": [
        "### 実習前にこのコードセルを実行してください\n",
        "!wget -q -O Install_softwares_p2.sh https://raw.githubusercontent.com/CropEvol/lecture/master/FFBCexpr_2023spr/scripts/Install_softwares_p2.sh\n",
        "!sh Install_softwares_p2.sh"
      ],
      "metadata": {
        "id": "Bj8lrQvdqvwg"
      },
      "execution_count": null,
      "outputs": []
    },
    {
      "cell_type": "markdown",
      "source": [
        "## 事前準備: 実習サンプルのシーケンスのダウンロード\n",
        "\n",
        "　次のコードセルを実行して、実習サンプルのシーケンスをダウンロードしてください。"
      ],
      "metadata": {
        "id": "gig81LCu7dJe"
      }
    },
    {
      "cell_type": "code",
      "source": [
        "## Aegilops bicornis\n",
        "!wget -q -O BIC_0.fasta https://github.com/CropEvol/lecture/blob/master/FFBCexpr_2023spr/dataset/fasta/BIC_0.fasta?raw=true\n",
        "!wget -q -O BIC_1.fasta https://github.com/CropEvol/lecture/blob/master/FFBCexpr_2023spr/dataset/fasta/BIC_1.fasta?raw=true\n",
        "!wget -q -O BIC_2.fasta https://github.com/CropEvol/lecture/blob/master/FFBCexpr_2023spr/dataset/fasta/BIC_2.fasta?raw=true\n",
        "## Aegilops longissima\n",
        "!wget -q -O LON_0.fasta https://github.com/CropEvol/lecture/blob/master/FFBCexpr_2023spr/dataset/fasta/LON_0.fasta?raw=true\n",
        "!wget -q -O LON_2.fasta https://github.com/CropEvol/lecture/blob/master/FFBCexpr_2023spr/dataset/fasta/LON_2.fasta?raw=true\n",
        "## Aegilops sharonensis\n",
        "!wget -q -O SHA_0.fasta https://github.com/CropEvol/lecture/blob/master/FFBCexpr_2023spr/dataset/fasta/SHA_0.fasta?raw=true\n",
        "## Aegilops searsii\n",
        "!wget -q -O SEA_0.fasta https://github.com/CropEvol/lecture/blob/master/FFBCexpr_2023spr/dataset/fasta/SEA_0.fasta?raw=true\n",
        "## Dioscorea tokoro 東北サンプル\n",
        "!wget -q -O NM.fasta https://github.com/CropEvol/lecture/blob/master/FFBCexpr_2023spr/dataset/fasta/NM.fasta?raw=true\n",
        "!wget -q -O NF.fasta https://github.com/CropEvol/lecture/blob/master/FFBCexpr_2023spr/dataset/fasta/NF.fasta?raw=true\n",
        "## Dioscorea tokoro 近畿サンプル\n",
        "!wget -q -O CM.fasta https://github.com/CropEvol/lecture/blob/master/FFBCexpr_2023spr/dataset/fasta/CM.fasta?raw=true\n",
        "!wget -q -O CF.fasta https://github.com/CropEvol/lecture/blob/master/FFBCexpr_2023spr/dataset/fasta/CF.fasta?raw=true\n",
        "## Dioscorea tokoro 九州サンプル\n",
        "!wget -q -O SM.fasta https://github.com/CropEvol/lecture/blob/master/FFBCexpr_2023spr/dataset/fasta/SM.fasta?raw=true\n",
        "!wget -q -O SF.fasta https://github.com/CropEvol/lecture/blob/master/FFBCexpr_2023spr/dataset/fasta/SF.fasta?raw=true\n",
        "!ls *.fasta"
      ],
      "metadata": {
        "id": "6eEM8qXo7y1E"
      },
      "execution_count": null,
      "outputs": []
    },
    {
      "cell_type": "markdown",
      "source": [
        "## 1. 遺伝子配列をジーンバンクから探す（NCBI ワード検索）\n",
        "\n",
        "　1970年代にサンガー法が開発されて以降、世界に数箇所あるDNAデータバンクに塩基配列やアミノ酸配列等のデータが蓄積され続けています。また、それらデータは研究者が広く利用できるように公開されています。\n",
        "\n",
        "おもなDNAデータバンク: \n",
        "- NCBI（アメリカ）: https://www.ncbi.nlm.nih.gov/\n",
        "- ENA（イギリス）: https://www.ebi.ac.uk/ena/browser/\n",
        "- DDBJ（日本）: https://www.ddbj.nig.ac.jp/index.html\n",
        "\n",
        "　まず最初に、NCBIと呼ばれるアメリカのDNAデータバンクから、次の遺伝子の塩基配列データを探してみましょう。\n",
        "\n",
        "- *rbcL*\n",
        "  - ribulose-1,5-bisphosphate carboxylase/oxgenase large subunit\n",
        "  - 葉緑体ゲノム上に存在する遺伝子で、光合成のための重要なタンパク質（Rubiscoの大サブユニット）をコードしている\n",
        "\n",
        "　次のワードをNCBIのWebページで検索してください。\n",
        "- コムギ近縁野生種 `rbcL Aegilops`\n",
        "- オニドコロ `rbcL Dioscorea`\n",
        "\n",
        "<img src=\"https://github.com/CropEvol/lecture/blob/master/FFBCexpr_2023spr/images/ncbi_word_search.png?raw=true\" height=\"220px\">\n"
      ],
      "metadata": {
        "id": "YwKbpdQmss_y"
      }
    },
    {
      "cell_type": "markdown",
      "source": [
        "## 2. 遺伝子の相同配列をジーンバンクから探す（NCBI BLAST検索）\n",
        "\n",
        "　次に、*rbcL* の相同配列を探す方法を学びましょう。Basic Local Alignment Search Tool (BLAST) というツールを利用することで、データベースにある相同な塩基配列を探すことができます。BLASTを使った相同性検索は、 **BLAST検索** と呼ばれることが多いです。\n",
        "\n",
        "<img src=\"https://github.com/CropEvol/lecture/blob/master/FFBCexpr_2023spr/images/blast_search.png?raw=true\" height=\"220px\">\n",
        "\n",
        "　ここでは、rbcLの相同配列をNCBIのデータベースから探してみましょう。\n",
        "- NCBI BLAST検索ページ: https://blast.ncbi.nlm.nih.gov/Blast.cgi\n",
        "\n",
        "<small>※ BLAST検索にはいくつか種類があります。今回は、「Nucleotide BLAST」（塩基配列（クエリ） 対 塩基配列（データベース） の検索）を使います</small>\n",
        "\n",
        "　NCBI BLAST検索の配列入力フォームに先ほど調べたrbcLの塩基配列をコピー＆ペーストし、下のほうにある「BLAST」ボタンを押してください。\n",
        "\n",
        "<img src=\"https://github.com/CropEvol/lecture/blob/master/FFBCexpr_2023spr/images/ncbi_blast_search.png?raw=true\" height=\"350px\">"
      ],
      "metadata": {
        "id": "-j-81dd9syTt"
      }
    },
    {
      "cell_type": "markdown",
      "source": [
        "## 3. 遺伝子の相同配列を実習サンプルのシーケンスから探す（ローカルBLAST検索）\n",
        "\n",
        "　今度は、手元の実習サンプルのゲノム配列中のどこに *rbcL* の相同配列があるか探して、その *rbcL* 相同配列を取り出してみましょう。"
      ],
      "metadata": {
        "id": "4qSDmRP6s0tz"
      }
    },
    {
      "cell_type": "markdown",
      "source": [
        "### 3a. ローカルBLAST検索\n",
        "\n",
        "　先ほどはNCBIのWebサービスによるBLAST検索でしたが、こちらは手元の配列データをデータベースにする ローカルBLAST検索と呼ばれる方法です。\n",
        "\n",
        "<img src=\"https://github.com/CropEvol/lecture/blob/master/FFBCexpr_2023spr/images/local_blast_search.png?raw=true\" height=\"130px\">\n",
        "\n",
        "　NCBIから配布されているBLAST+というツール中の `blastn` でローカルBLAST検索を実施できます。\n",
        "\n",
        "```sh\n",
        "## blastnの使い方\n",
        "blastn -subject SUBJECT.fasta -query QUERY.fasta\n",
        "```"
      ],
      "metadata": {
        "id": "QjzMTjxYLpMM"
      }
    },
    {
      "cell_type": "code",
      "source": [
        "%%bash\n",
        "blastn "
      ],
      "metadata": {
        "id": "Tmp0Q-Dcs3Z1"
      },
      "execution_count": null,
      "outputs": []
    },
    {
      "cell_type": "markdown",
      "source": [
        "### 3b. 相同配列を切り出す\n",
        "\n",
        "　実習サンプルのゲノム配列中の *rbcL* の位置情報が得られたので、その情報を使って相同配列を取り出しましょう。\n",
        "\n",
        "<img src=\"https://github.com/CropEvol/lecture/blob/master/FFBCexpr_2023spr/images/extract_subseq.png?raw=true\" height=\"200px\">\n",
        "\n",
        "　ゲノム配列から任意の位置の配列を切り出すには、前半のステップ4でも使用した `samtools faidx` を使います。\n",
        "\n",
        "```sh\n",
        "## samtools faidxでの配列抽出\n",
        "samtools faidx SUBJECT.fasta CHR:START-END > SUBSEQ.fasta\n",
        "\n",
        "## 説明\n",
        "- CHR: SUBJECT.fastaの塩基配列名\n",
        "- START: 切り出す塩基範囲の始点\n",
        "- END: 切り出す塩基範囲の終点\n",
        "```\n",
        "\n",
        "各実習サンプルの塩基配列名（`CHR`に入れる文字列）\n",
        "- コムギ近縁野生種:\n",
        "  - *Aegilops bicornis*: `BIC_0`, `BIC_1`, `BIC_2`\n",
        "  - *Aegilops longissima*: `LON_0`, `LON_2`\n",
        "  - *Aegilops sharonensis*: `SHA_0`\n",
        "  - *Aegilops searsii*: `SEA_0`\n",
        "- オニドコロ *Dioscorea tokoro*: \n",
        "  - 東北 雄株: `NM`\n",
        "  - 東北 雌株: `NF`\n",
        "  - 東北"
      ],
      "metadata": {
        "id": "OdnaMv-HLntJ"
      }
    },
    {
      "cell_type": "code",
      "source": [
        "%%bash\n",
        "samtools"
      ],
      "metadata": {
        "id": "k_338dj7OR3i"
      },
      "execution_count": null,
      "outputs": []
    },
    {
      "cell_type": "markdown",
      "source": [
        "　余裕がある方は、他のサンプルの *rbcL* 相同配列も集めてみてください。"
      ],
      "metadata": {
        "id": "TJ5X_1uDPDhF"
      }
    },
    {
      "cell_type": "markdown",
      "source": [
        "## 4. 集めた相同配列で系統樹を作る\n",
        "　集めた *rbcL* 相同配列を使って遺伝子系統樹を作成していきます。\n",
        "\n",
        "- [コムギ近縁野生種の *rbcL* 相同配列セット](https://raw.githubusercontent.com/CropEvol/lecture/master/FFBCexpr_2023spr/dataset/Aegilops_rbcL_genes.fasta)\n",
        "- [オニドコロの *rbcL* 相同配列セット](https://raw.githubusercontent.com/CropEvol/lecture/master/FFBCexpr_2023spr/dataset/Dioscorea_rbcL_genes.fasta)\n",
        "\n",
        "<img src=\"https://github.com/CropEvol/lecture/blob/master/FFBCexpr_2023spr/images/gene_tree.png?raw=true\" height=\"260px\">\n",
        "\n",
        "　今回の系統解析にはWebサービスを利用しましょう。入力フォームに相同配列情報を貼り付けて実行すると、簡単に系統解析をおこなえます。\n",
        "\n",
        "- Phylogeny.fr: http://www.phylogeny.fr/simple_phylogeny.cgi\n",
        "- Phylogenetic analysis pipeline by ETE3: https://www.genome.jp/tools-bin/ete"
      ],
      "metadata": {
        "id": "-_oiISsCs38Z"
      }
    },
    {
      "cell_type": "markdown",
      "source": [
        "### 系統解析の詳細"
      ],
      "metadata": {
        "id": "d4jA40xN1K_s"
      }
    },
    {
      "cell_type": "markdown",
      "source": [
        "\n",
        "\n",
        "　上述のWebサービスでは配列データを与えると、自動的に系統樹が作成されました。その自動処理では次のような処理がおこなわれています。\n",
        "\n",
        "系統解析の工程: \n",
        "1. 塩基配列を相同部位で並べる（**マルチプルアライメント**）\n",
        "1. 2つの塩基配列間で、異なる塩基の個数を調べて、塩基配列間の距離を求める\n",
        "1. 塩基配列間の距離をもとに、系統樹を構築する\n",
        "\n",
        "　次のWebツールを使うことで、今回の実習サンプルのマルチプルアライメントをおこない、塩基配列間の相違を確認できます。\n",
        "\n",
        "- Clustal Omega: https://www.ebi.ac.uk/Tools/msa/clustalo/"
      ],
      "metadata": {
        "id": "smR7OuCPvR2p"
      }
    },
    {
      "cell_type": "markdown",
      "source": [
        "## 後半まとめ＆演習\n",
        "　解析実習の後半パートでは、系統解析の方法を学びました。\n",
        "- NCBIワード検索で遺伝子配列を探す\n",
        "- NCBI BLAST検索でDNAデータベース上の相同配列を探す\n",
        "- ローカルBLAST検索で実習サンプルのシーケンスから相同配列を探す\n",
        "- 遺伝子系統樹を作る\n",
        "\n",
        "　他の遺伝子や遺伝子間領域でも実習サンプルの系統関係を調べてください。"
      ],
      "metadata": {
        "id": "dNlSrgGngeEn"
      }
    }
  ]
}