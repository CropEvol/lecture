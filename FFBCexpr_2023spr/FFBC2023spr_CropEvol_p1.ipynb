{
  "nbformat": 4,
  "nbformat_minor": 0,
  "metadata": {
    "colab": {
      "provenance": [],
      "collapsed_sections": [
        "v8EpuWmA0zHW"
      ]
    },
    "kernelspec": {
      "name": "python3",
      "display_name": "Python 3"
    },
    "language_info": {
      "name": "python"
    }
  },
  "cells": [
    {
      "cell_type": "markdown",
      "source": [
        "2023年度前期\n",
        "\n",
        "<img src=\"https://github.com/CropEvol/lecture/blob/master/FFBCexpr_2023spr/images/banner.png?raw=true\" height=\"120px\">\n",
        "\n",
        "# 解析実習 前半\n"
      ],
      "metadata": {
        "id": "LKz0COzffY6A"
      }
    },
    {
      "cell_type": "markdown",
      "source": [
        "　今回の実習では、ナノポアシーケンシングにより得られたゲノム情報を使って、遺伝子系統樹を作り、植物種間・種内の系統関係を調べていきます。\n"
      ],
      "metadata": {
        "id": "CBWbxGMnfsIV"
      }
    },
    {
      "cell_type": "markdown",
      "source": [
        "## 解析実習の流れ\n",
        "　このテキストでは「解析実習1」をおこないます。\n",
        "\n",
        "- 解析実習1（シーケンシングリード処理、変異検出、配列決定）\n",
        "  1. シーケンシングリードとそのクオリティを確認する\n",
        "  1. リードのフィルタリングをおこなう\n",
        "  1. リードを参照配列にアライメントする\n",
        "  1. アライメント結果を確認する\n",
        "  1. 実習サンプルの変異を検出する\n",
        "  1. 実習サンプルの塩基配列を決定する\n",
        "- 解析実習2（系統解析） ※[後半パートのテキスト](https://colab.research.google.com/github/CropEvol/lecture/blob/master/FFBCexpr_2023spr/FFBC2023spr_CropEvol_p2.ipynb)\n",
        "\n"
      ],
      "metadata": {
        "id": "4EUCIBw9gPKA"
      }
    },
    {
      "cell_type": "markdown",
      "source": [
        "## 事前準備: ソフトウェアをインストールする\n",
        "\n",
        "　実習前に次のコードセルを実行してください。"
      ],
      "metadata": {
        "id": "V6Bul7E4qjIx"
      }
    },
    {
      "cell_type": "code",
      "source": [
        "### 実習前にこのコードセルを実行してください\n",
        "!wget -q -O Install_softwares_p1.sh https://raw.githubusercontent.com/CropEvol/lecture/master/FFBCexpr_2023spr/scripts/Install_softwares_p1.sh\n",
        "!sh Install_softwares_p1.sh"
      ],
      "metadata": {
        "id": "Bj8lrQvdqvwg"
      },
      "execution_count": null,
      "outputs": []
    },
    {
      "cell_type": "markdown",
      "source": [
        "## 事前準備: シーケンシングデータのダウンロード\n",
        "　下記の実習サンプル名をどれかひとつ選び、そのサンプル名を`sample_name=`の右に記入して、コードセルを実行してください。シーケンシングデータ（`サンプル名.fastq`）をダウンロードできます。\n",
        "\n",
        "コムギ近縁野生種:\n",
        "- *Aegilops longissima* LON-2 （入力サンプル名: `LON_2`）\n",
        "- *Aegilops bicornis* BIC-1 （`BIC_1`）\n",
        "- *Aegilops bicornis BIC-2* （`BIC_2`）\n",
        "\n",
        "オニドコロ *Dioscorea tokoro*:\n",
        "- 東北・雄株 （`NM`）\n",
        "- 東北・雌株 （`NF`）\n",
        "- 近畿・雄株 （`CM`）\n",
        "- 近畿・雌株 （`CF`）\n",
        "- 九州・雄株 （`SM`）\n",
        "- 九州・雌株 （`SF`）\n",
        "\n",
        "　また、このあとの解析のための参照配列もダウンロードします。\n",
        "\n",
        "参照配列のファイル名:\n",
        "- コムギ近縁野生種: `Aegilops_ref.fasta`\n",
        "- オニドコロ: `Dioscorea_ref.fasta`"
      ],
      "metadata": {
        "id": "tDxUkkMd1a0B"
      }
    },
    {
      "cell_type": "code",
      "source": [
        "%%bash\n",
        "## 実習サンプル\n",
        "sample_name=SF\n",
        "wget -q -O ${sample_name}.fastq https://github.com/CropEvol/lecture/blob/master/FFBCexpr_2023spr/dataset/fastq/${sample_name}.fastq?raw=true\n",
        "ls ${sample_name}.fastq\n",
        "## 参照配列\n",
        "wget -q -O Aegilops_ref.fasta   https://github.com/CropEvol/lecture/blob/master/FFBCexpr_2023spr/dataset/ref/Ae_tauschii_chloroplast_genome.fasta?raw=true\n",
        "wget -q -O Dioscorea_ref.fasta https://github.com/CropEvol/lecture/blob/master/FFBCexpr_2023spr/dataset/ref/D.tokoro.chloroplast_genome.v1.0.fasta?raw=true"
      ],
      "metadata": {
        "id": "RL_FQ8VU3-FJ"
      },
      "execution_count": null,
      "outputs": []
    },
    {
      "cell_type": "markdown",
      "source": [
        "## 実際のゲノム解析との違い\n",
        "\n",
        "　実際のゲノム解析では、今回の勉強するような処理をGoogle Colab上でおこなうことはありません。UNIXやLinuxといったコンピュータにソフトウェアをインストールして、ゲノム解析をおこないます。その際、コマンドラインインターフェイス（WindowsではPowerShell、Macではターミナル）と呼ばれるアプリを使い、コンピュータに指示を出し、ゲノム解析をおこないます。\n",
        "\n",
        "- [コマンドラインインターフェイス操作の動画](https://github.com/CropEvol/lecture/blob/master/FFBCexpr_2023spr/movies/CUI_proc.md)\n",
        "\n",
        "　今回の実習では、コマンドラインインターフェイスに入力する指示文（コマンド）をGoogle Colabのコードセルに書き込み、ゲノム解析をおこないます。以降のテキストでは、`%%bash`から始まるコードセルでの処理がコマンドラインインターフェイスでおこなう処理に相当します。\n",
        "\n",
        "<img src=\"https://github.com/CropEvol/lecture/blob/master/FFBCexpr_2023spr/images/cui.png?raw=true\" height=\"250px\">"
      ],
      "metadata": {
        "id": "3kN81Y7jybBY"
      }
    },
    {
      "cell_type": "markdown",
      "source": [
        "## 1. シーケンシングリードとそのクオリティを確認する\n",
        "\n"
      ],
      "metadata": {
        "id": "OizGAgAkqg2k"
      }
    },
    {
      "cell_type": "markdown",
      "source": [
        "### 1a. リードの確認\n",
        "　まず最初に、どのようなデータが得られたか確認してみましょう。ナノポアのような次世代シーケンシングをおこなうと FASTQ形式と呼ばれるデータが得られます。\n",
        "\n",
        "<img src=\"https://github.com/CropEvol/lecture/blob/master/FFBCexpr_2023spr/images/nanopore_output.png?raw=true\" height=\"200px\">\n",
        "\n",
        "　次のようなコードを書いて、実際にFASTQ形式のデータを見てみましょう。\n",
        "```sh\n",
        "## headコマンド（ファイルの先頭数行を出力する）\n",
        "head -n 20 SAMPLE.fastq\n",
        "\n",
        "## オプションの説明\n",
        "# -n: 出力する行数\n",
        "```"
      ],
      "metadata": {
        "id": "L8XUUsNlyL9n"
      }
    },
    {
      "cell_type": "code",
      "source": [
        "%%bash\n",
        "head -n 20 SAMPLE.fastq"
      ],
      "metadata": {
        "id": "MkkdfaNyygbr"
      },
      "execution_count": null,
      "outputs": []
    },
    {
      "cell_type": "markdown",
      "source": [
        "### 1b. リード情報の確認（`NanoStat`）\n",
        "\n",
        "　得られたシーケンシングリードの数や質を確認してみましょう。\n",
        "\n",
        "<img src=\"https://github.com/CropEvol/lecture/blob/master/FFBCexpr_2023spr/images/read_check.png?raw=true\" height=\"250px\">\n",
        "\n",
        "　今回、`NanoStat` と呼ばれるソフトウェアを使って、リード情報の確認をおこないます。\n",
        "\n",
        "```sh\n",
        "## NanoStatの使い方\n",
        "NanoStat --fastq SAMPLE.fastq\n",
        "\n",
        "## オプションの説明\n",
        "# --fastq: 入力ファイル（シーケンシングリードファイル）\n",
        "```\n",
        "\n",
        "　`SAMPLE.fastq`の箇所にシーケンシングリードのファイル名を入れて実行してください。"
      ],
      "metadata": {
        "id": "kuXvVXC9YHhh"
      }
    },
    {
      "cell_type": "code",
      "execution_count": null,
      "metadata": {
        "id": "6Up9zyHqfTc7"
      },
      "outputs": [],
      "source": [
        "%%bash\n",
        "NanoStat --fastq SAMPLE.fastq"
      ]
    },
    {
      "cell_type": "markdown",
      "source": [
        "### 1c. リード情報の確認（`NanoPlot`）\n",
        "\n",
        "　別のソフトウェア `NanoPlot` を使うと、より多くの情報を得られます。\n",
        "\n",
        "```sh\n",
        "## NanoPlotの使い方\n",
        "NanoPlot --fastq SAMPLE.fastq -o OUTPUT_FOLDER\n",
        "\n",
        "## オプションの説明\n",
        "# --fastq: 入力ファイル（シーケンシングリードファイル）\n",
        "# -o: 出力先フォルダ名\n",
        "```"
      ],
      "metadata": {
        "id": "fG7uGdc9Xy5r"
      }
    },
    {
      "cell_type": "code",
      "source": [
        "%%bash\n",
        "NanoPlot --fastq SAMPLE.fastq -o SAMPLE"
      ],
      "metadata": {
        "id": "Cz6WCSZmZn3c"
      },
      "execution_count": null,
      "outputs": []
    },
    {
      "cell_type": "markdown",
      "source": [
        "## 2. リードのフィルタリングをおこなう\n",
        "\n"
      ],
      "metadata": {
        "id": "ovIksxnMw_xg"
      }
    },
    {
      "cell_type": "markdown",
      "source": [
        "### 2a. リードフィルタリング\n",
        "\n",
        "　シーケンシング後のリードには、質の低いリードが含まれています。そのようなリードを含んだままこのあとの解析を進めると、良い結果が得られないことがあります。質の低いリードを除いて（**フィルタリング**し）、質の良いリードのみを残しましょう。\n",
        "\n",
        "<img src=\"https://github.com/CropEvol/lecture/blob/master/FFBCexpr_2023spr/images/read_control.png?raw=true\" height=\"250px\">\n",
        "\n",
        "　ここでは、`NanoFilt` と呼ばれるソフトウェアを使用して、リードのフィルタリングをおこないます。\n",
        "\n",
        "```sh\n",
        "## NanoFiltの使い方\n",
        "NanoFilt -q 8 SAMPLE.fastq > SAMPLE.filt.fastq\n",
        "\n",
        "## オプション等の説明\n",
        "# -q: 許容するリードの平均クオリティ\n",
        "# >: 出力先ファイル\n",
        "```"
      ],
      "metadata": {
        "id": "o2dhjWapXTAP"
      }
    },
    {
      "cell_type": "code",
      "source": [
        "%%bash\n",
        "NanoFilt"
      ],
      "metadata": {
        "id": "HjWLvtSWxCia"
      },
      "execution_count": null,
      "outputs": []
    },
    {
      "cell_type": "markdown",
      "source": [
        "### 2b. フィルタリング結果の確認\n",
        "\n",
        "　ステップ1bで使用した `NanoFilt` で、フィルタリング後のリードの情報を確認してみてください。"
      ],
      "metadata": {
        "id": "IqfflbS6XP0C"
      }
    },
    {
      "cell_type": "code",
      "source": [
        "%%bash\n",
        "NanoStat"
      ],
      "metadata": {
        "id": "fzNjs6MR7sh-"
      },
      "execution_count": null,
      "outputs": []
    },
    {
      "cell_type": "markdown",
      "source": [
        "　余裕がある方は、 `NanoPlot` でもフィルタリング後の結果を確認してみてください。"
      ],
      "metadata": {
        "id": "XDWjpsyihmCI"
      }
    },
    {
      "cell_type": "code",
      "source": [
        "%%bash\n",
        "NanoPlot"
      ],
      "metadata": {
        "id": "yJj1okpFXucY"
      },
      "execution_count": null,
      "outputs": []
    },
    {
      "cell_type": "markdown",
      "source": [
        "## 3. リードを参照配列にアライメントする\n",
        "\n",
        "　アライメントソフトウェア `bwa` を使って、フィルタリングしたリードを**参照配列（リファレンス配列）**にアライメントしましょう。\n",
        "\n",
        "<img src=\"https://github.com/CropEvol/lecture/blob/master/FFBCexpr_2023spr/images/read_alignment.png?raw=true\" height=\"130px\">"
      ],
      "metadata": {
        "id": "mn6EH0L6xC-X"
      }
    },
    {
      "cell_type": "markdown",
      "source": [
        "### 3a. 参照配列のインデックス（`bwa index`）\n",
        "\n",
        "　アライメントのためには、まず参照配列（リファレンス配列）のインデックスファイルと呼ばれるものを作成する必要があります。\n",
        "\n",
        "```sh\n",
        "## インデックスファイルの作成\n",
        "## bwa indexの使い方\n",
        "bwa index REF.fasta\n",
        "```\n",
        "\n",
        "参照配列のファイル名:\n",
        "- コムギ近縁野生種: `Aegilops_ref.fasta`\n",
        "- オニドコロ: `Dioscorea_ref.fasta`"
      ],
      "metadata": {
        "id": "JiwPb79lTl3C"
      }
    },
    {
      "cell_type": "code",
      "source": [
        "%%bash\n",
        "bwa index"
      ],
      "metadata": {
        "id": "uSFNk67VxFE_"
      },
      "execution_count": null,
      "outputs": []
    },
    {
      "cell_type": "markdown",
      "source": [
        "### 3b. リードのアライメント（`bwa mem`）\n",
        "\n",
        "　参照配列のインデックスを作成後、リードを参照配列に**アライメント**（**マッピング**）します。\n",
        "\n",
        "```sh\n",
        "## 参照配列へのリードアライメント\n",
        "## bwa memの使い方\n",
        "bwa mem -x ont2d REF.fasta SAMPLE.filt.fastq > SAMPLE.sam\n",
        "\n",
        "## オプション等の説明\n",
        "# -x: リードの種類 （ont2dはナノポアシーケンシングリード）\n",
        "# >: 出力先ファイル。SAM形式と呼ばれるデータが出力されるため、「.sam」の拡張子を付けるのがよい\n",
        "```\n"
      ],
      "metadata": {
        "id": "dqBxwUHETg37"
      }
    },
    {
      "cell_type": "code",
      "source": [
        "%%bash\n",
        "bwa mem"
      ],
      "metadata": {
        "id": "nY0IyZs1VENt"
      },
      "execution_count": null,
      "outputs": []
    },
    {
      "cell_type": "markdown",
      "source": [
        "### 3c. アライメントファイルの並べ替え・形式変換（`samtools sort`）\n",
        "\n",
        "　リードアライメント後のファイルには、アライメント時の処理順にリードが格納されています。後ほどおこなうアライメント状況の確認や変異検出の際には、アライメントされたリードがゲノム上のポジション順に並べられている必要があります。その並べ替えをおこないましょう。\n",
        "\n",
        "　また、コンピュータが処理しやすいように、SAM形式をBAM形式（SAMのバイナリ化形式）に変換する処理も同時におこないましょう。\n",
        "\n",
        "<img src=\"https://github.com/CropEvol/lecture/blob/master/FFBCexpr_2023spr/images/read_sorting.png?raw=true\" height=\"180px\">\n",
        "\n",
        "　`samtools sort` コマンドで以下ふたつのことを一括でおこなえます。\n",
        "- アライメントリードの並べ替え\n",
        "- SAM形式をBAM形式に変換する\n",
        "\n",
        "```sh\n",
        "## samtools sortの使い方\n",
        "samtools sort -O bam SAMPLE.sam > SAMPLE.bam\n",
        "\n",
        "## オプション等の説明\n",
        "# -O: 出力形式 （bamはBAM形式での出力）\n",
        "# >: 出力先ファイル。BAM形式で出力されるため「.bam」の拡張子を付けるのがよい\n",
        "```"
      ],
      "metadata": {
        "id": "P5IjUxURufEG"
      }
    },
    {
      "cell_type": "code",
      "source": [
        "%%bash\n",
        "samtools sort"
      ],
      "metadata": {
        "id": "z8KsBo_Jx0dk"
      },
      "execution_count": null,
      "outputs": []
    },
    {
      "cell_type": "markdown",
      "source": [
        "## 4. アライメント結果を確認する\n",
        "\n",
        "　ここでは、IGVというツールを使って、リードのアライメント結果を確認します。\n",
        "\n",
        "　IGVにデータを渡すためには、参照配列（例では`REF.fasta`）の `samtools` のインデックスファイル（`bwa` で作ったインデックスファイルとは別のもの）が必要です。まずは、そのインデックスファイルを作ります。\n",
        "\n",
        "\n",
        "参照配列のファイル名:\n",
        "- コムギ近縁野生種: `Aegilops_ref.fasta`\n",
        "- オニドコロ: `Dioscorea_ref.fasta`\n",
        "\n",
        "```sh\n",
        "## samtools faidxの使い方\n",
        "samtools faidx REF.fasta\n",
        "```\n"
      ],
      "metadata": {
        "id": "KNXZWvoaxHBY"
      }
    },
    {
      "cell_type": "code",
      "source": [
        "%%bash\n",
        "samtools faidx"
      ],
      "metadata": {
        "id": "oe9SaX2eNSDs"
      },
      "execution_count": null,
      "outputs": []
    },
    {
      "cell_type": "markdown",
      "source": [
        "　次に、IGVでアライメント結果を確認しましょう。"
      ],
      "metadata": {
        "id": "IObR22X5OPcL"
      }
    },
    {
      "cell_type": "code",
      "source": [
        "### これはPythonプログラムです ###\n",
        "\n",
        "## 参照配列（FASTA形式ファイル）\n",
        "ref = \"\"\n",
        "## BAM形式ファイル（ステップ3cで準備したファイル）\n",
        "sample = \"\"\n",
        "\n",
        "## ---- 以下、変更不要 -----\n",
        "import igv_notebook\n",
        "from igv_prep import RefTrack, AnnotationTrack, BamTrack\n",
        "bam_common_info = { \"displayMode\":\"SQUISHED\", \"viewAsPairs\":True, \"height\":100, \"showCoverage\":False }\n",
        "igv_notebook.init()\n",
        "ref = RefTrack({ \"fastaPath\": ref, \"indexPath\": ref+\".fai\", \"id\": ref })\n",
        "bam = BamTrack({ \"name\": sample, \"path\": sample, \"viewAsPairs\":True })\n",
        "b = igv_notebook.Browser(ref)\n",
        "b.load_track(bam)"
      ],
      "metadata": {
        "id": "hMaJKWnKxHzb"
      },
      "execution_count": null,
      "outputs": []
    },
    {
      "cell_type": "markdown",
      "source": [
        "　各サンプルのアライメント結果はこちらで見れます。\n",
        "- [コムギ近縁野生種 4種](https://tinyurl.com/28rey4xs) *Aegilops longissima*, *Ae. sharonensis*, *Ae. bicornis*, *Ae. searsii*\n",
        "- [オニドコロ](https://tinyurl.com/28ewmgyl) *Dioscorea tokoro*\n",
        "\n"
      ],
      "metadata": {
        "id": "TmukiKI5PVEx"
      }
    },
    {
      "cell_type": "markdown",
      "source": [
        "## 5. 実習サンプルの変異を検出する\n",
        "\n",
        "　リードアライメント結果を使って、変異を検出してみましょう。\n",
        "\n",
        "<img src=\"https://github.com/CropEvol/lecture/blob/master/FFBCexpr_2023spr/images/variant_calling.png?raw=true\" height=\"190px\">\n",
        "\n",
        "　変異を検出するには、二つの`bcftools`コマンド `mpileup` と `call` を使います。\n",
        "\n",
        "```sh\n",
        "## bcftools mpileup / call　の使い方\n",
        "bcftools mpileup -f REF.fasta SAMPLE.bam | bcftools call -O z -v > SAMPLE.vcf.gz\n",
        "\n",
        "## mpileupオプションの説明\n",
        "# -f: 参照配列\n",
        "## callオプションの説明\n",
        "# -O: 出力形式（zはvcf.gz形式での出力を指定）\n",
        "# -v: 検出されたvariantのみを出力する\n",
        "## パイプ(|)\n",
        "# mpileupの出力を別のコマンドに渡す\n",
        "```\n"
      ],
      "metadata": {
        "id": "qo3AxdgCxINZ"
      }
    },
    {
      "cell_type": "code",
      "source": [
        "%%bash\n",
        "bcftools mpileup | bcftools call"
      ],
      "metadata": {
        "id": "pSrepzVcxK8g"
      },
      "execution_count": null,
      "outputs": []
    },
    {
      "cell_type": "markdown",
      "source": [
        "　変異検出の結果（vcf.gz形式ファイル）を確認してみましょう。\n",
        "\n",
        "```\n",
        "## vcf.gzの内容確認方法\n",
        "zcat SAMPLE.vcf.gz\n",
        "```"
      ],
      "metadata": {
        "id": "HK5CaOSKjtpg"
      }
    },
    {
      "cell_type": "code",
      "source": [
        "%%bash\n",
        "zcat"
      ],
      "metadata": {
        "id": "a1I41wbZ9GjO"
      },
      "execution_count": null,
      "outputs": []
    },
    {
      "cell_type": "markdown",
      "source": [
        "#### パイプ(|)についての補足"
      ],
      "metadata": {
        "id": "v8EpuWmA0zHW"
      }
    },
    {
      "cell_type": "markdown",
      "source": [
        "　パイプ（`|`）を使うと、前のコマンドの出力結果を、次のコマンドの入力値として渡すことができます。\n",
        "\n",
        "　例えば、`zcat`による出力内容から、`grep`で「#」を含む行のみを検索し、その行のみを出力することも可能です。"
      ],
      "metadata": {
        "id": "5hVTiGf82X3Y"
      }
    },
    {
      "cell_type": "code",
      "source": [
        "%%bash\n",
        "zcat SAMPLE.vcf.gz | grep '#'"
      ],
      "metadata": {
        "id": "jisvdlbD01Pq"
      },
      "execution_count": null,
      "outputs": []
    },
    {
      "cell_type": "markdown",
      "source": [
        "## 6. 実習サンプルの塩基配列を決定する\n",
        "\n",
        "　最後に、参照配列と検出変異を入れ替えて、実習サンプルの配列を決定しましょう。\n",
        "\n",
        "<img src=\"https://github.com/CropEvol/lecture/blob/master/FFBCexpr_2023spr/images/consensus_making.png?raw=true\" height=\"250px\">\n",
        "\n"
      ],
      "metadata": {
        "id": "K9xnwuQbxLV3"
      }
    },
    {
      "cell_type": "markdown",
      "source": [
        "### 6a. 変異入れ替えのための準備\n",
        "\n",
        "　変異を入れ替えするためには、先ほど作った vcf.gz形式ファイルのインデックスファイルを作る必要があります。そのインデックスファイルは `bcftools index` で作成できます。\n",
        "\n",
        "```sh\n",
        "## bcftools index の使い方\n",
        "bcftools index SAMPLE.vcf.gz\n",
        "```"
      ],
      "metadata": {
        "id": "H-t5Foao4R7E"
      }
    },
    {
      "cell_type": "code",
      "source": [
        "%%bash\n",
        "bcftools index"
      ],
      "metadata": {
        "id": "ePqpHmEExOJG"
      },
      "execution_count": null,
      "outputs": []
    },
    {
      "cell_type": "markdown",
      "source": [
        "### 6b. 変異の入れ替えによる実習サンプルの配列決定\n",
        "　参照配列と検出変異の入れ替えを `bcftools consensus` でおこないましょう。\n",
        "\n",
        "```sh\n",
        "## bcftools consensus の使い方\n",
        "bcftools consensus -f REF.fasta SAMPLE.vcf.gz > SAMPLE.fasta\n",
        "\n",
        "## オプション等の説明\n",
        "# -f: 参照配列\n",
        "# >: 出力先ファイル。FASTA形式で出力されるため「.fasta」の拡張子を付けるのがよい\n",
        "```"
      ],
      "metadata": {
        "id": "nf51X8rT4Nn-"
      }
    },
    {
      "cell_type": "code",
      "source": [
        "%%bash\n",
        "bcftools consensus"
      ],
      "metadata": {
        "id": "cJV5NnzF9k-b"
      },
      "execution_count": null,
      "outputs": []
    },
    {
      "cell_type": "markdown",
      "source": [
        " `cat` コマンドで、出来上がった SAMPLE.fasta の中身を確認できます。"
      ],
      "metadata": {
        "id": "FOlG2GYC6Ghu"
      }
    },
    {
      "cell_type": "code",
      "source": [
        "%%bash\n",
        "cat"
      ],
      "metadata": {
        "id": "tGTYJD4T-Bh_"
      },
      "execution_count": null,
      "outputs": []
    },
    {
      "cell_type": "markdown",
      "source": [
        "## 前半まとめ\n",
        "\n",
        "　ここまでで、ひとつの実習サンプルのシーケンシングリードに対する処理をおこなってきました。同様の操作を各サンプルのデータに対しておこなうことで、それぞれの配列を決定できます。\n",
        "- シーケンシングリードの情報確認\n",
        "- リードのフィルタリング\n",
        "- 参照配列へのリードアライメント\n",
        "- 変異検出\n",
        "- 変異入れ替えによる実習サンプルの配列決定\n",
        "\n",
        "　解析実習後半では、各サンプルの配列データを使って、遺伝子系統樹の作成をおこない、種間・種内の関係を調べていきます。\n",
        "\n",
        "<small>※ 解析実習の後半パートで使用する各サンプルの配列データは、あらかじめこちらで準備しています。</small>\n",
        "\n",
        "\\>> [後半パートのテキストへ](https://colab.research.google.com/github/CropEvol/lecture/blob/master/FFBCexpr_2023spr/FFBC2023spr_CropEvol_p2.ipynb)"
      ],
      "metadata": {
        "id": "gi5izGn9x7Pz"
      }
    }
  ]
}