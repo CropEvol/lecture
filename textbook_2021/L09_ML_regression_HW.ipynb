{
  "nbformat": 4,
  "nbformat_minor": 0,
  "metadata": {
    "colab": {
      "name": "L09_ML_regression_HW.ipynb",
      "provenance": [],
      "collapsed_sections": [],
      "toc_visible": true
    },
    "kernelspec": {
      "name": "python3",
      "display_name": "Python 3"
    }
  },
  "cells": [
    {
      "cell_type": "markdown",
      "metadata": {
        "id": "vFnKcfhjYcjf"
      },
      "source": [
        "<img src=\"https://lh3.googleusercontent.com/pw/AM-JKLVhTn_UySwMdfMwXvoq8l3VN7IkrY9cwtH2YJVMxAlMznUBWC9IpFtgPRIyfAXru4oykkYD-1WjWi0Ao5XgkB9JICvzDBcfn0L_5X2_KOOppsURK5DfSifCC-s7Vx5oQrBUn_BNWn_hfAPdhlVbKQGE=w1097-h235-no?authuser=0\" alt=\"2021年度ゲノム情報解析入門\" height=\"100px\" align=\"middle\">\n",
        "\n",
        "<div align=\"right\"><a href=\"https://github.com/CropEvol/lecture#section2\">実習表ページに戻る</a></div>"
      ]
    },
    {
      "cell_type": "markdown",
      "metadata": {
        "id": "31NfnQcvPDoY"
      },
      "source": [
        "# 機械学習 - 線形回帰その2 - [課題]\n",
        "\n",
        "実習テキストは [こちら](https://colab.research.google.com/github/CropEvol/lecture/blob/master/textbook_2021/L09_ML_regression_2.ipynb)\n"
      ]
    },
    {
      "cell_type": "markdown",
      "metadata": {
        "id": "r3MiVl6mPQ02"
      },
      "source": [
        "### 課題で使用するデータセット\n",
        "\n",
        "　次のコードセルを実行して、データファイル（[gene_expression.csv](https://github.com/CropEvol/lecture/blob/master/textbook_2019/dataset/gene_expression.csv)）をダウンロードしてください。\n",
        "\n",
        "ファイルの詳細:\n",
        "- ファイル名: gene_expression.csv\n",
        "- カンマ区切りテキストファイル\n",
        "- 100行（100サンプル） x 51列（表現型値 + 50個の遺伝子発現量）\n"
      ]
    },
    {
      "cell_type": "code",
      "metadata": {
        "id": "_1S3X9WqPOPU"
      },
      "source": [
        "### このコードセルは実行のみ ###\n",
        "# サンプルデータのダウンロード\n",
        "!wget -q -O gene_expression.csv https://raw.githubusercontent.com/CropEvol/lecture/master/textbook_2019/dataset/gene_expression.csv\n",
        "\n",
        "# pandasで読み込み\n",
        "import pandas as pd\n",
        "df = pd.read_csv(\"gene_expression.csv\", sep=\",\", header=0)\n",
        "df"
      ],
      "execution_count": null,
      "outputs": []
    },
    {
      "cell_type": "markdown",
      "metadata": {
        "id": "y4Q9vMccjEF7"
      },
      "source": [
        "---\n",
        "## 課題: 実習テキストの課題２\n",
        "\n",
        "実習テキストの課題２で作成したコードとトレーニングデータ・テストデータの評価結果($R^2$)を記述して下さい。\n",
        "\n",
        "もし時間のある人は良いモデルを目指してスコア($R^2$)を上げられるだけ上げてみて下さい。\n"
      ]
    },
    {
      "cell_type": "code",
      "metadata": {
        "id": "9fEzqL_1w94v"
      },
      "source": [
        "# 使用する変数\n",
        "import numpy as np\n",
        "x = \n",
        "y = np.array(df[\"phenotype\"])   # 目的変数\n",
        "\n",
        "# データ分割: 100サンプルを「トレーニングデータ70%、テストデータ30%」に分ける\n",
        "from sklearn.model_selection import train_test_split\n",
        "x_train, x_test, y_train, y_test = train_test_split(x, y, test_size=0.3, random_state=0)\n",
        "\n",
        "# 標準化\n",
        "\n",
        "# モデル選択＆学習\n",
        "\n",
        "# モデルの評価: 決定係数R2\n"
      ],
      "execution_count": null,
      "outputs": []
    },
    {
      "cell_type": "markdown",
      "metadata": {
        "id": "ou2qpGIJVKH1"
      },
      "source": [
        "---\n",
        "## 課題提出について\n",
        "\n",
        "**提出期限: 12月27日（月）**\n",
        "\n",
        "　次の手順で、課題を提出してください。\n",
        "\n",
        "1. 課題取り組み後のノートブックの共有リンクを発行する。  \n",
        "  共有リンク発行手順:\n",
        "  1. ノートブックを保存する\n",
        "    - 「ファイル」 > 「保存」または「ドライブにコピーを保存」\n",
        "  1. 共有リンクを発行する  \n",
        "    - 右上の「共有」ボタンをクリックする\n",
        "    - 「リンクを知っている全員に変更」をクリックする\n",
        "    - 権限が「閲覧者」になっているか確認する\n",
        "    - 共有リンクをコピーする\n",
        "1. [PandAのゲノム情報解析入門ページ](https://panda.ecs.kyoto-u.ac.jp/portal/site/2020-111-5323-000)にアクセスする\n",
        "1. 今回の課題提出ページに移動する  \n",
        "  - 「課題」 > 「課題（12月21日）」\n",
        "1. 上で発行した共有リンクを提出フォームに貼り付ける\n",
        "1. 提出する\n",
        "\n",
        "\n",
        "<div align=\"right\"><a href=\"https://github.com/CropEvol/lecture#section2\">実習表ページに戻る</a></div>"
      ]
    },
    {
      "cell_type": "code",
      "source": [
        ""
      ],
      "metadata": {
        "id": "5vNqmEy_EGH4"
      },
      "execution_count": null,
      "outputs": []
    }
  ]
}