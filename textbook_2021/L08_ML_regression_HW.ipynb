{
  "nbformat": 4,
  "nbformat_minor": 0,
  "metadata": {
    "colab": {
      "name": "L08_ML_regression.HW.ipynb",
      "provenance": [],
      "collapsed_sections": [],
      "toc_visible": true
    },
    "kernelspec": {
      "name": "python3",
      "display_name": "Python 3"
    }
  },
  "cells": [
    {
      "cell_type": "markdown",
      "metadata": {
        "id": "vFnKcfhjYcjf"
      },
      "source": [
        "<img src=\"https://lh3.googleusercontent.com/pw/ACtC-3fFHZrzKpHGWl0vYz7Sr8FX8QqLQ_tc8XHBSwqQnM4hgsIOjtjaOde1M9oHSAfe1Fs2SwVORlapit4-JOz0mjP8Tnz6HetkLZDZb8CifSd0uoSp1Nj3wG_wh1sEQlKXXzvEA9Y9HnQqu2Ecv2igmInb=w1097-h235-no?authuser=0\" alt=\"2020年度ゲノム情報解析入門\" height=\"100px\" align=\"middle\">"
      ]
    },
    {
      "cell_type": "markdown",
      "metadata": {
        "id": "31NfnQcvPDoY"
      },
      "source": [
        "# 機械学習 - 線形回帰 - [課題]\n",
        "\n",
        "実習テキストは [こちら](https://colab.research.google.com/github/CropEvol/lecture/blob/master/textbook_2021/L08_ML_regression_1.ipynb)\n"
      ]
    },
    {
      "cell_type": "markdown",
      "metadata": {
        "id": "r3MiVl6mPQ02"
      },
      "source": [
        "### 課題で使用するデータセット\n",
        "\n",
        "　次のコードセルを実行して、データファイル（[gene_expression.csv](https://github.com/CropEvol/lecture/blob/master/textbook_2019/dataset/gene_expression.csv)）をダウンロードしてください。\n",
        "\n",
        "ファイルの詳細:\n",
        "- ファイル名: gene_expression.csv\n",
        "- カンマ区切りテキストファイル\n",
        "- 100行（100サンプル） x 51列（表現型値 + 50個の遺伝子発現量）\n"
      ]
    },
    {
      "cell_type": "code",
      "metadata": {
        "id": "_1S3X9WqPOPU"
      },
      "source": [
        "### このコードセルは実行のみ ###\n",
        "# サンプルデータのダウンロード\n",
        "!wget -q -O gene_expression.csv https://raw.githubusercontent.com/CropEvol/lecture/master/textbook_2019/dataset/gene_expression.csv\n",
        "\n",
        "# pandasで読み込み\n",
        "import pandas as pd\n",
        "df = pd.read_csv(\"gene_expression.csv\", sep=\",\", header=0)\n",
        "df"
      ],
      "execution_count": null,
      "outputs": []
    },
    {
      "cell_type": "markdown",
      "metadata": {
        "id": "4l8M1ijvQKYm"
      },
      "source": [
        "### 課題で構築するモデル\n",
        "\n",
        "> gene_7の遺伝子発現量から表現型値（phenotype）を予測する線形回帰モデルを作る\n",
        "  $$ y = \\beta_{gene\\_7} x_{gene\\_7} + e $$"
      ]
    },
    {
      "cell_type": "markdown",
      "metadata": {
        "id": "y4Q9vMccjEF7"
      },
      "source": [
        "---\n",
        "## 課題1: 前処理\n",
        "\n",
        "　次のコードセルに追記して、100サンプルのデータセットをトレーニングデータとテストデータに分割してください。なお、分割後の各データのサンプル数は次のとおりになるようにしてください。\n",
        "\n",
        "- トレーニングデータ 70サンプル\n",
        "- テストデータ 30サンプル\n",
        "\n"
      ]
    },
    {
      "cell_type": "code",
      "metadata": {
        "id": "9fEzqL_1w94v"
      },
      "source": [
        "# 説明変数、目的変数の準備\n",
        "import numpy as np\n",
        "x = np.array(df[\"gene_7\"])     # 説明変数\n",
        "y = np.array(df[\"phenotype\"])  # 目的変数\n",
        "\n",
        "# ============== 編集エリア(start) =============\n",
        "# データセットの分割\n",
        "from sklearn.model_selection import train_test_split\n",
        "x_train, x_test, y_train, y_test = \n",
        "# ============== 編集エリア(end) ==============\n",
        "\n",
        "# 各データのサイズ\n",
        "print(\"training: \", x_train.shape, y_train.shape)\n",
        "print(\"test: \", x_test.shape, y_test.shape)\n",
        "\n",
        "# グラフ\n",
        "import matplotlib.pyplot as plt\n",
        "plt.scatter(x_train, y_train, color=\"blue\", label=\"train\") # トレーニングデータ\n",
        "plt.scatter(x_test, y_test, color=\"orange\", label=\"test\") # テストデータ\n",
        "plt.xlabel(\"Expression of gene7\") # x軸ラベル\n",
        "plt.ylabel(\"Phenotype value\")     # y軸ラベル\n",
        "plt.legend()                # 凡例\n",
        "plt.show()"
      ],
      "execution_count": null,
      "outputs": []
    },
    {
      "cell_type": "markdown",
      "metadata": {
        "id": "Tsj3S9gcpg33"
      },
      "source": [
        "## 課題2: モデルの選択＆モデルの学習\n",
        "\n",
        "　次のコードセルに追記して、線形回帰モデルを準備し、課題1で準備したトレーニングデータでモデルの学習をおこなってください。"
      ]
    },
    {
      "cell_type": "code",
      "metadata": {
        "id": "-tVA47OxplV-"
      },
      "source": [
        "# 整形（説明変数がひとつの場合に必要）\n",
        "x_train = x_train.reshape(-1, 1)\n",
        "\n",
        "# ============== 編集エリア(start) =============\n",
        "# 線形回帰モデルの準備\n",
        "from sklearn.linear_model import LinearRegression\n",
        "lr = \n",
        "\n",
        "# モデルの学習\n",
        "lr\n",
        "# ============== 編集エリア(end) ==============\n",
        "\n",
        "# 学習済み線形回帰モデルの係数と誤差を表示\n",
        "print(\"Coefficient=\", lr.coef_)   # 係数b （傾き）\n",
        "print(\"Intercept=\"  , lr.intercept_) # 誤差e (切片)"
      ],
      "execution_count": null,
      "outputs": []
    },
    {
      "cell_type": "markdown",
      "metadata": {
        "id": "nVIua_1gp-TO"
      },
      "source": [
        "## 課題3: 線形回帰直線の描画\n",
        "<small>※ この課題は、課題2に取り組んだあとに下記コードを実行するだけです。</small>\n",
        "\n",
        "　次のコードセルを実行して、課題2で学習した線形回帰モデルのグラフに描いてください。\n",
        "\n"
      ]
    },
    {
      "cell_type": "code",
      "metadata": {
        "id": "eL3FLVyZEfjh"
      },
      "source": [
        "# グラフ\n",
        "import matplotlib.pyplot as plt\n",
        "plt.scatter(x_train, y_train, color=\"blue\", label=\"train\") # トレーニングデータ\n",
        "plt.scatter(x_test, y_test, color=\"orange\", label=\"test\") # テストデータ\n",
        "plt.plot(x_train, lr.predict(x_train), color=\"blue\", alpha=0.5, label=\"model\") # 学習済み線形回帰モデルの直線\n",
        "plt.xlabel(\"Expression of gene7\") # x軸ラベル\n",
        "plt.ylabel(\"Phenotype value\")     # y軸ラベル\n",
        "plt.legend()                # 凡例\n",
        "plt.show()"
      ],
      "execution_count": null,
      "outputs": []
    },
    {
      "cell_type": "markdown",
      "metadata": {
        "id": "O8a2s0rIWhNm"
      },
      "source": [
        "## 課題4: モデルの評価\n",
        "<small>※ この課題は、取組み必須課題ではありません。</small>\n",
        "\n",
        "　次のコードセルに追記して、課題2で学習した線形回帰モデルの評価のために、トレーニングデータとテストデータを使って、それぞれの決定係数 $R^2$ を調べてください。"
      ]
    },
    {
      "cell_type": "code",
      "metadata": {
        "id": "2sYu6hwWWqI1"
      },
      "source": [
        "# 整形: テストデータの説明変数\n",
        "x_test = x_test.reshape(-1, 1)\n",
        "\n",
        "# ============== 編集エリア(start) =============\n",
        "# トレーニングデータの決定係数R2\n",
        "r2_train =\n",
        "# テストデータの決定係数R2\n",
        "r2_test =\n",
        "# ============== 編集エリア(end) =============\n",
        "\n",
        "print(\"training: \", r2_train)\n",
        "print(\"test: \"    , r2_test)"
      ],
      "execution_count": null,
      "outputs": []
    },
    {
      "cell_type": "markdown",
      "metadata": {
        "id": "ou2qpGIJVKH1"
      },
      "source": [
        "---\n",
        "## 課題提出について\n",
        "\n",
        "**提出期限: 12月21日（月）**\n",
        "\n",
        "　次の手順で、課題を提出してください。\n",
        "\n",
        "1. 課題取り組み後のノートブックの共有リンクを発行する。  \n",
        "  共有リンク発行手順:\n",
        "  1. ノートブックを保存する\n",
        "    - 「ファイル」 > 「保存」または「ドライブにコピーを保存」\n",
        "  1. 共有リンクを発行する  \n",
        "    - 右上の「共有」ボタンをクリックする\n",
        "    - 「リンクを知っている全員に変更」をクリックする\n",
        "    - 権限が「閲覧者」になっているか確認する\n",
        "    - 共有リンクをコピーする\n",
        "1. [PandAのゲノム情報解析入門ページ](https://panda.ecs.kyoto-u.ac.jp/portal/site/2020-111-5323-000)にアクセスする\n",
        "1. 今回の課題提出ページに移動する  \n",
        "  - 「課題」 > 「課題（12月14日）」\n",
        "1. 上で発行した共有リンクを提出フォームに貼り付ける\n",
        "1. 提出する\n",
        "\n",
        "\n",
        "<div align=\"right\"><a href=\"https://github.com/CropEvol/lecture#section2\">実習表ページに戻る</a></div>"
      ]
    },
    {
      "cell_type": "code",
      "source": [
        ""
      ],
      "metadata": {
        "id": "5vNqmEy_EGH4"
      },
      "execution_count": null,
      "outputs": []
    }
  ]
}