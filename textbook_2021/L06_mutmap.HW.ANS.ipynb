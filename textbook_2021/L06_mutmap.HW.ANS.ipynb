{
  "nbformat": 4,
  "nbformat_minor": 0,
  "metadata": {
    "colab": {
      "name": "L06_mutmap.HW.ANS.ipynb",
      "provenance": [],
      "collapsed_sections": [
        "UzBGWCdUnWwd",
        "TSHdL-_VbK6w",
        "SOyORxT7cD3H",
        "llwm-VNOhydO",
        "C-8HuXy-scDP"
      ]
    },
    "kernelspec": {
      "name": "python3",
      "display_name": "Python 3"
    }
  },
  "cells": [
    {
      "cell_type": "markdown",
      "metadata": {
        "id": "vFnKcfhjYcjf"
      },
      "source": [
        "<img src=\"https://lh3.googleusercontent.com/pw/AM-JKLVhTn_UySwMdfMwXvoq8l3VN7IkrY9cwtH2YJVMxAlMznUBWC9IpFtgPRIyfAXru4oykkYD-1WjWi0Ao5XgkB9JICvzDBcfn0L_5X2_KOOppsURK5DfSifCC-s7Vx5oQrBUn_BNWn_hfAPdhlVbKQGE=w1097-h235-no?authuser=0\" alt=\"2021年度ゲノム情報解析入門\" height=\"100px\" align=\"middle\">\n",
        "\n",
        "<div align=\"right\"><a href=\"https://github.com/CropEvol/lecture#section2\">実習表ページに戻る</a></div>"
      ]
    },
    {
      "cell_type": "markdown",
      "metadata": {
        "id": "31NfnQcvPDoY"
      },
      "source": [
        "# 大規模データ解析入門 - MutMap解析 - [課題]\n",
        "\n",
        "実習テキスト（大規模データ解析入門 - MutMap解析 -）は [こちら](https://colab.research.google.com/github/CropEvol/lecture/blob/master/textbook_2020/L07_mutmap.ipynb)\n"
      ]
    },
    {
      "cell_type": "markdown",
      "metadata": {
        "id": "UzBGWCdUnWwd"
      },
      "source": [
        "## サンプルデータの説明"
      ]
    },
    {
      "cell_type": "markdown",
      "metadata": {
        "id": "5Gwxu7zFnxhA"
      },
      "source": [
        "　この実習では、イネの草丈が「短稈」になる遺伝子のマッピング（**MutMap解析**; Abe et al., 2012）をおこないます。\n",
        "\n",
        "<img src=\"https://lh3.googleusercontent.com/pw/ACtC-3fspjuKnYXReTMqxoFhGjNWsvLnBFEPpncZ5L7mcSyHXlqPZwudy8JZkNrSfpDDoTJ8DIY7ENb428TWD3Rzjd5-K1vhKsI9fAkeK_hM-EeujXhe-I65h27f3x89XAtp6K1JD4AH5XJ8Fk5ZWAriBjPr=w899-h556-no?authuser=0\" alt=\"mutmap_trait\" height=\"200px\">\n",
        "\n",
        "　MutMap解析は、バルクDNAシーケンス中の突然変異塩基の割合（**SNP-index**と呼ばれる指標）をゲノムにわたって調べることで、突然変異の原因遺伝子の領域を探索する解析です。MutMap解析の詳細は、[実習テキスト](https://colab.research.google.com/github/CropEvol/lecture/blob/master/textbook_2020/L07_mutmap.ipynb)や原著論文(下記)を参照してください。\n",
        "\n",
        "> Abe, A., Kosugi, S., Yoshida, K., Natsume, S., Takagi, H., Kanzaki, H., Matsumura, H., Yoshida, K., Mitsuoka, C., Tamiru, M., Innan, H., Cano, L., Kamoun, S., Terauchi, R. (2012). [Genome sequencing reveals agronomically important loci in rice using MutMap.](https://www.nature.com/articles/nbt.2095)  Nature biotechnology, 30(2), 174.\n",
        "\n",
        "　「サンプルデータのダウンロード」で読み込むサンプルデータには、次のような情報が書かれています。\n",
        "\n",
        "<img src=\"https://lh3.googleusercontent.com/pw/ACtC-3d0Rc_FTfGGaL3hATWKRmqgm6uf9icjTE1psTp9sdJGaqa2n_coL2VMET1oZCeTF-bz7514D0rWF-8MCIZ_Q4v1F2k1rPT9bOHEeo79-I5viTWK8nalr2xb2JIeleNxL2GlBpkiPnFlxB8NRo78f2E7=w1222-h908-no?authuser=0\" alt=\"mutmap_dataset\" height=\"350px\">\n"
      ]
    },
    {
      "cell_type": "markdown",
      "metadata": {
        "id": "q49nAefutY6W"
      },
      "source": [
        "## サンプルデータのダウンロード\n"
      ]
    },
    {
      "cell_type": "markdown",
      "metadata": {
        "id": "ZG4WH3zU5BzH"
      },
      "source": [
        "　課題をおこなう前に、下記のコードセルを実行してください。[サンプルデータ](https://raw.githubusercontent.com/CropEvol/lecture/master/data/pandas_hw_dataset_mini.txt)のダウンロードと読み込みがおこなわれます。\n",
        "\n",
        "　読み込まれたデータは、データフレーム変数`df`に格納されます。"
      ]
    },
    {
      "cell_type": "code",
      "metadata": {
        "id": "Sy4yQSNUm-5W"
      },
      "source": [
        "\"\"\"\n",
        "＊重要＊\n",
        "最初にこのセルを実行してください。\n",
        "この課題で使うサンプルファイルをダウンロードします。\n",
        "\"\"\"\n",
        "!wget -q -O mutmap_dataset.txt https://raw.githubusercontent.com/CropEvol/lecture/master/data/mutmap_chr12.txt\n",
        "\n",
        "# pandasでサンプルデータを読み込む\n",
        "import pandas as pd\n",
        "df = pd.read_csv(\"mutmap_dataset.txt\", sep=\",\", header=0)\n",
        "# 表示\n",
        "df"
      ],
      "execution_count": null,
      "outputs": []
    },
    {
      "cell_type": "markdown",
      "metadata": {
        "id": "y4Q9vMccjEF7"
      },
      "source": [
        "---\n",
        "## 課題1\n",
        "\n",
        "　データフレーム`df`中の2つの列データ`N_REF`と`N_ALT`を使って、突然変異塩基の割合（**SNP-index**）の計算をおこなってください。また、その計算結果を新しい列`SNP_index`としてデータフレームに追加してください。\n",
        "\n",
        "$$ SNP\\_index = \\frac{N\\_ALT}{N\\_REF + N\\_ALT} $$\n",
        "\n"
      ]
    },
    {
      "cell_type": "code",
      "metadata": {
        "id": "J6vN7WjIbKoL"
      },
      "source": [
        ""
      ],
      "execution_count": null,
      "outputs": []
    },
    {
      "cell_type": "markdown",
      "metadata": {
        "id": "TSHdL-_VbK6w"
      },
      "source": [
        "#### 解答例"
      ]
    },
    {
      "cell_type": "markdown",
      "metadata": {
        "id": "1lVleA_gcQ0G"
      },
      "source": [
        "- 計算につかう列データを取り出す\n",
        "- 取り出した列データを使って、SNP-indexの計算をおこなう\n",
        "- 新しい列としてデータフレームに追加する\n",
        "```python\n",
        "データフレーム[新しい列名] = 追加したいデータ\n",
        "```"
      ]
    },
    {
      "cell_type": "code",
      "metadata": {
        "id": "9fEzqL_1w94v"
      },
      "source": [
        "# 列データの取り出し\n",
        "n_ref = df[\"N_REF\"]\n",
        "n_alt = df[\"N_ALT\"]\n",
        "# SNP-indexの計算\n",
        "snp_index = n_alt / (n_ref + n_alt)\n",
        "# 新しい列として追加\n",
        "df[\"SNP_index\"] = snp_index\n",
        "# 確認\n",
        "df"
      ],
      "execution_count": null,
      "outputs": []
    },
    {
      "cell_type": "code",
      "metadata": {
        "id": "ISLGek7wa0mb"
      },
      "source": [
        "# 1行で記述してもOK\n",
        "df[\"SNP_index\"] = df[\"N_ALT\"] / (df[\"N_REF\"] + df[\"N_ALT\"])"
      ],
      "execution_count": null,
      "outputs": []
    },
    {
      "cell_type": "markdown",
      "metadata": {
        "id": "Tsj3S9gcpg33"
      },
      "source": [
        "## 課題2\n",
        "\n",
        " 下記のコードセルに追記して、染色体中のSNP-indexの散布図を描いてください。\n",
        "- x軸: 染色体上の位置（列データ:`POS`）\n",
        "- y軸: SNP-index（列データ:`SNP_index`）"
      ]
    },
    {
      "cell_type": "code",
      "metadata": {
        "id": "-tVA47OxplV-"
      },
      "source": [
        "# Matplotlibライブラリを準備する\n",
        "import matplotlib.pyplot as plt\n",
        "\n",
        "# x軸座標、y軸座標のデータを準備する\n",
        "x = \n",
        "y = \n",
        "\n",
        "# SNP-indexのグラフを描く\n",
        "plt.figure(figsize=[12,4])    # グラフサイズの設定\n",
        "# (散布図を描くコード)\n",
        "\n",
        "plt.title('SNP-index on chromosome 12', fontsize=18)  # グラフタイトル\n",
        "plt.xlabel('Position (x10Mb)', fontsize=12)  # x軸ラベル\n",
        "plt.ylabel('SNP-index', fontsize=12)           # y軸ラベル\n",
        "plt.show()                    # グラフ表示"
      ],
      "execution_count": null,
      "outputs": []
    },
    {
      "cell_type": "markdown",
      "metadata": {
        "id": "SOyORxT7cD3H"
      },
      "source": [
        "#### 解答例"
      ]
    },
    {
      "cell_type": "markdown",
      "metadata": {
        "id": "jsBH7zcKcH6F"
      },
      "source": [
        "- 散布図を描くためのデータ（x軸座標とy軸座標のリスト）を用意する \n",
        "  - `POS`列\n",
        "  - `SNP_index`列\n",
        "- 散布図を描く\n",
        "\n",
        "```python\n",
        "plt.scatter(x軸座標リスト, y軸座標リスト, <オプション>)\n",
        "```"
      ]
    },
    {
      "cell_type": "code",
      "metadata": {
        "id": "vAwBAlJ9cKe2"
      },
      "source": [
        "# Matplotlibライブラリを準備する\n",
        "import matplotlib.pyplot as plt\n",
        "\n",
        "# x軸座標、y軸座標のデータを準備する\n",
        "x = df[\"POS\"]\n",
        "y = df[\"SNP_index\"]\n",
        "\n",
        "# SNP-indexのグラフを描く\n",
        "plt.figure(figsize=[12,4])    # グラフサイズの設定\n",
        "# (散布図を描くコード)\n",
        "plt.scatter(x, y)\n",
        "plt.title('SNP-index on chromosome 12', fontsize=18)  # グラフタイトル\n",
        "plt.xlabel('Position (x10Mb)', fontsize=12)  # x軸ラベル\n",
        "plt.ylabel('SNP-index', fontsize=12)           # y軸ラベル\n",
        "plt.show()                    # グラフ表示"
      ],
      "execution_count": null,
      "outputs": []
    },
    {
      "cell_type": "markdown",
      "metadata": {
        "id": "nVIua_1gp-TO"
      },
      "source": [
        "## 課題3\n",
        "\n",
        "　課題2のコードに追記して、「SNP-indexが0.8より大きいデータ」を赤色(`red`)の散布図を描画してください。\n",
        "- 全SNP-indexデータを赤以外の色の散布図で描く\n",
        "- SNP-indexが0.8より大きいデータを赤色の散布図で描く"
      ]
    },
    {
      "cell_type": "code",
      "metadata": {
        "id": "WH2Pj4dqq8p1"
      },
      "source": [
        "# 「SNP-indexが0.8より大きいデータ」\n",
        "df2 = \n",
        "\n",
        "# 「SNP-indexが0.8より大きいデータ」のx軸座標、y軸座標\n",
        "x2 = \n",
        "y2 = \n",
        "\n",
        "# SNP-indexのグラフを描く\n",
        "plt.figure(figsize=[12,4])    # グラフサイズの設定\n",
        "# (全SNP-indexの散布図; 課題2と同じコード)\n",
        "\n",
        "# (「SNP-indexが0.8より大きいデータ」の散布図)\n",
        "\n",
        "plt.title('SNP-index on chromosome 12', fontsize=18)  # グラフタイトル\n",
        "plt.xlabel('Position (x10Mb)', fontsize=12)  # x軸ラベル\n",
        "plt.ylabel('SNP-index', fontsize=12)           # y軸ラベル\n",
        "plt.show()                    # グラフ表示"
      ],
      "execution_count": null,
      "outputs": []
    },
    {
      "cell_type": "markdown",
      "metadata": {
        "id": "llwm-VNOhydO"
      },
      "source": [
        "#### 解答例"
      ]
    },
    {
      "cell_type": "markdown",
      "metadata": {
        "id": "dsTyJfVXh0g5"
      },
      "source": [
        "- 「SNP-indexが0.8より大きいデータ」を取り出す\n",
        "- 散布図を描くためのデータ（x軸座標とy軸座標のリスト）を用意する \n",
        "  - 「SNP-indexが0.8より大きいデータ」の`POS`列\n",
        "  - 「SNP-indexが0.8より大きいデータ」の`SNP_index`列\n",
        "- 散布図（赤色指定）を描く\n",
        "\n",
        "```python\n",
        "plt.scatter(x軸座標リスト, y軸座標リスト, color=\"red\")\n",
        "```"
      ]
    },
    {
      "cell_type": "code",
      "metadata": {
        "id": "0ocDyy49h0Df"
      },
      "source": [
        "# 「SNP-indexが0.8より大きいデータ」\n",
        "df2 = df[df[\"SNP_index\"]>0.8]\n",
        "\n",
        "# 「SNP-indexが0.8より大きいデータ」のx軸座標、y軸座標\n",
        "x2 = df2[\"POS\"]\n",
        "y2 = df2[\"SNP_index\"]\n",
        "\n",
        "# SNP-indexのグラフを描く\n",
        "plt.figure(figsize=[12,4])    # グラフサイズの設定\n",
        "# (全SNP-indexの散布図; 課題2と同じコード)\n",
        "plt.scatter(x, y)\n",
        "# (「SNP-indexが0.8より大きいデータ」の散布図)\n",
        "plt.scatter(x2, y2, color=\"red\")\n",
        "plt.title('SNP-index on chromosome 12', fontsize=18)  # グラフタイトル\n",
        "plt.xlabel('Position (x10Mb)', fontsize=12)  # x軸ラベル\n",
        "plt.ylabel('SNP-index', fontsize=12)           # y軸ラベル\n",
        "plt.show()                    # グラフ表示"
      ],
      "execution_count": null,
      "outputs": []
    },
    {
      "cell_type": "markdown",
      "metadata": {
        "id": "MGZ5tEgZTcK4"
      },
      "source": [
        "## 課題4\n",
        "\n",
        "<small>※ この課題は回答不要です。</small>\n",
        "\n",
        "　**移動平均（Sliding window平均）** について調べてください。"
      ]
    },
    {
      "cell_type": "markdown",
      "metadata": {
        "id": "C-8HuXy-scDP"
      },
      "source": [
        "#### 解答例"
      ]
    },
    {
      "cell_type": "markdown",
      "metadata": {
        "id": "dSzfv1uPUEUg"
      },
      "source": [
        "　**移動平均（Sliding window平均）**は、ゲノムにわたってデータの区間平均を調べて、データを平滑化する手法です。　\n",
        "\n",
        "　MutMapでは、SNP-indexの区間平均をゲノム全域にわたって調べます。\n",
        "\n",
        "次の手順でおこなわれます。 \n",
        "1. ゲノムの片端に任意のウィンドウサイズ（window size）の区間を設定します。\n",
        "1. その区間に含まれるSNPデータについて、SNP-indexの平均値を求めます。\n",
        "1. 次に任意のステップサイズ（step size）の分だけ区間を横にずらします。\n",
        "1. 再び、その区間に含まれるSNPデータについて、SNP-indexの平均値を求めます。\n",
        "1. 3と4をゲノムのもう片方の端まで繰り返します。\n",
        "1. 最後に、平均SNP-indexの折れ線グラフを描画し、平均SNP-indexが高いゲノム領域を視覚化します。\n",
        "\n",
        "\n",
        "<img src=\"https://lh3.googleusercontent.com/pw/ACtC-3euwLsOQQgwmqJWLWTeSROFjby5RYnNH_UdqTE9SEpefx_XkZILIKAdrOsq0bzT_7L6RZQFwAFgexYRUupN8c6EdZVUyNN96gSXsj6mTM8v26qaCZs2HCllVzuWexZZ2t8J_tAN80NbuloO79WWK5IR=w720-h405-no?authuser=0\" alt=\"sliding_window_overview\" height=\"300px\">\n",
        "\n",
        "　染色体上の各座標は、距離に応じて、遺伝的な連鎖関係にあります（下図）。原因遺伝子座はSNP-index=1.0を示すことが期待されますが、その周辺のSNP座もまた1.0（または、それに近い値）を示すことが期待されます。それゆえ、MutMap法では、SNP-indexの平均値をゲノム全域にわたって調べ、平均値が1.0に近づくゲノム領域を探し出し、その領域を「原因遺伝子座」として同定します。\n",
        "\n",
        "<img src=\"https://lh3.googleusercontent.com/pw/AM-JKLWPJL6t4Y-o1DB7Ae3qomRha2PrFelSXny7BVTPTjGAc-YgF_i3Z1LhsIAMsL93iFf9waFJXBxm121tZ1miiKDHLd_h4gxspXRYnKHKFXRooA8hogbwZmyUnowTB_1cB4RUH6eBWUxvg83DS_xd7V3K=w609-h170-no?authuser=0\" alt=\"linkage\" height=\"100px\">\n",
        "\n",
        "\n",
        "\n",
        "<small>※ ゲノム上のデータの移動平均（Sliding window平均）について解説しましたが、時系列データといった別のデータでも同様の解析をおこなえます。</small>"
      ]
    },
    {
      "cell_type": "markdown",
      "metadata": {
        "id": "ou2qpGIJVKH1"
      },
      "source": [
        "---\n",
        "## 課題提出について\n",
        "\n",
        "**提出期限: 12月6日（月）**\n",
        "\n",
        "　次の手順で、課題を提出してください。\n",
        "\n",
        "1. 課題取り組み後のノートブックの共有リンクを発行する。  \n",
        "  共有リンク発行手順:\n",
        "  1. ノートブックを保存する\n",
        "    - 「ファイル」 > 「保存」または「ドライブにコピーを保存」\n",
        "  1. 共有リンクを発行する  \n",
        "    - 右上の「共有」ボタンをクリックする\n",
        "    - 「リンクを知っている全員に変更」をクリックする\n",
        "    - 権限が「閲覧者」になっているか確認する\n",
        "    - 共有リンクをコピーする\n",
        "1. [PandAのゲノム情報解析入門ページ](https://panda.ecs.kyoto-u.ac.jp/portal/site/2020-111-5323-000)にアクセスする\n",
        "1. 今回の課題提出ページに移動する  \n",
        "  - 「課題」 > 「課題（11月30日）」\n",
        "1. 上で発行した共有リンクを提出フォームに貼り付ける\n",
        "1. 提出する\n",
        "\n",
        "<div align=\"right\"><a href=\"https://github.com/CropEvol/lecture#section2\">実習表ページに戻る</a></div>"
      ]
    }
  ]
}