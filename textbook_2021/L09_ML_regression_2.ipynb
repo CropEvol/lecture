{
  "nbformat": 4,
  "nbformat_minor": 0,
  "metadata": {
    "colab": {
      "name": "L09_ML_regression_2.ipynb",
      "provenance": [],
      "collapsed_sections": [
        "HhiREQJGpwnr",
        "-bAnZL1-Cb09",
        "x-jpAVs1M7jP",
        "-MiVC5B6IE0L"
      ],
      "toc_visible": true
    },
    "kernelspec": {
      "name": "python3",
      "display_name": "Python 3"
    }
  },
  "cells": [
    {
      "cell_type": "markdown",
      "metadata": {
        "id": "e9fGSNj8QRzB"
      },
      "source": [
        "<img src=\"https://lh3.googleusercontent.com/pw/AM-JKLVhTn_UySwMdfMwXvoq8l3VN7IkrY9cwtH2YJVMxAlMznUBWC9IpFtgPRIyfAXru4oykkYD-1WjWi0Ao5XgkB9JICvzDBcfn0L_5X2_KOOppsURK5DfSifCC-s7Vx5oQrBUn_BNWn_hfAPdhlVbKQGE=w1097-h235-no?authuser=0\" alt=\"2021年度ゲノム情報解析入門\" height=\"100px\" align=\"middle\">\n",
        "\n",
        "<div align=\"right\"><a href=\"https://github.com/CropEvol/lecture#section2\">実習表ページに戻る</a></div>"
      ]
    },
    {
      "cell_type": "markdown",
      "metadata": {
        "id": "AtPzXrSAtBm8"
      },
      "source": [
        "# 機械学習 - 線形回帰（2）-\n",
        "\n",
        "　[機械学習 - 線形回帰（1）](https://colab.research.google.com/github/CropEvol/lecture/blob/master/textbook_2021/L12_ML_regression_1.ipynb)では、説明変数（1遺伝子の発現量）をひとつ使い、その遺伝子発現量から表現型値を予測する線形回帰モデルを構築しました。しかし、そのモデルの評価値（決定係数 $R^2$ ）は低く、良いモデルではありませんでした。\n",
        "\n",
        "　今回、使用する説明変数を増やして、より良い線形回帰モデルを作ってみましょう。\n",
        "\n",
        "\n",
        "<img src=\"https://github.com/CropEvol/lecture/blob/master/textbook_2021/images/regression_models.png?raw=true\" alt=\"regression_models\" height=\"400px\">\n"
      ]
    },
    {
      "cell_type": "markdown",
      "metadata": {
        "id": "cUijXJo0q5in"
      },
      "source": [
        "---\n",
        "\n",
        "## 今回の実習内容\n",
        "\n",
        "1. 線形回帰 Linear regression（2変数以上）\n"
      ]
    },
    {
      "cell_type": "markdown",
      "metadata": {
        "id": "HhiREQJGpwnr"
      },
      "source": [
        "### 線形回帰モデル\n"
      ]
    },
    {
      "cell_type": "markdown",
      "metadata": {
        "id": "czigWGYAp1uO"
      },
      "source": [
        "　ここでおこなう解析の目標は次のとおりです。\n",
        "> 遺伝子発現量から表現型値を予測する線形回帰モデルを作る\n",
        "\n",
        "　「線形回帰モデル」とは何か？　遺伝子発現量（$x$）と表現型値（$y$）の関係を次の方程式で表したモデルのことです。\n",
        "\n",
        "線形回帰モデルの方程式: \n",
        "\n",
        "<img src=\"https://github.com/CropEvol/lecture/blob/2018/textbook_2018/09_statistics/data/regression_base.png?raw=true\" alt=\"regression\" height=\"130px\">\n",
        "\n",
        "- **目的変数（objective variable）**: 予測される変数$y$。今回の場合、表現型値。\n",
        "- **説明変数（explanatory variable）**: 予測に使う変数$x$。今回の場合、各遺伝子発現量。\n",
        "- **偏回帰係数（coefficient）**: 各説明変数の重み。目的変数の予測にその変数がどれぐらい影響するかを示す指標。\n",
        "- **誤差（intercept; 切片）**: 説明変数以外の影響を示す項。\n",
        "\n",
        "　偏回帰係数や誤差の値は、データから推定します。「線形回帰モデルを作る」とは、それらの推定値を得ることに相当します。"
      ]
    },
    {
      "cell_type": "markdown",
      "metadata": {
        "id": "aOaYdFcfbFMX"
      },
      "source": [
        "### 実習で使用するデータセット\n",
        "\n",
        "　次のコードセルを実行して、データファイル（[gene_expression.csv](https://github.com/CropEvol/lecture/blob/master/textbook_2019/dataset/gene_expression.csv)）をダウンロードしてください。\n",
        "\n",
        "ファイルの詳細:\n",
        "- ファイル名: gene_expression.csv\n",
        "- カンマ区切りテキストファイル\n",
        "- 100行（100サンプル） x 51列（表現型値 + 50個の遺伝子発現量）\n"
      ]
    },
    {
      "cell_type": "code",
      "metadata": {
        "id": "xKU2jUPHbXDV",
        "colab": {
          "base_uri": "https://localhost:8080/",
          "height": 487
        },
        "outputId": "cd08c344-72c5-4de3-ca8f-574327706a09"
      },
      "source": [
        "### このコードセルは実行のみ ###\n",
        "# サンプルデータのダウンロード\n",
        "!wget -q -O gene_expression.csv https://raw.githubusercontent.com/CropEvol/lecture/master/textbook_2019/dataset/gene_expression.csv\n",
        "\n",
        "# pandasで読み込み\n",
        "import pandas as pd\n",
        "df = pd.read_csv(\"gene_expression.csv\", sep=\",\", header=0)\n",
        "df"
      ],
      "execution_count": 18,
      "outputs": [
        {
          "output_type": "execute_result",
          "data": {
            "text/html": [
              "\n",
              "  <div id=\"df-dcf02817-f492-4db9-8e6b-51de28ab9b03\">\n",
              "    <div class=\"colab-df-container\">\n",
              "      <div>\n",
              "<style scoped>\n",
              "    .dataframe tbody tr th:only-of-type {\n",
              "        vertical-align: middle;\n",
              "    }\n",
              "\n",
              "    .dataframe tbody tr th {\n",
              "        vertical-align: top;\n",
              "    }\n",
              "\n",
              "    .dataframe thead th {\n",
              "        text-align: right;\n",
              "    }\n",
              "</style>\n",
              "<table border=\"1\" class=\"dataframe\">\n",
              "  <thead>\n",
              "    <tr style=\"text-align: right;\">\n",
              "      <th></th>\n",
              "      <th>phenotype</th>\n",
              "      <th>gene_1</th>\n",
              "      <th>gene_2</th>\n",
              "      <th>gene_3</th>\n",
              "      <th>gene_4</th>\n",
              "      <th>gene_5</th>\n",
              "      <th>gene_6</th>\n",
              "      <th>gene_7</th>\n",
              "      <th>gene_8</th>\n",
              "      <th>gene_9</th>\n",
              "      <th>gene_10</th>\n",
              "      <th>gene_11</th>\n",
              "      <th>gene_12</th>\n",
              "      <th>gene_13</th>\n",
              "      <th>gene_14</th>\n",
              "      <th>gene_15</th>\n",
              "      <th>gene_16</th>\n",
              "      <th>gene_17</th>\n",
              "      <th>gene_18</th>\n",
              "      <th>gene_19</th>\n",
              "      <th>gene_20</th>\n",
              "      <th>gene_21</th>\n",
              "      <th>gene_22</th>\n",
              "      <th>gene_23</th>\n",
              "      <th>gene_24</th>\n",
              "      <th>gene_25</th>\n",
              "      <th>gene_26</th>\n",
              "      <th>gene_27</th>\n",
              "      <th>gene_28</th>\n",
              "      <th>gene_29</th>\n",
              "      <th>gene_30</th>\n",
              "      <th>gene_31</th>\n",
              "      <th>gene_32</th>\n",
              "      <th>gene_33</th>\n",
              "      <th>gene_34</th>\n",
              "      <th>gene_35</th>\n",
              "      <th>gene_36</th>\n",
              "      <th>gene_37</th>\n",
              "      <th>gene_38</th>\n",
              "      <th>gene_39</th>\n",
              "      <th>gene_40</th>\n",
              "      <th>gene_41</th>\n",
              "      <th>gene_42</th>\n",
              "      <th>gene_43</th>\n",
              "      <th>gene_44</th>\n",
              "      <th>gene_45</th>\n",
              "      <th>gene_46</th>\n",
              "      <th>gene_47</th>\n",
              "      <th>gene_48</th>\n",
              "      <th>gene_49</th>\n",
              "      <th>gene_50</th>\n",
              "    </tr>\n",
              "  </thead>\n",
              "  <tbody>\n",
              "    <tr>\n",
              "      <th>0</th>\n",
              "      <td>106</td>\n",
              "      <td>13.363546</td>\n",
              "      <td>9.278575</td>\n",
              "      <td>5.358185</td>\n",
              "      <td>0.0</td>\n",
              "      <td>9.765873</td>\n",
              "      <td>8.267274</td>\n",
              "      <td>8.848567</td>\n",
              "      <td>8.651335</td>\n",
              "      <td>0.000000</td>\n",
              "      <td>8.002230</td>\n",
              "      <td>8.366921</td>\n",
              "      <td>8.514351</td>\n",
              "      <td>10.887784</td>\n",
              "      <td>0.000000</td>\n",
              "      <td>9.774787</td>\n",
              "      <td>5.190678</td>\n",
              "      <td>3.764463</td>\n",
              "      <td>12.259178</td>\n",
              "      <td>11.218678</td>\n",
              "      <td>10.832407</td>\n",
              "      <td>2.571919</td>\n",
              "      <td>8.963477</td>\n",
              "      <td>10.996029</td>\n",
              "      <td>10.287828</td>\n",
              "      <td>0.000000</td>\n",
              "      <td>9.988457</td>\n",
              "      <td>3.559663</td>\n",
              "      <td>10.178441</td>\n",
              "      <td>11.031060</td>\n",
              "      <td>0.000000</td>\n",
              "      <td>3.856906</td>\n",
              "      <td>9.876285</td>\n",
              "      <td>12.381172</td>\n",
              "      <td>1.024462</td>\n",
              "      <td>1.484705</td>\n",
              "      <td>3.811430</td>\n",
              "      <td>7.298979</td>\n",
              "      <td>6.028980</td>\n",
              "      <td>2.052242</td>\n",
              "      <td>7.156204</td>\n",
              "      <td>9.181366</td>\n",
              "      <td>6.790668</td>\n",
              "      <td>8.519664</td>\n",
              "      <td>8.670568</td>\n",
              "      <td>5.904554</td>\n",
              "      <td>9.069909</td>\n",
              "      <td>0.925468</td>\n",
              "      <td>13.735503</td>\n",
              "      <td>8.783810</td>\n",
              "      <td>9.430137</td>\n",
              "    </tr>\n",
              "    <tr>\n",
              "      <th>1</th>\n",
              "      <td>109</td>\n",
              "      <td>13.046248</td>\n",
              "      <td>11.941187</td>\n",
              "      <td>6.384982</td>\n",
              "      <td>0.0</td>\n",
              "      <td>8.924542</td>\n",
              "      <td>8.799204</td>\n",
              "      <td>9.670269</td>\n",
              "      <td>8.171432</td>\n",
              "      <td>1.096936</td>\n",
              "      <td>6.360194</td>\n",
              "      <td>9.221483</td>\n",
              "      <td>8.613462</td>\n",
              "      <td>9.515351</td>\n",
              "      <td>0.000000</td>\n",
              "      <td>9.157463</td>\n",
              "      <td>6.023834</td>\n",
              "      <td>2.546092</td>\n",
              "      <td>12.522574</td>\n",
              "      <td>10.916798</td>\n",
              "      <td>11.271603</td>\n",
              "      <td>0.000000</td>\n",
              "      <td>9.275510</td>\n",
              "      <td>10.878472</td>\n",
              "      <td>10.277322</td>\n",
              "      <td>0.361432</td>\n",
              "      <td>10.539614</td>\n",
              "      <td>4.106859</td>\n",
              "      <td>9.382164</td>\n",
              "      <td>13.289126</td>\n",
              "      <td>0.000000</td>\n",
              "      <td>4.387618</td>\n",
              "      <td>9.704644</td>\n",
              "      <td>11.847981</td>\n",
              "      <td>1.147828</td>\n",
              "      <td>1.712772</td>\n",
              "      <td>3.165542</td>\n",
              "      <td>7.152082</td>\n",
              "      <td>3.956205</td>\n",
              "      <td>1.712772</td>\n",
              "      <td>8.527016</td>\n",
              "      <td>9.119561</td>\n",
              "      <td>7.666501</td>\n",
              "      <td>9.198592</td>\n",
              "      <td>8.630143</td>\n",
              "      <td>4.655506</td>\n",
              "      <td>7.797830</td>\n",
              "      <td>0.650305</td>\n",
              "      <td>13.732358</td>\n",
              "      <td>9.361080</td>\n",
              "      <td>8.794585</td>\n",
              "    </tr>\n",
              "    <tr>\n",
              "      <th>2</th>\n",
              "      <td>119</td>\n",
              "      <td>13.097211</td>\n",
              "      <td>9.040640</td>\n",
              "      <td>4.770866</td>\n",
              "      <td>0.0</td>\n",
              "      <td>9.704101</td>\n",
              "      <td>7.710614</td>\n",
              "      <td>8.763461</td>\n",
              "      <td>8.279875</td>\n",
              "      <td>0.471760</td>\n",
              "      <td>8.292386</td>\n",
              "      <td>8.464962</td>\n",
              "      <td>8.098364</td>\n",
              "      <td>9.326176</td>\n",
              "      <td>0.000000</td>\n",
              "      <td>10.089808</td>\n",
              "      <td>2.393553</td>\n",
              "      <td>3.362133</td>\n",
              "      <td>12.664074</td>\n",
              "      <td>11.155229</td>\n",
              "      <td>11.293477</td>\n",
              "      <td>2.591703</td>\n",
              "      <td>9.319205</td>\n",
              "      <td>11.125568</td>\n",
              "      <td>10.224629</td>\n",
              "      <td>0.826681</td>\n",
              "      <td>9.593610</td>\n",
              "      <td>0.000000</td>\n",
              "      <td>9.201876</td>\n",
              "      <td>12.856612</td>\n",
              "      <td>0.000000</td>\n",
              "      <td>3.822771</td>\n",
              "      <td>9.918771</td>\n",
              "      <td>11.291251</td>\n",
              "      <td>0.000000</td>\n",
              "      <td>0.000000</td>\n",
              "      <td>3.610759</td>\n",
              "      <td>9.226304</td>\n",
              "      <td>4.888568</td>\n",
              "      <td>1.731487</td>\n",
              "      <td>8.571476</td>\n",
              "      <td>8.162089</td>\n",
              "      <td>7.402986</td>\n",
              "      <td>9.271246</td>\n",
              "      <td>9.998943</td>\n",
              "      <td>6.334062</td>\n",
              "      <td>6.989695</td>\n",
              "      <td>0.000000</td>\n",
              "      <td>13.804555</td>\n",
              "      <td>9.067929</td>\n",
              "      <td>7.143628</td>\n",
              "    </tr>\n",
              "    <tr>\n",
              "      <th>3</th>\n",
              "      <td>93</td>\n",
              "      <td>15.187503</td>\n",
              "      <td>8.813056</td>\n",
              "      <td>5.511784</td>\n",
              "      <td>0.0</td>\n",
              "      <td>9.434128</td>\n",
              "      <td>9.329489</td>\n",
              "      <td>10.592504</td>\n",
              "      <td>7.566518</td>\n",
              "      <td>4.776025</td>\n",
              "      <td>7.920996</td>\n",
              "      <td>8.632912</td>\n",
              "      <td>8.309035</td>\n",
              "      <td>10.498610</td>\n",
              "      <td>0.703544</td>\n",
              "      <td>10.775907</td>\n",
              "      <td>8.046338</td>\n",
              "      <td>2.984389</td>\n",
              "      <td>11.851566</td>\n",
              "      <td>9.509466</td>\n",
              "      <td>10.458437</td>\n",
              "      <td>0.703544</td>\n",
              "      <td>8.616836</td>\n",
              "      <td>10.440931</td>\n",
              "      <td>9.815484</td>\n",
              "      <td>1.174470</td>\n",
              "      <td>9.902380</td>\n",
              "      <td>5.749454</td>\n",
              "      <td>8.294671</td>\n",
              "      <td>9.954150</td>\n",
              "      <td>0.000000</td>\n",
              "      <td>2.984389</td>\n",
              "      <td>9.618461</td>\n",
              "      <td>11.097670</td>\n",
              "      <td>0.000000</td>\n",
              "      <td>0.000000</td>\n",
              "      <td>4.217153</td>\n",
              "      <td>9.311049</td>\n",
              "      <td>6.574106</td>\n",
              "      <td>4.523480</td>\n",
              "      <td>6.834610</td>\n",
              "      <td>10.464229</td>\n",
              "      <td>8.637473</td>\n",
              "      <td>8.434903</td>\n",
              "      <td>8.889617</td>\n",
              "      <td>2.984389</td>\n",
              "      <td>7.276041</td>\n",
              "      <td>3.950123</td>\n",
              "      <td>14.342589</td>\n",
              "      <td>9.908996</td>\n",
              "      <td>12.049794</td>\n",
              "    </tr>\n",
              "    <tr>\n",
              "      <th>4</th>\n",
              "      <td>84</td>\n",
              "      <td>14.076757</td>\n",
              "      <td>7.670217</td>\n",
              "      <td>4.338645</td>\n",
              "      <td>0.0</td>\n",
              "      <td>10.950235</td>\n",
              "      <td>9.461948</td>\n",
              "      <td>9.954554</td>\n",
              "      <td>9.512503</td>\n",
              "      <td>0.000000</td>\n",
              "      <td>5.813361</td>\n",
              "      <td>7.406503</td>\n",
              "      <td>6.645653</td>\n",
              "      <td>10.005274</td>\n",
              "      <td>0.000000</td>\n",
              "      <td>6.659796</td>\n",
              "      <td>5.721960</td>\n",
              "      <td>2.683629</td>\n",
              "      <td>13.191783</td>\n",
              "      <td>9.930696</td>\n",
              "      <td>10.792310</td>\n",
              "      <td>0.000000</td>\n",
              "      <td>8.557602</td>\n",
              "      <td>10.465964</td>\n",
              "      <td>10.450283</td>\n",
              "      <td>0.000000</td>\n",
              "      <td>10.246337</td>\n",
              "      <td>4.504550</td>\n",
              "      <td>6.774721</td>\n",
              "      <td>9.236043</td>\n",
              "      <td>0.000000</td>\n",
              "      <td>3.069943</td>\n",
              "      <td>11.052935</td>\n",
              "      <td>11.918971</td>\n",
              "      <td>0.000000</td>\n",
              "      <td>0.990084</td>\n",
              "      <td>3.374344</td>\n",
              "      <td>9.280504</td>\n",
              "      <td>3.625574</td>\n",
              "      <td>2.683629</td>\n",
              "      <td>10.251021</td>\n",
              "      <td>9.960994</td>\n",
              "      <td>6.819502</td>\n",
              "      <td>9.416861</td>\n",
              "      <td>9.173680</td>\n",
              "      <td>3.152265</td>\n",
              "      <td>4.762205</td>\n",
              "      <td>2.154486</td>\n",
              "      <td>13.137153</td>\n",
              "      <td>9.657865</td>\n",
              "      <td>7.594929</td>\n",
              "    </tr>\n",
              "    <tr>\n",
              "      <th>...</th>\n",
              "      <td>...</td>\n",
              "      <td>...</td>\n",
              "      <td>...</td>\n",
              "      <td>...</td>\n",
              "      <td>...</td>\n",
              "      <td>...</td>\n",
              "      <td>...</td>\n",
              "      <td>...</td>\n",
              "      <td>...</td>\n",
              "      <td>...</td>\n",
              "      <td>...</td>\n",
              "      <td>...</td>\n",
              "      <td>...</td>\n",
              "      <td>...</td>\n",
              "      <td>...</td>\n",
              "      <td>...</td>\n",
              "      <td>...</td>\n",
              "      <td>...</td>\n",
              "      <td>...</td>\n",
              "      <td>...</td>\n",
              "      <td>...</td>\n",
              "      <td>...</td>\n",
              "      <td>...</td>\n",
              "      <td>...</td>\n",
              "      <td>...</td>\n",
              "      <td>...</td>\n",
              "      <td>...</td>\n",
              "      <td>...</td>\n",
              "      <td>...</td>\n",
              "      <td>...</td>\n",
              "      <td>...</td>\n",
              "      <td>...</td>\n",
              "      <td>...</td>\n",
              "      <td>...</td>\n",
              "      <td>...</td>\n",
              "      <td>...</td>\n",
              "      <td>...</td>\n",
              "      <td>...</td>\n",
              "      <td>...</td>\n",
              "      <td>...</td>\n",
              "      <td>...</td>\n",
              "      <td>...</td>\n",
              "      <td>...</td>\n",
              "      <td>...</td>\n",
              "      <td>...</td>\n",
              "      <td>...</td>\n",
              "      <td>...</td>\n",
              "      <td>...</td>\n",
              "      <td>...</td>\n",
              "      <td>...</td>\n",
              "      <td>...</td>\n",
              "    </tr>\n",
              "    <tr>\n",
              "      <th>95</th>\n",
              "      <td>97</td>\n",
              "      <td>13.346763</td>\n",
              "      <td>8.601243</td>\n",
              "      <td>5.679286</td>\n",
              "      <td>0.0</td>\n",
              "      <td>9.508676</td>\n",
              "      <td>8.637904</td>\n",
              "      <td>8.885413</td>\n",
              "      <td>6.878897</td>\n",
              "      <td>1.056930</td>\n",
              "      <td>7.110854</td>\n",
              "      <td>8.058165</td>\n",
              "      <td>8.405975</td>\n",
              "      <td>9.197526</td>\n",
              "      <td>0.000000</td>\n",
              "      <td>10.545727</td>\n",
              "      <td>6.821481</td>\n",
              "      <td>2.173639</td>\n",
              "      <td>11.483569</td>\n",
              "      <td>11.405126</td>\n",
              "      <td>10.793969</td>\n",
              "      <td>0.000000</td>\n",
              "      <td>9.072205</td>\n",
              "      <td>10.140536</td>\n",
              "      <td>9.828387</td>\n",
              "      <td>1.389952</td>\n",
              "      <td>9.103007</td>\n",
              "      <td>6.540901</td>\n",
              "      <td>2.678635</td>\n",
              "      <td>10.399257</td>\n",
              "      <td>0.000000</td>\n",
              "      <td>4.532953</td>\n",
              "      <td>9.385317</td>\n",
              "      <td>11.888507</td>\n",
              "      <td>0.000000</td>\n",
              "      <td>0.344942</td>\n",
              "      <td>5.527033</td>\n",
              "      <td>6.824921</td>\n",
              "      <td>6.381766</td>\n",
              "      <td>3.098201</td>\n",
              "      <td>9.582710</td>\n",
              "      <td>7.940948</td>\n",
              "      <td>7.895842</td>\n",
              "      <td>8.682219</td>\n",
              "      <td>9.885536</td>\n",
              "      <td>6.010762</td>\n",
              "      <td>10.732532</td>\n",
              "      <td>2.336826</td>\n",
              "      <td>14.542288</td>\n",
              "      <td>9.426110</td>\n",
              "      <td>11.623287</td>\n",
              "    </tr>\n",
              "    <tr>\n",
              "      <th>96</th>\n",
              "      <td>103</td>\n",
              "      <td>12.535288</td>\n",
              "      <td>7.530406</td>\n",
              "      <td>6.515419</td>\n",
              "      <td>0.0</td>\n",
              "      <td>9.315795</td>\n",
              "      <td>9.186164</td>\n",
              "      <td>8.653254</td>\n",
              "      <td>8.906494</td>\n",
              "      <td>0.842939</td>\n",
              "      <td>7.766072</td>\n",
              "      <td>8.279884</td>\n",
              "      <td>7.785230</td>\n",
              "      <td>9.381895</td>\n",
              "      <td>0.000000</td>\n",
              "      <td>9.287368</td>\n",
              "      <td>5.649891</td>\n",
              "      <td>4.537526</td>\n",
              "      <td>13.552969</td>\n",
              "      <td>10.561689</td>\n",
              "      <td>11.174757</td>\n",
              "      <td>0.612683</td>\n",
              "      <td>9.534352</td>\n",
              "      <td>9.998999</td>\n",
              "      <td>9.682914</td>\n",
              "      <td>0.338681</td>\n",
              "      <td>8.530633</td>\n",
              "      <td>3.830702</td>\n",
              "      <td>9.530744</td>\n",
              "      <td>10.843317</td>\n",
              "      <td>0.000000</td>\n",
              "      <td>3.466444</td>\n",
              "      <td>9.188782</td>\n",
              "      <td>12.262999</td>\n",
              "      <td>0.000000</td>\n",
              "      <td>1.967242</td>\n",
              "      <td>2.824788</td>\n",
              "      <td>5.337019</td>\n",
              "      <td>2.653381</td>\n",
              "      <td>2.877666</td>\n",
              "      <td>10.363861</td>\n",
              "      <td>7.677487</td>\n",
              "      <td>5.579799</td>\n",
              "      <td>9.144281</td>\n",
              "      <td>9.286756</td>\n",
              "      <td>5.021640</td>\n",
              "      <td>9.429762</td>\n",
              "      <td>1.371503</td>\n",
              "      <td>14.691651</td>\n",
              "      <td>9.820975</td>\n",
              "      <td>5.619158</td>\n",
              "    </tr>\n",
              "    <tr>\n",
              "      <th>97</th>\n",
              "      <td>102</td>\n",
              "      <td>14.522330</td>\n",
              "      <td>3.591536</td>\n",
              "      <td>4.703632</td>\n",
              "      <td>0.0</td>\n",
              "      <td>9.932421</td>\n",
              "      <td>8.076816</td>\n",
              "      <td>8.589984</td>\n",
              "      <td>10.027173</td>\n",
              "      <td>0.000000</td>\n",
              "      <td>10.058912</td>\n",
              "      <td>8.648120</td>\n",
              "      <td>7.101640</td>\n",
              "      <td>10.820841</td>\n",
              "      <td>0.000000</td>\n",
              "      <td>6.518055</td>\n",
              "      <td>6.853023</td>\n",
              "      <td>0.452595</td>\n",
              "      <td>14.012721</td>\n",
              "      <td>7.825830</td>\n",
              "      <td>10.824362</td>\n",
              "      <td>0.000000</td>\n",
              "      <td>9.969487</td>\n",
              "      <td>11.826894</td>\n",
              "      <td>10.004586</td>\n",
              "      <td>0.796598</td>\n",
              "      <td>9.931333</td>\n",
              "      <td>2.932231</td>\n",
              "      <td>9.214093</td>\n",
              "      <td>9.849364</td>\n",
              "      <td>0.796598</td>\n",
              "      <td>2.785739</td>\n",
              "      <td>9.260771</td>\n",
              "      <td>11.216073</td>\n",
              "      <td>0.000000</td>\n",
              "      <td>1.981122</td>\n",
              "      <td>3.871282</td>\n",
              "      <td>8.092482</td>\n",
              "      <td>0.796598</td>\n",
              "      <td>3.006208</td>\n",
              "      <td>6.352266</td>\n",
              "      <td>8.712902</td>\n",
              "      <td>6.862191</td>\n",
              "      <td>8.837830</td>\n",
              "      <td>8.374635</td>\n",
              "      <td>3.976345</td>\n",
              "      <td>9.487277</td>\n",
              "      <td>0.796598</td>\n",
              "      <td>12.828307</td>\n",
              "      <td>9.107296</td>\n",
              "      <td>7.272975</td>\n",
              "    </tr>\n",
              "    <tr>\n",
              "      <th>98</th>\n",
              "      <td>106</td>\n",
              "      <td>12.892788</td>\n",
              "      <td>8.228314</td>\n",
              "      <td>6.621552</td>\n",
              "      <td>0.0</td>\n",
              "      <td>9.877891</td>\n",
              "      <td>8.382339</td>\n",
              "      <td>8.783231</td>\n",
              "      <td>7.195239</td>\n",
              "      <td>0.000000</td>\n",
              "      <td>7.841690</td>\n",
              "      <td>8.587556</td>\n",
              "      <td>8.629582</td>\n",
              "      <td>9.400442</td>\n",
              "      <td>0.000000</td>\n",
              "      <td>9.127943</td>\n",
              "      <td>5.120526</td>\n",
              "      <td>2.775683</td>\n",
              "      <td>12.300876</td>\n",
              "      <td>11.573851</td>\n",
              "      <td>10.990891</td>\n",
              "      <td>2.705558</td>\n",
              "      <td>8.921115</td>\n",
              "      <td>10.619120</td>\n",
              "      <td>9.614067</td>\n",
              "      <td>1.711142</td>\n",
              "      <td>9.132124</td>\n",
              "      <td>3.872356</td>\n",
              "      <td>7.823183</td>\n",
              "      <td>12.333832</td>\n",
              "      <td>0.000000</td>\n",
              "      <td>3.381519</td>\n",
              "      <td>9.623011</td>\n",
              "      <td>11.904514</td>\n",
              "      <td>0.000000</td>\n",
              "      <td>0.405883</td>\n",
              "      <td>4.286770</td>\n",
              "      <td>5.902180</td>\n",
              "      <td>4.855003</td>\n",
              "      <td>2.705558</td>\n",
              "      <td>9.103440</td>\n",
              "      <td>8.020202</td>\n",
              "      <td>7.182394</td>\n",
              "      <td>8.481396</td>\n",
              "      <td>8.909464</td>\n",
              "      <td>5.497756</td>\n",
              "      <td>9.621228</td>\n",
              "      <td>0.405883</td>\n",
              "      <td>14.026420</td>\n",
              "      <td>8.785358</td>\n",
              "      <td>9.154504</td>\n",
              "    </tr>\n",
              "    <tr>\n",
              "      <th>99</th>\n",
              "      <td>80</td>\n",
              "      <td>16.037942</td>\n",
              "      <td>7.115106</td>\n",
              "      <td>8.542842</td>\n",
              "      <td>0.0</td>\n",
              "      <td>10.526372</td>\n",
              "      <td>9.280956</td>\n",
              "      <td>10.920561</td>\n",
              "      <td>7.069047</td>\n",
              "      <td>2.164883</td>\n",
              "      <td>7.115106</td>\n",
              "      <td>7.219982</td>\n",
              "      <td>7.690522</td>\n",
              "      <td>8.693898</td>\n",
              "      <td>0.000000</td>\n",
              "      <td>10.254296</td>\n",
              "      <td>10.265580</td>\n",
              "      <td>0.000000</td>\n",
              "      <td>13.673177</td>\n",
              "      <td>9.445000</td>\n",
              "      <td>8.519062</td>\n",
              "      <td>0.000000</td>\n",
              "      <td>8.894026</td>\n",
              "      <td>9.798266</td>\n",
              "      <td>7.596257</td>\n",
              "      <td>0.000000</td>\n",
              "      <td>7.653547</td>\n",
              "      <td>4.851729</td>\n",
              "      <td>5.390282</td>\n",
              "      <td>9.781542</td>\n",
              "      <td>0.000000</td>\n",
              "      <td>1.455334</td>\n",
              "      <td>10.698080</td>\n",
              "      <td>9.837254</td>\n",
              "      <td>1.422879</td>\n",
              "      <td>1.853277</td>\n",
              "      <td>3.982619</td>\n",
              "      <td>6.295100</td>\n",
              "      <td>5.477483</td>\n",
              "      <td>3.143997</td>\n",
              "      <td>10.704872</td>\n",
              "      <td>10.279796</td>\n",
              "      <td>8.352194</td>\n",
              "      <td>10.008078</td>\n",
              "      <td>8.767089</td>\n",
              "      <td>3.623399</td>\n",
              "      <td>8.640549</td>\n",
              "      <td>3.279590</td>\n",
              "      <td>14.463773</td>\n",
              "      <td>9.095837</td>\n",
              "      <td>8.720183</td>\n",
              "    </tr>\n",
              "  </tbody>\n",
              "</table>\n",
              "<p>100 rows × 51 columns</p>\n",
              "</div>\n",
              "      <button class=\"colab-df-convert\" onclick=\"convertToInteractive('df-dcf02817-f492-4db9-8e6b-51de28ab9b03')\"\n",
              "              title=\"Convert this dataframe to an interactive table.\"\n",
              "              style=\"display:none;\">\n",
              "        \n",
              "  <svg xmlns=\"http://www.w3.org/2000/svg\" height=\"24px\"viewBox=\"0 0 24 24\"\n",
              "       width=\"24px\">\n",
              "    <path d=\"M0 0h24v24H0V0z\" fill=\"none\"/>\n",
              "    <path d=\"M18.56 5.44l.94 2.06.94-2.06 2.06-.94-2.06-.94-.94-2.06-.94 2.06-2.06.94zm-11 1L8.5 8.5l.94-2.06 2.06-.94-2.06-.94L8.5 2.5l-.94 2.06-2.06.94zm10 10l.94 2.06.94-2.06 2.06-.94-2.06-.94-.94-2.06-.94 2.06-2.06.94z\"/><path d=\"M17.41 7.96l-1.37-1.37c-.4-.4-.92-.59-1.43-.59-.52 0-1.04.2-1.43.59L10.3 9.45l-7.72 7.72c-.78.78-.78 2.05 0 2.83L4 21.41c.39.39.9.59 1.41.59.51 0 1.02-.2 1.41-.59l7.78-7.78 2.81-2.81c.8-.78.8-2.07 0-2.86zM5.41 20L4 18.59l7.72-7.72 1.47 1.35L5.41 20z\"/>\n",
              "  </svg>\n",
              "      </button>\n",
              "      \n",
              "  <style>\n",
              "    .colab-df-container {\n",
              "      display:flex;\n",
              "      flex-wrap:wrap;\n",
              "      gap: 12px;\n",
              "    }\n",
              "\n",
              "    .colab-df-convert {\n",
              "      background-color: #E8F0FE;\n",
              "      border: none;\n",
              "      border-radius: 50%;\n",
              "      cursor: pointer;\n",
              "      display: none;\n",
              "      fill: #1967D2;\n",
              "      height: 32px;\n",
              "      padding: 0 0 0 0;\n",
              "      width: 32px;\n",
              "    }\n",
              "\n",
              "    .colab-df-convert:hover {\n",
              "      background-color: #E2EBFA;\n",
              "      box-shadow: 0px 1px 2px rgba(60, 64, 67, 0.3), 0px 1px 3px 1px rgba(60, 64, 67, 0.15);\n",
              "      fill: #174EA6;\n",
              "    }\n",
              "\n",
              "    [theme=dark] .colab-df-convert {\n",
              "      background-color: #3B4455;\n",
              "      fill: #D2E3FC;\n",
              "    }\n",
              "\n",
              "    [theme=dark] .colab-df-convert:hover {\n",
              "      background-color: #434B5C;\n",
              "      box-shadow: 0px 1px 3px 1px rgba(0, 0, 0, 0.15);\n",
              "      filter: drop-shadow(0px 1px 2px rgba(0, 0, 0, 0.3));\n",
              "      fill: #FFFFFF;\n",
              "    }\n",
              "  </style>\n",
              "\n",
              "      <script>\n",
              "        const buttonEl =\n",
              "          document.querySelector('#df-dcf02817-f492-4db9-8e6b-51de28ab9b03 button.colab-df-convert');\n",
              "        buttonEl.style.display =\n",
              "          google.colab.kernel.accessAllowed ? 'block' : 'none';\n",
              "\n",
              "        async function convertToInteractive(key) {\n",
              "          const element = document.querySelector('#df-dcf02817-f492-4db9-8e6b-51de28ab9b03');\n",
              "          const dataTable =\n",
              "            await google.colab.kernel.invokeFunction('convertToInteractive',\n",
              "                                                     [key], {});\n",
              "          if (!dataTable) return;\n",
              "\n",
              "          const docLinkHtml = 'Like what you see? Visit the ' +\n",
              "            '<a target=\"_blank\" href=https://colab.research.google.com/notebooks/data_table.ipynb>data table notebook</a>'\n",
              "            + ' to learn more about interactive tables.';\n",
              "          element.innerHTML = '';\n",
              "          dataTable['output_type'] = 'display_data';\n",
              "          await google.colab.output.renderOutput(dataTable, element);\n",
              "          const docLink = document.createElement('div');\n",
              "          docLink.innerHTML = docLinkHtml;\n",
              "          element.appendChild(docLink);\n",
              "        }\n",
              "      </script>\n",
              "    </div>\n",
              "  </div>\n",
              "  "
            ],
            "text/plain": [
              "    phenotype     gene_1     gene_2  ...    gene_48   gene_49    gene_50\n",
              "0         106  13.363546   9.278575  ...  13.735503  8.783810   9.430137\n",
              "1         109  13.046248  11.941187  ...  13.732358  9.361080   8.794585\n",
              "2         119  13.097211   9.040640  ...  13.804555  9.067929   7.143628\n",
              "3          93  15.187503   8.813056  ...  14.342589  9.908996  12.049794\n",
              "4          84  14.076757   7.670217  ...  13.137153  9.657865   7.594929\n",
              "..        ...        ...        ...  ...        ...       ...        ...\n",
              "95         97  13.346763   8.601243  ...  14.542288  9.426110  11.623287\n",
              "96        103  12.535288   7.530406  ...  14.691651  9.820975   5.619158\n",
              "97        102  14.522330   3.591536  ...  12.828307  9.107296   7.272975\n",
              "98        106  12.892788   8.228314  ...  14.026420  8.785358   9.154504\n",
              "99         80  16.037942   7.115106  ...  14.463773  9.095837   8.720183\n",
              "\n",
              "[100 rows x 51 columns]"
            ]
          },
          "metadata": {},
          "execution_count": 18
        }
      ]
    },
    {
      "cell_type": "markdown",
      "source": [
        "### (補足)乱数について\n",
        "乱数とは０から９までの数字が不規則かつ等確率に現れるように配列されたものです。\n",
        "学習の過程では様々な点で乱数が使用されています。\n",
        "例えば、トレーニングデータとテストデータにデータを7:3に分割する際に、乱数に基づいてデータをランダムに選択する時に利用されています。\n",
        "また、モデルの学習においてもパラメータの調整の変遷や初期値などに乱数が使用されていることも多いです。\n",
        "\n",
        "下記のコードを動かしてみると、毎回トレーニングデータとテストデータの分けられ方が異なることが分かります。乱数は文字通りランダムに生成されるので、コードを動かすたびに異なる値が生成されています。\n",
        "\n"
      ],
      "metadata": {
        "id": "hNJxjbgbQ6sg"
      }
    },
    {
      "cell_type": "code",
      "source": [
        "# 乱数の確認\n",
        "x = [1, 2, 3, 4, 5, 6, 7, 8, 9, 10]\n",
        "y = [1, 2, 3, 4, 5, 6, 7, 8, 9, 10]\n",
        "x_train, x_test, y_train, y_test = train_test_split(x, y, test_size=0.3)\n",
        "print(x_train, x_test)"
      ],
      "metadata": {
        "id": "5nvNLBeeSvkm"
      },
      "execution_count": null,
      "outputs": []
    },
    {
      "cell_type": "markdown",
      "source": [
        "この乱数は固定することが出来ます。\n",
        "乱数を利用している関数にはseedやrandom_seedという引数が用意されており、この値を決めておくことで同じ乱数のもと、関数を実行できます。\n",
        "つまり、同じテストデータとトレーニングデータの分け方を再現可能になります。"
      ],
      "metadata": {
        "id": "5ARZF6UjS6SU"
      }
    },
    {
      "cell_type": "code",
      "source": [
        "# 乱数を固定\n",
        "x = [1, 2, 3, 4, 5, 6, 7, 8, 9, 10]\n",
        "y = [1, 2, 3, 4, 5, 6, 7, 8, 9, 10]\n",
        "x_train, x_test, y_train, y_test = train_test_split(x, y, test_size=0.3)\n",
        "print(x_train, x_test)"
      ],
      "metadata": {
        "id": "-n2eM-07VRee"
      },
      "execution_count": null,
      "outputs": []
    },
    {
      "cell_type": "markdown",
      "source": [
        "特に、科学において結果の「再現性」というものは非常に重要です。再現性というのは、\n",
        "\n",
        "「XXという実験をYYという条件の下で行うと、ZZという結果が得られた」という実験結果が、何度繰り返しても、異なる実験者が行っても再現できるという事を示します。\n",
        "\n",
        "一昔前にSTAP細胞に関する事件が起きましたが、あの件は他の研究者によってSTAP細胞の再現ができなかったため、虚偽ではないかとなったわけですね。\n",
        "\n",
        "これは実験での話だけでなく、今皆さんがやっている計算やモデルの学習においても同じです。科学でこれらの知識を利用するなら同じように「再現性」を取る必要があります。\n",
        "そのため、通常は乱数を固定してデータの分け方や学習を行い、使用したライブラリのバージョンや乱数を決めるrandom_seedなどの値はしっかり記録しておいて、どの様な乱数のもとデータを生成し学習していったのかを確実に再現できる様にしておく必要があります。"
      ],
      "metadata": {
        "id": "_wMFI4DyVTs4"
      }
    },
    {
      "cell_type": "markdown",
      "metadata": {
        "id": "jEg9g2e0UYch"
      },
      "source": [
        "## 2. 線形回帰 Linear regression（2変数以上）\n",
        "\n",
        "　使用する説明変数を3つに増やして、少し良いモデルを作ってみましょう。\n",
        "\n",
        "使用する説明変数\n",
        "- gene_7の遺伝子発現量 `gene_7`\n",
        "- gene_11の遺伝子発現量 `gene_11`\n",
        "- gene_28の遺伝子発現量 `gene_28`\n",
        "\n",
        "> 3個の遺伝子発現量から表現型値（phenotype）を予測する線形回帰モデルを作る\n",
        "  $$ y = \\beta_{gene\\_7} x_{gene\\_7} + \\beta_{gene\\_11} x_{gene\\_11} + \\beta_{gene\\_28} x_{gene\\_28} + e $$\n",
        "\n",
        "　説明変数の個数が2つ以上になっても、基本的な手順は1変数のときと同じです。異なる点は、前処理に**スケーリング（scaling）**と呼ばれる操作が入る点です。\n",
        "\n",
        "- 2-1. 前処理\n",
        "  - **スケーリング（scaling）**\n",
        "- 2-2. モデルの選択\n",
        "- 2-3. モデルの学習\n",
        "- 2-4. モデルの評価\n",
        "- 2-5. 予測\n",
        "\n",
        "<img src=\"https://github.com/CropEvol/lecture/blob/master/textbook_2019/images/supervised_learning_process.png?raw=true\" alt=\"supervised_learning_process\" height=\"60px\">\n"
      ]
    },
    {
      "cell_type": "markdown",
      "metadata": {
        "id": "KwH2Nub0sN5O"
      },
      "source": [
        "### 2-1. 前処理"
      ]
    },
    {
      "cell_type": "code",
      "metadata": {
        "id": "O-BQtibXe6NZ",
        "colab": {
          "base_uri": "https://localhost:8080/"
        },
        "outputId": "85bf628b-e8f5-4880-8520-79c47fb5e0d0"
      },
      "source": [
        "import numpy as np\n",
        "\n",
        "# 使用する変数\n",
        "x = np.array(df.loc[:,[\"gene_7\", \"gene_11\", \"gene_28\"]]) # 説明変数3つ\n",
        "y = np.array(df[\"phenotype\"])                             # 目的変数\n",
        "\n",
        "# データ分割: 100サンプルを「トレーニングデータ70%、テストデータ30%」に分ける\n",
        "from sklearn.model_selection import train_test_split\n",
        "x_train, x_test, y_train, y_test = train_test_split(x, y, test_size=0.3, random_state=0)\n",
        "\n",
        "print(\"training: \", x_train.shape, y_train.shape)\n",
        "print(\"test: \", x_test.shape, y_test.shape)"
      ],
      "execution_count": 4,
      "outputs": [
        {
          "output_type": "stream",
          "name": "stdout",
          "text": [
            "training:  (70, 3) (70,)\n",
            "test:  (30, 3) (30,)\n"
          ]
        }
      ]
    },
    {
      "cell_type": "markdown",
      "metadata": {
        "id": "NuhKmuuSiKvv"
      },
      "source": [
        "\n",
        "スケーリングにはおもに2つの方法があります。 \n",
        "- **正規化 normalization**: 各変数の値を0 ~ 1の範囲に変換する  \n",
        "```python\n",
        "from sklearn.preprocessing import MinMaxScaler\n",
        "mms = MinMaxScaler()  # 変数名「mms」の部分は任意\n",
        "x_train_mms = mms.fit_transform(x_train)\n",
        "x_test_mms = mms.transform(x_test)\n",
        "```\n",
        "\n",
        "- **標準化 standardization**: 各変数の値を平均値0、標準偏差1になるように変換する\n",
        "```python\n",
        "from sklearn.preprocessing import StandardScaler\n",
        "ss = StandardScaler() # 変数名「ss」の部分は任意\n",
        "x_train_ss = ss.fit_transform(x_train)\n",
        "x_test_ss = ss.transform(x_test)\n",
        "```\n",
        "\n",
        "　ここでは、標準化をおこないます。"
      ]
    },
    {
      "cell_type": "code",
      "metadata": {
        "id": "CLPw_MejxlKJ",
        "colab": {
          "base_uri": "https://localhost:8080/"
        },
        "outputId": "44d063dc-f891-4e2a-a8d2-688f061c884f"
      },
      "source": [
        "# 標準化\n",
        "from sklearn.preprocessing import StandardScaler\n",
        "ss = StandardScaler()\n",
        "x_train_ss = ss.fit_transform(x_train)\n",
        "x_test_ss = ss.transform(x_test)\n",
        "\n",
        "# 確認\n",
        "#x_train_ss\n",
        "x_test_ss"
      ],
      "execution_count": 5,
      "outputs": [
        {
          "output_type": "execute_result",
          "data": {
            "text/plain": [
              "array([[-1.29887699e+00, -8.86730001e-02, -8.70119718e-01],\n",
              "       [ 4.39679649e-01, -1.40405516e+00, -1.09033397e+00],\n",
              "       [ 5.12328557e-01,  5.62607558e-01,  4.89795869e-01],\n",
              "       [-1.76884435e+00,  1.32114978e+00,  6.19008722e-01],\n",
              "       [ 2.13760463e+00,  3.39451742e-01,  5.75238772e-01],\n",
              "       [ 2.33729997e-01,  1.19488755e+00, -3.57043157e-01],\n",
              "       [ 2.76558985e-01,  5.46097291e-01,  7.96540892e-01],\n",
              "       [-1.07500769e+00, -2.45118456e+00,  7.20651255e-01],\n",
              "       [ 8.76032679e-02, -1.20115700e+00, -2.11830549e-01],\n",
              "       [-9.99287847e-01,  3.25769388e-01, -1.46341967e+00],\n",
              "       [ 1.77936287e-01, -2.49921586e+00, -6.32221461e-01],\n",
              "       [-2.01107812e+00,  5.92300118e-01, -2.65507026e-01],\n",
              "       [-9.69780429e-01,  1.57888451e+00,  4.03509370e-01],\n",
              "       [ 9.02889157e-01, -7.89238830e-01, -1.74193276e+00],\n",
              "       [ 2.68579749e+00, -1.48562995e+00, -3.48331677e-01],\n",
              "       [ 1.12540143e+00,  7.97264212e-01,  9.55279272e-01],\n",
              "       [ 1.07157363e+00, -1.24470073e+00,  9.19078227e-02],\n",
              "       [ 1.24030129e+00,  6.47559090e-01,  9.31388114e-01],\n",
              "       [ 2.05221386e-02, -1.33758374e+00,  3.67040276e-01],\n",
              "       [ 5.96524978e-01,  1.09970968e+00,  9.21051890e-01],\n",
              "       [-7.76560831e-01, -4.12830299e-03,  1.17426113e+00],\n",
              "       [-4.71510153e-01, -5.46857737e-01,  9.07434383e-01],\n",
              "       [ 3.18915923e-01,  1.47688053e+00,  1.22470614e-01],\n",
              "       [ 6.22864865e-01,  1.94736643e+00,  5.14368808e-01],\n",
              "       [ 2.24536368e-01,  8.16620159e-01,  4.83169088e-01],\n",
              "       [-3.49950797e-01, -4.82224511e+00, -1.64905984e+00],\n",
              "       [-2.87690222e-01,  4.25167547e-01,  6.96125255e-01],\n",
              "       [ 1.88255496e-01,  2.10922417e-01, -1.23262055e-01],\n",
              "       [-1.78872914e+00, -5.24193335e-01,  3.90777628e-01],\n",
              "       [-1.18370062e+00,  5.57235926e-01,  4.70466508e-01]])"
            ]
          },
          "metadata": {},
          "execution_count": 5
        }
      ]
    },
    {
      "cell_type": "markdown",
      "source": [
        "#### スケーリングの目的\n",
        "\n",
        "今後講義で紹介していく手法である、決定木などの手法では影響を受けませんが、ロジスティック回帰や主成分分析など、様々な手法で入力データのスケールは悪影響を与える場合があります。特に、このノートで後ほど紹介するLassoやRidge回帰と呼ばれる手法では悪影響が大きいです。\n",
        "また、複数の説明変数（身長や体重など）のスケールを揃えずにモデルの学習をおこなうと、、得られた学習結果を解釈する（影響力の大きい説明変数がどれかを判断する）ことも難しくなります。\n",
        "\n",
        "<img src=\"https://github.com/CropEvol/lecture/blob/master/textbook_2021/images/scaling.png?raw=true\" alt=\"scaling\" height=\"400px\">\n"
      ],
      "metadata": {
        "id": "e35WWmXKX6uy"
      }
    },
    {
      "cell_type": "markdown",
      "metadata": {
        "id": "BewlyUXtviu-"
      },
      "source": [
        "### 2-2 ~ 2-3. モデルの選択・学習\n",
        "\n",
        "　線形回帰モデルを用意し、スケーリング後のトレーニングデータでモデルの学習をおこないます。"
      ]
    },
    {
      "cell_type": "code",
      "metadata": {
        "id": "1ICaAnSBi6N9",
        "colab": {
          "base_uri": "https://localhost:8080/"
        },
        "outputId": "da54dfc0-d4e4-4795-c5b9-5abcb1a74789"
      },
      "source": [
        "# モデル選択＆学習\n",
        "from sklearn.linear_model import LinearRegression\n",
        "lr = LinearRegression()\n",
        "lr.fit(x_train_ss, y_train)\n",
        "\n",
        "# 係数b、誤差e\n",
        "b = lr.coef_\n",
        "e = lr.intercept_\n",
        "print(\"Coefficient=\", b)\n",
        "print(\"Intercept=\"  , e)"
      ],
      "execution_count": 6,
      "outputs": [
        {
          "output_type": "stream",
          "name": "stdout",
          "text": [
            "Coefficient= [-2.56637755  3.53324926  1.03224762]\n",
            "Intercept= 97.15714285714283\n"
          ]
        }
      ]
    },
    {
      "cell_type": "markdown",
      "metadata": {
        "id": "-bAnZL1-Cb09"
      },
      "source": [
        "### 各項の係数 Coefficient について"
      ]
    },
    {
      "cell_type": "markdown",
      "metadata": {
        "id": "_rR-WxRnCrQ8"
      },
      "source": [
        "　$$ 線形回帰モデル: f(x) = \\beta_1x_1 + \\beta_2x_2 + \\beta_3x_3 + ... + \\beta_mx_m+ e $$\n",
        "\n",
        "　各項の係数$\\beta$（Coefficient）は、それぞれの説明変数$x_1, x_2...x_m$が目的変数$y$にどの程度影響を持っているかを表しています。影響の大きさを知りたいのであれば、係数の絶対値をみます。影響の方向性（プラスかマイナスか）を知りたいのであれば、係数の符号をみます。\n",
        "\n",
        "\n",
        "　先程説明した通り、前処理でおこなったスケーリングはこの係数に影響してきます。モデルの各係数の値を調べたい場合（例えば、各遺伝子の発現が表現型値にどの程度関わっているか調べたい場合）、スケーリングをせずに解析すると、誤った結果を得ることになります。"
      ]
    },
    {
      "cell_type": "markdown",
      "metadata": {
        "id": "ns7-YTWL8A7Z"
      },
      "source": [
        "### 2-4. モデルの評価\n",
        "\n",
        "　モデルの評価でも、スケーリング後のトレーニングデータ・テストデータを使います。"
      ]
    },
    {
      "cell_type": "code",
      "metadata": {
        "id": "pKoQUHTq4QZc"
      },
      "source": [
        "# モデルの評価: 決定係数R2\n",
        "r2_train_ss = lr.score(x_train_ss, y_train)  # トレーニングデータ\n",
        "r2_test_ss = lr.score(x_test_ss, y_test)    # テストデータ\n",
        "print(\"training: \", r2_train_ss)\n",
        "print(\"test: \"    , r2_test_ss)"
      ],
      "execution_count": null,
      "outputs": []
    },
    {
      "cell_type": "markdown",
      "metadata": {
        "id": "N2FGjVcn8D4f"
      },
      "source": [
        "### 2-5. 予測\n",
        "\n",
        "　まだ改善の余地はありそうですが、1変数のときよりも良いモデルが得られました。新しい入力データをこの予測モデルに入れて、その予測値を調べてみましょう。\n",
        "\n",
        "　ここでは、新しく3サンプルの遺伝子発現データが得られたとして、その表現型値を予測します。\n",
        "\n",
        "$$\n",
        "(gene_{7}, gene_{11}, gene_{28}) = (x_1, x_2, x_3) = (10.0, 9.0, 12.0), (8.0, 10.5, 13.0), (9.1, 12.3, 8.9)\n",
        "$$\n",
        "\n",
        "予測の手順:  \n",
        "1. 新しいデータのスケーリングをします。トレーニングデータと同じ基準で、スケーリングする必要があります（テストデータのスケーリングと同じ操作です）。\n",
        "```python\n",
        "スケーリング名.transform(新しいデータ)\n",
        "```\n",
        "\n",
        "1. `predict`で新しいデータの予測値を得ます。\n",
        "```python\n",
        "モデル名.predict(スケーリング後のデータ)\n",
        "```"
      ]
    },
    {
      "cell_type": "code",
      "metadata": {
        "id": "o4fPHC7p8Gqn"
      },
      "source": [
        "# 新しいデータ\n",
        "x_new = np.array([(10.0, 9.0, 12.0), (8.0, 10.5, 13.0), (9.1, 12.3, 8.9)])\n",
        "\n",
        "# スケーリング（標準化 standardization）\n",
        "x_new_ss = ss.transform(x_new)\n",
        "\n",
        "# 予測\n",
        "lr.predict(x_new_ss)"
      ],
      "execution_count": null,
      "outputs": []
    },
    {
      "cell_type": "markdown",
      "source": [
        "### 実習1\n",
        "\n",
        "今回の講義では遺伝子7,11, 28の発現量のデータを使って線形モデルを作成してみました。\n",
        "\n",
        "皆さんは自分の好きな遺伝子のセット(3つ以上でもOK)を使って線形モデルを作成し、\n",
        "1. 前処理(スケーリング)\n",
        "2. モデルの選択\n",
        "3. モデルの学習\n",
        "4. モデルの評価\n",
        "までを行ってみて下さい。\n",
        "\n",
        "そして、4.のモデルの評価の結果をもとに色んな遺伝子セットを試してみて、どの遺伝子の組み合わせから形質データを説明するのが一番良さそうか試してみて下さい。\n",
        "\n",
        "```python\n",
        "# 前処理\n",
        "# 使用する変数\n",
        "x = \n",
        "y = \n",
        "\n",
        "# データ分割: 100サンプルを「トレーニングデータ70%、テストデータ30%」に分ける\n",
        "x_train, x_test, y_train, y_test = \n",
        "print(\"training: \", x_train.shape, y_train.shape)\n",
        "print(\"test: \", x_test.shape, y_test.shape)\n",
        "\n",
        "# スケーリング\n",
        "ss = \n",
        "x_train_ss = \n",
        "x_test_ss =\n",
        "\n",
        "# 線形回帰モデルの準備\n",
        "モデル変数 =\n",
        "\n",
        "# モデルの学習\n",
        "モデル変数\n",
        "\n",
        "# モデルの評価: 決定係数R2\n",
        "r2_train_ss = \n",
        "r2_test_ss =\n",
        "print(\"training: \", r2_train_ss)\n",
        "print(\"test: \"    , r2_test_ss)\n",
        "```\n"
      ],
      "metadata": {
        "id": "2uKhwnYomPqW"
      }
    },
    {
      "cell_type": "markdown",
      "metadata": {
        "id": "-MiVC5B6IE0L"
      },
      "source": [
        "## 遺伝子50個を使った予測モデル\n"
      ]
    },
    {
      "cell_type": "markdown",
      "metadata": {
        "id": "6_UEcMeKITSm"
      },
      "source": [
        "　さて、それでは次に50個の遺伝子すべてのデータを使って予測モデルを作ってみましょう。"
      ]
    },
    {
      "cell_type": "code",
      "metadata": {
        "id": "o15K_qRBHEdv",
        "colab": {
          "base_uri": "https://localhost:8080/"
        },
        "outputId": "dea37721-fe70-4bd7-db37-8900425fe9e2"
      },
      "source": [
        "# 遺伝子50個を使った線形回帰モデル\n",
        "# 使用する変数\n",
        "import numpy as np\n",
        "x = np.array(df.loc[:,\"gene_1\":]) # 説明変数50個\n",
        "y = np.array(df[\"phenotype\"])   # 目的変数\n",
        "\n",
        "# データ分割: 100サンプルを「トレーニングデータ70%、テストデータ30%」に分ける\n",
        "# random_state ... 乱数を固定することが出来る\n",
        "from sklearn.model_selection import train_test_split\n",
        "x_train, x_test, y_train, y_test = train_test_split(x, y, test_size=0.3, random_state=0)\n",
        "\n",
        "# 標準化\n",
        "from sklearn.preprocessing import StandardScaler\n",
        "ss = StandardScaler()\n",
        "x_train_ss = ss.fit_transform(x_train)\n",
        "x_test_ss = ss.transform(x_test)\n",
        "\n",
        "# モデル選択＆学習\n",
        "from sklearn.linear_model import LinearRegression\n",
        "lr50 = LinearRegression()\n",
        "lr50.fit(x_train_ss, y_train)\n",
        "\n",
        "# 係数b、誤差e\n",
        "b = lr50.coef_\n",
        "e = lr50.intercept_\n",
        "# print(\"Coefficient=\", b)\n",
        "# print(\"Intercept=\"  , e)\n",
        "\n",
        "# モデルの評価: 決定係数R2\n",
        "r2_train_ss = lr50.score(x_train_ss, y_train)  # トレーニングデータ\n",
        "r2_test_ss = lr50.score(x_test_ss, y_test)    # テストデータ\n",
        "print(\"training: \", r2_train_ss)\n",
        "print(\"test: \"    , r2_test_ss)"
      ],
      "execution_count": 43,
      "outputs": [
        {
          "output_type": "stream",
          "name": "stdout",
          "text": [
            "training:  0.9679683095510192\n",
            "test:  -0.0912175240915416\n"
          ]
        }
      ]
    },
    {
      "cell_type": "markdown",
      "source": [
        "トレーニングデータの決定係数は高くなりましたが、テストデータの決定係数は非常に低い値になります（**過学習(overfitting)**と言われる状態です）。良いモデルを作るためには、使用する遺伝子を選ぶ必要があります。"
      ],
      "metadata": {
        "id": "ZzUWxPSHoS1V"
      }
    },
    {
      "cell_type": "markdown",
      "metadata": {
        "id": "x-jpAVs1M7jP"
      },
      "source": [
        "### モデル比較"
      ]
    },
    {
      "cell_type": "markdown",
      "metadata": {
        "id": "w-opZ32NM8aw"
      },
      "source": [
        "　ここでは、モデル間の比較で重要な考え方を紹介します。\n",
        "\n",
        "```\n",
        "精度が高いモデルが良い\n",
        "複雑なモデルより、単純なモデルが良い\n",
        "```\n",
        "\n",
        "　機械学習では、新しいデータに対して上手く予測できるモデル、すなわち「精度が高い」モデルが好まれます（実習で使った決定係数$R^2$はモデルの精度を測る指標の一つです）。\n",
        "\n",
        "　一般的に、モデルの精度を高くしようとすると、複雑になる傾向にあります。特に、先程の50個の遺伝子を使った例の様に、回帰モデルでは変数を増やせば増やすほど残差平方和をいくらでも小さくすることが出来ます。しかし、無暗にパラメータ数を増やし、誤差なども無理やり説明しようとすると、他のデータに対して合わなくなる(Overfitting)問題が生じます。\n",
        "そこで，単に残差平方和の大小($R^2$)を比較するだけでなくパラメータ数(今回だと説明変数の数)も考慮した，評価基準が必要となります。\n",
        "\n",
        "<img src=\"https://github.com/CropEvol/lecture/blob/master/textbook_2021/images/overfit.png?raw=true\" alt=\"scaling\" height=\"400px\">\n",
        "\n",
        "　精度とパラーメータ数の両方を考慮してモデルを評価する指標として、次のような指標があります。これらは、モデル間の比較に使われます。詳しく知りたい方は、統計モデリングの本を参照してください。\n",
        "- AIC(赤池情報量基準): 予測能力が最良のモデルを良いとする指標\n",
        "- BIC(ベイズ情報量規準): 真のモデルである確率が最も大きいモデルを良いとする指標\n",
        "\n",
        "また、モデルの複雑さで言うと、変数が少ない「単純なモデル」は、どの変数が強い影響を持っているのか等を理解しやすいという利点がある場合があり、精度だけを求めた複雑なモデルよりも好まれる場合が多々あります。\n",
        "\n",
        "「統計モデリング」の勉強におすすめの本: \n",
        "- [データ解析のための統計モデリング入門](https://www.iwanami.co.jp/book/b257893.html)\n",
        "- [Bayesian Analysis with Python](https://www.packtpub.com/big-data-and-business-intelligence/bayesian-analysis-python-second-edition)（原書）/ [Pythonによるベイズ統計モデリング](https://www.kyoritsu-pub.co.jp/bookdetail/9784320113374)（日本語訳）"
      ]
    },
    {
      "cell_type": "markdown",
      "source": [
        "## Overfittingを回避する方法の一例\n",
        "\n",
        "遺伝子50個を使ったモデルでは、学習データに対してはよくあてはまっているモデルを作成することが出来ましたが、過学習(Overfitting)してしまい、学習データ以外のデータに対して当てはまりが良くない結果になりました。\n",
        "\n",
        "今回の様に説明変数が50個ではなくより大きなデータセットだと更に大変になります。特に、手に入るサンプル数より多くの説明変数を考慮した線形回帰を行うと、ほぼ確実に過学習が生じます。\n"
      ],
      "metadata": {
        "id": "1EWvSh9Wojtm"
      }
    },
    {
      "cell_type": "code",
      "source": [
        "# 説明変数の数に応じた予測式の変化例\n",
        "\n",
        "import numpy as np\n",
        "import random as rnd\n",
        "import pandas as pd\n",
        "from sklearn.linear_model import LinearRegression\n",
        "import matplotlib.pyplot as plt\n",
        " \n",
        "def poly(intercept, coef, x):\n",
        "    return intercept + sum([w * x**(n + 1) for n, w in enumerate(coef)])\n",
        " \n",
        "xmin, xmax = -3, 1\n",
        "xlim_min, xlim_max = -4, 2\n",
        "ylim_min, ylim_max = -2, 4\n",
        " \n",
        " # データ数・説明変数の数・グラフとして表示する説明変数の設定\n",
        "n_data = 10\n",
        "n_features = 20\n",
        "n_terms_list = [2, 4, 6, 8, 10, 12]\n",
        " \n",
        "x = np.linspace(xmin, xmax, n_data)\n",
        "y = np.exp(x) + [rnd.uniform(-0.5, 0.5) for n in range(n_data)]\n",
        " \n",
        "df = pd.DataFrame(y, columns=['y'])\n",
        "for n in range(n_features):\n",
        "    df[\"x^{}\".format(n+1)] = x**(n+1)\n",
        "print(df.shape)\n",
        " \n",
        "fig, axs = plt.subplots(2, 3, figsize=(12, 6.4))\n",
        "axs_1d = axs.reshape(1, -1)[0]\n",
        " \n",
        "linreg = LinearRegression()\n",
        " \n",
        "x_graph = np.linspace(xlim_min, xlim_max)\n",
        " \n",
        "for ax, n_terms in zip(axs_1d, n_terms_list):\n",
        "    linreg.fit(df.iloc[:, 1:n_terms+1], df['y'])\n",
        "    y_linreg = poly(linreg.intercept_, linreg.coef_, x_graph)\n",
        "    ax.scatter(df['x^1'], df['y'], c='r', zorder=10)\n",
        "    ax.plot(x_graph, y_linreg, c='gray', linewidth=2,\n",
        "        label=\"n_terms={}\".format(n_terms))\n",
        " \n",
        "    ax.set_xlim(xlim_min, xlim_max)\n",
        "    ax.set_ylim(ylim_min, ylim_max)\n",
        "    ax.set_aspect('equal')\n",
        "    ax.legend(loc='upper left')\n",
        " \n",
        "plt.show()"
      ],
      "metadata": {
        "colab": {
          "base_uri": "https://localhost:8080/",
          "height": 418
        },
        "id": "2wC10dyVRArT",
        "outputId": "b96c49bf-11db-43c0-dd2a-6cb11ff012e3"
      },
      "execution_count": 17,
      "outputs": [
        {
          "output_type": "stream",
          "name": "stdout",
          "text": [
            "(10, 21)\n"
          ]
        },
        {
          "output_type": "display_data",
          "data": {
            "image/png": "[encoded data removed]",
            "text/plain": [
              "<Figure size 864x460.8 with 6 Axes>"
            ]
          },
          "metadata": {
            "needs_background": "light"
          }
        }
      ]
    },
    {
      "cell_type": "markdown",
      "source": [
        "そのため、このような多くの変数から回帰モデルを作成する場合にはOverfittingを避けるような工夫をする必要があります。"
      ],
      "metadata": {
        "id": "fj3PKYPcSwLt"
      }
    },
    {
      "cell_type": "markdown",
      "source": [
        "### 1. 情報量基準等を使用して変数選択をする。\n",
        "\n",
        "全ての説明変数を使うのではなく、適切な変数の組み合わせを探してモデルを作る形です。さきほど皆さんに実習でやってもらった方法ですね。\n",
        "\n",
        "AICが良くなるモデルだったり、$R^2$を使う場合は学習データだけでなく、テストデータの評価も良くなるようなモデルの作成を目指します。\n",
        "\n",
        "モデルを作る際に、本当に目的変数(y)に影響を与えている重要な説明変数のみを上手く選択できれば良いモデルを作ることが出来そうです。"
      ],
      "metadata": {
        "id": "cqyOVGU5Jb0d"
      }
    },
    {
      "cell_type": "code",
      "source": [
        "# 例えば、3つの遺伝子の組み合わせ全て試して、テストデータを用いたR^2が良いものを探す…とか。\n",
        "combinations\n"
      ],
      "metadata": {
        "id": "eX-cY4_CJkV6"
      },
      "execution_count": null,
      "outputs": []
    },
    {
      "cell_type": "markdown",
      "source": [
        "とはいえ、これでは良いモデルを作るためには50個の遺伝子の中から、膨大な遺伝子の組み合わせをちまちま探す必要が出てきてしまいます。そこで出て来るのが正則化と呼ばれる手法になります。\n",
        "\n",
        "このアプローチは説明変数の選択を別の基準で行える場合に重要です。(遺伝子11は生物学的にyの値に影響を与えていることが知られている、など。)"
      ],
      "metadata": {
        "id": "8e4mL0R5898I"
      }
    },
    {
      "cell_type": "markdown",
      "source": [
        "### 2. 損失関数に正則化項を入れて過学習を抑制する。\n",
        "そこで出て来るのが正則化と呼ばれる手法になります。\n",
        "\n",
        "$$ y = \\beta_{1} x_{1} + \\beta_{2} x_{2} + ...  + \\beta_{k} x_{k} + e $$\n",
        "\n",
        "線形回帰モデルの学習では、残差の二乗の合計値、**目的関数**である**残差平方和 (residual sum of squares)** が最も小さくなる係数 $\\beta$ と誤差 $e$ の直線を求めていました。\n",
        "\n",
        "$$ 残差平方和: \\sum_{i=1}^{N} (\\hat{y}_{i} - y_i)^2 $$\n",
        "\n",
        "<img src=\"https://lh3.googleusercontent.com/pw/ACtC-3eIFmh8PDRx64eFArwdgxO2CGt3PEi272ny1dyqAMue0un_yL_GMgZ0CsyvBnX4lEC9BfOEdfTNGsiEG-R4xZDPM9zMHwHcINcnQFxcdTmSgsF7LotLsBpwzs0S49fZtN1fQrbHY7JrB9m2kwuDGb9r=w815-h560-no?authuser=0\" alt=\"least squares\" height=\"180px\">\n",
        "\n",
        "正則化では、この残差平方和に正則化項(罰則項)というものを加え、この値を最小化するような係数 $\\beta$ と誤差 $e$ を求めます。\n",
        "\n",
        "$$ \\sum_{i=1}^{N} (\\hat{y}_{i} - y_i)^2 + \\alpha\\sum_{j=1}^{k} |\\beta_j|^p$$\n",
        "\n",
        "正則化項を加えることで、全体的に偏回帰係数 $\\beta$ の重みの影響を制限しようとする (係数の絶対値を小さくする) 形になります。\n",
        "\n",
        "言葉で説明すると...、学習データの誤差や外れ値まで説明できるように、実際はあまり重要ではない変数の偏回帰係数の値を大きくしたら、罰則化項によって目的関数が大きくなってしまうので、多くの学習データの説明に重要な影響を与えている様な説明変数の偏回帰係数にだけ重み付けを行えるようにしている。という形でしょうか。\n",
        "\n",
        "このノルムにおいて、p=1(L1ノルム)の場合をLasso回帰、p=2(L2ノルム)の場合をRidge回帰と呼び、どちらも回帰係数の重みに対して制限をしようとしますが、以下の様な特徴が異なります。\n",
        "\n",
        "**Ridge回帰**\n",
        "$$ \\sum_{i=1}^{N} (\\hat{y}_{i} - y_i)^2 + \\alpha\\sum_{j=1}^{k} |\\beta_j|^2$$\n",
        "\n",
        "係数の重みの強さを制限する効果を持ち、説明変数間の相関性が強い場合などにも予測式が不安定にならない傾向がある。\n",
        "\n",
        "**Lasso回帰**\n",
        "$$ \\sum_{i=1}^{N} (\\hat{y}_{i} - y_i)^2 + \\alpha\\sum_{j=1}^{k} |\\beta_j|$$\n",
        "\n",
        "Ridge回帰と同じく、係数の重みを制限し、正則化を強めるとともに係数がゼロとなり、選択された説明変数のみでモデルを構築できる。\n",
        "\n",
        "また、両者の正則化項を組み合わせた**ElasticNet**と呼ばれるものもあります。"
      ],
      "metadata": {
        "id": "QcfHOM7eJjoi"
      }
    },
    {
      "cell_type": "code",
      "source": [
        "# 遺伝子50個を使用し、Ridge回帰を使ってみる\n",
        "# 使用する変数\n",
        "import numpy as np\n",
        "x = np.array(df.loc[:,\"gene_1\":]) # 説明変数50個\n",
        "y = np.array(df[\"phenotype\"])   # 目的変数\n",
        "\n",
        "# データ分割: 100サンプルを「トレーニングデータ70%、テストデータ30%」に分ける\n",
        "from sklearn.model_selection import train_test_split\n",
        "x_train, x_test, y_train, y_test = train_test_split(x, y, test_size=0.3, random_state=0)\n",
        "\n",
        "# 標準化\n",
        "from sklearn.preprocessing import StandardScaler\n",
        "ss = StandardScaler()\n",
        "x_train_ss = ss.fit_transform(x_train)\n",
        "x_test_ss = ss.transform(x_test)\n",
        "\n",
        "# モデル選択＆学習、ここでRidgeを指定。alphaは正則化の強さ\n",
        "from sklearn.linear_model import Lasso, Ridge\n",
        "lr50 = Ridge(alpha=3)\n",
        "lr50.fit(x_train_ss, y_train)\n",
        "\n",
        "# 係数b、誤差e\n",
        "b = lr50.coef_\n",
        "e = lr50.intercept_\n",
        "print(\"Coefficient=\", b)\n",
        "# print(\"Intercept=\"  , e)\n",
        "\n",
        "# モデルの評価: 決定係数R2\n",
        "r2_train_ss = lr50.score(x_train_ss, y_train)  # トレーニングデータ\n",
        "r2_test_ss = lr50.score(x_test_ss, y_test)    # テストデータ\n",
        "print(\"training: \", r2_train_ss)\n",
        "print(\"test: \"    , r2_test_ss)"
      ],
      "metadata": {
        "colab": {
          "base_uri": "https://localhost:8080/"
        },
        "id": "sbaxtRdggCG9",
        "outputId": "4f122dc1-0d1d-4994-971e-d2d5c86d2a40"
      },
      "execution_count": 47,
      "outputs": [
        {
          "output_type": "stream",
          "name": "stdout",
          "text": [
            "Coefficient= [-0.09837905 -1.20946717 -0.30252653 -0.45922002 -0.54602016 -1.40379843\n",
            " -0.53169951 -0.53510242 -0.11509993  0.39315535  1.78505403  0.60046197\n",
            " -1.39376781 -0.84913763  0.70758606 -0.46690386 -1.0753647  -0.26494364\n",
            "  1.21325587  0.64772766 -0.05953757  1.26849056  1.21610602  1.76393224\n",
            " -1.31762386 -0.59529882 -0.33810497  1.96395903  0.60017642  0.06488966\n",
            " -0.18329932 -1.14297356  0.40012384  0.57858919 -0.22399018 -0.85313593\n",
            "  0.914275    0.26466054 -0.27684644  0.79785685 -0.6662362  -0.60996568\n",
            "  0.49259242 -0.95876531 -0.30139258  1.08983743  0.606337    1.54931487\n",
            " -0.2589634   2.82512205]\n",
            "training:  0.9532822848631699\n",
            "test:  0.4742104395843967\n"
          ]
        }
      ]
    },
    {
      "cell_type": "code",
      "source": [
        "# 遺伝子50個を使用し、Lasso回帰を使ってみる\n",
        "# 使用する変数\n",
        "import numpy as np\n",
        "x = np.array(df.loc[:,\"gene_1\":]) # 説明変数50個\n",
        "y = np.array(df[\"phenotype\"])   # 目的変数\n",
        "\n",
        "# データ分割: 100サンプルを「トレーニングデータ70%、テストデータ30%」に分ける\n",
        "from sklearn.model_selection import train_test_split\n",
        "x_train, x_test, y_train, y_test = train_test_split(x, y, test_size=0.3, random_state=0)\n",
        "\n",
        "# 標準化\n",
        "from sklearn.preprocessing import StandardScaler\n",
        "ss = StandardScaler()\n",
        "x_train_ss = ss.fit_transform(x_train)\n",
        "x_test_ss = ss.transform(x_test)\n",
        "\n",
        "# モデル選択＆学習、ここでLassoを指定。alphaは正則化の強さ\n",
        "from sklearn.linear_model import Lasso, Ridge\n",
        "lr50 = Lasso(alpha=0.3)\n",
        "lr50.fit(x_train_ss, y_train)\n",
        "\n",
        "# 係数b、誤差e\n",
        "b = lr50.coef_\n",
        "e = lr50.intercept_\n",
        "print(\"Coefficient=\", b)\n",
        "# print(\"Intercept=\"  , e)\n",
        "\n",
        "# モデルの評価: 決定係数R2\n",
        "r2_train_ss = lr50.score(x_train_ss, y_train)  # トレーニングデータ\n",
        "r2_test_ss = lr50.score(x_test_ss, y_test)    # テストデータ\n",
        "print(\"training: \", r2_train_ss)\n",
        "print(\"test: \"    , r2_test_ss)"
      ],
      "metadata": {
        "colab": {
          "base_uri": "https://localhost:8080/"
        },
        "id": "V1fgfK0BoizF",
        "outputId": "7388a95a-7dd7-4814-d85e-bc70d3b56750"
      },
      "execution_count": 46,
      "outputs": [
        {
          "output_type": "stream",
          "name": "stdout",
          "text": [
            "Coefficient= [ 0.         -0.11812517 -0.         -0.         -0.15500275 -1.15870018\n",
            " -1.24451302  0.         -0.          0.          1.23222698  0.\n",
            " -0.09158115 -0.1844029  -0.         -0.04862532 -0.10412297 -0.\n",
            "  0.56375472  0.         -0.          0.79286073  0.          1.14764214\n",
            " -0.76752587 -0.         -0.          1.53766705  1.8091931   0.\n",
            "  0.         -0.         -0.         -0.         -0.         -0.\n",
            "  0.          0.         -0.          0.         -0.77590328 -0.\n",
            " -0.         -1.10141944  0.          0.92980714  0.06533088  1.27741822\n",
            " -0.34611079  1.18367153]\n",
            "training:  0.8549133051184812\n",
            "test:  0.6799953079933205\n"
          ]
        }
      ]
    },
    {
      "cell_type": "markdown",
      "source": [
        "Lasso回帰だと何をやってるのかイメージしやすいと思います。\n",
        "\n",
        "正則化を強めていくことで偏回帰係数が0となる説明変数が増えていくので、少ない説明変数で目的変数を説明しようとするモデルになっていきます。\n",
        "\n",
        "$$ 正則化なしだと\\space y = \\beta_{1} x_{1} + \\beta_{2} x_{2} + ...  + \\beta_{k} x_{k} + e $$\n",
        "\n",
        "$$ y = \\beta_{1} x_{1} + \\beta_{2} x_{2} + ...  + \\beta_{k} x_{k} + e $$\n",
        "\n",
        "$$ y = \\beta_{1} x_{1} + \\beta_{2} x_{2} + ...  + \\beta_{k} x_{k} + e $$\n"
      ],
      "metadata": {
        "id": "uiYna5WchycO"
      }
    },
    {
      "cell_type": "markdown",
      "source": [
        "### 実習2\n",
        "\n",
        "使う変数を自由に選択したり(50遺伝子全て使っても良いし、30遺伝子でスタートしても良い)、\n",
        "Lasso回帰やRidge回帰(ElasticNetも使い方を調べて使ってみても良いです)を使用したり正則化の強さを調整したりして、時間内で作ることが出来る最高のモデル(テストデータの$R^2$が最高のもの)を作ってみてください。"
      ],
      "metadata": {
        "id": "sV4ajNUngQo4"
      }
    },
    {
      "cell_type": "code",
      "source": [
        "# 使用する変数\n",
        "import numpy as np\n",
        "x = \n",
        "y = np.array(df[\"phenotype\"])   # 目的変数\n",
        "\n",
        "# データ分割: 100サンプルを「トレーニングデータ70%、テストデータ30%」に分ける\n",
        "from sklearn.model_selection import train_test_split\n",
        "x_train, x_test, y_train, y_test = train_test_split(x, y, test_size=0.3, random_state=0)\n",
        "\n",
        "# モデル選択＆学習"
      ],
      "metadata": {
        "id": "ytJr2RI-gK0p"
      },
      "execution_count": null,
      "outputs": []
    },
    {
      "cell_type": "markdown",
      "metadata": {
        "id": "L-YywDR48RdG"
      },
      "source": [
        "---\n",
        "\n",
        "## まとめ\n",
        "\n",
        "　使用する説明変数の数を増やして、予測モデルの改善をおこないました。「機械学習 - 線形回帰（1）-」のテキストよりは良いスコア（決定係数）が得られたと思います。興味があれば、さらに良い予測モデルの構築をおこなってみてください。\n",
        "\n",
        "　次回は、目的関数（コスト関数）の最小値を探すアルゴリズム **勾配法 Gradient method** を学びます。勾配法は、機械学習では非常に重要なアルゴリズムです。高度な機械学習モデル、ニューラルネットワーク（Neural network）などにも使われています。"
      ]
    },
    {
      "cell_type": "code",
      "source": [
        ""
      ],
      "metadata": {
        "id": "AMFfdtV_AeDJ"
      },
      "execution_count": null,
      "outputs": []
    }
  ]
}