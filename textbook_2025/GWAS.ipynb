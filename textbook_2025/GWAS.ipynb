{
 "cells": [
  {
   "cell_type": "markdown",
   "metadata": {
    "id": "xrEcu23sU8EV"
   },
   "source": [
    "<img src=\"https://github.com/CropEvol/lecture/blob/master/textbook_2025/images/logo.png?raw=true\" alt=\"2023年度ゲノム情報解析入門\" height=\"100px\" align=\"middle\">\n",
    "\n",
    "<div align=\"right\"><a href=\"https://github.com/CropEvol/lecture#section2\">実習表ページに戻る</a></div>"
   ]
  },
  {
   "cell_type": "markdown",
   "metadata": {
    "id": "p1APgMWdU_aL"
   },
   "source": [
    "大規模なゲノムデータを用いた解析: ゲノムワイド関連解析(GWAS)\n",
    "---"
   ]
  },
  {
   "cell_type": "markdown",
   "metadata": {
    "id": "estCp8V2YvX3"
   },
   "source": [
    "　今回から、ゲノム情報解析の一例として、大規模なゲノムデータセットを用いた解析を勉強・体験していきます。\n",
    "\n",
    "大規模ゲノムデータ解析シリーズ:\n",
    "- GWAS: Genome wide association study(GWAS)とは、GWAS(QTL解析)に必要な統計モデルの知識...等\n",
    "- Genomic Prediction入門 : Genomic Predictionとは, 機械学習の基本, 統計モデル, 育種への応用...等々\n",
    "\n",
    "また、今回(GWAS)のテキストのみ**PythonではなくR**を用いて行います。このノートのコードセルではRが動きます。\n",
    "\n",
    "今回扱うGWASや統計解析に関してはPythonよりRの方がパッケージ等充実しているためです。(次回以降はPythonに戻ります。)\n",
    "\n",
    "```\n",
    "今回Rを使用する様に、ゲノム解析を行う上で使用する可能性があるプログラム等の知識は多岐に渡ります。\n",
    "ゲノム解析と一言で言っても目的に応じてGUI(コマンドではなくクリックとかで動かすアプリ)で完結する解析もあれば、自分でコードを書く必要がある解析もあります。\n",
    "そのため、Pythonをやっておけば全てOKなんてことは無く、必要に応じてRを使用したり、Shell scriptを書いたり、場合によってはExcelでデータを処理することも当然あります。\n",
    "それに、この分野は進歩が速く、今使われている知識がずっと使用されるかと言うとそうとも限りません。3年後にはPythonに代わる別の言語がメジャーな言語になっていてPythonが一切使われなくなっている可能性もあります。\n",
    "重要なのはその都度必要な知識を取り入れアップデートしていくことです。\n",
    "(当然これはゲノム解析の分野だけではなく他の分野にも当てはまることです。)\n",
    "```"
   ]
  },
  {
   "cell_type": "markdown",
   "metadata": {
    "id": "XB5_V08EYmVk"
   },
   "source": [
    "# 今回の勉強内容\n",
    "　このテキストでは、大規模ゲノムデータ解析シリーズの第1回として、GWASについて勉強します。\n",
    "\n",
    "　内容は以下の通りです。\n",
    "\n",
    "1. GWASとは？\n",
    "  1. 遺伝的変異と形質の関係\n",
    "  1. GWASの概要\n",
    "  1. GWASの解析手順\n",
    "1. 必要となるデータセットの準備\n",
    "  1. 遺伝子型データと形質データ\n",
    "1. GWAS入門\n",
    "  1. 単純な検定でGWASをやってみる\n",
    "  1. 検定の限界\n",
    "  1. 代表的な統計モデルの紹介\n",
    "  1. イネを用いた実例\n",
    "  1. サンプル数やSNP数の影響\n",
    "1. GWASが行えるソフトウェアの紹介"
   ]
  },
  {
   "cell_type": "markdown",
   "metadata": {
    "id": "Xm9sLU6IobxC"
   },
   "source": [
    "---\n",
    "\n",
    "　一度次のコードセルを実行して、実習に必要なライブラリのインストールや、プログラム、サンプルファイルのダウンロードしてください。"
   ]
  },
  {
   "cell_type": "code",
   "execution_count": null,
   "metadata": {
    "id": "qMF45FWp8_iW",
    "vscode": {
     "languageId": "r"
    }
   },
   "outputs": [],
   "source": [
    "################################\n",
    "##  以下の実習の前に一度実行してください。##\n",
    "################################\n",
    "## Rパッケージのインストール、プログラム・サンプルファイルのダウンロード\n",
    "system(\"wget -q -O library.tar.gz https://raw.githubusercontent.com/CropEvol/lecture/master/textbook_2023/dataset/library.tar.gz\")\n",
    "system(\"wget -q -O GWAS_sample_genotype_rice.csv https://raw.githubusercontent.com/CropEvol/lecture/master/textbook_2023/dataset/GWAS_sample_genotype_rice.csv\")\n",
    "system(\"wget -q -O GWAS_sample_phenotype_rice.csv https://raw.githubusercontent.com/CropEvol/lecture/master/textbook_2023/dataset/GWAS_sample_phenotype_rice.csv\")\n",
    "system(\"wget -q -O GWAS_sample_genotype.csv https://raw.githubusercontent.com/CropEvol/lecture/master/textbook_2023/dataset/GWAS_sample_genotype.csv\")\n",
    "system(\"wget -q -O GWAS_sample_phenotype.csv https://raw.githubusercontent.com/CropEvol/lecture/master/textbook_2023/dataset/GWAS_sample_phenotype.csv\")\n",
    "system(\"wget -q -O GWAS_sample.csv https://github.com/CropEvol/lecture/raw/refs/heads/master/textbook_2025/dataset/GWAS_sample.csv\")\n",
    "untar(\"library.tar.gz\")\n",
    ".libPaths(\"library\")\n",
    "# 確認\n",
    "library(rrBLUP)\n",
    "library(lme4qtl)"
   ]
  },
  {
   "cell_type": "markdown",
   "metadata": {
    "id": "ndSLXA-l2TXX"
   },
   "source": [
    "# 1. GWASとは？"
   ]
  },
  {
   "cell_type": "markdown",
   "metadata": {
    "id": "_oaBjJrGgxur"
   },
   "source": [
    "## 1-1. 遺伝的変異と形質の関係\n",
    "　GWAS(Genome-wide association study, ゲノムワイド関連解析)とは、多数の品種や系統を使い、表現型の多様性に影響を与える遺伝的変異を統計的に探索する事を指します。\n",
    "\n",
    "　と言ってもピンとこないと思いますが、これまでに学習してきたQTL-seq等と似たような手法になるので、まずは復習がてら前回やったQTL-seqを元に説明していきます。\n",
    "\n",
    "　前回はQTL-seqという、**遺伝子マッピング（Gene mapping）**手法について少し学びました。\n",
    "\n",
    "遺伝子マッピングがどのような手法だったかというと、個体AとBのあいだの形質の違いを作っている遺伝子（原因遺伝子）がゲノム上のどこにあるのかを特定する手法です。\n",
    "\n",
    "1. 個体AとBのゲノム配列を比較すると、個体間の塩基の違い（例えば、SNP; Single nucleotide polymorphism）を発見できます。しかし、個体AとBの間の比較だけでは、どの変異が個体間の形質の違いを作っているのかを特定できません。\n",
    "2. そこで、個体AとBを交配し、ゲノムをシャッフルした個体集団（分離集団）を作ります。\n",
    "3. 分離集団の各個体について、形質とゲノム上の各マーカーの遺伝子型も調べ、**形質と遺伝子型に連関（Association）**があるゲノム上の場所を探し、原因遺伝子を含むゲノム領域を特定します。\n",
    "\n",
    "<img src=\"https://github.com/CropEvol/lecture/blob/master/textbook_2023/images/gene_mapping.png?raw=true\" alt=\"gene_mapping\" height=\"280px\" align=\"middle\">\n",
    "\n",
    "　上述のように、**分離集団**のマーカー遺伝子型を使って遺伝子マッピングする方法を**QTL解析（QTL analysis）**と言いました。QTLとはQuantitative trait locus(量的形質遺伝子座)の略称です。\n",
    "\n",
    "　QTL-seqは、QTL解析をより省力的にした方法で、次世代シーケンスデータを用いて、分離集団の一部の個体のシーケンス情報から遺伝子マッピングをおこなう手法でした。"
   ]
  },
  {
   "cell_type": "markdown",
   "metadata": {
    "id": "jfvQnQBP6gnW"
   },
   "source": [
    "### (参考) QTL-seqの概要"
   ]
  },
  {
   "cell_type": "markdown",
   "metadata": {
    "id": "l_xNMYuA6rvh"
   },
   "source": [
    "　QTL-seqでは、分離集団のうち極端な形質値をもつ個体のバルクシーケンスデータを用いて遺伝子マッピングをおこないます。バルクシーケンス中に含まれるアリルの割合（SNP-index）の推移をゲノム全体にわたって調べることで、遺伝子の位置を特定します。\n",
    "\n",
    "<img src=\"https://github.com/CropEvol/lecture/blob/master/textbook_2022/images/qtlseq_overview.png?raw=true\" alt=\"QTL-seq\" height=\"300px\" align=\"middle\">\n",
    "\n",
    "> <small>Takagi, H., Abe, A., Yoshida, K., Kosugi, S., Natsume, S., Mitsuoka, C., Uemura, A., Utsushi, H., Tamiru, M., Takuno, S., Innan, H., Cano, L., Kamoun, S. & Terauchi, R. (2013). [QTL‐seq: rapid mapping of quantitative trait loci in rice by whole genome resequencing of DNA from two bulked populations](https://onlinelibrary.wiley.com/doi/full/10.1111/tpj.12105). The Plant Journal, 74(1), 174-183.</small>"
   ]
  },
  {
   "cell_type": "markdown",
   "metadata": {
    "id": "O5ShcmvprGDL"
   },
   "source": [
    "### GWAS\n",
    "\n",
    "　QTL解析では、親間の遺伝子型の違いの中からQTLの位置する領域を探索するために、交配による**組換え**をうまく活用して、\n",
    "\n",
    "F2集団等の分離集団からQTLの位置を検出しました。\n",
    "\n",
    "　GWASは、分離集団に限らず、多数の品種を対象に、形質情報と密なSNPマーカー等の遺伝子型情報を得て、\n",
    "\n",
    "形質と遺伝子型との統計的な相関関係を網羅的に探索する手法になります。QTL解析のより網羅的・汎用的な解析と言えるかもしれません。\n",
    "\n",
    "　F2集団では親間の変異が1度の組換えによって混ざるだけですが、自然集団では交配や組換えが繰り返し起きており、突然変異等も生じています。そのため、より多様な遺伝的変異やその変異に伴う形質の多様性が生じている可能性があります。\n",
    "\n",
    "　そのため、GWASでは、2親間の変異だけではなく、使用した品種・系統の持つ様々な変異から形質に関与している変異を検出することになります。\n",
    "\n",
    "<img src=\"https://github.com/CropEvol/lecture/blob/master/textbook_2023/images/QTL_vs_GWAS1.png?raw=true\" alt=\"QTL_vs_GWAS1\" height=\"350px\" align=\"middle\">\n",
    "\n",
    "　このように比較してみると、GWASの方が様々なQTLが検出出来てメリットが多い様に思いますが、デメリットも当然あります。\n",
    "\n",
    "　QTL解析では、A種とB種間の遺伝子型の違いだけに着目すれば良かったのですが、\n",
    "\n",
    "GWASを行うためにはA種vsB種、B種vsC種、C種vsD種...といった様々な種間の遺伝子型の違いを捉える必要があります(下図のSNP_X)。\n",
    "\n",
    "　それだけ変異のバリエーションが多いという事になるので、QTL解析ではざっくりとした領域毎のSNP情報で問題無かった所、GWASではシーケンスをしっかり読んで十分に密なSNPの情報が必要になります。\n",
    "\n",
    "　特に、僅かな品種しか持たない遺伝的な変異の効果を捉える場合、分離集団を用いたQTL解析の方が適している可能性もあります。\n",
    "\n",
    "　下図のSNP_Yの効果を調べるにはB種と他多数の種を比較するより、A種とB種を交配した集団で比較した方が確実です。\n",
    "\n",
    "　分離集団を作ることで、SNP_YがAの個体・Gの個体がそれぞれ一定数出現する形になり、効果を確認しやすくなります。\n",
    "\n",
    "　よって、QTL解析・GWASそれぞれにメリット・デメリットがあり適した使い分けが重要になります。\n",
    "\n",
    "<img src=\"https://github.com/CropEvol/lecture/blob/master/textbook_2023/images/QTL_vs_GWAS2.png?raw=true\" alt=\"QTL_vs_GWAS2\" height=\"350px\" align=\"middle\">"
   ]
  },
  {
   "cell_type": "markdown",
   "metadata": {
    "id": "8jjRE5XPEkUZ"
   },
   "source": [
    "### 1-2. もう少し具体的に\n",
    "　GWASでは、上述した様に、多数の品種や系統(場合によっては分離集団も)等の集団を用いて、集団の持つ遺伝的変異それぞれについて、特定の形質に対する影響の強さを考えていきます。\n",
    "\n",
    "例えば、下の様な遺伝子型の情報と、葉の長さのデータが得られたとしましょう。\n",
    "\n",
    "<img src=\"https://github.com/CropEvol/lecture/blob/master/textbook_2025/images/GWAS_basic1.png?raw=true\" alt=\"gwas_basic1\" height=\"300px\" align=\"middle\">\n",
    "\n",
    "この様な情報から、どのSNPの遺伝子型が葉の長さに影響を与えていそうかを調べていきます。\n",
    "\n",
    "↓のファイルには10個のSNPの遺伝子型と葉の長さのデータがあります。\n",
    "\n",
    "[GWAS_sample.xlsx](https://github.com/CropEvol/lecture/raw/refs/heads/master/textbook_2025/dataset/GWAS_sample.xlsx)\n",
    "\n",
    "　まずは1つ目のSNPが葉の長さに影響を与えているかどうか、を調べてみましょう。\n",
    "\n",
    "1つ目のSNPは種によって\"A(アデニン)\"もしくは\"C(シトシン)\"の遺伝子型になっています。\n",
    "\n",
    "もしこの場所の遺伝子型が変わると葉の長さが大きく変化するのであれば、Aになっている種とCになっている種の間に葉の長さに差があるはずです。\n",
    "\n",
    "　まずは皆さんの持っている知識を使ってAになっている種とCになっている種の間に葉の長さに差があるのかを確認してみましょう。\n",
    "\n",
    "「生物統計学」の講義で**t検定**という検定を学んだと思います。このt検定を使って比較してみます。\n",
    "\n",
    "(色んな前提を無視しているので厳密には正しいt検定の使い方とは言えないのですが、仮でやってみています。)\n",
    "\n",
    "Excelでも簡単な検定は一通り可能なのでまずはExcelでやってみましょう。\n",
    "\n",
    "<img src=\"https://github.com/CropEvol/lecture/blob/master/textbook_2025/images/t_test.png?raw=true\" alt=\"t_test\" height=\"300px\" align=\"middle\">\n",
    "\n",
    "p値によって遺伝子型がAなのかCなのかによる差が有意かどうかを確かめることが出来ます。\n",
    "\n",
    "では同じことをSNP2~SNP10まで1個1個やっていってみてください。\n",
    "\n",
    "<br><br>\n",
    "\n",
    "…というのは面倒ですね。\n",
    "\n",
    "実際に扱うデータの場合、SNPの数は数万~数百万のスケールになります。\n",
    "\n",
    "同じ様にポチポチExcelでやることを考えるといくら時間があっても足りません。\n",
    "\n",
    "というわけでExcelでGWAS(というよりゲノム解析全般)をやる人はいません、プログラムで処理する必要があります。\n",
    "\n",
    "今回行ったt検定もRやPythonで簡単に繰り返させることが出来ます。\n",
    "\n",
    "Rでは`t.test`という関数で簡単にt検定をすることが出来ます。`t.test(データ1, データ2, 等分散か否か)`の様な形です。"
   ]
  },
  {
   "cell_type": "code",
   "execution_count": null,
   "metadata": {
    "id": "MmftF3LphOkv",
    "vscode": {
     "languageId": "r"
    }
   },
   "outputs": [],
   "source": [
    "# 簡単な例\n",
    "data1 <- c(120, 122, 118, 131, 137, 119)\n",
    "data2 <- c(87, 97, 100, 92, 91, 101)\n",
    "\n",
    "# data1とdata2の平均値の差をt検定\n",
    "t.test(data1, data2, var.equal=T)"
   ]
  },
  {
   "cell_type": "markdown",
   "metadata": {
    "id": "PiORVaM2hNru"
   },
   "source": [
    "下記のコードを動かすと、SNPの遺伝子型が変わることで葉の長さの平均値に差があるかのt検定が出来るので、\n",
    "\n",
    "SNPの番号の部分の数字を変えて結果がどう変わるか見てみましょう。"
   ]
  },
  {
   "cell_type": "code",
   "execution_count": null,
   "metadata": {
    "id": "p9YQMdFDI8El",
    "vscode": {
     "languageId": "r"
    }
   },
   "outputs": [],
   "source": [
    "# データの読み込み\n",
    "data <- read.csv(\"GWAS_sample.csv\")\n",
    "\n",
    "# 検定したいSNPの番号\n",
    "SNP <- \"SNP1\"\n",
    "\n",
    "# SNPの遺伝子型毎に葉の長さを取り出す\n",
    "SNP_genotype <- data[SNP]\n",
    "Leaf_1 <- data$Leaf[SNP_genotype == unique(SNP_genotype)[1, 1]]\n",
    "Leaf_2 <- data$Leaf[SNP_genotype == unique(SNP_genotype)[2, 1]]\n",
    "\n",
    "# t検定\n",
    "t.test(Leaf_1, Leaf_2, var.equal=T)"
   ]
  },
  {
   "cell_type": "markdown",
   "metadata": {
    "id": "RH6Vt983I62N"
   },
   "source": [
    "\n",
    "　この様なt検定を全ゲノム領域のSNP1つ1つに対して行っていくことで、形質値と相関の強いゲノム領域を探索することが出来ます。\n",
    "\n",
    "　今回の結果で言うと、8番目のSNPの遺伝子型が強く葉の長さに影響を与えているようです。\n",
    "\n",
    "<img src=\"https://github.com/CropEvol/lecture/blob/master/textbook_2025/images/GWAS_basic.png?raw=true\" alt=\"gwas_basic\" height=\"600px\" align=\"middle\">\n",
    "\n",
    "今回は1つの染色体にたった10個のSNPという極簡単な例を見てみましたが、\n",
    "\n",
    "GWAS(ゲノムワイド関連解析)でやりたいことは、この様にゲノム全体の中に形質と関連しているSNP等の遺伝子型を探すことになります。\n",
    "\n"
   ]
  },
  {
   "cell_type": "markdown",
   "metadata": {
    "id": "6OZ1wnKMZbLG"
   },
   "source": [
    "## 1-3. GWASの解析手順\n",
    "\n",
    "それでは実際にGWASを行う際の具体的な手順を見ていきます。\n",
    "\n",
    "GWASでは、様々な異なった遺伝的背景を持つ集団の「形質値」と「遺伝子型」のデータが必要ということでした。\n",
    "\n",
    "GWASの流れ:\n",
    "\n",
    "1. **集団の準備**\n",
    "  * 大規模な系統(場合によっては交配集団)を集めて、異なる遺伝的背景を持つ集団を準備する\n",
    "2. **形質データの測定**\n",
    "  * 集団を栽培し、目的とする形質値を計測する\n",
    "3. **SNP遺伝子型情報の取得**\n",
    "  1. ゲノム配列（参照配列）を用意する\n",
    "  2. 集団の各個体のシーケンスデータを得る\n",
    "  3. 参照配列にリードをアライメントする\n",
    "  4. SNPを検出し、各個体のSNPの遺伝子型情報を得る。\n",
    "4. **統計解析**\n",
    "  * 2, 3で得られた形質値データ、遺伝子型データを下の様なデータに整備し、統計解析を行いQTLを探索する。\n",
    "\n",
    "<img src=\"https://github.com/CropEvol/lecture/blob/master/textbook_2025/images/GWAS_process.png?raw=true\" alt=\"GWAS_process\" height=\"300px\" align=\"middle\">\n",
    "\n",
    "SNPの検出に関してはこれまでに既に扱ってきたので、今回は実際に扱うデータがどの様なものか説明し、\n",
    "\n",
    "データが得られた後の統計解析の部分をやっていきます。\n"
   ]
  },
  {
   "cell_type": "markdown",
   "metadata": {
    "id": "cN6y0v6caXyu"
   },
   "source": [
    "# 2. 必要となるデータセットの準備\n",
    "\n",
    "当然ですが、どれだけ大規模で信頼性の高いデータを準備できるかが、GWASで良い結果を得られるかどうかを決めます。"
   ]
  },
  {
   "cell_type": "markdown",
   "metadata": {
    "id": "zbV3snxrn3Xr"
   },
   "source": [
    "## 2-1. 遺伝子型データ\n",
    "\n",
    "　基本的に集団のSNPデータになります。\n",
    "\n",
    "各SNP毎に、SNPの位置・各個体の遺伝子型の情報が入ったテーブルデータです。\n",
    "\n",
    "QTL-seqの時にはバルクシーケンスを行いましたが、GWASでは各個体ごとにシーケンスを行いSNPを検出します。\n",
    "\n",
    "<img src=\"https://github.com/CropEvol/lecture/blob/master/textbook_2025/images/GWAS_sequence.png?raw=true\" alt=\"GWAS_sequence\" height=\"360px\" align=\"middle\">\n",
    "\n",
    "　バルクシーケンスでは、2回(形質値が大きい集団と小さい集団)シーケンスを行えば良かったのですが、\n",
    "\n",
    "今回は各個体毎にシーケンスを行う必要があるので、集団サイズが大きいほどコストがかかります。\n",
    "\n",
    "しかし、集団サイズが小さいと変異の多様性や比較に使える種数が少なくなり、十分な検定力を得られないという問題もあります。\n",
    "\n",
    "　QTL-seqの時にリード数が少ないと、正しくSNP等の遺伝的変異の情報が読み切れないという話もありましたが、\n",
    "\n",
    "どれだけ研究費がかけられるのか、データのサイズがどのくらい必要なのか、様々なことを考慮して研究計画をたてる必要があります。"
   ]
  },
  {
   "cell_type": "markdown",
   "metadata": {
    "id": "WhWTNi4u6Reo"
   },
   "source": [
    "### データフォーマットについて\n",
    "\n",
    "先ほどExcelやRで分析を行った際は、GWASで扱うSNPの遺伝子型を\"A, T, G, C\"をそのまま扱っていました。しかし、実際には統計的な解析を行いやすい様に数字で表す場合が多いです。\n",
    "\n",
    "今回は、簡単にするために、あるSNPが\"リファレンスゲノム(基準配列)の遺伝子型\"か\"そうでない遺伝子型か\"という2種類のデータとして扱うことにします。\n",
    "\n",
    "例えば2倍体の生物のあるSNPの遺伝子型がリファレンスゲノムでは\"A\"のところ、別の系統で\"T\"になっていた場合、\n",
    "\n",
    "A, T という遺伝子型のデータを 0, 2 (ヘテロは1)の様に変換したりします。\n",
    "\n",
    "<img src=\"https://github.com/CropEvol/lecture/blob/master/textbook_2025/images/GWAS_genotyping.png?raw=true\" alt=\"chr to num genotype image\" height=\"280px\" align=\"middle\">\n",
    "\n",
    "今回は200個体の1~10番染色体にわたって位置する1000SNPの遺伝子型の情報が手に入ったとしています。\n",
    "\n",
    "(簡略化のためヘテロ接合型は無いものとする。)\n",
    "\n",
    "下のコードで今回扱う遺伝子型情報がどんなデータかを確認出来ます。"
   ]
  },
  {
   "cell_type": "code",
   "execution_count": null,
   "metadata": {
    "id": "e10yEVHrT03t",
    "vscode": {
     "languageId": "r"
    }
   },
   "outputs": [],
   "source": [
    "genotype = read.csv(\"GWAS_sample_genotype.csv\", row.names=1)\n",
    "genotype"
   ]
  },
  {
   "cell_type": "markdown",
   "metadata": {
    "id": "vo3TRo8Mn-MO"
   },
   "source": [
    "## 2-2. 形質データ\n",
    "\n",
    "目的となる形質の各個体毎の計測値データです。\n",
    "\n",
    "ただ生き物の形質値は、遺伝子の影響だけではなく環境の影響などによってぶれる可能性が考えられます。\n",
    "\n",
    "そこで、極力そのような影響を省くことを考え、複数年の計測データなど、反復データの平均値が使われることが多いです。\n",
    "\n",
    "今回は先ほどSNPの遺伝子型が得られている200個体について、籾数と花の色という形質のデータが得られたとします。\n",
    "\n",
    "下のコードで今回扱う形質情報がどんなデータかを確認出来ます。"
   ]
  },
  {
   "cell_type": "code",
   "execution_count": null,
   "metadata": {
    "id": "2VMHGzJ4T1pY",
    "vscode": {
     "languageId": "r"
    }
   },
   "outputs": [],
   "source": [
    "phenotype = read.csv(\"GWAS_sample_phenotype.csv\", header = TRUE)\n",
    "phenotype"
   ]
  },
  {
   "cell_type": "markdown",
   "metadata": {
    "id": "iDFBmPQb3R8R"
   },
   "source": [
    "### 2-2-1. 量的形質と質的形質\n",
    "\n",
    "少し話がそれますが、形質には**量的形質**と**質的形質**があります。\n",
    "\n",
    "量的形質は、葉の長さや籾数など、連続的/量的に変化する形質を持つ、複数の遺伝子の効果の総和によって支配されることが多い形質です。また、環境が形質に影響を与える場合が多いです。\n",
    "\n",
    "質的形質は、花の色や抵抗性の有無など、１つまたは２つ程度の少数の遺伝子で決定されている形質で、不連続な階級に分類できる形質です。\n",
    "\n",
    "**量的な**形質の場合、24cmとか320粒とか、そのまま計算に用いられそうですが、**質的な**形質だと式にあてはめられません。\n",
    "\n",
    "そのため、GWASを用いて**質的な**形質に関連のある遺伝的領域を探したい場合、ロジスティック回帰など形質に応じた回帰モデルを使用する必要があります(後述)。\n",
    "\n",
    "<img src=\"https://github.com/CropEvol/lecture/blob/master/textbook_2023/images/GWAS_phenotype.png?raw=true\" alt=\"GWAS_phenotype\" height=\"200px\" align=\"middle\">\n",
    "\n",
    "(参考)\n",
    "前回まで扱っていた**QTL-seq**は量的形質を対象にしています。非常に似た手法として、**Mut-map法**という手法があり、こちらは質的形質を対象としたQTL mapping手法になります。"
   ]
  },
  {
   "cell_type": "markdown",
   "metadata": {
    "id": "4xuQRK7D16VP"
   },
   "source": [
    "# 3. GWASを行うための手法\n",
    "\n",
    "　ここまでで、GWASを行うための集団のGenotypeとPhenotypeのデータが準備出来ました。\n",
    "\n",
    "ではここからは、そのデータを元にどの様にGWASを行っていくのかという過程やその際に適用する統計モデルについて、実際に試しながらもう少し詳しく勉強していきましょう。\n"
   ]
  },
  {
   "cell_type": "markdown",
   "metadata": {
    "id": "8oIJENdy8w7i"
   },
   "source": [
    "## 3-1. 単純な検定でGWASをやってみる\n",
    "\n",
    "　まずは先ほどと同様に、t検定でGWASをやってみましょう。\n",
    "\n",
    "**あるSNPの遺伝子型がA系統の遺伝子型なのかそれ以外の系統の遺伝子型なのかによって平均値に差があるかどうかをt検定します。**\n",
    "\n",
    "<img src=\"https://github.com/CropEvol/lecture/blob/master/textbook_2025/images/GWAS_intro.png?raw=true\" alt=\"ゲノム上の位置も図示\" height=\"600px\" align=\"middle\">\n",
    "\n",
    "まずはある一つのSNPに関して検定してみましょう。\n",
    "\n",
    "`marker = 1`の部分を`marker = 25`など、今回は1000個のSNPがあるので、1~1000の数字に変えてどのSNPの遺伝子型が形質値に影響を与えていそうか探してみましょう。\n",
    "\n",
    "今回は遺伝子型に応じた形質値のグラフを描くコードも追加しています。"
   ]
  },
  {
   "cell_type": "code",
   "execution_count": null,
   "metadata": {
    "id": "3kPg6ZggT7o3",
    "vscode": {
     "languageId": "r"
    }
   },
   "outputs": [],
   "source": [
    "# 検定するSNPの番号\n",
    "marker = 1\n",
    "\n",
    "# データのフォーマットを整える\n",
    "data_for_test <- data.frame(Grain.number = phenotype$Grain.number,\n",
    "                                          genotype = as.character(t(genotype[genotype$Marker == marker, 4:dim(genotype)[2]])))\n",
    "\n",
    "# 選んだSNPの遺伝子型が0の形質値\n",
    "phenotype_SNP_0 <- data_for_test$Grain.number[data_for_test$genotype == 0]\n",
    "\n",
    "# 選んだSNPの遺伝子型が2の形質値\n",
    "phenotype_SNP_2 <- data_for_test$Grain.number[data_for_test$genotype == 2]\n",
    "\n",
    "# t検定を実行\n",
    "t_test <- t.test(phenotype_SNP_0, phenotype_SNP_2)\n",
    "print(paste(\"Marker\",marker,\": p値 =\", t_test$p.value))\n",
    "\n",
    "# ボックスプロットを描くためのコード\n",
    "library(ggplot2)\n",
    "g <- ggplot(data_for_test, aes(x = genotype, y = Grain.number, fill = genotype))\n",
    "g <- g + geom_boxplot()\n",
    "g <- g + geom_jitter(width=0.2)\n",
    "plot(g)"
   ]
  },
  {
   "cell_type": "markdown",
   "metadata": {
    "id": "JmWdwKZ9-Ad4"
   },
   "source": [
    "先ほどと違って今回はSNPの数が1000個あるので、1個1個数字を変えて確認していくのは手間です。\n",
    "\n",
    "そこで、プログラムの繰り返し(`for構文`)を使うことで、t検定を全てのSNPに対してやってみます。"
   ]
  },
  {
   "cell_type": "code",
   "execution_count": null,
   "metadata": {
    "id": "eaZGn7AQceiT",
    "vscode": {
     "languageId": "r"
    }
   },
   "outputs": [],
   "source": [
    "#SNP1~1000までの各SNP毎にt検定を行う\n",
    "p_values <- c()\n",
    "for (i in 1:dim(genotype)[1]) {\n",
    "  phenotype_SNP_0 <- phenotype$Grain.number[genotype[genotype$Marker == i, 4:dim(genotype)[2]] == 0]\n",
    "  phenotype_SNP_2 <- phenotype$Grain.number[genotype[genotype$Marker == i, 4:dim(genotype)[2]] == 2]\n",
    "  p_values <- c(p_values, t.test(phenotype_SNP_0, phenotype_SNP_2)$p.value)\n",
    "}\n",
    "GWAS_t_test <- data.frame(Marker=1:dim(genotype)[1], p_values=p_values)\n",
    "GWAS_t_test"
   ]
  },
  {
   "cell_type": "markdown",
   "metadata": {
    "id": "o6HkBQdK_Vyx"
   },
   "source": [
    "各SNP毎に計算されたp値をまとめて表示してみましょう。\n",
    "\n",
    "知りたいのはp値が非常に小さいSNPの場所になりますが、p値をそのままグラフ化して小さい値を探す、というのはやりにくいので、\n",
    "\n",
    "p値をマイナスlog変換してグラフ化します。つまりp値が小さいほど高い値になる様にして図示しています。"
   ]
  },
  {
   "cell_type": "code",
   "execution_count": null,
   "metadata": {
    "id": "vNLGOxCTcf_h",
    "vscode": {
     "languageId": "r"
    }
   },
   "outputs": [],
   "source": [
    "# 先ほど計算した p値を-log10(p)にしてグラフ化\n",
    "GWAS_t_test$minus_log10p <-  -log10(GWAS_t_test$p_values)\n",
    "GWAS_t_test$q_values <- p.adjust(GWAS_t_test$p_values, method = \"BH\")\n",
    "FDR_threshold <- min(GWAS_t_test[GWAS_t_test$q_values < 0.01, ]$minus_log10p)\n",
    "GWAS_t_test$Chrom <- genotype$Chrom\n",
    "GWAS_t_test$Position <- genotype$Position\n",
    "\n",
    "g <- ggplot(GWAS_t_test, aes(x = Marker, y = minus_log10p, color=Chrom))\n",
    "g <- g + geom_point()\n",
    "g <- g + geom_hline(yintercept = FDR_threshold, linetype = \"dashed\")\n",
    "plot(g)"
   ]
  },
  {
   "cell_type": "markdown",
   "metadata": {
    "id": "Iqq5qIAARJ3n"
   },
   "source": [
    "GWASを行うと、この様な、ゲノム全体に渡って位置するSNP毎のp値等の値をプロットとして描写することが出来ます。\n",
    "\n",
    "それぞれのSNP(x軸)に対して独立にt検定を行った結果の−log10(p)値（y軸）が示されており、このような図をマンハッタン・プロット(Manhattan plot)と呼びます。\n",
    "\n",
    "この図はy軸の値が高い点程、その位置の遺伝子型が形質に大きな影響を与えていることを示しています。\n",
    "\n",
    "今回のマンハッタンプロットを見ると250, 500, 750番目のSNPマーカー付近の遺伝子型が形質値と強く関連していそうです。\n",
    "\n",
    "例えば250番目のSNPの結果を見てみると、このSNPの遺伝子型によって形質値が大きく変わっているのが分かるかと思います。"
   ]
  },
  {
   "cell_type": "code",
   "execution_count": null,
   "metadata": {
    "id": "3vDwW1q6RGKq",
    "vscode": {
     "languageId": "r"
    }
   },
   "outputs": [],
   "source": [
    "marker = 250\n",
    "\n",
    "# make dataset for visualization\n",
    "data_for_vis <- data.frame(Grain.number = phenotype$Grain.number,\n",
    "                                         genotype = as.character(t(genotype[genotype$Marker == marker, 4:dim(genotype)[2]])))\n",
    "# draw boxplot\n",
    "library(ggplot2)\n",
    "g <- ggplot(data_for_vis, aes(x = genotype, y = Grain.number, fill = genotype))\n",
    "g <- g + geom_boxplot()\n",
    "g <- g + geom_jitter(width=0.2)\n",
    "plot(g)\n",
    "\n",
    "# perform t-test\n",
    "t_test <- t.test(data_for_vis$Grain.number[data_for_vis$genotype == 0], data_for_vis$Grain.number[data_for_vis$genotype == 2])\n",
    "print(paste(\"p値 =\", t_test$p.value))"
   ]
  },
  {
   "cell_type": "markdown",
   "metadata": {
    "id": "ar_oY6vdAoXn"
   },
   "source": [
    "こうした情報を元に、検出されたSNPのピーク付近に形質に効果を与える遺伝子が存在しているのではないか…といった形で研究を進めていきます。\n",
    "\n",
    "ちなみに、先ほどマンハッタンプロットを描写した際に、点線があったかと思います。\n",
    "\n",
    "この点線を超えていれば、形質に関連しているSNPと言える、という一つの基準になりますが、この点線の基準はどの様に決められているのでしょうか。\n",
    "\n",
    "<img src=\"https://github.com/CropEvol/lecture/blob/master/textbook_2023/images/FDR.png?raw=true\" alt=\"GWAS_intro\" height=\"300px\" align=\"middle\">\n",
    "\n",
    "今回のGWASのやり方では、SNPの数だけt検定を繰り返している形になるので、多重検定の問題があります。\n",
    "\n",
    "(多重検定の問題については生物統計学の講義で(多分)学ぶはずなのでここでは細かくは説明しません。)\n",
    "\n",
    "そのため、FDR(False discovery rate)やBonferroni補正などの手法を使って多重検定の補正を行う必要があります。\n",
    "\n",
    "今回のマンハッタンプロットではFDR値を破線で示しており、この破線を超える統計値を示す遺伝的領域が、形質と優位に関係していると考えられることになります。"
   ]
  },
  {
   "cell_type": "markdown",
   "metadata": {
    "id": "qH-u_Sf99MeM"
   },
   "source": [
    "## 3-2. 単純な検定の限界\n",
    "\n",
    "このように、単純なt検定を繰り返すことでも形質に関係していそうな遺伝領域の候補を検出できそうです。\n",
    "\n",
    "ただ、上述したモデルやt検定では、様々な問題点があります。\n",
    "* 複数の遺伝子が影響している場合、1つのSNPの遺伝子型の影響だけに着目する様なやり方で良いのか？\n",
    "* GWASでは色んな種のデータを使用するので、場合によってはサンプル間に環境の違いや実験区域の違いなどがあり、その要素を考慮できない\n",
    "* (家畜等でGWASを行う場合)血縁関係などが考慮できない\n",
    "* ...etc\n",
    "\n",
    "t検定は、着目したSNPの遺伝子型の効果しか見ていないことになります。\n",
    "\n",
    "そこで、着目したSNPの遺伝子型だけでなく、その他の要素も組み込める、より汎用性の高いモデルが必要になってきます。\n",
    "\n",
    "また、先ほど紹介した質的形質を扱う場合には、質的形質に適した回帰モデルを使用する必要があります。\n",
    "\n",
    "そのため、実際にGWASを行う際には、t検定等は使用されません。\n",
    "\n",
    "次の章からは実際に利用されている代表的なモデルを見てみましょう。"
   ]
  },
  {
   "cell_type": "markdown",
   "metadata": {
    "id": "d-e2TxDvg-RJ"
   },
   "source": [
    "## 3-3. 代表的な統計モデルの紹介\n",
    "\n",
    "GWASを行うための統計モデルには様々なものが存在し、今も開発が続いています。\n",
    "\n",
    "ここでは代表的なモデルの1つとしてMixed Linear Model(MLM, 混合モデル)を紹介します。\n",
    "\n",
    "また、対象形質が質的形質だった場合に利用することが多いロジスティック回帰についても簡単に紹介します。\n",
    "\n",
    "(ここでは簡単な紹介だけになるので、興味がある人は勉強してみてください。)"
   ]
  },
  {
   "cell_type": "markdown",
   "metadata": {
    "id": "o_vnm2VdT-ik"
   },
   "source": [
    "### 3-3-1. 混合モデル\n",
    "\n",
    "GWASでよく使用されるモデルの1つに混合モデルがあります。特に以下の様なモデルが良く使用されます。\n",
    "\n",
    "$$\n",
    "\\boldsymbol{y}=W\\boldsymbol{v}+X\\boldsymbol{\\beta}+Z\\boldsymbol{u}+\\boldsymbol{\\epsilon}\n",
    "$$\n",
    "\n",
    "$W\\boldsymbol{v}$は水準や何らかの処理の効果を固定効果として表しており、$X\\boldsymbol{\\beta}$は着目したSNPの効果を固定効果として表しています。$Z\\boldsymbol{u}$は全ゲノム領域のポリジーン効果を変量効果として表したものになります。\n",
    "\n",
    "つまり、個体毎の環境の違いや、他のゲノム領域の影響を考慮した上で、それでもなお着目したSNPに効果($\\hat{\\beta}$)があるのかを確認することが出来るモデルになっています。\n",
    "\n",
    "<img src=\"https://github.com/CropEvol/lecture/blob/master/textbook_2023/images/GWAS_MLM.png?raw=true\" alt=\"GWAS_MLM\" height=\"450px\">\n",
    "\n",
    "この様なモデルを元に、GWASを行うソフトやプログラムがたくさん開発されています。\n",
    "\n",
    "(参考)\n",
    "* Yu et al., (2006) https://www.nature.com/articles/ng1702\n",
    "* Zhang et al., (2010) https://www.nature.com/articles/ng.546"
   ]
  },
  {
   "cell_type": "markdown",
   "metadata": {
    "id": "XlHunnfJKOft"
   },
   "source": [
    "#### 固定効果と変量効果\n",
    "\n",
    "<small>*※ 読み飛ばしてOKです。混合モデルの簡単な説明をしています。*<small>\n",
    "\n",
    "なぜ\"混合\"モデルと言うのかというと、固定効果と変量効果の両者を扱うことが出来るモデルなので混合モデルと呼ばれています。\n",
    "\n",
    "固定効果・変量効果とは何なのかというと、\n",
    "\n",
    "* 固定効果\n",
    "\n",
    "固定効果は水準間の比較や効果の検証を目的とする要因を固定効果として扱います。\n",
    "\n",
    "肥料100g vs 肥料200gの効果の違いや, 投薬の有り無しによる効果の違いなどです。\n",
    "\n",
    "今回だと、あるSNPがA系統なのかB系統なのかという違いによって生じる効果を固定効果としています。\n",
    "\n",
    "* 変量効果\n",
    "\n",
    "変量効果は、効果にばらつきがある、分布を持つ要因を変量効果として扱います。ランダム効果等と言われたりもします。\n",
    "\n",
    "例えば栽培した圃場の違いの効果をモデルに組み込む場合、圃場の形質への影響はある程度ばらつくことが予想されます。\n",
    "\n",
    "(同じ圃場Xでも、端っこの方とか真ん中あたりとかでちょっと違いますよね)。\n",
    "\n",
    "このような場合、圃場の違いは変量効果として扱います。\n",
    "\n",
    "<img src=\"https://github.com/CropEvol/lecture/blob/master/textbook_2023/images/GWAS_random.png?raw=true\" alt=\"GWAS_random\" height=\"400px\">\n",
    "\n",
    "* 混合モデル\n",
    "\n",
    "この様な固定効果と変量効果、両者を含めたモデルを混合モデルといいます。\n",
    "\n",
    "モデルの各効果の推定をするには、最良線形不偏推定値(Best Linear Unbiased Estimates, BLUE)や最良線形不偏予測値(Best Linear Unbiased Predictor, BLUP)という概念、分散成分の推定に一般的に使用される最尤推定法(Maximum Likelihood, ML)や制限付き最尤法(Restricted Maximum Likelihood, REML)と呼ばれる方法の知識が必要になりますが、今回は統計学の講義では無いので割愛します。\n",
    "\n",
    "興味がある方は参考文献の佐々木先生の本が詳しいので見てみてください。\n",
    "\n",
    "(参考文献)\n",
    "* 久保拓弥 (2012) データ解析のための統計モデリング入門 一般化線形モデル・階層ベイズモデル・MCMC (確率と情報の科学) 岩波書店\n",
    "* 佐々木義之（2007）変量効果の推定とBLUP 法．京都大学学術出版会"
   ]
  },
  {
   "cell_type": "markdown",
   "metadata": {
    "id": "H5aoVLtFmxDz"
   },
   "source": [
    "#### 混合モデルによるGWASの例\n",
    "\n",
    "では混合モデルを自分たちで１から作って行かないとダメかというと、そんなことは無く、混合モデルを実装したプログラムやソフトウェアがあるので、それらを利用して解析していきます。\n",
    "\n",
    "Rのパッケージ`rrBLUP`や`GWASpoly`はこの混合モデルを実装した代表的なプログラムになります。\n",
    "\n",
    "(参考)Endelman group (https://potatobreeding.cals.wisc.edu/software/)\n",
    "\n",
    "今回は`rrBLUP`というパッケージを使ってGWASを行ってみましょう。\n",
    "\n",
    "細かい使い方は説明しませんが、この様な解析プログラムの使い方は[公式のリファレンス](https://cran.r-project.org/web/packages/rrBLUP/rrBLUP.pdf)を見ると載っています。\n",
    "\n",
    "また、大抵サンプルコードが書いてあるので、それを動かしてみたり、1行ずつ理解していく事で使い方が分かるようになっています。"
   ]
  },
  {
   "cell_type": "code",
   "execution_count": null,
   "metadata": {
    "id": "7lk2FQoPUHlc",
    "vscode": {
     "languageId": "r"
    }
   },
   "outputs": [],
   "source": [
    "library(rrBLUP)\n",
    "X <- genotype[, 4:dim(genotype)[2]]\n",
    "M <- X-1\n",
    "geno <- data.frame(marker=genotype$Marker, chrom=genotype$Chrom, pos=genotype$Position, M, check.names=FALSE)\n",
    "pheno <- phenotype[ ,c(1,2)]\n",
    "GWAS_rrBLUP <- GWAS(pheno, geno, plot=FALSE)\n",
    "GWAS_rrBLUP"
   ]
  },
  {
   "cell_type": "code",
   "execution_count": null,
   "metadata": {
    "id": "rQt1lszqSN7d",
    "vscode": {
     "languageId": "r"
    }
   },
   "outputs": [],
   "source": [
    "# calculate FDR threshold\n",
    "q_values <- p.adjust(10 ** (-GWAS_rrBLUP$Grain.number), method = \"BH\")\n",
    "FDR_threshold <- min(GWAS_rrBLUP$Grain.number[q_values < 0.01])\n",
    "\n",
    "# draw manhattan plot\n",
    "g <- ggplot(GWAS_rrBLUP, aes(x = marker, y = Grain.number, color=chrom))\n",
    "g <- g + geom_point()\n",
    "g <- g + geom_hline(yintercept = FDR_threshold, linetype = \"dashed\")\n",
    "plot(g)"
   ]
  },
  {
   "cell_type": "markdown",
   "metadata": {
    "id": "PnAYDR7mxkOm"
   },
   "source": [
    "#### (参考)連鎖について\n",
    "\n",
    "GWASを行うことで候補となる遺伝領域のピークが検出されたと思います。\n",
    "\n",
    "大抵、ある１つのSNPだけが高く検出されるのではなく、高いSNPがいると、必然的に周囲のSNPも高くなっていることが分かります。\n",
    "\n",
    "これは**連鎖**によって、あるSNPの近傍に位置するSNPも一緒に遺伝されることが多いため生じています。"
   ]
  },
  {
   "cell_type": "markdown",
   "metadata": {
    "id": "xkm6HmXdUCC-"
   },
   "source": [
    "### 3-4-3. ロジスティック回帰モデル\n",
    "\n",
    "<small>*※ ここもややこしいので読み飛ばしてOKです。質的形質を扱う場合の簡単な説明をしています。*<small>\n",
    "\n",
    "先ほど形質には**量的形質**と**質的形質**があるという話をしました。\n",
    "\n",
    "ここからは形質が**質的な形質**だった場合の話をしていきます。\n",
    "\n",
    "量的形質であれば、$21.4cm(葉の長さ)$や$12本(穂の数)$の様な形で数値として扱うことが出来ます。\n",
    "\n",
    "$$\n",
    "\\boldsymbol{葉の長さ}=W\\boldsymbol{v}+X\\boldsymbol{\\beta}+Z\\boldsymbol{u}+\\boldsymbol{\\epsilon}\n",
    "$$\n",
    "\n",
    "しかし、質的形質は、$赤い(花の色)$といった形で数値ではない場合が多く、そのままでは計算に用いられません。\n",
    "\n",
    "$$\n",
    "\\boldsymbol{花の色？}=W\\boldsymbol{v}+X\\boldsymbol{\\beta}+Z\\boldsymbol{u}+\\boldsymbol{\\epsilon}\n",
    "$$\n",
    "\n",
    "そのため、通常のモデルでは扱うことが難しくなります。ではどうするのかというと、\n",
    "\n",
    "「白い花か赤い花か」や「抵抗性か感受性か」の様な質的形質は、あるクラスに分類される確率を求める形に変換します。\n",
    "\n",
    "例えば、「SNP1の遺伝子型がTの時、赤い花になる確率はXX%」の様な形です。こうすると質的形質を数値として扱えるので\n",
    "\n",
    "$\\boldsymbol{赤い花になる確率}=W\\boldsymbol{v}+X\\boldsymbol{\\beta}+Z\\boldsymbol{u}+\\boldsymbol{\\epsilon}$という感じで計算出来そうですね。"
   ]
  },
  {
   "cell_type": "markdown",
   "metadata": {
    "id": "1Uei54FMIDtL"
   },
   "source": [
    "しかし、このまま量的形質と同じ様に解析をしていけばいいのかと言うとまだ注意点があります。\n",
    "\n",
    "\"確率\"は扱いが難しい値で、\n",
    "\n",
    "例えばSNP1の遺伝子型で花の色が変わる確率を対象に普通の回帰分析をしてみると、下図の様な問題が生じるので使用できません。\n",
    "\n",
    "<img src=\"https://github.com/CropEvol/lecture/blob/master/textbook_2023/images/logistic_limit.png?raw=true\" alt=\"logistic_regression\" height=\"400px\">"
   ]
  },
  {
   "cell_type": "markdown",
   "metadata": {
    "id": "46XGb5_aZAYd"
   },
   "source": [
    "　そこで、線形回帰モデルの代わりにロジスティック回帰モデルが用いられます。\n",
    "\n",
    "**ロジスティック回帰（Logisitic regression）**は、線形回帰に少し手を加えて、**あるクラスに分類される確率を求める手法**です。\n",
    "\n",
    "<img src=\"https://github.com/CropEvol/lecture/blob/master/textbook_2023/images/logistic_regression.png?raw=true\" alt=\"logistic_regression\" height=\"400px\">\n",
    "\n",
    "　ロジスティック回帰は次の式で表されるモデルです（詳しくは「ロジスティック回帰の式を詳しく　」を参照）。\n",
    "\n",
    "$$ z = \\beta x + \\epsilon $$\n",
    "$$ p = \\frac{1}{1+e^{-z}} $$\n",
    "\n",
    "- 係数$\\beta$をSNPの効果、説明変数$x$をSNPの遺伝子型として表しています。$\\epsilon$（epsilon）は誤差（切片）です。\n",
    "- $p$はあるクラスに属している確率を表しています。$e$はネイピア数（=2.7182...）です。  \n",
    "\n",
    "　このとき、$0 ≦ p ≦ 1$なので、$-\\infty < z < \\infty$となり、先ほどまで扱っていた線形モデルの様に扱える様になります。\n",
    "\n",
    "　この様にロジスティック回帰モデルをたてることで、係数$\\beta$や誤差$\\epsilon$が求まり、質的形質に対してもGWASが行えるようになるわけです。"
   ]
  },
  {
   "cell_type": "markdown",
   "metadata": {
    "id": "Q1jdHDHrZJvo"
   },
   "source": [
    "#### ロジスティック回帰の式を詳しく...\n",
    "<small>*※ 読み飛ばしてOKです。ロジスティック回帰の式の背景を数式を使って説明しています。*</small>"
   ]
  },
  {
   "cell_type": "markdown",
   "metadata": {
    "id": "iIU4_WXcZLie"
   },
   "source": [
    "　ロジスティック回帰の式を理解するためには、**オッズ(odds)**から始める必要があります。\n",
    "\n",
    "　ある事象Aが起こる確率を$p$としたとき、Aが起こらない確率は$1-p$となります。このとき、Aの起こる確率とAが起こらない確率の比は、$$\\frac{p}{1-p}$$となります。これがオッズと呼ばれるもので、Aが起こる「見込み」を表しています。\n",
    "\n",
    "確率である$p$の値は0から1の範囲しかとれませんが、オッズに変換することで$0から\\infty$までの範囲に、さらに対数をとることで$-\\infty$から$\\infty$まで値を取ることが出来ます。\n",
    "\n",
    "先程確率は0から1までしかとれないので回帰式が作れないという話をしましたが、対数オッズを対象にすると線形回帰で扱えそうな値になりますね。\n",
    "\n",
    "さて、ここで最終的に知りたいことは、**データから確率$p$を推測する式**です。\n",
    "\n",
    "$$\n",
    "p = (SNPの情報などの式)\n",
    "$$\n",
    "\n",
    "　オッズの対数（**対数オッズ**）をとり、関数とみなすと、$$f(p) = \\log{\\frac{p}{1-p}}$$となります。これは、**ロジット関数（logit）**として知られる関数です。\n",
    "\n",
    "　ロジット関数を逆関数にすると、$f(p)$から$p$を求める関数が得られます。\n",
    "\\begin{align*}\n",
    "f(p) &= \\log{\\frac{p}{1-p}} \\\\\n",
    "e^{f(p)} &= \\frac{p}{1-p} \\\\\n",
    "e^{f(p)} - e^{f(p)} p &= p \\\\\n",
    "p &= {\\frac{e^{f(p)}}{e^{f(p)}+1}} \\\\ &= \\frac{1}{1+e^{-f(p)}}\n",
    "\\end{align*}\n",
    "\n",
    "　ここで、$f(p) = z$ とすると、ロジスティック回帰のふたつ目の式が得られます。これは、**ロジスティック関数（logistic）**として知られる関数です。$$ p = \\frac{1}{1+e^{-z}} $$この関数は、入力値$z$からAが起こる確率$p$を求める関数とみなせます。\n",
    "\n",
    "<img src=\"https://github.com/CropEvol/lecture/blob/master/textbook_2019/images/logistic_curve.png?raw=true\" alt=\"logistic_curve\" height=\"200px\">\n",
    "\n",
    "　ロジスティック回帰は、線形回帰の式をロジスティック関数の入力$z$につなげたものです。\n",
    "\n",
    "これは、「データx(今回だとSNPの情報)」を「Aがおこる確率$p$」に変換する式です。\n",
    "\n",
    "$$f(p) =  z = \\beta x + \\epsilon $$\n",
    "\n",
    "$$ p = \\frac{1}{1+e^{-(\\beta x + \\epsilon)}} $$\n",
    "\n",
    "このあたりに関しても、簡単な説明になっているので、興味のある方は各自調べてみてください。\n",
    "\n",
    "(参考文献)\n",
    "\n",
    "* 久保拓弥 (2012) データ解析のための統計モデリング入門 一般化線形モデル・階層ベイズモデル・MCMC (確率と情報の科学) 岩波書店"
   ]
  },
  {
   "cell_type": "markdown",
   "metadata": {
    "id": "4IbVyliuZXkd"
   },
   "source": [
    "#### ロジスティック回帰による検定の例\n",
    "\n",
    "白い花になる個体と、赤い花をつける個体から成る集団がいたとして、この質的形質である花の色と関連している遺伝領域をGWASで探してみます。\n",
    "\n",
    "ロジスティック回帰に関しても、Rで使用可能な`glm`関数等で実装出来ますし、`lme4qtl`というパッケージでは変量効果や固定効果も踏まえたロジスティック回帰が可能です。\n",
    "\n",
    "$$ z = W\\boldsymbol{v}+X\\boldsymbol{\\beta}+Z\\boldsymbol{u}+\\boldsymbol{\\epsilon} $$\n",
    "$$ p = \\frac{1}{1+e^{-z}} $$\n",
    "\n",
    "(参考) [lme4qtlの論文](https://bmcbioinformatics.biomedcentral.com/articles/10.1186/s12859-018-2057-x)"
   ]
  },
  {
   "cell_type": "code",
   "execution_count": null,
   "metadata": {
    "id": "Fh0p8noLWtjB",
    "vscode": {
     "languageId": "r"
    }
   },
   "outputs": [],
   "source": [
    "# # (計算時間がかかるので時間があれば動かしてみましょう。)\n",
    "\n",
    "marker = 780\n",
    "\n",
    "# convert white/red label to 0/1\n",
    "pheno <- phenotype[ ,c(1,3)]\n",
    "pheno[\"Flower.color\"] <- lapply(pheno[\"Flower.color\"], gsub, pattern=\"White\", replacement = 0)\n",
    "pheno[\"Flower.color\"] <- lapply(pheno[\"Flower.color\"], gsub, pattern=\"Red\", replacement = 1)\n",
    "pheno$Flower.color <- as.integer(pheno$Flower.color)\n",
    "\n",
    "# # read genotype_data & generate variance-covariance matrix\n",
    "# M <- t(geno[, -c(1:3)])\n",
    "# K <- A.mat(M,shrink=FALSE)\n",
    "\n",
    "# # statistical test by logistic regression\n",
    "# SNP_geno <- t(geno[marker, -c(1:3)])\n",
    "# colnames(SNP_geno) <- \"SNP\"\n",
    "# SNP_geno <- cbind(Line = rownames(SNP_geno), SNP_geno)\n",
    "# tmp_pheno <- merge(pheno, SNP_geno, by=\"Line\")\n",
    "# trait <- \"Flower.color\"\n",
    "# model1_formula <- as.formula(paste0(trait, \" ~ (1|Line)\"))\n",
    "# model1 <- relmatGlmer(model1_formula, tmp_pheno, relmat = list(Line = K), family = binomial)\n",
    "# model2_formula <- as.formula(paste0(trait, \" ~ SNP + (1|Line)\"))\n",
    "# model2 <- relmatGlmer(model2_formula, tmp_pheno, relmat = list(Line = K), family = binomial)\n",
    "# print(model2)\n",
    "# # maximum likelihood test (model1 vs model2)\n",
    "# print(paste(\"p値 =\", anova(model1, model2)[2, 8]))"
   ]
  },
  {
   "cell_type": "markdown",
   "metadata": {
    "id": "B9YbeD6hclTU"
   },
   "source": [
    "今回のサンプルデータは780番目のSNPが花の色に強い影響を与えるようなデータになっているので、上記のコードを動かすと780番目のSNPに有意な効果が認められると思います。"
   ]
  },
  {
   "cell_type": "code",
   "execution_count": null,
   "metadata": {
    "id": "uzR8hQ_Xrdgg",
    "vscode": {
     "languageId": "r"
    }
   },
   "outputs": [],
   "source": [
    "# 780番目のマーカーの遺伝子型毎のクロス集計\n",
    "SNP <- 780\n",
    "summary_table <- data.frame(table(phenotype$Flower.color, t(genotype[SNP, 4:dim(genotype)[2]])))\n",
    "colnames(summary_table) <- c(\"Flower.color\", \"Marker780\", \"The number of sample\")\n",
    "summary_table"
   ]
  },
  {
   "cell_type": "markdown",
   "metadata": {
    "id": "CMnTjUPxhCb3"
   },
   "source": [
    "## 3-4. イネを用いた実例\n",
    "\n",
    "これまではサンプルデータで手法等を確認していました。\n",
    "\n",
    "このサンプルデータは籾数に対しては綺麗に250, 500, 750番目のSNPが、花の色には780番目のSNPが検出される様に意図的に作ったデータでした。\n",
    "\n",
    "ここからは実際のイネの集団データを用いて、どのような解析結果になるのか確認してみましょう。"
   ]
  },
  {
   "cell_type": "markdown",
   "metadata": {
    "id": "rgsxBkkuaJyh"
   },
   "source": [
    "### 3-4-1. データの読み込み\n",
    "\n",
    "今回使うデータは、イネの\"ひとめぼれ\"という系統に色んな系統をかけあわせた集団です。\n",
    "\n",
    "たくさんの系統そのもの、というわけでは無いですがひとめぼれに色んな系統の遺伝子が混ざっている集団になります。\n",
    "\n",
    "<img src=\"https://github.com/CropEvol/lecture/blob/master/textbook_2023/images/paddy_field.png?raw=true\" alt=\"paddy_field\" height=\"400px\">\n",
    "\n",
    "この集団の遺伝子型情報と表現型情報を読み込みましょう。\n",
    "\n",
    "まずは遺伝子型情報です。今回の場合も簡単に、0 = ひとめぼれ型、2 = 他の系統型、1 = ヘテロを表すことにします。"
   ]
  },
  {
   "cell_type": "code",
   "execution_count": null,
   "metadata": {
    "id": "ttNGiAH-tkF9",
    "vscode": {
     "languageId": "r"
    }
   },
   "outputs": [],
   "source": [
    "# Genotype情報\n",
    "rice_genotype <- read.csv(\"GWAS_sample_genotype_rice.csv\")\n",
    "rice_genotype"
   ]
  },
  {
   "cell_type": "markdown",
   "metadata": {
    "id": "6HUVlvZUpNt4"
   },
   "source": [
    "次に、表現型値の情報です。\n",
    "\n",
    "今回は籾数と葉の幅をデータとして取得します。"
   ]
  },
  {
   "cell_type": "code",
   "execution_count": null,
   "metadata": {
    "id": "xz--_paQpN4s",
    "vscode": {
     "languageId": "r"
    }
   },
   "outputs": [],
   "source": [
    "rice_phenotype <- read.csv(\"GWAS_sample_phenotype_rice.csv\")\n",
    "rice_phenotype"
   ]
  },
  {
   "cell_type": "markdown",
   "metadata": {
    "id": "-7WAdkoWaMfq"
   },
   "source": [
    "### 3-4-2. 混合モデルによるGWAS\n",
    "\n",
    "先ほどやった様に`rrBLUP`を使って混合モデルによるGWASを行ってみましょう。\n",
    "\n",
    "`rrBLUP`は複数の形質も同時に解析してくれます。"
   ]
  },
  {
   "cell_type": "code",
   "execution_count": null,
   "metadata": {
    "id": "j7Op-8nevMZ-",
    "vscode": {
     "languageId": "r"
    }
   },
   "outputs": [],
   "source": [
    "library(rrBLUP)\n",
    "X <- rice_genotype[, 4:dim(rice_genotype)[2]]\n",
    "M <- X-1\n",
    "geno <- data.frame(marker=rice_genotype$Marker, chrom=rice_genotype$Chrom, pos=rice_genotype$Position, M, check.names=FALSE)\n",
    "GWAS_rice <- GWAS(rice_phenotype, geno, plot=FALSE)"
   ]
  },
  {
   "cell_type": "markdown",
   "metadata": {
    "id": "R-jhb7OLaU8F"
   },
   "source": [
    "### 3-4-3. マンハッタンプロットの描写\n",
    "\n",
    "籾数に関して"
   ]
  },
  {
   "cell_type": "code",
   "execution_count": null,
   "metadata": {
    "id": "aLFtbPzgtjY0",
    "vscode": {
     "languageId": "r"
    }
   },
   "outputs": [],
   "source": [
    "# calculate FDR threshold for Grain number\n",
    "q_values_GN <- p.adjust(10 ** (-GWAS_rice$Grain.number), method = \"BH\")\n",
    "FDR_threshold_GN <- min(GWAS_rice$Grain.number[q_values_GN < 0.01])\n",
    "GWAS_rice[order(GWAS_rice$Grain.number, decreasing = T), ][1:5, c(1,2,3,5)]\n",
    "\n",
    "# draw manhattan plot for Grain number\n",
    "g <- ggplot(GWAS_rice, aes(x = marker, y = Grain.number, color=chrom))\n",
    "g <- g + geom_point()\n",
    "g <- g + geom_hline(yintercept = FDR_threshold_GN, linetype = \"dashed\")\n",
    "g <- g + ggtitle(\"Grain number\")\n",
    "g <- g + ylim(c(0, 12))\n",
    "plot(g)"
   ]
  },
  {
   "cell_type": "markdown",
   "metadata": {
    "id": "yNNGBSQVMBUX"
   },
   "source": [
    "葉の幅に関して"
   ]
  },
  {
   "cell_type": "code",
   "execution_count": null,
   "metadata": {
    "id": "SPsBckqDMASX",
    "vscode": {
     "languageId": "r"
    }
   },
   "outputs": [],
   "source": [
    "# calculate FDR threshold for Leaf width\n",
    "q_values_LW <- p.adjust(10 ** (-GWAS_rice$Leaf.width), method = \"BH\")\n",
    "FDR_threshold_LW <- min(GWAS_rice$Leaf.width[q_values_LW < 0.01])\n",
    "GWAS_rice[order(GWAS_rice$Leaf.width, decreasing = T), ][1:5, c(1,2,3,4)]\n",
    "\n",
    "# draw manhattan plot for Leaf width\n",
    "g <- ggplot(GWAS_rice, aes(x = marker, y = Leaf.width, color=chrom))\n",
    "g <- g + geom_point()\n",
    "g <- g + geom_hline(yintercept = FDR_threshold_LW, linetype = \"dashed\")\n",
    "g <- g + ggtitle(\"Leaf width\")\n",
    "g <- g + ylim(c(0, 12))\n",
    "plot(g)"
   ]
  },
  {
   "cell_type": "markdown",
   "metadata": {
    "id": "vNCF16lmhFfO"
   },
   "source": [
    "## 3-5. サンプル数やSNP数の影響\n",
    "\n",
    "次に、先ほどのイネの交配集団をベースに、集団サイズが小さくなったり、検出されたSNP数が少なくなった場合に、結果がどのように変化するのか確認してみましょう。\n",
    "\n",
    "`sample_size <- 141`の部分(集団サイズ)や`SNP_size <- 25781`の部分(SNPの数)の数字を色々変えてみてください。"
   ]
  },
  {
   "cell_type": "code",
   "execution_count": null,
   "metadata": {
    "id": "RTGkF_LAti-8",
    "vscode": {
     "languageId": "r"
    }
   },
   "outputs": [],
   "source": [
    "sample_size <- 141 # 10~141\n",
    "SNP_size <- 25781 # 10~25781\n",
    "\n",
    "# extract samples & SNPs\n",
    "sample_index <- sort(sample(1:dim(rice_phenotype)[1], sample_size, replace=FALSE))\n",
    "SNP_index <- sort(sample(1:dim(rice_genotype)[1], SNP_size, replace=FALSE))\n",
    "tmp_genotype <- rice_genotype[SNP_index, ]\n",
    "tmp_phenotype <- rice_phenotype[sample_index, c(1,3)]\n",
    "\n",
    "# GWAS\n",
    "X <- tmp_genotype[, 4:dim(tmp_genotype)[2]]\n",
    "M <- X-1\n",
    "geno <- data.frame(marker=tmp_genotype$Marker, chrom=tmp_genotype$Chrom, pos=tmp_genotype$Position, M, check.names=FALSE)\n",
    "GWAS_rice <- GWAS(tmp_phenotype, geno, plot=FALSE)\n",
    "\n",
    "# calculate FDR threshold for Grain number\n",
    "q_values_GN <- p.adjust(10 ** (-GWAS_rice$Grain.number), method = \"BH\")\n",
    "FDR_threshold_GN <- min(GWAS_rice$Grain.number[q_values_GN < 0.01])\n",
    "GWAS_rice[order(GWAS_rice$Grain.number, decreasing = T), ][1:5, ]\n",
    "\n",
    "# draw manhattan plot for Grain number\n",
    "g <- ggplot(GWAS_rice, aes(x = marker, y = Grain.number, color=chrom))\n",
    "g <- g + geom_point()\n",
    "g <- g + geom_hline(yintercept = FDR_threshold_GN, linetype = \"dashed\")\n",
    "g <- g + ggtitle(\"Grain number\")\n",
    "plot(g)"
   ]
  },
  {
   "cell_type": "markdown",
   "metadata": {
    "id": "No_mju4GandY"
   },
   "source": [
    "このように、集団サイズが十分でないと検出力が下がったり、シーケンスが十分に出来なくて検出されたSNPの数が少ないと、候補となる領域が広くなってしまいます。\n",
    "\n",
    "その結果、GWAS自体は行うことが出来ますが、本来形質に影響を与えている領域が検出されなかったり、意味のある結果を見逃してしまう可能性もあります。"
   ]
  },
  {
   "cell_type": "markdown",
   "metadata": {
    "id": "jCZfj50itrml"
   },
   "source": [
    "# 4. GWASが行えるソフトウェアの紹介\n",
    "\n",
    "GWASが行えるソフトウェアやパッケージ、ライブラリ等は無数にあります。\n",
    "\n",
    "それぞれ異なったモデルや計算手法、考慮できる要素等があり、目的に応じて最適なものを使用する必要があります。\n",
    "\n",
    "当然考慮したい特殊な処理区等があれば自作のプログラムで解析するのも選択肢の一つです。\n",
    "\n",
    "ソフトウェア\n",
    "* TASSEL ... https://www.maizegenetics.net/tassel\n",
    "* PLINK ... https://www.cog-genomics.org/plink\n",
    "\n",
    "Rパッケージ\n",
    "* rrBLUP ... https://potatobreeding.cals.wisc.edu/software/\n",
    "* GWASpoly ... https://github.com/jendelman/GWASpoly\n",
    "* r/qtl ... https://rqtl.org/\n",
    "\n",
    "Pythonライブラリ\n",
    "* Hail ... https://hail.is/\n",
    "\n",
    "等々、探せばもっとたくさんあります。"
   ]
  },
  {
   "cell_type": "markdown",
   "metadata": {
    "id": "4Y-39OIbYqMA"
   },
   "source": [
    "# まとめ\n",
    "\n",
    "　今回、GWASの概要と解析の流れをみてきました。\n",
    "\n",
    "GWASは関心のある形質にどのような遺伝子が影響を与えているのか調べるために、非常によく用いられています。\n",
    "\n",
    "皆さんの中でも、ゲノム解析を主な研究手法としなくても、今後原因遺伝子の探索のきっかけとしてGWASを行う方はたくさんいると思います。\n",
    "\n",
    "\n",
    "また、ポピュラーな手法なので、GWASを行うための解析プログラムやパッケージが大量に存在しています。\n",
    "\n",
    "もちろん適切な手法やモデルをたててGWASを行うことは大切ですが、\n",
    "\n",
    "この様な大規模なデータを用いた解析の場合は、データのサイズと質が何よりも大事です。\n",
    "\n",
    "望ましい結果が得られない時に、手法を色々変えて無理やり検出させるような人がいますが、\n",
    "\n",
    "「どれだけのサイズのデータがあれば自分の見たいものが検出できるのか」という点をまず第１に考える必要があるでしょう。"
   ]
  },
  {
   "cell_type": "markdown",
   "metadata": {
    "id": "meLei4RHab5V"
   },
   "source": [
    "<div align=\"right\"><a href=\"https://github.com/CropEvol/lecture#section2\">実習表ページに戻る</a></div>"
   ]
  }
 ],
 "metadata": {
  "colab": {
   "provenance": [],
   "toc_visible": true
  },
  "kernelspec": {
   "display_name": "R",
   "name": "ir"
  },
  "language_info": {
   "name": "R"
  }
 },
 "nbformat": 4,
 "nbformat_minor": 0
}
