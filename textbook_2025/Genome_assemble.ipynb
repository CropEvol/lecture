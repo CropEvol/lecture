{
  "cells": [
    {
      "cell_type": "markdown",
      "metadata": {
        "id": "o0VV-_nAwkYP"
      },
      "source": [
        "<img src=\"https://github.com/CropEvol/lecture/blob/master/textbook_2025/images/logo.png?raw=true\" alt=\"2025年度ゲノム情報解析入門\" height=\"100px\" align=\"middle\">\n",
        "\n",
        "<div align=\"right\"><a href=\"https://github.com/CropEvol/lecture#section2\">実習表ページに戻る</a></div>"
      ]
    },
    {
      "cell_type": "markdown",
      "metadata": {
        "id": "vTTLw-ES7gnT"
      },
      "source": [
        "# ゲノムアセンブル\n",
        "　近年、シロイヌナズナやイネなどのようなモデル生物だけでなく、さまざまな生物でゲノム配列の整備（ゲノム解読）が進められています。解読されたゲノム配列は、進化学的研究や育種学的研究など、幅広い研究の基盤情報になります。\n",
        "\n",
        "　次世代シーケンシング（ショートリードシーケンシング）や第三世代シーケンシング（ロングリードシーケンシング）をおこなうと、元々のゲノム配列に由来する、短い塩基配列（**リード、Read**）を多数得られます。ショートリードシーケンシングでは50-300 bpのリードを取得でき、ロングリードシーケンシングでは数kbから数十kb（ときには数百kb~数Mb）のリードを取得できます。ゲノム解読は、それらのリードをつなぎ、元のゲノム配列を復元する試みです。その復元処理の最初のステップは、**ゲノムアセンブル（Genome assemble）**と呼ばれています。\n",
        "\n",
        "<img src=\"https://github.com/CropEvol/lecture/blob/master/textbook_2023/images/Assemble_figs/assemble_overview.png?raw=true\" height=\"100px\" align=\"middle\">\n",
        "\n",
        "　　今回の実習では、[約250 kbのゲノム配列](https://raw.githubusercontent.com/CropEvol/lecture/refs/heads/master/textbook_2025/dataset/sample_genome.fa) から仮想的に得たショートリードデータやロングリードデータを使って、それぞれれからからどのようなゲノム配列を復元できるのかを見ていきます。\n",
        "\n",
        "<img src=\"https://github.com/CropEvol/lecture/blob/master/textbook_2023/images/Assemble_figs/short_and_long_reads.png?raw=true\" height=\"100px\" align=\"middle\">\n",
        "\n"
      ]
    },
    {
      "cell_type": "markdown",
      "source": [
        "### サンプルデータのダウンロード\n",
        "\n",
        "---\n",
        "\n"
      ],
      "metadata": {
        "id": "Aar5QKFpH1P_"
      }
    },
    {
      "cell_type": "code",
      "execution_count": null,
      "metadata": {
        "id": "y_qPMrTFjD_F"
      },
      "outputs": [],
      "source": [
        "### サンプルデータのダウンロード\n",
        "!wget -q -O - https://github.com/CropEvol/lecture/raw/master/textbook_2025/dataset/illumina_read1.fastq.gz | gzip -dc > illumina_read1.fastq\n",
        "!wget -q -O - https://github.com/CropEvol/lecture/raw/master/textbook_2025/dataset/illumina_read2.fastq.gz | gzip -dc > illumina_read2.fastq\n",
        "!wget -q -O - https://github.com/CropEvol/lecture/raw/master/textbook_2025/dataset/nanopore.fastq.gz | gzip -dc > nanopore.fastq\n",
        "!wget -q -O - https://github.com/CropEvol/lecture/raw/master/textbook_2025/dataset/sample_genome.fa > sample_genome.fa"
      ]
    },
    {
      "cell_type": "markdown",
      "source": [
        "### ソフトウェアのインストール"
      ],
      "metadata": {
        "id": "AH7oFx0YH6oO"
      }
    },
    {
      "cell_type": "code",
      "source": [
        "### ソフトウェアのインストール\n",
        "!wget -q -O 'assemble_softwares.sh' https://raw.githubusercontent.com/CropEvol/lecture/master/textbook_2025/scripts/assemble_softwares.sh\n",
        "!bash assemble_softwares.sh"
      ],
      "metadata": {
        "id": "zj6Pz31YH9f2"
      },
      "execution_count": null,
      "outputs": []
    },
    {
      "cell_type": "markdown",
      "metadata": {
        "id": "hYWWnkR5WcfY"
      },
      "source": [
        "### 今回の勉強内容\n",
        "\n",
        "1. ショートリードを使ったゲノムアセンブル\n",
        "\n",
        "1. ロングリードを使ったゲノムアセンブル\n",
        "\n",
        "1. ゲノム配列を改良する\n",
        "\n",
        "\n",
        "\n",
        "\n"
      ]
    },
    {
      "cell_type": "markdown",
      "metadata": {
        "id": "6chxcyq56QkM"
      },
      "source": [
        "---\n",
        "## 1. ショートリードを使ったゲノムアセンブル\n",
        "\n",
        "　ショートリードのゲノムアセンブルをおこない、ゲノムの再構築を試みてみましょう。\n",
        "\n",
        "<img src=\"https://github.com/CropEvol/lecture/blob/master/textbook_2023/images/Assemble_figs/short_read_assemble.png?raw=true\" height=\"100px\" align=\"middle\">"
      ]
    },
    {
      "cell_type": "markdown",
      "metadata": {
        "id": "l0buVRYbWoFw"
      },
      "source": [
        "### 1-1. ショートリードを確認する\n",
        "　最初に、ゲノムアセンブルに使用するショートリードデータを確認してみましょう。DNA断片の両端をシーケンシングした**ペアエンド（Paired-end）**という形のリードデータを使用します。ペアエンドのデータは、通常2つのファイルに分かれており、それらを1組のデータとして同時に扱います。\n",
        "\n",
        "使用するショートリード:\n",
        "- Read1: /content/illumina_read1.fastq\n",
        "- Read2: /content/illumina_read2.fastq\n",
        "- リードの量: ゲノムサイズの約20倍\n",
        "- リードの長さ: 各80 bp\n",
        "\n",
        "<img src=\"https://github.com/CropEvol/lecture/blob/master/textbook_2023/images/Assemble_figs/paired_end_reads.png?raw=true\" height=\"200px\" align=\"middle\">"
      ]
    },
    {
      "cell_type": "markdown",
      "source": [
        "#### 復習：リードのデータファイル形式（FASTQ）"
      ],
      "metadata": {
        "id": "ZhFrDmIvEsGL"
      }
    },
    {
      "cell_type": "markdown",
      "metadata": {
        "id": "he7sl2-Xle7y"
      },
      "source": [
        "\n",
        "　リードのデータは**FASTQ**と呼ばれる形式でファイルに保存されています。FASTQ形式では、4行で1つのリードデータの情報を表しています。\n",
        "\n",
        "```\n",
        "@リードの名前\n",
        "TGAAGCAGT..............(リードの塩基配列)\n",
        "+\n",
        "F1GCFCGGE..............(各塩基のクオリティ)\n",
        "```\n",
        "\n",
        "- 第1行（@からはじまる行）: リードの名前\n",
        "- 第2行: リードの塩基配列\n",
        "- 第3行（+からはじまる行）: 第2行と第4行の区切りのための行\n",
        "- 第4行: 各塩基配列のクオリティ（ASCIIコードで書かれている）。1文字が何らかのクオリティスコア（数値）を示している。\n",
        " - 参考: https://bi.biopapyrus.jp/rnaseq/qc/fastq-quality-score.html\n",
        "\n"
      ]
    },
    {
      "cell_type": "markdown",
      "metadata": {
        "id": "utKC7gGYozHx"
      },
      "source": [
        "#### seqkitを使ったリードの統計情報確認\n",
        "\n",
        " 　[seqkit](https://bioinf.shenwei.me/seqkit/)というソフトウェアを使って、ペアエンドのうちRead1（ファイル名: `illumina_read1.fastq`）のリードの数やリードの長さなどの情報を確認してみましょう。\n",
        "\n",
        "```sh\n",
        "# リードの統計情報の確認\n",
        "seqkit stat 塩基配列データ\n",
        "```"
      ]
    },
    {
      "cell_type": "code",
      "execution_count": null,
      "metadata": {
        "id": "daNjIOLFPakq"
      },
      "outputs": [],
      "source": [
        "%%bash\n",
        "seqkit stat illumina_read1.fastq"
      ]
    },
    {
      "cell_type": "markdown",
      "metadata": {
        "id": "s1WJrvyJPoo4"
      },
      "source": [
        "　下のコードセルに追記して、もう一方のリード（Read2のファイル名: `illumina_read2.fastq`）の情報も確認してください。"
      ]
    },
    {
      "cell_type": "code",
      "execution_count": null,
      "metadata": {
        "id": "bUU-dZjqQAxU"
      },
      "outputs": [],
      "source": [
        "%%bash\n",
        "seqkit stat"
      ]
    },
    {
      "cell_type": "markdown",
      "metadata": {
        "id": "zFcJywQ86hQJ"
      },
      "source": [
        "### 1-2. ゲノムアセンブル\n",
        "\n",
        "　今回、[SPAdes](https://github.com/ablab/spades)というショートリードのゲノムアセンブルをおこなえるソフトウェアを使って、ショートリードを使ったゲノム配列の復元を試みてみます。\n",
        "\n",
        "　次のコードセルのプログラムで、ペアエンドショートリードのゲノムアセンブルをおこなってみてください。\n",
        "\n",
        "<img src=\"https://github.com/CropEvol/lecture/blob/master/textbook_2023/images/Assemble_figs/genome_assemble.png?raw=true\" height=\"250px\" align=\"middle\">"
      ]
    },
    {
      "cell_type": "code",
      "source": [
        "%%bash\n",
        "## ショートリードのアセンブル\n",
        "## [入力] -1 ショートリードREAD1ファイル -2 ショートリードREAD2ファイル\n",
        "## [出力] -o 出力フォルダ名\n",
        "spades.py -1 illumina_read1.fastq -2 illumina_read2.fastq -o spades_output"
      ],
      "metadata": {
        "id": "4Pz0Nw0sDe0M"
      },
      "execution_count": null,
      "outputs": []
    },
    {
      "cell_type": "markdown",
      "metadata": {
        "id": "JUwSBjlaXaqH"
      },
      "source": [
        "### 1-3. ショートリードゲノムアセンブルの結果"
      ]
    },
    {
      "cell_type": "markdown",
      "metadata": {
        "id": "0fbXrBCJ6jqj"
      },
      "source": [
        "\n",
        "　アセンブルで得られたゲノム配列（**アセンブリ、Assembly**）を確認してみましょう。Colabサーバー上の次のファイルに保存されています。\n",
        "\n",
        "/content/spades_output/scaffolds.fasta\n",
        "\n",
        "　アセンブリは、1本ではなく、複数本の配列に分かれており、元のゲノム配列を完全に再現できていません。アセンブル後の複数本に分かれた配列は **コンティグ（Contig）** と呼ばれています。\n",
        "\n",
        "<img src=\"https://github.com/CropEvol/lecture/blob/master/textbook_2023/images/Assemble_figs/contigs.png?raw=true\" height=\"100px\" align=\"middle\">\n"
      ]
    },
    {
      "cell_type": "markdown",
      "metadata": {
        "id": "KypY4SKFwX--"
      },
      "source": [
        "　seqkitを使って、コンティグの配列数や長さの情報をみてみましょう。\n",
        "\n"
      ]
    },
    {
      "cell_type": "code",
      "source": [
        "%%bash\n",
        "## アセンブルの統計情報\n",
        "## オプション「-a」を追加すると、より多くの情報を得られます\n",
        "seqkit stat -a spades_output/scaffolds.fasta"
      ],
      "metadata": {
        "id": "Tbxx5J5mk_8n"
      },
      "execution_count": null,
      "outputs": []
    },
    {
      "cell_type": "markdown",
      "source": [
        "#### アセンブルを評価する指標のひとつ「N50」\n",
        "\n",
        "　再構築したゲノム配列（アセンブリ）を評価する方法をいくつかあります。そのうちのひとつが **N50** と呼ばれる配列の長さを使った指標です。N50は、コンティグを長いものから並べて、全長の50%をカバーするときのコンティグの長さです。ゲノムの半分をその長さ以上のコンティグで再構築できていることを示している指標です。\n",
        "\n",
        "<img src=\"https://github.com/CropEvol/lecture/blob/master/textbook_2023/images/Assemble_figs/about_n50.png?raw=true\" height=\"150px\" align=\"middle\">\n"
      ],
      "metadata": {
        "id": "UKn_lolvGbT6"
      }
    },
    {
      "cell_type": "markdown",
      "source": [
        "　ショートリードで、元のゲノム配列（約250 kb）のほぼ全長を復元することができました。しかし、143本の配列に分かれており、それぞれの配列の長さも元のゲノム配列からするとまだ短い状態です。"
      ],
      "metadata": {
        "id": "Ik59Wr2_fAkc"
      }
    },
    {
      "cell_type": "markdown",
      "metadata": {
        "id": "lv3XWjNV6n1O"
      },
      "source": [
        "---\n",
        "## 2. ロングリードを使ったゲノムアセンブル\n",
        "\n",
        "　ショートリードシーケンシングは、50-300 bpの短い塩基配列を多量に得るシーケンシングです。近年、非常に長い塩基配列を得るシーケンシング技術（**ロングリードシーケンシング、Long read sequencing**）が発達してきました。Oxford Nanopore Technologies社のナノポアシーケンシングや、Pacific Biosciences社のPacBioシーケンシングがそれにあたります。\n",
        "\n",
        "　現在では、ロングリードを使ったゲノムアセンブルが最もよくおこなわれています。ここでは、ナノポアシーケンシングによるロングリードからどのようなゲノム配列を復元できるかを見ていきましょう。\n",
        "\n",
        "<img src=\"https://github.com/CropEvol/lecture/blob/master/textbook_2023/images/Assemble_figs/long_read_assemble.png?raw=true\" height=\"100px\" align=\"middle\">"
      ]
    },
    {
      "cell_type": "markdown",
      "metadata": {
        "id": "kWVdOseR6xTM"
      },
      "source": [
        "### 2-1. ロングリードを確認する\n",
        "\n",
        "　ロングリードのシーケンスデータを見てみましょう。\n",
        "\n",
        "使用するロングリード:\n",
        "- ロングリード: /content/nanopore.fastq\n",
        "- リードの量: ゲノムサイズの約8倍\n",
        "- リードの長さ: 平均の長さが約5000 bp"
      ]
    },
    {
      "cell_type": "markdown",
      "metadata": {
        "id": "tozs_Nz6mYJg"
      },
      "source": [
        "　seqkitを使って、ロングリードの統計情報も確認してみましょう。"
      ]
    },
    {
      "cell_type": "code",
      "execution_count": null,
      "metadata": {
        "id": "Ys0SaPEsmfvZ"
      },
      "outputs": [],
      "source": [
        "%%bash\n",
        "seqkit stat nanopore.fastq"
      ]
    },
    {
      "cell_type": "markdown",
      "metadata": {
        "id": "v8vctefE61Uf"
      },
      "source": [
        "### 2-2. ゲノムアセンブル\n",
        "　ロングリードを使ったアセンブルでは、ロングリード用のソフトウェア[Flye](https://github.com/fenderglass/Flye)を使って、ゲノムアセンブルを試みてみましょう。\n",
        "\n"
      ]
    },
    {
      "cell_type": "code",
      "execution_count": null,
      "metadata": {
        "id": "ymdJ8hkn5RBI"
      },
      "outputs": [],
      "source": [
        "%%bash\n",
        "## ロングリードを使ったアセンブル\n",
        "flye --scaffold --nano-raw nanopore.fastq --out-dir flye_output"
      ]
    },
    {
      "cell_type": "markdown",
      "source": [
        "### 2-3. ロングリードゲノムアセンブルの結果"
      ],
      "metadata": {
        "id": "upT-pefDgpLg"
      }
    },
    {
      "cell_type": "markdown",
      "metadata": {
        "id": "bXi2P1pn63Yy"
      },
      "source": [
        "\n",
        "　アセンブリは、次のファイルに保存されます。\n",
        "\n",
        "/content/flye_output/assembly.fasta"
      ]
    },
    {
      "cell_type": "markdown",
      "metadata": {
        "id": "kwXU5PyWuaxM"
      },
      "source": [
        "　seqkitで、アセンブリの統計情報を確認してみましょう。"
      ]
    },
    {
      "cell_type": "code",
      "execution_count": null,
      "metadata": {
        "id": "fr1XVdwztnwQ"
      },
      "outputs": [],
      "source": [
        "%%bash\n",
        "seqkit stat -a flye_output/assembly.fasta"
      ]
    },
    {
      "cell_type": "markdown",
      "source": [
        "　ロングリードを使ったゲノムアセンブルにより、ショートリードのときの結果よりも全長がやや長くなりました。全長がやや長くなっただけではなく、配列数が大幅に少なくなり、N50の値もかなり向上しました。\n",
        "\n",
        "|アセンブリ|配列数|全長|N50|\n",
        "|:--|--:|--:|--:|\n",
        "|ショートリードのアセンブリ|143|243,324 bp|11,812  bp|\n",
        "|ロングリードのアセンブリ|8|247,916  bp|56,643  bp|"
      ],
      "metadata": {
        "id": "mv1kphAXNPtW"
      }
    },
    {
      "cell_type": "markdown",
      "source": [
        "### 2-4. ショートリードとロングリードのゲノムアセンブル結果を比べる\n",
        "\n",
        "　元のゲノム配列に対して、ショートリードとロングリードのアセンブリを並べてみて、それぞれのアセンブリの特徴を見てみましょう。ある塩基配列に別の塩基配列を並べる操作を **アライメント（Alignment）** と言います。\n",
        "- ショートリードアセンブリを元のゲノム配列にアライメントする\n",
        "- ロングリードアセンブリを元のゲノム配列にアライメントする"
      ],
      "metadata": {
        "id": "e1_ShUt_g31A"
      }
    },
    {
      "cell_type": "code",
      "source": [
        "%%bash\n",
        "## ショートリードアセンブリを元のゲノム配列にアライメント\n",
        "OUTPUT=\"ShortReadAssembly\"\n",
        "REF=\"sample_genome.fa\"\n",
        "CONTIG=\"spades_output/scaffolds.fasta\"\n",
        "bash Alignment_mm2.sh $REF $OUTPUT $CONTIG\n",
        "\n",
        "## ロングリードアセンブリを元のゲノム配列にアライメント\n",
        "OUTPUT=\"LongReadAssembly\"\n",
        "REF=\"sample_genome.fa\"\n",
        "CONTIG=\"flye_output/assembly.fasta\"\n",
        "bash Alignment_mm2.sh $REF $OUTPUT $CONTIG"
      ],
      "metadata": {
        "id": "LfyO1kJQiQyN"
      },
      "execution_count": null,
      "outputs": []
    },
    {
      "cell_type": "code",
      "source": [
        "## アライメント結果をみる\n",
        "fa   = \"sample_genome.fa\"\n",
        "bam1 = \"ShortReadAssembly.bam\"\n",
        "bam2 = \"LongReadAssembly.bam\"\n",
        "\n",
        "## ---- 以下、変更不要 -----\n",
        "import igv_notebook\n",
        "from igv_prep import RefTrack, AnnotationTrack, BamTrack\n",
        "bam_common_info = { \"displayMode\":\"SQUISHED\", \"viewAsPairs\":True, \"height\":100, \"showCoverage\":False }\n",
        "igv_notebook.init()\n",
        "ref = RefTrack({ \"fastaPath\": fa, \"indexPath\": fa+\".fai\", \"id\": fa })\n",
        "aln1 = BamTrack({ \"name\": bam1, \"path\": bam1, \"height\":120, \"showCoverage\":False })\n",
        "aln2 = BamTrack({ \"name\": bam2, \"path\": bam2, \"height\":120, \"showCoverage\":False })\n",
        "b = igv_notebook.Browser(ref)\n",
        "b.load_track(aln1)\n",
        "b.load_track(aln2)\n"
      ],
      "metadata": {
        "id": "jU7HRvJwi5zA"
      },
      "execution_count": null,
      "outputs": []
    },
    {
      "cell_type": "markdown",
      "source": [
        "　ショートリードは、長さは短い（今回は150 bp）ものの、塩基の読み間違い（シーケンシングエラー）が少ないリードです。そのため、ショートリードからは、正確性の高いアセンブリを構築できます。\n",
        "\n",
        "　しかし、生物のゲノムには、同じ塩基パターンの繰り返し（リピート）や重複などを多く含まれています。ショートリードは、リード長よりも長い塩基パターンの繰り返し等に弱く、ショートリードだけでゲノムを再現するのはほぼ不可能です。\n",
        "\n",
        "<img src=\"https://github.com/CropEvol/lecture/blob/master/textbook_2023/images/Assemble_figs/short_reads_and_repeat.png?raw=true\" height=\"250px\" align=\"middle\">"
      ],
      "metadata": {
        "id": "3k5RqIR4jvtg"
      }
    },
    {
      "cell_type": "markdown",
      "source": [
        "　一方で、ロングリードは、シーケンシングエラー率が高く、構築されたコンティグの塩基が正確ではない場合があります。しかし、ショートリードの場合とは異なり、ロングリードを使ったゲノムアセンブリは、非常に長いコンティグを生成できます。そのため、リピート配列を多く含む生物のゲノムアセンブリにおいて、ロングリードは主力的な役割を果たしています。\n",
        "\n",
        "<img src=\"https://github.com/CropEvol/lecture/blob/master/textbook_2023/images/Assemble_figs/long_read_assemble2.png?raw=true\" height=\"250px\" align=\"middle\">"
      ],
      "metadata": {
        "id": "VdaNjZyAnwPA"
      }
    },
    {
      "cell_type": "markdown",
      "metadata": {
        "id": "NkMhAHXo665y"
      },
      "source": [
        "---\n",
        "## 3. ゲノム配列を改良する\n",
        "\n",
        "　リード数が多く、塩基情報が正確なショートリードと、長いコンティグを生成できるロングリードを組み合わせることで、より良いゲノム配列を得ることができます。\n",
        "\n",
        "　先ほど得られたロングリードのゲノム配列（コンティグ）には、塩基情報が不正確そうな箇所がみられます。ここでは、ショートリードでその不正確性の補正を試みてみましょう。この補正処理は **ポリッシング（Polishing）** と呼ばれています。\n",
        "\n",
        "<img src=\"https://github.com/CropEvol/lecture/blob/master/textbook_2023/images/Assemble_figs/polishing.png?raw=true\" height=\"220px\" align=\"middle\">"
      ]
    },
    {
      "cell_type": "markdown",
      "source": [
        "### 3-0. ソフトウェアのインストール"
      ],
      "metadata": {
        "id": "tGTEWaWxzzFX"
      }
    },
    {
      "cell_type": "code",
      "source": [
        "## 必要なソフトウェアをインストールする\n",
        "!apt-get install openjdk-8-jdk-headless -qq > /dev/null\n",
        "!wget -q -O tools/pilon-1.24.jar https://github.com/broadinstitute/pilon/releases/download/v1.24/pilon-1.24.jar\n",
        "!wget -q -O Polishing.sh https://github.com/CropEvol/lecture/raw/master/textbook_2025/scripts/Polishing_java.sh"
      ],
      "metadata": {
        "id": "Dr1UjQL3z0rs"
      },
      "execution_count": null,
      "outputs": []
    },
    {
      "cell_type": "markdown",
      "metadata": {
        "id": "r8yZILOtdaEG"
      },
      "source": [
        "### 3-1. ショートリードを使った補正"
      ]
    },
    {
      "cell_type": "code",
      "execution_count": null,
      "metadata": {
        "id": "MVrL9nO58Cza"
      },
      "outputs": [],
      "source": [
        "%%bash\n",
        "CONTIG=\"flye_output/assembly.fasta\"\n",
        "OUTPUT=\"assembly\"\n",
        "READ1=\"illumina_read1.fastq\"\n",
        "READ2=\"illumina_read2.fastq\"\n",
        "\n",
        "bash Polishing.sh $CONTIG $OUTPUT $READ1 $READ2"
      ]
    },
    {
      "cell_type": "markdown",
      "metadata": {
        "id": "DovQgXgldXc5"
      },
      "source": [
        "### 3-2. 補正後のゲノム配列を確認する\n",
        "\n",
        "　補正後のゲノム配列にショートリードをアライメントし、その結果をIGVで確認してみましょう。"
      ]
    },
    {
      "cell_type": "code",
      "source": [
        "%%bash\n",
        "## 補正前のアセンブリをオリジナルのゲノム配列にアライメント\n",
        "REF=\"sample_genome.fa\"\n",
        "OUTPUT1=\"LongReadAssembly\"\n",
        "CONTIG1=\"flye_output/assembly.fasta\"\n",
        "bash Alignment_mm2.sh $REF $OUTPUT1 $CONTIG1\n",
        "\n",
        "## 補正後のアセンブリをオリジナルのゲノム配列にアライメント\n",
        "OUTPUT2=\"LongReadAssembly_polished\"\n",
        "CONTIG2=\"assembly_polished.fasta\"\n",
        "bash Alignment_mm2.sh $REF $OUTPUT2 $CONTIG2"
      ],
      "metadata": {
        "id": "wIN2LHVGAcDW"
      },
      "execution_count": null,
      "outputs": []
    },
    {
      "cell_type": "code",
      "execution_count": null,
      "metadata": {
        "id": "BB_XZRUzlB1P"
      },
      "outputs": [],
      "source": [
        "## アライメント結果をみる\n",
        "fa   = \"sample_genome.fa\"\n",
        "bam1 = \"LongReadAssembly.bam\"\n",
        "bam2 = \"LongReadAssembly_polished.bam\"\n",
        "\n",
        "## ---- 以下、変更不要 -----\n",
        "import igv_notebook\n",
        "from igv_prep import RefTrack, AnnotationTrack, BamTrack\n",
        "bam_common_info = { \"displayMode\":\"SQUISHED\", \"viewAsPairs\":True, \"height\":100, \"showCoverage\":False }\n",
        "igv_notebook.init()\n",
        "ref = RefTrack({ \"fastaPath\": fa, \"indexPath\": fa+\".fai\", \"id\": fa })\n",
        "aln1 = BamTrack({ \"name\": bam1, \"path\": bam1, \"height\":120, \"showCoverage\":False })\n",
        "aln2 = BamTrack({ \"name\": bam2, \"path\": bam2, \"height\":120, \"showCoverage\":False })\n",
        "b = igv_notebook.Browser(ref)\n",
        "b.load_track(aln1)\n",
        "b.load_track(aln2)\n"
      ]
    },
    {
      "cell_type": "markdown",
      "source": [
        "　今回、ロングリードのアセンブル結果をショートリードで補正しました。そのほかにも、ロングリードをショートリードで補正し、エラーの少ないロングリードにした後にアセンブルをおこなう方法や、ショートリードのアセンブリをロングリードでより長くする方法などがあります。"
      ],
      "metadata": {
        "id": "hRoXyIhUWQy4"
      }
    },
    {
      "cell_type": "markdown",
      "metadata": {
        "id": "tlf5iwEb6_MP"
      },
      "source": [
        "---\n",
        "## まとめ\n",
        "\n",
        "　今回、ショートリードとロングリードを使ってゲノムアセンブルをおこない、ゲノム配列の復元を試みました。\n",
        "\n",
        "　ショートリードでは、正確なコンティグを得られる一方で、ゲノム全体を再現するほど充分長い配列は得られませんでした。要因としては、ゲノムに含まれるリピート配列の存在などが考えられます。\n",
        "\n",
        "　ロングリードでは、非常に長いコンティグを得ることができました。しかし、エラー率が高いリードを使ったため、部分的には塩基情報が不正確なコンティグが生成されました。\n",
        "\n",
        "　ショートリードとロングリードそれぞれの利点を活かすことで、より良いゲノム配列を構築することができます。今回の実習でも、ロングリードで得られた長いコンティグを、ショートリードの正確性で補い、高精度なゲノム配列を得ることができました。このようなロングリードとショートリードを組み合わせたゲノム解読は、現在よく使われています。\n",
        "\n",
        "<img src=\"https://github.com/CropEvol/lecture/blob/master/textbook_2023/images/Assemble_figs/major_assemble_proc.png?raw=true\" height=\"220px\" align=\"middle\">"
      ]
    },
    {
      "cell_type": "markdown",
      "metadata": {
        "id": "zE9XC61U7t72"
      },
      "source": [
        "<div align=\"right\"><a href=\"https://github.com/CropEvol/lecture#section2\">実習表ページに戻る</a></div>"
      ]
    },
    {
      "cell_type": "markdown",
      "source": [
        "#### ソフトウェアのインストールがうまくいかない場合\n",
        "　次のコードセルを実行して、別の方法でのインストールを試してみてください。"
      ],
      "metadata": {
        "id": "L9X9OF9_nDoX"
      }
    },
    {
      "cell_type": "code",
      "source": [
        "### ソフトウェアのインストール\n",
        "## igv viewer\n",
        "!pip install -q igv-notebook\n",
        "!wget -q -O igv_prep.py https://github.com/CropEvol/lecture/raw/master/textbook_2025/scripts/igv_prep.py\n",
        "## conda-env\n",
        "!pip install -q condacolab\n",
        "import condacolab\n",
        "condacolab.install_miniforge()\n",
        "## softwares\n",
        "!conda install -q -y bioconda::seqkit\n",
        "!conda install -q -y bioconda::spades\n",
        "!conda install -q -y bioconda::flye\n",
        "!conda install -q -y bioconda::minimap2\n",
        "!conda install -q -y bioconda::samtools\n",
        "!conda install -q -y bioconda::bwa\n",
        "!conda install -q -y bioconda::pilon\n",
        "## scripts\n",
        "!wget -q -O Alignment_mm2.sh https://github.com/CropEvol/lecture/raw/master/textbook_2025/scripts/Alignment_mm2.sh\n",
        "!wget -q -O Polishing.sh     https://github.com/CropEvol/lecture/raw/master/textbook_2025/scripts/Polishing.sh"
      ],
      "metadata": {
        "id": "_1LiQHG5mDX0"
      },
      "execution_count": null,
      "outputs": []
    },
    {
      "cell_type": "markdown",
      "source": [
        "#### このテキストで出力される結果ファイル\n",
        ""
      ],
      "metadata": {
        "id": "x46MXW_K4_3A"
      }
    },
    {
      "cell_type": "code",
      "source": [
        "!mkdir -p spades_output\n",
        "!mkdir -p flye_output\n",
        "!wget -q -O sample_genome.fa.fai https://github.com/CropEvol/lecture/raw/master/textbook_2025/dataset/Genome_assemble_output/sample_genome.fa.fai\n",
        "!wget -q -O spades_output/scaffolds.fasta https://github.com/CropEvol/lecture/raw/master/textbook_2025/dataset/Genome_assemble_output/spades_scaffolds.fasta\n",
        "!wget -q -O flye_output/assembly.fasta https://github.com/CropEvol/lecture/raw/master/textbook_2025/dataset/Genome_assemble_output/flye_assembly.fasta\n",
        "!wget -q -O assembly_polished.fasta https://github.com/CropEvol/lecture/raw/master/textbook_2025/dataset/Genome_assemble_output/assembly_polished.fasta\n",
        "!wget -q -O ShortReadAssembly.bam https://github.com/CropEvol/lecture/raw/master/textbook_2025/dataset/Genome_assemble_output/ShortReadAssembly.bam\n",
        "!wget -q -O LongReadAssembly.bam https://github.com/CropEvol/lecture/raw/master/textbook_2025/dataset/Genome_assemble_output/LongReadAssembly.bam\n",
        "!wget -q -O LongReadAssembly_polished.bam https://github.com/CropEvol/lecture/raw/master/textbook_2025/dataset/Genome_assemble_output/LongReadAssembly_polished.bam"
      ],
      "metadata": {
        "id": "yT3ifdgu5WqD"
      },
      "execution_count": null,
      "outputs": []
    }
  ],
  "metadata": {
    "colab": {
      "provenance": [],
      "collapsed_sections": [
        "ZhFrDmIvEsGL"
      ]
    },
    "kernelspec": {
      "display_name": "Python 3",
      "name": "python3"
    },
    "language_info": {
      "name": "python"
    }
  },
  "nbformat": 4,
  "nbformat_minor": 0
}