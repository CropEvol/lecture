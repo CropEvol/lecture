{
  "cells": [
    {
      "cell_type": "markdown",
      "metadata": {
        "id": "o0VV-_nAwkYP"
      },
      "source": [
        "<img src=\"https://github.com/CropEvol/lecture/blob/master/textbook_2025/images/logo.png?raw=true\" alt=\"2023年度ゲノム情報解析入門\" height=\"100px\" align=\"middle\">\n",
        "\n",
        "<div align=\"right\"><a href=\"https://github.com/CropEvol/lecture#section2\">実習表ページに戻る</a></div>"
      ]
    },
    {
      "cell_type": "markdown",
      "metadata": {
        "id": "vTTLw-ES7gnT"
      },
      "source": [
        "# ゲノムアセンブル\n",
        "　近年、シロイヌナズナやイネなどのようなモデル生物だけでなく、さまざまな生物でゲノム配列の整備（ゲノム解読）が進められています。解読されたゲノム配列は、進化学的研究や育種学的研究など、幅広い研究の基盤情報になります。\n",
        "\n",
        "　次世代シーケンシング（ショートリードシーケンシング）や第三世代シーケンシング（ロングリードシーケンシング）をおこなうと、元々のゲノム配列に由来する、短い塩基配列（**リード、Read**）を多数得られます。ゲノム解読は、多数の短い配列をつなぎ、元のゲノム配列を復元する試みです。その復元処理は**ゲノムアセンブル（Genome assemble）**と呼ばれています。\n",
        "\n",
        "<img src=\"https://github.com/CropEvol/lecture/blob/master/textbook_2023/images/Assemble_figs/assemble_overview.png?raw=true\" height=\"100px\" align=\"middle\">\n",
        "\n",
        "　今回の実習では、ショートリードやロングリードからゲノム配列を復元できるのかを見ていきます。また、ショートリードやロングリードの特徴についても勉強していきます。\n",
        "\n",
        "<img src=\"https://github.com/CropEvol/lecture/blob/master/textbook_2023/images/Assemble_figs/short_and_long_reads.png?raw=true\" height=\"100px\" align=\"middle\">\n",
        "\n"
      ]
    },
    {
      "cell_type": "markdown",
      "metadata": {
        "id": "hMsANIN_DuIy"
      },
      "source": [
        "### サンプルデータのダウンロード\n",
        "　この実習で使用するサンプルデータをダウンロードします。\n",
        "\n",
        "　このテキストでは、[約40 kbのゲノム配列](https://raw.githubusercontent.com/CropEvol/lecture/refs/heads/master/textbook_2025/dataset/sample_genome.fa) から仮想的に得た以下のシーケンシングデータを使用します。\n",
        "- ショートリードデータ\n",
        "  - リードの量: ゲノムサイズの約80倍\n",
        "  - リードの長さ: 各50 bp\n",
        "  - データファイル:\n",
        "    - `illumina_read1.fastq`\n",
        "    - `illumina_read2.fastq`\n",
        "- ロングリードデータ\n",
        "  - リードの量: ゲノムサイズの約10倍\n",
        "  - リードの長さ: 平均およそ3000 bp\n",
        "  - データファイル:\n",
        "    - `nanopore.fastq`\n",
        "- オリジナルのゲノム配列（復元したゲノム配列を確認するために使用）\n",
        "  - ゲノムの長さ: 約40 kb\n",
        "  - データファイル:\n",
        "    - `sample_genome.fa`\n"
      ]
    },
    {
      "cell_type": "code",
      "execution_count": null,
      "metadata": {
        "id": "y_qPMrTFjD_F"
      },
      "outputs": [],
      "source": [
        "%%bash\n",
        "wget -q -O 'assemble_dataset.sh' https://raw.githubusercontent.com/CropEvol/lecture/master/textbook_2025/scripts/assemble_dataset.sh\n",
        "bash assemble_dataset.sh\n",
        "ls | grep -e 'fastq'"
      ]
    },
    {
      "cell_type": "markdown",
      "metadata": {
        "id": "wzVhiDq8Dot6"
      },
      "source": [
        "### ソフトウェアのダウンロード\n",
        "\n",
        "　今回使用するソフトウェアとその実行プログラムをダウンロードをします。\n",
        "\n"
      ]
    },
    {
      "cell_type": "code",
      "execution_count": null,
      "metadata": {
        "id": "dhzi5VvRYqZ0"
      },
      "outputs": [],
      "source": [
        "%%bash\n",
        "wget -q -O 'assemble_softwares.sh' https://raw.githubusercontent.com/CropEvol/lecture/master/textbook_2025/scripts/assemble_softwares.sh\n",
        "bash assemble_softwares.sh\n",
        "ls tools/"
      ]
    },
    {
      "cell_type": "markdown",
      "metadata": {
        "id": "hYWWnkR5WcfY"
      },
      "source": [
        "### 今回の勉強内容\n",
        "\n",
        "1. ショートリードを使ったゲノムアセンブル\n",
        " 1. ショートリードを確認する\n",
        " 1. ゲノムアセンブル\n",
        " 1. ショートリードの特徴\n",
        "\n",
        "1. ロングリードを使ったゲノムアセンブル\n",
        " 1. ロングリードを確認する\n",
        " 1. ゲノムアセンブル\n",
        " 1. ロングリードの特徴\n",
        "\n",
        "1. ゲノム配列を改良する\n",
        "\n",
        "\n",
        "\n",
        "\n"
      ]
    },
    {
      "cell_type": "markdown",
      "metadata": {
        "id": "6chxcyq56QkM"
      },
      "source": [
        "---\n",
        "## 1. ショートリードを使ったゲノムアセンブル\n",
        "\n",
        "　ショートリードのゲノムアセンブルをおこない、ゲノムの再構築を試みてみましょう。\n",
        "\n",
        "<img src=\"https://github.com/CropEvol/lecture/blob/master/textbook_2023/images/Assemble_figs/short_read_assemble.png?raw=true\" height=\"100px\" align=\"middle\">"
      ]
    },
    {
      "cell_type": "markdown",
      "metadata": {
        "id": "l0buVRYbWoFw"
      },
      "source": [
        "### 1-1. ショートリードを確認する\n",
        "　最初に、ゲノムアセンブルに使用するショートリードデータを確認してみましょう。DNA断片の両端をシーケンシングした**ペアエンド（Paired-end）**という形のリードデータを使用します。ペアエンドのデータは、通常2つのファイルに分かれており、それらを1組のデータとして同時に扱います。\n",
        "\n",
        "使用するショートリード:\n",
        "- Read1: /content/illumina_read1.fastq\n",
        "- Read2: /content/illumina_read2.fastq\n",
        "- リードの量: ゲノムサイズの約80倍\n",
        "- リードの長さ: 各50 bp\n",
        "\n",
        "\n",
        "<img src=\"https://github.com/CropEvol/lecture/blob/master/textbook_2023/images/Assemble_figs/paired_end_reads.png?raw=true\" height=\"200px\" align=\"middle\">"
      ]
    },
    {
      "cell_type": "markdown",
      "metadata": {
        "id": "he7sl2-Xle7y"
      },
      "source": [
        "#### リードのデータファイル形式（FASTQ）\n",
        "\n",
        "　リードのデータは**FASTQ**と呼ばれる形式でファイルに保存されています。FASTQ形式では、4行で1つのリードデータの情報を表しています。\n",
        "\n",
        "```\n",
        "@リードの名前\n",
        "TGAAGCAGT..............(リードの塩基配列)\n",
        "+\n",
        "F1GCFCGGE..............(各塩基のクオリティ)\n",
        "```\n",
        "\n",
        "- 第1行（@からはじまる行）: リードの名前\n",
        "- 第2行: リードの塩基配列\n",
        "- 第3行（+からはじまる行）: 第2行と第4行の区切りのための行\n",
        "- 第4行: 各塩基配列のクオリティ（ASCIIコードで書かれている）。1文字が何らかのクオリティスコア（数値）を示している。\n",
        " - 参考: https://bi.biopapyrus.jp/rnaseq/qc/fastq-quality-score.html\n",
        "\n"
      ]
    },
    {
      "cell_type": "markdown",
      "metadata": {
        "id": "utKC7gGYozHx"
      },
      "source": [
        "#### seqkitを使ったリードの統計情報確認\n",
        "\n",
        " 　[seqkit](https://bioinf.shenwei.me/seqkit/)というソフトウェアを使って、ペアエンドのうちRead1の統計情報（リードの数やリードの長さなどの情報）を確認してみましょう。\n",
        "\n",
        "```sh\n",
        "# リードの統計情報の確認\n",
        "seqkit stat 塩基配列データ\n",
        "```"
      ]
    },
    {
      "cell_type": "code",
      "execution_count": null,
      "metadata": {
        "id": "daNjIOLFPakq"
      },
      "outputs": [],
      "source": [
        "%%bash\n",
        "seqkit stat illumina_read1.fastq"
      ]
    },
    {
      "cell_type": "markdown",
      "metadata": {
        "id": "s1WJrvyJPoo4"
      },
      "source": [
        "### 実習1-1\n",
        "\n",
        "　seqkitを使って、もう一方のリード（ペアエンドのRead2: illumina_read2.fastq）の統計情報を確認してください。"
      ]
    },
    {
      "cell_type": "code",
      "execution_count": null,
      "metadata": {
        "id": "bUU-dZjqQAxU"
      },
      "outputs": [],
      "source": [
        "%%bash\n",
        "seqkit stat"
      ]
    },
    {
      "cell_type": "markdown",
      "metadata": {
        "id": "zFcJywQ86hQJ"
      },
      "source": [
        "### 1-2. ゲノムアセンブル\n",
        "\n",
        "　今回、[Platanus](http://platanus.bio.titech.ac.jp/)というショートリードのゲノムアセンブルのためのソフトウェアを使って、ゲノム配列の復元を試みましょう。\n",
        "\n",
        "　ここでは、全ショートリードデータを使わずに、seqkitを使って70％のショートリードをランダムサンプリングして、アセンブルに使います。  \n",
        "<small>※ 実習1-2で、使用するリード量をより少なくしたり多くしたりしたときにどのような結果になるか確認してもらいます。</small>\n",
        "\n",
        "　次のコードセルのプログラムで、ペアエンドショートリードのゲノムアセンブルをおこなってみてください。\n",
        "\n",
        "<img src=\"https://github.com/CropEvol/lecture/blob/master/textbook_2023/images/Assemble_figs/genome_assemble.png?raw=true\" height=\"250px\" align=\"middle\">"
      ]
    },
    {
      "cell_type": "code",
      "execution_count": null,
      "metadata": {
        "id": "dmwGUFcsFxcm"
      },
      "outputs": [],
      "source": [
        "%%bash\n",
        "## 使用するサンプルデータの割合（0.0~1.0のあいだで変更可能）\n",
        "sampling_rate=0.7\n",
        "\n",
        "## リードをサンプリング\n",
        "seqkit sample -s 1 -p $sampling_rate illumina_read1.fastq > illumina_read1.subset.fastq\n",
        "seqkit sample -s 1 -p $sampling_rate illumina_read2.fastq > illumina_read2.subset.fastq\n",
        "## アセンブル\n",
        "bash Platanus_assemble.sh illumina_read1.subset.fastq illumina_read2.subset.fastq"
      ]
    },
    {
      "cell_type": "markdown",
      "metadata": {
        "id": "0fbXrBCJ6jqj"
      },
      "source": [
        "\n",
        "　アセンブルで得られたゲノム配列（**アセンブリ、Assembly**）を確認してみましょう。Colabサーバー上の次のファイルに保存されています。\n",
        "\n",
        "/content/platanus_output/illumina_contig.fa\n",
        "\n",
        "　アセンブリは、1本ではなく、複数本の配列に分かれており、元のゲノム配列を完全に再現できていません。アセンブル後の複数本に分かれた配列は**コンティグ（Contig）**と呼ばれています。\n",
        "\n",
        "<img src=\"https://github.com/CropEvol/lecture/blob/master/textbook_2023/images/Assemble_figs/contigs.png?raw=true\" height=\"100px\" align=\"middle\">"
      ]
    },
    {
      "cell_type": "markdown",
      "metadata": {
        "id": "KypY4SKFwX--"
      },
      "source": [
        "　seqkitを使って、コンティグの統計情報（配列数、配列の平均長、N50など）をみてみましょう。\n",
        "\n",
        "<img src=\"https://github.com/CropEvol/lecture/blob/master/textbook_2023/images/Assemble_figs/about_n50.png?raw=true\" height=\"100px\" align=\"middle\">\n"
      ]
    },
    {
      "cell_type": "code",
      "execution_count": null,
      "metadata": {
        "id": "Dxr3tDcxwgR9"
      },
      "outputs": [],
      "source": [
        "%%bash\n",
        "## オプション「-a」を追加すると、N50を含む情報を得られる\n",
        "seqkit stat -a /content/platanus_output/illumina_contig.fa"
      ]
    },
    {
      "cell_type": "markdown",
      "metadata": {
        "id": "qIAQXPxJOUOO"
      },
      "source": [
        "### 実習1-2\n",
        "　使用するリードの量（`sampling_rate`に与える数値）を変更して、アセンブル結果がどのように変わるか確認してください。\n",
        "\n",
        "例:  \n",
        "- `sampling_rate=0.5`にする\n",
        "- `sampling_rate=1.0`にする"
      ]
    },
    {
      "cell_type": "code",
      "execution_count": null,
      "metadata": {
        "id": "Hv1EOuxRJ8kD"
      },
      "outputs": [],
      "source": [
        "%%bash\n",
        "## 使用するサンプルデータの割合（0.0~1.0のあいだで変更可能）\n",
        "sampling_rate=0.7\n",
        "\n",
        "## リードをサンプリング\n",
        "seqkit sample -s 1 -p $sampling_rate illumina_read1.fastq > illumina_read1.subset.fastq 2>/dev/null\n",
        "seqkit sample -s 1 -p $sampling_rate illumina_read2.fastq > illumina_read2.subset.fastq 2>/dev/null\n",
        "## アセンブル\n",
        "bash Platanus_assemble.sh illumina_read1.subset.fastq illumina_read2.subset.fastq 2>/dev/null\n",
        "## アセンブルの統計情報\n",
        "seqkit stat -a /content/platanus_output/illumina_contig.fa"
      ]
    },
    {
      "cell_type": "markdown",
      "metadata": {
        "id": "-VoLczbib4qa"
      },
      "source": [
        "### 補足: リードの量とアセンブル結果"
      ]
    },
    {
      "cell_type": "markdown",
      "metadata": {
        "id": "w9KOqBbvb7bD"
      },
      "source": [
        "　実習1-2で見てもらったとおり、ゲノムアセンブルではリードの量が多いほど良いアセンブル結果が得られます。しかし、過剰にリード量を増やしたところで、下図のとおりある程度のところで頭打ちになってしまいます。\n",
        "\n",
        "　必要なリードの量は、解析する対象の生物のゲノムサイズや倍数性などにも依存します。ショートリードでゲノムアセンブルする場合、ゲノムサイズの100倍以上のリードデータを使用することがほとんどです。\n",
        "\n",
        "<img src=\"https://github.com/CropEvol/lecture/blob/master/textbook_2025/images/Assemble_figs/sampling_rate.png?raw=true\" height=\"250px\" align=\"middle\">"
      ]
    },
    {
      "cell_type": "markdown",
      "metadata": {
        "id": "m9cfVRIEDdzn"
      },
      "source": [
        "### 1-3 ショートリードの特徴\n",
        "\n",
        "　オリジナルのゲノム配列に対して、ショートリードとアセンブリを並べてみて、ショートリードやそれから作られるアセンブリの特徴を見てみましょう。なお、ゲノム配列にリード等の塩基配列を並べる操作を **アライメント（Alignment）** と言います。\n",
        "\n",
        "<img src=\"https://github.com/CropEvol/lecture/blob/master/textbook_2023/images/Assemble_figs/short_read_alignment.png?raw=true\" height=\"250px\" align=\"middle\">"
      ]
    },
    {
      "cell_type": "code",
      "execution_count": null,
      "metadata": {
        "id": "F3XqsDDG3yvn"
      },
      "outputs": [],
      "source": [
        "%%bash\n",
        "## アセンブリをオリジナルのゲノム配列にアライメント\n",
        "OUTPUT=\"illumina_assembly\"\n",
        "REF=\"sample_genome.fa\"\n",
        "CONTIG=\"/content/platanus_output/illumina_contig.fa\"\n",
        "bash Alignment_mm2.sh $REF $OUTPUT $CONTIG\n",
        "\n",
        "## ショートリードをオリジナルのゲノム配列にアライメント\n",
        "OUTPUT=\"illumina_alignment\"\n",
        "REF=\"sample_genome.fa\"\n",
        "READ1=\"illumina_read1.subset.fastq\"\n",
        "READ2=\"illumina_read2.subset.fastq\"\n",
        "bash Alignment_bwa.sh $REF $OUTPUT $READ1 $READ2\n"
      ]
    },
    {
      "cell_type": "code",
      "execution_count": null,
      "metadata": {
        "id": "z4koTbTLjEPJ"
      },
      "outputs": [],
      "source": [
        "## アライメント結果をみる\n",
        "fa   = \"sample_genome.fa\"       #オリジナルのゲノム配列\n",
        "bam1 = \"illumina_assembly.bam\"  #アセンブリのアライメント結果\n",
        "bam2 = \"illumina_alignment.bam\" #ショートリードのアライメント結果\n",
        "\n",
        "## ---- 以下、変更不要 -----\n",
        "import igv_notebook\n",
        "from igv_prep import RefTrack, AnnotationTrack, BamTrack\n",
        "bam_common_info = { \"displayMode\":\"SQUISHED\", \"viewAsPairs\":True, \"height\":100, \"showCoverage\":False }\n",
        "igv_notebook.init()\n",
        "ref = RefTrack({ \"fastaPath\": fa, \"indexPath\": fa+\".fai\", \"id\": fa })\n",
        "aln1 = BamTrack({ \"name\": bam1, \"path\": bam1, \"height\":120 })\n",
        "aln2 = BamTrack({ \"name\": bam2, \"path\": bam2, \"viewAsPairs\":True })\n",
        "b = igv_notebook.Browser(ref)\n",
        "b.load_track(aln1)\n",
        "b.load_track(aln2)"
      ]
    },
    {
      "cell_type": "markdown",
      "metadata": {
        "id": "JUwSBjlaXaqH"
      },
      "source": [
        "### ショートリードゲノムアセンブルのまとめ\n",
        "\n",
        "　ショートリードシーケンシングは、非常に多数の短い配列（リード）を得られます。塩基の読み間違いも少ない（シーケンシングエラー率も低い）です。\n",
        "\n",
        "　生物のゲノムは、同じ塩基パターンの繰り返し（リピート）などを多く含んでいます。\n",
        "ショートリードは、リード長よりも長いリピート配列に弱く、ショートリードだけでゲノムを再現するのはほぼ不可能です。データ量を増やしても、完全に再現できることはなく、どこかで頭打ちになります。一方で、ショートリードの強みは、シーケンシングエラーが少ないことです。そのため、精度の高い配列情報が得られます。\n",
        "\n",
        "<small>※ロングリードに比べて、塩基あたりのシーケンシングコストがかなり低く、1回のシーケンシングで多量の塩基配列を得られることも強みです。</small>\n",
        "\n",
        "<img src=\"https://github.com/CropEvol/lecture/blob/master/textbook_2023/images/Assemble_figs/short_reads_and_repeat.png?raw=true\" height=\"250px\" align=\"middle\">"
      ]
    },
    {
      "cell_type": "markdown",
      "metadata": {
        "id": "lv3XWjNV6n1O"
      },
      "source": [
        "---\n",
        "## 2. ロングリードを使ったゲノムアセンブル\n",
        "\n",
        "　ショートリードシーケンシングは、50-300 bpの短い塩基配列を多量に得るシーケンシングです。近年、非常に長い塩基配列を得るシーケンシング技術（**ロングリードシーケンシング、Long read sequencing**）が発達してきました。Oxford Nanopore Technologies社のナノポアシーケンシングや、Pacific Biosciences社のPacBioシーケンシングがそれにあたります。\n",
        "\n",
        "　現在では、ロングリードを使ったゲノムアセンブルが最もよくおこなわれています。ここでは、ナノポアシーケンシングによるロングリードからどのようなゲノム配列を復元できるかを見ていきましょう。\n",
        "\n",
        "<img src=\"https://github.com/CropEvol/lecture/blob/master/textbook_2023/images/Assemble_figs/long_read_assemble.png?raw=true\" height=\"100px\" align=\"middle\">"
      ]
    },
    {
      "cell_type": "markdown",
      "metadata": {
        "id": "kWVdOseR6xTM"
      },
      "source": [
        "### 2-1. ロングリードを確認する\n",
        "\n",
        "　ロングリードのシーケンスデータを見てみましょう。\n",
        "\n",
        "使用するロングリード:\n",
        "- ロングリード: /content/nanopore.fastq\n",
        "- リードの量: ゲノムサイズの約10倍\n",
        "- リードの長さ: 平均の長さが約3000 bp"
      ]
    },
    {
      "cell_type": "markdown",
      "metadata": {
        "id": "tozs_Nz6mYJg"
      },
      "source": [
        "　seqkitを使って、ロングリードの統計情報も確認してみましょう。"
      ]
    },
    {
      "cell_type": "code",
      "execution_count": null,
      "metadata": {
        "id": "Ys0SaPEsmfvZ"
      },
      "outputs": [],
      "source": [
        "%%bash\n",
        "seqkit stat nanopore.fastq"
      ]
    },
    {
      "cell_type": "markdown",
      "metadata": {
        "id": "v8vctefE61Uf"
      },
      "source": [
        "### 2-2. ゲノムアセンブル\n",
        "　ロングリードを使ったアセンブルでは、ロングリード用のソフトウェア[Flye](https://github.com/fenderglass/Flye)を使って、ゲノムアセンブルを試みてみましょう。\n",
        "\n",
        "　ここでは、全ロングリードの内、70%のリードのみを使ってアセンブルしてみます。\n",
        "\n",
        "<small>※ 実習2で、全ロングリードを使ったアセンブルをおこないます。</small>\n",
        "\n"
      ]
    },
    {
      "cell_type": "code",
      "execution_count": null,
      "metadata": {
        "id": "ymdJ8hkn5RBI"
      },
      "outputs": [],
      "source": [
        "%%bash\n",
        "## 使用するサンプルデータの割合（0.0~1.0のあいだで変更可能）\n",
        "sampling_rate=0.7\n",
        "## リードをサンプリング\n",
        "seqkit sample -s 1 -p $sampling_rate nanopore.fastq > nanopore.subset.fastq 2>/dev/null\n",
        "## アセンブル\n",
        "bash Flye_assemble.sh nanopore.subset.fastq"
      ]
    },
    {
      "cell_type": "markdown",
      "metadata": {
        "id": "bXi2P1pn63Yy"
      },
      "source": [
        "\n",
        "　アセンブリは、次のファイルに保存されます。\n",
        "\n",
        "/content/flye_output/assembly.fasta"
      ]
    },
    {
      "cell_type": "markdown",
      "metadata": {
        "id": "kwXU5PyWuaxM"
      },
      "source": [
        "　seqkitで、アセンブリの統計情報を確認してみましょう。"
      ]
    },
    {
      "cell_type": "code",
      "execution_count": null,
      "metadata": {
        "id": "fr1XVdwztnwQ"
      },
      "outputs": [],
      "source": [
        "%%bash\n",
        "seqkit stat -a /content/flye_output/assembly.fasta"
      ]
    },
    {
      "cell_type": "markdown",
      "metadata": {
        "id": "cJOs-kvnFSBL"
      },
      "source": [
        "### 実習2\n",
        "　使用するリードの量を`sampling_rate=1.0`に変更して、ゲノムアセンブル結果を確認してください。"
      ]
    },
    {
      "cell_type": "code",
      "execution_count": null,
      "metadata": {
        "id": "45FveR7nFQkz"
      },
      "outputs": [],
      "source": [
        "%%bash\n",
        "## 使用するサンプルデータの割合（0.0~1.0のあいだで変更可能）\n",
        "sampling_rate=0.7\n",
        "## リードをサンプリング\n",
        "seqkit sample -s 1 -p $sampling_rate nanopore.fastq > nanopore.subset.fastq 2>/dev/null\n",
        "## アセンブル\n",
        "bash Flye_assemble.sh nanopore.subset.fastq 2>/dev/null\n",
        "## アセンブルの統計情報\n",
        "seqkit stat -a /content/flye_output/assembly.fasta"
      ]
    },
    {
      "cell_type": "markdown",
      "metadata": {
        "id": "HtUoV4fru5VQ"
      },
      "source": [
        "### 2-3. ロングリードの特徴\n",
        "　オリジナルのゲノム配列に、ロングリードやアセンブリをアライメントし、それらの特徴を見てみましょう。"
      ]
    },
    {
      "cell_type": "code",
      "execution_count": null,
      "metadata": {
        "id": "zZrxD7VE4ZCb"
      },
      "outputs": [],
      "source": [
        "%%bash\n",
        "## アセンブリをオリジナルのゲノム配列にアライメント\n",
        "OUTPUT=\"nanopore_assembly\"\n",
        "REF=\"sample_genome.fa\"\n",
        "CONTIG=\"/content/flye_output/assembly.fasta\"\n",
        "bash Alignment_mm2.sh $REF $OUTPUT $CONTIG\n",
        "s\n",
        "## ロングリードをオリジナルのゲノム配列にアライメント\n",
        "OUTPUT=\"nanopore_alignment\"\n",
        "REF=\"sample_genome.fa\"\n",
        "READ=\"nanopore.subset.fastq\"\n",
        "bash Alignment_bwa.sh $REF $OUTPUT $READ\n"
      ]
    },
    {
      "cell_type": "code",
      "execution_count": null,
      "metadata": {
        "id": "YW5lFTnMkm37"
      },
      "outputs": [],
      "source": [
        "## アライメント結果をみる\n",
        "fa   = \"sample_genome.fa\"        #オリジナルのゲノム配列\n",
        "bam1 = \"nanopore_assembly.bam\"   #アセンブリのアライメント結果\n",
        "bam2 = \"nanopore_alignment.bam\"  #ロングリードのアライメント結果\n",
        "\n",
        "## ---- 以下、変更不要 -----\n",
        "import igv_notebook\n",
        "from igv_prep import RefTrack, AnnotationTrack, BamTrack\n",
        "bam_common_info = { \"displayMode\":\"SQUISHED\", \"viewAsPairs\":True, \"height\":100, \"showCoverage\":False }\n",
        "igv_notebook.init()\n",
        "ref = RefTrack({ \"fastaPath\": fa, \"indexPath\": fa+\".fai\", \"id\": fa })\n",
        "aln1 = BamTrack({ \"name\": bam1, \"path\": bam1, \"height\":120 })\n",
        "aln2 = BamTrack({ \"name\": bam2, \"path\": bam2, \"viewAsPairs\":True })\n",
        "b = igv_notebook.Browser(ref)\n",
        "b.load_track(aln1)\n",
        "b.load_track(aln2)\n"
      ]
    },
    {
      "cell_type": "markdown",
      "metadata": {
        "id": "k0CbdndBXHpc"
      },
      "source": [
        "### ロングリードゲノムアセンブリのまとめ\n",
        "\n",
        "　ロングリードは、シーケンシングエラー率が高く、構築されたコンティグの塩基が正確ではない場合があります。しかし、ショートリードの場合とは異なり、ロングリードを使ったゲノムアセンブリは、非常に長いコンティグを生成できます。そのため、リピート配列を多く含む生物のゲノムアセンブリにおいて、ロングリードは主力的な役割を果たしています。\n",
        "\n",
        "<img src=\"https://github.com/CropEvol/lecture/blob/master/textbook_2023/images/Assemble_figs/long_read_assemble2.png?raw=true\" height=\"250px\" align=\"middle\">"
      ]
    },
    {
      "cell_type": "markdown",
      "metadata": {
        "id": "NkMhAHXo665y"
      },
      "source": [
        "---\n",
        "## 3. ゲノム配列を改良する\n",
        "\n",
        "　リード数が多く、塩基情報が正確なショートリードと、長いコンティグを生成できるロングリードを組み合わせることで、より良いゲノム配列を得ることができます。\n",
        "\n",
        "　先ほど得られたロングリードのゲノム配列（コンティグ）には、塩基情報が不正確そうな箇所がみられます。ここでは、ショートリードでその不正確性の補正を試みてみましょう。この補正処理は **ポリッシング（Polishing）** と呼ばれています。\n",
        "\n",
        "<img src=\"https://github.com/CropEvol/lecture/blob/master/textbook_2023/images/Assemble_figs/polishing.png?raw=true\" height=\"220px\" align=\"middle\">"
      ]
    },
    {
      "cell_type": "markdown",
      "metadata": {
        "id": "r8yZILOtdaEG"
      },
      "source": [
        "### ショートリードを使った補正"
      ]
    },
    {
      "cell_type": "code",
      "execution_count": null,
      "metadata": {
        "id": "MVrL9nO58Cza"
      },
      "outputs": [],
      "source": [
        "%%bash\n",
        "CONTIG=\"/content/flye_output/assembly.fasta\"\n",
        "OUTPUT=\"assembly\"\n",
        "READ1=\"illumina_read1.fastq\"\n",
        "READ2=\"illumina_read2.fastq\"\n",
        "\n",
        "bash Polishing.sh $CONTIG $OUTPUT $READ1 $READ2"
      ]
    },
    {
      "cell_type": "markdown",
      "metadata": {
        "id": "DovQgXgldXc5"
      },
      "source": [
        "### 補正後のゲノム配列を確認する\n",
        "\n",
        "　補正後のゲノム配列にショートリードをアライメントし、その結果をIGVで確認してみましょう。"
      ]
    },
    {
      "cell_type": "code",
      "execution_count": null,
      "metadata": {
        "id": "wIN2LHVGAcDW"
      },
      "outputs": [],
      "source": [
        "%%bash\n",
        "## 補正前のアセンブリをオリジナルのゲノム配列にアライメント\n",
        "REF=\"sample_genome.fa\"\n",
        "OUTPUT1=\"nanopore_assembly\"\n",
        "CONTIG1=\"/content/flye_output/assembly.fasta\"\n",
        "bash Alignment_mm2.sh $REF $OUTPUT1 $CONTIG1\n",
        "\n",
        "## 補正後のアセンブリをオリジナルのゲノム配列にアライメント\n",
        "OUTPUT2=\"nanopore_assembly_polished\"\n",
        "CONTIG2=\"/content/assembly_polished.fasta\"\n",
        "bash Alignment_mm2.sh $REF $OUTPUT2 $CONTIG2"
      ]
    },
    {
      "cell_type": "code",
      "execution_count": null,
      "metadata": {
        "id": "BB_XZRUzlB1P"
      },
      "outputs": [],
      "source": [
        "## アライメント結果をみる\n",
        "fa   = \"sample_genome.fa\"\n",
        "bam1 = \"nanopore_assembly.bam\"\n",
        "bam2 = \"nanopore_assembly_polished.bam\"\n",
        "\n",
        "## ---- 以下、変更不要 -----\n",
        "import igv_notebook\n",
        "from igv_prep import RefTrack, AnnotationTrack, BamTrack\n",
        "bam_common_info = { \"displayMode\":\"SQUISHED\", \"viewAsPairs\":True, \"height\":100, \"showCoverage\":False }\n",
        "igv_notebook.init()\n",
        "ref = RefTrack({ \"fastaPath\": fa, \"indexPath\": fa+\".fai\", \"id\": fa })\n",
        "aln1 = BamTrack({ \"name\": bam1, \"path\": bam1, \"height\":120 })\n",
        "aln2 = BamTrack({ \"name\": bam2, \"path\": bam2, \"height\":120 })\n",
        "b = igv_notebook.Browser(ref)\n",
        "b.load_track(aln1)\n",
        "b.load_track(aln2)\n"
      ]
    },
    {
      "cell_type": "markdown",
      "metadata": {
        "id": "hRoXyIhUWQy4"
      },
      "source": [
        "　今回、ロングリードのアセンブル結果をショートリードで補正しました。そのほかにも、ロングリードをショートリードで補正し、エラーの少ないロングリードにした後にアセンブルをおこなう方法や、ショートリードのアセンブリをロングリードでより長くする方法などがあります。"
      ]
    },
    {
      "cell_type": "markdown",
      "metadata": {
        "id": "tlf5iwEb6_MP"
      },
      "source": [
        "---\n",
        "## まとめ\n",
        "\n",
        "　今回、ショートリードとロングリードを使ってゲノムアセンブルをおこない、ゲノム配列の復元を試みました。\n",
        "\n",
        "　ショートリードでは、正確なコンティグを得られる一方で、ゲノム全体を再現するほど充分長い配列は得られませんでした。要因としては、ゲノムに含まれるリピート配列の存在などが考えられます。\n",
        "\n",
        "　ロングリードでは、非常に長いコンティグを得ることができました。しかし、エラー率が高いリードを使ったため、部分的には塩基情報が不正確なコンティグが生成されました。\n",
        "\n",
        "　ショートリードとロングリードそれぞれの利点を活かすことで、より良いゲノム配列を構築することができます。今回の実習でも、ロングリードで得られた長いコンティグを、ショートリードの正確性で補い、高精度なゲノム配列を得ることができました。このようなロングリードとショートリードを組み合わせたゲノム解読は、現在よく使われています。\n",
        "\n",
        "<img src=\"https://github.com/CropEvol/lecture/blob/master/textbook_2023/images/Assemble_figs/major_assemble_proc.png?raw=true\" height=\"220px\" align=\"middle\">"
      ]
    },
    {
      "cell_type": "markdown",
      "metadata": {
        "id": "zE9XC61U7t72"
      },
      "source": [
        "<div align=\"right\"><a href=\"https://github.com/CropEvol/lecture#section2\">実習表ページに戻る</a></div>"
      ]
    }
  ],
  "metadata": {
    "colab": {
      "collapsed_sections": [
        "-VoLczbib4qa"
      ],
      "provenance": [],
      "toc_visible": true
    },
    "kernelspec": {
      "display_name": "Python 3",
      "name": "python3"
    },
    "language_info": {
      "name": "python"
    }
  },
  "nbformat": 4,
  "nbformat_minor": 0
}
