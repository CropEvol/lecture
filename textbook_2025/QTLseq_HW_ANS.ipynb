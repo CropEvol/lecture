{
  "cells": [
    {
      "cell_type": "markdown",
      "metadata": {
        "id": "xrEcu23sU8EV"
      },
      "source": [
        "<img src=\"https://github.com/CropEvol/lecture/blob/master/textbook_2025/images/logo.png?raw=true\" alt=\"2023年度ゲノム情報解析入門\" height=\"100px\" align=\"middle\">\n",
        "\n",
        "<div align=\"right\"><a href=\"https://github.com/CropEvol/lecture#section2\">実習表ページに戻る</a></div>"
      ]
    },
    {
      "cell_type": "markdown",
      "metadata": {
        "id": "l4GqxbsKdtM-"
      },
      "source": [
        "第7回（11月14日）の課題　　解答例\n",
        "QTL-seq解析\n",
        "---\n",
        "\n",
        "　下記の課題1~2に取り組み後、ページを保存し、このページの共有リンクをPandAの回答フォームに貼り付けてください。\n",
        "\n",
        "共有リンクのコピーの仕方：\n",
        "1. 画面右上の「共有」をクリックする\n",
        "1. 一般的なアクセスを「リンクを知っている全員」に変更する\n",
        "1. 「リンクをコピー」をクリックする\n",
        "\n",
        "PandA課題ページ: https://panda.ecs.kyoto-u.ac.jp/portal/directtool/e9c6f0e3-d857-460d-b477-c30898c69275/"
      ]
    },
    {
      "cell_type": "markdown",
      "metadata": {
        "id": "estCp8V2YvX3"
      },
      "source": [
        "---\n",
        "　課題をはじめる前に、次のコードセルを一度実行してください。サンプルファイルのダウンロードと読み込み、グラフ描画用関数の準備がおこなわれます。\n",
        "\n"
      ]
    },
    {
      "cell_type": "code",
      "execution_count": null,
      "metadata": {
        "id": "5JVjYX-RB0cz"
      },
      "outputs": [],
      "source": [
        "#########################\n",
        "##  実習の前に実行してください。 ##\n",
        "#########################\n",
        "## サンプルファイルのダウンロードと読み込み\n",
        "!wget -q -O wheat_qtlseq_dataset.csv https://github.com/CropEvol/lecture/raw/master/textbook_2025/dataset/wheat_qtlseq_dataset.csv\n",
        "import pandas as pd\n",
        "df = pd.read_csv(\"wheat_qtlseq_dataset.csv\")\n",
        "display(df)   # 表示\n",
        "\n",
        "## グラフ描画用の関数\n",
        "import matplotlib.pyplot as plt\n",
        "import matplotlib as mpl\n",
        "import seaborn as sns\n",
        "mpl.style.use('seaborn-v0_8-darkgrid')\n",
        "def draw_QTLseq(data, window_size=20, fs=20, lw=4, a=0.3):\n",
        "    ## グラフ用データ\n",
        "    x = data[\"pos\"]    # x座標データ: POS\n",
        "    y1= data[\"bulk1\"]  # サブグラフ1のy座標データ: Bulk1 SNP-index\n",
        "    y2= data[\"bulk2\"]  # サブグラフ2のy座標データ: Bulk2 SNP-index\n",
        "    y3= data[\"delta\"]  # サブグラフ3のy座標データ: delta SNP-index\n",
        "    win_x = x.rolling(window_size).mean()   # POS移動平均\n",
        "    win_y1= y1.rolling(window_size).mean() # Bulk1 SNP-index移動平均\n",
        "    win_y2= y2.rolling(window_size).mean() # Bulk2 SNP-index移動平均\n",
        "    win_y3= y3.rolling(window_size).mean() # delta SNP-index移動平均\n",
        "\n",
        "    ## グラフ設定\n",
        "    fig = plt.figure(figsize=[12, 8])\n",
        "    ax1 = fig.add_subplot(3,1,1) # サブグラフ1\n",
        "    ax2 = fig.add_subplot(3,1,2) # サブグラフ2\n",
        "    ax3 = fig.add_subplot(3,1,3) # サブグラフ3\n",
        "    ## サブグラフ1（Bulk1のグラフ）\n",
        "    ax1.scatter(x, y1, c=\"#636EFA\", alpha=a)\n",
        "    ax1.plot(win_x, win_y1, c=\"#EF553B\", linewidth=lw)\n",
        "    ax1.set_ylabel(\"SNP-index\\nof Bulk1\", fontsize=fs)\n",
        "    ax1.tick_params(labelsize=fs)\n",
        "    ax1.set_ylim([-0.1, 1.1])\n",
        "    ## サブグラフ2（Bulk2のグラフ）\n",
        "    ax2.scatter(x, y2, c=\"#00CC96\", alpha=a)\n",
        "    ax2.plot(win_x, win_y2, c=\"#AB63FA\", linewidth=lw)\n",
        "    ax2.set_ylabel(\"SNP-index\\nof Bulk2\", fontsize=fs)\n",
        "    ax2.tick_params(labelsize = fs)\n",
        "    ax2.set_ylim([-0.1, 1.1])\n",
        "    ## サブグラフ3（delta-indexのグラフ）\n",
        "    ax3.scatter(x, y3, c=\"#FFA15A\", alpha=a)\n",
        "    ax3.plot(win_x, win_y3, c=\"#19D3F3\", linewidth=lw)\n",
        "    ax3.set_xlabel(\"Position (Mb)\", fontsize=fs)\n",
        "    ax3.set_ylabel(\"delta of\\nSNP-index\", fontsize=fs)\n",
        "    ax3.tick_params(labelsize = fs)\n",
        "    ax3.set_ylim([-1.1, 1.1])\n",
        "    plt.tight_layout()\n",
        "    plt.show()"
      ]
    },
    {
      "cell_type": "markdown",
      "metadata": {
        "id": "Mti1FJx4ILiW"
      },
      "source": [
        "## サンプルファイルについて\n",
        "\n",
        "　この課題で使用するサンプルファイルは、二倍体コムギの「穂が短い系統A」と「穂が長い系統B」を交配して得られた分離集団のQTL-seqのSNPデータセットです。\n",
        "\n",
        "<img src=\"https://github.com/CropEvol/lecture/blob/master/textbook_2022/images/wheat_qtlseq_dataset.png?raw=true\" alt=\"wheat_qtlseq_dataset\" height=\"250px\" align=\"middle\">\n",
        "\n",
        "それぞれの列情報は次の通りです。\n",
        "- SNP位置情報:\n",
        "  - `CHROM`: 染色体名（今回はchr5という名前の染色体のみ）\n",
        "  - `POS`: 染色体上の塩基場所\n",
        "- SNP塩基情報:\n",
        "  - `REF`: 参照配列上の塩基（系統Bの塩基）\n",
        "  - `ALT`: 対立塩基（系統Aの塩基に相当する）\n",
        "- Bulk1のSNPアリル情報:\n",
        "  - Bulk1は、系統Aと同じ形質（穂が短い）をもつF2個体のバルク\n",
        "  - `Bulk1_REF`: Bulk1リード内の`REF`塩基の個数\n",
        "  - `Bulk1_ALT`: Bulk1リード内の`ALT`塩基の個数\n",
        "- Bulk2のSNPアリル情報:\n",
        "  - Bulk2は、系統Bと同じ形質（穂が長い）をもつF2個体のバルク\n",
        "  - `Bulk2_REF`: Bulk2リード内の`REF`塩基の個数\n",
        "  - `Bulk2_ALT`: Bulk2リード内の`ALT`塩基の個数"
      ]
    },
    {
      "cell_type": "markdown",
      "metadata": {
        "id": "iMenqmOheCQ5"
      },
      "source": [
        "# 課題1\n",
        "\n",
        "　次のコードセルの3行目と4行目に、各バルクのSNP-indexを算出するコードを追記して実行し、SNP-indexのグラフを描画してください。\n",
        "\n",
        "<img src=\"https://github.com/CropEvol/lecture/blob/master/textbook_2022/images/calculate_snp_index_of_bulk1.png?raw=true\" alt=\"calculate_snp_index\" height=\"60px\" align=\"middle\">\n",
        "\n",
        "<img src=\"https://github.com/CropEvol/lecture/blob/master/textbook_2022/images/calculate_snp_index_of_bulk2.png?raw=true\" alt=\"calculate_snp_index\" height=\"60px\" align=\"middle\">"
      ]
    },
    {
      "cell_type": "code",
      "execution_count": null,
      "metadata": {
        "id": "PVhGu1S2LvQn"
      },
      "outputs": [],
      "source": [
        "## SNP-index算出\n",
        "##\n",
        "## -------追記箇所 ---------------------------\n",
        "bulk1_index = df[\"Bulk1_ALT\"] / (df[\"Bulk1_REF\"] + df[\"Bulk1_ALT\"])\n",
        "bulk2_index = df[\"Bulk2_ALT\"] / (df[\"Bulk2_REF\"] + df[\"Bulk2_ALT\"])\n",
        "## ----------------------------------------------\n",
        "delta_index = bulk1_index - bulk2_index\n",
        "position = df[\"POS\"] / 1000000   # Mbp単位に変換\n",
        "data = {\"pos\": position, \"bulk1\": bulk1_index, \"bulk2\": bulk2_index, \"delta\": delta_index}\n",
        "## グラフ描画（散布図と移動平均）\n",
        "draw_QTLseq(data)"
      ]
    },
    {
      "cell_type": "markdown",
      "metadata": {
        "id": "60wDC-7iCMVo"
      },
      "source": [
        "# 課題2\n",
        "\n",
        "　課題1の結果から、どこに原因遺伝子があると考えられるでしょうか？\n"
      ]
    },
    {
      "cell_type": "code",
      "execution_count": null,
      "metadata": {
        "id": "Bw9pgW0DRz1v"
      },
      "outputs": [],
      "source": [
        "#@title { vertical-output: true, display-mode: \"form\" }\n",
        "Answer = \"780 Mb\\u5468\\u8FBA\\u3002Bulk1\\u306ESNP-index\\u304C1.0\\u306B\\u8FD1\\u304F\\u3001\\u304B\\u3064\\u3001Bulk2\\u306ESNP-index\\u304C0.0\\u306B\\u8FD1\\u3044\\uFF08SNP-index\\u306E\\u5DEE\\u5206(delta)\\u304C1.0\\u306B\\u8FD1\\u3044\\uFF09\\u30B2\\u30CE\\u30E0\\u9818\\u57DF\\u306B\\u539F\\u56E0\\u907A\\u4F1D\\u5B50\\u304C\\u3042\\u308B\\u3002\" #@param {type:\"string\"}"
      ]
    },
    {
      "cell_type": "markdown",
      "metadata": {
        "id": "e7If5WFUaAWa"
      },
      "source": [
        "\n",
        "<div align=\"right\"><a href=\"https://github.com/CropEvol/lecture#section2\">実習表ページに戻る</a></div>"
      ]
    }
  ],
  "metadata": {
    "colab": {
      "provenance": []
    },
    "kernelspec": {
      "display_name": "Python 3",
      "name": "python3"
    },
    "language_info": {
      "name": "python"
    }
  },
  "nbformat": 4,
  "nbformat_minor": 0
}
