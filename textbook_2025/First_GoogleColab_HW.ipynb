{
  "cells": [
    {
      "cell_type": "markdown",
      "metadata": {
        "id": "xrEcu23sU8EV"
      },
      "source": [
        "<img src=\"https://github.com/CropEvol/lecture/blob/master/textbook_2025/images/logo.png?raw=true\" alt=\"2024年度ゲノム情報解析入門\" height=\"100px\" align=\"middle\">\n",
        "\n",
        "<div align=\"right\"><a href=\"https://github.com/CropEvol/lecture#section2\">実習表ページに戻る</a></div>"
      ]
    },
    {
      "cell_type": "markdown",
      "metadata": {
        "id": "l4GqxbsKdtM-"
      },
      "source": [
        "# Google Colaboratoryの使い方（課題）\n",
        "---\n",
        "\n",
        "実習テキスト:  \n",
        "https://colab.research.google.com/github/CropEvol/lecture/blob/master/textbook_2025/First_GoogleColab.ipynb#scrollTo=QXO1SVH8wTb5\n",
        "\n",
        "PandA課題ページ:  \n",
        "https://panda.ecs.kyoto-u.ac.jp/portal/directtool/2975887c-2d81-416a-a62f-d63afced9fed/"
      ]
    },
    {
      "cell_type": "markdown",
      "metadata": {
        "id": "spKeLdhEe7Cu"
      },
      "source": [
        "## 課題1 プログラムの実行\n",
        "\n",
        "　次のコードセルのプログラムを実行してください。"
      ]
    },
    {
      "cell_type": "code",
      "execution_count": null,
      "metadata": {
        "id": "WwSA8bJye6Sk"
      },
      "outputs": [],
      "source": [
        "dna_sequence = \"AGTTCAACGTTAGCATGAATCATGTTCAAGCCATGTCTATCTTGATCTCAACCTTCCACCATGGCAAGATTCCTTCTGCTATCGATC\"\n",
        "dna_length = len(dna_sequence) #塩基の長さ\n",
        "num_G = dna_sequence.count(\"G\") #塩基Gの個数\n",
        "num_C = dna_sequence.count(\"C\") #塩基Cの個数\n",
        "GC_content = (num_G + num_C) / dna_length #GC含量:塩基Gと塩基Cの割合\n",
        "\n",
        "# 出力\n",
        "print('Length: ', dna_length)\n",
        "print('GC%: ', GC_content)"
      ]
    },
    {
      "cell_type": "markdown",
      "metadata": {
        "id": "6AxjDxFMXYJD"
      },
      "source": [
        "## 課題2 課題ページの共有リンクの発行\n",
        "\n",
        "　以下の手順のとおりにこの課題ページの共有リンクを発行し、そのリンクをPandAの課題提出フォームに貼り付けてください。\n",
        "\n",
        "手順\n",
        "1. ノートブックをGoogleドライブに保存する\n",
        "2. 保存後、ノートブック画面右上の「共有」ボタンをクリックする\n",
        "3. アクセス設定を「制限付き」から「リンクを知っている全員」に変更する\n",
        "4. 「完了」をクリックする\n",
        "5. PandA課題ページ: https://panda.ecs.kyoto-u.ac.jp/portal/directtool/2975887c-2d81-416a-a62f-d63afced9fed/\n",
        "\n",
        "\n"
      ]
    },
    {
      "cell_type": "markdown",
      "metadata": {
        "id": "692pfBF8bkr1"
      },
      "source": [
        "課題締切：10月14日（月）まで"
      ]
    }
  ],
  "metadata": {
    "colab": {
      "provenance": [],
      "toc_visible": true
    },
    "kernelspec": {
      "display_name": "Python 3",
      "name": "python3"
    },
    "language_info": {
      "name": "python"
    }
  },
  "nbformat": 4,
  "nbformat_minor": 0
}
