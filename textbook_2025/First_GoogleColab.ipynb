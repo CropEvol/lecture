{
  "cells": [
    {
      "cell_type": "markdown",
      "metadata": {
        "id": "msxvu1Nb5UbP"
      },
      "source": [
        "<img src=\"https://github.com/CropEvol/lecture/blob/master/textbook_2025/images/logo.png?raw=true\" alt=\"2025年度ゲノム情報解析入門\" height=\"100px\" align=\"middle\">\n",
        "\n",
        "<div align=\"right\"><a href=\"https://github.com/CropEvol/lecture#section2\">実習表ページに戻る</a></div>"
      ]
    },
    {
      "cell_type": "markdown",
      "metadata": {
        "id": "wTl2PRy45ifF"
      },
      "source": [
        "# Google Colaboratoryの使い方"
      ]
    },
    {
      "cell_type": "markdown",
      "metadata": {
        "id": "ae_R54dp315N"
      },
      "source": [
        "\n",
        "　「ゲノム情報解析入門」では、**Google Colaboratory**（以下、**Google Colab**）と呼ばれるオンラインサービスを使って、ゲノム解析の体験をしていきます。今回の実習では、Google Colabの使い方を勉強していきます。\n"
      ]
    },
    {
      "cell_type": "markdown",
      "metadata": {
        "id": "GCvov-22cbuZ"
      },
      "source": [
        "## Google Colaboratory\n",
        "　Google ColabはGoogle社が提供しているサービスです。おもにPythonプログラミングをおこなう場として提供されています。ゲノム解析用のソフトウェアをインストールすれば小規模なゲノム解析もおこなえるため、この講義ではGoogle Colabを利用して実習をおこないます。\n"
      ]
    },
    {
      "cell_type": "markdown",
      "source": [
        "## ゲノム解析で使う技術\n",
        "\n",
        "　ゲノム解析のためのソフトウェアは、日々開発されており、今では非常に充実しています。たいていの場合、自身がおこないたいゲノム解析に対応するソフトウェアがすでに存在しているため、そのソフトウェアを実行できればゲノム解析をおこなえる時代です。そのため、ゲノム解析では、ゲノム解析用のソフトウェアを実行するための技術を最もよく使用します。\n",
        "\n",
        "　ゲノム解析用のソフトウェアの多くは、マウスによるクリック等の操作ではなく、コマンドと呼ばれる文字によるパソコンへの命令文で実行できるように作られています。この講義の実習でも、コマンドを使ったソフトウェアの実行などをおこないます。\n",
        "\n",
        "<img src=\"https://github.com/CropEvol/lecture/blob/master/textbook_2025/images/command_operation.png?raw=true\" alt=\"command_operation\" height=\"200px\" align=\"middle\">\n",
        "\n",
        "\n",
        "　そのほかに、ゲノム解析ではPythonやRなどのプログラミング言語を使ったデータ処理をおこなうことがあります。ソフトウェアが出力した結果を加工し、グラフに描画したり、既存のソフトウェアでおこなえない解析をするためにプログラミングをする場合があります。\n",
        "\n",
        "<img src=\"https://github.com/CropEvol/lecture/blob/master/textbook_2025/images/data_to_graph.png?raw=true\" alt=\"data_to_graph\" height=\"120px\" align=\"middle\">\n",
        "\n",
        "<small>※ この講義の実習は、「ゲノム解析の体験」をメインにしており、後日おこなう「ゲノム解析(3) QTL-seq解析」を除き、ソフトウェアの実行文の詳細やプログラミング基礎、プログラムの解説は、適宜必要な程度にとどめる予定です。「ゲノム解析(3) QTL-seq解析」の回では、Pythonを使った大規模なデータの処理の基礎を少し勉強する予定です。</small>"
      ],
      "metadata": {
        "id": "ywBd5gmO9wD5"
      }
    },
    {
      "cell_type": "markdown",
      "metadata": {
        "id": "LZedukk8kiUd"
      },
      "source": [
        "## 今回の実習内容\n",
        "1. Google Colabの画面の見方\n",
        "1. ノートブックを保存する\n",
        "1. 保存したノートブックを開く\n",
        "1. プログラムを実行する/編集する\n",
        "1. サーバー上のフォルダやファイルを見る"
      ]
    },
    {
      "cell_type": "markdown",
      "metadata": {
        "id": "-MzSppnfh4gf"
      },
      "source": [
        "## 1. Google Colabの画面の見方\n",
        "　最初に、Google Colabの画面の見方を勉強しましょう。\n",
        "\n",
        "　Google Colabには主に3つのエリアがあります。各エリアの名称を覚える必要はありません。\n",
        "\n",
        "- 上部のエリア（ヘッダー）: Google Colabのデータを保存したり、保存したデータを再度開いたりするときに使用します。\n",
        "- 左のエリア（左ペイン）: テキストの目次や、Google Colab上に置いているファイルやフォルダを確認する際に使用します。\n",
        "- 中央のエリア: テキスト本体が書かれています。おもにこのエリアでゲノム解析の実習をおこないます。\n",
        "\n",
        "<img src=\"https://github.com/CropEvol/lecture/blob/master/textbook_2023/images/notebook_display.png?raw=true\" alt=\"notebook_display\" height=\"400px\" align=\"middle\">"
      ]
    },
    {
      "cell_type": "markdown",
      "metadata": {
        "id": "TsvPQrB1fCYh"
      },
      "source": [
        "## 2. サーバー上のフォルダやファイルを見る\n",
        "　Google Colabは、Google社のサーバー（以下、Colabサーバー）で動いています。サーバー上にあるフォルダやファイルを確認してみましょう。\n"
      ]
    },
    {
      "cell_type": "markdown",
      "metadata": {
        "id": "yZ0YmEr0wBVt"
      },
      "source": [
        "　下記の手順で、Colabサーバー上のフォルダやファイルを確認してください。\n",
        "\n",
        "```\n",
        "手順\n",
        "1. 画面左のエリア（左ペイン）のフォルダアイコンをクリックする\n",
        "2. 「sample_data」フォルダがあることを確認する\n",
        "\n",
        "最初に表示されるフォルダ: /content\n",
        "```"
      ]
    },
    {
      "cell_type": "markdown",
      "metadata": {
        "id": "WtLcB07NaLLi"
      },
      "source": [
        "## 3. プログラムを実行する\n",
        "　今後の実習で最もよくおこなう操作、プログラムの実行の仕方を勉強しましょう。\n",
        "\n",
        "　Google Colabには**コードセル**と呼ばれるプログラムを書くスペースがあります。そのコードセルに、コンピュータ操作のプログラムやPythonプログラムを記述して実行することで、何らかの処理をおこなえます。\n",
        "\n",
        "　ここでは、２種類のプログラム（コマンドによるコンピュータ操作のプログラムとPythonプログラム）を見ていきましょう。\n"
      ]
    },
    {
      "cell_type": "markdown",
      "source": [
        "### 3-1. コマンドによるコンピュータ操作\n",
        "\n",
        "　まず最初に、コンピュータ操作のプログラムの実行例をみていきましょう。\n",
        "\n",
        "　コードセルの左にある「▶︎マーク」をクリックすると、そのコードセルに書かれたプログラムを実行できます。"
      ],
      "metadata": {
        "id": "v-xOyz6hPH0f"
      }
    },
    {
      "cell_type": "code",
      "source": [
        "%%bash\n",
        "### コンピュータ操作のプログラム例1\n",
        "### コードセルの一行目に「%%bash」と書かれているとき、コンピュータ操作のプログラムが記述されています。\n",
        "\n",
        "## 現在いるフォルダ上に存在するファイルやフォルダを表示\n",
        "ls"
      ],
      "metadata": {
        "id": "zfAb44zWPUQ4"
      },
      "execution_count": null,
      "outputs": []
    },
    {
      "cell_type": "markdown",
      "source": [
        "　左ペインのフォルダアイコンを押すと、サーバー上のファイルやフォルダを見れます。上の出力結果と同じように「sample_data」のフォルダがあることを確認してみてください。"
      ],
      "metadata": {
        "id": "q2JRvewK9LBb"
      }
    },
    {
      "cell_type": "code",
      "source": [
        "%%bash\n",
        "### コンピュータ操作のプログラム例2\n",
        "\n",
        "## 「abc.txt」という名前の新しいファイルを作成\n",
        "touch abc.txt\n",
        "touch efg.txt\n",
        "## 再度、現在のフォルダ上にファイルやフォルダを表示\n",
        "ls"
      ],
      "metadata": {
        "id": "_L1NlRKURe0A"
      },
      "execution_count": null,
      "outputs": []
    },
    {
      "cell_type": "code",
      "source": [
        "### コンピュータ操作のプログラム例3\n",
        "### 各行の先頭に「!」がある場合、コンピュータ操作のプログラムが記述されています。\n",
        "\n",
        "## 「efg.txt」を削除する\n",
        "!rm efg.txt\n",
        "## 再度、現在のフォルダ上にファイルやフォルダを表示\n",
        "!ls"
      ],
      "metadata": {
        "id": "7flHDuGbTyV-"
      },
      "execution_count": null,
      "outputs": []
    },
    {
      "cell_type": "code",
      "source": [
        "### コンピュータ操作のプログラム例4\n",
        "\n",
        "## 新しく「abc.txt」を作成し、文字列を書き込む\n",
        "!echo \"name,price,num\" > abc.txt\n",
        "## 既存の「abc.txt」に文字列を追加で書き込む\n",
        "!echo \"apple,100,1\" >> abc.txt\n",
        "!echo \"oragen,80,2\" >> abc.txt\n",
        "!echo \"grape,150,3\" >> abc.txt"
      ],
      "metadata": {
        "id": "P3j4X2n1RoFz"
      },
      "execution_count": null,
      "outputs": []
    },
    {
      "cell_type": "markdown",
      "source": [
        "　下のリンクをクリックし、作成したファイル「abc.txt」の中身を確認してみましょう。\n",
        "\n",
        "/content/abc.txt\n",
        "\n"
      ],
      "metadata": {
        "id": "071T8Fg7Sovy"
      }
    },
    {
      "cell_type": "markdown",
      "metadata": {
        "id": "4cuwY4wKxzWq"
      },
      "source": [
        "### 3-2. Pythonプログラムの実行\n",
        "\n",
        "　次に、Pythonプログラムを実行してみましょう。\n",
        "\n",
        "<small>※ ここでは、Pythonプログラムの詳細を理解する必要はありません。Pythonプログラムでデータを読み込んで、そのデータを処理できることを理解してもらえればOKです。</small>"
      ]
    },
    {
      "cell_type": "code",
      "execution_count": null,
      "metadata": {
        "id": "PHx8ibSM6P_f"
      },
      "outputs": [],
      "source": [
        "## 上で作成した「abc.txt」を読み込む\n",
        "import pandas as pd\n",
        "df = pd.read_csv(\"abc.txt\")\n",
        "## 読み込んだデータセットを表示する\n",
        "df"
      ]
    },
    {
      "cell_type": "code",
      "source": [
        "## 行ごとにprice列とnum列の値を掛け算し、その合計を表示する\n",
        "sum(df[\"price\"] * df[\"num\"])"
      ],
      "metadata": {
        "id": "JHly7xEUX89p"
      },
      "execution_count": null,
      "outputs": []
    },
    {
      "cell_type": "code",
      "source": [
        "## price列の値の棒グラフ\n",
        "import matplotlib.pyplot as plt\n",
        "plt.bar(df[\"name\"], df[\"price\"])\n",
        "plt.show()"
      ],
      "metadata": {
        "id": "GjCP8fVFYjrl"
      },
      "execution_count": null,
      "outputs": []
    },
    {
      "cell_type": "markdown",
      "source": [
        "### 練習\n",
        "　次の一つ目のコードセルを実行して、練習用のサンプルファイル「NC_012920.fasta」をダウンロードしてください。\n",
        "\n",
        "\n"
      ],
      "metadata": {
        "id": "HU0Oi8dQau3F"
      }
    },
    {
      "cell_type": "code",
      "source": [
        "## 練習用サンプルファイル「Human_mt.fasta」をダウンロードする\n",
        "!wget -O \"Human_mt.fasta\" https://raw.githubusercontent.com/CropEvol/lecture/refs/heads/master/data/NC_012920.fasta\n",
        "## 生物学データ解析用のPythonパッケージをインストールする\n",
        "!pip install biopython"
      ],
      "metadata": {
        "id": "S_YmPPGoaubL"
      },
      "execution_count": null,
      "outputs": []
    },
    {
      "cell_type": "markdown",
      "source": [
        "　ダウンロードしたファイルのなかには、ヒト Homo sapiensのミトコンドリアゲノムの塩基配列が書かれていることを確認してください。\n",
        "\n",
        "/content/Human_mt.fasta"
      ],
      "metadata": {
        "id": "xBdOE6t3iEfK"
      }
    },
    {
      "cell_type": "markdown",
      "source": [
        "\n",
        "　さらに、次のコードセルの10行目に`record.seq.count(\"T\")`を追記して実行し、塩基配列中のT（チミン）の個数を調べてください。"
      ],
      "metadata": {
        "id": "MpFEU45Qbyoh"
      }
    },
    {
      "cell_type": "code",
      "source": [
        "## ダウンロードしたHuman_mt.fastaを読み込む\n",
        "from Bio import SeqIO\n",
        "f = open(\"Human_mt.fasta\")\n",
        "\n",
        "for record in SeqIO.parse(f, \"fasta\"):\n",
        "    ## 配列中の各文字（各塩基）の個数を調べる\n",
        "    print(\"A:\", record.seq.count(\"A\")) #アデニン（A）\n",
        "    print(\"C:\", record.seq.count(\"C\")) #シトシン（C）\n",
        "    print(\"G:\", record.seq.count(\"G\")) #グアニン（G）\n",
        "    print(\"T:\", ) #チミン（T）\n",
        "    print(\"N:\", record.seq.count(\"N\")) #不明な塩基（N）\n",
        "    ## ミトコンドリアゲノムの全長を調べる\n",
        "    print(\"Total length:\", len(record.seq), \"bp\")\n",
        "\n",
        "##\n",
        "f.close()"
      ],
      "metadata": {
        "id": "t_ieeg18jC2b"
      },
      "execution_count": null,
      "outputs": []
    },
    {
      "cell_type": "markdown",
      "source": [
        "## 4. 塩基配列データを見る\n",
        "\n",
        "　先ほどの練習で扱ったとおり、塩基配列は文字列データとして処理できます。\n",
        "\n",
        "　ここでは、ゲノム解析で塩基配列を扱い際によく使われる２つの記述様式（ファイル形式）を勉強しましょう。"
      ],
      "metadata": {
        "id": "7RZTsaUW1gHu"
      }
    },
    {
      "cell_type": "markdown",
      "source": [
        "### 4-1. FASTA形式\n",
        "\n",
        "　先ほどダウンロードした「NC_012920.fasta」の中身をもう一度見てましょう。\n",
        "\n",
        "/content/Human_mt.fasta\n",
        "\n",
        "　このファイルは、**FASTA形式** と呼ばれる記述様式で書かれています。「`>`」で始まる行と「`A`,`C`,`G`,`T`,`N`」の文字が羅列した行があり、それぞれ塩基配列の名前とそれに対応する塩基配列本体を表しています。\n",
        "\n",
        "```\n",
        ">NC_012920.1 Homo sapiens mitochondrion, complete genome\n",
        "GATCACAGGTCTATCACCCTATTAACCACTCACGGGA.........\n",
        "..............................................\n",
        "(238行目)......CGTTCCCCTTAAATAAGACATCACGATG\n",
        "```"
      ],
      "metadata": {
        "id": "fczZE-om3W-H"
      }
    },
    {
      "cell_type": "markdown",
      "source": [
        "　次のように複数の塩基配列をひとつのファイルに記述することも可能です。\n",
        "```\n",
        ">s1\n",
        "ATACTAAACCCCCATAAATAGGAGAAGGCTTAGAAGAAAAC\n",
        ">s2\n",
        "TTAAATTATGATAATCATATTTACCAAATGCCCCTCATTTACATAAATATT\n",
        "ATACTAGCATTTACCATCTCACTTCTAGGAATACTAGTATATCGCT\n",
        ">s3\n",
        "ACGAAACGGGATCAAACAACCCCCTAGGAATCACCTCCCATTCCGATAAAA\n",
        "TCACCTTCCACCCTTACTACACAATCAAAGACGCCCTCGGCTTACTTCTCT\n",
        "TCCTTCTCTCCTTAATGAC\n",
        ">s4\n",
        "CACTCATTCTCAACCCCCTGACAAAACACATAGC\n",
        "```"
      ],
      "metadata": {
        "id": "2o9PIc3emgm7"
      }
    },
    {
      "cell_type": "markdown",
      "source": [
        "　FASTA形式は、ゲノム配列やゲノムの一部の配列（遺伝子配列など）を扱う際によく使われます。"
      ],
      "metadata": {
        "id": "GyptVM4R_nd7"
      }
    },
    {
      "cell_type": "markdown",
      "source": [
        "#### アミノ酸配列の記述"
      ],
      "metadata": {
        "id": "2wgVUOp0AebI"
      }
    },
    {
      "cell_type": "markdown",
      "source": [
        "　FASTA形式は、アミノ酸配列を記述するときにも使われます。\n",
        "\n",
        "```\n",
        ">a1\n",
        "ASTPGHTIIYEAVCLHNDRTTIP\n",
        ">a2\n",
        "ASQKRPSQRHGSKYLATASTMDHARHGFLPRHRDTGILDSIGRFFGGDRGAPK\n",
        "NMYKDSHHPARTAHYGSLPQKSHGRTQDENPVVHFFKNIVTPRTPPPSQGKGR\n",
        "KSAHKGFKGVDAQGTLSKIFKLGGRDSRSGSPMARRELVISLIVES\n",
        "```"
      ],
      "metadata": {
        "id": "gsDY8cT7AiKx"
      }
    },
    {
      "cell_type": "markdown",
      "source": [
        "##### 各文字とアミノ酸の対応"
      ],
      "metadata": {
        "id": "5Sksqc97CnOh"
      }
    },
    {
      "cell_type": "markdown",
      "source": [
        "|文字|アミノ酸|\n",
        "|:--|:--|\n",
        "|A|アラニン|\n",
        "|C|システイン|\n",
        "|D|アスパラギン酸|\n",
        "|E|グルタミン酸|\n",
        "|F|フェニルアラニン|\n",
        "|G|グリシン|\n",
        "|H|ヒスチジン|\n",
        "|I|イソロイシン|\n",
        "|K|リシン|\n",
        "|L|ロイシン|\n",
        "|M|メチオニン|\n",
        "|N|アスパラギン|\n",
        "|P|プロリン|\n",
        "|Q|グルタミン|\n",
        "|R|アルギニン|\n",
        "|S|セリン|\n",
        "|T|スレオニン|\n",
        "|U|セレノシステイン|\n",
        "|V|バリン|\n",
        "|W|トリプトファン|\n",
        "|Y|チロシン|\n",
        "|X|不明|\n",
        "|*|翻訳終止|"
      ],
      "metadata": {
        "id": "Nv10-GYSCaOQ"
      }
    },
    {
      "cell_type": "markdown",
      "source": [
        "### 4-2. FASTQ形式\n",
        "　もうひとつは、**FASTQ**形式とよばれる記述様式で、先ほど勉強したFASTA形式とは異なり、塩基配列の名前と塩基配列本体だけでなく、各塩基のクオリティ（信頼度）も記述できる形式です。\n",
        "\n",
        "```\n",
        "@read1 ←塩基配列の名前\n",
        "TGCTGCGGAGCCCACGCCACGATCTTCCCGAACCCCTTCG ←塩基配列の本体\n",
        "+ ←塩基配列本体とクオリティの区切り\n",
        "JJJJJJJJJJJ<JJJJJJJJJJJJJJJJJJJJJJJJJJJA ←各塩基のクオリティ\n",
        "@read2\n",
        "TTTCTCCCCATCAATCGACAATATTTCTTGCTTTCTCGCC\n",
        "+\n",
        "7JJJFFJJFJJJJJFJFJJFJ-JJJJFJJFFFJJJJJJJJ\n",
        "@read3\n",
        "CAGCGCCTTCTCTTCTATAAGCACCCCTGCACCCCTACTC\n",
        "+\n",
        "<FJJJ<JJ<JJ<JJJJJJJ<F-FJ-7FJ7-FJJJJFAFJF\n",
        "```"
      ],
      "metadata": {
        "id": "48a9Li-c3aBw"
      }
    },
    {
      "cell_type": "markdown",
      "source": [
        "　FASTQ形式は、次世代シーケンサーや第3世代シーケンサーから得られる塩基配列データでよく使われています。\n",
        "\n",
        "<small>※ 次の「5. シーケンシング」で、FASTQ形式のファイルを実際にみてもらいます。</small>\n"
      ],
      "metadata": {
        "id": "0a4ajdD1AW3r"
      }
    },
    {
      "cell_type": "markdown",
      "source": [
        "##### 各塩基の信頼度"
      ],
      "metadata": {
        "id": "ZrAy9yhMEPmH"
      }
    },
    {
      "cell_type": "markdown",
      "source": [
        "|文字|Phredクオリティスコア|不正確な確率||文字|Phredクオリティスコア|不正確な確率|\n",
        "|:--|--:|--:|--|:--|--:|--:|\n",
        "|!|0|1.000||6|21|0.008|\n",
        "|\"|1|0.794||7|22|0.006|\n",
        "|#|2|0.631||8|23|0.005|\n",
        "|$|3|0.501||9|24|0.004|\n",
        "|%|4|0.398||:|25|0.003|\n",
        "|&|5|0.316||;|26|0.002|\n",
        "|'|6|0.251||<|27|0.002|\n",
        "|(|7|0.199||=|28|0.001|\n",
        "|)|8|0.158||>|29|0.001|\n",
        "|*|9|0.126||?|30|0.001|\n",
        "|+|10|0.100||@|31|0.0008|\n",
        "|,|11|0.079||A|32|0.0006|\n",
        "|-|12|0.063||B|33|0.0005|\n",
        "|.|13|0.050||C|34|0.0004|\n",
        "|/|14|0.040||D|35|0.0003|\n",
        "|0|15|0.032||E|36|0.0002|\n",
        "|1|16|0.025||F|37|0.0002|\n",
        "|2|17|0.020||G|38|0.0002|\n",
        "|3|18|0.016||H|39|0.0001|\n",
        "|4|19|0.013||I|40|0.0001|\n",
        "|5|20|0.010|||||"
      ],
      "metadata": {
        "id": "tlN8RGgxFkuY"
      }
    },
    {
      "cell_type": "markdown",
      "source": [
        "## 5. シーケンシング\n",
        "\n",
        "　最後に、次世代シーケンサーと第3世代シーケンサーでシーケンシングするとどのようなデータが得られるかを見てみましょう。\n",
        "\n",
        "　実際のシーケンシングでは、一般的にDNAを自身の研究室で抽出し、シーケンシングの前準備（シーケンシングライブラリの作成）をおこなった後、シーケンサーが研究室にあれば研究室でシーケンシングをし、無ければ業者に委託してシーケンシングをおこないます。\n",
        "\n",
        "　ここでは、先ほどの`Human_mt.fasta`から擬似的に作成した塩基配列データを見ていきます。\n"
      ],
      "metadata": {
        "id": "TeYt0_5IpMOs"
      }
    },
    {
      "cell_type": "markdown",
      "source": [
        "　塩基配列データを見る前に、以下のコードセルを実行して、サンプルデータなどをダウンロードしてください。"
      ],
      "metadata": {
        "id": "W8UeTpC7ICrK"
      }
    },
    {
      "cell_type": "code",
      "source": [
        "!wget -O First_GoogleColab_example.sh https://raw.githubusercontent.com/CropEvol/lecture/refs/heads/master/textbook_2025/scripts/First_GoogleColab_example.sh\n",
        "!bash First_GoogleColab_example.sh\n",
        "!pip install -q igv-notebook==0.3.1"
      ],
      "metadata": {
        "id": "beooD_LJHqm0"
      },
      "execution_count": null,
      "outputs": []
    },
    {
      "cell_type": "markdown",
      "source": [
        "### 次世代シーケンサーで出力される塩基配列 Short reads\n",
        "\n",
        "　次世代シーケンサーでシーケンシングをおこなう際、先にゲノムDNAを超音波などで物理的に断片化したり、制限酵素で化学的に断片化します。シーケンサーは、そのDNA断片の端部50~300塩基をシーケンシングします。シーケンシングで取得した配列は、通常 **リード （Read）** と呼ばれています。\n",
        "\n",
        "　近年では、両端をシーケンシングしてリードデータを取得するのが主流です。両端をシーケンシングするため、2つのデータファイルが得られます。解析では、その2つリードファイルを1組のデータとして同時に扱います。なお、両端をシーケンシングしてリードデータを得る方式を、 **ペアエンド (Paired-end)** と言います。\n",
        "\n",
        "<img src=\"https://github.com/CropEvol/lecture/blob/master/textbook_2023/images/Assemble_figs/paired_end_reads.png?raw=true\" height=\"200px\" align=\"middle\">\n",
        "\n",
        "ここで使用するショートリード:\n",
        "- Read1: /content/short_reads.R1.fastq\n",
        "- Read2: /content/short_reads.R2.fastq\n",
        "- リードの長さ: 各150 bp\n"
      ],
      "metadata": {
        "id": "poUl0km-pzq4"
      }
    },
    {
      "cell_type": "markdown",
      "source": [
        "　つぎに、ショートリードの元になったオリジナルのゲノム配列（ここでは、ヒトのミトコンドリアゲノム配列）にリードを並べて、ショートリードの特徴を見てみましょう。\n",
        "\n",
        "　下のコードセルを実行すると、ゲノム配列にリードを並べたグラフが表示されます。"
      ],
      "metadata": {
        "id": "hGM3waATtDM3"
      }
    },
    {
      "cell_type": "code",
      "source": [
        "## アライメント結果をみる\n",
        "fa  = \"Human_mt.fasta\"   #ヒトのミトコンドリアゲノム\n",
        "bam = \"short_reads.bam\"  #ショートリードをミトコンドリアゲノムに並べたデータ\n",
        "## ---- 以下、変更不要 -----\n",
        "import igv_notebook\n",
        "from igv_prep import RefTrack, AnnotationTrack, BamTrack\n",
        "igv_notebook.init()\n",
        "ref = RefTrack({ \"fastaPath\": fa, \"indexPath\": fa+\".fai\", \"id\": fa })\n",
        "aln = BamTrack({ \"name\": bam, \"path\": bam, \"height\":200, \"viewAsPairs\":True, \"showCoverage\":False })\n",
        "b = igv_notebook.Browser(ref)\n",
        "b.load_track(aln)"
      ],
      "metadata": {
        "id": "_o1M20WFWBMt"
      },
      "execution_count": null,
      "outputs": []
    },
    {
      "cell_type": "markdown",
      "source": [
        "##### グラフの見方"
      ],
      "metadata": {
        "id": "2bwhQzp50W24"
      }
    },
    {
      "cell_type": "markdown",
      "source": [
        "\n",
        "- 上部の白いバーは、ゲノム配列を表しています。赤色で囲まれた部分のリード状況を表示している状態です。\n",
        "- 台形（おもに灰色）一つひとつがリードを表しています。台形内の青色や赤色の縦線は、ゲノム配列とリード間で異なる塩基が見られることを示しています。\n",
        "\n",
        "<img src=\"https://github.com/CropEvol/lecture/blob/master/textbook_2025/images/igv_viewer_ex1.png?raw=true\" alt=\"igv_viewer_ex1\" height=\"300px\" align=\"middle\">"
      ],
      "metadata": {
        "id": "8Rn7QqIUzSbu"
      }
    },
    {
      "cell_type": "markdown",
      "source": [
        "### ショートリードの特徴\n",
        "\n",
        "　次世代シーケンサーから得られるショートリードは、名前のとおり短い塩基配列（今回は150塩基）です。次世代シーケンサーは、かなり正確に塩基を読むことができ、シーケンシングエラー（塩基の読み間違い）が少ないリードを得られます。そのため、個体間の数塩基の違いを検出するような解析によく使用されます。"
      ],
      "metadata": {
        "id": "vJAVK2kp0jXd"
      }
    },
    {
      "cell_type": "markdown",
      "source": [
        "### 第3世代シーケンサーで出力される塩基配列 Long reads\n",
        "\n",
        "　次に、オックスフォード社のナノポアから得られるロングリードを見てみましょう。\n",
        "\n",
        "/content/long_reads.fastq"
      ],
      "metadata": {
        "id": "w0NW5Rv2p5FR"
      }
    },
    {
      "cell_type": "code",
      "source": [
        "## アライメント結果をみる\n",
        "fa  = \"Human_mt.fasta\"  #ヒトのミトコンドリアゲノム\n",
        "bam = \"long_reads.bam\"  #ロングリードをミトコンドリアゲノムに並べたデータ\n",
        "## ---- 以下、変更不要 -----\n",
        "import igv_notebook\n",
        "from igv_prep import RefTrack, AnnotationTrack, BamTrack\n",
        "igv_notebook.init()\n",
        "ref = RefTrack({ \"fastaPath\": fa, \"indexPath\": fa+\".fai\", \"id\": fa })\n",
        "aln = BamTrack({ \"name\": bam, \"path\": bam, \"height\":200, \"viewAsPairs\":False, \"showCoverage\":False })\n",
        "b = igv_notebook.Browser(ref)\n",
        "b.load_track(aln)"
      ],
      "metadata": {
        "id": "aI_4SMojW0rM"
      },
      "execution_count": null,
      "outputs": []
    },
    {
      "cell_type": "markdown",
      "source": [
        "### ロングリードの特徴\n",
        "\n",
        "　第3世代シーケンサーから得られるロングリードは、ショートリードに比べると非常に長い塩基配列（数百〜100kb、ときには数Mb）が得られます。しかし、シーケンシングされた各塩基の正確性はそれほど高くなく、シーケンシングエラーをショートリードに比べて多く含んでいます。\n",
        "\n",
        "<small>※ オックスフォード社のナノポアのロングリードは上述のような特徴を持っています。PacBio社のロングリードは正確でかつ長いリードを得ることができ、近年のゲノム解読プロジェクトではよく使用されています。</small>"
      ],
      "metadata": {
        "id": "uEde-_XA4HAh"
      }
    },
    {
      "cell_type": "markdown",
      "metadata": {
        "id": "0T4m5X0hZwAx"
      },
      "source": [
        "---\n",
        "## この実習で学んだこと\n",
        "\n",
        "Google Colabの使い方:\n",
        "- Google Colab画面の見方\n",
        "- サーバー上のフォルダやファイルを見る\n",
        "- プログラムを実行する\n",
        "  - コンピュータ操作プログラムの実行\n",
        "  - Pythonプログラムの実行\n",
        "\n",
        "塩基配列データを見る:\n",
        "- FASTA形式\n",
        "- FASTQ形式\n",
        "\n",
        "シーケンシングで得られるデータを見る:\n",
        "- ショートリード\n",
        "- ロングリード\n",
        "\n",
        "\n",
        "<div align=\"right\"><a href=\"https://github.com/CropEvol/lecture#section2\">実習表ページに戻る</a></div>"
      ]
    }
  ],
  "metadata": {
    "colab": {
      "provenance": [],
      "collapsed_sections": [
        "5Sksqc97CnOh",
        "ZrAy9yhMEPmH",
        "2bwhQzp50W24"
      ],
      "toc_visible": true
    },
    "kernelspec": {
      "display_name": "Python 3",
      "name": "python3"
    }
  },
  "nbformat": 4,
  "nbformat_minor": 0
}