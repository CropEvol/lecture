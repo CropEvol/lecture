{
 "cells": [
  {
   "cell_type": "markdown",
   "metadata": {
    "id": "xrEcu23sU8EV"
   },
   "source": [
    "<img src=\"https://github.com/CropEvol/lecture/blob/master/textbook_2025/images/logo.png?raw=true\" alt=\"2024年度ゲノム情報解析入門\" height=\"100px\" align=\"middle\">\n",
    "\n",
    "<div align=\"right\"><a href=\"https://github.com/CropEvol/lecture#section2\">実習表ページに戻る</a></div>"
   ]
  },
  {
   "cell_type": "markdown",
   "metadata": {
    "id": "p1APgMWdU_aL"
   },
   "source": [
    "[課題] Genomic Prediction その1\n",
    "---"
   ]
  },
  {
   "cell_type": "markdown",
   "metadata": {
    "id": "estCp8V2YvX3"
   },
   "source": [
    "課題をはじめる前に、次のコードセルを一度実行してください。課題に必要なパッケージのインストールや、プログラム、サンプルファイルをダウンロードします。"
   ]
  },
  {
   "cell_type": "code",
   "execution_count": null,
   "metadata": {
    "id": "DamuI8gYU3Jy"
   },
   "outputs": [],
   "source": [
    "################################\n",
    "##  以下の実習の前に一度実行してください。##\n",
    "################################\n",
    "\n",
    "## プログラム・サンプルファイルのダウンロード\n",
    "!wget -q -O 'GP_sample_genotype.csv' https://raw.githubusercontent.com/CropEvol/lecture/master/textbook_2023/dataset/GP_sample_genotype.csv\n",
    "!wget -q -O 'GP_sample_phenotype.csv' https://raw.githubusercontent.com/CropEvol/lecture/master/textbook_2023/dataset/GP_sample_phenotype.csv\n",
    "!wget -q -O genomic_prediction.py https://raw.githubusercontent.com/CropEvol/lecture/master/textbook_2023/scripts/genomic_prediction_1.py?raw=true\n",
    "## 確認\n",
    "!ls | grep -e 'GP_sample_genotype.csv' -e 'GP_sample_phenotype.csv' -e 'genomic_prediction.py'"
   ]
  },
  {
   "cell_type": "markdown",
   "metadata": {
    "id": "ndSLXA-l2TXX"
   },
   "source": [
    "## データの読み込み\n",
    "課題で扱うデータも、実習で扱ったNAM集団のデータになります。"
   ]
  },
  {
   "cell_type": "code",
   "execution_count": null,
   "metadata": {
    "id": "4NIYRA07MZjC"
   },
   "outputs": [],
   "source": [
    "# Genotype data\n",
    "import pandas as pd\n",
    "import numpy as np\n",
    "genotype = pd.read_csv(\"GP_sample_genotype.csv\")\n",
    "# Phenotype data\n",
    "phenotype = pd.read_csv(\"GP_sample_phenotype.csv\")"
   ]
  },
  {
   "cell_type": "markdown",
   "metadata": {
    "id": "vo3TRo8Mn-MO"
   },
   "source": [
    "## 課題1\n",
    "\n",
    "以下のコードを動かすと、全てのデータを元に作成した、遺伝子型から形質値を予測する重回帰式が構築されます。\n",
    "\n",
    "また、その回帰式を元に計算した予測値と実測値の関係性をプロット・相関係数として表示します。\n",
    "\n",
    "一見完璧な予測式に見えますが、講義で話した通り、この回帰式を予測モデルとして使用するには様々な問題があります。\n",
    "\n",
    "どの様なところが問題でしょうか？また、もし問題点が思い浮かんだ人は、それを解決するにはどの様な方法が考えられるでしょうか？\n",
    "\n",
    "自分の考えをPandaの課題のページで回答してください。"
   ]
  },
  {
   "cell_type": "code",
   "execution_count": null,
   "metadata": {
    "id": "ngajnXDXoUyM"
   },
   "outputs": [],
   "source": [
    "# 線形回帰式\n",
    "import matplotlib.pyplot as plt\n",
    "import seaborn as sns\n",
    "sns.set()\n",
    "from sklearn.linear_model import LinearRegression\n",
    "\n",
    "model = LinearRegression()\n",
    "model = model.fit(genotype.iloc[:, 2:].T, phenotype[\"GN_mean\"])\n",
    "equation = \"y = \"\n",
    "for i, j in enumerate(model.coef_):\n",
    "    equation += \"SNP{}×{} + \".format(str(i+1), str(j))\n",
    "equation += str(model.intercept_)\n",
    "equation"
   ]
  },
  {
   "cell_type": "code",
   "execution_count": null,
   "metadata": {
    "id": "B2qFgCSYWDpJ"
   },
   "outputs": [],
   "source": [
    "# 予測精度\n",
    "y_preds = model.predict(genotype.iloc[:, 2:].T)\n",
    "plt.scatter(phenotype[\"GN_mean\"], y_preds)\n",
    "print(\"相関係数: {}\".format(np.corrcoef(phenotype[\"GN_mean\"], y_preds)[0, 1]))"
   ]
  },
  {
   "cell_type": "markdown",
   "metadata": {
    "id": "4Y-39OIbYqMA"
   },
   "source": [
    "# 課題の提出について\n",
    "\n",
    "提出期限： 2024年12月2日（月）まで\n",
    "\n",
    "<div align=\"right\"><a href=\"https://github.com/CropEvol/lecture#section2\">実習表ページに戻る</a></div>"
   ]
  },
  {
   "cell_type": "code",
   "execution_count": null,
   "metadata": {
    "id": "eSq5EisHtRzs"
   },
   "outputs": [],
   "source": []
  }
 ],
 "metadata": {
  "colab": {
   "provenance": []
  },
  "kernelspec": {
   "display_name": "Python 3",
   "name": "python3"
  },
  "language_info": {
   "name": "python"
  }
 },
 "nbformat": 4,
 "nbformat_minor": 0
}
