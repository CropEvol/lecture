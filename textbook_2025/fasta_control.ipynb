{
 "cells": [
  {
   "cell_type": "markdown",
   "metadata": {
    "id": "o0VV-_nAwkYP"
   },
   "source": [
    "<img src=\"https://github.com/CropEvol/lecture/blob/master/textbook_2025/images/logo.png?raw=true\" alt=\"2025年度ゲノム情報解析入門\" height=\"100px\" align=\"middle\">\n",
    "\n",
    "<div align=\"right\"><a href=\"https://github.com/CropEvol/lecture#section2\">実習表ページに戻る</a></div>"
   ]
  },
  {
   "cell_type": "markdown",
   "metadata": {
    "id": "eHCUBUvCcnDM"
   },
   "source": [
    "# 今回の勉強内容\n",
    "　今回は、これまでの解析手法の紹介とは違って、もう少し具体的な操作を扱います。\n",
    "\n",
    "バイオインフォマティクスのツールやプログラムは、WordやExcelの様にマウスでクリック等で操作するアプリと異なり、コマンドから操作をする場合が多いです。\n",
    "\n",
    "コマンド自体を学習しようとすると扱いきれないので、今回は1例として配列データをコマンドやコマンドから使用するツールで扱う実習を行います。\n",
    "\n",
    "---"
   ]
  },
  {
   "cell_type": "markdown",
   "metadata": {
    "id": "vTTLw-ES7gnT"
   },
   "source": [
    "# FASTAファイルを自由に使い回す方法について\n",
    "　ゲノム配列は基本的に**FASTA**ファイルと呼ばれる形式で保存されています。\n",
    "\n",
    "FASTA形式では、シンプルに2行で1つの配列データの情報を表します。\n",
    "\n",
    "```\n",
    ">配列の名前 (名前の後にスペースを空けて色々情報が書いてあることも)\n",
    "TGAAGCAGT..............(リードの塩基配列)\n",
    "```\n",
    "\n",
    "　また、最初の方の講義でも扱いましたが、シーケンスを行って得られるリードのデータは**FASTQ**と呼ばれる４行で１つのリード情報を示す形式でファイルに保存されています。\n",
    "\n",
    "```\n",
    "@リードの名前\n",
    "TGAAGCAGT..............(リードの塩基配列)\n",
    "+\n",
    "F1GCFCGGE..............(各塩基のクオリティ)\n",
    "```\n",
    "\n",
    "- 第1行（@からはじまる行）: リードの名前\n",
    "- 第2行: リードの塩基配列\n",
    "- 第3行（+からはじまる行）: 第2行と第4行の区切りのための行\n",
    "- 第4行: 各塩基配列のクオリティ（ASCIIコードで書かれている）。1文字が何らかのクオリティスコア（数値）を示している。\n",
    " - 参考: https://bi.biopapyrus.jp/rnaseq/qc/fastq-quality-score.html\n",
    "\n",
    "\n",
    "本日はこれらの配列データをコマンドなどから扱う方法を実習で行っていきます。\n",
    "\n",
    "言ってしまえばFASTAファイルもFASTQファイルもテキストファイルなので、コピーペーストなど普通のテキストファイルの様に扱うことは出来ますが、コマンドや`seqkit`等のツールを使用することで、より効率的にFASTAファイルを扱うことが出来ます。\n",
    "\n",
    "\n",
    "\n"
   ]
  },
  {
   "cell_type": "markdown",
   "metadata": {
    "id": "ohDuszDzHX8k"
   },
   "source": [
    "## コマンドについて\n",
    "\n",
    "今回の実習では`コマンド`による操作を主に行います。\n",
    "\n",
    "皆さんは普段マウスでクリック等を行うことでコンピュータを捜査している方が多いかと思いますが、`コマンド`と呼ばれるものでも同じようにコンピュータを操作することは可能です。\n",
    "\n",
    "<img src=\"https://github.com/CropEvol/lecture/blob/master/textbook_2025/images/CUI_GUI.png?raw=true\" alt=\"cui_gui\" height=\"400px\" align=\"middle\">\n",
    "\n",
    "そして、多くのバイオインフォマティクスのツールはコマンドから動かすことが多いです。\n",
    "\n",
    "<br>\n",
    "\n",
    "今使用しているGoogle Colaboratoryというサービスでも、PythonやR等で書かれたプログラムを実行するだけでは無く、\n",
    "\n",
    "コマンドを使用してGoogle側のサーバー(コンピュータ)を操作することが出来ます。\n",
    "\n",
    "<img src=\"https://lh3.googleusercontent.com/rGFAR5vGV9lYsnnb1QhFUZlWbOtHVTwhLq4wBjIIxgJ05Dldb6ELwBTpmkBM-1i7XQ1ir1JIkxK3fcfQ20HK0VkraOPPZdClaM9caTbvsewYMU-lvsIhvXvtcDuhm8VHL495z-m9Cq_oktsqtYg-EAZXpc6_-3ebHARqVPE-q2d6EM_fq6Zcnjq3BODbYdxmAyOrS0lycbTJBvcGNWAkAJ-ECJBPyKAevUEXSCUDx7NkYgjh1Wj02VTP2POVBmpJTZhegRVyWMVryUjeKeJd9mEcoCNRWV7dEk8O80ETmOh0512AuMqzLUivD6mGxItX24uAChpt64ToJq2lAvDeg2gYk7fIKPUGPvroLFKy_UN3dlKSeC1upQsdEwDHEcgp5RK3tggn1eERsLKxqY-QDjL-LlcRyYrRqSjiTWFIkNBeif3v0R8K80JN8R2b49ukgR-Y3jOJQ1Sq23Vt16Nz98dhAXGADKNXnnmPcoeLtoHkGXIO0XxNCXj568wyC4q4WiPt82ATSORKpM-EQis-tcjh840FMsJ0fuHe-jOtLYtWqbvnmXDYJBtX_K-HDu3Vf0tD6wWks2A10NTlyh_W9Id5KRmBfq5bpqxYhv21Knrl7EFYCyF3UofbJ5MZGvjuFu-4yUwW5m5d6KsgKzs2KIUSAvF6WtCH2Vqz-HynVTMx0Q1pyRDXw8QBThSW=w1341-h510-no?authuser=0\" alt=\"colab_server\" height=\"150px\">\n",
    "\n",
    "これまであまり細かくは触れてきませんでしたが、PythonやRのコードとは違って、\n",
    "\n",
    "`!`で始まっていたり、`％％bash`と書かれていた所はコマンドを動かしている形になります。\n",
    "\n",
    "試しに`screenfetch`というコマンドで動かすツールを動かしてみます。"
   ]
  },
  {
   "cell_type": "code",
   "execution_count": null,
   "metadata": {
    "id": "FXWzUylhI4c3"
   },
   "outputs": [],
   "source": [
    "# screenfetchという操作しているコンピュータのスペックを表示するツールをインストールするコマンド\n",
    "!apt-get install screenfetch"
   ]
  },
  {
   "cell_type": "code",
   "execution_count": null,
   "metadata": {
    "id": "eXv6fElJI4fg"
   },
   "outputs": [],
   "source": [
    "# screenfetchを使用\n",
    "!screenfetch"
   ]
  },
  {
   "cell_type": "code",
   "execution_count": null,
   "metadata": {
    "id": "3oaJyKeOI4iN"
   },
   "outputs": [],
   "source": [
    "# %%bashをつけてもコマンドは動かせる(複数行の場合はこちらが楽)\n",
    "%%bash\n",
    "screenfetch"
   ]
  },
  {
   "cell_type": "markdown",
   "metadata": {
    "id": "hYWWnkR5WcfY"
   },
   "source": [
    "# 今回の実習内容\n",
    "\n",
    "今回はいくつかのコマンド、`seqkit`と`blast`というツールを使って以下の様な実習を行います。\n",
    "\n",
    "1. 必要な情報をFASTAから抜き出す(seqkit)\n",
    "1. 遺伝子Aと相同性のある配列をFASTAから抜き出す(blast, seqkit)\n",
    "1. 指定領域の配列をFASTAから抜き出す(seqkit)\n",
    "1. 遺伝子のアノテーション情報(gffファイル)から遺伝子の領域を抜き出す(gffread)\n",
    "1. seqkitの他の機能\n",
    "\n",
    "\n",
    "\n"
   ]
  },
  {
   "cell_type": "markdown",
   "metadata": {
    "id": "hMsANIN_DuIy"
   },
   "source": [
    "### データのダウンロード\n",
    "　この実習で使用するサンプルデータをダウンロードします。ここでは公開されているゲノム配列を使用します。\n",
    "\n",
    "RNAseqによる遺伝子アノテーションの所でも少しお話ししましたが、既にシーケンスによって決められたゲノム配列や遺伝子のアノテーション情報、各遺伝子のアミノ酸配列等は、[Ensemble](https://asia.ensembl.org/info/data/ftp/index.html)や[Ensemble plants](https://plants.ensembl.org/info/data/ftp/index.html), [NCBI](https://ncbi.nlm.nih.gov/datasets/genome/)等のデータベースに登録されて公開されています。"
   ]
  },
  {
   "cell_type": "markdown",
   "metadata": {
    "id": "JoOU3j6axt32"
   },
   "source": [
    "[Ensemble](https://asia.ensembl.org/info/data/ftp/index.html)や[Ensemble plants](https://plants.ensembl.org/info/data/ftp/index.html), [NCBI](https://ncbi.nlm.nih.gov/datasets/genome/)のサーバーにあるデータは、`wget`というサーバーからファイルを取得するコマンドでダウンロードできます。\n",
    "```\n",
    "wget ダウンロードリンク\n",
    "```\n",
    "\n",
    "例として[イネいもち病菌のゲノム配列](https://ftp.ensemblgenomes.ebi.ac.uk/pub/fungi/release-60/fasta/magnaporthe_oryzae/)をダウンロードするコマンドを下に表示していますが、\n",
    "\n",
    "同様のアプローチで自分の興味のある生物の配列をダウンロードすることが可能です。"
   ]
  },
  {
   "cell_type": "code",
   "execution_count": null,
   "metadata": {
    "id": "YJout8WY5jJU"
   },
   "outputs": [],
   "source": [
    "# ダウンロードするコマンド\n",
    "# DNA配列のダウンロード\n",
    "!wget https://ftp.ensemblgenomes.ebi.ac.uk/pub/fungi/release-60/fasta/magnaporthe_oryzae/dna/Magnaporthe_oryzae.MG8.dna.toplevel.fa.gz\n",
    "# 各遺伝子のアミノ酸配列のダウンロード\n",
    "!wget https://ftp.ensemblgenomes.ebi.ac.uk/pub/fungi/release-60/fasta/magnaporthe_oryzae/pep/Magnaporthe_oryzae.MG8.pep.all.fa.gz\n",
    "# 遺伝子のアノテーション情報のダウンロード\n",
    "!wget https://ftp.ensemblgenomes.ebi.ac.uk/pub/fungi/release-60/gtf/magnaporthe_oryzae/Magnaporthe_oryzae.MG8.60.gtf.gz"
   ]
  },
  {
   "cell_type": "markdown",
   "metadata": {
    "id": "UTRMzhim1vPW"
   },
   "source": [
    "配列データ(FASTAファイル)やアノテーション情報(gffファイル)はサイズが大きいので大抵圧縮されてgzip形式になっています。\n",
    "\n",
    "`gunzip`というコマンドで解凍が可能です。"
   ]
  },
  {
   "cell_type": "code",
   "execution_count": null,
   "metadata": {
    "id": "REHQsW5u14JV"
   },
   "outputs": [],
   "source": [
    "# 解凍\n",
    "!gunzip Magnaporthe_oryzae.MG8.dna.toplevel.fa.gz\n",
    "!gunzip Magnaporthe_oryzae.MG8.pep.all.fa.gz\n",
    "!gunzip Magnaporthe_oryzae.MG8.60.gtf.gz"
   ]
  },
  {
   "cell_type": "markdown",
   "metadata": {
    "id": "dxH96LdsIe8m"
   },
   "source": [
    "ファイルをメモ帳などで開いて中身を見ることも当然可能ですが、\n",
    "\n",
    "`head`というコマンドを使うことで、ファイルの頭からn行目までを表示させることが出来ます。\n",
    "\n",
    "```\n",
    "head -n 表示する行数 表示させたいファイル名\n",
    "```\n",
    "\n",
    "まずは先ほどダウンロードしたファイルの最初の何行かを見てみましょう。"
   ]
  },
  {
   "cell_type": "code",
   "execution_count": null,
   "metadata": {
    "id": "jAis1837HNeo"
   },
   "outputs": [],
   "source": [
    "# ゲノム配列の最初の5行を表示\n",
    "!head -n 5 Magnaporthe_oryzae.MG8.dna.toplevel.fa"
   ]
  },
  {
   "cell_type": "markdown",
   "metadata": {
    "id": "EkrWDDx5JWyB"
   },
   "source": [
    "また、`mv 元のファイル名 新しいファイル名`というコマンドでファイル名を変更することも出来ます。\n",
    "\n",
    "ファイル名が長くて以降の実習でややこしくなるので、ゲノム配列を`genome.fasta`、アミノ酸配列を`protein.fasta`、遺伝子アノテーション情報を`annotation.gtf`に変更しておきます。"
   ]
  },
  {
   "cell_type": "code",
   "execution_count": null,
   "metadata": {
    "id": "VuB-asReJl3z"
   },
   "outputs": [],
   "source": [
    "!mv Magnaporthe_oryzae.MG8.dna.toplevel.fa genome.fasta\n",
    "!mv Magnaporthe_oryzae.MG8.pep.all.fa protein.fasta\n",
    "!mv Magnaporthe_oryzae.MG8.60.gtf annotation.gtf"
   ]
  },
  {
   "cell_type": "markdown",
   "metadata": {
    "id": "g5uBo-hN2LZc"
   },
   "source": [
    "これで、イネいもち病菌のゲノム配列(genome.fasta)と全遺伝子のアミノ酸配列(protein.fasta)、遺伝子のアノテーション情報(annotation.gtf)が準備出来ました。\n",
    "\n",
    "**※色々コマンドが出てきていますが、覚える必要は無く、そういうことが出来ると知っておけばOKです。**"
   ]
  },
  {
   "cell_type": "markdown",
   "metadata": {
    "id": "wzVhiDq8Dot6"
   },
   "source": [
    "### ソフトウェアのダウンロード・インストール\n",
    "\n",
    "　次に、今回使用するソフトウェアのインストールをします。\n",
    "\n",
    "本実習では、`seqkit`と`blast+`と`gffread`を使います。使い方はまた後程順に説明していきます。\n",
    "\n",
    "今回はこちらでインストールするコマンドを準備しましたが、今後皆さんが自分のPC等の環境で行う際には、\n",
    "\n",
    "マニュアルに書いてあるインストール方法を参考にしつつインストールしてみて下さい。\n",
    "\n",
    "* `seqkit` ... https://bioinf.shenwei.me/seqkit/\n",
    "\n",
    "* `blast+` ... https://www.ncbi.nlm.nih.gov/books/NBK279690/\n",
    "\n",
    "* `gffread` ... https://ccb.jhu.edu/software/stringtie/gff.shtml#gffread"
   ]
  },
  {
   "cell_type": "code",
   "execution_count": null,
   "metadata": {
    "id": "dhzi5VvRYqZ0"
   },
   "outputs": [],
   "source": [
    "%%bash\n",
    "wget -q -O 'get_software2.sh' https://github.com/slt666666/NLR_biology_workshop_2024/raw/master/script/get_software2.sh\n",
    "bash get_software2.sh\n",
    "ls tools/"
   ]
  },
  {
   "cell_type": "markdown",
   "metadata": {
    "id": "lv3XWjNV6n1O"
   },
   "source": [
    "---\n",
    "## 1. 必要な情報をFASTAから抜き出す(seqkit)\n",
    "\n",
    "特定の遺伝子のCDS配列やアミノ酸配列が欲しい場合、\n",
    "\n",
    "素直にやるなら、アミノ酸配列のFASTAファイルから目的の遺伝子IDを検索して配列をコピーする、という形で問題無く行えると思います。\n",
    "\n",
    "しかし、複数の遺伝子の配列を取り出したい時や、特定の染色体の配列など長い配列をコピーする必要がある場合には少し手間になってきます。\n",
    "\n",
    "このような場合、`seqkit`を使用することで簡単に目的の配列を取り出すことが出来ます。\n",
    "\n",
    "<br>\n",
    "\n",
    "**課題: MGG_01000T0という遺伝子のアミノ酸配列を抜き出す。**\n",
    "\n",
    "まずは１つの遺伝子配列を取り出してみましょう。\n",
    "\n",
    "```\n",
    "# コマンド凡例\n",
    "seqkit faidx FASTAファイル名 遺伝子名\n",
    "```\n",
    "このコマンドでFASTAファイルから遺伝子名の配列を取り出せます。\n"
   ]
  },
  {
   "cell_type": "code",
   "execution_count": null,
   "metadata": {
    "id": "ewaAmSQBMFQv"
   },
   "outputs": [],
   "source": [
    "!seqkit faidx protein.fasta MGG_01000T0"
   ]
  },
  {
   "cell_type": "markdown",
   "metadata": {
    "id": "UjkAUQeuWgHS"
   },
   "source": [
    "コマンドを動かした出力結果は、コマンドの最後に`「>」`を使ってファイルに書き出すことが出来ます。\n",
    "\n",
    "```\n",
    "# コマンド凡例\n",
    "seqkit faidx FASTAファイル名 遺伝子名 > 任意のファイル名\n",
    "```"
   ]
  },
  {
   "cell_type": "code",
   "execution_count": null,
   "metadata": {
    "id": "KdCm0xW9WgPg"
   },
   "outputs": [],
   "source": [
    "!seqkit faidx protein.fasta MGG_01000T0 > MGG_01000T0.fasta"
   ]
  },
  {
   "cell_type": "markdown",
   "metadata": {
    "id": "BZl3GGo1W5E6"
   },
   "source": [
    "また、通常だと長い配列は改行して出力されますが、`-w 0`というオプションを付けると、改行を無くして出力する事も出来ます。\n",
    "\n",
    "```\n",
    "# コマンド凡例\n",
    "seqkit faidx -w 0 FASTAファイル名 遺伝子名 > 任意のファイル名\n",
    "```"
   ]
  },
  {
   "cell_type": "code",
   "execution_count": null,
   "metadata": {
    "id": "UrQIhihmXQL6"
   },
   "outputs": [],
   "source": [
    "!seqkit faidx -w 0 protein.fasta MGG_01000T0 > MGG_01000T0.fasta"
   ]
  },
  {
   "cell_type": "markdown",
   "metadata": {
    "id": "nUnZJJSjXW1Z"
   },
   "source": [
    "**練習: 3という配列(3番染色体の配列)をgenome.fastaから取り出してファイルに書き出してみましょう**\n",
    "\n",
    "XXXの部分を適宜書き換えてみてください。"
   ]
  },
  {
   "cell_type": "code",
   "execution_count": null,
   "metadata": {
    "id": "gjEzuTyUJOHI"
   },
   "outputs": [],
   "source": [
    "!seqkit faidx XXX XXX > chr3.fasta"
   ]
  },
  {
   "cell_type": "markdown",
   "metadata": {
    "id": "OJnSoogoK-pl"
   },
   "source": [
    "**課題: 複数の遺伝子のアミノ酸配列をまとめて抜き出す**\n",
    "\n",
    "次は、\n",
    "\n",
    "* MGG_01000T0\n",
    "* MGG_02000T0\n",
    "* MGG_03000T0\n",
    "* MGG_04000T0\n",
    "* MGG_05000T0\n",
    "\n",
    "の5つの配列を取り出してみます。\n",
    "\n",
    "抜き出したい遺伝子のリストを書いたテキストファイルを作成して、下記のコマンドで抜き出すことが出来ます。\n",
    "\n",
    "今回はあらかじめlist.txtというファイルを作成してあるので、これを使ってみてください。\n",
    "\n",
    "```\n",
    "# コマンド凡例\n",
    "seqkit faidx -w 0 FASTAファイル名 -l 抜き出したい遺伝子リスト > 任意のファイル名\n",
    "```"
   ]
  },
  {
   "cell_type": "code",
   "execution_count": null,
   "metadata": {
    "id": "u9ndaNpmlrxP"
   },
   "outputs": [],
   "source": [
    "!seqkit faidx -w 0 protein.fasta -l list.txt > Pickup.fasta"
   ]
  },
  {
   "cell_type": "markdown",
   "metadata": {
    "id": "ps1QcrL4nhqe"
   },
   "source": [
    "**練習: 1,2,3という配列(1~3番染色体の配列)をgenome.fastaから取り出してファイルに書き出してみましょう**\n",
    "\n",
    "下記コマンドは、genome.fastaからlist.txtに書かれた配列を取り出すコマンドになります。\n",
    "\n",
    "list.txtを適切なリストに書き換えて動かしてみてください。"
   ]
  },
  {
   "cell_type": "code",
   "execution_count": null,
   "metadata": {
    "id": "0gxuZ-ShnqEp"
   },
   "outputs": [],
   "source": [
    "!seqkit faidx -w 0 genome.fasta -l list.txt > chr1_2_3.fasta"
   ]
  },
  {
   "cell_type": "markdown",
   "metadata": {
    "id": "he7sl2-Xle7y"
   },
   "source": [
    "## 2. 遺伝子Aと相同性のある配列をFASTAから抜き出す(blast, seqkit)\n",
    "\n",
    "Blastは[webサイト](https://blast.ncbi.nlm.nih.gov/Blast.cgi)で行うことが多いかもしれませんが、ツールとして活用することも可能です。(Local blastと言ったりします。)\n",
    "\n",
    "[NCBIのblast](https://blast.ncbi.nlm.nih.gov/Blast.cgi)では、NCBIのデータベースに対して相同性の高い配列を探すことが出来ます。\n",
    "\n",
    "一方、ツールとしてBlastを使うことで、任意の配列データの中から、相同性の高い配列を探すことが出来ます。\n",
    "\n",
    "<img src=\"https://github.com/slt666666/NLR_biology_workshop_2024/blob/master/images/blast.png?raw=true\" alt=\"artificial_selection\" height=\"250px\" align=\"middle\">\n",
    "\n",
    "今回は、Avr-Pikというエフェクターをコードする遺伝子(AB498879.1)の配列が、イネいもち菌のどの染色体にあるか探してみましょう。\n",
    "\n",
    "AVR-Pikの配列は[ここ](https://www.ncbi.nlm.nih.gov/nuccore/AB498879)のものを利用しました([Yoshida et al., 2009](https://doi.org/10.1105/tpc.109.066324))。\n",
    "\n",
    "<img src=\"https://github.com/CropEvol/lecture/blob/master/textbook_2025/images/blast_sample.png?raw=true\" alt=\"blast_sample\" height=\"300px\" align=\"middle\">\n",
    "\n",
    "<br>\n",
    "\n",
    "Local blastを使う際には、まず検索対象の配列のデータベースを作成します。\n",
    "\n",
    "```\n",
    "# コマンド凡例\n",
    "makeblastdb -in FASTAファイル名 -dbtype nucl -hash_index\n",
    "```\n",
    "\n",
    "今回は、ゲノム配列に対して検索をかけたいので、検索対象の配列は`genome.fasta`になります。\n",
    "\n",
    "\n"
   ]
  },
  {
   "cell_type": "code",
   "execution_count": null,
   "metadata": {
    "id": "gYNDmvxJpQot"
   },
   "outputs": [],
   "source": [
    "!makeblastdb -in genome.fasta -dbtype nucl -hash_index"
   ]
  },
  {
   "cell_type": "markdown",
   "metadata": {
    "id": "YfGN6ppitQ7F"
   },
   "source": [
    "続いて、blastを実行します。塩基配列を検索するので`blastn`というコマンドを使用します。\n",
    "\n",
    "検索したい配列(AVR-PikのCDS配列)は、`AVR_Pik_CDS.fasta`というファイルになります。\n",
    "\n",
    "```\n",
    "# コマンド凡例\n",
    "blastn -db 先ほど作成したデータベース名(FASTAファイル名) -query 検索したい配列のFASTAファイル -out 任意のファイル名.txt\n",
    "\n",
    "```"
   ]
  },
  {
   "cell_type": "code",
   "execution_count": null,
   "metadata": {
    "id": "GP9BitTMt5hs"
   },
   "outputs": [],
   "source": [
    "!blastn -db genome.fasta -query AVR_Pik_CDS.fasta -out blastn_result.txt"
   ]
  },
  {
   "cell_type": "markdown",
   "metadata": {
    "id": "tIjrk-S8u0s3"
   },
   "source": [
    "デフォルトの設定だとblast結果が見にくいので、`-outfmt`というオプションを使うことで、結果のフォーマットを変えることも出来ます。\n",
    "\n",
    "また、任意のe-valueを`-evalue`というオプションで設定して、相同性の高さの基準を決めることも可能です。\n",
    "\n",
    "```\n",
    "# コマンド凡例\n",
    "blastn -db 先ほど作成したデータベース名(FASTAファイル名) -query 検索した配列のFASTAファイル -evalue 1e-30 -outfmt 6 -out 任意のファイル名.txt\n",
    "```"
   ]
  },
  {
   "cell_type": "code",
   "execution_count": null,
   "metadata": {
    "id": "TEAo-ZxFvhS7"
   },
   "outputs": [],
   "source": [
    "!blastn -db genome.fasta -query AVR_Pik_CDS.fasta -evalue 1e-30 -outfmt 6 -out blastn_result_tab.txt"
   ]
  },
  {
   "cell_type": "markdown",
   "metadata": {
    "id": "AmBxnF6WxBWl"
   },
   "source": [
    "各列の情報は検索した配列の名前、ヒットした配列の名前、一致した位置の割合、重なった長さ...等を表しています。\n",
    "\n",
    "参考: https://www.metagenomics.wiki/tools/blast/blastn-output-format-6"
   ]
  },
  {
   "cell_type": "markdown",
   "metadata": {
    "id": "NYOTft80wIKE"
   },
   "source": [
    "**練習: アミノ酸配列の中からAVR-Pikの配列と相同性の高いものを探してみましょう**\n",
    "\n",
    "まず、1行目でアミノ酸配列のデータベースを作ります。<small>※アミノ酸配列なので -dbtypeがnuclからproになります。</small>\n",
    "\n",
    "先ほどと違って塩基配列ではなく、アミノ酸配列で検索するので`blastn`ではなく`blastp`になります。\n",
    "\n",
    "また、検索したい配列(AVR-Pikのアミノ酸配列)は、`AVR_Pik_protein.fasta`というファイルになります。\n",
    "\n",
    "XXXの部分を書き換えて動かしてみてください。\n"
   ]
  },
  {
   "cell_type": "code",
   "execution_count": null,
   "metadata": {
    "id": "zQuKFYQDxt80"
   },
   "outputs": [],
   "source": [
    "!makeblastdb -in protein.fasta -dbtype prot -hash_index\n",
    "\n",
    "!blastp -db XXX -query XXX -outfmt 6 -out blastp_result_tab.txt"
   ]
  },
  {
   "cell_type": "markdown",
   "metadata": {
    "id": "w4apwXTlyxHk"
   },
   "source": [
    "結果を見ると、いくつか似ているアミノ酸をコードする遺伝子が見つかりました。\n",
    "\n",
    "少しややこしいので詳細は省きますが、`awk`というコマンドを使うと、`2列目だけ抜き出す`みたいなことが出来ます。\n",
    "\n",
    "```\n",
    "# コマンド凡例\n",
    "awk '{print $2}' tab区切りBlast結果.txt | uniq > 任意のファイル名.txt\n",
    "```\n",
    "\n",
    "このコマンドと先ほど扱った`seqkit`を組み合わせることで、\n",
    "\n",
    "`blastでヒットした遺伝子の配列を取り出す。`といった作業をサッと行うことが出来ます。"
   ]
  },
  {
   "cell_type": "code",
   "execution_count": null,
   "metadata": {
    "id": "DnVBRq9ezsaZ"
   },
   "outputs": [],
   "source": [
    "# blast結果から2列目のみ取り出す\n",
    "!awk '{print $2}' blastp_result_tab.txt | sort | uniq > blast_gene_list.txt\n",
    "# seqkitでblastの結果で出た名前の遺伝子の配列を取り出す\n",
    "!seqkit faidx -w 0 protein.fasta -l blast_gene_list.txt > blast_gene_list.fasta"
   ]
  },
  {
   "cell_type": "markdown",
   "metadata": {
    "id": "tozs_Nz6mYJg"
   },
   "source": [
    "## 指定領域の配列をFASTAから抜き出す(seqkit)\n",
    "\n",
    "`seqkit`を使うと、領域を指定して配列を取得する事も出来ます。\n",
    "\n",
    "```\n",
    "# コマンド凡例\n",
    "seqkit faidx -w 0 FASTAファイル名 配列名:start-end > 任意のファイル名\n",
    "```\n",
    "\n",
    "先ほどAVR-Pikの配列でblastをした結果、2という配列(2番染色体)の 8229912-8229571がヒットしたかと思いますが、この領域の配列を取得してみましょう。"
   ]
  },
  {
   "cell_type": "code",
   "execution_count": null,
   "metadata": {
    "id": "70gZ_2M6qgEV"
   },
   "outputs": [],
   "source": [
    "!seqkit faidx -w 0 genome.fasta 2:8229912-8229571 > AVR_Pik_candidate.fasta"
   ]
  },
  {
   "cell_type": "markdown",
   "metadata": {
    "id": "OLV50AO-qxpc"
   },
   "source": [
    "**練習: このAVR-Pikのプロモーター候補領域として、上記の領域の3000bp手前の領域の配列を取得してみましょう。**\n",
    "\n",
    "XXXの値を書き換えて動かしてみてください。"
   ]
  },
  {
   "cell_type": "code",
   "execution_count": null,
   "metadata": {
    "id": "HTQ843yqtAlu"
   },
   "outputs": [],
   "source": [
    "!seqkit faidx -w 0 genome.fasta 2:XXX-XXX > AVR_Pik_promoter_candidate.fasta"
   ]
  },
  {
   "cell_type": "markdown",
   "metadata": {
    "id": "fHpx5v1ymmNE"
   },
   "source": [
    "## 遺伝子のアノテーション情報(gtfファイル)から遺伝子の領域を抜き出す\n",
    "\n",
    "`gtfファイル`や`gffファイル`には遺伝子のアノテーション情報が載っています。"
   ]
  },
  {
   "cell_type": "code",
   "execution_count": null,
   "metadata": {
    "id": "JoWpSWpqnMmH"
   },
   "outputs": [],
   "source": [
    "!head -n 20 annotation.gtf"
   ]
  },
  {
   "cell_type": "markdown",
   "metadata": {
    "id": "J5tGA4lUgo7o"
   },
   "source": [
    "これまでに習った様に、`seqkit`を使ってgtfファイルに記述してある遺伝子領域の配列を抜き出すことが出来ます。"
   ]
  },
  {
   "cell_type": "code",
   "execution_count": null,
   "metadata": {
    "id": "PEF5N2JRg3QB"
   },
   "outputs": [],
   "source": [
    "!seqkit faidx -w 0 genome.fasta 2:7482162-7483739 > MGG_10811_dna.fasta"
   ]
  },
  {
   "cell_type": "markdown",
   "metadata": {
    "id": "6j6Ai1rwiJ2W"
   },
   "source": [
    "しかし、ある遺伝子のアミノ酸配列を取り出すことを考えると\n",
    "1. gtfファイルの情報を元に、複数のexonの領域を抜き出してくる\n",
    "1. 抜き出したexonの領域をつなぎ合わせる\n",
    "1. コドン表に従ってアミノ酸配列に変換する\n",
    "\n",
    "といった形で手間がかかります。\n",
    "\n",
    "そのため、gtfファイルの情報を配列を取り出す際には`gffread`というツールが良く使用されます。\n",
    "\n",
    "`gffread`を使うことで、gtfやgffファイルに基づいてCDS配列やアミノ酸配列を簡単に取り出すことが出来ます。\n",
    "\n",
    "例えば、指定領域内に含まれる遺伝子のCDS、アミノ酸配列を一気に抜き出すには以下の様なコマンドになります。\n",
    "\n",
    "```\n",
    "# コマンド凡例\n",
    "$ gffread gtfファイル名 -g 対応するFASTAファイル名 -r 染色体名:start-end -x CDS配列の出力ファイル名 -y アミノ酸配列の出力ファイル名\n",
    "```"
   ]
  },
  {
   "cell_type": "code",
   "execution_count": null,
   "metadata": {
    "id": "fio_frxGmwCT"
   },
   "outputs": [],
   "source": [
    "# 1番染色体の1~1mbpに位置する遺伝子のCDS配列とアミノ酸配列を取り出す\n",
    "!gffread annotation.gtf -g genome.fasta -r 1:1-1000000 -x CDS_chr01_1mb.fasta -y pep_chr01_1mb.fasta"
   ]
  },
  {
   "cell_type": "markdown",
   "metadata": {
    "id": "v8vctefE61Uf"
   },
   "source": [
    "## seqkitで出来る他のこと\n",
    "\n",
    "`seqkit`にはほかにも様々な機能があります。\n",
    "\n",
    "FASTQファイルからFASTAファイルへの変換"
   ]
  },
  {
   "cell_type": "code",
   "execution_count": null,
   "metadata": {
    "id": "JqKXw8h8tbUb"
   },
   "outputs": [],
   "source": [
    "!seqkit fq2fa sample.fastq.gz > sample.fasta"
   ]
  },
  {
   "cell_type": "markdown",
   "metadata": {
    "id": "CaZiNRY0tbgW"
   },
   "source": [
    "FASTQファイルの統計値をみる"
   ]
  },
  {
   "cell_type": "code",
   "execution_count": null,
   "metadata": {
    "id": "Myctjcw9tbpi"
   },
   "outputs": [],
   "source": [
    "!seqkit stats sample.fastq.gz"
   ]
  },
  {
   "cell_type": "markdown",
   "metadata": {
    "id": "JvyuZgP4zmz6"
   },
   "source": [
    "FASTAファイルから指定の長さ以上の配列だけを取り出す"
   ]
  },
  {
   "cell_type": "code",
   "execution_count": null,
   "metadata": {
    "id": "L0HkQq3ezmO0"
   },
   "outputs": [],
   "source": [
    "!seqkit seq -m 10000 sample.fasta > over10000.fasta"
   ]
  },
  {
   "cell_type": "markdown",
   "metadata": {
    "id": "lUiy6I-3z6hm"
   },
   "source": [
    "FASTAファイルの統計値をみる"
   ]
  },
  {
   "cell_type": "code",
   "execution_count": null,
   "metadata": {
    "id": "1OAY_J50z6rY"
   },
   "outputs": [],
   "source": [
    "!seqkit stats -a over10000.fasta"
   ]
  },
  {
   "cell_type": "markdown",
   "metadata": {
    "id": "qOlb0pHr0JgG"
   },
   "source": [
    "配列をreverse complementaryする"
   ]
  },
  {
   "cell_type": "code",
   "execution_count": null,
   "metadata": {
    "id": "Xe_I4xO-0Jt7"
   },
   "outputs": [],
   "source": [
    "!seqkit seq -pr sample.fasta> reverse_complementary.fasta"
   ]
  },
  {
   "cell_type": "markdown",
   "metadata": {
    "id": "tlf5iwEb6_MP"
   },
   "source": [
    "---\n",
    "## まとめ・補足\n",
    "\n",
    "　ここでは`seqkit`と`blast+`と`gffread`を使って基本的なFASTAファイルの扱い方を試しました。\n",
    "\n",
    "他にも配列データを扱うツールやコマンドは多数あり、より効率的にFASTAファイルやFASTQファイルを扱うことが可能になります。\n",
    "\n",
    "大規模なゲノムデータを扱う場合には特に重要になってくるので、必要になれば勉強してみてください。"
   ]
  },
  {
   "cell_type": "code",
   "execution_count": null,
   "metadata": {
    "id": "QPdoCErP5PVb"
   },
   "outputs": [],
   "source": []
  }
 ],
 "metadata": {
  "colab": {
   "provenance": [],
   "toc_visible": true
  },
  "kernelspec": {
   "display_name": "Python 3",
   "name": "python3"
  },
  "language_info": {
   "name": "python"
  }
 },
 "nbformat": 4,
 "nbformat_minor": 0
}
